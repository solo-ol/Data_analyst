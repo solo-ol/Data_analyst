{
 "cells": [
  {
   "cell_type": "markdown",
   "metadata": {},
   "source": [
    "# Исследование объявлений о продаже квартир\n",
    "\n",
    "В вашем распоряжении данные сервиса Яндекс.Недвижимость — архив объявлений о продаже квартир в Санкт-Петербурге и соседних населённых пунктов за несколько лет. Нужно научиться определять рыночную стоимость объектов недвижимости. Ваша задача — установить параметры. Это позволит построить автоматизированную систему: она отследит аномалии и мошенническую деятельность. \n",
    "\n",
    "По каждой квартире на продажу доступны два вида данных. Первые вписаны пользователем, вторые — получены автоматически на основе картографических данных. Например, расстояние до центра, аэропорта, ближайшего парка и водоёма. "
   ]
  },
  {
   "cell_type": "markdown",
   "metadata": {},
   "source": [
    "### Откройте файл с данными и изучите общую информацию. "
   ]
  },
  {
   "cell_type": "code",
   "execution_count": 2,
   "metadata": {
    "scrolled": true
   },
   "outputs": [
    {
     "name": "stdout",
     "output_type": "stream",
     "text": [
      "<class 'pandas.core.frame.DataFrame'>\n",
      "RangeIndex: 23699 entries, 0 to 23698\n",
      "Data columns (total 22 columns):\n",
      " #   Column                Non-Null Count  Dtype  \n",
      "---  ------                --------------  -----  \n",
      " 0   total_images          23699 non-null  int64  \n",
      " 1   last_price            23699 non-null  float64\n",
      " 2   total_area            23699 non-null  float64\n",
      " 3   first_day_exposition  23699 non-null  object \n",
      " 4   rooms                 23699 non-null  int64  \n",
      " 5   ceiling_height        14504 non-null  float64\n",
      " 6   floors_total          23613 non-null  float64\n",
      " 7   living_area           21796 non-null  float64\n",
      " 8   floor                 23699 non-null  int64  \n",
      " 9   is_apartment          2775 non-null   object \n",
      " 10  studio                23699 non-null  bool   \n",
      " 11  open_plan             23699 non-null  bool   \n",
      " 12  kitchen_area          21421 non-null  float64\n",
      " 13  balcony               12180 non-null  float64\n",
      " 14  locality_name         23650 non-null  object \n",
      " 15  airports_nearest      18157 non-null  float64\n",
      " 16  cityCenters_nearest   18180 non-null  float64\n",
      " 17  parks_around3000      18181 non-null  float64\n",
      " 18  parks_nearest         8079 non-null   float64\n",
      " 19  ponds_around3000      18181 non-null  float64\n",
      " 20  ponds_nearest         9110 non-null   float64\n",
      " 21  days_exposition       20518 non-null  float64\n",
      "dtypes: bool(2), float64(14), int64(3), object(3)\n",
      "memory usage: 3.7+ MB\n"
     ]
    },
    {
     "data": {
      "text/html": [
       "<div>\n",
       "<style scoped>\n",
       "    .dataframe tbody tr th:only-of-type {\n",
       "        vertical-align: middle;\n",
       "    }\n",
       "\n",
       "    .dataframe tbody tr th {\n",
       "        vertical-align: top;\n",
       "    }\n",
       "\n",
       "    .dataframe thead th {\n",
       "        text-align: right;\n",
       "    }\n",
       "</style>\n",
       "<table border=\"1\" class=\"dataframe\">\n",
       "  <thead>\n",
       "    <tr style=\"text-align: right;\">\n",
       "      <th></th>\n",
       "      <th>total_images</th>\n",
       "      <th>last_price</th>\n",
       "      <th>total_area</th>\n",
       "      <th>first_day_exposition</th>\n",
       "      <th>rooms</th>\n",
       "      <th>ceiling_height</th>\n",
       "      <th>floors_total</th>\n",
       "      <th>living_area</th>\n",
       "      <th>floor</th>\n",
       "      <th>is_apartment</th>\n",
       "      <th>...</th>\n",
       "      <th>kitchen_area</th>\n",
       "      <th>balcony</th>\n",
       "      <th>locality_name</th>\n",
       "      <th>airports_nearest</th>\n",
       "      <th>cityCenters_nearest</th>\n",
       "      <th>parks_around3000</th>\n",
       "      <th>parks_nearest</th>\n",
       "      <th>ponds_around3000</th>\n",
       "      <th>ponds_nearest</th>\n",
       "      <th>days_exposition</th>\n",
       "    </tr>\n",
       "  </thead>\n",
       "  <tbody>\n",
       "    <tr>\n",
       "      <th>0</th>\n",
       "      <td>20</td>\n",
       "      <td>13000000.0</td>\n",
       "      <td>108.00</td>\n",
       "      <td>2019-03-07T00:00:00</td>\n",
       "      <td>3</td>\n",
       "      <td>2.70</td>\n",
       "      <td>16.0</td>\n",
       "      <td>51.00</td>\n",
       "      <td>8</td>\n",
       "      <td>NaN</td>\n",
       "      <td>...</td>\n",
       "      <td>25.00</td>\n",
       "      <td>NaN</td>\n",
       "      <td>Санкт-Петербург</td>\n",
       "      <td>18863.0</td>\n",
       "      <td>16028.0</td>\n",
       "      <td>1.0</td>\n",
       "      <td>482.0</td>\n",
       "      <td>2.0</td>\n",
       "      <td>755.0</td>\n",
       "      <td>NaN</td>\n",
       "    </tr>\n",
       "    <tr>\n",
       "      <th>1</th>\n",
       "      <td>7</td>\n",
       "      <td>3350000.0</td>\n",
       "      <td>40.40</td>\n",
       "      <td>2018-12-04T00:00:00</td>\n",
       "      <td>1</td>\n",
       "      <td>NaN</td>\n",
       "      <td>11.0</td>\n",
       "      <td>18.60</td>\n",
       "      <td>1</td>\n",
       "      <td>NaN</td>\n",
       "      <td>...</td>\n",
       "      <td>11.00</td>\n",
       "      <td>2.0</td>\n",
       "      <td>посёлок Шушары</td>\n",
       "      <td>12817.0</td>\n",
       "      <td>18603.0</td>\n",
       "      <td>0.0</td>\n",
       "      <td>NaN</td>\n",
       "      <td>0.0</td>\n",
       "      <td>NaN</td>\n",
       "      <td>81.0</td>\n",
       "    </tr>\n",
       "    <tr>\n",
       "      <th>2</th>\n",
       "      <td>10</td>\n",
       "      <td>5196000.0</td>\n",
       "      <td>56.00</td>\n",
       "      <td>2015-08-20T00:00:00</td>\n",
       "      <td>2</td>\n",
       "      <td>NaN</td>\n",
       "      <td>5.0</td>\n",
       "      <td>34.30</td>\n",
       "      <td>4</td>\n",
       "      <td>NaN</td>\n",
       "      <td>...</td>\n",
       "      <td>8.30</td>\n",
       "      <td>0.0</td>\n",
       "      <td>Санкт-Петербург</td>\n",
       "      <td>21741.0</td>\n",
       "      <td>13933.0</td>\n",
       "      <td>1.0</td>\n",
       "      <td>90.0</td>\n",
       "      <td>2.0</td>\n",
       "      <td>574.0</td>\n",
       "      <td>558.0</td>\n",
       "    </tr>\n",
       "    <tr>\n",
       "      <th>3</th>\n",
       "      <td>0</td>\n",
       "      <td>64900000.0</td>\n",
       "      <td>159.00</td>\n",
       "      <td>2015-07-24T00:00:00</td>\n",
       "      <td>3</td>\n",
       "      <td>NaN</td>\n",
       "      <td>14.0</td>\n",
       "      <td>NaN</td>\n",
       "      <td>9</td>\n",
       "      <td>NaN</td>\n",
       "      <td>...</td>\n",
       "      <td>NaN</td>\n",
       "      <td>0.0</td>\n",
       "      <td>Санкт-Петербург</td>\n",
       "      <td>28098.0</td>\n",
       "      <td>6800.0</td>\n",
       "      <td>2.0</td>\n",
       "      <td>84.0</td>\n",
       "      <td>3.0</td>\n",
       "      <td>234.0</td>\n",
       "      <td>424.0</td>\n",
       "    </tr>\n",
       "    <tr>\n",
       "      <th>4</th>\n",
       "      <td>2</td>\n",
       "      <td>10000000.0</td>\n",
       "      <td>100.00</td>\n",
       "      <td>2018-06-19T00:00:00</td>\n",
       "      <td>2</td>\n",
       "      <td>3.03</td>\n",
       "      <td>14.0</td>\n",
       "      <td>32.00</td>\n",
       "      <td>13</td>\n",
       "      <td>NaN</td>\n",
       "      <td>...</td>\n",
       "      <td>41.00</td>\n",
       "      <td>NaN</td>\n",
       "      <td>Санкт-Петербург</td>\n",
       "      <td>31856.0</td>\n",
       "      <td>8098.0</td>\n",
       "      <td>2.0</td>\n",
       "      <td>112.0</td>\n",
       "      <td>1.0</td>\n",
       "      <td>48.0</td>\n",
       "      <td>121.0</td>\n",
       "    </tr>\n",
       "    <tr>\n",
       "      <th>5</th>\n",
       "      <td>10</td>\n",
       "      <td>2890000.0</td>\n",
       "      <td>30.40</td>\n",
       "      <td>2018-09-10T00:00:00</td>\n",
       "      <td>1</td>\n",
       "      <td>NaN</td>\n",
       "      <td>12.0</td>\n",
       "      <td>14.40</td>\n",
       "      <td>5</td>\n",
       "      <td>NaN</td>\n",
       "      <td>...</td>\n",
       "      <td>9.10</td>\n",
       "      <td>NaN</td>\n",
       "      <td>городской посёлок Янино-1</td>\n",
       "      <td>NaN</td>\n",
       "      <td>NaN</td>\n",
       "      <td>NaN</td>\n",
       "      <td>NaN</td>\n",
       "      <td>NaN</td>\n",
       "      <td>NaN</td>\n",
       "      <td>55.0</td>\n",
       "    </tr>\n",
       "    <tr>\n",
       "      <th>6</th>\n",
       "      <td>6</td>\n",
       "      <td>3700000.0</td>\n",
       "      <td>37.30</td>\n",
       "      <td>2017-11-02T00:00:00</td>\n",
       "      <td>1</td>\n",
       "      <td>NaN</td>\n",
       "      <td>26.0</td>\n",
       "      <td>10.60</td>\n",
       "      <td>6</td>\n",
       "      <td>NaN</td>\n",
       "      <td>...</td>\n",
       "      <td>14.40</td>\n",
       "      <td>1.0</td>\n",
       "      <td>посёлок Парголово</td>\n",
       "      <td>52996.0</td>\n",
       "      <td>19143.0</td>\n",
       "      <td>0.0</td>\n",
       "      <td>NaN</td>\n",
       "      <td>0.0</td>\n",
       "      <td>NaN</td>\n",
       "      <td>155.0</td>\n",
       "    </tr>\n",
       "    <tr>\n",
       "      <th>7</th>\n",
       "      <td>5</td>\n",
       "      <td>7915000.0</td>\n",
       "      <td>71.60</td>\n",
       "      <td>2019-04-18T00:00:00</td>\n",
       "      <td>2</td>\n",
       "      <td>NaN</td>\n",
       "      <td>24.0</td>\n",
       "      <td>NaN</td>\n",
       "      <td>22</td>\n",
       "      <td>NaN</td>\n",
       "      <td>...</td>\n",
       "      <td>18.90</td>\n",
       "      <td>2.0</td>\n",
       "      <td>Санкт-Петербург</td>\n",
       "      <td>23982.0</td>\n",
       "      <td>11634.0</td>\n",
       "      <td>0.0</td>\n",
       "      <td>NaN</td>\n",
       "      <td>0.0</td>\n",
       "      <td>NaN</td>\n",
       "      <td>NaN</td>\n",
       "    </tr>\n",
       "    <tr>\n",
       "      <th>8</th>\n",
       "      <td>20</td>\n",
       "      <td>2900000.0</td>\n",
       "      <td>33.16</td>\n",
       "      <td>2018-05-23T00:00:00</td>\n",
       "      <td>1</td>\n",
       "      <td>NaN</td>\n",
       "      <td>27.0</td>\n",
       "      <td>15.43</td>\n",
       "      <td>26</td>\n",
       "      <td>NaN</td>\n",
       "      <td>...</td>\n",
       "      <td>8.81</td>\n",
       "      <td>NaN</td>\n",
       "      <td>посёлок Мурино</td>\n",
       "      <td>NaN</td>\n",
       "      <td>NaN</td>\n",
       "      <td>NaN</td>\n",
       "      <td>NaN</td>\n",
       "      <td>NaN</td>\n",
       "      <td>NaN</td>\n",
       "      <td>189.0</td>\n",
       "    </tr>\n",
       "    <tr>\n",
       "      <th>9</th>\n",
       "      <td>18</td>\n",
       "      <td>5400000.0</td>\n",
       "      <td>61.00</td>\n",
       "      <td>2017-02-26T00:00:00</td>\n",
       "      <td>3</td>\n",
       "      <td>2.50</td>\n",
       "      <td>9.0</td>\n",
       "      <td>43.60</td>\n",
       "      <td>7</td>\n",
       "      <td>NaN</td>\n",
       "      <td>...</td>\n",
       "      <td>6.50</td>\n",
       "      <td>2.0</td>\n",
       "      <td>Санкт-Петербург</td>\n",
       "      <td>50898.0</td>\n",
       "      <td>15008.0</td>\n",
       "      <td>0.0</td>\n",
       "      <td>NaN</td>\n",
       "      <td>0.0</td>\n",
       "      <td>NaN</td>\n",
       "      <td>289.0</td>\n",
       "    </tr>\n",
       "  </tbody>\n",
       "</table>\n",
       "<p>10 rows × 22 columns</p>\n",
       "</div>"
      ],
      "text/plain": [
       "   total_images  last_price  total_area first_day_exposition  rooms  \\\n",
       "0            20  13000000.0      108.00  2019-03-07T00:00:00      3   \n",
       "1             7   3350000.0       40.40  2018-12-04T00:00:00      1   \n",
       "2            10   5196000.0       56.00  2015-08-20T00:00:00      2   \n",
       "3             0  64900000.0      159.00  2015-07-24T00:00:00      3   \n",
       "4             2  10000000.0      100.00  2018-06-19T00:00:00      2   \n",
       "5            10   2890000.0       30.40  2018-09-10T00:00:00      1   \n",
       "6             6   3700000.0       37.30  2017-11-02T00:00:00      1   \n",
       "7             5   7915000.0       71.60  2019-04-18T00:00:00      2   \n",
       "8            20   2900000.0       33.16  2018-05-23T00:00:00      1   \n",
       "9            18   5400000.0       61.00  2017-02-26T00:00:00      3   \n",
       "\n",
       "   ceiling_height  floors_total  living_area  floor is_apartment  ...  \\\n",
       "0            2.70          16.0        51.00      8          NaN  ...   \n",
       "1             NaN          11.0        18.60      1          NaN  ...   \n",
       "2             NaN           5.0        34.30      4          NaN  ...   \n",
       "3             NaN          14.0          NaN      9          NaN  ...   \n",
       "4            3.03          14.0        32.00     13          NaN  ...   \n",
       "5             NaN          12.0        14.40      5          NaN  ...   \n",
       "6             NaN          26.0        10.60      6          NaN  ...   \n",
       "7             NaN          24.0          NaN     22          NaN  ...   \n",
       "8             NaN          27.0        15.43     26          NaN  ...   \n",
       "9            2.50           9.0        43.60      7          NaN  ...   \n",
       "\n",
       "   kitchen_area  balcony              locality_name  airports_nearest  \\\n",
       "0         25.00      NaN            Санкт-Петербург           18863.0   \n",
       "1         11.00      2.0             посёлок Шушары           12817.0   \n",
       "2          8.30      0.0            Санкт-Петербург           21741.0   \n",
       "3           NaN      0.0            Санкт-Петербург           28098.0   \n",
       "4         41.00      NaN            Санкт-Петербург           31856.0   \n",
       "5          9.10      NaN  городской посёлок Янино-1               NaN   \n",
       "6         14.40      1.0          посёлок Парголово           52996.0   \n",
       "7         18.90      2.0            Санкт-Петербург           23982.0   \n",
       "8          8.81      NaN             посёлок Мурино               NaN   \n",
       "9          6.50      2.0            Санкт-Петербург           50898.0   \n",
       "\n",
       "  cityCenters_nearest  parks_around3000  parks_nearest  ponds_around3000  \\\n",
       "0             16028.0               1.0          482.0               2.0   \n",
       "1             18603.0               0.0            NaN               0.0   \n",
       "2             13933.0               1.0           90.0               2.0   \n",
       "3              6800.0               2.0           84.0               3.0   \n",
       "4              8098.0               2.0          112.0               1.0   \n",
       "5                 NaN               NaN            NaN               NaN   \n",
       "6             19143.0               0.0            NaN               0.0   \n",
       "7             11634.0               0.0            NaN               0.0   \n",
       "8                 NaN               NaN            NaN               NaN   \n",
       "9             15008.0               0.0            NaN               0.0   \n",
       "\n",
       "   ponds_nearest  days_exposition  \n",
       "0          755.0              NaN  \n",
       "1            NaN             81.0  \n",
       "2          574.0            558.0  \n",
       "3          234.0            424.0  \n",
       "4           48.0            121.0  \n",
       "5            NaN             55.0  \n",
       "6            NaN            155.0  \n",
       "7            NaN              NaN  \n",
       "8            NaN            189.0  \n",
       "9            NaN            289.0  \n",
       "\n",
       "[10 rows x 22 columns]"
      ]
     },
     "execution_count": 2,
     "metadata": {},
     "output_type": "execute_result"
    },
    {
     "data": {
      "image/png": "[encoded data removed]",
      "text/plain": [
       "<Figure size 1080x1440 with 20 Axes>"
      ]
     },
     "metadata": {
      "needs_background": "light"
     },
     "output_type": "display_data"
    }
   ],
   "source": [
    "data = pd.read_csv('/datasets/real_estate_data.csv', sep = '\\t')\n",
    "\n",
    "data.info() #общая информация о датафрейме\n",
    "data.hist(figsize=(15,20)) # выводим гистограмы\n",
    "data.head(10)\n"
   ]
  },
  {
   "cell_type": "markdown",
   "metadata": {},
   "source": [
    "### Предобработка данных"
   ]
  },
  {
   "cell_type": "code",
   "execution_count": 3,
   "metadata": {},
   "outputs": [
    {
     "name": "stdout",
     "output_type": "stream",
     "text": [
      "0    15277\n",
      "1     4195\n",
      "2     3659\n",
      "5      304\n",
      "4      183\n",
      "3       81\n",
      "Name: balcony, dtype: int64\n",
      "False    23649\n",
      "True        50\n",
      "Name: is_apartment, dtype: int64\n",
      "Санкт-Петербург                      15721\n",
      "посёлок Мурино                         522\n",
      "посёлок Шушары                         440\n",
      "Всеволожск                             398\n",
      "Пушкин                                 369\n",
      "                                     ...  \n",
      "поселок Цвылёво                          1\n",
      "садовое товарищество Приладожский        1\n",
      "поселок Тёсово-4                         1\n",
      "поселок Гончарово                        1\n",
      "деревня Курковицы                        1\n",
      "Name: locality_name, Length: 365, dtype: int64\n"
     ]
    }
   ],
   "source": [
    "data['balcony'] = data['balcony'].fillna(value = 0.0).astype(int)\n",
    "print(data['balcony'].value_counts())\n",
    "data['is_apartment'] = data['is_apartment'].fillna(value = 0).astype(bool)\n",
    "print(data['is_apartment'].value_counts())\n",
    "data['locality_name'] = data['locality_name'].fillna('')\n",
    "print(data['locality_name'].value_counts())\n",
    "\n",
    "data['first_day_exposition'] = pd.to_datetime(\n",
    "    data['first_day_exposition'], format='%Y-%m-%dT%H:%M:%S')\n",
    "\n",
    "data['days_exposition'].round().astype('Int32', errors='ignore')\n",
    "\n",
    "pd.DataFrame(data.isna().mean()*100).style.set_precision(1).background_gradient('coolwarm') \n",
    "\n",
    "data['last_price'] = data['last_price'].astype(int)\n"
   ]
  },
  {
   "cell_type": "markdown",
   "metadata": {},
   "source": [
    " # Описание проделанной работы\n",
    "\n",
    "Заполнил пропущенные значения наличия is_apartment и balcony, так как можно подразумевать, что если данных нет, значит это НЕ апартамент и НЕТ балкона. Остальные данные решил не трогать, так как точно распознать их нельзя. Попытался найти правда расстояние от населённого пункта до аэропорта и так далее, но не учёл того, что нам могли не указать каких либо населённых пунктов вовсе, поэтому так же решил эти пункты не заполнять, оставил в комментариях как наработки.\n",
    "\n",
    "first_day_exposition перевёл в дату из строк.\n",
    "\n",
    "Населённые пункты заполнил пустыми строками, чтобы не было пустых данных.\n",
    "\n",
    "#Количество этажей, количество парков и водоёмов в радиусе 3000 метров перевёл в тип данных - int, так как их не может быть 2.1 и так далее. Не может быть 2.1 этажа в доме или 4.3 водоёма. (хотя вероятно ответ неверный, так как я все пустые значения превратил в 0)\n",
    "\n",
    "cityCenters_nearest добавил пустые значения."
   ]
  },
  {
   "cell_type": "code",
   "execution_count": 4,
   "metadata": {},
   "outputs": [
    {
     "name": "stdout",
     "output_type": "stream",
     "text": [
      "365\n"
     ]
    }
   ],
   "source": [
    "print(data['locality_name'].nunique())"
   ]
  },
  {
   "cell_type": "code",
   "execution_count": 5,
   "metadata": {},
   "outputs": [
    {
     "name": "stdout",
     "output_type": "stream",
     "text": [
      "Санкт-Петербург                            15721\n",
      "посёлок Мурино                               522\n",
      "посёлок Шушары                               440\n",
      "Всеволожск                                   398\n",
      "Пушкин                                       369\n",
      "Колпино                                      338\n",
      "посёлок Парголово                            327\n",
      "Гатчина                                      307\n",
      "деревня Кудрово                              299\n",
      "Выборг                                       237\n",
      "Петергоф                                     201\n",
      "Сестрорецк                                   183\n",
      "Красное Село                                 178\n",
      "Кудрово                                      173\n",
      "деревня Новое Девяткино                      144\n",
      "Сертолово                                    142\n",
      "Ломоносов                                    133\n",
      "Кириши                                       125\n",
      "Сланцы                                       112\n",
      "Волхов                                       111\n",
      "Тосно                                        104\n",
      "Кингисепп                                    104\n",
      "Кронштадт                                     96\n",
      "Никольское                                    93\n",
      "Коммунар                                      89\n",
      "Сосновый Бор                                  87\n",
      "Кировск                                       84\n",
      "Отрадное                                      80\n",
      "посёлок Бугры                                 69\n",
      "Приозерск                                     66\n",
      "посёлок Металлострой                          66\n",
      "деревня Старая                                64\n",
      "городской посёлок Янино-1                     61\n",
      "Шлиссельбург                                  57\n",
      "Луга                                          56\n",
      "Тихвин                                        49\n",
      "                                              49\n",
      "поселок Бугры                                 45\n",
      "посёлок Стрельна                              44\n",
      "посёлок Тельмана                              39\n",
      "Павловск                                      38\n",
      "Волосово                                      36\n",
      "поселок Романовка                             36\n",
      "поселок Мурино                                34\n",
      "Мурино                                        34\n",
      "посёлок городского типа Сиверский             29\n",
      "городской посёлок Новоселье                   28\n",
      "Ивангород                                     28\n",
      "городской посёлок Мга                         27\n",
      "поселок городского типа имени Свердлова       25\n",
      "Зеленогорск                                   24\n",
      "Сясьстрой                                     24\n",
      "посёлок Щеглово                               23\n",
      "посёлок городского типа Кузьмоловский         22\n",
      "поселок городского типа Синявино              21\n",
      "посёлок Новогорелово                          20\n",
      "деревня Лесколово                             20\n",
      "посёлок Понтонный                             20\n",
      "Лодейное Поле                                 20\n",
      "деревня Вартемяги                             20\n",
      "Name: locality_name, dtype: int64\n",
      "365\n",
      "Санкт-Петербург            15721\n",
      "Мурино                       590\n",
      "поселок Шушары               440\n",
      "Всеволожск                   398\n",
      "Пушкин                       369\n",
      "Колпино                      338\n",
      "поселок Парголово            327\n",
      "Гатчина                      307\n",
      "деревня Кудрово              299\n",
      "Выборг                       237\n",
      "Петергоф                     201\n",
      "Сестрорецк                   183\n",
      "Красное Село                 178\n",
      "Кудрово                      173\n",
      "деревня Новое Девяткино      144\n",
      "Сертолово                    142\n",
      "Ломоносов                    133\n",
      "Кириши                       125\n",
      "поселок Бугры                114\n",
      "Сланцы                       112\n",
      "Волхов                       111\n",
      "Кингисепп                    104\n",
      "Тосно                        104\n",
      "Кронштадт                     96\n",
      "Никольское                    93\n",
      "Коммунар                      89\n",
      "Сосновый Бор                  87\n",
      "Кировск                       84\n",
      "Отрадное                      80\n",
      "поселок Янино-1               68\n",
      "поселок Металлострой          66\n",
      "Приозерск                     66\n",
      "деревня Старая                64\n",
      "Шлиссельбург                  57\n",
      "Луга                          56\n",
      "Тихвин                        49\n",
      "                              49\n",
      "поселок Стрельна              44\n",
      "поселок Тельмана              41\n",
      "поселок Рощино                39\n",
      "Павловск                      38\n",
      "поселок Романовка             36\n",
      "поселок имени Свердлова       36\n",
      "Волосово                      36\n",
      "поселок Кузьмоловский         35\n",
      "поселок Мга                   33\n",
      "поселок Сиверский             29\n",
      "Ивангород                     28\n",
      "поселок Новоселье             28\n",
      "Зеленогорск                   24\n",
      "Сясьстрой                     24\n",
      "поселок Щеглово               23\n",
      "поселок Новый Свет            22\n",
      "поселок Вырица                22\n",
      "поселок Синявино              21\n",
      "поселок Токсово               20\n",
      "поселок Новогорелово          20\n",
      "деревня Вартемяги             20\n",
      "поселок Понтонный             20\n",
      "деревня Лесколово             20\n",
      "Name: locality_name, dtype: int64\n",
      "322\n"
     ]
    },
    {
     "data": {
      "text/plain": [
       "0        13000000\n",
       "1         3350000\n",
       "2         5196000\n",
       "3        64900000\n",
       "4        10000000\n",
       "           ...   \n",
       "23694     9700000\n",
       "23695     3100000\n",
       "23696     2500000\n",
       "23697    11475000\n",
       "23698     1350000\n",
       "Name: last_price, Length: 23699, dtype: int64"
      ]
     },
     "execution_count": 5,
     "metadata": {},
     "output_type": "execute_result"
    }
   ],
   "source": [
    "#Задание с изучением столбца с названиями.\n",
    "\n",
    "#print(data['locality_name'].unique())  \n",
    "print(data['locality_name'].value_counts().head(60))\n",
    "print(data['locality_name'].nunique())\n",
    "\n",
    "\n",
    "data['locality_name'] = data['locality_name'].str.replace('поселок','посёлок')\n",
    "data['locality_name'] = data['locality_name'].str.replace('городской поселок','посёлок')\n",
    "data['locality_name'] = data['locality_name'].str.replace('поселок городского типа','посёлок')\n",
    "data['locality_name'] = data['locality_name'].str.replace('городской посёлок','посёлок')\n",
    "data['locality_name'] = data['locality_name'].str.replace('посёлок городского типа','посёлок')\n",
    "data['locality_name'] = data['locality_name'].str.replace('посёлок Мурино','Мурино')\n",
    "data['locality_name'] = data['locality_name'].str.replace('ё','е')\n",
    "\n",
    "print(data['locality_name'].value_counts().head(60))\n",
    "print(data['locality_name'].nunique())\n",
    "#print(data['locality_name'].unique())  \n",
    "data['last_price']"
   ]
  },
  {
   "cell_type": "markdown",
   "metadata": {},
   "source": [
    "Подвёл все неявные дубликаты к виду 'посёлок', убрал слово 'деревня' перед названиями населённых пунктов."
   ]
  },
  {
   "cell_type": "code",
   "execution_count": 6,
   "metadata": {},
   "outputs": [
    {
     "name": "stdout",
     "output_type": "stream",
     "text": [
      "2.50    3522\n",
      "2.60    1647\n",
      "2.70    1582\n",
      "3.00    1112\n",
      "2.80     993\n",
      "        ... \n",
      "2.26       1\n",
      "3.43       1\n",
      "1.00       1\n",
      "2.34       1\n",
      "4.65       1\n",
      "Name: ceiling_height, Length: 176, dtype: int64\n",
      "[ 2.7    nan  3.03  2.5   2.67  2.56  3.05  2.75  2.6   2.9   2.8   2.55\n",
      "  3.    2.65  3.2   2.61  3.25  3.45  2.77  2.85  2.64  2.57  4.15  3.5\n",
      "  3.3   2.71  4.    2.47  2.73  2.84  3.1   2.34  3.4   3.06  2.72  2.54\n",
      "  2.51  2.78  2.76  2.58  3.7   2.52  5.2   2.87  2.66  2.59  2.    2.45\n",
      "  3.6   2.92  3.11  3.13  3.8   3.15  3.55  3.16  3.62  3.12  2.53  2.74\n",
      "  2.96  2.46  5.3   5.    2.79  2.95  4.06  2.94  3.82  3.54  3.53  2.83\n",
      "  4.7   2.4   3.38  3.01  5.6   3.65  3.9   3.18  3.35  2.3   3.57  2.48\n",
      "  2.62  2.82  3.98  2.63  3.83  3.52  3.95  3.75  2.88  3.67  3.87  3.66\n",
      "  3.85  3.86  4.19  3.24  4.8   4.5   4.2   3.36  3.08  3.68  3.07  3.37\n",
      "  3.09  8.    3.26  3.34  2.81  3.44  2.97  3.14  4.37  2.68  3.22  3.27\n",
      "  4.1   2.93  3.46  3.47  3.33  3.63  3.32  1.2   8.3   2.98  2.86  3.17\n",
      "  4.4   3.28  3.04  4.45  5.5   3.84  3.23  3.02  3.21  3.43  3.78  4.3\n",
      "  3.39  2.69  3.31  4.65  3.56  2.2   3.51  3.93  3.42  2.99  3.49 14.\n",
      "  4.14  2.91  3.88  1.75  4.25  3.29  2.25  3.76  3.69  6.    2.26  2.89\n",
      "  3.58  5.8   2.49  4.9   3.48 10.3   1.   10.    3.59]\n"
     ]
    }
   ],
   "source": [
    "#Найдите и устраните редкие и выбивающиеся значения\n",
    "data.describe()\n",
    "\n",
    "for height in data['ceiling_height']:\n",
    "    if height >= 20:\n",
    "        data['ceiling_height'] = data['ceiling_height'].replace({height: height/10})\n",
    "\n",
    "print(data['ceiling_height'].value_counts())\n",
    "print(data['ceiling_height'].unique())"
   ]
  },
  {
   "cell_type": "markdown",
   "metadata": {},
   "source": [
    "Сделал цикл, который все значения больше либо равные 20 делит на 10, тогда значения высоты потолка принимают адекватный вид."
   ]
  },
  {
   "cell_type": "markdown",
   "metadata": {},
   "source": [
    "### Посчитайте и добавьте в таблицу новые столбцы"
   ]
  },
  {
   "cell_type": "code",
   "execution_count": 7,
   "metadata": {
    "scrolled": true
   },
   "outputs": [
    {
     "name": "stdout",
     "output_type": "stream",
     "text": [
      "0        120370.370370\n",
      "1         82920.792079\n",
      "2         92785.714286\n",
      "3        408176.100629\n",
      "4        100000.000000\n",
      "             ...      \n",
      "23694     72490.845228\n",
      "23695     52542.372881\n",
      "23696     44091.710758\n",
      "23697    149511.400651\n",
      "23698     41795.665635\n",
      "Name: price_one, Length: 23699, dtype: float64\n",
      "0        3\n",
      "1        1\n",
      "2        3\n",
      "3        4\n",
      "4        1\n",
      "        ..\n",
      "23694    1\n",
      "23695    0\n",
      "23696    6\n",
      "23697    1\n",
      "23698    4\n",
      "Name: day_of_week, Length: 23699, dtype: int64\n",
      "0         3\n",
      "1        12\n",
      "2         8\n",
      "3         7\n",
      "4         6\n",
      "         ..\n",
      "23694     3\n",
      "23695     1\n",
      "23696     2\n",
      "23697     3\n",
      "23698     7\n",
      "Name: month, Length: 23699, dtype: int64\n",
      "0        2019\n",
      "1        2018\n",
      "2        2015\n",
      "3        2015\n",
      "4        2018\n",
      "         ... \n",
      "23694    2017\n",
      "23695    2018\n",
      "23696    2018\n",
      "23697    2017\n",
      "23698    2017\n",
      "Name: year, Length: 23699, dtype: int64\n",
      "<bound method NDFrame.head of 0        другой\n",
      "1        первый\n",
      "2        другой\n",
      "3        другой\n",
      "4        другой\n",
      "          ...  \n",
      "23694    другой\n",
      "23695    другой\n",
      "23696    первый\n",
      "23697    другой\n",
      "23698    первый\n",
      "Name: apartment_floor, Length: 23699, dtype: object>\n",
      "другой       17446\n",
      "последний     3336\n",
      "первый        2917\n",
      "Name: apartment_floor, dtype: int64\n",
      "0        16.0\n",
      "1        19.0\n",
      "2        14.0\n",
      "3         7.0\n",
      "4         8.0\n",
      "         ... \n",
      "23694     4.0\n",
      "23695     NaN\n",
      "23696     NaN\n",
      "23697    10.0\n",
      "23698     NaN\n",
      "Name: distance_to_city_center, Length: 23699, dtype: float64\n",
      "       total_images  last_price  total_area first_day_exposition  rooms  \\\n",
      "0                20    13000000      108.00           2019-03-07      3   \n",
      "1                 7     3350000       40.40           2018-12-04      1   \n",
      "2                10     5196000       56.00           2015-08-20      2   \n",
      "3                 0    64900000      159.00           2015-07-24      3   \n",
      "4                 2    10000000      100.00           2018-06-19      2   \n",
      "...             ...         ...         ...                  ...    ...   \n",
      "23694             9     9700000      133.81           2017-03-21      3   \n",
      "23695            14     3100000       59.00           2018-01-15      3   \n",
      "23696            18     2500000       56.70           2018-02-11      2   \n",
      "23697            13    11475000       76.75           2017-03-28      2   \n",
      "23698             4     1350000       32.30           2017-07-21      1   \n",
      "\n",
      "       ceiling_height  floors_total  living_area  floor  is_apartment  ...  \\\n",
      "0                2.70          16.0         51.0      8         False  ...   \n",
      "1                 NaN          11.0         18.6      1         False  ...   \n",
      "2                 NaN           5.0         34.3      4         False  ...   \n",
      "3                 NaN          14.0          NaN      9         False  ...   \n",
      "4                3.03          14.0         32.0     13         False  ...   \n",
      "...               ...           ...          ...    ...           ...  ...   \n",
      "23694            3.70           5.0         73.3      3         False  ...   \n",
      "23695             NaN           5.0         38.0      4         False  ...   \n",
      "23696             NaN           3.0         29.7      1         False  ...   \n",
      "23697            3.00          17.0          NaN     12         False  ...   \n",
      "23698            2.50           5.0         12.3      1         False  ...   \n",
      "\n",
      "       parks_nearest  ponds_around3000  ponds_nearest  days_exposition  \\\n",
      "0              482.0               2.0          755.0              NaN   \n",
      "1                NaN               0.0            NaN             81.0   \n",
      "2               90.0               2.0          574.0            558.0   \n",
      "3               84.0               3.0          234.0            424.0   \n",
      "4              112.0               1.0           48.0            121.0   \n",
      "...              ...               ...            ...              ...   \n",
      "23694          796.0               3.0          381.0              NaN   \n",
      "23695            NaN               NaN            NaN             45.0   \n",
      "23696            NaN               NaN            NaN              NaN   \n",
      "23697          173.0               3.0          196.0            602.0   \n",
      "23698            NaN               NaN            NaN              NaN   \n",
      "\n",
      "           price_one  day_of_week  month  year  apartment_floor  \\\n",
      "0      120370.370370            3      3  2019           другой   \n",
      "1       82920.792079            1     12  2018           первый   \n",
      "2       92785.714286            3      8  2015           другой   \n",
      "3      408176.100629            4      7  2015           другой   \n",
      "4      100000.000000            1      6  2018           другой   \n",
      "...              ...          ...    ...   ...              ...   \n",
      "23694   72490.845228            1      3  2017           другой   \n",
      "23695   52542.372881            0      1  2018           другой   \n",
      "23696   44091.710758            6      2  2018           первый   \n",
      "23697  149511.400651            1      3  2017           другой   \n",
      "23698   41795.665635            4      7  2017           первый   \n",
      "\n",
      "       distance_to_city_center  \n",
      "0                         16.0  \n",
      "1                         19.0  \n",
      "2                         14.0  \n",
      "3                          7.0  \n",
      "4                          8.0  \n",
      "...                        ...  \n",
      "23694                      4.0  \n",
      "23695                      NaN  \n",
      "23696                      NaN  \n",
      "23697                     10.0  \n",
      "23698                      NaN  \n",
      "\n",
      "[23699 rows x 28 columns]\n"
     ]
    }
   ],
   "source": [
    "#1.цена одного квадратного метра;\n",
    "data['price_one'] = data['last_price'] / data['total_area']\n",
    "print(data['price_one'])\n",
    "#2.день недели публикации объявления (0 — понедельник, 1 — вторник и так далее);\n",
    "data['day_of_week'] = data['first_day_exposition'].dt.weekday\n",
    "print(data['day_of_week'])\n",
    "#3.месяц публикации объявления;\n",
    "data['month'] = data['first_day_exposition'].dt.month\n",
    "print(data['month'])\n",
    "#4.год публикации объявления;\n",
    "data['year'] = data['first_day_exposition'].dt.year\n",
    "print(data['year'])\n",
    "\n",
    "#5. тип этажа квартиры (значения — «первый», «последний», «другой»);\n",
    "\n",
    "def apartment_floor(row):\n",
    "    if row['floor'] == 1:\n",
    "        return 'первый'\n",
    "    elif row['floor'] == row['floors_total']:\n",
    "        return 'последний'\n",
    "    else:\n",
    "         return 'другой'\n",
    "\n",
    "data['apartment_floor'] = data.apply(apartment_floor, axis = 1)\n",
    "print(data['apartment_floor'].head)\n",
    "print(data['apartment_floor'].value_counts())\n",
    "\n",
    "\n",
    "\n",
    "# 6. расстояние до центра города в километрах (переведите из м в км и округлите до целых значений).\n",
    "data['distance_to_city_center'] = data['cityCenters_nearest']\n",
    "data['distance_to_city_center'] = (data['distance_to_city_center']/1000).round(0)\n",
    "print(data['distance_to_city_center'])\n",
    "print(data)"
   ]
  },
  {
   "cell_type": "markdown",
   "metadata": {},
   "source": [
    "Добавил цену одного квадратного метра путём деления цены на общую площадь.\n",
    "День недели, месяц и год нашел благодаря datetime.\n",
    "Для поиска типа этажа написал функцию, в которой значение этажа = 1 сделал первым этажом, общее число этажей приравнял как последний этаж, так как мы не знаем какое количество этажей может быть в доме, это будет самый оптимальный вариант. Остальные этажи получили тип 'другой'.\n",
    "Создал новый столбец в котором перевел расстояние в центр из метров в км и сделал тип данных для округления чисел."
   ]
  },
  {
   "cell_type": "markdown",
   "metadata": {},
   "source": [
    "### Проведите исследовательский анализ данных"
   ]
  },
  {
   "cell_type": "code",
   "execution_count": 8,
   "metadata": {},
   "outputs": [
    {
     "data": {
      "image/png": "[encoded data removed]",
      "text/plain": [
       "<Figure size 432x288 with 1 Axes>"
      ]
     },
     "metadata": {
      "needs_background": "light"
     },
     "output_type": "display_data"
    }
   ],
   "source": [
    "# print(data['total_area'].describe())\n",
    "# print(data['total_area'].value_counts().sort_values(ascending = True))\n",
    "data['total_area'].hist(bins=100, range = (0,400))\n",
    "plt.title('Общая площадь')\n",
    "plt.xlabel('кв.м.')\n",
    "plt.ylabel('Значения')\n",
    "plt.show()"
   ]
  },
  {
   "cell_type": "markdown",
   "metadata": {},
   "source": [
    "Из данной гистограммы можно увидеть, что большинство недвижимости имеет общую площадь 40-70 кв.м."
   ]
  },
  {
   "cell_type": "code",
   "execution_count": 9,
   "metadata": {},
   "outputs": [
    {
     "data": {
      "image/png": "[encoded data removed]",
      "text/plain": [
       "<Figure size 432x288 with 1 Axes>"
      ]
     },
     "metadata": {
      "needs_background": "light"
     },
     "output_type": "display_data"
    }
   ],
   "source": [
    "# print(data['living_area'].describe())\n",
    "# print(data['living_area'].value_counts().sort_values(ascending = True))\n",
    "data['living_area'].hist(bins=100, range = (0,250))\n",
    "plt.title('Жилая площадь')\n",
    "plt.xlabel('кв.м.')\n",
    "plt.ylabel('Значения')\n",
    "plt.show()"
   ]
  },
  {
   "cell_type": "markdown",
   "metadata": {},
   "source": [
    "А вот в гитограмме жилой площади, как и ожидалось, значения кв.м. меньше, чем в общей площади, собственно это логично, так и должно быть, значит данные правильные. Больше всего значений жилой площади - 30-40 кв.м."
   ]
  },
  {
   "cell_type": "code",
   "execution_count": 10,
   "metadata": {},
   "outputs": [
    {
     "data": {
      "image/png": "[encoded data removed]",
      "text/plain": [
       "<Figure size 432x288 with 1 Axes>"
      ]
     },
     "metadata": {
      "needs_background": "light"
     },
     "output_type": "display_data"
    }
   ],
   "source": [
    "# print(data['kitchen_area'].describe())\n",
    "# print(data['kitchen_area'].value_counts().sort_values(ascending = True))\n",
    "data['kitchen_area'].hist(bins=50, range = (0,60))\n",
    "plt.title('Кухонная площадь')\n",
    "plt.xlabel('кв.м.')\n",
    "plt.ylabel('Значения')\n",
    "plt.show()"
   ]
  },
  {
   "cell_type": "markdown",
   "metadata": {},
   "source": [
    "Аналогично с прошлой гистограммой, только данные о площади кухни. Больше всего кухонь с площадью 6-10 кв.м."
   ]
  },
  {
   "cell_type": "code",
   "execution_count": 11,
   "metadata": {
    "scrolled": true
   },
   "outputs": [
    {
     "data": {
      "text/plain": [
       "0        13\n",
       "1         3\n",
       "2         5\n",
       "3        64\n",
       "4        10\n",
       "         ..\n",
       "23694     9\n",
       "23695     3\n",
       "23696     2\n",
       "23697    11\n",
       "23698     1\n",
       "Name: last_price, Length: 23699, dtype: int64"
      ]
     },
     "execution_count": 11,
     "metadata": {},
     "output_type": "execute_result"
    }
   ],
   "source": [
    "data['last_price'] = data['last_price'] / 1000000\n",
    "data['last_price'] = data['last_price'].astype(int)\n",
    "data['last_price']"
   ]
  },
  {
   "cell_type": "code",
   "execution_count": 12,
   "metadata": {},
   "outputs": [
    {
     "data": {
      "image/png": "[encoded data removed]",
      "text/plain": [
       "<Figure size 432x288 with 1 Axes>"
      ]
     },
     "metadata": {
      "needs_background": "light"
     },
     "output_type": "display_data"
    }
   ],
   "source": [
    "# print(data['last_price'].describe())\n",
    "# print(data['last_price'].value_counts().sort_values(ascending = True))\n",
    "\n",
    "data['last_price']\n",
    "data['last_price'].hist(bins=50, range = (0,100))\n",
    "plt.title('Последняя цена')\n",
    "plt.xlabel('млн. руб.')\n",
    "plt.ylabel('Значения')\n",
    "plt.show()"
   ]
  },
  {
   "cell_type": "markdown",
   "metadata": {},
   "source": [
    "В данном графике мы можем видеть сколько млн. рублей чаще всего стоит недвижимость. в основном эта цифра примерно около 5-8 млн.рублей."
   ]
  },
  {
   "cell_type": "code",
   "execution_count": 13,
   "metadata": {},
   "outputs": [
    {
     "data": {
      "image/png": "[encoded data removed]",
      "text/plain": [
       "<Figure size 432x288 with 1 Axes>"
      ]
     },
     "metadata": {
      "needs_background": "light"
     },
     "output_type": "display_data"
    }
   ],
   "source": [
    "# print(data['rooms'].describe())\n",
    "# print(data['rooms'].value_counts().sort_values(ascending = True))\n",
    "data['rooms'].hist(bins=10, range = (0,10))\n",
    "plt.title('Комнаты')\n",
    "plt.xlabel('Количество комнат')\n",
    "plt.ylabel('Значения')\n",
    "plt.show()"
   ]
  },
  {
   "cell_type": "markdown",
   "metadata": {},
   "source": [
    "Больше всего объявлений с 1-3 комнатными квартирами."
   ]
  },
  {
   "cell_type": "code",
   "execution_count": 14,
   "metadata": {},
   "outputs": [
    {
     "data": {
      "image/png": "[encoded data removed]",
      "text/plain": [
       "<Figure size 432x288 with 1 Axes>"
      ]
     },
     "metadata": {
      "needs_background": "light"
     },
     "output_type": "display_data"
    }
   ],
   "source": [
    "# print(data['ceiling_height'].describe())\n",
    "# print(data['ceiling_height'].value_counts().sort_values(ascending = True))\n",
    "data['ceiling_height'].hist(bins=100, range = (2,6))\n",
    "plt.title('Высота потолков')\n",
    "plt.xlabel('Метры')\n",
    "plt.ylabel('Значения')\n",
    "plt.show()"
   ]
  },
  {
   "cell_type": "markdown",
   "metadata": {},
   "source": [
    "В основном у всех потолки равны 2.5 метров высоты."
   ]
  },
  {
   "cell_type": "code",
   "execution_count": 15,
   "metadata": {
    "scrolled": true
   },
   "outputs": [
    {
     "data": {
      "image/png": "[encoded data removed]",
      "text/plain": [
       "<Figure size 432x288 with 1 Axes>"
      ]
     },
     "metadata": {
      "needs_background": "light"
     },
     "output_type": "display_data"
    }
   ],
   "source": [
    "# print(data['floor'].describe())\n",
    "# print(data['floor'].value_counts().sort_values(ascending = True))\n",
    "data['floor'].hist(bins=30, range = (0,30))\n",
    "plt.title('Этаж')\n",
    "plt.xlabel('Номер этажа')\n",
    "plt.ylabel('Значения')\n",
    "plt.show()"
   ]
  },
  {
   "cell_type": "markdown",
   "metadata": {},
   "source": [
    "Люди чаще приобретают недвижимость на 1-5 этажах."
   ]
  },
  {
   "cell_type": "code",
   "execution_count": 16,
   "metadata": {},
   "outputs": [
    {
     "data": {
      "image/png": "[encoded data removed]",
      "text/plain": [
       "<Figure size 432x288 with 1 Axes>"
      ]
     },
     "metadata": {
      "needs_background": "light"
     },
     "output_type": "display_data"
    }
   ],
   "source": [
    "# print(data['apartment_floor'].describe())\n",
    "# print(data['apartment_floor'].value_counts().sort_values(ascending = True))\n",
    "data['apartment_floor'].hist(bins=10, range = (0,3))\n",
    "plt.title('Тип этажа')\n",
    "plt.xlabel('Типы')\n",
    "plt.ylabel('Значения')\n",
    "plt.show()"
   ]
  },
  {
   "cell_type": "markdown",
   "metadata": {},
   "source": [
    "В данной гистограмме можно увидеть, что зачастую люди предпочитают брать недвижимость на всех этажак, кроме как на первом и на последнем."
   ]
  },
  {
   "cell_type": "code",
   "execution_count": 17,
   "metadata": {},
   "outputs": [
    {
     "data": {
      "image/png": "[encoded data removed]",
      "text/plain": [
       "<Figure size 432x288 with 1 Axes>"
      ]
     },
     "metadata": {
      "needs_background": "light"
     },
     "output_type": "display_data"
    }
   ],
   "source": [
    "# print(data['floors_total'].describe())\n",
    "# print(data['floors_total'].value_counts().sort_values(ascending = True))\n",
    "data['floors_total'].hist(bins=50, range = (0,100))\n",
    "plt.title('Всего этажей')\n",
    "plt.xlabel('Количество этажей')\n",
    "plt.ylabel('Значения')\n",
    "plt.show()"
   ]
  },
  {
   "cell_type": "markdown",
   "metadata": {},
   "source": [
    "В данном случае есть мысль, что можно ограничить количество этажей - 30. Но смущает тот факт, что может быть действительно дом с 60 этажами, а в объявлении были квартиры только с <20 этажами."
   ]
  },
  {
   "cell_type": "code",
   "execution_count": 18,
   "metadata": {},
   "outputs": [
    {
     "data": {
      "image/png": "[encoded data removed]",
      "text/plain": [
       "<Figure size 432x288 with 1 Axes>"
      ]
     },
     "metadata": {
      "needs_background": "light"
     },
     "output_type": "display_data"
    }
   ],
   "source": [
    "# print(data['cityCenters_nearest'].describe())\n",
    "# print(data['cityCenters_nearest'].value_counts().sort_values(ascending = True))\n",
    "data['cityCenters_nearest'].hist(bins=100)\n",
    "plt.title('Расстояние до центра')\n",
    "plt.xlabel('Расстояние в метрах')\n",
    "plt.ylabel('Значения')\n",
    "plt.show()\n",
    "### Проставил 0 на пустых значениях, чтобы можно было рассчитать расстояние в километрах и перевести в тип int.\n",
    "### Теперь эти нули портят график :) Не совсем понимаю как от них избавиться."
   ]
  },
  {
   "cell_type": "code",
   "execution_count": 19,
   "metadata": {},
   "outputs": [
    {
     "data": {
      "image/png": "[encoded data removed]",
      "text/plain": [
       "<Figure size 432x288 with 1 Axes>"
      ]
     },
     "metadata": {
      "needs_background": "light"
     },
     "output_type": "display_data"
    }
   ],
   "source": [
    "# print(data['airports_nearest'].describe())\n",
    "# print(data['airports_nearest'].value_counts().sort_values(ascending = True))\n",
    "data['airports_nearest'].hist(bins=100)\n",
    "plt.title('Расстояние до ближайшего аэропорта')\n",
    "plt.xlabel('Расстояние в метрах')\n",
    "plt.ylabel('Значения')\n",
    "plt.show()"
   ]
  },
  {
   "cell_type": "markdown",
   "metadata": {},
   "source": [
    "Аналогично, в данном графике видим количество недвижимости и её расстояние до ближайшего аэропорта.\n",
    "\n",
    "Зачастую недвижимость довольно таки далеко от аэропортов, но есть и такая, которая в 10000 метрах, в таких местах должно быть очень шумно."
   ]
  },
  {
   "cell_type": "code",
   "execution_count": 20,
   "metadata": {},
   "outputs": [
    {
     "data": {
      "image/png": "[encoded data removed]",
      "text/plain": [
       "<Figure size 432x288 with 1 Axes>"
      ]
     },
     "metadata": {
      "needs_background": "light"
     },
     "output_type": "display_data"
    }
   ],
   "source": [
    "# print(data['parks_nearest'].describe())\n",
    "# print(data['parks_nearest'].value_counts().sort_values(ascending = True))\n",
    "data['parks_nearest'].hist(bins=50)\n",
    "plt.title('Расстояние до ближайшего парка')\n",
    "plt.xlabel('Расстояние в метрах')\n",
    "plt.ylabel('Значения')\n",
    "plt.show()"
   ]
  },
  {
   "cell_type": "markdown",
   "metadata": {},
   "source": [
    "В данном графике можно увидеть, что рядом с большинством недвижимости есть парки."
   ]
  },
  {
   "cell_type": "code",
   "execution_count": 21,
   "metadata": {},
   "outputs": [
    {
     "data": {
      "image/png": "[encoded data removed]",
      "text/plain": [
       "<Figure size 432x288 with 1 Axes>"
      ]
     },
     "metadata": {
      "needs_background": "light"
     },
     "output_type": "display_data"
    }
   ],
   "source": [
    "# print(data['day_of_week'].describe())\n",
    "# print(data['day_of_week'].value_counts().sort_values(ascending = True))\n",
    "data['day_of_week'].hist(bins=7)\n",
    "plt.title('День недели публикации объявления')\n",
    "plt.xlabel('День недели')\n",
    "plt.ylabel('Значения')\n",
    "plt.show()\n",
    "# день и месяц публикации объявления."
   ]
  },
  {
   "cell_type": "markdown",
   "metadata": {},
   "source": [
    "В данном графике видно в какой день недели зачастую публиковались объявления. Если быть точнее, то по вторникам и четвергам объявления публиковались чаще всего. Но больше всего выделяются в данных дни, когда объявления публиковались меньше всего, а то есть суббота и воскресенье."
   ]
  },
  {
   "cell_type": "code",
   "execution_count": 22,
   "metadata": {
    "scrolled": true
   },
   "outputs": [
    {
     "data": {
      "image/png": "[encoded data removed]",
      "text/plain": [
       "<Figure size 432x288 with 1 Axes>"
      ]
     },
     "metadata": {
      "needs_background": "light"
     },
     "output_type": "display_data"
    }
   ],
   "source": [
    "# print(data['month'].describe())\n",
    "# print(data['month'].value_counts().sort_values(ascending = True))\n",
    "data['month'].hist(bins=12)\n",
    "plt.title('Месяц публикации объявления')\n",
    "plt.xlabel('Номер месяца')\n",
    "plt.ylabel('Значения')\n",
    "plt.show()"
   ]
  },
  {
   "cell_type": "markdown",
   "metadata": {},
   "source": [
    "Здесь видно по месяцам, когда чаще всего публиковались объявления. Как видно по графику, чаще всего объявления публиковалисьс с февраля по апрель и с июня по ноябрь. Это можно связать с тем, что обычно в праздничные дни особо не публикуют объявления о недвижимости, так как на декабрь-январь и май приходится меньше всего объявлений."
   ]
  },
  {
   "cell_type": "code",
   "execution_count": 23,
   "metadata": {},
   "outputs": [
    {
     "name": "stdout",
     "output_type": "stream",
     "text": [
      "count    20518.000000\n",
      "mean       180.888634\n",
      "std        219.727988\n",
      "min          1.000000\n",
      "25%         45.000000\n",
      "50%         95.000000\n",
      "75%        232.000000\n",
      "max       1580.000000\n",
      "Name: days_exposition, dtype: float64\n"
     ]
    },
    {
     "data": {
      "image/png": "[encoded data removed]",
      "text/plain": [
       "<Figure size 432x288 with 1 Axes>"
      ]
     },
     "metadata": {
      "needs_background": "light"
     },
     "output_type": "display_data"
    }
   ],
   "source": [
    "data['days_exposition'].hist(bins=200)\n",
    "print(data['days_exposition'].describe())\n",
    "plt.title('Сколько дней размещено объявление')\n",
    "plt.xlabel('Количество дней')\n",
    "plt.ylabel('Значения')\n",
    "plt.show()"
   ]
  },
  {
   "cell_type": "markdown",
   "metadata": {},
   "source": [
    "Среднее = 180, медианное = 95 . В данном случае медианное значение выглядит более корректным и точным. Чаще всего квартиры продавались на 95 день. Самая быстрая продажа = 1 день. Самая медленная продажа = 1580 день. До 100 дней продажи считаются особенно быстрыми. Начиная с 400 дня продажи сильно просидают и держатся почти на одном уровне в дальнейшем."
   ]
  },
  {
   "cell_type": "code",
   "execution_count": 24,
   "metadata": {
    "scrolled": true
   },
   "outputs": [
    {
     "data": {
      "text/plain": [
       "array([[<AxesSubplot:xlabel='living_area', ylabel='living_area'>,\n",
       "        <AxesSubplot:xlabel='price_one', ylabel='living_area'>,\n",
       "        <AxesSubplot:xlabel='total_area', ylabel='living_area'>],\n",
       "       [<AxesSubplot:xlabel='living_area', ylabel='price_one'>,\n",
       "        <AxesSubplot:xlabel='price_one', ylabel='price_one'>,\n",
       "        <AxesSubplot:xlabel='total_area', ylabel='price_one'>],\n",
       "       [<AxesSubplot:xlabel='living_area', ylabel='total_area'>,\n",
       "        <AxesSubplot:xlabel='price_one', ylabel='total_area'>,\n",
       "        <AxesSubplot:xlabel='total_area', ylabel='total_area'>]],\n",
       "      dtype=object)"
      ]
     },
     "execution_count": 24,
     "metadata": {},
     "output_type": "execute_result"
    },
    {
     "data": {
      "image/png": "[encoded data removed]",
      "text/plain": [
       "<Figure size 648x648 with 9 Axes>"
      ]
     },
     "metadata": {
      "needs_background": "light"
     },
     "output_type": "display_data"
    }
   ],
   "source": [
    "#Зависимость цены от общей площади и от жилой площади.\n",
    "area =  data.pivot_table(index='rooms', values=['living_area', 'total_area', 'price_one'])\n",
    "pd.plotting.scatter_matrix(area, figsize = (9,9))"
   ]
  },
  {
   "cell_type": "markdown",
   "metadata": {},
   "source": [
    "Из графиков видно, что чем больше общая площадь, тем выше цена, за небольшим исключением. То же самое и с жилой площадью. Видно так же соотношение жилой площади и общей площади, жилая площадь по графикам всегда меньше общей площади. Самые дорогие цены за квадратный метр приходятся на 200 кв м жилой площади и 250 кв м общей площади."
   ]
  },
  {
   "cell_type": "code",
   "execution_count": 25,
   "metadata": {
    "scrolled": true
   },
   "outputs": [
    {
     "data": {
      "text/plain": [
       "array([[<AxesSubplot:xlabel='kitchen_area', ylabel='kitchen_area'>,\n",
       "        <AxesSubplot:xlabel='price_one', ylabel='kitchen_area'>,\n",
       "        <AxesSubplot:xlabel='rooms', ylabel='kitchen_area'>],\n",
       "       [<AxesSubplot:xlabel='kitchen_area', ylabel='price_one'>,\n",
       "        <AxesSubplot:xlabel='price_one', ylabel='price_one'>,\n",
       "        <AxesSubplot:xlabel='rooms', ylabel='price_one'>],\n",
       "       [<AxesSubplot:xlabel='kitchen_area', ylabel='rooms'>,\n",
       "        <AxesSubplot:xlabel='price_one', ylabel='rooms'>,\n",
       "        <AxesSubplot:xlabel='rooms', ylabel='rooms'>]], dtype=object)"
      ]
     },
     "execution_count": 25,
     "metadata": {},
     "output_type": "execute_result"
    },
    {
     "data": {
      "image/png": "[encoded data removed]",
      "text/plain": [
       "<Figure size 648x648 with 9 Axes>"
      ]
     },
     "metadata": {
      "needs_background": "light"
     },
     "output_type": "display_data"
    }
   ],
   "source": [
    "#Зависимость цены от общей площади и от жилой площади.\n",
    "area =  data.pivot_table(index='floor', values=['kitchen_area', 'rooms', 'price_one'])\n",
    "pd.plotting.scatter_matrix(area, figsize = (9,9))"
   ]
  },
  {
   "cell_type": "markdown",
   "metadata": {},
   "source": [
    "В данном случае можно наблюдать, что больше всего концетрация на 2 комнатах с ценой 110 тыс. А так же на кухне с 12 кв.м. площадью с той же ценой. Так же в данных видно, что как правило, в двухкомнатной квартире площадь кухни равна 12.5 кв.м."
   ]
  },
  {
   "cell_type": "code",
   "execution_count": 26,
   "metadata": {
    "scrolled": false
   },
   "outputs": [
    {
     "data": {
      "text/plain": [
       "<seaborn.axisgrid.PairGrid at 0x7f3055a965b0>"
      ]
     },
     "execution_count": 26,
     "metadata": {},
     "output_type": "execute_result"
    },
    {
     "data": {
      "image/png": "[encoded data removed]",
      "text/plain": [
       "<Figure size 720x720 with 20 Axes>"
      ]
     },
     "metadata": {
      "needs_background": "light"
     },
     "output_type": "display_data"
    }
   ],
   "source": [
    "import seaborn as sns\n",
    "sns.pairplot(data[['last_price', 'price_one', 'total_area', 'rooms']])"
   ]
  },
  {
   "cell_type": "markdown",
   "metadata": {},
   "source": [
    "На графике так же видно все зависимости, например чем больше общая площадь жилья - тем больше комнат в квартире. Или же чем выше цена за недвижимость - тем больше площадь и комнат.\n"
   ]
  },
  {
   "cell_type": "code",
   "execution_count": 27,
   "metadata": {},
   "outputs": [
    {
     "data": {
      "image/png": "[encoded data removed]",
      "text/plain": [
       "<Figure size 432x288 with 1 Axes>"
      ]
     },
     "metadata": {
      "needs_background": "light"
     },
     "output_type": "display_data"
    }
   ],
   "source": [
    "sns.barplot(data=data, x=\"apartment_floor\", y=\"price_one\")\n",
    "plt.title('Зависимость цены за кв.м. от типа этажа')\n",
    "plt.xlabel('Тип этажа')\n",
    "plt.ylabel('Цена')\n",
    "plt.show()"
   ]
  },
  {
   "cell_type": "markdown",
   "metadata": {},
   "source": [
    "На данном графике можно увидеть, что дороже всего цена за квадратный метр на всех этажах кроме первого и последнего. Меньше всего люди предпочитают квартиру на первом этаже."
   ]
  },
  {
   "cell_type": "code",
   "execution_count": 28,
   "metadata": {},
   "outputs": [
    {
     "data": {
      "image/png": "[encoded data removed]",
      "text/plain": [
       "<Figure size 432x288 with 1 Axes>"
      ]
     },
     "metadata": {
      "needs_background": "light"
     },
     "output_type": "display_data"
    }
   ],
   "source": [
    "sns.barplot(data=data, x=\"day_of_week\", y=\"price_one\")\n",
    "plt.title('Зависимость цены за кв.м. от дня недели')\n",
    "plt.xlabel('День недели')\n",
    "plt.ylabel('Цена')\n",
    "plt.show()"
   ]
  },
  {
   "cell_type": "markdown",
   "metadata": {},
   "source": [
    "В графиках по дням недели чётко видно что цены за квадратный метр падают на выходных, в будние дни они значительно больше."
   ]
  },
  {
   "cell_type": "code",
   "execution_count": 29,
   "metadata": {},
   "outputs": [
    {
     "data": {
      "image/png": "[encoded data removed]",
      "text/plain": [
       "<Figure size 432x288 with 1 Axes>"
      ]
     },
     "metadata": {
      "needs_background": "light"
     },
     "output_type": "display_data"
    }
   ],
   "source": [
    "sns.barplot(data=data, x=\"month\", y=\"price_one\")\n",
    "plt.title('Зависимость цены за кв.м. от месяца')\n",
    "plt.xlabel('Месяц')\n",
    "plt.ylabel('Цена')\n",
    "plt.show()"
   ]
  },
  {
   "cell_type": "markdown",
   "metadata": {},
   "source": [
    "В графиках по месяцам видно что цена за квадратный метр стала больше в месяцах 4, 7, 8, 9. Возможно это связано с тем, что в эти месяцы меньше всего праздников."
   ]
  },
  {
   "cell_type": "code",
   "execution_count": 30,
   "metadata": {},
   "outputs": [
    {
     "name": "stdout",
     "output_type": "stream",
     "text": [
      "[2019 2018 2015 2017 2016 2014]\n"
     ]
    }
   ],
   "source": [
    "print(data['year'].unique())"
   ]
  },
  {
   "cell_type": "code",
   "execution_count": 31,
   "metadata": {},
   "outputs": [
    {
     "data": {
      "image/png": "[encoded data removed]",
      "text/plain": [
       "<Figure size 432x288 with 1 Axes>"
      ]
     },
     "metadata": {
      "needs_background": "light"
     },
     "output_type": "display_data"
    }
   ],
   "source": [
    "sns.barplot(data=data, x=\"year\", y=\"price_one\")\n",
    "plt.title('Зависимость цены за кв.м. от года')\n",
    "plt.xlabel('Год')\n",
    "plt.ylabel('Цена')\n",
    "plt.show()"
   ]
  },
  {
   "cell_type": "markdown",
   "metadata": {},
   "source": [
    "Вывод по графикам за год: в 2014 была самая дорогая цена за квадратный метр. Видно что в 2017 и 2018 годы цена за квадратный метр была дешевле всего. В 2019 году цена за 1 квадратный метр стала дороже."
   ]
  },
  {
   "cell_type": "code",
   "execution_count": 32,
   "metadata": {
    "scrolled": false
   },
   "outputs": [
    {
     "name": "stdout",
     "output_type": "stream",
     "text": [
      "Санкт-Петербург      15721\n",
      "Мурино                 590\n",
      "поселок Шушары         440\n",
      "Всеволожск             398\n",
      "Пушкин                 369\n",
      "Колпино                338\n",
      "поселок Парголово      327\n",
      "Гатчина                307\n",
      "деревня Кудрово        299\n",
      "Выборг                 237\n",
      "Name: locality_name, dtype: int64\n",
      "Index(['Санкт-Петербург', 'Мурино', 'поселок Шушары', 'Всеволожск', 'Пушкин',\n",
      "       'Колпино', 'поселок Парголово', 'Гатчина', 'деревня Кудрово', 'Выборг'],\n",
      "      dtype='object')\n"
     ]
    },
    {
     "data": {
      "image/png": "[encoded data removed]",
      "text/plain": [
       "<Figure size 432x288 with 1 Axes>"
      ]
     },
     "metadata": {
      "needs_background": "light"
     },
     "output_type": "display_data"
    }
   ],
   "source": [
    "ten_locality = data['locality_name'].value_counts().head(10)\n",
    "print(ten_locality)\n",
    "ten_locality = ten_locality.index\n",
    "print(ten_locality)\n",
    "\n",
    "ten_locality_mean_max_min_metr = (data.query('locality_name in @ten_locality').pivot_table(index='locality_name', values='price_one', aggfunc=['mean','min','max']))\n",
    "ten_locality_mean_max_min_metr\n",
    "\n",
    "qqq = (data.query('locality_name in @ten_locality').pivot_table(index='locality_name', values='price_one', aggfunc=['max']))\n",
    "qqq.plot(kind='bar')\n",
    "plt.title('Самая высокая и низкая стоимость квадртаного метра')\n",
    "plt.xlabel('Населённый пункт')\n",
    "plt.ylabel('Цена')\n",
    "plt.show()"
   ]
  },
  {
   "cell_type": "markdown",
   "metadata": {},
   "source": [
    "Как видно из таблички, населённый пункт с самым дорогим квадратным метром - Санкт-Петербург. С самым дешёвым квадратным метром - Выборг."
   ]
  },
  {
   "cell_type": "code",
   "execution_count": 33,
   "metadata": {},
   "outputs": [
    {
     "name": "stderr",
     "output_type": "stream",
     "text": [
      "/tmp/ipykernel_48/3351938504.py:9: SettingWithCopyWarning: \n",
      "A value is trying to be set on a copy of a slice from a DataFrame.\n",
      "Try using .loc[row_indexer,col_indexer] = value instead\n",
      "\n",
      "See the caveats in the documentation: https://pandas.pydata.org/pandas-docs/stable/user_guide/indexing.html#returning-a-view-versus-a-copy\n",
      "  spb_data['distance_to_spb_center'] = (data['cityCenters_nearest']/1000).round(0)\n"
     ]
    },
    {
     "data": {
      "text/html": [
       "<div>\n",
       "<style scoped>\n",
       "    .dataframe tbody tr th:only-of-type {\n",
       "        vertical-align: middle;\n",
       "    }\n",
       "\n",
       "    .dataframe tbody tr th {\n",
       "        vertical-align: top;\n",
       "    }\n",
       "\n",
       "    .dataframe thead th {\n",
       "        text-align: right;\n",
       "    }\n",
       "</style>\n",
       "<table border=\"1\" class=\"dataframe\">\n",
       "  <thead>\n",
       "    <tr style=\"text-align: right;\">\n",
       "      <th></th>\n",
       "      <th>price_one</th>\n",
       "    </tr>\n",
       "    <tr>\n",
       "      <th>distance_to_spb_center</th>\n",
       "      <th></th>\n",
       "    </tr>\n",
       "  </thead>\n",
       "  <tbody>\n",
       "    <tr>\n",
       "      <th>1.0</th>\n",
       "      <td>177005.407676</td>\n",
       "    </tr>\n",
       "    <tr>\n",
       "      <th>2.0</th>\n",
       "      <td>157849.007329</td>\n",
       "    </tr>\n",
       "    <tr>\n",
       "      <th>3.0</th>\n",
       "      <td>121387.453704</td>\n",
       "    </tr>\n",
       "    <tr>\n",
       "      <th>4.0</th>\n",
       "      <td>133282.874761</td>\n",
       "    </tr>\n",
       "    <tr>\n",
       "      <th>5.0</th>\n",
       "      <td>140509.789046</td>\n",
       "    </tr>\n",
       "    <tr>\n",
       "      <th>6.0</th>\n",
       "      <td>151012.193621</td>\n",
       "    </tr>\n",
       "    <tr>\n",
       "      <th>7.0</th>\n",
       "      <td>156176.879664</td>\n",
       "    </tr>\n",
       "    <tr>\n",
       "      <th>8.0</th>\n",
       "      <td>125671.442742</td>\n",
       "    </tr>\n",
       "    <tr>\n",
       "      <th>9.0</th>\n",
       "      <td>113131.041911</td>\n",
       "    </tr>\n",
       "    <tr>\n",
       "      <th>10.0</th>\n",
       "      <td>112727.516925</td>\n",
       "    </tr>\n",
       "    <tr>\n",
       "      <th>11.0</th>\n",
       "      <td>108630.835324</td>\n",
       "    </tr>\n",
       "    <tr>\n",
       "      <th>12.0</th>\n",
       "      <td>107488.734023</td>\n",
       "    </tr>\n",
       "    <tr>\n",
       "      <th>13.0</th>\n",
       "      <td>108148.127854</td>\n",
       "    </tr>\n",
       "    <tr>\n",
       "      <th>14.0</th>\n",
       "      <td>104252.385047</td>\n",
       "    </tr>\n",
       "    <tr>\n",
       "      <th>15.0</th>\n",
       "      <td>104231.976184</td>\n",
       "    </tr>\n",
       "    <tr>\n",
       "      <th>16.0</th>\n",
       "      <td>100542.613949</td>\n",
       "    </tr>\n",
       "    <tr>\n",
       "      <th>17.0</th>\n",
       "      <td>96597.652408</td>\n",
       "    </tr>\n",
       "    <tr>\n",
       "      <th>18.0</th>\n",
       "      <td>96362.263941</td>\n",
       "    </tr>\n",
       "    <tr>\n",
       "      <th>19.0</th>\n",
       "      <td>98652.736027</td>\n",
       "    </tr>\n",
       "    <tr>\n",
       "      <th>20.0</th>\n",
       "      <td>103045.181922</td>\n",
       "    </tr>\n",
       "    <tr>\n",
       "      <th>21.0</th>\n",
       "      <td>94469.584582</td>\n",
       "    </tr>\n",
       "    <tr>\n",
       "      <th>22.0</th>\n",
       "      <td>91330.425050</td>\n",
       "    </tr>\n",
       "    <tr>\n",
       "      <th>23.0</th>\n",
       "      <td>91828.517765</td>\n",
       "    </tr>\n",
       "    <tr>\n",
       "      <th>24.0</th>\n",
       "      <td>85736.904595</td>\n",
       "    </tr>\n",
       "    <tr>\n",
       "      <th>25.0</th>\n",
       "      <td>91531.371618</td>\n",
       "    </tr>\n",
       "    <tr>\n",
       "      <th>26.0</th>\n",
       "      <td>89285.876593</td>\n",
       "    </tr>\n",
       "    <tr>\n",
       "      <th>27.0</th>\n",
       "      <td>132115.709459</td>\n",
       "    </tr>\n",
       "    <tr>\n",
       "      <th>28.0</th>\n",
       "      <td>81161.915320</td>\n",
       "    </tr>\n",
       "    <tr>\n",
       "      <th>29.0</th>\n",
       "      <td>72953.365445</td>\n",
       "    </tr>\n",
       "  </tbody>\n",
       "</table>\n",
       "</div>"
      ],
      "text/plain": [
       "                            price_one\n",
       "distance_to_spb_center               \n",
       "1.0                     177005.407676\n",
       "2.0                     157849.007329\n",
       "3.0                     121387.453704\n",
       "4.0                     133282.874761\n",
       "5.0                     140509.789046\n",
       "6.0                     151012.193621\n",
       "7.0                     156176.879664\n",
       "8.0                     125671.442742\n",
       "9.0                     113131.041911\n",
       "10.0                    112727.516925\n",
       "11.0                    108630.835324\n",
       "12.0                    107488.734023\n",
       "13.0                    108148.127854\n",
       "14.0                    104252.385047\n",
       "15.0                    104231.976184\n",
       "16.0                    100542.613949\n",
       "17.0                     96597.652408\n",
       "18.0                     96362.263941\n",
       "19.0                     98652.736027\n",
       "20.0                    103045.181922\n",
       "21.0                     94469.584582\n",
       "22.0                     91330.425050\n",
       "23.0                     91828.517765\n",
       "24.0                     85736.904595\n",
       "25.0                     91531.371618\n",
       "26.0                     89285.876593\n",
       "27.0                    132115.709459\n",
       "28.0                     81161.915320\n",
       "29.0                     72953.365445"
      ]
     },
     "execution_count": 33,
     "metadata": {},
     "output_type": "execute_result"
    }
   ],
   "source": [
    "# # 6. расстояние до центра города в километрах (переведите из м в км и округлите до целых значений).\n",
    "# data['distance_to_city_center'] = data['cityCenters_nearest']\n",
    "# data['distance_to_city_center'] = (data['distance_to_city_center']/1000).round(0).astype(int)\n",
    "# print(data['distance_to_city_center'])\n",
    "# print(data)\n",
    "\n",
    "\n",
    "spb_data = data.query('locality_name == \"Санкт-Петербург\"')\n",
    "spb_data['distance_to_spb_center'] = (data['cityCenters_nearest']/1000).round(0)\n",
    "price_distance = spb_data.query('distance_to_spb_center > 0').pivot_table(index = 'distance_to_spb_center', values = 'price_one', aggfunc='mean')\n",
    "price_distance"
   ]
  },
  {
   "cell_type": "markdown",
   "metadata": {},
   "source": [
    "Похожим способом, как мы искали расстояние до центра в общем, мы нашли расстояние до центра из квартир населенного пункта Санкт-Петербург.\n",
    "С помощью сводной таблицы нашли среднюю цену за каждый километр.\n",
    "\n",
    "#Опишите, как стоимость объектов зависит от расстояния до центра города.\n",
    "Из выгруженных данных явно видно, что чем ближе недвижимость к центру, тем она дороже. Так же видны скачки цен и на более отдалённом расстоянии от центра, например на 27 км от центра. Это так же может быть связано с различными данными, например близость к историческим местам, красивый вид на реку, рядом с аэропортом и так далее. Но основная динамика, что чем квартира ближе к центру - тем она дороже."
   ]
  },
  {
   "cell_type": "code",
   "execution_count": 34,
   "metadata": {},
   "outputs": [
    {
     "data": {
      "image/png": "[encoded data removed]",
      "text/plain": [
       "<Figure size 432x288 with 1 Axes>"
      ]
     },
     "metadata": {
      "needs_background": "light"
     },
     "output_type": "display_data"
    }
   ],
   "source": [
    "sns.lineplot(data=price_distance, x=\"distance_to_spb_center\", y=\"price_one\")\n",
    "plt.title('Зависимость цены за кв.м. от дистанции до центра города')\n",
    "plt.xlabel('дистанция в км.')\n",
    "plt.ylabel('Цена')\n",
    "plt.show()"
   ]
  },
  {
   "cell_type": "markdown",
   "metadata": {},
   "source": [
    "Построил линейный график по данным выше"
   ]
  },
  {
   "cell_type": "markdown",
   "metadata": {},
   "source": [
    "# Общий вывод"
   ]
  },
  {
   "cell_type": "markdown",
   "metadata": {},
   "source": [
    "# Итоги выполнения проекта.\n",
    "\n",
    "Опишу поэтапно что было сделано за проект. Так же под каждым заданием есть описание проделанного.\n",
    "\n",
    "1.Для начала открыл сам файл с данными и изучил первоначальные данные по нему.\n",
    "Построил так же гистограму по всему датафрейму, что так же наглядно визуализировало все данные.\n",
    "Дал краткое описание  датафрейму.\n",
    "\n",
    "2.Далее приступил к предобработки данных. Изучив данные в первом этапе я уже заприметил пропуски в столбцах. В данном этапе я заполнил все пропуски, которые можно было заполнить логично. Далее просмотрел типы данных в датафрейме и в некоторых столбцах заменил их, так как они были ошибочные. \n",
    "Затем поработал со столбцом locality_name и избавился от неявных дубликатов. \n",
    "Ну и напоследок в данном этапе избавился от аномалий в данных, например в столбце ceiling_height, где были данные о потолках 25 метров в квартире, что явно сильно выбивается из всех значений.\n",
    "\n",
    "3.В данном этапе я добавил новые столбцы в таблицу. Для добавления новых столбцов я применял как обычные уравнения, так и метод функций и метод datetime.\n",
    "\n",
    "4.\n",
    "4.1.Этот этап посвящён исследовательскому анализу данных. Изучил все параметры объектов каждого столбца более подробно. Для связки каждого параметра создал барплот и описал графики.\n",
    "\n",
    "4.2.Затем я посчитал как быстро продавались квартиры по дням и визуализировал это в гистограмму. Так же посчитал среднее и медиану.\n",
    "\n",
    "4.3.Проанализировал какие факторы больше всего влияют на полную стоимость объекта. Построил матричные графики для изучения данных.\n",
    "\n",
    "4.4. Далее я выделил 10 населённых пунктов с наибольшим числом объявлений и по каждому с помощью сводной таблицы посчитал среднюю цену одного квадратного метра. Так же в этой сводной таблице добавил подсчёт самой высокой и низкой стоимости квадратного метра в населённом пункте.\n",
    "\n",
    "4.5. Из прошлого задания я выделил с помощью метода .query только данные по Санкт-Петербургу и вычислил среднюю цену недвижимости за каждый километр от центра. Добавил описание зависимости цен от километража.\n",
    "\n",
    "С полученными данными можно работать и проводить дальнейшие исследования. Данные стали чище и более подробные. Изучены различные зависимости, с помощью которых можно изучить рынок недвижимости.\n",
    "\n",
    "Прилагаю так же в выводе описание типичной квартиры:\n",
    "\n",
    "Квартира с высотой потолков 2.5 метра, находится чаще всего на любом этаже, кроме первого и последнего. Общая площадь такой квартиры составляет в среднем 50 кв.м. А жилая площадь около 20-30 кв.м. Кухня в такой квартире имеет площадь 7-10 кв.м. А количество комнат от 1 до 3. Цена такой квартиры 5-7 миллионов рублей"
   ]
  },
  {
   "cell_type": "code",
   "execution_count": null,
   "metadata": {},
   "outputs": [],
   "source": []
  }
 ],
 "metadata": {
  "ExecuteTimeLog": [
   {
    "duration": 74,
    "start_time": "2022-12-21T18:59:57.045Z"
   },
   {
    "duration": 72,
    "start_time": "2022-12-21T19:00:06.445Z"
   },
   {
    "duration": 572,
    "start_time": "2022-12-21T19:01:05.062Z"
   },
   {
    "duration": 125,
    "start_time": "2022-12-21T19:01:28.996Z"
   },
   {
    "duration": 137,
    "start_time": "2022-12-21T19:01:49.916Z"
   },
   {
    "duration": 105,
    "start_time": "2022-12-21T19:02:07.608Z"
   },
   {
    "duration": 2637,
    "start_time": "2022-12-21T19:03:01.987Z"
   },
   {
    "duration": 2452,
    "start_time": "2022-12-21T19:32:16.693Z"
   },
   {
    "duration": 113,
    "start_time": "2022-12-21T19:44:06.379Z"
   },
   {
    "duration": 17,
    "start_time": "2022-12-21T19:44:18.860Z"
   },
   {
    "duration": 14,
    "start_time": "2022-12-21T19:45:07.576Z"
   },
   {
    "duration": 3362,
    "start_time": "2022-12-21T19:45:15.919Z"
   },
   {
    "duration": 31,
    "start_time": "2022-12-21T19:45:19.284Z"
   },
   {
    "duration": 30,
    "start_time": "2022-12-21T19:45:29.703Z"
   },
   {
    "duration": 33,
    "start_time": "2022-12-21T19:45:45.299Z"
   },
   {
    "duration": 3302,
    "start_time": "2022-12-21T19:45:54.511Z"
   },
   {
    "duration": 65,
    "start_time": "2022-12-21T19:45:57.815Z"
   },
   {
    "duration": 3505,
    "start_time": "2022-12-21T19:47:25.244Z"
   },
   {
    "duration": 50,
    "start_time": "2022-12-21T19:47:28.751Z"
   },
   {
    "duration": 2405,
    "start_time": "2022-12-21T19:49:01.598Z"
   },
   {
    "duration": 2739,
    "start_time": "2022-12-21T19:49:23.137Z"
   },
   {
    "duration": 3404,
    "start_time": "2022-12-21T19:49:56.037Z"
   },
   {
    "duration": 37,
    "start_time": "2022-12-21T19:49:59.443Z"
   },
   {
    "duration": 11,
    "start_time": "2022-12-21T20:26:53.404Z"
   },
   {
    "duration": 21,
    "start_time": "2022-12-21T20:31:02.994Z"
   },
   {
    "duration": 16,
    "start_time": "2022-12-21T20:31:23.305Z"
   },
   {
    "duration": 19,
    "start_time": "2022-12-21T20:31:41.510Z"
   },
   {
    "duration": 21,
    "start_time": "2022-12-21T20:32:06.639Z"
   },
   {
    "duration": 27,
    "start_time": "2022-12-21T20:33:10.720Z"
   },
   {
    "duration": 13,
    "start_time": "2022-12-21T20:33:16.928Z"
   },
   {
    "duration": 22,
    "start_time": "2022-12-21T20:33:32.339Z"
   },
   {
    "duration": 18,
    "start_time": "2022-12-21T20:33:38.373Z"
   },
   {
    "duration": 3226,
    "start_time": "2022-12-21T20:34:02.711Z"
   },
   {
    "duration": 28,
    "start_time": "2022-12-21T20:34:05.939Z"
   },
   {
    "duration": 18,
    "start_time": "2022-12-21T20:34:32.481Z"
   },
   {
    "duration": 3334,
    "start_time": "2022-12-21T20:34:56.675Z"
   },
   {
    "duration": 24,
    "start_time": "2022-12-21T20:35:00.011Z"
   },
   {
    "duration": 22,
    "start_time": "2022-12-21T20:35:31.943Z"
   },
   {
    "duration": 22,
    "start_time": "2022-12-21T20:36:02.524Z"
   },
   {
    "duration": 3451,
    "start_time": "2022-12-21T20:36:09.878Z"
   },
   {
    "duration": 32,
    "start_time": "2022-12-21T20:36:13.332Z"
   },
   {
    "duration": 29,
    "start_time": "2022-12-21T20:36:24.391Z"
   },
   {
    "duration": 15,
    "start_time": "2022-12-21T20:36:43.433Z"
   },
   {
    "duration": 11,
    "start_time": "2022-12-21T20:36:58.814Z"
   },
   {
    "duration": 4121,
    "start_time": "2022-12-21T20:37:07.272Z"
   },
   {
    "duration": 21,
    "start_time": "2022-12-21T20:37:11.396Z"
   },
   {
    "duration": 12,
    "start_time": "2022-12-21T20:38:36.208Z"
   },
   {
    "duration": 12,
    "start_time": "2022-12-21T20:38:42.943Z"
   },
   {
    "duration": 6,
    "start_time": "2022-12-21T20:40:08.284Z"
   },
   {
    "duration": 11,
    "start_time": "2022-12-21T20:41:23.435Z"
   },
   {
    "duration": 12,
    "start_time": "2022-12-21T20:41:42.575Z"
   },
   {
    "duration": 18,
    "start_time": "2022-12-21T20:42:19.777Z"
   },
   {
    "duration": 17,
    "start_time": "2022-12-21T20:42:33.362Z"
   },
   {
    "duration": 12,
    "start_time": "2022-12-21T20:42:49.295Z"
   },
   {
    "duration": 125,
    "start_time": "2022-12-21T20:45:11.676Z"
   },
   {
    "duration": 411,
    "start_time": "2022-12-21T20:45:42.309Z"
   },
   {
    "duration": 53,
    "start_time": "2022-12-21T20:47:47.261Z"
   },
   {
    "duration": 34,
    "start_time": "2022-12-21T20:47:51.470Z"
   },
   {
    "duration": 33,
    "start_time": "2022-12-21T20:48:08.573Z"
   },
   {
    "duration": 3429,
    "start_time": "2022-12-21T20:48:14.244Z"
   },
   {
    "duration": 125,
    "start_time": "2022-12-21T20:48:17.676Z"
   },
   {
    "duration": 49,
    "start_time": "2022-12-21T20:50:36.195Z"
   },
   {
    "duration": 53,
    "start_time": "2022-12-21T20:51:06.299Z"
   },
   {
    "duration": 72,
    "start_time": "2022-12-21T20:51:12.662Z"
   },
   {
    "duration": 17,
    "start_time": "2022-12-21T20:51:19.741Z"
   },
   {
    "duration": 42,
    "start_time": "2022-12-21T20:51:32.101Z"
   },
   {
    "duration": 14,
    "start_time": "2022-12-21T20:51:44.296Z"
   },
   {
    "duration": 21,
    "start_time": "2022-12-21T20:51:49.687Z"
   },
   {
    "duration": 16,
    "start_time": "2022-12-21T20:54:27.922Z"
   },
   {
    "duration": 16,
    "start_time": "2022-12-21T20:54:34.613Z"
   },
   {
    "duration": 73,
    "start_time": "2022-12-21T20:55:38.207Z"
   },
   {
    "duration": 20,
    "start_time": "2022-12-21T20:55:52.321Z"
   },
   {
    "duration": 20,
    "start_time": "2022-12-21T20:56:03.165Z"
   },
   {
    "duration": 18,
    "start_time": "2022-12-21T20:56:19.153Z"
   },
   {
    "duration": 22,
    "start_time": "2022-12-21T20:56:25.031Z"
   },
   {
    "duration": 24,
    "start_time": "2022-12-21T20:56:40.818Z"
   },
   {
    "duration": 16,
    "start_time": "2022-12-21T20:56:50.804Z"
   },
   {
    "duration": 15,
    "start_time": "2022-12-21T20:56:59.512Z"
   },
   {
    "duration": 19,
    "start_time": "2022-12-21T20:57:27.360Z"
   },
   {
    "duration": 31,
    "start_time": "2022-12-21T21:01:35.045Z"
   },
   {
    "duration": 16,
    "start_time": "2022-12-21T21:01:39.789Z"
   },
   {
    "duration": 15,
    "start_time": "2022-12-21T21:25:48.283Z"
   },
   {
    "duration": 19,
    "start_time": "2022-12-21T21:25:54.716Z"
   },
   {
    "duration": 20,
    "start_time": "2022-12-21T21:26:00.141Z"
   },
   {
    "duration": 3127,
    "start_time": "2022-12-21T21:26:11.766Z"
   },
   {
    "duration": 44,
    "start_time": "2022-12-21T21:26:14.896Z"
   },
   {
    "duration": 24,
    "start_time": "2022-12-21T21:28:09.508Z"
   },
   {
    "duration": 28,
    "start_time": "2022-12-21T21:28:14.163Z"
   },
   {
    "duration": 23,
    "start_time": "2022-12-21T21:28:42.941Z"
   },
   {
    "duration": 24,
    "start_time": "2022-12-21T21:29:36.924Z"
   },
   {
    "duration": 20,
    "start_time": "2022-12-21T21:30:46.513Z"
   },
   {
    "duration": 23,
    "start_time": "2022-12-21T21:30:52.770Z"
   },
   {
    "duration": 20,
    "start_time": "2022-12-21T21:38:50.292Z"
   },
   {
    "duration": 18,
    "start_time": "2022-12-21T21:38:57.545Z"
   },
   {
    "duration": 24,
    "start_time": "2022-12-21T21:39:03.963Z"
   },
   {
    "duration": 23,
    "start_time": "2022-12-21T21:40:04.311Z"
   },
   {
    "duration": 18,
    "start_time": "2022-12-21T21:40:29.957Z"
   },
   {
    "duration": 2994,
    "start_time": "2022-12-21T21:40:38.970Z"
   },
   {
    "duration": 34,
    "start_time": "2022-12-21T21:40:41.967Z"
   },
   {
    "duration": 16,
    "start_time": "2022-12-21T21:40:47.431Z"
   },
   {
    "duration": 17,
    "start_time": "2022-12-21T21:41:21.120Z"
   },
   {
    "duration": 23,
    "start_time": "2022-12-21T21:41:30.443Z"
   },
   {
    "duration": 15,
    "start_time": "2022-12-21T21:41:48.283Z"
   },
   {
    "duration": 15,
    "start_time": "2022-12-21T21:41:51.429Z"
   },
   {
    "duration": 16,
    "start_time": "2022-12-21T21:41:56.472Z"
   },
   {
    "duration": 17,
    "start_time": "2022-12-21T21:42:07.047Z"
   },
   {
    "duration": 19,
    "start_time": "2022-12-21T21:42:29.560Z"
   },
   {
    "duration": 18,
    "start_time": "2022-12-21T21:42:58.841Z"
   },
   {
    "duration": 17,
    "start_time": "2022-12-21T21:43:18.994Z"
   },
   {
    "duration": 19,
    "start_time": "2022-12-21T21:43:29.030Z"
   },
   {
    "duration": 17,
    "start_time": "2022-12-21T21:44:24.533Z"
   },
   {
    "duration": 30,
    "start_time": "2022-12-21T21:44:45.611Z"
   },
   {
    "duration": 21,
    "start_time": "2022-12-21T21:44:51.901Z"
   },
   {
    "duration": 3206,
    "start_time": "2022-12-21T21:44:58.739Z"
   },
   {
    "duration": 38,
    "start_time": "2022-12-21T21:45:01.948Z"
   },
   {
    "duration": 102,
    "start_time": "2022-12-21T21:45:49.237Z"
   },
   {
    "duration": 28,
    "start_time": "2022-12-21T21:46:00.382Z"
   },
   {
    "duration": 20,
    "start_time": "2022-12-21T21:46:55.220Z"
   },
   {
    "duration": 22,
    "start_time": "2022-12-21T21:47:30.580Z"
   },
   {
    "duration": 76,
    "start_time": "2022-12-21T21:47:47.935Z"
   },
   {
    "duration": 26,
    "start_time": "2022-12-21T21:47:53.042Z"
   },
   {
    "duration": 22,
    "start_time": "2022-12-21T21:48:24.961Z"
   },
   {
    "duration": 21,
    "start_time": "2022-12-21T21:48:40.281Z"
   },
   {
    "duration": 16,
    "start_time": "2022-12-21T21:48:45.994Z"
   },
   {
    "duration": 15,
    "start_time": "2022-12-21T21:48:55.843Z"
   },
   {
    "duration": 15,
    "start_time": "2022-12-21T21:48:58.698Z"
   },
   {
    "duration": 15,
    "start_time": "2022-12-21T21:49:03.257Z"
   },
   {
    "duration": 2981,
    "start_time": "2022-12-21T21:49:11.792Z"
   },
   {
    "duration": 29,
    "start_time": "2022-12-21T21:49:14.776Z"
   },
   {
    "duration": 32,
    "start_time": "2022-12-21T21:50:50.981Z"
   },
   {
    "duration": 20,
    "start_time": "2022-12-21T21:50:57.766Z"
   },
   {
    "duration": 3011,
    "start_time": "2022-12-21T21:51:04.414Z"
   },
   {
    "duration": 34,
    "start_time": "2022-12-21T21:51:07.427Z"
   },
   {
    "duration": 22,
    "start_time": "2022-12-21T21:53:46.667Z"
   },
   {
    "duration": 40,
    "start_time": "2022-12-21T21:54:22.942Z"
   },
   {
    "duration": 50,
    "start_time": "2022-12-21T21:57:03.925Z"
   },
   {
    "duration": 53,
    "start_time": "2023-01-23T22:11:46.192Z"
   },
   {
    "duration": 2901,
    "start_time": "2023-01-23T22:11:50.261Z"
   },
   {
    "duration": 42,
    "start_time": "2023-01-23T22:11:56.035Z"
   },
   {
    "duration": 28,
    "start_time": "2023-01-23T22:12:30.383Z"
   },
   {
    "duration": 32,
    "start_time": "2023-01-23T22:12:45.538Z"
   },
   {
    "duration": 2118,
    "start_time": "2023-01-23T22:17:20.362Z"
   },
   {
    "duration": 17,
    "start_time": "2023-01-23T22:17:22.483Z"
   },
   {
    "duration": 2817,
    "start_time": "2023-01-24T18:53:40.417Z"
   },
   {
    "duration": 20,
    "start_time": "2023-01-24T18:53:59.652Z"
   },
   {
    "duration": 93,
    "start_time": "2023-01-24T18:54:05.410Z"
   },
   {
    "duration": 70,
    "start_time": "2023-01-24T18:54:11.236Z"
   },
   {
    "duration": 2074,
    "start_time": "2023-01-24T18:54:20.669Z"
   },
   {
    "duration": 16,
    "start_time": "2023-01-24T18:54:23.527Z"
   },
   {
    "duration": 78,
    "start_time": "2023-01-24T18:54:25.366Z"
   },
   {
    "duration": 19,
    "start_time": "2023-01-24T18:54:30.281Z"
   },
   {
    "duration": 27,
    "start_time": "2023-01-24T18:55:31.204Z"
   },
   {
    "duration": 70,
    "start_time": "2023-01-24T19:03:28.003Z"
   },
   {
    "duration": 1864,
    "start_time": "2023-01-24T19:03:33.868Z"
   },
   {
    "duration": 1767,
    "start_time": "2023-01-24T19:03:37.337Z"
   },
   {
    "duration": 16,
    "start_time": "2023-01-24T19:03:41.702Z"
   },
   {
    "duration": 13,
    "start_time": "2023-01-24T19:03:44.801Z"
   },
   {
    "duration": 17,
    "start_time": "2023-01-24T19:04:00.823Z"
   },
   {
    "duration": 15,
    "start_time": "2023-01-24T19:04:49.018Z"
   },
   {
    "duration": 9,
    "start_time": "2023-01-24T19:04:53.904Z"
   },
   {
    "duration": 17,
    "start_time": "2023-01-24T19:06:02.061Z"
   },
   {
    "duration": 14,
    "start_time": "2023-01-24T19:06:05.703Z"
   },
   {
    "duration": 13,
    "start_time": "2023-01-24T19:06:08.700Z"
   },
   {
    "duration": 7,
    "start_time": "2023-01-24T19:10:39.979Z"
   },
   {
    "duration": 8,
    "start_time": "2023-01-24T19:11:39.838Z"
   },
   {
    "duration": 3,
    "start_time": "2023-01-24T19:12:09.727Z"
   },
   {
    "duration": 16,
    "start_time": "2023-01-24T19:12:15.669Z"
   },
   {
    "duration": 2102,
    "start_time": "2023-01-24T19:17:52.826Z"
   },
   {
    "duration": 44,
    "start_time": "2023-01-24T19:18:01.409Z"
   },
   {
    "duration": 44,
    "start_time": "2023-01-24T19:18:42.896Z"
   },
   {
    "duration": 53,
    "start_time": "2023-01-24T19:23:14.416Z"
   },
   {
    "duration": 38,
    "start_time": "2023-01-24T19:28:14.291Z"
   },
   {
    "duration": 2125,
    "start_time": "2023-01-24T19:28:51.603Z"
   },
   {
    "duration": 54,
    "start_time": "2023-01-24T19:29:00.341Z"
   },
   {
    "duration": 39,
    "start_time": "2023-01-24T19:29:06.462Z"
   },
   {
    "duration": 42,
    "start_time": "2023-01-24T19:30:03.170Z"
   },
   {
    "duration": 34,
    "start_time": "2023-01-24T19:30:17.501Z"
   },
   {
    "duration": 15,
    "start_time": "2023-01-24T19:30:26.918Z"
   },
   {
    "duration": 5,
    "start_time": "2023-01-24T20:07:08.016Z"
   },
   {
    "duration": 1453,
    "start_time": "2023-01-24T20:09:44.704Z"
   },
   {
    "duration": 5,
    "start_time": "2023-01-24T20:09:59.705Z"
   },
   {
    "duration": 5,
    "start_time": "2023-01-24T20:10:05.631Z"
   },
   {
    "duration": 95,
    "start_time": "2023-01-24T20:17:08.563Z"
   },
   {
    "duration": 6,
    "start_time": "2023-01-24T20:17:17.227Z"
   },
   {
    "duration": 5,
    "start_time": "2023-01-24T20:17:30.094Z"
   },
   {
    "duration": 6,
    "start_time": "2023-01-24T20:17:44.409Z"
   },
   {
    "duration": 6,
    "start_time": "2023-01-24T20:26:43.668Z"
   },
   {
    "duration": 10,
    "start_time": "2023-01-24T20:26:47.657Z"
   },
   {
    "duration": 5,
    "start_time": "2023-01-24T20:27:09.849Z"
   },
   {
    "duration": 8,
    "start_time": "2023-01-24T20:27:16.485Z"
   },
   {
    "duration": 13,
    "start_time": "2023-01-24T20:27:25.837Z"
   },
   {
    "duration": 6,
    "start_time": "2023-01-24T20:27:31.567Z"
   },
   {
    "duration": 7,
    "start_time": "2023-01-24T21:07:50.881Z"
   },
   {
    "duration": 5,
    "start_time": "2023-01-24T21:07:56.621Z"
   },
   {
    "duration": 9,
    "start_time": "2023-01-24T21:08:05.288Z"
   },
   {
    "duration": 4,
    "start_time": "2023-01-24T21:08:13.973Z"
   },
   {
    "duration": 7,
    "start_time": "2023-01-24T21:08:21.456Z"
   },
   {
    "duration": 6,
    "start_time": "2023-01-24T21:08:26.179Z"
   },
   {
    "duration": 6,
    "start_time": "2023-01-24T21:08:32.373Z"
   },
   {
    "duration": 28,
    "start_time": "2023-01-24T21:08:47.704Z"
   },
   {
    "duration": 26,
    "start_time": "2023-01-24T21:08:52.043Z"
   },
   {
    "duration": 29,
    "start_time": "2023-01-24T21:08:55.024Z"
   },
   {
    "duration": 29,
    "start_time": "2023-01-24T21:09:20.469Z"
   },
   {
    "duration": 32,
    "start_time": "2023-01-24T21:09:26.344Z"
   },
   {
    "duration": 29,
    "start_time": "2023-01-24T21:09:59.453Z"
   },
   {
    "duration": 31,
    "start_time": "2023-01-24T21:11:07.932Z"
   },
   {
    "duration": 29,
    "start_time": "2023-01-24T21:11:15.331Z"
   },
   {
    "duration": 29,
    "start_time": "2023-01-24T21:11:21.686Z"
   },
   {
    "duration": 29,
    "start_time": "2023-01-24T21:14:09.978Z"
   },
   {
    "duration": 30,
    "start_time": "2023-01-24T21:14:28.925Z"
   },
   {
    "duration": 29,
    "start_time": "2023-01-24T21:14:32.640Z"
   },
   {
    "duration": 29,
    "start_time": "2023-01-24T21:14:43.372Z"
   },
   {
    "duration": 38,
    "start_time": "2023-01-24T21:14:50.348Z"
   },
   {
    "duration": 40,
    "start_time": "2023-01-24T21:15:38.832Z"
   },
   {
    "duration": 44,
    "start_time": "2023-01-24T21:25:38.672Z"
   },
   {
    "duration": 41,
    "start_time": "2023-01-24T21:25:42.728Z"
   },
   {
    "duration": 51,
    "start_time": "2023-01-24T21:25:51.704Z"
   },
   {
    "duration": 39,
    "start_time": "2023-01-24T21:26:03.343Z"
   },
   {
    "duration": 1814,
    "start_time": "2023-01-24T21:26:11.623Z"
   },
   {
    "duration": 13,
    "start_time": "2023-01-24T21:26:13.439Z"
   },
   {
    "duration": 44,
    "start_time": "2023-01-24T21:26:15.592Z"
   },
   {
    "duration": 50,
    "start_time": "2023-01-24T21:26:51.643Z"
   },
   {
    "duration": 50,
    "start_time": "2023-01-24T21:27:57.287Z"
   },
   {
    "duration": 1814,
    "start_time": "2023-01-24T21:31:37.371Z"
   },
   {
    "duration": 14,
    "start_time": "2023-01-24T21:31:39.187Z"
   },
   {
    "duration": 51,
    "start_time": "2023-01-24T21:31:41.551Z"
   },
   {
    "duration": 1848,
    "start_time": "2023-01-24T21:33:49.143Z"
   },
   {
    "duration": 15,
    "start_time": "2023-01-24T21:33:50.993Z"
   },
   {
    "duration": 62,
    "start_time": "2023-01-24T21:33:51.010Z"
   },
   {
    "duration": 66,
    "start_time": "2023-01-24T21:34:22.371Z"
   },
   {
    "duration": 53,
    "start_time": "2023-01-24T21:34:34.726Z"
   },
   {
    "duration": 64,
    "start_time": "2023-01-24T21:35:02.468Z"
   },
   {
    "duration": 1771,
    "start_time": "2023-01-24T21:35:08.823Z"
   },
   {
    "duration": 16,
    "start_time": "2023-01-24T21:35:10.596Z"
   },
   {
    "duration": 65,
    "start_time": "2023-01-24T21:35:10.614Z"
   },
   {
    "duration": 50,
    "start_time": "2023-01-24T21:35:38.066Z"
   },
   {
    "duration": 1789,
    "start_time": "2023-01-24T21:35:41.881Z"
   },
   {
    "duration": 14,
    "start_time": "2023-01-24T21:35:43.672Z"
   },
   {
    "duration": 73,
    "start_time": "2023-01-24T21:35:43.687Z"
   },
   {
    "duration": 44,
    "start_time": "2023-01-24T21:36:20.631Z"
   },
   {
    "duration": 1841,
    "start_time": "2023-01-24T21:37:39.782Z"
   },
   {
    "duration": 20,
    "start_time": "2023-01-24T21:37:41.625Z"
   },
   {
    "duration": 46,
    "start_time": "2023-01-24T21:37:41.646Z"
   },
   {
    "duration": 1722,
    "start_time": "2023-01-24T21:40:46.764Z"
   },
   {
    "duration": 16,
    "start_time": "2023-01-24T21:40:48.488Z"
   },
   {
    "duration": 72,
    "start_time": "2023-01-24T21:40:48.506Z"
   },
   {
    "duration": 66,
    "start_time": "2023-01-24T21:41:36.229Z"
   },
   {
    "duration": 67,
    "start_time": "2023-01-24T21:43:10.867Z"
   },
   {
    "duration": 1833,
    "start_time": "2023-01-24T21:43:23.012Z"
   },
   {
    "duration": 15,
    "start_time": "2023-01-24T21:43:24.847Z"
   },
   {
    "duration": 105,
    "start_time": "2023-01-24T21:43:24.864Z"
   },
   {
    "duration": 1768,
    "start_time": "2023-01-24T21:43:42.664Z"
   },
   {
    "duration": 15,
    "start_time": "2023-01-24T21:43:44.436Z"
   },
   {
    "duration": 68,
    "start_time": "2023-01-24T21:43:44.452Z"
   },
   {
    "duration": 1761,
    "start_time": "2023-01-24T21:45:02.573Z"
   },
   {
    "duration": 14,
    "start_time": "2023-01-24T21:45:04.336Z"
   },
   {
    "duration": 65,
    "start_time": "2023-01-24T21:45:04.351Z"
   },
   {
    "duration": 1795,
    "start_time": "2023-01-24T21:46:05.214Z"
   },
   {
    "duration": 13,
    "start_time": "2023-01-24T21:46:07.011Z"
   },
   {
    "duration": 453,
    "start_time": "2023-01-24T21:46:07.026Z"
   },
   {
    "duration": 78,
    "start_time": "2023-01-24T21:49:52.263Z"
   },
   {
    "duration": 1879,
    "start_time": "2023-01-24T21:50:08.020Z"
   },
   {
    "duration": 15,
    "start_time": "2023-01-24T21:50:09.901Z"
   },
   {
    "duration": 91,
    "start_time": "2023-01-24T21:50:09.918Z"
   },
   {
    "duration": 1697,
    "start_time": "2023-01-24T22:02:57.240Z"
   },
   {
    "duration": 14,
    "start_time": "2023-01-24T22:02:58.939Z"
   },
   {
    "duration": 84,
    "start_time": "2023-01-24T22:02:58.955Z"
   },
   {
    "duration": 1735,
    "start_time": "2023-01-24T22:37:02.462Z"
   },
   {
    "duration": 16,
    "start_time": "2023-01-24T22:37:04.199Z"
   },
   {
    "duration": 98,
    "start_time": "2023-01-24T22:37:04.216Z"
   },
   {
    "duration": 1789,
    "start_time": "2023-01-24T22:55:39.262Z"
   },
   {
    "duration": 15,
    "start_time": "2023-01-24T22:55:41.053Z"
   },
   {
    "duration": 1683,
    "start_time": "2023-01-24T22:55:56.258Z"
   },
   {
    "duration": 15,
    "start_time": "2023-01-24T22:55:57.943Z"
   },
   {
    "duration": 95,
    "start_time": "2023-01-24T22:55:58.066Z"
   },
   {
    "duration": 6,
    "start_time": "2023-01-24T23:01:24.739Z"
   },
   {
    "duration": 5,
    "start_time": "2023-01-24T23:01:48.320Z"
   },
   {
    "duration": 106,
    "start_time": "2023-01-24T23:04:22.590Z"
   },
   {
    "duration": 9,
    "start_time": "2023-01-24T23:05:11.891Z"
   },
   {
    "duration": 7,
    "start_time": "2023-01-24T23:05:14.660Z"
   },
   {
    "duration": 9,
    "start_time": "2023-01-24T23:05:47.007Z"
   },
   {
    "duration": 7,
    "start_time": "2023-01-24T23:05:51.895Z"
   },
   {
    "duration": 7,
    "start_time": "2023-01-24T23:05:56.925Z"
   },
   {
    "duration": 12,
    "start_time": "2023-01-24T23:07:30.177Z"
   },
   {
    "duration": 11,
    "start_time": "2023-01-24T23:08:12.553Z"
   },
   {
    "duration": 9,
    "start_time": "2023-01-24T23:08:32.901Z"
   },
   {
    "duration": 1658,
    "start_time": "2023-01-24T23:16:33.954Z"
   },
   {
    "duration": 24,
    "start_time": "2023-01-24T23:16:35.614Z"
   },
   {
    "duration": 83,
    "start_time": "2023-01-24T23:16:35.640Z"
   },
   {
    "duration": 6,
    "start_time": "2023-01-24T23:16:35.736Z"
   },
   {
    "duration": 8,
    "start_time": "2023-01-24T23:16:49.278Z"
   },
   {
    "duration": 9,
    "start_time": "2023-01-24T23:16:53.781Z"
   },
   {
    "duration": 12,
    "start_time": "2023-01-24T23:17:11.195Z"
   },
   {
    "duration": 78,
    "start_time": "2023-01-24T23:17:51.366Z"
   },
   {
    "duration": 67,
    "start_time": "2023-01-24T23:17:56.487Z"
   },
   {
    "duration": 61,
    "start_time": "2023-01-24T23:18:18.903Z"
   },
   {
    "duration": 50,
    "start_time": "2023-01-24T23:18:24.225Z"
   },
   {
    "duration": 53,
    "start_time": "2023-01-24T23:18:27.653Z"
   },
   {
    "duration": 53,
    "start_time": "2023-01-24T23:18:31.439Z"
   },
   {
    "duration": 51,
    "start_time": "2023-01-24T23:18:34.708Z"
   },
   {
    "duration": 52,
    "start_time": "2023-01-24T23:18:37.385Z"
   },
   {
    "duration": 52,
    "start_time": "2023-01-24T23:18:40.892Z"
   },
   {
    "duration": 50,
    "start_time": "2023-01-24T23:18:46.973Z"
   },
   {
    "duration": 1704,
    "start_time": "2023-01-24T23:18:50.334Z"
   },
   {
    "duration": 14,
    "start_time": "2023-01-24T23:18:52.040Z"
   },
   {
    "duration": 86,
    "start_time": "2023-01-24T23:18:52.055Z"
   },
   {
    "duration": 48,
    "start_time": "2023-01-24T23:18:52.142Z"
   },
   {
    "duration": 12,
    "start_time": "2023-01-24T23:18:52.192Z"
   },
   {
    "duration": 8,
    "start_time": "2023-01-24T23:19:03.107Z"
   },
   {
    "duration": 2304,
    "start_time": "2023-01-24T23:19:16.152Z"
   },
   {
    "duration": 16,
    "start_time": "2023-01-24T23:19:18.458Z"
   },
   {
    "duration": 83,
    "start_time": "2023-01-24T23:19:18.475Z"
   },
   {
    "duration": 7,
    "start_time": "2023-01-24T23:19:18.559Z"
   },
   {
    "duration": 27,
    "start_time": "2023-01-24T23:19:18.568Z"
   },
   {
    "duration": 2306,
    "start_time": "2023-01-24T23:19:29.749Z"
   },
   {
    "duration": 17,
    "start_time": "2023-01-24T23:19:32.057Z"
   },
   {
    "duration": 83,
    "start_time": "2023-01-24T23:19:32.075Z"
   },
   {
    "duration": 10,
    "start_time": "2023-01-24T23:19:32.159Z"
   },
   {
    "duration": 35,
    "start_time": "2023-01-24T23:19:32.171Z"
   },
   {
    "duration": 9,
    "start_time": "2023-01-24T23:19:51.369Z"
   },
   {
    "duration": 2371,
    "start_time": "2023-01-24T23:19:59.617Z"
   },
   {
    "duration": 16,
    "start_time": "2023-01-24T23:20:01.990Z"
   },
   {
    "duration": 94,
    "start_time": "2023-01-24T23:20:02.007Z"
   },
   {
    "duration": 21,
    "start_time": "2023-01-24T23:20:02.103Z"
   },
   {
    "duration": 27,
    "start_time": "2023-01-24T23:20:02.126Z"
   },
   {
    "duration": 51,
    "start_time": "2023-01-24T23:20:33.583Z"
   },
   {
    "duration": 2371,
    "start_time": "2023-01-24T23:24:46.712Z"
   },
   {
    "duration": 18,
    "start_time": "2023-01-24T23:24:49.085Z"
   },
   {
    "duration": 79,
    "start_time": "2023-01-24T23:24:49.105Z"
   },
   {
    "duration": 57,
    "start_time": "2023-01-24T23:24:49.186Z"
   },
   {
    "duration": 7,
    "start_time": "2023-01-24T23:33:32.456Z"
   },
   {
    "duration": 3065,
    "start_time": "2023-01-25T18:18:08.454Z"
   },
   {
    "duration": 19,
    "start_time": "2023-01-25T18:18:11.520Z"
   },
   {
    "duration": 91,
    "start_time": "2023-01-25T18:18:11.540Z"
   },
   {
    "duration": 68,
    "start_time": "2023-01-25T18:18:11.633Z"
   },
   {
    "duration": 46,
    "start_time": "2023-01-25T18:18:11.703Z"
   },
   {
    "duration": 72,
    "start_time": "2023-01-25T18:20:40.860Z"
   },
   {
    "duration": 7,
    "start_time": "2023-01-25T18:21:16.942Z"
   },
   {
    "duration": 5,
    "start_time": "2023-01-25T18:21:41.460Z"
   },
   {
    "duration": 15,
    "start_time": "2023-01-25T18:21:48.887Z"
   },
   {
    "duration": 51,
    "start_time": "2023-01-25T18:22:07.593Z"
   },
   {
    "duration": 8,
    "start_time": "2023-01-25T18:22:13.992Z"
   },
   {
    "duration": 2674,
    "start_time": "2023-01-25T18:22:45.945Z"
   },
   {
    "duration": 20,
    "start_time": "2023-01-25T18:22:48.621Z"
   },
   {
    "duration": 98,
    "start_time": "2023-01-25T18:22:48.642Z"
   },
   {
    "duration": 62,
    "start_time": "2023-01-25T18:22:48.758Z"
   },
   {
    "duration": 78,
    "start_time": "2023-01-25T18:22:48.822Z"
   },
   {
    "duration": 10,
    "start_time": "2023-01-25T18:24:45.106Z"
   },
   {
    "duration": 6,
    "start_time": "2023-01-25T18:25:50.943Z"
   },
   {
    "duration": 23,
    "start_time": "2023-01-25T18:26:04.315Z"
   },
   {
    "duration": 28,
    "start_time": "2023-01-25T18:26:18.466Z"
   },
   {
    "duration": 21,
    "start_time": "2023-01-25T18:26:25.944Z"
   },
   {
    "duration": 7,
    "start_time": "2023-01-25T18:26:45.975Z"
   },
   {
    "duration": 6,
    "start_time": "2023-01-25T18:28:32.775Z"
   },
   {
    "duration": 26,
    "start_time": "2023-01-25T18:28:39.119Z"
   },
   {
    "duration": 7,
    "start_time": "2023-01-25T18:28:54.148Z"
   },
   {
    "duration": 9,
    "start_time": "2023-01-25T18:30:17.302Z"
   },
   {
    "duration": 3,
    "start_time": "2023-01-25T18:30:36.015Z"
   },
   {
    "duration": 2512,
    "start_time": "2023-01-25T18:30:41.091Z"
   },
   {
    "duration": 17,
    "start_time": "2023-01-25T18:30:43.605Z"
   },
   {
    "duration": 88,
    "start_time": "2023-01-25T18:30:43.623Z"
   },
   {
    "duration": 62,
    "start_time": "2023-01-25T18:30:43.713Z"
   },
   {
    "duration": 3,
    "start_time": "2023-01-25T18:30:43.777Z"
   },
   {
    "duration": 50,
    "start_time": "2023-01-25T18:38:52.343Z"
   },
   {
    "duration": 70,
    "start_time": "2023-01-25T18:39:15.461Z"
   },
   {
    "duration": 3,
    "start_time": "2023-01-25T18:40:00.428Z"
   },
   {
    "duration": 12,
    "start_time": "2023-01-25T18:41:55.861Z"
   },
   {
    "duration": 8,
    "start_time": "2023-01-25T18:42:04.584Z"
   },
   {
    "duration": 12,
    "start_time": "2023-01-25T18:42:16.579Z"
   },
   {
    "duration": 12,
    "start_time": "2023-01-25T18:44:46.684Z"
   },
   {
    "duration": 8,
    "start_time": "2023-01-25T18:44:57.343Z"
   },
   {
    "duration": 8,
    "start_time": "2023-01-25T18:45:17.651Z"
   },
   {
    "duration": 10,
    "start_time": "2023-01-25T18:45:23.218Z"
   },
   {
    "duration": 9,
    "start_time": "2023-01-25T18:45:31.602Z"
   },
   {
    "duration": 8,
    "start_time": "2023-01-25T18:45:38.084Z"
   },
   {
    "duration": 10,
    "start_time": "2023-01-25T18:45:42.850Z"
   },
   {
    "duration": 12,
    "start_time": "2023-01-25T18:45:54.745Z"
   },
   {
    "duration": 10,
    "start_time": "2023-01-25T18:50:51.083Z"
   },
   {
    "duration": 10,
    "start_time": "2023-01-25T18:50:59.138Z"
   },
   {
    "duration": 11,
    "start_time": "2023-01-25T18:51:04.666Z"
   },
   {
    "duration": 11,
    "start_time": "2023-01-25T18:51:59.990Z"
   },
   {
    "duration": 11,
    "start_time": "2023-01-25T18:52:03.108Z"
   },
   {
    "duration": 10,
    "start_time": "2023-01-25T18:52:06.417Z"
   },
   {
    "duration": 11,
    "start_time": "2023-01-25T18:52:12.841Z"
   },
   {
    "duration": 11,
    "start_time": "2023-01-25T18:52:32.633Z"
   },
   {
    "duration": 84,
    "start_time": "2023-01-25T18:52:49.455Z"
   },
   {
    "duration": 11,
    "start_time": "2023-01-25T18:52:57.962Z"
   },
   {
    "duration": 2722,
    "start_time": "2023-01-25T18:54:13.313Z"
   },
   {
    "duration": 782,
    "start_time": "2023-01-25T18:54:16.037Z"
   },
   {
    "duration": 0,
    "start_time": "2023-01-25T18:54:16.821Z"
   },
   {
    "duration": 0,
    "start_time": "2023-01-25T18:54:16.823Z"
   },
   {
    "duration": 0,
    "start_time": "2023-01-25T18:54:16.824Z"
   },
   {
    "duration": 31,
    "start_time": "2023-01-25T18:54:25.428Z"
   },
   {
    "duration": 12,
    "start_time": "2023-01-25T18:54:32.289Z"
   },
   {
    "duration": 11,
    "start_time": "2023-01-25T18:56:26.408Z"
   },
   {
    "duration": 2664,
    "start_time": "2023-01-25T18:56:53.635Z"
   },
   {
    "duration": 24,
    "start_time": "2023-01-25T18:56:56.301Z"
   },
   {
    "duration": 90,
    "start_time": "2023-01-25T18:56:56.330Z"
   },
   {
    "duration": 68,
    "start_time": "2023-01-25T18:56:56.421Z"
   },
   {
    "duration": 85,
    "start_time": "2023-01-25T18:56:56.491Z"
   },
   {
    "duration": 19,
    "start_time": "2023-01-25T18:57:06.609Z"
   },
   {
    "duration": 2585,
    "start_time": "2023-01-25T18:57:49.890Z"
   },
   {
    "duration": 34,
    "start_time": "2023-01-25T18:57:52.476Z"
   },
   {
    "duration": 90,
    "start_time": "2023-01-25T18:57:52.512Z"
   },
   {
    "duration": 68,
    "start_time": "2023-01-25T18:57:52.604Z"
   },
   {
    "duration": 8,
    "start_time": "2023-01-25T18:57:52.674Z"
   },
   {
    "duration": 9,
    "start_time": "2023-01-25T18:58:03.417Z"
   },
   {
    "duration": 23,
    "start_time": "2023-01-25T19:01:18.135Z"
   },
   {
    "duration": 54,
    "start_time": "2023-01-25T19:01:41.445Z"
   },
   {
    "duration": 36,
    "start_time": "2023-01-25T19:01:54.497Z"
   },
   {
    "duration": 2626,
    "start_time": "2023-01-25T19:02:41.161Z"
   },
   {
    "duration": 22,
    "start_time": "2023-01-25T19:02:43.789Z"
   },
   {
    "duration": 98,
    "start_time": "2023-01-25T19:02:43.813Z"
   },
   {
    "duration": 72,
    "start_time": "2023-01-25T19:02:43.913Z"
   },
   {
    "duration": 37,
    "start_time": "2023-01-25T19:02:43.986Z"
   },
   {
    "duration": 36,
    "start_time": "2023-01-25T19:18:40.784Z"
   },
   {
    "duration": 19,
    "start_time": "2023-01-25T19:19:08.106Z"
   },
   {
    "duration": 2509,
    "start_time": "2023-01-25T19:43:46.906Z"
   },
   {
    "duration": 24,
    "start_time": "2023-01-25T19:43:49.417Z"
   },
   {
    "duration": 88,
    "start_time": "2023-01-25T19:43:49.442Z"
   },
   {
    "duration": 68,
    "start_time": "2023-01-25T19:43:49.532Z"
   },
   {
    "duration": 18,
    "start_time": "2023-01-25T19:43:49.602Z"
   },
   {
    "duration": 22,
    "start_time": "2023-01-25T19:53:48.464Z"
   },
   {
    "duration": 2500,
    "start_time": "2023-01-25T19:53:55.567Z"
   },
   {
    "duration": 22,
    "start_time": "2023-01-25T19:53:58.069Z"
   },
   {
    "duration": 94,
    "start_time": "2023-01-25T19:53:58.092Z"
   },
   {
    "duration": 67,
    "start_time": "2023-01-25T19:53:58.187Z"
   },
   {
    "duration": 20,
    "start_time": "2023-01-25T19:53:58.256Z"
   },
   {
    "duration": 2686,
    "start_time": "2023-01-25T19:54:44.725Z"
   },
   {
    "duration": 23,
    "start_time": "2023-01-25T19:54:47.413Z"
   },
   {
    "duration": 87,
    "start_time": "2023-01-25T19:54:47.438Z"
   },
   {
    "duration": 70,
    "start_time": "2023-01-25T19:54:47.528Z"
   },
   {
    "duration": 264,
    "start_time": "2023-01-25T19:54:47.599Z"
   },
   {
    "duration": 2597,
    "start_time": "2023-01-25T19:55:33.142Z"
   },
   {
    "duration": 21,
    "start_time": "2023-01-25T19:55:35.741Z"
   },
   {
    "duration": 94,
    "start_time": "2023-01-25T19:55:35.764Z"
   },
   {
    "duration": 67,
    "start_time": "2023-01-25T19:55:35.859Z"
   },
   {
    "duration": 39,
    "start_time": "2023-01-25T19:55:35.929Z"
   },
   {
    "duration": 245,
    "start_time": "2023-01-25T19:57:25.548Z"
   },
   {
    "duration": 2536,
    "start_time": "2023-01-25T20:24:37.756Z"
   },
   {
    "duration": 22,
    "start_time": "2023-01-25T20:24:40.294Z"
   },
   {
    "duration": 85,
    "start_time": "2023-01-25T20:24:40.318Z"
   },
   {
    "duration": 65,
    "start_time": "2023-01-25T20:24:40.405Z"
   },
   {
    "duration": 250,
    "start_time": "2023-01-25T20:24:40.472Z"
   },
   {
    "duration": 0,
    "start_time": "2023-01-25T20:24:40.724Z"
   },
   {
    "duration": 2497,
    "start_time": "2023-01-25T20:26:38.870Z"
   },
   {
    "duration": 24,
    "start_time": "2023-01-25T20:26:41.369Z"
   },
   {
    "duration": 87,
    "start_time": "2023-01-25T20:26:41.395Z"
   },
   {
    "duration": 64,
    "start_time": "2023-01-25T20:26:41.484Z"
   },
   {
    "duration": 257,
    "start_time": "2023-01-25T20:26:41.549Z"
   },
   {
    "duration": 0,
    "start_time": "2023-01-25T20:26:41.807Z"
   },
   {
    "duration": 2469,
    "start_time": "2023-01-25T20:29:52.506Z"
   },
   {
    "duration": 23,
    "start_time": "2023-01-25T20:29:54.976Z"
   },
   {
    "duration": 85,
    "start_time": "2023-01-25T20:29:55.001Z"
   },
   {
    "duration": 64,
    "start_time": "2023-01-25T20:29:55.089Z"
   },
   {
    "duration": 56,
    "start_time": "2023-01-25T20:29:55.154Z"
   },
   {
    "duration": 0,
    "start_time": "2023-01-25T20:29:55.212Z"
   },
   {
    "duration": 2674,
    "start_time": "2023-01-25T20:30:12.213Z"
   },
   {
    "duration": 23,
    "start_time": "2023-01-25T20:30:14.889Z"
   },
   {
    "duration": 92,
    "start_time": "2023-01-25T20:30:14.914Z"
   },
   {
    "duration": 70,
    "start_time": "2023-01-25T20:30:15.008Z"
   },
   {
    "duration": 223,
    "start_time": "2023-01-25T20:30:15.080Z"
   },
   {
    "duration": 67,
    "start_time": "2023-01-25T20:30:15.305Z"
   },
   {
    "duration": 2505,
    "start_time": "2023-01-25T20:30:31.610Z"
   },
   {
    "duration": 25,
    "start_time": "2023-01-25T20:30:34.117Z"
   },
   {
    "duration": 89,
    "start_time": "2023-01-25T20:30:34.144Z"
   },
   {
    "duration": 67,
    "start_time": "2023-01-25T20:30:34.235Z"
   },
   {
    "duration": 217,
    "start_time": "2023-01-25T20:30:34.306Z"
   },
   {
    "duration": 74,
    "start_time": "2023-01-25T20:30:34.524Z"
   },
   {
    "duration": 2658,
    "start_time": "2023-01-25T20:31:06.401Z"
   },
   {
    "duration": 24,
    "start_time": "2023-01-25T20:31:09.061Z"
   },
   {
    "duration": 100,
    "start_time": "2023-01-25T20:31:09.087Z"
   },
   {
    "duration": 64,
    "start_time": "2023-01-25T20:31:09.188Z"
   },
   {
    "duration": 245,
    "start_time": "2023-01-25T20:31:09.256Z"
   },
   {
    "duration": 78,
    "start_time": "2023-01-25T20:31:09.503Z"
   },
   {
    "duration": 2558,
    "start_time": "2023-01-25T20:33:12.337Z"
   },
   {
    "duration": 22,
    "start_time": "2023-01-25T20:33:14.896Z"
   },
   {
    "duration": 89,
    "start_time": "2023-01-25T20:33:14.919Z"
   },
   {
    "duration": 60,
    "start_time": "2023-01-25T20:33:15.010Z"
   },
   {
    "duration": 241,
    "start_time": "2023-01-25T20:33:15.072Z"
   },
   {
    "duration": 84,
    "start_time": "2023-01-25T20:33:15.315Z"
   },
   {
    "duration": 453,
    "start_time": "2023-01-25T21:15:14.024Z"
   },
   {
    "duration": 397,
    "start_time": "2023-01-25T21:15:23.488Z"
   },
   {
    "duration": 159,
    "start_time": "2023-01-25T21:15:28.448Z"
   },
   {
    "duration": 1259,
    "start_time": "2023-01-25T21:15:33.607Z"
   },
   {
    "duration": 111,
    "start_time": "2023-01-25T21:15:41.464Z"
   },
   {
    "duration": 127,
    "start_time": "2023-01-25T21:17:05.223Z"
   },
   {
    "duration": 111,
    "start_time": "2023-01-25T21:17:10.615Z"
   },
   {
    "duration": 401,
    "start_time": "2023-01-25T21:17:15.286Z"
   },
   {
    "duration": 274,
    "start_time": "2023-01-25T21:17:20.862Z"
   },
   {
    "duration": 154,
    "start_time": "2023-01-25T21:17:46.818Z"
   },
   {
    "duration": 155,
    "start_time": "2023-01-25T21:17:58.600Z"
   },
   {
    "duration": 160,
    "start_time": "2023-01-25T21:18:04.332Z"
   },
   {
    "duration": 168,
    "start_time": "2023-01-25T21:18:29.285Z"
   },
   {
    "duration": 874,
    "start_time": "2023-01-25T21:18:40.921Z"
   },
   {
    "duration": 155,
    "start_time": "2023-01-25T21:18:49.874Z"
   },
   {
    "duration": 140,
    "start_time": "2023-01-25T21:18:56.215Z"
   },
   {
    "duration": 13,
    "start_time": "2023-01-25T21:19:09.470Z"
   },
   {
    "duration": 155,
    "start_time": "2023-01-25T21:19:13.887Z"
   },
   {
    "duration": 195,
    "start_time": "2023-01-25T21:21:48.645Z"
   },
   {
    "duration": 69,
    "start_time": "2023-01-25T21:22:15.487Z"
   },
   {
    "duration": 49,
    "start_time": "2023-01-25T21:22:19.814Z"
   },
   {
    "duration": 139,
    "start_time": "2023-01-25T21:22:27.993Z"
   },
   {
    "duration": 1154,
    "start_time": "2023-01-25T21:22:40.448Z"
   },
   {
    "duration": 231,
    "start_time": "2023-01-25T21:22:51.282Z"
   },
   {
    "duration": 229,
    "start_time": "2023-01-25T21:23:01.115Z"
   },
   {
    "duration": 465,
    "start_time": "2023-01-25T21:25:18.848Z"
   },
   {
    "duration": 212,
    "start_time": "2023-01-25T21:25:25.463Z"
   },
   {
    "duration": 174,
    "start_time": "2023-01-25T21:25:30.686Z"
   },
   {
    "duration": 122,
    "start_time": "2023-01-25T21:25:40.732Z"
   },
   {
    "duration": 230,
    "start_time": "2023-01-25T21:25:50.197Z"
   },
   {
    "duration": 45,
    "start_time": "2023-01-25T21:27:25.439Z"
   },
   {
    "duration": 265,
    "start_time": "2023-01-25T21:28:10.771Z"
   },
   {
    "duration": 54,
    "start_time": "2023-01-25T21:41:18.651Z"
   },
   {
    "duration": 327,
    "start_time": "2023-01-25T21:41:24.211Z"
   },
   {
    "duration": 226,
    "start_time": "2023-01-25T21:41:50.532Z"
   },
   {
    "duration": 230,
    "start_time": "2023-01-25T21:41:52.503Z"
   },
   {
    "duration": 727,
    "start_time": "2023-01-25T21:42:21.592Z"
   },
   {
    "duration": 221,
    "start_time": "2023-01-25T21:42:28.132Z"
   },
   {
    "duration": 151,
    "start_time": "2023-01-25T21:42:33.482Z"
   },
   {
    "duration": 313,
    "start_time": "2023-01-25T21:42:39.298Z"
   },
   {
    "duration": 185,
    "start_time": "2023-01-25T21:42:45.316Z"
   },
   {
    "duration": 243,
    "start_time": "2023-01-25T21:42:48.596Z"
   },
   {
    "duration": 1031,
    "start_time": "2023-01-25T21:43:21.305Z"
   },
   {
    "duration": 236,
    "start_time": "2023-01-25T21:43:30.744Z"
   },
   {
    "duration": 171,
    "start_time": "2023-01-25T21:43:34.546Z"
   },
   {
    "duration": 11,
    "start_time": "2023-01-25T21:44:10.332Z"
   },
   {
    "duration": 225,
    "start_time": "2023-01-25T21:44:28.083Z"
   },
   {
    "duration": 229,
    "start_time": "2023-01-25T21:44:41.707Z"
   },
   {
    "duration": 240,
    "start_time": "2023-01-25T21:45:15.519Z"
   },
   {
    "duration": 17,
    "start_time": "2023-01-25T21:45:42.800Z"
   },
   {
    "duration": 13,
    "start_time": "2023-01-25T21:46:00.871Z"
   },
   {
    "duration": 231,
    "start_time": "2023-01-25T21:46:06.782Z"
   },
   {
    "duration": 238,
    "start_time": "2023-01-25T21:46:41.410Z"
   },
   {
    "duration": 203,
    "start_time": "2023-01-25T21:46:54.013Z"
   },
   {
    "duration": 197,
    "start_time": "2023-01-25T21:47:29.401Z"
   },
   {
    "duration": 196,
    "start_time": "2023-01-25T21:47:34.635Z"
   },
   {
    "duration": 186,
    "start_time": "2023-01-25T21:47:41.633Z"
   },
   {
    "duration": 803,
    "start_time": "2023-01-25T21:47:46.987Z"
   },
   {
    "duration": 45,
    "start_time": "2023-01-25T21:53:30.169Z"
   },
   {
    "duration": 2851,
    "start_time": "2023-01-25T21:53:36.036Z"
   },
   {
    "duration": 21,
    "start_time": "2023-01-25T21:53:38.888Z"
   },
   {
    "duration": 96,
    "start_time": "2023-01-25T21:53:38.911Z"
   },
   {
    "duration": 69,
    "start_time": "2023-01-25T21:53:39.010Z"
   },
   {
    "duration": 255,
    "start_time": "2023-01-25T21:53:39.080Z"
   },
   {
    "duration": 271,
    "start_time": "2023-01-25T21:53:39.338Z"
   },
   {
    "duration": 260,
    "start_time": "2023-01-25T21:53:39.611Z"
   },
   {
    "duration": 251,
    "start_time": "2023-01-25T21:53:39.874Z"
   },
   {
    "duration": 178,
    "start_time": "2023-01-25T21:53:40.127Z"
   },
   {
    "duration": 123,
    "start_time": "2023-01-25T21:53:53.010Z"
   },
   {
    "duration": 226,
    "start_time": "2023-01-25T21:53:57.529Z"
   },
   {
    "duration": 291,
    "start_time": "2023-01-25T21:54:55.259Z"
   },
   {
    "duration": 181,
    "start_time": "2023-01-25T21:55:16.643Z"
   },
   {
    "duration": 170,
    "start_time": "2023-01-25T21:55:20.285Z"
   },
   {
    "duration": 119,
    "start_time": "2023-01-25T21:55:32.960Z"
   },
   {
    "duration": 134,
    "start_time": "2023-01-25T21:56:16.143Z"
   },
   {
    "duration": 212,
    "start_time": "2023-01-25T21:56:24.382Z"
   },
   {
    "duration": 225,
    "start_time": "2023-01-25T21:56:26.856Z"
   },
   {
    "duration": 477,
    "start_time": "2023-01-25T21:56:34.329Z"
   },
   {
    "duration": 360,
    "start_time": "2023-01-25T21:56:40.081Z"
   },
   {
    "duration": 337,
    "start_time": "2023-01-25T21:56:44.304Z"
   },
   {
    "duration": 287,
    "start_time": "2023-01-25T21:57:23.124Z"
   },
   {
    "duration": 242,
    "start_time": "2023-01-25T21:57:31.091Z"
   },
   {
    "duration": 177,
    "start_time": "2023-01-25T21:57:36.769Z"
   },
   {
    "duration": 195,
    "start_time": "2023-01-25T21:57:44.655Z"
   },
   {
    "duration": 169,
    "start_time": "2023-01-25T21:58:31.863Z"
   },
   {
    "duration": 167,
    "start_time": "2023-01-25T21:58:35.603Z"
   },
   {
    "duration": 116,
    "start_time": "2023-01-25T21:58:40.375Z"
   },
   {
    "duration": 144,
    "start_time": "2023-01-25T21:59:10.714Z"
   },
   {
    "duration": 231,
    "start_time": "2023-01-25T21:59:16.106Z"
   },
   {
    "duration": 280,
    "start_time": "2023-01-25T22:01:35.204Z"
   },
   {
    "duration": 158,
    "start_time": "2023-01-25T22:01:40.418Z"
   },
   {
    "duration": 397,
    "start_time": "2023-01-25T22:02:25.060Z"
   },
   {
    "duration": 239,
    "start_time": "2023-01-25T22:02:33.164Z"
   },
   {
    "duration": 22,
    "start_time": "2023-01-25T22:05:33.159Z"
   },
   {
    "duration": 2717,
    "start_time": "2023-01-25T22:05:39.545Z"
   },
   {
    "duration": 29,
    "start_time": "2023-01-25T22:05:42.264Z"
   },
   {
    "duration": 97,
    "start_time": "2023-01-25T22:05:42.295Z"
   },
   {
    "duration": 73,
    "start_time": "2023-01-25T22:05:42.394Z"
   },
   {
    "duration": 257,
    "start_time": "2023-01-25T22:05:42.470Z"
   },
   {
    "duration": 275,
    "start_time": "2023-01-25T22:05:42.729Z"
   },
   {
    "duration": 256,
    "start_time": "2023-01-25T22:05:43.006Z"
   },
   {
    "duration": 265,
    "start_time": "2023-01-25T22:05:43.263Z"
   },
   {
    "duration": 252,
    "start_time": "2023-01-25T22:05:43.530Z"
   },
   {
    "duration": 138,
    "start_time": "2023-01-25T22:05:43.783Z"
   },
   {
    "duration": 276,
    "start_time": "2023-01-25T22:05:43.923Z"
   },
   {
    "duration": 200,
    "start_time": "2023-01-25T22:05:44.200Z"
   },
   {
    "duration": 142,
    "start_time": "2023-01-25T22:05:44.402Z"
   },
   {
    "duration": 180,
    "start_time": "2023-01-25T22:05:44.546Z"
   },
   {
    "duration": 345,
    "start_time": "2023-01-25T22:05:44.727Z"
   },
   {
    "duration": 2824,
    "start_time": "2023-01-25T22:05:53.503Z"
   },
   {
    "duration": 38,
    "start_time": "2023-01-25T22:05:56.329Z"
   },
   {
    "duration": 103,
    "start_time": "2023-01-25T22:05:56.376Z"
   },
   {
    "duration": 58,
    "start_time": "2023-01-25T22:05:56.481Z"
   },
   {
    "duration": 254,
    "start_time": "2023-01-25T22:05:56.549Z"
   },
   {
    "duration": 261,
    "start_time": "2023-01-25T22:05:56.805Z"
   },
   {
    "duration": 249,
    "start_time": "2023-01-25T22:05:57.067Z"
   },
   {
    "duration": 270,
    "start_time": "2023-01-25T22:05:57.317Z"
   },
   {
    "duration": 238,
    "start_time": "2023-01-25T22:05:57.589Z"
   },
   {
    "duration": 149,
    "start_time": "2023-01-25T22:05:57.829Z"
   },
   {
    "duration": 271,
    "start_time": "2023-01-25T22:05:57.980Z"
   },
   {
    "duration": 186,
    "start_time": "2023-01-25T22:05:58.258Z"
   },
   {
    "duration": 129,
    "start_time": "2023-01-25T22:05:58.447Z"
   },
   {
    "duration": 180,
    "start_time": "2023-01-25T22:05:58.578Z"
   },
   {
    "duration": 319,
    "start_time": "2023-01-25T22:05:58.759Z"
   },
   {
    "duration": 88,
    "start_time": "2023-01-25T22:06:47.412Z"
   },
   {
    "duration": 2898,
    "start_time": "2023-01-25T22:06:53.545Z"
   },
   {
    "duration": 69,
    "start_time": "2023-01-25T22:06:56.444Z"
   },
   {
    "duration": 113,
    "start_time": "2023-01-25T22:06:56.515Z"
   },
   {
    "duration": 66,
    "start_time": "2023-01-25T22:06:56.630Z"
   },
   {
    "duration": 315,
    "start_time": "2023-01-25T22:06:56.698Z"
   },
   {
    "duration": 0,
    "start_time": "2023-01-25T22:06:57.015Z"
   },
   {
    "duration": 0,
    "start_time": "2023-01-25T22:06:57.016Z"
   },
   {
    "duration": 0,
    "start_time": "2023-01-25T22:06:57.017Z"
   },
   {
    "duration": 0,
    "start_time": "2023-01-25T22:06:57.018Z"
   },
   {
    "duration": 0,
    "start_time": "2023-01-25T22:06:57.019Z"
   },
   {
    "duration": 0,
    "start_time": "2023-01-25T22:06:57.020Z"
   },
   {
    "duration": 0,
    "start_time": "2023-01-25T22:06:57.021Z"
   },
   {
    "duration": 0,
    "start_time": "2023-01-25T22:06:57.022Z"
   },
   {
    "duration": 0,
    "start_time": "2023-01-25T22:06:57.023Z"
   },
   {
    "duration": 0,
    "start_time": "2023-01-25T22:06:57.025Z"
   },
   {
    "duration": 213,
    "start_time": "2023-01-25T22:07:35.837Z"
   },
   {
    "duration": 2664,
    "start_time": "2023-01-25T22:07:40.823Z"
   },
   {
    "duration": 62,
    "start_time": "2023-01-25T22:07:43.489Z"
   },
   {
    "duration": 105,
    "start_time": "2023-01-25T22:07:43.553Z"
   },
   {
    "duration": 60,
    "start_time": "2023-01-25T22:07:43.661Z"
   },
   {
    "duration": 313,
    "start_time": "2023-01-25T22:07:43.722Z"
   },
   {
    "duration": 0,
    "start_time": "2023-01-25T22:07:44.037Z"
   },
   {
    "duration": 0,
    "start_time": "2023-01-25T22:07:44.038Z"
   },
   {
    "duration": 0,
    "start_time": "2023-01-25T22:07:44.039Z"
   },
   {
    "duration": 0,
    "start_time": "2023-01-25T22:07:44.040Z"
   },
   {
    "duration": 0,
    "start_time": "2023-01-25T22:07:44.041Z"
   },
   {
    "duration": 0,
    "start_time": "2023-01-25T22:07:44.042Z"
   },
   {
    "duration": 0,
    "start_time": "2023-01-25T22:07:44.043Z"
   },
   {
    "duration": 0,
    "start_time": "2023-01-25T22:07:44.044Z"
   },
   {
    "duration": 0,
    "start_time": "2023-01-25T22:07:44.045Z"
   },
   {
    "duration": 0,
    "start_time": "2023-01-25T22:07:44.045Z"
   },
   {
    "duration": 2847,
    "start_time": "2023-01-25T22:08:03.088Z"
   },
   {
    "duration": 73,
    "start_time": "2023-01-25T22:08:05.937Z"
   },
   {
    "duration": 107,
    "start_time": "2023-01-25T22:08:06.013Z"
   },
   {
    "duration": 77,
    "start_time": "2023-01-25T22:08:06.123Z"
   },
   {
    "duration": 298,
    "start_time": "2023-01-25T22:08:06.202Z"
   },
   {
    "duration": 0,
    "start_time": "2023-01-25T22:08:06.502Z"
   },
   {
    "duration": 0,
    "start_time": "2023-01-25T22:08:06.503Z"
   },
   {
    "duration": 0,
    "start_time": "2023-01-25T22:08:06.504Z"
   },
   {
    "duration": 0,
    "start_time": "2023-01-25T22:08:06.505Z"
   },
   {
    "duration": 0,
    "start_time": "2023-01-25T22:08:06.506Z"
   },
   {
    "duration": 0,
    "start_time": "2023-01-25T22:08:06.507Z"
   },
   {
    "duration": 0,
    "start_time": "2023-01-25T22:08:06.508Z"
   },
   {
    "duration": 0,
    "start_time": "2023-01-25T22:08:06.509Z"
   },
   {
    "duration": 0,
    "start_time": "2023-01-25T22:08:06.510Z"
   },
   {
    "duration": 0,
    "start_time": "2023-01-25T22:08:06.511Z"
   },
   {
    "duration": 233,
    "start_time": "2023-01-25T22:08:18.627Z"
   },
   {
    "duration": 255,
    "start_time": "2023-01-25T22:08:20.585Z"
   },
   {
    "duration": 316,
    "start_time": "2023-01-25T22:08:22.919Z"
   },
   {
    "duration": 180,
    "start_time": "2023-01-25T22:08:23.237Z"
   },
   {
    "duration": 242,
    "start_time": "2023-01-25T22:08:23.419Z"
   },
   {
    "duration": 138,
    "start_time": "2023-01-25T22:08:23.663Z"
   },
   {
    "duration": 260,
    "start_time": "2023-01-25T22:08:23.803Z"
   },
   {
    "duration": 211,
    "start_time": "2023-01-25T22:08:24.065Z"
   },
   {
    "duration": 119,
    "start_time": "2023-01-25T22:08:24.277Z"
   },
   {
    "duration": 172,
    "start_time": "2023-01-25T22:08:24.397Z"
   },
   {
    "duration": 309,
    "start_time": "2023-01-25T22:08:24.571Z"
   },
   {
    "duration": 428,
    "start_time": "2023-01-25T22:08:49.298Z"
   },
   {
    "duration": 223,
    "start_time": "2023-01-25T22:08:58.367Z"
   },
   {
    "duration": 3033,
    "start_time": "2023-01-25T22:10:00.962Z"
   },
   {
    "duration": 23,
    "start_time": "2023-01-25T22:10:03.997Z"
   },
   {
    "duration": 101,
    "start_time": "2023-01-25T22:10:04.021Z"
   },
   {
    "duration": 84,
    "start_time": "2023-01-25T22:10:04.124Z"
   },
   {
    "duration": 260,
    "start_time": "2023-01-25T22:10:04.212Z"
   },
   {
    "duration": 259,
    "start_time": "2023-01-25T22:10:04.474Z"
   },
   {
    "duration": 263,
    "start_time": "2023-01-25T22:10:04.735Z"
   },
   {
    "duration": 347,
    "start_time": "2023-01-25T22:10:04.999Z"
   },
   {
    "duration": 318,
    "start_time": "2023-01-25T22:10:05.350Z"
   },
   {
    "duration": 138,
    "start_time": "2023-01-25T22:10:05.671Z"
   },
   {
    "duration": 293,
    "start_time": "2023-01-25T22:10:05.814Z"
   },
   {
    "duration": 208,
    "start_time": "2023-01-25T22:10:06.108Z"
   },
   {
    "duration": 124,
    "start_time": "2023-01-25T22:10:06.317Z"
   },
   {
    "duration": 181,
    "start_time": "2023-01-25T22:10:06.449Z"
   },
   {
    "duration": 415,
    "start_time": "2023-01-25T22:10:06.632Z"
   },
   {
    "duration": 2757,
    "start_time": "2023-01-25T22:10:20.911Z"
   },
   {
    "duration": 24,
    "start_time": "2023-01-25T22:10:23.673Z"
   },
   {
    "duration": 100,
    "start_time": "2023-01-25T22:10:23.699Z"
   },
   {
    "duration": 70,
    "start_time": "2023-01-25T22:10:23.801Z"
   },
   {
    "duration": 294,
    "start_time": "2023-01-25T22:10:23.873Z"
   },
   {
    "duration": 273,
    "start_time": "2023-01-25T22:10:24.169Z"
   },
   {
    "duration": 271,
    "start_time": "2023-01-25T22:10:24.444Z"
   },
   {
    "duration": 284,
    "start_time": "2023-01-25T22:10:24.717Z"
   },
   {
    "duration": 279,
    "start_time": "2023-01-25T22:10:25.002Z"
   },
   {
    "duration": 177,
    "start_time": "2023-01-25T22:10:25.284Z"
   },
   {
    "duration": 255,
    "start_time": "2023-01-25T22:10:25.471Z"
   },
   {
    "duration": 215,
    "start_time": "2023-01-25T22:10:25.728Z"
   },
   {
    "duration": 137,
    "start_time": "2023-01-25T22:10:25.944Z"
   },
   {
    "duration": 180,
    "start_time": "2023-01-25T22:10:26.083Z"
   },
   {
    "duration": 329,
    "start_time": "2023-01-25T22:10:26.265Z"
   },
   {
    "duration": 78,
    "start_time": "2023-01-25T22:13:28.343Z"
   },
   {
    "duration": 9,
    "start_time": "2023-01-25T22:14:35.266Z"
   },
   {
    "duration": 8,
    "start_time": "2023-01-25T22:14:45.539Z"
   },
   {
    "duration": 63,
    "start_time": "2023-01-25T22:14:49.748Z"
   },
   {
    "duration": 9,
    "start_time": "2023-01-25T22:14:53.267Z"
   },
   {
    "duration": 8,
    "start_time": "2023-01-25T22:14:59.982Z"
   },
   {
    "duration": 16,
    "start_time": "2023-01-25T22:15:15.148Z"
   },
   {
    "duration": 16,
    "start_time": "2023-01-25T22:16:02.148Z"
   },
   {
    "duration": 2586,
    "start_time": "2023-01-25T22:16:07.445Z"
   },
   {
    "duration": 34,
    "start_time": "2023-01-25T22:16:10.033Z"
   },
   {
    "duration": 92,
    "start_time": "2023-01-25T22:16:10.069Z"
   },
   {
    "duration": 58,
    "start_time": "2023-01-25T22:16:10.163Z"
   },
   {
    "duration": 249,
    "start_time": "2023-01-25T22:16:10.223Z"
   },
   {
    "duration": 297,
    "start_time": "2023-01-25T22:16:10.473Z"
   },
   {
    "duration": 243,
    "start_time": "2023-01-25T22:16:10.772Z"
   },
   {
    "duration": 257,
    "start_time": "2023-01-25T22:16:11.017Z"
   },
   {
    "duration": 231,
    "start_time": "2023-01-25T22:16:11.275Z"
   },
   {
    "duration": 127,
    "start_time": "2023-01-25T22:16:11.509Z"
   },
   {
    "duration": 256,
    "start_time": "2023-01-25T22:16:11.638Z"
   },
   {
    "duration": 187,
    "start_time": "2023-01-25T22:16:11.896Z"
   },
   {
    "duration": 126,
    "start_time": "2023-01-25T22:16:12.085Z"
   },
   {
    "duration": 176,
    "start_time": "2023-01-25T22:16:12.214Z"
   },
   {
    "duration": 84,
    "start_time": "2023-01-25T22:16:12.392Z"
   },
   {
    "duration": 319,
    "start_time": "2023-01-25T22:16:19.488Z"
   },
   {
    "duration": 229,
    "start_time": "2023-01-25T22:18:30.907Z"
   },
   {
    "duration": 359,
    "start_time": "2023-01-25T22:18:37.308Z"
   },
   {
    "duration": 237,
    "start_time": "2023-01-25T22:18:41.392Z"
   },
   {
    "duration": 289,
    "start_time": "2023-01-25T22:19:25.202Z"
   },
   {
    "duration": 175,
    "start_time": "2023-01-25T22:19:33.483Z"
   },
   {
    "duration": 267,
    "start_time": "2023-01-25T22:21:25.911Z"
   },
   {
    "duration": 172,
    "start_time": "2023-01-25T22:21:27.456Z"
   },
   {
    "duration": 129,
    "start_time": "2023-01-25T22:21:32.573Z"
   },
   {
    "duration": 124,
    "start_time": "2023-01-25T22:21:42.976Z"
   },
   {
    "duration": 151,
    "start_time": "2023-01-25T22:21:52.617Z"
   },
   {
    "duration": 154,
    "start_time": "2023-01-25T22:21:57.867Z"
   },
   {
    "duration": 2639,
    "start_time": "2023-01-25T22:24:04.088Z"
   },
   {
    "duration": 22,
    "start_time": "2023-01-25T22:24:06.729Z"
   },
   {
    "duration": 88,
    "start_time": "2023-01-25T22:24:06.752Z"
   },
   {
    "duration": 61,
    "start_time": "2023-01-25T22:24:06.841Z"
   },
   {
    "duration": 244,
    "start_time": "2023-01-25T22:24:06.904Z"
   },
   {
    "duration": 240,
    "start_time": "2023-01-25T22:24:07.150Z"
   },
   {
    "duration": 231,
    "start_time": "2023-01-25T22:24:07.392Z"
   },
   {
    "duration": 267,
    "start_time": "2023-01-25T22:24:07.624Z"
   },
   {
    "duration": 232,
    "start_time": "2023-01-25T22:24:07.892Z"
   },
   {
    "duration": 125,
    "start_time": "2023-01-25T22:24:08.126Z"
   },
   {
    "duration": 239,
    "start_time": "2023-01-25T22:24:08.252Z"
   },
   {
    "duration": 180,
    "start_time": "2023-01-25T22:24:08.492Z"
   },
   {
    "duration": 109,
    "start_time": "2023-01-25T22:24:08.673Z"
   },
   {
    "duration": 170,
    "start_time": "2023-01-25T22:24:08.785Z"
   },
   {
    "duration": 300,
    "start_time": "2023-01-25T22:24:08.956Z"
   },
   {
    "duration": 224,
    "start_time": "2023-01-25T22:24:09.257Z"
   },
   {
    "duration": 168,
    "start_time": "2023-01-25T22:24:09.482Z"
   },
   {
    "duration": 126,
    "start_time": "2023-01-25T22:24:09.651Z"
   },
   {
    "duration": 139,
    "start_time": "2023-01-25T22:24:09.779Z"
   },
   {
    "duration": 223,
    "start_time": "2023-01-25T22:24:45.056Z"
   },
   {
    "duration": 354,
    "start_time": "2023-01-25T22:24:52.582Z"
   },
   {
    "duration": 262,
    "start_time": "2023-01-25T22:24:58.649Z"
   },
   {
    "duration": 225,
    "start_time": "2023-01-25T22:25:03.092Z"
   },
   {
    "duration": 59,
    "start_time": "2023-01-25T22:40:47.002Z"
   },
   {
    "duration": 2586,
    "start_time": "2023-01-25T22:41:00.505Z"
   },
   {
    "duration": 25,
    "start_time": "2023-01-25T22:41:03.093Z"
   },
   {
    "duration": 96,
    "start_time": "2023-01-25T22:41:03.120Z"
   },
   {
    "duration": 72,
    "start_time": "2023-01-25T22:41:03.217Z"
   },
   {
    "duration": 356,
    "start_time": "2023-01-25T22:41:03.292Z"
   },
   {
    "duration": 243,
    "start_time": "2023-01-25T22:41:03.650Z"
   },
   {
    "duration": 341,
    "start_time": "2023-01-25T22:41:03.894Z"
   },
   {
    "duration": 212,
    "start_time": "2023-01-25T22:41:04.237Z"
   },
   {
    "duration": 252,
    "start_time": "2023-01-25T22:41:04.450Z"
   },
   {
    "duration": 133,
    "start_time": "2023-01-25T22:41:04.704Z"
   },
   {
    "duration": 248,
    "start_time": "2023-01-25T22:41:04.839Z"
   },
   {
    "duration": 222,
    "start_time": "2023-01-25T22:41:05.088Z"
   },
   {
    "duration": 159,
    "start_time": "2023-01-25T22:41:05.312Z"
   },
   {
    "duration": 176,
    "start_time": "2023-01-25T22:41:05.473Z"
   },
   {
    "duration": 310,
    "start_time": "2023-01-25T22:41:05.650Z"
   },
   {
    "duration": 220,
    "start_time": "2023-01-25T22:41:05.962Z"
   },
   {
    "duration": 169,
    "start_time": "2023-01-25T22:41:06.183Z"
   },
   {
    "duration": 119,
    "start_time": "2023-01-25T22:41:06.354Z"
   },
   {
    "duration": 123,
    "start_time": "2023-01-25T22:41:06.475Z"
   },
   {
    "duration": 2760,
    "start_time": "2023-01-26T21:48:32.428Z"
   },
   {
    "duration": 22,
    "start_time": "2023-01-26T21:48:35.190Z"
   },
   {
    "duration": 99,
    "start_time": "2023-01-26T21:48:35.214Z"
   },
   {
    "duration": 64,
    "start_time": "2023-01-26T21:48:35.315Z"
   },
   {
    "duration": 383,
    "start_time": "2023-01-26T21:48:35.380Z"
   },
   {
    "duration": 213,
    "start_time": "2023-01-26T21:48:35.765Z"
   },
   {
    "duration": 290,
    "start_time": "2023-01-26T21:48:35.980Z"
   },
   {
    "duration": 206,
    "start_time": "2023-01-26T21:48:36.272Z"
   },
   {
    "duration": 228,
    "start_time": "2023-01-26T21:48:36.479Z"
   },
   {
    "duration": 145,
    "start_time": "2023-01-26T21:48:36.709Z"
   },
   {
    "duration": 273,
    "start_time": "2023-01-26T21:48:36.856Z"
   },
   {
    "duration": 184,
    "start_time": "2023-01-26T21:48:37.131Z"
   },
   {
    "duration": 121,
    "start_time": "2023-01-26T21:48:37.316Z"
   },
   {
    "duration": 224,
    "start_time": "2023-01-26T21:48:37.439Z"
   },
   {
    "duration": 230,
    "start_time": "2023-01-26T21:48:37.665Z"
   },
   {
    "duration": 216,
    "start_time": "2023-01-26T21:48:37.897Z"
   },
   {
    "duration": 167,
    "start_time": "2023-01-26T21:48:38.114Z"
   },
   {
    "duration": 133,
    "start_time": "2023-01-26T21:48:38.283Z"
   },
   {
    "duration": 132,
    "start_time": "2023-01-26T21:48:38.418Z"
   },
   {
    "duration": 137,
    "start_time": "2023-01-26T21:52:16.774Z"
   },
   {
    "duration": 214,
    "start_time": "2023-01-26T21:52:28.346Z"
   },
   {
    "duration": 254,
    "start_time": "2023-01-26T21:52:35.160Z"
   },
   {
    "duration": 329,
    "start_time": "2023-01-26T21:52:38.793Z"
   },
   {
    "duration": 340,
    "start_time": "2023-01-26T21:53:00.526Z"
   },
   {
    "duration": 11,
    "start_time": "2023-01-26T22:19:17.851Z"
   },
   {
    "duration": 221,
    "start_time": "2023-01-26T22:19:47.945Z"
   },
   {
    "duration": 195,
    "start_time": "2023-01-26T22:20:08.637Z"
   },
   {
    "duration": 320,
    "start_time": "2023-01-26T22:21:33.784Z"
   },
   {
    "duration": 310,
    "start_time": "2023-01-26T22:21:43.628Z"
   },
   {
    "duration": 185,
    "start_time": "2023-01-26T22:21:45.710Z"
   },
   {
    "duration": 181,
    "start_time": "2023-01-26T22:21:57.879Z"
   },
   {
    "duration": 199,
    "start_time": "2023-01-26T22:22:06.532Z"
   },
   {
    "duration": 284,
    "start_time": "2023-01-26T22:22:42.969Z"
   },
   {
    "duration": 252,
    "start_time": "2023-01-26T22:22:48.466Z"
   },
   {
    "duration": 269,
    "start_time": "2023-01-26T22:22:53.394Z"
   },
   {
    "duration": 371,
    "start_time": "2023-01-26T22:23:37.034Z"
   },
   {
    "duration": 2,
    "start_time": "2023-01-26T22:25:15.036Z"
   },
   {
    "duration": 218,
    "start_time": "2023-01-26T22:41:10.057Z"
   },
   {
    "duration": 215,
    "start_time": "2023-01-26T22:41:28.585Z"
   },
   {
    "duration": 207,
    "start_time": "2023-01-26T22:41:32.243Z"
   },
   {
    "duration": 77,
    "start_time": "2023-01-26T22:42:45.717Z"
   },
   {
    "duration": 82,
    "start_time": "2023-01-26T22:42:57.377Z"
   },
   {
    "duration": 212,
    "start_time": "2023-01-26T22:43:09.968Z"
   },
   {
    "duration": 653,
    "start_time": "2023-01-26T22:43:27.621Z"
   },
   {
    "duration": 523,
    "start_time": "2023-01-26T22:43:32.321Z"
   },
   {
    "duration": 640,
    "start_time": "2023-01-26T22:43:43.723Z"
   },
   {
    "duration": 1101,
    "start_time": "2023-01-26T22:43:47.300Z"
   },
   {
    "duration": 608,
    "start_time": "2023-01-26T22:43:52.074Z"
   },
   {
    "duration": 526,
    "start_time": "2023-01-26T22:43:59.946Z"
   },
   {
    "duration": 303,
    "start_time": "2023-01-26T22:44:04.722Z"
   },
   {
    "duration": 555,
    "start_time": "2023-01-26T22:45:02.834Z"
   },
   {
    "duration": 5,
    "start_time": "2023-01-26T22:46:20.501Z"
   },
   {
    "duration": 4,
    "start_time": "2023-01-26T22:46:48.169Z"
   },
   {
    "duration": 13,
    "start_time": "2023-01-26T22:47:02.518Z"
   },
   {
    "duration": 13,
    "start_time": "2023-01-26T22:47:06.645Z"
   },
   {
    "duration": 212,
    "start_time": "2023-01-26T22:47:30.762Z"
   },
   {
    "duration": 209,
    "start_time": "2023-01-26T22:48:10.088Z"
   },
   {
    "duration": 443,
    "start_time": "2023-01-26T22:48:10.299Z"
   },
   {
    "duration": 205,
    "start_time": "2023-01-26T22:48:10.744Z"
   },
   {
    "duration": 223,
    "start_time": "2023-01-26T22:48:10.950Z"
   },
   {
    "duration": 242,
    "start_time": "2023-01-26T22:48:11.175Z"
   },
   {
    "duration": 205,
    "start_time": "2023-01-26T22:48:11.419Z"
   },
   {
    "duration": 227,
    "start_time": "2023-01-26T22:48:11.626Z"
   },
   {
    "duration": 3,
    "start_time": "2023-01-26T22:48:11.855Z"
   },
   {
    "duration": 213,
    "start_time": "2023-01-26T22:49:37.976Z"
   },
   {
    "duration": 212,
    "start_time": "2023-01-26T22:49:38.191Z"
   },
   {
    "duration": 215,
    "start_time": "2023-01-26T22:49:38.409Z"
   },
   {
    "duration": 216,
    "start_time": "2023-01-26T22:49:38.626Z"
   },
   {
    "duration": 228,
    "start_time": "2023-01-26T22:49:38.844Z"
   },
   {
    "duration": 208,
    "start_time": "2023-01-26T22:49:39.074Z"
   },
   {
    "duration": 236,
    "start_time": "2023-01-26T22:49:39.284Z"
   },
   {
    "duration": 209,
    "start_time": "2023-01-26T22:49:39.521Z"
   },
   {
    "duration": 480,
    "start_time": "2023-01-26T22:49:39.732Z"
   },
   {
    "duration": 219,
    "start_time": "2023-01-26T22:49:40.213Z"
   },
   {
    "duration": 221,
    "start_time": "2023-01-26T22:49:40.434Z"
   },
   {
    "duration": 224,
    "start_time": "2023-01-26T22:49:40.657Z"
   },
   {
    "duration": 4,
    "start_time": "2023-01-26T22:49:40.882Z"
   },
   {
    "duration": 26,
    "start_time": "2023-01-26T22:49:40.887Z"
   },
   {
    "duration": 210,
    "start_time": "2023-01-26T22:50:34.403Z"
   },
   {
    "duration": 211,
    "start_time": "2023-01-26T22:50:51.429Z"
   },
   {
    "duration": 209,
    "start_time": "2023-01-26T22:50:52.174Z"
   },
   {
    "duration": 210,
    "start_time": "2023-01-26T22:50:52.473Z"
   },
   {
    "duration": 213,
    "start_time": "2023-01-26T22:50:52.685Z"
   },
   {
    "duration": 234,
    "start_time": "2023-01-26T22:50:52.900Z"
   },
   {
    "duration": 231,
    "start_time": "2023-01-26T22:50:53.135Z"
   },
   {
    "duration": 218,
    "start_time": "2023-01-26T22:51:08.285Z"
   },
   {
    "duration": 4,
    "start_time": "2023-01-26T22:51:18.834Z"
   },
   {
    "duration": 161,
    "start_time": "2023-01-26T22:51:54.530Z"
   },
   {
    "duration": 157,
    "start_time": "2023-01-26T22:51:59.650Z"
   },
   {
    "duration": 160,
    "start_time": "2023-01-26T22:52:03.127Z"
   },
   {
    "duration": 164,
    "start_time": "2023-01-26T22:52:05.953Z"
   },
   {
    "duration": 168,
    "start_time": "2023-01-26T22:52:08.746Z"
   },
   {
    "duration": 153,
    "start_time": "2023-01-26T22:52:12.141Z"
   },
   {
    "duration": 25,
    "start_time": "2023-01-26T23:18:28.629Z"
   },
   {
    "duration": 29,
    "start_time": "2023-01-26T23:21:03.572Z"
   },
   {
    "duration": 13,
    "start_time": "2023-01-26T23:21:08.069Z"
   },
   {
    "duration": 556,
    "start_time": "2023-01-26T23:21:49.444Z"
   },
   {
    "duration": 12,
    "start_time": "2023-01-26T23:22:16.778Z"
   },
   {
    "duration": 836,
    "start_time": "2023-01-26T23:22:30.936Z"
   },
   {
    "duration": 549,
    "start_time": "2023-01-26T23:22:36.443Z"
   },
   {
    "duration": 521,
    "start_time": "2023-01-26T23:22:41.872Z"
   },
   {
    "duration": 309,
    "start_time": "2023-01-26T23:23:29.628Z"
   },
   {
    "duration": 513,
    "start_time": "2023-01-26T23:26:09.328Z"
   },
   {
    "duration": 15,
    "start_time": "2023-01-26T23:28:25.728Z"
   },
   {
    "duration": 963,
    "start_time": "2023-01-26T23:29:21.759Z"
   },
   {
    "duration": 556,
    "start_time": "2023-01-26T23:30:34.961Z"
   },
   {
    "duration": 530,
    "start_time": "2023-01-26T23:30:49.272Z"
   },
   {
    "duration": 164,
    "start_time": "2023-01-26T23:31:14.997Z"
   },
   {
    "duration": 522,
    "start_time": "2023-01-26T23:33:22.029Z"
   },
   {
    "duration": 170,
    "start_time": "2023-01-26T23:33:31.925Z"
   },
   {
    "duration": 1348,
    "start_time": "2023-01-26T23:33:42.038Z"
   },
   {
    "duration": 10,
    "start_time": "2023-01-26T23:34:24.053Z"
   },
   {
    "duration": 10,
    "start_time": "2023-01-26T23:34:45.127Z"
   },
   {
    "duration": 11,
    "start_time": "2023-01-26T23:34:52.756Z"
   },
   {
    "duration": 2488,
    "start_time": "2023-01-26T23:36:09.780Z"
   },
   {
    "duration": 27,
    "start_time": "2023-01-26T23:36:12.270Z"
   },
   {
    "duration": 98,
    "start_time": "2023-01-26T23:36:12.299Z"
   },
   {
    "duration": 67,
    "start_time": "2023-01-26T23:36:12.399Z"
   },
   {
    "duration": 379,
    "start_time": "2023-01-26T23:36:12.468Z"
   },
   {
    "duration": 235,
    "start_time": "2023-01-26T23:36:12.849Z"
   },
   {
    "duration": 282,
    "start_time": "2023-01-26T23:36:13.086Z"
   },
   {
    "duration": 176,
    "start_time": "2023-01-26T23:36:13.370Z"
   },
   {
    "duration": 218,
    "start_time": "2023-01-26T23:36:13.547Z"
   },
   {
    "duration": 129,
    "start_time": "2023-01-26T23:36:13.768Z"
   },
   {
    "duration": 229,
    "start_time": "2023-01-26T23:36:13.899Z"
   },
   {
    "duration": 164,
    "start_time": "2023-01-26T23:36:14.130Z"
   },
   {
    "duration": 120,
    "start_time": "2023-01-26T23:36:14.296Z"
   },
   {
    "duration": 158,
    "start_time": "2023-01-26T23:36:14.418Z"
   },
   {
    "duration": 260,
    "start_time": "2023-01-26T23:36:14.577Z"
   },
   {
    "duration": 210,
    "start_time": "2023-01-26T23:36:14.838Z"
   },
   {
    "duration": 162,
    "start_time": "2023-01-26T23:36:15.049Z"
   },
   {
    "duration": 117,
    "start_time": "2023-01-26T23:36:15.212Z"
   },
   {
    "duration": 123,
    "start_time": "2023-01-26T23:36:15.331Z"
   },
   {
    "duration": 322,
    "start_time": "2023-01-26T23:36:15.455Z"
   },
   {
    "duration": 417,
    "start_time": "2023-01-26T23:36:15.779Z"
   },
   {
    "duration": 215,
    "start_time": "2023-01-26T23:36:16.198Z"
   },
   {
    "duration": 220,
    "start_time": "2023-01-26T23:36:16.415Z"
   },
   {
    "duration": 231,
    "start_time": "2023-01-26T23:36:16.637Z"
   },
   {
    "duration": 225,
    "start_time": "2023-01-26T23:36:16.869Z"
   },
   {
    "duration": 247,
    "start_time": "2023-01-26T23:36:17.096Z"
   },
   {
    "duration": 299,
    "start_time": "2023-01-26T23:36:17.345Z"
   },
   {
    "duration": 211,
    "start_time": "2023-01-26T23:36:17.648Z"
   },
   {
    "duration": 224,
    "start_time": "2023-01-26T23:36:17.861Z"
   },
   {
    "duration": 207,
    "start_time": "2023-01-26T23:36:18.086Z"
   },
   {
    "duration": 221,
    "start_time": "2023-01-26T23:36:18.295Z"
   },
   {
    "duration": 317,
    "start_time": "2023-01-26T23:36:18.518Z"
   },
   {
    "duration": 215,
    "start_time": "2023-01-26T23:36:18.837Z"
   },
   {
    "duration": 205,
    "start_time": "2023-01-26T23:36:19.053Z"
   },
   {
    "duration": 216,
    "start_time": "2023-01-26T23:36:19.259Z"
   },
   {
    "duration": 218,
    "start_time": "2023-01-26T23:36:19.477Z"
   },
   {
    "duration": 208,
    "start_time": "2023-01-26T23:36:19.696Z"
   },
   {
    "duration": 227,
    "start_time": "2023-01-26T23:36:19.905Z"
   },
   {
    "duration": 341,
    "start_time": "2023-01-26T23:36:20.134Z"
   },
   {
    "duration": 206,
    "start_time": "2023-01-26T23:36:20.476Z"
   },
   {
    "duration": 208,
    "start_time": "2023-01-26T23:36:20.683Z"
   },
   {
    "duration": 219,
    "start_time": "2023-01-26T23:36:20.893Z"
   },
   {
    "duration": 231,
    "start_time": "2023-01-26T23:36:21.113Z"
   },
   {
    "duration": 4,
    "start_time": "2023-01-26T23:36:21.345Z"
   },
   {
    "duration": 176,
    "start_time": "2023-01-26T23:36:21.351Z"
   },
   {
    "duration": 164,
    "start_time": "2023-01-26T23:36:21.529Z"
   },
   {
    "duration": 167,
    "start_time": "2023-01-26T23:36:21.695Z"
   },
   {
    "duration": 180,
    "start_time": "2023-01-26T23:36:21.864Z"
   },
   {
    "duration": 174,
    "start_time": "2023-01-26T23:36:22.045Z"
   },
   {
    "duration": 167,
    "start_time": "2023-01-26T23:36:22.221Z"
   },
   {
    "duration": 79,
    "start_time": "2023-01-26T23:36:54.054Z"
   },
   {
    "duration": 165,
    "start_time": "2023-01-26T23:37:00.260Z"
   },
   {
    "duration": 85,
    "start_time": "2023-01-26T23:37:23.544Z"
   },
   {
    "duration": 11,
    "start_time": "2023-01-26T23:37:36.375Z"
   },
   {
    "duration": 2414,
    "start_time": "2023-01-26T23:37:56.846Z"
   },
   {
    "duration": 25,
    "start_time": "2023-01-26T23:37:59.262Z"
   },
   {
    "duration": 96,
    "start_time": "2023-01-26T23:37:59.288Z"
   },
   {
    "duration": 63,
    "start_time": "2023-01-26T23:37:59.386Z"
   },
   {
    "duration": 382,
    "start_time": "2023-01-26T23:37:59.451Z"
   },
   {
    "duration": 217,
    "start_time": "2023-01-26T23:37:59.835Z"
   },
   {
    "duration": 282,
    "start_time": "2023-01-26T23:38:00.054Z"
   },
   {
    "duration": 173,
    "start_time": "2023-01-26T23:38:00.338Z"
   },
   {
    "duration": 222,
    "start_time": "2023-01-26T23:38:00.513Z"
   },
   {
    "duration": 128,
    "start_time": "2023-01-26T23:38:00.738Z"
   },
   {
    "duration": 225,
    "start_time": "2023-01-26T23:38:00.867Z"
   },
   {
    "duration": 164,
    "start_time": "2023-01-26T23:38:01.094Z"
   },
   {
    "duration": 119,
    "start_time": "2023-01-26T23:38:01.260Z"
   },
   {
    "duration": 164,
    "start_time": "2023-01-26T23:38:01.381Z"
   },
   {
    "duration": 269,
    "start_time": "2023-01-26T23:38:01.547Z"
   },
   {
    "duration": 207,
    "start_time": "2023-01-26T23:38:01.818Z"
   },
   {
    "duration": 160,
    "start_time": "2023-01-26T23:38:02.026Z"
   },
   {
    "duration": 113,
    "start_time": "2023-01-26T23:38:02.188Z"
   },
   {
    "duration": 119,
    "start_time": "2023-01-26T23:38:02.309Z"
   },
   {
    "duration": 327,
    "start_time": "2023-01-26T23:38:02.429Z"
   },
   {
    "duration": 563,
    "start_time": "2023-01-26T23:38:02.757Z"
   },
   {
    "duration": 220,
    "start_time": "2023-01-26T23:38:03.322Z"
   },
   {
    "duration": 222,
    "start_time": "2023-01-26T23:38:03.544Z"
   },
   {
    "duration": 204,
    "start_time": "2023-01-26T23:38:03.767Z"
   },
   {
    "duration": 217,
    "start_time": "2023-01-26T23:38:03.973Z"
   },
   {
    "duration": 226,
    "start_time": "2023-01-26T23:38:04.192Z"
   },
   {
    "duration": 295,
    "start_time": "2023-01-26T23:38:04.419Z"
   },
   {
    "duration": 228,
    "start_time": "2023-01-26T23:38:04.717Z"
   },
   {
    "duration": 231,
    "start_time": "2023-01-26T23:38:04.947Z"
   },
   {
    "duration": 215,
    "start_time": "2023-01-26T23:38:05.180Z"
   },
   {
    "duration": 222,
    "start_time": "2023-01-26T23:38:05.397Z"
   },
   {
    "duration": 309,
    "start_time": "2023-01-26T23:38:05.620Z"
   },
   {
    "duration": 210,
    "start_time": "2023-01-26T23:38:05.931Z"
   },
   {
    "duration": 215,
    "start_time": "2023-01-26T23:38:06.142Z"
   },
   {
    "duration": 216,
    "start_time": "2023-01-26T23:38:06.358Z"
   },
   {
    "duration": 248,
    "start_time": "2023-01-26T23:38:06.576Z"
   },
   {
    "duration": 208,
    "start_time": "2023-01-26T23:38:06.825Z"
   },
   {
    "duration": 226,
    "start_time": "2023-01-26T23:38:07.034Z"
   },
   {
    "duration": 343,
    "start_time": "2023-01-26T23:38:07.261Z"
   },
   {
    "duration": 207,
    "start_time": "2023-01-26T23:38:07.605Z"
   },
   {
    "duration": 213,
    "start_time": "2023-01-26T23:38:07.814Z"
   },
   {
    "duration": 221,
    "start_time": "2023-01-26T23:38:08.028Z"
   },
   {
    "duration": 221,
    "start_time": "2023-01-26T23:38:08.251Z"
   },
   {
    "duration": 4,
    "start_time": "2023-01-26T23:38:08.474Z"
   },
   {
    "duration": 175,
    "start_time": "2023-01-26T23:38:08.479Z"
   },
   {
    "duration": 165,
    "start_time": "2023-01-26T23:38:08.656Z"
   },
   {
    "duration": 162,
    "start_time": "2023-01-26T23:38:08.823Z"
   },
   {
    "duration": 172,
    "start_time": "2023-01-26T23:38:08.986Z"
   },
   {
    "duration": 171,
    "start_time": "2023-01-26T23:38:09.160Z"
   },
   {
    "duration": 166,
    "start_time": "2023-01-26T23:38:09.333Z"
   },
   {
    "duration": 1102,
    "start_time": "2023-01-26T23:43:54.921Z"
   },
   {
    "duration": 78,
    "start_time": "2023-01-26T23:44:57.818Z"
   },
   {
    "duration": 12,
    "start_time": "2023-01-26T23:45:01.289Z"
   },
   {
    "duration": 517,
    "start_time": "2023-01-26T23:45:10.350Z"
   },
   {
    "duration": 323,
    "start_time": "2023-01-26T23:45:36.881Z"
   },
   {
    "duration": 340,
    "start_time": "2023-01-26T23:58:12.817Z"
   },
   {
    "duration": 519,
    "start_time": "2023-01-26T23:58:30.619Z"
   },
   {
    "duration": 619,
    "start_time": "2023-01-27T00:03:06.432Z"
   },
   {
    "duration": 735,
    "start_time": "2023-01-27T00:03:22.409Z"
   },
   {
    "duration": 585,
    "start_time": "2023-01-27T00:03:35.463Z"
   },
   {
    "duration": 525,
    "start_time": "2023-01-27T00:04:39.170Z"
   },
   {
    "duration": 852,
    "start_time": "2023-01-27T00:04:55.529Z"
   },
   {
    "duration": 399,
    "start_time": "2023-01-27T00:05:03.732Z"
   },
   {
    "duration": 514,
    "start_time": "2023-01-27T00:05:10.418Z"
   },
   {
    "duration": 12,
    "start_time": "2023-01-27T00:08:22.190Z"
   },
   {
    "duration": 2436,
    "start_time": "2023-01-27T00:08:36.257Z"
   },
   {
    "duration": 22,
    "start_time": "2023-01-27T00:08:38.695Z"
   },
   {
    "duration": 95,
    "start_time": "2023-01-27T00:08:38.718Z"
   },
   {
    "duration": 63,
    "start_time": "2023-01-27T00:08:38.815Z"
   },
   {
    "duration": 379,
    "start_time": "2023-01-27T00:08:38.880Z"
   },
   {
    "duration": 218,
    "start_time": "2023-01-27T00:08:39.261Z"
   },
   {
    "duration": 265,
    "start_time": "2023-01-27T00:08:39.481Z"
   },
   {
    "duration": 176,
    "start_time": "2023-01-27T00:08:39.747Z"
   },
   {
    "duration": 221,
    "start_time": "2023-01-27T00:08:39.924Z"
   },
   {
    "duration": 130,
    "start_time": "2023-01-27T00:08:40.147Z"
   },
   {
    "duration": 225,
    "start_time": "2023-01-27T00:08:40.278Z"
   },
   {
    "duration": 159,
    "start_time": "2023-01-27T00:08:40.504Z"
   },
   {
    "duration": 108,
    "start_time": "2023-01-27T00:08:40.665Z"
   },
   {
    "duration": 161,
    "start_time": "2023-01-27T00:08:40.775Z"
   },
   {
    "duration": 265,
    "start_time": "2023-01-27T00:08:40.937Z"
   },
   {
    "duration": 201,
    "start_time": "2023-01-27T00:08:41.203Z"
   },
   {
    "duration": 155,
    "start_time": "2023-01-27T00:08:41.406Z"
   },
   {
    "duration": 113,
    "start_time": "2023-01-27T00:08:41.562Z"
   },
   {
    "duration": 113,
    "start_time": "2023-01-27T00:08:41.676Z"
   },
   {
    "duration": 326,
    "start_time": "2023-01-27T00:08:41.790Z"
   },
   {
    "duration": 581,
    "start_time": "2023-01-27T00:08:42.117Z"
   },
   {
    "duration": 551,
    "start_time": "2023-01-27T00:08:42.699Z"
   },
   {
    "duration": 234,
    "start_time": "2023-01-27T00:08:43.251Z"
   },
   {
    "duration": 235,
    "start_time": "2023-01-27T00:08:43.487Z"
   },
   {
    "duration": 303,
    "start_time": "2023-01-27T00:08:43.724Z"
   },
   {
    "duration": 215,
    "start_time": "2023-01-27T00:08:44.029Z"
   },
   {
    "duration": 220,
    "start_time": "2023-01-27T00:08:44.245Z"
   },
   {
    "duration": 206,
    "start_time": "2023-01-27T00:08:44.469Z"
   },
   {
    "duration": 220,
    "start_time": "2023-01-27T00:08:44.676Z"
   },
   {
    "duration": 334,
    "start_time": "2023-01-27T00:08:44.897Z"
   },
   {
    "duration": 215,
    "start_time": "2023-01-27T00:08:45.233Z"
   },
   {
    "duration": 217,
    "start_time": "2023-01-27T00:08:45.449Z"
   },
   {
    "duration": 212,
    "start_time": "2023-01-27T00:08:45.668Z"
   },
   {
    "duration": 211,
    "start_time": "2023-01-27T00:08:45.881Z"
   },
   {
    "duration": 212,
    "start_time": "2023-01-27T00:08:46.094Z"
   },
   {
    "duration": 219,
    "start_time": "2023-01-27T00:08:46.310Z"
   },
   {
    "duration": 353,
    "start_time": "2023-01-27T00:08:46.531Z"
   },
   {
    "duration": 205,
    "start_time": "2023-01-27T00:08:46.886Z"
   },
   {
    "duration": 224,
    "start_time": "2023-01-27T00:08:47.093Z"
   },
   {
    "duration": 206,
    "start_time": "2023-01-27T00:08:47.318Z"
   },
   {
    "duration": 207,
    "start_time": "2023-01-27T00:08:47.525Z"
   },
   {
    "duration": 201,
    "start_time": "2023-01-27T00:08:47.734Z"
   },
   {
    "duration": 215,
    "start_time": "2023-01-27T00:08:47.937Z"
   },
   {
    "duration": 216,
    "start_time": "2023-01-27T00:08:48.154Z"
   },
   {
    "duration": 4,
    "start_time": "2023-01-27T00:08:48.371Z"
   },
   {
    "duration": 188,
    "start_time": "2023-01-27T00:08:48.376Z"
   },
   {
    "duration": 159,
    "start_time": "2023-01-27T00:08:48.566Z"
   },
   {
    "duration": 320,
    "start_time": "2023-01-27T00:08:48.726Z"
   },
   {
    "duration": 172,
    "start_time": "2023-01-27T00:08:49.047Z"
   },
   {
    "duration": 171,
    "start_time": "2023-01-27T00:08:49.221Z"
   },
   {
    "duration": 169,
    "start_time": "2023-01-27T00:08:49.393Z"
   },
   {
    "duration": 12,
    "start_time": "2023-01-27T00:08:49.564Z"
   },
   {
    "duration": 373,
    "start_time": "2023-01-27T00:10:54.785Z"
   },
   {
    "duration": 361,
    "start_time": "2023-01-27T00:11:36.215Z"
   },
   {
    "duration": 6,
    "start_time": "2023-01-27T00:14:15.839Z"
   },
   {
    "duration": 6,
    "start_time": "2023-01-27T00:14:28.037Z"
   },
   {
    "duration": 5,
    "start_time": "2023-01-27T00:18:45.275Z"
   },
   {
    "duration": 8,
    "start_time": "2023-01-27T00:18:56.525Z"
   },
   {
    "duration": 91,
    "start_time": "2023-01-27T00:20:19.113Z"
   },
   {
    "duration": 22,
    "start_time": "2023-01-27T00:21:01.529Z"
   },
   {
    "duration": 29,
    "start_time": "2023-01-27T00:21:36.128Z"
   },
   {
    "duration": 19,
    "start_time": "2023-01-27T00:21:43.423Z"
   },
   {
    "duration": 15,
    "start_time": "2023-01-27T00:22:34.167Z"
   },
   {
    "duration": 15,
    "start_time": "2023-01-27T00:22:37.533Z"
   },
   {
    "duration": 16,
    "start_time": "2023-01-27T00:22:55.363Z"
   },
   {
    "duration": 15,
    "start_time": "2023-01-27T00:25:32.173Z"
   },
   {
    "duration": 2470,
    "start_time": "2023-01-27T00:25:38.446Z"
   },
   {
    "duration": 22,
    "start_time": "2023-01-27T00:25:40.918Z"
   },
   {
    "duration": 95,
    "start_time": "2023-01-27T00:25:40.942Z"
   },
   {
    "duration": 70,
    "start_time": "2023-01-27T00:25:41.040Z"
   },
   {
    "duration": 378,
    "start_time": "2023-01-27T00:25:41.111Z"
   },
   {
    "duration": 209,
    "start_time": "2023-01-27T00:25:41.491Z"
   },
   {
    "duration": 276,
    "start_time": "2023-01-27T00:25:41.702Z"
   },
   {
    "duration": 175,
    "start_time": "2023-01-27T00:25:41.979Z"
   },
   {
    "duration": 235,
    "start_time": "2023-01-27T00:25:42.155Z"
   },
   {
    "duration": 133,
    "start_time": "2023-01-27T00:25:42.393Z"
   },
   {
    "duration": 226,
    "start_time": "2023-01-27T00:25:42.528Z"
   },
   {
    "duration": 171,
    "start_time": "2023-01-27T00:25:42.756Z"
   },
   {
    "duration": 136,
    "start_time": "2023-01-27T00:25:42.928Z"
   },
   {
    "duration": 164,
    "start_time": "2023-01-27T00:25:43.065Z"
   },
   {
    "duration": 280,
    "start_time": "2023-01-27T00:25:43.230Z"
   },
   {
    "duration": 207,
    "start_time": "2023-01-27T00:25:43.511Z"
   },
   {
    "duration": 159,
    "start_time": "2023-01-27T00:25:43.720Z"
   },
   {
    "duration": 114,
    "start_time": "2023-01-27T00:25:43.880Z"
   },
   {
    "duration": 126,
    "start_time": "2023-01-27T00:25:43.996Z"
   },
   {
    "duration": 333,
    "start_time": "2023-01-27T00:25:44.124Z"
   },
   {
    "duration": 602,
    "start_time": "2023-01-27T00:25:44.458Z"
   },
   {
    "duration": 535,
    "start_time": "2023-01-27T00:25:45.061Z"
   },
   {
    "duration": 226,
    "start_time": "2023-01-27T00:25:45.598Z"
   },
   {
    "duration": 218,
    "start_time": "2023-01-27T00:25:45.826Z"
   },
   {
    "duration": 288,
    "start_time": "2023-01-27T00:25:46.045Z"
   },
   {
    "duration": 217,
    "start_time": "2023-01-27T00:25:46.334Z"
   },
   {
    "duration": 241,
    "start_time": "2023-01-27T00:25:46.553Z"
   },
   {
    "duration": 206,
    "start_time": "2023-01-27T00:25:46.797Z"
   },
   {
    "duration": 221,
    "start_time": "2023-01-27T00:25:47.009Z"
   },
   {
    "duration": 337,
    "start_time": "2023-01-27T00:25:47.232Z"
   },
   {
    "duration": 211,
    "start_time": "2023-01-27T00:25:47.571Z"
   },
   {
    "duration": 222,
    "start_time": "2023-01-27T00:25:47.783Z"
   },
   {
    "duration": 222,
    "start_time": "2023-01-27T00:25:48.009Z"
   },
   {
    "duration": 213,
    "start_time": "2023-01-27T00:25:48.232Z"
   },
   {
    "duration": 216,
    "start_time": "2023-01-27T00:25:48.447Z"
   },
   {
    "duration": 215,
    "start_time": "2023-01-27T00:25:48.665Z"
   },
   {
    "duration": 344,
    "start_time": "2023-01-27T00:25:48.881Z"
   },
   {
    "duration": 218,
    "start_time": "2023-01-27T00:25:49.226Z"
   },
   {
    "duration": 222,
    "start_time": "2023-01-27T00:25:49.446Z"
   },
   {
    "duration": 209,
    "start_time": "2023-01-27T00:25:49.669Z"
   },
   {
    "duration": 212,
    "start_time": "2023-01-27T00:25:49.879Z"
   },
   {
    "duration": 213,
    "start_time": "2023-01-27T00:25:50.093Z"
   },
   {
    "duration": 217,
    "start_time": "2023-01-27T00:25:50.312Z"
   },
   {
    "duration": 227,
    "start_time": "2023-01-27T00:25:50.531Z"
   },
   {
    "duration": 4,
    "start_time": "2023-01-27T00:25:50.759Z"
   },
   {
    "duration": 181,
    "start_time": "2023-01-27T00:25:50.765Z"
   },
   {
    "duration": 166,
    "start_time": "2023-01-27T00:25:50.948Z"
   },
   {
    "duration": 323,
    "start_time": "2023-01-27T00:25:51.116Z"
   },
   {
    "duration": 176,
    "start_time": "2023-01-27T00:25:51.441Z"
   },
   {
    "duration": 174,
    "start_time": "2023-01-27T00:25:51.618Z"
   },
   {
    "duration": 172,
    "start_time": "2023-01-27T00:25:51.793Z"
   },
   {
    "duration": 14,
    "start_time": "2023-01-27T00:25:51.967Z"
   },
   {
    "duration": 102,
    "start_time": "2023-01-27T00:26:13.209Z"
   },
   {
    "duration": 22,
    "start_time": "2023-01-27T00:26:25.960Z"
   },
   {
    "duration": 19,
    "start_time": "2023-01-27T00:26:57.964Z"
   },
   {
    "duration": 67,
    "start_time": "2023-01-27T00:27:12.913Z"
   },
   {
    "duration": 20,
    "start_time": "2023-01-27T00:27:50.451Z"
   },
   {
    "duration": 23,
    "start_time": "2023-01-27T00:28:05.664Z"
   },
   {
    "duration": 8,
    "start_time": "2023-01-27T00:30:17.453Z"
   },
   {
    "duration": 8,
    "start_time": "2023-01-27T00:30:25.624Z"
   },
   {
    "duration": 34,
    "start_time": "2023-01-27T00:30:43.005Z"
   },
   {
    "duration": 22,
    "start_time": "2023-01-27T00:31:01.466Z"
   },
   {
    "duration": 20,
    "start_time": "2023-01-27T00:31:30.931Z"
   },
   {
    "duration": 20,
    "start_time": "2023-01-27T00:31:55.513Z"
   },
   {
    "duration": 2493,
    "start_time": "2023-01-27T00:32:02.927Z"
   },
   {
    "duration": 22,
    "start_time": "2023-01-27T00:32:05.423Z"
   },
   {
    "duration": 96,
    "start_time": "2023-01-27T00:32:05.446Z"
   },
   {
    "duration": 70,
    "start_time": "2023-01-27T00:32:05.544Z"
   },
   {
    "duration": 379,
    "start_time": "2023-01-27T00:32:05.615Z"
   },
   {
    "duration": 216,
    "start_time": "2023-01-27T00:32:05.995Z"
   },
   {
    "duration": 267,
    "start_time": "2023-01-27T00:32:06.213Z"
   },
   {
    "duration": 191,
    "start_time": "2023-01-27T00:32:06.482Z"
   },
   {
    "duration": 223,
    "start_time": "2023-01-27T00:32:06.674Z"
   },
   {
    "duration": 131,
    "start_time": "2023-01-27T00:32:06.899Z"
   },
   {
    "duration": 226,
    "start_time": "2023-01-27T00:32:07.031Z"
   },
   {
    "duration": 168,
    "start_time": "2023-01-27T00:32:07.259Z"
   },
   {
    "duration": 121,
    "start_time": "2023-01-27T00:32:07.429Z"
   },
   {
    "duration": 166,
    "start_time": "2023-01-27T00:32:07.552Z"
   },
   {
    "duration": 265,
    "start_time": "2023-01-27T00:32:07.720Z"
   },
   {
    "duration": 199,
    "start_time": "2023-01-27T00:32:07.987Z"
   },
   {
    "duration": 154,
    "start_time": "2023-01-27T00:32:08.187Z"
   },
   {
    "duration": 115,
    "start_time": "2023-01-27T00:32:08.343Z"
   },
   {
    "duration": 119,
    "start_time": "2023-01-27T00:32:08.459Z"
   },
   {
    "duration": 338,
    "start_time": "2023-01-27T00:32:08.580Z"
   },
   {
    "duration": 590,
    "start_time": "2023-01-27T00:32:08.919Z"
   },
   {
    "duration": 524,
    "start_time": "2023-01-27T00:32:09.511Z"
   },
   {
    "duration": 222,
    "start_time": "2023-01-27T00:32:10.036Z"
   },
   {
    "duration": 220,
    "start_time": "2023-01-27T00:32:10.259Z"
   },
   {
    "duration": 292,
    "start_time": "2023-01-27T00:32:10.481Z"
   },
   {
    "duration": 223,
    "start_time": "2023-01-27T00:32:10.774Z"
   },
   {
    "duration": 229,
    "start_time": "2023-01-27T00:32:10.998Z"
   },
   {
    "duration": 213,
    "start_time": "2023-01-27T00:32:11.232Z"
   },
   {
    "duration": 233,
    "start_time": "2023-01-27T00:32:11.447Z"
   },
   {
    "duration": 337,
    "start_time": "2023-01-27T00:32:11.682Z"
   },
   {
    "duration": 215,
    "start_time": "2023-01-27T00:32:12.021Z"
   },
   {
    "duration": 224,
    "start_time": "2023-01-27T00:32:12.238Z"
   },
   {
    "duration": 229,
    "start_time": "2023-01-27T00:32:12.464Z"
   },
   {
    "duration": 217,
    "start_time": "2023-01-27T00:32:12.695Z"
   },
   {
    "duration": 243,
    "start_time": "2023-01-27T00:32:12.914Z"
   },
   {
    "duration": 215,
    "start_time": "2023-01-27T00:32:13.158Z"
   },
   {
    "duration": 357,
    "start_time": "2023-01-27T00:32:13.375Z"
   },
   {
    "duration": 214,
    "start_time": "2023-01-27T00:32:13.734Z"
   },
   {
    "duration": 219,
    "start_time": "2023-01-27T00:32:13.950Z"
   },
   {
    "duration": 205,
    "start_time": "2023-01-27T00:32:14.171Z"
   },
   {
    "duration": 210,
    "start_time": "2023-01-27T00:32:14.378Z"
   },
   {
    "duration": 219,
    "start_time": "2023-01-27T00:32:14.590Z"
   },
   {
    "duration": 222,
    "start_time": "2023-01-27T00:32:14.810Z"
   },
   {
    "duration": 230,
    "start_time": "2023-01-27T00:32:15.034Z"
   },
   {
    "duration": 3,
    "start_time": "2023-01-27T00:32:15.266Z"
   },
   {
    "duration": 174,
    "start_time": "2023-01-27T00:32:15.271Z"
   },
   {
    "duration": 167,
    "start_time": "2023-01-27T00:32:15.446Z"
   },
   {
    "duration": 310,
    "start_time": "2023-01-27T00:32:15.615Z"
   },
   {
    "duration": 172,
    "start_time": "2023-01-27T00:32:15.926Z"
   },
   {
    "duration": 172,
    "start_time": "2023-01-27T00:32:16.100Z"
   },
   {
    "duration": 184,
    "start_time": "2023-01-27T00:32:16.274Z"
   },
   {
    "duration": 24,
    "start_time": "2023-01-27T00:32:16.460Z"
   },
   {
    "duration": 19,
    "start_time": "2023-01-27T00:35:34.140Z"
   },
   {
    "duration": 27,
    "start_time": "2023-01-27T00:36:40.713Z"
   },
   {
    "duration": 89,
    "start_time": "2023-01-27T00:38:26.927Z"
   },
   {
    "duration": 106,
    "start_time": "2023-01-27T00:38:42.024Z"
   },
   {
    "duration": 27,
    "start_time": "2023-01-27T00:39:03.472Z"
   },
   {
    "duration": 25,
    "start_time": "2023-01-27T00:39:14.505Z"
   },
   {
    "duration": 27,
    "start_time": "2023-01-27T00:39:39.039Z"
   },
   {
    "duration": 27,
    "start_time": "2023-01-27T00:39:54.492Z"
   },
   {
    "duration": 28,
    "start_time": "2023-01-27T00:40:13.858Z"
   },
   {
    "duration": 27,
    "start_time": "2023-01-27T00:40:25.503Z"
   },
   {
    "duration": 41,
    "start_time": "2023-01-27T00:40:57.039Z"
   },
   {
    "duration": 31,
    "start_time": "2023-01-27T00:41:41.692Z"
   },
   {
    "duration": 45,
    "start_time": "2023-01-27T00:41:57.142Z"
   },
   {
    "duration": 72,
    "start_time": "2023-01-27T00:42:38.532Z"
   },
   {
    "duration": 50,
    "start_time": "2023-01-27T00:43:39.738Z"
   },
   {
    "duration": 65,
    "start_time": "2023-01-27T00:43:48.919Z"
   },
   {
    "duration": 75,
    "start_time": "2023-01-27T00:44:07.080Z"
   },
   {
    "duration": 36,
    "start_time": "2023-01-27T00:44:34.552Z"
   },
   {
    "duration": 3,
    "start_time": "2023-01-27T00:45:21.269Z"
   },
   {
    "duration": 38,
    "start_time": "2023-01-27T00:45:49.760Z"
   },
   {
    "duration": 38,
    "start_time": "2023-01-27T00:45:57.422Z"
   },
   {
    "duration": 75,
    "start_time": "2023-01-27T00:46:06.157Z"
   },
   {
    "duration": 36,
    "start_time": "2023-01-27T00:46:20.522Z"
   },
   {
    "duration": 36,
    "start_time": "2023-01-27T00:47:06.140Z"
   },
   {
    "duration": 74,
    "start_time": "2023-01-27T00:48:16.570Z"
   },
   {
    "duration": 78,
    "start_time": "2023-01-27T00:48:25.431Z"
   },
   {
    "duration": 37,
    "start_time": "2023-01-27T00:48:31.375Z"
   },
   {
    "duration": 37,
    "start_time": "2023-01-27T00:48:38.061Z"
   },
   {
    "duration": 36,
    "start_time": "2023-01-27T00:48:43.352Z"
   },
   {
    "duration": 38,
    "start_time": "2023-01-27T00:48:59.983Z"
   },
   {
    "duration": 1086,
    "start_time": "2023-01-27T00:55:32.217Z"
   },
   {
    "duration": 14,
    "start_time": "2023-01-27T00:55:44.757Z"
   },
   {
    "duration": 13,
    "start_time": "2023-01-27T00:55:49.365Z"
   },
   {
    "duration": 2418,
    "start_time": "2023-01-27T00:55:56.666Z"
   },
   {
    "duration": 21,
    "start_time": "2023-01-27T00:55:59.086Z"
   },
   {
    "duration": 92,
    "start_time": "2023-01-27T00:55:59.108Z"
   },
   {
    "duration": 68,
    "start_time": "2023-01-27T00:55:59.201Z"
   },
   {
    "duration": 388,
    "start_time": "2023-01-27T00:55:59.270Z"
   },
   {
    "duration": 212,
    "start_time": "2023-01-27T00:55:59.659Z"
   },
   {
    "duration": 267,
    "start_time": "2023-01-27T00:55:59.872Z"
   },
   {
    "duration": 176,
    "start_time": "2023-01-27T00:56:00.141Z"
   },
   {
    "duration": 225,
    "start_time": "2023-01-27T00:56:00.318Z"
   },
   {
    "duration": 128,
    "start_time": "2023-01-27T00:56:00.545Z"
   },
   {
    "duration": 223,
    "start_time": "2023-01-27T00:56:00.675Z"
   },
   {
    "duration": 166,
    "start_time": "2023-01-27T00:56:00.899Z"
   },
   {
    "duration": 114,
    "start_time": "2023-01-27T00:56:01.066Z"
   },
   {
    "duration": 171,
    "start_time": "2023-01-27T00:56:01.181Z"
   },
   {
    "duration": 271,
    "start_time": "2023-01-27T00:56:01.353Z"
   },
   {
    "duration": 210,
    "start_time": "2023-01-27T00:56:01.626Z"
   },
   {
    "duration": 157,
    "start_time": "2023-01-27T00:56:01.837Z"
   },
   {
    "duration": 116,
    "start_time": "2023-01-27T00:56:01.995Z"
   },
   {
    "duration": 122,
    "start_time": "2023-01-27T00:56:02.113Z"
   },
   {
    "duration": 331,
    "start_time": "2023-01-27T00:56:02.237Z"
   },
   {
    "duration": 605,
    "start_time": "2023-01-27T00:56:02.569Z"
   },
   {
    "duration": 523,
    "start_time": "2023-01-27T00:56:03.175Z"
   },
   {
    "duration": 223,
    "start_time": "2023-01-27T00:56:03.699Z"
   },
   {
    "duration": 230,
    "start_time": "2023-01-27T00:56:03.924Z"
   },
   {
    "duration": 293,
    "start_time": "2023-01-27T00:56:04.155Z"
   },
   {
    "duration": 212,
    "start_time": "2023-01-27T00:56:04.449Z"
   },
   {
    "duration": 220,
    "start_time": "2023-01-27T00:56:04.662Z"
   },
   {
    "duration": 208,
    "start_time": "2023-01-27T00:56:04.886Z"
   },
   {
    "duration": 225,
    "start_time": "2023-01-27T00:56:05.096Z"
   },
   {
    "duration": 335,
    "start_time": "2023-01-27T00:56:05.323Z"
   },
   {
    "duration": 210,
    "start_time": "2023-01-27T00:56:05.660Z"
   },
   {
    "duration": 215,
    "start_time": "2023-01-27T00:56:05.871Z"
   },
   {
    "duration": 219,
    "start_time": "2023-01-27T00:56:06.087Z"
   },
   {
    "duration": 216,
    "start_time": "2023-01-27T00:56:06.309Z"
   },
   {
    "duration": 219,
    "start_time": "2023-01-27T00:56:06.528Z"
   },
   {
    "duration": 209,
    "start_time": "2023-01-27T00:56:06.748Z"
   },
   {
    "duration": 341,
    "start_time": "2023-01-27T00:56:06.958Z"
   },
   {
    "duration": 200,
    "start_time": "2023-01-27T00:56:07.301Z"
   },
   {
    "duration": 217,
    "start_time": "2023-01-27T00:56:07.503Z"
   },
   {
    "duration": 202,
    "start_time": "2023-01-27T00:56:07.721Z"
   },
   {
    "duration": 206,
    "start_time": "2023-01-27T00:56:07.925Z"
   },
   {
    "duration": 207,
    "start_time": "2023-01-27T00:56:08.132Z"
   },
   {
    "duration": 220,
    "start_time": "2023-01-27T00:56:08.340Z"
   },
   {
    "duration": 220,
    "start_time": "2023-01-27T00:56:08.562Z"
   },
   {
    "duration": 4,
    "start_time": "2023-01-27T00:56:08.783Z"
   },
   {
    "duration": 172,
    "start_time": "2023-01-27T00:56:08.789Z"
   },
   {
    "duration": 166,
    "start_time": "2023-01-27T00:56:08.963Z"
   },
   {
    "duration": 307,
    "start_time": "2023-01-27T00:56:09.131Z"
   },
   {
    "duration": 171,
    "start_time": "2023-01-27T00:56:09.439Z"
   },
   {
    "duration": 164,
    "start_time": "2023-01-27T00:56:09.612Z"
   },
   {
    "duration": 172,
    "start_time": "2023-01-27T00:56:09.777Z"
   },
   {
    "duration": 38,
    "start_time": "2023-01-27T00:56:09.951Z"
   },
   {
    "duration": 25,
    "start_time": "2023-01-27T00:56:09.991Z"
   },
   {
    "duration": 23,
    "start_time": "2023-01-27T00:56:43.934Z"
   },
   {
    "duration": 13,
    "start_time": "2023-01-27T00:56:50.492Z"
   },
   {
    "duration": 12,
    "start_time": "2023-01-27T00:58:32.821Z"
   },
   {
    "duration": 2411,
    "start_time": "2023-01-27T00:58:59.349Z"
   },
   {
    "duration": 23,
    "start_time": "2023-01-27T00:59:01.763Z"
   },
   {
    "duration": 111,
    "start_time": "2023-01-27T00:59:01.788Z"
   },
   {
    "duration": 70,
    "start_time": "2023-01-27T00:59:01.902Z"
   },
   {
    "duration": 399,
    "start_time": "2023-01-27T00:59:01.974Z"
   },
   {
    "duration": 209,
    "start_time": "2023-01-27T00:59:02.375Z"
   },
   {
    "duration": 271,
    "start_time": "2023-01-27T00:59:02.586Z"
   },
   {
    "duration": 180,
    "start_time": "2023-01-27T00:59:02.859Z"
   },
   {
    "duration": 233,
    "start_time": "2023-01-27T00:59:03.041Z"
   },
   {
    "duration": 135,
    "start_time": "2023-01-27T00:59:03.276Z"
   },
   {
    "duration": 223,
    "start_time": "2023-01-27T00:59:03.413Z"
   },
   {
    "duration": 172,
    "start_time": "2023-01-27T00:59:03.638Z"
   },
   {
    "duration": 115,
    "start_time": "2023-01-27T00:59:03.811Z"
   },
   {
    "duration": 168,
    "start_time": "2023-01-27T00:59:03.927Z"
   },
   {
    "duration": 257,
    "start_time": "2023-01-27T00:59:04.097Z"
   },
   {
    "duration": 205,
    "start_time": "2023-01-27T00:59:04.355Z"
   },
   {
    "duration": 161,
    "start_time": "2023-01-27T00:59:04.561Z"
   },
   {
    "duration": 115,
    "start_time": "2023-01-27T00:59:04.723Z"
   },
   {
    "duration": 123,
    "start_time": "2023-01-27T00:59:04.840Z"
   },
   {
    "duration": 344,
    "start_time": "2023-01-27T00:59:04.965Z"
   },
   {
    "duration": 595,
    "start_time": "2023-01-27T00:59:05.311Z"
   },
   {
    "duration": 528,
    "start_time": "2023-01-27T00:59:05.907Z"
   },
   {
    "duration": 253,
    "start_time": "2023-01-27T00:59:06.437Z"
   },
   {
    "duration": 229,
    "start_time": "2023-01-27T00:59:06.692Z"
   },
   {
    "duration": 301,
    "start_time": "2023-01-27T00:59:06.923Z"
   },
   {
    "duration": 228,
    "start_time": "2023-01-27T00:59:07.226Z"
   },
   {
    "duration": 221,
    "start_time": "2023-01-27T00:59:07.456Z"
   },
   {
    "duration": 205,
    "start_time": "2023-01-27T00:59:07.680Z"
   },
   {
    "duration": 227,
    "start_time": "2023-01-27T00:59:07.887Z"
   },
   {
    "duration": 327,
    "start_time": "2023-01-27T00:59:08.116Z"
   },
   {
    "duration": 211,
    "start_time": "2023-01-27T00:59:08.445Z"
   },
   {
    "duration": 233,
    "start_time": "2023-01-27T00:59:08.657Z"
   },
   {
    "duration": 214,
    "start_time": "2023-01-27T00:59:08.891Z"
   },
   {
    "duration": 225,
    "start_time": "2023-01-27T00:59:09.109Z"
   },
   {
    "duration": 213,
    "start_time": "2023-01-27T00:59:09.336Z"
   },
   {
    "duration": 209,
    "start_time": "2023-01-27T00:59:09.551Z"
   },
   {
    "duration": 344,
    "start_time": "2023-01-27T00:59:09.762Z"
   },
   {
    "duration": 211,
    "start_time": "2023-01-27T00:59:10.107Z"
   },
   {
    "duration": 221,
    "start_time": "2023-01-27T00:59:10.320Z"
   },
   {
    "duration": 202,
    "start_time": "2023-01-27T00:59:10.543Z"
   },
   {
    "duration": 201,
    "start_time": "2023-01-27T00:59:10.746Z"
   },
   {
    "duration": 217,
    "start_time": "2023-01-27T00:59:10.949Z"
   },
   {
    "duration": 225,
    "start_time": "2023-01-27T00:59:11.168Z"
   },
   {
    "duration": 228,
    "start_time": "2023-01-27T00:59:11.395Z"
   },
   {
    "duration": 4,
    "start_time": "2023-01-27T00:59:11.625Z"
   },
   {
    "duration": 171,
    "start_time": "2023-01-27T00:59:11.630Z"
   },
   {
    "duration": 166,
    "start_time": "2023-01-27T00:59:11.803Z"
   },
   {
    "duration": 357,
    "start_time": "2023-01-27T00:59:11.970Z"
   },
   {
    "duration": 209,
    "start_time": "2023-01-27T00:59:12.329Z"
   },
   {
    "duration": 252,
    "start_time": "2023-01-27T00:59:12.540Z"
   },
   {
    "duration": 173,
    "start_time": "2023-01-27T00:59:12.794Z"
   },
   {
    "duration": 56,
    "start_time": "2023-01-27T00:59:12.968Z"
   },
   {
    "duration": 16,
    "start_time": "2023-01-27T00:59:13.026Z"
   },
   {
    "duration": 14,
    "start_time": "2023-01-27T01:00:55.671Z"
   },
   {
    "duration": 28,
    "start_time": "2023-01-27T01:02:20.722Z"
   },
   {
    "duration": 22,
    "start_time": "2023-01-27T01:02:29.777Z"
   },
   {
    "duration": 91,
    "start_time": "2023-01-27T01:04:26.051Z"
   },
   {
    "duration": 1107,
    "start_time": "2023-01-27T01:04:56.568Z"
   },
   {
    "duration": 141,
    "start_time": "2023-01-27T01:06:16.015Z"
   },
   {
    "duration": 21,
    "start_time": "2023-01-27T01:06:26.649Z"
   },
   {
    "duration": 123,
    "start_time": "2023-01-27T01:06:39.828Z"
   },
   {
    "duration": 125,
    "start_time": "2023-01-27T01:07:15.077Z"
   },
   {
    "duration": 3606,
    "start_time": "2023-01-27T12:35:50.342Z"
   },
   {
    "duration": 29,
    "start_time": "2023-01-27T12:35:53.951Z"
   },
   {
    "duration": 138,
    "start_time": "2023-01-27T12:35:53.982Z"
   },
   {
    "duration": 89,
    "start_time": "2023-01-27T12:35:54.122Z"
   },
   {
    "duration": 463,
    "start_time": "2023-01-27T12:35:54.213Z"
   },
   {
    "duration": 306,
    "start_time": "2023-01-27T12:35:54.677Z"
   },
   {
    "duration": 431,
    "start_time": "2023-01-27T12:35:54.991Z"
   },
   {
    "duration": 273,
    "start_time": "2023-01-27T12:35:55.425Z"
   },
   {
    "duration": 289,
    "start_time": "2023-01-27T12:35:55.701Z"
   },
   {
    "duration": 141,
    "start_time": "2023-01-27T12:35:55.992Z"
   },
   {
    "duration": 282,
    "start_time": "2023-01-27T12:35:56.134Z"
   },
   {
    "duration": 206,
    "start_time": "2023-01-27T12:35:56.417Z"
   },
   {
    "duration": 152,
    "start_time": "2023-01-27T12:35:56.625Z"
   },
   {
    "duration": 304,
    "start_time": "2023-01-27T12:35:56.781Z"
   },
   {
    "duration": 249,
    "start_time": "2023-01-27T12:35:57.086Z"
   },
   {
    "duration": 273,
    "start_time": "2023-01-27T12:35:57.337Z"
   },
   {
    "duration": 182,
    "start_time": "2023-01-27T12:35:57.612Z"
   },
   {
    "duration": 122,
    "start_time": "2023-01-27T12:35:57.795Z"
   },
   {
    "duration": 129,
    "start_time": "2023-01-27T12:35:57.919Z"
   },
   {
    "duration": 446,
    "start_time": "2023-01-27T12:35:58.050Z"
   },
   {
    "duration": 682,
    "start_time": "2023-01-27T12:35:58.497Z"
   },
   {
    "duration": 624,
    "start_time": "2023-01-27T12:35:59.181Z"
   },
   {
    "duration": 318,
    "start_time": "2023-01-27T12:35:59.808Z"
   },
   {
    "duration": 417,
    "start_time": "2023-01-27T12:36:00.132Z"
   },
   {
    "duration": 292,
    "start_time": "2023-01-27T12:36:00.550Z"
   },
   {
    "duration": 295,
    "start_time": "2023-01-27T12:36:00.844Z"
   },
   {
    "duration": 302,
    "start_time": "2023-01-27T12:36:01.141Z"
   },
   {
    "duration": 305,
    "start_time": "2023-01-27T12:36:01.447Z"
   },
   {
    "duration": 344,
    "start_time": "2023-01-27T12:36:01.754Z"
   },
   {
    "duration": 420,
    "start_time": "2023-01-27T12:36:02.099Z"
   },
   {
    "duration": 249,
    "start_time": "2023-01-27T12:36:02.521Z"
   },
   {
    "duration": 316,
    "start_time": "2023-01-27T12:36:02.772Z"
   },
   {
    "duration": 318,
    "start_time": "2023-01-27T12:36:03.096Z"
   },
   {
    "duration": 272,
    "start_time": "2023-01-27T12:36:03.416Z"
   },
   {
    "duration": 257,
    "start_time": "2023-01-27T12:36:03.695Z"
   },
   {
    "duration": 261,
    "start_time": "2023-01-27T12:36:03.954Z"
   },
   {
    "duration": 487,
    "start_time": "2023-01-27T12:36:04.217Z"
   },
   {
    "duration": 341,
    "start_time": "2023-01-27T12:36:04.718Z"
   },
   {
    "duration": 455,
    "start_time": "2023-01-27T12:36:05.063Z"
   },
   {
    "duration": 285,
    "start_time": "2023-01-27T12:36:05.530Z"
   },
   {
    "duration": 392,
    "start_time": "2023-01-27T12:36:05.818Z"
   },
   {
    "duration": 286,
    "start_time": "2023-01-27T12:36:06.212Z"
   },
   {
    "duration": 291,
    "start_time": "2023-01-27T12:36:06.504Z"
   },
   {
    "duration": 295,
    "start_time": "2023-01-27T12:36:06.798Z"
   },
   {
    "duration": 6,
    "start_time": "2023-01-27T12:36:07.094Z"
   },
   {
    "duration": 217,
    "start_time": "2023-01-27T12:36:07.102Z"
   },
   {
    "duration": 223,
    "start_time": "2023-01-27T12:36:07.321Z"
   },
   {
    "duration": 370,
    "start_time": "2023-01-27T12:36:07.545Z"
   },
   {
    "duration": 241,
    "start_time": "2023-01-27T12:36:07.916Z"
   },
   {
    "duration": 246,
    "start_time": "2023-01-27T12:36:08.159Z"
   },
   {
    "duration": 200,
    "start_time": "2023-01-27T12:36:08.407Z"
   },
   {
    "duration": 38,
    "start_time": "2023-01-27T12:36:08.608Z"
   },
   {
    "duration": 54,
    "start_time": "2023-01-27T12:36:08.648Z"
   },
   {
    "duration": 22,
    "start_time": "2023-01-27T12:54:01.987Z"
   },
   {
    "duration": 44,
    "start_time": "2023-01-27T12:54:33.800Z"
   },
   {
    "duration": 30,
    "start_time": "2023-01-27T12:54:43.619Z"
   },
   {
    "duration": 28,
    "start_time": "2023-01-27T12:56:03.401Z"
   },
   {
    "duration": 301,
    "start_time": "2023-01-27T13:24:53.841Z"
   },
   {
    "duration": 277,
    "start_time": "2023-01-27T13:24:59.247Z"
   },
   {
    "duration": 81,
    "start_time": "2023-01-27T13:27:47.193Z"
   },
   {
    "duration": 141,
    "start_time": "2023-01-27T13:29:04.693Z"
   },
   {
    "duration": 3670,
    "start_time": "2023-01-27T13:30:03.755Z"
   },
   {
    "duration": 34,
    "start_time": "2023-01-27T13:30:07.427Z"
   },
   {
    "duration": 170,
    "start_time": "2023-01-27T13:30:07.463Z"
   },
   {
    "duration": 92,
    "start_time": "2023-01-27T13:30:07.636Z"
   },
   {
    "duration": 466,
    "start_time": "2023-01-27T13:30:07.730Z"
   },
   {
    "duration": 323,
    "start_time": "2023-01-27T13:30:08.211Z"
   },
   {
    "duration": 416,
    "start_time": "2023-01-27T13:30:08.537Z"
   },
   {
    "duration": 234,
    "start_time": "2023-01-27T13:30:08.955Z"
   },
   {
    "duration": 326,
    "start_time": "2023-01-27T13:30:09.195Z"
   },
   {
    "duration": 204,
    "start_time": "2023-01-27T13:30:09.524Z"
   },
   {
    "duration": 332,
    "start_time": "2023-01-27T13:30:09.731Z"
   },
   {
    "duration": 233,
    "start_time": "2023-01-27T13:30:10.065Z"
   },
   {
    "duration": 134,
    "start_time": "2023-01-27T13:30:10.302Z"
   },
   {
    "duration": 208,
    "start_time": "2023-01-27T13:30:10.438Z"
   },
   {
    "duration": 374,
    "start_time": "2023-01-27T13:30:10.648Z"
   },
   {
    "duration": 338,
    "start_time": "2023-01-27T13:30:11.024Z"
   },
   {
    "duration": 208,
    "start_time": "2023-01-27T13:30:11.379Z"
   },
   {
    "duration": 155,
    "start_time": "2023-01-27T13:30:11.590Z"
   },
   {
    "duration": 203,
    "start_time": "2023-01-27T13:30:11.747Z"
   },
   {
    "duration": 488,
    "start_time": "2023-01-27T13:30:11.952Z"
   },
   {
    "duration": 864,
    "start_time": "2023-01-27T13:30:12.442Z"
   },
   {
    "duration": 770,
    "start_time": "2023-01-27T13:30:13.311Z"
   },
   {
    "duration": 339,
    "start_time": "2023-01-27T13:30:14.086Z"
   },
   {
    "duration": 369,
    "start_time": "2023-01-27T13:30:14.428Z"
   },
   {
    "duration": 462,
    "start_time": "2023-01-27T13:30:14.802Z"
   },
   {
    "duration": 376,
    "start_time": "2023-01-27T13:30:15.266Z"
   },
   {
    "duration": 388,
    "start_time": "2023-01-27T13:30:15.644Z"
   },
   {
    "duration": 310,
    "start_time": "2023-01-27T13:30:16.038Z"
   },
   {
    "duration": 313,
    "start_time": "2023-01-27T13:30:16.350Z"
   },
   {
    "duration": 591,
    "start_time": "2023-01-27T13:30:16.671Z"
   },
   {
    "duration": 345,
    "start_time": "2023-01-27T13:30:17.271Z"
   },
   {
    "duration": 289,
    "start_time": "2023-01-27T13:30:17.618Z"
   },
   {
    "duration": 317,
    "start_time": "2023-01-27T13:30:17.909Z"
   },
   {
    "duration": 328,
    "start_time": "2023-01-27T13:30:18.228Z"
   },
   {
    "duration": 311,
    "start_time": "2023-01-27T13:30:18.558Z"
   },
   {
    "duration": 310,
    "start_time": "2023-01-27T13:30:18.871Z"
   },
   {
    "duration": 459,
    "start_time": "2023-01-27T13:30:19.184Z"
   },
   {
    "duration": 296,
    "start_time": "2023-01-27T13:30:19.645Z"
   },
   {
    "duration": 321,
    "start_time": "2023-01-27T13:30:19.944Z"
   },
   {
    "duration": 363,
    "start_time": "2023-01-27T13:30:20.275Z"
   },
   {
    "duration": 307,
    "start_time": "2023-01-27T13:30:20.640Z"
   },
   {
    "duration": 284,
    "start_time": "2023-01-27T13:30:20.948Z"
   },
   {
    "duration": 306,
    "start_time": "2023-01-27T13:30:21.233Z"
   },
   {
    "duration": 291,
    "start_time": "2023-01-27T13:30:21.541Z"
   },
   {
    "duration": 4,
    "start_time": "2023-01-27T13:30:21.836Z"
   },
   {
    "duration": 290,
    "start_time": "2023-01-27T13:30:21.843Z"
   },
   {
    "duration": 236,
    "start_time": "2023-01-27T13:30:22.135Z"
   },
   {
    "duration": 418,
    "start_time": "2023-01-27T13:30:22.373Z"
   },
   {
    "duration": 246,
    "start_time": "2023-01-27T13:30:22.795Z"
   },
   {
    "duration": 259,
    "start_time": "2023-01-27T13:30:23.043Z"
   },
   {
    "duration": 264,
    "start_time": "2023-01-27T13:30:23.304Z"
   },
   {
    "duration": 62,
    "start_time": "2023-01-27T13:30:23.570Z"
   },
   {
    "duration": 67,
    "start_time": "2023-01-27T13:30:23.634Z"
   },
   {
    "duration": 5953,
    "start_time": "2023-01-27T15:25:33.781Z"
   },
   {
    "duration": 23,
    "start_time": "2023-01-27T15:25:39.737Z"
   },
   {
    "duration": 134,
    "start_time": "2023-01-27T15:25:39.761Z"
   },
   {
    "duration": 68,
    "start_time": "2023-01-27T15:25:39.897Z"
   },
   {
    "duration": 387,
    "start_time": "2023-01-27T15:25:39.967Z"
   },
   {
    "duration": 269,
    "start_time": "2023-01-27T15:25:40.356Z"
   },
   {
    "duration": 354,
    "start_time": "2023-01-27T15:25:40.626Z"
   },
   {
    "duration": 205,
    "start_time": "2023-01-27T15:25:40.993Z"
   },
   {
    "duration": 257,
    "start_time": "2023-01-27T15:25:41.200Z"
   },
   {
    "duration": 160,
    "start_time": "2023-01-27T15:25:41.459Z"
   },
   {
    "duration": 278,
    "start_time": "2023-01-27T15:25:41.621Z"
   },
   {
    "duration": 199,
    "start_time": "2023-01-27T15:25:41.901Z"
   },
   {
    "duration": 123,
    "start_time": "2023-01-27T15:25:42.102Z"
   },
   {
    "duration": 208,
    "start_time": "2023-01-27T15:25:42.227Z"
   },
   {
    "duration": 325,
    "start_time": "2023-01-27T15:25:42.437Z"
   },
   {
    "duration": 249,
    "start_time": "2023-01-27T15:25:42.764Z"
   },
   {
    "duration": 191,
    "start_time": "2023-01-27T15:25:43.015Z"
   },
   {
    "duration": 135,
    "start_time": "2023-01-27T15:25:43.208Z"
   },
   {
    "duration": 165,
    "start_time": "2023-01-27T15:25:43.345Z"
   },
   {
    "duration": 426,
    "start_time": "2023-01-27T15:25:43.512Z"
   },
   {
    "duration": 697,
    "start_time": "2023-01-27T15:25:43.940Z"
   },
   {
    "duration": 618,
    "start_time": "2023-01-27T15:25:44.639Z"
   },
   {
    "duration": 273,
    "start_time": "2023-01-27T15:25:45.258Z"
   },
   {
    "duration": 269,
    "start_time": "2023-01-27T15:25:45.533Z"
   },
   {
    "duration": 372,
    "start_time": "2023-01-27T15:25:45.804Z"
   },
   {
    "duration": 325,
    "start_time": "2023-01-27T15:25:46.177Z"
   },
   {
    "duration": 298,
    "start_time": "2023-01-27T15:25:46.504Z"
   },
   {
    "duration": 253,
    "start_time": "2023-01-27T15:25:46.806Z"
   },
   {
    "duration": 276,
    "start_time": "2023-01-27T15:25:47.061Z"
   },
   {
    "duration": 420,
    "start_time": "2023-01-27T15:25:47.339Z"
   },
   {
    "duration": 254,
    "start_time": "2023-01-27T15:25:47.761Z"
   },
   {
    "duration": 276,
    "start_time": "2023-01-27T15:25:48.017Z"
   },
   {
    "duration": 260,
    "start_time": "2023-01-27T15:25:48.297Z"
   },
   {
    "duration": 258,
    "start_time": "2023-01-27T15:25:48.559Z"
   },
   {
    "duration": 260,
    "start_time": "2023-01-27T15:25:48.818Z"
   },
   {
    "duration": 271,
    "start_time": "2023-01-27T15:25:49.080Z"
   },
   {
    "duration": 419,
    "start_time": "2023-01-27T15:25:49.353Z"
   },
   {
    "duration": 250,
    "start_time": "2023-01-27T15:25:49.774Z"
   },
   {
    "duration": 277,
    "start_time": "2023-01-27T15:25:50.026Z"
   },
   {
    "duration": 267,
    "start_time": "2023-01-27T15:25:50.305Z"
   },
   {
    "duration": 288,
    "start_time": "2023-01-27T15:25:50.574Z"
   },
   {
    "duration": 263,
    "start_time": "2023-01-27T15:25:50.864Z"
   },
   {
    "duration": 271,
    "start_time": "2023-01-27T15:25:51.129Z"
   },
   {
    "duration": 271,
    "start_time": "2023-01-27T15:25:51.402Z"
   },
   {
    "duration": 19,
    "start_time": "2023-01-27T15:25:51.675Z"
   },
   {
    "duration": 199,
    "start_time": "2023-01-27T15:25:51.695Z"
   },
   {
    "duration": 202,
    "start_time": "2023-01-27T15:25:51.896Z"
   },
   {
    "duration": 395,
    "start_time": "2023-01-27T15:25:52.100Z"
   },
   {
    "duration": 205,
    "start_time": "2023-01-27T15:25:52.497Z"
   },
   {
    "duration": 200,
    "start_time": "2023-01-27T15:25:52.704Z"
   },
   {
    "duration": 196,
    "start_time": "2023-01-27T15:25:52.905Z"
   },
   {
    "duration": 43,
    "start_time": "2023-01-27T15:25:53.103Z"
   },
   {
    "duration": 52,
    "start_time": "2023-01-27T15:25:53.147Z"
   },
   {
    "duration": 2648,
    "start_time": "2023-01-27T17:09:31.080Z"
   },
   {
    "duration": 25,
    "start_time": "2023-01-27T17:09:33.730Z"
   },
   {
    "duration": 104,
    "start_time": "2023-01-27T17:09:33.757Z"
   },
   {
    "duration": 75,
    "start_time": "2023-01-27T17:09:33.862Z"
   },
   {
    "duration": 375,
    "start_time": "2023-01-27T17:09:33.939Z"
   },
   {
    "duration": 499,
    "start_time": "2023-01-27T17:09:34.315Z"
   },
   {
    "duration": 674,
    "start_time": "2023-01-27T17:09:34.816Z"
   },
   {
    "duration": 418,
    "start_time": "2023-01-27T17:09:35.492Z"
   },
   {
    "duration": 385,
    "start_time": "2023-01-27T17:09:35.912Z"
   },
   {
    "duration": 211,
    "start_time": "2023-01-27T17:09:36.300Z"
   },
   {
    "duration": 577,
    "start_time": "2023-01-27T17:09:36.513Z"
   },
   {
    "duration": 408,
    "start_time": "2023-01-27T17:09:37.093Z"
   },
   {
    "duration": 294,
    "start_time": "2023-01-27T17:09:37.502Z"
   },
   {
    "duration": 417,
    "start_time": "2023-01-27T17:09:37.800Z"
   },
   {
    "duration": 611,
    "start_time": "2023-01-27T17:09:38.218Z"
   },
   {
    "duration": 503,
    "start_time": "2023-01-27T17:09:38.882Z"
   },
   {
    "duration": 334,
    "start_time": "2023-01-27T17:09:39.387Z"
   },
   {
    "duration": 288,
    "start_time": "2023-01-27T17:09:39.723Z"
   },
   {
    "duration": 293,
    "start_time": "2023-01-27T17:09:40.013Z"
   },
   {
    "duration": 794,
    "start_time": "2023-01-27T17:09:40.308Z"
   },
   {
    "duration": 1419,
    "start_time": "2023-01-27T17:09:41.105Z"
   },
   {
    "duration": 1316,
    "start_time": "2023-01-27T17:09:42.582Z"
   },
   {
    "duration": 595,
    "start_time": "2023-01-27T17:09:43.900Z"
   },
   {
    "duration": 587,
    "start_time": "2023-01-27T17:09:44.497Z"
   },
   {
    "duration": 801,
    "start_time": "2023-01-27T17:09:45.087Z"
   },
   {
    "duration": 635,
    "start_time": "2023-01-27T17:09:45.890Z"
   },
   {
    "duration": 527,
    "start_time": "2023-01-27T17:09:46.582Z"
   },
   {
    "duration": 573,
    "start_time": "2023-01-27T17:09:47.110Z"
   },
   {
    "duration": 509,
    "start_time": "2023-01-27T17:09:47.685Z"
   },
   {
    "duration": 813,
    "start_time": "2023-01-27T17:09:48.196Z"
   },
   {
    "duration": 501,
    "start_time": "2023-01-27T17:09:49.010Z"
   },
   {
    "duration": 599,
    "start_time": "2023-01-27T17:09:49.512Z"
   },
   {
    "duration": 515,
    "start_time": "2023-01-27T17:09:50.113Z"
   },
   {
    "duration": 529,
    "start_time": "2023-01-27T17:09:50.682Z"
   },
   {
    "duration": 577,
    "start_time": "2023-01-27T17:09:51.213Z"
   },
   {
    "duration": 521,
    "start_time": "2023-01-27T17:09:51.793Z"
   },
   {
    "duration": 900,
    "start_time": "2023-01-27T17:09:52.315Z"
   },
   {
    "duration": 574,
    "start_time": "2023-01-27T17:09:53.217Z"
   },
   {
    "duration": 320,
    "start_time": "2023-01-27T17:09:53.792Z"
   },
   {
    "duration": 242,
    "start_time": "2023-01-27T17:09:54.113Z"
   },
   {
    "duration": 238,
    "start_time": "2023-01-27T17:09:54.359Z"
   },
   {
    "duration": 238,
    "start_time": "2023-01-27T17:09:54.598Z"
   },
   {
    "duration": 252,
    "start_time": "2023-01-27T17:09:54.838Z"
   },
   {
    "duration": 263,
    "start_time": "2023-01-27T17:09:55.091Z"
   },
   {
    "duration": 4,
    "start_time": "2023-01-27T17:09:55.356Z"
   },
   {
    "duration": 196,
    "start_time": "2023-01-27T17:09:55.361Z"
   },
   {
    "duration": 207,
    "start_time": "2023-01-27T17:09:55.559Z"
   },
   {
    "duration": 399,
    "start_time": "2023-01-27T17:09:55.768Z"
   },
   {
    "duration": 254,
    "start_time": "2023-01-27T17:09:56.169Z"
   },
   {
    "duration": 230,
    "start_time": "2023-01-27T17:09:56.425Z"
   },
   {
    "duration": 194,
    "start_time": "2023-01-27T17:09:56.656Z"
   },
   {
    "duration": 49,
    "start_time": "2023-01-27T17:09:56.852Z"
   },
   {
    "duration": 27,
    "start_time": "2023-01-27T17:09:56.903Z"
   },
   {
    "duration": 6,
    "start_time": "2023-01-27T17:17:05.286Z"
   },
   {
    "duration": 8,
    "start_time": "2023-01-27T17:19:26.330Z"
   },
   {
    "duration": 10,
    "start_time": "2023-01-27T17:19:41.726Z"
   },
   {
    "duration": 5,
    "start_time": "2023-01-27T17:19:49.298Z"
   },
   {
    "duration": 6,
    "start_time": "2023-01-27T17:22:18.926Z"
   },
   {
    "duration": 225,
    "start_time": "2023-01-27T17:45:28.390Z"
   },
   {
    "duration": 159,
    "start_time": "2023-01-27T17:45:33.060Z"
   },
   {
    "duration": 184,
    "start_time": "2023-01-27T17:45:36.871Z"
   },
   {
    "duration": 13,
    "start_time": "2023-01-27T18:30:17.195Z"
   },
   {
    "duration": 602,
    "start_time": "2023-01-27T18:30:31.143Z"
   },
   {
    "duration": 12,
    "start_time": "2023-01-27T18:31:03.409Z"
   },
   {
    "duration": 11488,
    "start_time": "2023-01-27T18:31:06.787Z"
   },
   {
    "duration": 3658,
    "start_time": "2023-01-30T18:30:37.104Z"
   },
   {
    "duration": 26,
    "start_time": "2023-01-30T18:30:40.764Z"
   },
   {
    "duration": 130,
    "start_time": "2023-01-30T18:30:40.792Z"
   },
   {
    "duration": 80,
    "start_time": "2023-01-30T18:30:40.925Z"
   },
   {
    "duration": 412,
    "start_time": "2023-01-30T18:30:41.007Z"
   },
   {
    "duration": 292,
    "start_time": "2023-01-30T18:30:41.421Z"
   },
   {
    "duration": 383,
    "start_time": "2023-01-30T18:30:41.714Z"
   },
   {
    "duration": 260,
    "start_time": "2023-01-30T18:30:42.101Z"
   },
   {
    "duration": 300,
    "start_time": "2023-01-30T18:30:42.363Z"
   },
   {
    "duration": 171,
    "start_time": "2023-01-30T18:30:42.666Z"
   },
   {
    "duration": 307,
    "start_time": "2023-01-30T18:30:42.839Z"
   },
   {
    "duration": 256,
    "start_time": "2023-01-30T18:30:43.148Z"
   },
   {
    "duration": 177,
    "start_time": "2023-01-30T18:30:43.407Z"
   },
   {
    "duration": 344,
    "start_time": "2023-01-30T18:30:43.587Z"
   },
   {
    "duration": 287,
    "start_time": "2023-01-30T18:30:43.933Z"
   },
   {
    "duration": 312,
    "start_time": "2023-01-30T18:30:44.222Z"
   },
   {
    "duration": 218,
    "start_time": "2023-01-30T18:30:44.535Z"
   },
   {
    "duration": 167,
    "start_time": "2023-01-30T18:30:44.755Z"
   },
   {
    "duration": 187,
    "start_time": "2023-01-30T18:30:44.925Z"
   },
   {
    "duration": 548,
    "start_time": "2023-01-30T18:30:45.115Z"
   },
   {
    "duration": 883,
    "start_time": "2023-01-30T18:30:45.665Z"
   },
   {
    "duration": 1046,
    "start_time": "2023-01-30T18:30:46.553Z"
   },
   {
    "duration": 341,
    "start_time": "2023-01-30T18:30:47.601Z"
   },
   {
    "duration": 616,
    "start_time": "2023-01-30T18:30:47.944Z"
   },
   {
    "duration": 364,
    "start_time": "2023-01-30T18:30:48.563Z"
   },
   {
    "duration": 325,
    "start_time": "2023-01-30T18:30:48.929Z"
   },
   {
    "duration": 316,
    "start_time": "2023-01-30T18:30:49.256Z"
   },
   {
    "duration": 363,
    "start_time": "2023-01-30T18:30:49.576Z"
   },
   {
    "duration": 474,
    "start_time": "2023-01-30T18:30:49.941Z"
   },
   {
    "duration": 440,
    "start_time": "2023-01-30T18:30:50.418Z"
   },
   {
    "duration": 295,
    "start_time": "2023-01-30T18:30:50.861Z"
   },
   {
    "duration": 318,
    "start_time": "2023-01-30T18:30:51.158Z"
   },
   {
    "duration": 367,
    "start_time": "2023-01-30T18:30:51.478Z"
   },
   {
    "duration": 356,
    "start_time": "2023-01-30T18:30:51.847Z"
   },
   {
    "duration": 312,
    "start_time": "2023-01-30T18:30:52.205Z"
   },
   {
    "duration": 288,
    "start_time": "2023-01-30T18:30:52.519Z"
   },
   {
    "duration": 433,
    "start_time": "2023-01-30T18:30:52.809Z"
   },
   {
    "duration": 357,
    "start_time": "2023-01-30T18:30:53.244Z"
   },
   {
    "duration": 358,
    "start_time": "2023-01-30T18:30:53.604Z"
   },
   {
    "duration": 281,
    "start_time": "2023-01-30T18:30:53.964Z"
   },
   {
    "duration": 292,
    "start_time": "2023-01-30T18:30:54.247Z"
   },
   {
    "duration": 279,
    "start_time": "2023-01-30T18:30:54.541Z"
   },
   {
    "duration": 281,
    "start_time": "2023-01-30T18:30:54.822Z"
   },
   {
    "duration": 318,
    "start_time": "2023-01-30T18:30:55.105Z"
   },
   {
    "duration": 5,
    "start_time": "2023-01-30T18:30:55.425Z"
   },
   {
    "duration": 230,
    "start_time": "2023-01-30T18:30:55.432Z"
   },
   {
    "duration": 218,
    "start_time": "2023-01-30T18:30:55.664Z"
   },
   {
    "duration": 399,
    "start_time": "2023-01-30T18:30:55.884Z"
   },
   {
    "duration": 227,
    "start_time": "2023-01-30T18:30:56.285Z"
   },
   {
    "duration": 292,
    "start_time": "2023-01-30T18:30:56.514Z"
   },
   {
    "duration": 250,
    "start_time": "2023-01-30T18:30:56.808Z"
   },
   {
    "duration": 62,
    "start_time": "2023-01-30T18:30:57.060Z"
   },
   {
    "duration": 59,
    "start_time": "2023-01-30T18:30:57.125Z"
   },
   {
    "duration": 3,
    "start_time": "2023-01-30T19:07:33.454Z"
   },
   {
    "duration": 463,
    "start_time": "2023-01-30T19:07:43.311Z"
   },
   {
    "duration": 2830,
    "start_time": "2023-01-30T19:07:43.776Z"
   },
   {
    "duration": 29,
    "start_time": "2023-01-30T19:07:46.608Z"
   },
   {
    "duration": 118,
    "start_time": "2023-01-30T19:07:46.640Z"
   },
   {
    "duration": 90,
    "start_time": "2023-01-30T19:07:46.760Z"
   },
   {
    "duration": 428,
    "start_time": "2023-01-30T19:07:46.852Z"
   },
   {
    "duration": 289,
    "start_time": "2023-01-30T19:07:47.285Z"
   },
   {
    "duration": 397,
    "start_time": "2023-01-30T19:07:47.576Z"
   },
   {
    "duration": 231,
    "start_time": "2023-01-30T19:07:47.975Z"
   },
   {
    "duration": 312,
    "start_time": "2023-01-30T19:07:48.210Z"
   },
   {
    "duration": 179,
    "start_time": "2023-01-30T19:07:48.524Z"
   },
   {
    "duration": 308,
    "start_time": "2023-01-30T19:07:48.704Z"
   },
   {
    "duration": 233,
    "start_time": "2023-01-30T19:07:49.014Z"
   },
   {
    "duration": 153,
    "start_time": "2023-01-30T19:07:49.249Z"
   },
   {
    "duration": 213,
    "start_time": "2023-01-30T19:07:49.404Z"
   },
   {
    "duration": 418,
    "start_time": "2023-01-30T19:07:49.619Z"
   },
   {
    "duration": 302,
    "start_time": "2023-01-30T19:07:50.040Z"
   },
   {
    "duration": 208,
    "start_time": "2023-01-30T19:07:50.344Z"
   },
   {
    "duration": 164,
    "start_time": "2023-01-30T19:07:50.554Z"
   },
   {
    "duration": 142,
    "start_time": "2023-01-30T19:07:50.720Z"
   },
   {
    "duration": 426,
    "start_time": "2023-01-30T19:07:50.864Z"
   },
   {
    "duration": 763,
    "start_time": "2023-01-30T19:07:51.293Z"
   },
   {
    "duration": 675,
    "start_time": "2023-01-30T19:07:52.057Z"
   },
   {
    "duration": 300,
    "start_time": "2023-01-30T19:07:52.734Z"
   },
   {
    "duration": 287,
    "start_time": "2023-01-30T19:07:53.035Z"
   },
   {
    "duration": 414,
    "start_time": "2023-01-30T19:07:53.324Z"
   },
   {
    "duration": 295,
    "start_time": "2023-01-30T19:07:53.739Z"
   },
   {
    "duration": 293,
    "start_time": "2023-01-30T19:07:54.038Z"
   },
   {
    "duration": 299,
    "start_time": "2023-01-30T19:07:54.332Z"
   },
   {
    "duration": 295,
    "start_time": "2023-01-30T19:07:54.633Z"
   },
   {
    "duration": 459,
    "start_time": "2023-01-30T19:07:54.930Z"
   },
   {
    "duration": 312,
    "start_time": "2023-01-30T19:07:55.391Z"
   },
   {
    "duration": 301,
    "start_time": "2023-01-30T19:07:55.706Z"
   },
   {
    "duration": 351,
    "start_time": "2023-01-30T19:07:56.011Z"
   },
   {
    "duration": 324,
    "start_time": "2023-01-30T19:07:56.365Z"
   },
   {
    "duration": 287,
    "start_time": "2023-01-30T19:07:56.691Z"
   },
   {
    "duration": 296,
    "start_time": "2023-01-30T19:07:56.983Z"
   },
   {
    "duration": 489,
    "start_time": "2023-01-30T19:07:57.281Z"
   },
   {
    "duration": 282,
    "start_time": "2023-01-30T19:07:57.772Z"
   },
   {
    "duration": 295,
    "start_time": "2023-01-30T19:07:58.056Z"
   },
   {
    "duration": 277,
    "start_time": "2023-01-30T19:07:58.352Z"
   },
   {
    "duration": 325,
    "start_time": "2023-01-30T19:07:58.631Z"
   },
   {
    "duration": 282,
    "start_time": "2023-01-30T19:07:58.959Z"
   },
   {
    "duration": 291,
    "start_time": "2023-01-30T19:07:59.243Z"
   },
   {
    "duration": 381,
    "start_time": "2023-01-30T19:07:59.536Z"
   },
   {
    "duration": 5,
    "start_time": "2023-01-30T19:07:59.919Z"
   },
   {
    "duration": 237,
    "start_time": "2023-01-30T19:07:59.926Z"
   },
   {
    "duration": 225,
    "start_time": "2023-01-30T19:08:00.165Z"
   },
   {
    "duration": 438,
    "start_time": "2023-01-30T19:08:00.393Z"
   },
   {
    "duration": 234,
    "start_time": "2023-01-30T19:08:00.833Z"
   },
   {
    "duration": 246,
    "start_time": "2023-01-30T19:08:01.069Z"
   },
   {
    "duration": 234,
    "start_time": "2023-01-30T19:08:01.317Z"
   },
   {
    "duration": 78,
    "start_time": "2023-01-30T19:08:01.552Z"
   },
   {
    "duration": 36,
    "start_time": "2023-01-30T19:08:01.632Z"
   },
   {
    "duration": 80,
    "start_time": "2023-01-30T19:16:41.848Z"
   },
   {
    "duration": 70,
    "start_time": "2023-01-30T19:16:48.707Z"
   },
   {
    "duration": 2375,
    "start_time": "2023-01-30T19:17:11.295Z"
   },
   {
    "duration": 20,
    "start_time": "2023-01-30T19:43:55.998Z"
   },
   {
    "duration": 21,
    "start_time": "2023-01-30T19:49:04.004Z"
   },
   {
    "duration": 83,
    "start_time": "2023-01-30T19:49:22.564Z"
   },
   {
    "duration": 32,
    "start_time": "2023-01-30T19:50:45.122Z"
   },
   {
    "duration": 277,
    "start_time": "2023-01-30T19:51:01.651Z"
   },
   {
    "duration": 3,
    "start_time": "2023-01-30T20:16:04.059Z"
   },
   {
    "duration": 7,
    "start_time": "2023-01-30T20:16:08.329Z"
   },
   {
    "duration": 87,
    "start_time": "2023-01-30T20:17:02.571Z"
   },
   {
    "duration": 9,
    "start_time": "2023-01-30T20:17:16.639Z"
   },
   {
    "duration": 13,
    "start_time": "2023-01-30T20:17:34.907Z"
   },
   {
    "duration": 9,
    "start_time": "2023-01-30T20:19:32.055Z"
   },
   {
    "duration": 426,
    "start_time": "2023-01-30T20:19:48.045Z"
   },
   {
    "duration": 3021,
    "start_time": "2023-01-30T20:19:48.473Z"
   },
   {
    "duration": 136,
    "start_time": "2023-01-30T20:19:51.500Z"
   },
   {
    "duration": 0,
    "start_time": "2023-01-30T20:19:51.641Z"
   },
   {
    "duration": 0,
    "start_time": "2023-01-30T20:19:51.643Z"
   },
   {
    "duration": 0,
    "start_time": "2023-01-30T20:19:51.645Z"
   },
   {
    "duration": 0,
    "start_time": "2023-01-30T20:19:51.646Z"
   },
   {
    "duration": 0,
    "start_time": "2023-01-30T20:19:51.647Z"
   },
   {
    "duration": 0,
    "start_time": "2023-01-30T20:19:51.649Z"
   },
   {
    "duration": 0,
    "start_time": "2023-01-30T20:19:51.651Z"
   },
   {
    "duration": 0,
    "start_time": "2023-01-30T20:19:51.652Z"
   },
   {
    "duration": 0,
    "start_time": "2023-01-30T20:19:51.654Z"
   },
   {
    "duration": 0,
    "start_time": "2023-01-30T20:19:51.656Z"
   },
   {
    "duration": 0,
    "start_time": "2023-01-30T20:19:51.658Z"
   },
   {
    "duration": 0,
    "start_time": "2023-01-30T20:19:51.684Z"
   },
   {
    "duration": 0,
    "start_time": "2023-01-30T20:19:51.685Z"
   },
   {
    "duration": 0,
    "start_time": "2023-01-30T20:19:51.686Z"
   },
   {
    "duration": 0,
    "start_time": "2023-01-30T20:19:51.687Z"
   },
   {
    "duration": 0,
    "start_time": "2023-01-30T20:19:51.690Z"
   },
   {
    "duration": 0,
    "start_time": "2023-01-30T20:19:51.691Z"
   },
   {
    "duration": 0,
    "start_time": "2023-01-30T20:19:51.692Z"
   },
   {
    "duration": 0,
    "start_time": "2023-01-30T20:19:51.693Z"
   },
   {
    "duration": 0,
    "start_time": "2023-01-30T20:19:51.694Z"
   },
   {
    "duration": 0,
    "start_time": "2023-01-30T20:19:51.695Z"
   },
   {
    "duration": 0,
    "start_time": "2023-01-30T20:19:51.696Z"
   },
   {
    "duration": 0,
    "start_time": "2023-01-30T20:19:51.697Z"
   },
   {
    "duration": 0,
    "start_time": "2023-01-30T20:19:51.697Z"
   },
   {
    "duration": 0,
    "start_time": "2023-01-30T20:19:51.698Z"
   },
   {
    "duration": 0,
    "start_time": "2023-01-30T20:19:51.699Z"
   },
   {
    "duration": 0,
    "start_time": "2023-01-30T20:19:51.700Z"
   },
   {
    "duration": 0,
    "start_time": "2023-01-30T20:19:51.701Z"
   },
   {
    "duration": 0,
    "start_time": "2023-01-30T20:19:51.702Z"
   },
   {
    "duration": 0,
    "start_time": "2023-01-30T20:19:51.703Z"
   },
   {
    "duration": 0,
    "start_time": "2023-01-30T20:19:51.703Z"
   },
   {
    "duration": 0,
    "start_time": "2023-01-30T20:19:51.704Z"
   },
   {
    "duration": 0,
    "start_time": "2023-01-30T20:19:51.705Z"
   },
   {
    "duration": 0,
    "start_time": "2023-01-30T20:19:51.707Z"
   },
   {
    "duration": 0,
    "start_time": "2023-01-30T20:19:51.708Z"
   },
   {
    "duration": 0,
    "start_time": "2023-01-30T20:19:51.709Z"
   },
   {
    "duration": 0,
    "start_time": "2023-01-30T20:19:51.710Z"
   },
   {
    "duration": 0,
    "start_time": "2023-01-30T20:19:51.711Z"
   },
   {
    "duration": 0,
    "start_time": "2023-01-30T20:19:51.712Z"
   },
   {
    "duration": 0,
    "start_time": "2023-01-30T20:19:51.713Z"
   },
   {
    "duration": 0,
    "start_time": "2023-01-30T20:19:51.714Z"
   },
   {
    "duration": 0,
    "start_time": "2023-01-30T20:19:51.714Z"
   },
   {
    "duration": 0,
    "start_time": "2023-01-30T20:19:51.715Z"
   },
   {
    "duration": 0,
    "start_time": "2023-01-30T20:19:51.717Z"
   },
   {
    "duration": 0,
    "start_time": "2023-01-30T20:19:51.718Z"
   },
   {
    "duration": 1,
    "start_time": "2023-01-30T20:19:51.719Z"
   },
   {
    "duration": 0,
    "start_time": "2023-01-30T20:19:51.721Z"
   },
   {
    "duration": 0,
    "start_time": "2023-01-30T20:19:51.722Z"
   },
   {
    "duration": 0,
    "start_time": "2023-01-30T20:19:51.723Z"
   },
   {
    "duration": 0,
    "start_time": "2023-01-30T20:19:51.725Z"
   },
   {
    "duration": 0,
    "start_time": "2023-01-30T20:19:51.726Z"
   },
   {
    "duration": 0,
    "start_time": "2023-01-30T20:19:51.728Z"
   },
   {
    "duration": 87,
    "start_time": "2023-01-30T20:20:23.435Z"
   },
   {
    "duration": 476,
    "start_time": "2023-01-30T20:20:29.953Z"
   },
   {
    "duration": 2966,
    "start_time": "2023-01-30T20:20:30.432Z"
   },
   {
    "duration": 113,
    "start_time": "2023-01-30T20:20:33.407Z"
   },
   {
    "duration": 99,
    "start_time": "2023-01-30T20:20:33.521Z"
   },
   {
    "duration": 0,
    "start_time": "2023-01-30T20:20:33.630Z"
   },
   {
    "duration": 0,
    "start_time": "2023-01-30T20:20:33.631Z"
   },
   {
    "duration": 0,
    "start_time": "2023-01-30T20:20:33.633Z"
   },
   {
    "duration": 0,
    "start_time": "2023-01-30T20:20:33.634Z"
   },
   {
    "duration": 0,
    "start_time": "2023-01-30T20:20:33.635Z"
   },
   {
    "duration": 0,
    "start_time": "2023-01-30T20:20:33.636Z"
   },
   {
    "duration": 0,
    "start_time": "2023-01-30T20:20:33.638Z"
   },
   {
    "duration": 0,
    "start_time": "2023-01-30T20:20:33.639Z"
   },
   {
    "duration": 0,
    "start_time": "2023-01-30T20:20:33.641Z"
   },
   {
    "duration": 0,
    "start_time": "2023-01-30T20:20:33.642Z"
   },
   {
    "duration": 0,
    "start_time": "2023-01-30T20:20:33.644Z"
   },
   {
    "duration": 0,
    "start_time": "2023-01-30T20:20:33.645Z"
   },
   {
    "duration": 0,
    "start_time": "2023-01-30T20:20:33.647Z"
   },
   {
    "duration": 0,
    "start_time": "2023-01-30T20:20:33.648Z"
   },
   {
    "duration": 0,
    "start_time": "2023-01-30T20:20:33.650Z"
   },
   {
    "duration": 0,
    "start_time": "2023-01-30T20:20:33.651Z"
   },
   {
    "duration": 0,
    "start_time": "2023-01-30T20:20:33.653Z"
   },
   {
    "duration": 0,
    "start_time": "2023-01-30T20:20:33.654Z"
   },
   {
    "duration": 0,
    "start_time": "2023-01-30T20:20:33.656Z"
   },
   {
    "duration": 0,
    "start_time": "2023-01-30T20:20:33.658Z"
   },
   {
    "duration": 0,
    "start_time": "2023-01-30T20:20:33.659Z"
   },
   {
    "duration": 0,
    "start_time": "2023-01-30T20:20:33.688Z"
   },
   {
    "duration": 0,
    "start_time": "2023-01-30T20:20:33.689Z"
   },
   {
    "duration": 0,
    "start_time": "2023-01-30T20:20:33.689Z"
   },
   {
    "duration": 0,
    "start_time": "2023-01-30T20:20:33.690Z"
   },
   {
    "duration": 0,
    "start_time": "2023-01-30T20:20:33.691Z"
   },
   {
    "duration": 0,
    "start_time": "2023-01-30T20:20:33.698Z"
   },
   {
    "duration": 0,
    "start_time": "2023-01-30T20:20:33.700Z"
   },
   {
    "duration": 0,
    "start_time": "2023-01-30T20:20:33.704Z"
   },
   {
    "duration": 0,
    "start_time": "2023-01-30T20:20:33.708Z"
   },
   {
    "duration": 0,
    "start_time": "2023-01-30T20:20:33.711Z"
   },
   {
    "duration": 0,
    "start_time": "2023-01-30T20:20:33.715Z"
   },
   {
    "duration": 0,
    "start_time": "2023-01-30T20:20:33.716Z"
   },
   {
    "duration": 0,
    "start_time": "2023-01-30T20:20:33.717Z"
   },
   {
    "duration": 0,
    "start_time": "2023-01-30T20:20:33.718Z"
   },
   {
    "duration": 0,
    "start_time": "2023-01-30T20:20:33.719Z"
   },
   {
    "duration": 0,
    "start_time": "2023-01-30T20:20:33.721Z"
   },
   {
    "duration": 0,
    "start_time": "2023-01-30T20:20:33.722Z"
   },
   {
    "duration": 0,
    "start_time": "2023-01-30T20:20:33.723Z"
   },
   {
    "duration": 0,
    "start_time": "2023-01-30T20:20:33.724Z"
   },
   {
    "duration": 0,
    "start_time": "2023-01-30T20:20:33.725Z"
   },
   {
    "duration": 0,
    "start_time": "2023-01-30T20:20:33.726Z"
   },
   {
    "duration": 0,
    "start_time": "2023-01-30T20:20:33.728Z"
   },
   {
    "duration": 0,
    "start_time": "2023-01-30T20:20:33.729Z"
   },
   {
    "duration": 0,
    "start_time": "2023-01-30T20:20:33.730Z"
   },
   {
    "duration": 0,
    "start_time": "2023-01-30T20:20:33.731Z"
   },
   {
    "duration": 0,
    "start_time": "2023-01-30T20:20:33.732Z"
   },
   {
    "duration": 0,
    "start_time": "2023-01-30T20:20:33.733Z"
   },
   {
    "duration": 0,
    "start_time": "2023-01-30T20:20:33.734Z"
   },
   {
    "duration": 0,
    "start_time": "2023-01-30T20:20:33.735Z"
   },
   {
    "duration": 0,
    "start_time": "2023-01-30T20:20:33.736Z"
   },
   {
    "duration": 9,
    "start_time": "2023-01-30T20:20:49.238Z"
   },
   {
    "duration": 9,
    "start_time": "2023-01-30T20:21:36.211Z"
   },
   {
    "duration": 8,
    "start_time": "2023-01-30T20:21:40.714Z"
   },
   {
    "duration": 22,
    "start_time": "2023-01-30T20:21:46.288Z"
   },
   {
    "duration": 6,
    "start_time": "2023-01-30T20:22:52.916Z"
   },
   {
    "duration": 6,
    "start_time": "2023-01-30T20:23:13.425Z"
   },
   {
    "duration": 8,
    "start_time": "2023-01-30T20:24:31.066Z"
   },
   {
    "duration": 8,
    "start_time": "2023-01-30T20:24:52.134Z"
   },
   {
    "duration": 471,
    "start_time": "2023-01-30T20:26:28.283Z"
   },
   {
    "duration": 3051,
    "start_time": "2023-01-30T20:26:28.756Z"
   },
   {
    "duration": 95,
    "start_time": "2023-01-30T20:26:31.814Z"
   },
   {
    "duration": 133,
    "start_time": "2023-01-30T20:26:31.912Z"
   },
   {
    "duration": 102,
    "start_time": "2023-01-30T20:26:32.047Z"
   },
   {
    "duration": 607,
    "start_time": "2023-01-30T20:26:32.151Z"
   },
   {
    "duration": 0,
    "start_time": "2023-01-30T20:26:32.762Z"
   },
   {
    "duration": 0,
    "start_time": "2023-01-30T20:26:32.763Z"
   },
   {
    "duration": 0,
    "start_time": "2023-01-30T20:26:32.764Z"
   },
   {
    "duration": 0,
    "start_time": "2023-01-30T20:26:32.766Z"
   },
   {
    "duration": 1,
    "start_time": "2023-01-30T20:26:32.788Z"
   },
   {
    "duration": 0,
    "start_time": "2023-01-30T20:26:32.792Z"
   },
   {
    "duration": 0,
    "start_time": "2023-01-30T20:26:32.793Z"
   },
   {
    "duration": 0,
    "start_time": "2023-01-30T20:26:32.794Z"
   },
   {
    "duration": 0,
    "start_time": "2023-01-30T20:26:32.794Z"
   },
   {
    "duration": 0,
    "start_time": "2023-01-30T20:26:32.796Z"
   },
   {
    "duration": 0,
    "start_time": "2023-01-30T20:26:32.797Z"
   },
   {
    "duration": 0,
    "start_time": "2023-01-30T20:26:32.798Z"
   },
   {
    "duration": 0,
    "start_time": "2023-01-30T20:26:32.799Z"
   },
   {
    "duration": 0,
    "start_time": "2023-01-30T20:26:32.800Z"
   },
   {
    "duration": 0,
    "start_time": "2023-01-30T20:26:32.801Z"
   },
   {
    "duration": 0,
    "start_time": "2023-01-30T20:26:32.802Z"
   },
   {
    "duration": 0,
    "start_time": "2023-01-30T20:26:32.803Z"
   },
   {
    "duration": 2,
    "start_time": "2023-01-30T20:26:32.804Z"
   },
   {
    "duration": 0,
    "start_time": "2023-01-30T20:26:32.807Z"
   },
   {
    "duration": 0,
    "start_time": "2023-01-30T20:26:32.808Z"
   },
   {
    "duration": 1,
    "start_time": "2023-01-30T20:26:32.809Z"
   },
   {
    "duration": 0,
    "start_time": "2023-01-30T20:26:32.811Z"
   },
   {
    "duration": 0,
    "start_time": "2023-01-30T20:26:32.812Z"
   },
   {
    "duration": 0,
    "start_time": "2023-01-30T20:26:32.813Z"
   },
   {
    "duration": 0,
    "start_time": "2023-01-30T20:26:32.814Z"
   },
   {
    "duration": 0,
    "start_time": "2023-01-30T20:26:32.815Z"
   },
   {
    "duration": 0,
    "start_time": "2023-01-30T20:26:32.816Z"
   },
   {
    "duration": 0,
    "start_time": "2023-01-30T20:26:32.817Z"
   },
   {
    "duration": 0,
    "start_time": "2023-01-30T20:26:32.818Z"
   },
   {
    "duration": 0,
    "start_time": "2023-01-30T20:26:32.819Z"
   },
   {
    "duration": 0,
    "start_time": "2023-01-30T20:26:32.820Z"
   },
   {
    "duration": 0,
    "start_time": "2023-01-30T20:26:32.821Z"
   },
   {
    "duration": 0,
    "start_time": "2023-01-30T20:26:32.822Z"
   },
   {
    "duration": 0,
    "start_time": "2023-01-30T20:26:32.823Z"
   },
   {
    "duration": 0,
    "start_time": "2023-01-30T20:26:32.825Z"
   },
   {
    "duration": 0,
    "start_time": "2023-01-30T20:26:32.826Z"
   },
   {
    "duration": 0,
    "start_time": "2023-01-30T20:26:32.827Z"
   },
   {
    "duration": 0,
    "start_time": "2023-01-30T20:26:32.828Z"
   },
   {
    "duration": 0,
    "start_time": "2023-01-30T20:26:32.829Z"
   },
   {
    "duration": 0,
    "start_time": "2023-01-30T20:26:32.830Z"
   },
   {
    "duration": 0,
    "start_time": "2023-01-30T20:26:32.831Z"
   },
   {
    "duration": 0,
    "start_time": "2023-01-30T20:26:32.832Z"
   },
   {
    "duration": 0,
    "start_time": "2023-01-30T20:26:32.832Z"
   },
   {
    "duration": 0,
    "start_time": "2023-01-30T20:26:32.834Z"
   },
   {
    "duration": 0,
    "start_time": "2023-01-30T20:26:32.835Z"
   },
   {
    "duration": 0,
    "start_time": "2023-01-30T20:26:32.837Z"
   },
   {
    "duration": 0,
    "start_time": "2023-01-30T20:26:32.838Z"
   },
   {
    "duration": 0,
    "start_time": "2023-01-30T20:26:32.893Z"
   },
   {
    "duration": 420,
    "start_time": "2023-01-30T20:29:32.922Z"
   },
   {
    "duration": 2666,
    "start_time": "2023-01-30T20:29:33.344Z"
   },
   {
    "duration": 96,
    "start_time": "2023-01-30T20:29:36.012Z"
   },
   {
    "duration": 130,
    "start_time": "2023-01-30T20:29:36.110Z"
   },
   {
    "duration": 95,
    "start_time": "2023-01-30T20:29:36.242Z"
   },
   {
    "duration": 504,
    "start_time": "2023-01-30T20:29:36.339Z"
   },
   {
    "duration": 0,
    "start_time": "2023-01-30T20:29:36.846Z"
   },
   {
    "duration": 0,
    "start_time": "2023-01-30T20:29:36.847Z"
   },
   {
    "duration": 0,
    "start_time": "2023-01-30T20:29:36.848Z"
   },
   {
    "duration": 0,
    "start_time": "2023-01-30T20:29:36.849Z"
   },
   {
    "duration": 0,
    "start_time": "2023-01-30T20:29:36.850Z"
   },
   {
    "duration": 0,
    "start_time": "2023-01-30T20:29:36.852Z"
   },
   {
    "duration": 0,
    "start_time": "2023-01-30T20:29:36.853Z"
   },
   {
    "duration": 0,
    "start_time": "2023-01-30T20:29:36.856Z"
   },
   {
    "duration": 0,
    "start_time": "2023-01-30T20:29:36.858Z"
   },
   {
    "duration": 0,
    "start_time": "2023-01-30T20:29:36.888Z"
   },
   {
    "duration": 0,
    "start_time": "2023-01-30T20:29:36.889Z"
   },
   {
    "duration": 0,
    "start_time": "2023-01-30T20:29:36.889Z"
   },
   {
    "duration": 0,
    "start_time": "2023-01-30T20:29:36.890Z"
   },
   {
    "duration": 0,
    "start_time": "2023-01-30T20:29:36.891Z"
   },
   {
    "duration": 0,
    "start_time": "2023-01-30T20:29:36.891Z"
   },
   {
    "duration": 0,
    "start_time": "2023-01-30T20:29:36.894Z"
   },
   {
    "duration": 0,
    "start_time": "2023-01-30T20:29:36.895Z"
   },
   {
    "duration": 0,
    "start_time": "2023-01-30T20:29:36.895Z"
   },
   {
    "duration": 0,
    "start_time": "2023-01-30T20:29:36.900Z"
   },
   {
    "duration": 0,
    "start_time": "2023-01-30T20:29:36.903Z"
   },
   {
    "duration": 0,
    "start_time": "2023-01-30T20:29:36.904Z"
   },
   {
    "duration": 0,
    "start_time": "2023-01-30T20:29:36.905Z"
   },
   {
    "duration": 0,
    "start_time": "2023-01-30T20:29:36.906Z"
   },
   {
    "duration": 0,
    "start_time": "2023-01-30T20:29:36.908Z"
   },
   {
    "duration": 0,
    "start_time": "2023-01-30T20:29:36.909Z"
   },
   {
    "duration": 0,
    "start_time": "2023-01-30T20:29:36.910Z"
   },
   {
    "duration": 0,
    "start_time": "2023-01-30T20:29:36.911Z"
   },
   {
    "duration": 0,
    "start_time": "2023-01-30T20:29:36.912Z"
   },
   {
    "duration": 0,
    "start_time": "2023-01-30T20:29:36.913Z"
   },
   {
    "duration": 0,
    "start_time": "2023-01-30T20:29:36.914Z"
   },
   {
    "duration": 0,
    "start_time": "2023-01-30T20:29:36.915Z"
   },
   {
    "duration": 0,
    "start_time": "2023-01-30T20:29:36.916Z"
   },
   {
    "duration": 0,
    "start_time": "2023-01-30T20:29:36.918Z"
   },
   {
    "duration": 0,
    "start_time": "2023-01-30T20:29:36.918Z"
   },
   {
    "duration": 0,
    "start_time": "2023-01-30T20:29:36.919Z"
   },
   {
    "duration": 0,
    "start_time": "2023-01-30T20:29:36.921Z"
   },
   {
    "duration": 0,
    "start_time": "2023-01-30T20:29:36.922Z"
   },
   {
    "duration": 0,
    "start_time": "2023-01-30T20:29:36.923Z"
   },
   {
    "duration": 0,
    "start_time": "2023-01-30T20:29:36.924Z"
   },
   {
    "duration": 0,
    "start_time": "2023-01-30T20:29:36.925Z"
   },
   {
    "duration": 0,
    "start_time": "2023-01-30T20:29:36.926Z"
   },
   {
    "duration": 0,
    "start_time": "2023-01-30T20:29:36.927Z"
   },
   {
    "duration": 0,
    "start_time": "2023-01-30T20:29:36.927Z"
   },
   {
    "duration": 0,
    "start_time": "2023-01-30T20:29:36.928Z"
   },
   {
    "duration": 0,
    "start_time": "2023-01-30T20:29:36.929Z"
   },
   {
    "duration": 0,
    "start_time": "2023-01-30T20:29:36.987Z"
   },
   {
    "duration": 0,
    "start_time": "2023-01-30T20:29:36.989Z"
   },
   {
    "duration": 0,
    "start_time": "2023-01-30T20:29:36.990Z"
   },
   {
    "duration": 306,
    "start_time": "2023-01-30T20:29:51.899Z"
   },
   {
    "duration": 369,
    "start_time": "2023-01-30T20:29:57.058Z"
   },
   {
    "duration": 233,
    "start_time": "2023-01-30T20:29:57.429Z"
   },
   {
    "duration": 335,
    "start_time": "2023-01-30T20:29:57.664Z"
   },
   {
    "duration": 155,
    "start_time": "2023-01-30T20:29:58.003Z"
   },
   {
    "duration": 295,
    "start_time": "2023-01-30T20:29:58.159Z"
   },
   {
    "duration": 239,
    "start_time": "2023-01-30T20:29:58.456Z"
   },
   {
    "duration": 142,
    "start_time": "2023-01-30T20:29:58.697Z"
   },
   {
    "duration": 308,
    "start_time": "2023-01-30T20:29:58.841Z"
   },
   {
    "duration": 227,
    "start_time": "2023-01-30T20:29:59.151Z"
   },
   {
    "duration": 0,
    "start_time": "2023-01-30T20:29:59.380Z"
   },
   {
    "duration": 0,
    "start_time": "2023-01-30T20:29:59.384Z"
   },
   {
    "duration": 0,
    "start_time": "2023-01-30T20:29:59.389Z"
   },
   {
    "duration": 0,
    "start_time": "2023-01-30T20:29:59.390Z"
   },
   {
    "duration": 0,
    "start_time": "2023-01-30T20:29:59.391Z"
   },
   {
    "duration": 0,
    "start_time": "2023-01-30T20:29:59.392Z"
   },
   {
    "duration": 0,
    "start_time": "2023-01-30T20:29:59.393Z"
   },
   {
    "duration": 0,
    "start_time": "2023-01-30T20:29:59.394Z"
   },
   {
    "duration": 1,
    "start_time": "2023-01-30T20:29:59.395Z"
   },
   {
    "duration": 0,
    "start_time": "2023-01-30T20:29:59.398Z"
   },
   {
    "duration": 0,
    "start_time": "2023-01-30T20:29:59.400Z"
   },
   {
    "duration": 0,
    "start_time": "2023-01-30T20:29:59.401Z"
   },
   {
    "duration": 0,
    "start_time": "2023-01-30T20:29:59.402Z"
   },
   {
    "duration": 0,
    "start_time": "2023-01-30T20:29:59.403Z"
   },
   {
    "duration": 0,
    "start_time": "2023-01-30T20:29:59.405Z"
   },
   {
    "duration": 0,
    "start_time": "2023-01-30T20:29:59.406Z"
   },
   {
    "duration": 0,
    "start_time": "2023-01-30T20:29:59.407Z"
   },
   {
    "duration": 0,
    "start_time": "2023-01-30T20:29:59.408Z"
   },
   {
    "duration": 0,
    "start_time": "2023-01-30T20:29:59.410Z"
   },
   {
    "duration": 0,
    "start_time": "2023-01-30T20:29:59.411Z"
   },
   {
    "duration": 0,
    "start_time": "2023-01-30T20:29:59.412Z"
   },
   {
    "duration": 0,
    "start_time": "2023-01-30T20:29:59.413Z"
   },
   {
    "duration": 0,
    "start_time": "2023-01-30T20:29:59.414Z"
   },
   {
    "duration": 0,
    "start_time": "2023-01-30T20:29:59.415Z"
   },
   {
    "duration": 0,
    "start_time": "2023-01-30T20:29:59.416Z"
   },
   {
    "duration": 0,
    "start_time": "2023-01-30T20:29:59.417Z"
   },
   {
    "duration": 0,
    "start_time": "2023-01-30T20:29:59.418Z"
   },
   {
    "duration": 0,
    "start_time": "2023-01-30T20:29:59.419Z"
   },
   {
    "duration": 0,
    "start_time": "2023-01-30T20:29:59.420Z"
   },
   {
    "duration": 0,
    "start_time": "2023-01-30T20:29:59.421Z"
   },
   {
    "duration": 0,
    "start_time": "2023-01-30T20:29:59.422Z"
   },
   {
    "duration": 0,
    "start_time": "2023-01-30T20:29:59.423Z"
   },
   {
    "duration": 0,
    "start_time": "2023-01-30T20:29:59.424Z"
   },
   {
    "duration": 0,
    "start_time": "2023-01-30T20:29:59.426Z"
   },
   {
    "duration": 0,
    "start_time": "2023-01-30T20:29:59.427Z"
   },
   {
    "duration": 0,
    "start_time": "2023-01-30T20:29:59.428Z"
   },
   {
    "duration": 0,
    "start_time": "2023-01-30T20:29:59.429Z"
   },
   {
    "duration": 29,
    "start_time": "2023-01-30T20:29:59.493Z"
   },
   {
    "duration": 272,
    "start_time": "2023-01-30T20:30:11.702Z"
   },
   {
    "duration": 305,
    "start_time": "2023-01-30T20:30:13.058Z"
   },
   {
    "duration": 271,
    "start_time": "2023-01-30T20:30:13.525Z"
   },
   {
    "duration": 2,
    "start_time": "2023-01-30T20:30:23.156Z"
   },
   {
    "duration": 2308,
    "start_time": "2023-01-30T20:30:23.540Z"
   },
   {
    "duration": 42,
    "start_time": "2023-01-30T20:30:26.637Z"
   },
   {
    "duration": 143,
    "start_time": "2023-01-30T20:30:29.618Z"
   },
   {
    "duration": 79,
    "start_time": "2023-01-30T20:30:30.825Z"
   },
   {
    "duration": 391,
    "start_time": "2023-01-30T20:30:32.577Z"
   },
   {
    "duration": 263,
    "start_time": "2023-01-30T20:30:34.270Z"
   },
   {
    "duration": 380,
    "start_time": "2023-01-30T20:30:35.713Z"
   },
   {
    "duration": 204,
    "start_time": "2023-01-30T20:30:36.661Z"
   },
   {
    "duration": 300,
    "start_time": "2023-01-30T20:30:37.587Z"
   },
   {
    "duration": 141,
    "start_time": "2023-01-30T20:30:38.419Z"
   },
   {
    "duration": 263,
    "start_time": "2023-01-30T20:30:39.129Z"
   },
   {
    "duration": 207,
    "start_time": "2023-01-30T20:30:39.874Z"
   },
   {
    "duration": 127,
    "start_time": "2023-01-30T20:30:40.921Z"
   },
   {
    "duration": 309,
    "start_time": "2023-01-30T20:30:41.652Z"
   },
   {
    "duration": 193,
    "start_time": "2023-01-30T20:30:42.738Z"
   },
   {
    "duration": 254,
    "start_time": "2023-01-30T20:31:01.941Z"
   },
   {
    "duration": 27,
    "start_time": "2023-01-30T20:33:20.898Z"
   },
   {
    "duration": 33,
    "start_time": "2023-01-30T20:33:48.493Z"
   },
   {
    "duration": 430,
    "start_time": "2023-01-30T20:33:57.299Z"
   },
   {
    "duration": 2619,
    "start_time": "2023-01-30T20:33:57.731Z"
   },
   {
    "duration": 83,
    "start_time": "2023-01-30T20:34:00.353Z"
   },
   {
    "duration": 124,
    "start_time": "2023-01-30T20:34:00.438Z"
   },
   {
    "duration": 98,
    "start_time": "2023-01-30T20:34:00.564Z"
   },
   {
    "duration": 478,
    "start_time": "2023-01-30T20:34:00.664Z"
   },
   {
    "duration": 0,
    "start_time": "2023-01-30T20:34:01.145Z"
   },
   {
    "duration": 0,
    "start_time": "2023-01-30T20:34:01.146Z"
   },
   {
    "duration": 0,
    "start_time": "2023-01-30T20:34:01.147Z"
   },
   {
    "duration": 0,
    "start_time": "2023-01-30T20:34:01.149Z"
   },
   {
    "duration": 0,
    "start_time": "2023-01-30T20:34:01.150Z"
   },
   {
    "duration": 0,
    "start_time": "2023-01-30T20:34:01.151Z"
   },
   {
    "duration": 0,
    "start_time": "2023-01-30T20:34:01.152Z"
   },
   {
    "duration": 0,
    "start_time": "2023-01-30T20:34:01.154Z"
   },
   {
    "duration": 0,
    "start_time": "2023-01-30T20:34:01.155Z"
   },
   {
    "duration": 0,
    "start_time": "2023-01-30T20:34:01.156Z"
   },
   {
    "duration": 1,
    "start_time": "2023-01-30T20:34:01.157Z"
   },
   {
    "duration": 0,
    "start_time": "2023-01-30T20:34:01.159Z"
   },
   {
    "duration": 0,
    "start_time": "2023-01-30T20:34:01.185Z"
   },
   {
    "duration": 0,
    "start_time": "2023-01-30T20:34:01.187Z"
   },
   {
    "duration": 0,
    "start_time": "2023-01-30T20:34:01.188Z"
   },
   {
    "duration": 0,
    "start_time": "2023-01-30T20:34:01.190Z"
   },
   {
    "duration": 0,
    "start_time": "2023-01-30T20:34:01.191Z"
   },
   {
    "duration": 0,
    "start_time": "2023-01-30T20:34:01.193Z"
   },
   {
    "duration": 0,
    "start_time": "2023-01-30T20:34:01.195Z"
   },
   {
    "duration": 0,
    "start_time": "2023-01-30T20:34:01.196Z"
   },
   {
    "duration": 0,
    "start_time": "2023-01-30T20:34:01.197Z"
   },
   {
    "duration": 0,
    "start_time": "2023-01-30T20:34:01.198Z"
   },
   {
    "duration": 0,
    "start_time": "2023-01-30T20:34:01.199Z"
   },
   {
    "duration": 0,
    "start_time": "2023-01-30T20:34:01.200Z"
   },
   {
    "duration": 0,
    "start_time": "2023-01-30T20:34:01.201Z"
   },
   {
    "duration": 0,
    "start_time": "2023-01-30T20:34:01.202Z"
   },
   {
    "duration": 0,
    "start_time": "2023-01-30T20:34:01.203Z"
   },
   {
    "duration": 0,
    "start_time": "2023-01-30T20:34:01.204Z"
   },
   {
    "duration": 0,
    "start_time": "2023-01-30T20:34:01.205Z"
   },
   {
    "duration": 0,
    "start_time": "2023-01-30T20:34:01.207Z"
   },
   {
    "duration": 0,
    "start_time": "2023-01-30T20:34:01.208Z"
   },
   {
    "duration": 0,
    "start_time": "2023-01-30T20:34:01.209Z"
   },
   {
    "duration": 0,
    "start_time": "2023-01-30T20:34:01.211Z"
   },
   {
    "duration": 0,
    "start_time": "2023-01-30T20:34:01.212Z"
   },
   {
    "duration": 0,
    "start_time": "2023-01-30T20:34:01.213Z"
   },
   {
    "duration": 0,
    "start_time": "2023-01-30T20:34:01.214Z"
   },
   {
    "duration": 0,
    "start_time": "2023-01-30T20:34:01.215Z"
   },
   {
    "duration": 0,
    "start_time": "2023-01-30T20:34:01.216Z"
   },
   {
    "duration": 0,
    "start_time": "2023-01-30T20:34:01.217Z"
   },
   {
    "duration": 0,
    "start_time": "2023-01-30T20:34:01.218Z"
   },
   {
    "duration": 0,
    "start_time": "2023-01-30T20:34:01.220Z"
   },
   {
    "duration": 0,
    "start_time": "2023-01-30T20:34:01.221Z"
   },
   {
    "duration": 0,
    "start_time": "2023-01-30T20:34:01.222Z"
   },
   {
    "duration": 0,
    "start_time": "2023-01-30T20:34:01.285Z"
   },
   {
    "duration": 0,
    "start_time": "2023-01-30T20:34:01.286Z"
   },
   {
    "duration": 0,
    "start_time": "2023-01-30T20:34:01.288Z"
   },
   {
    "duration": 0,
    "start_time": "2023-01-30T20:34:01.289Z"
   },
   {
    "duration": 0,
    "start_time": "2023-01-30T20:34:01.292Z"
   },
   {
    "duration": 37,
    "start_time": "2023-01-30T20:34:40.565Z"
   },
   {
    "duration": 108,
    "start_time": "2023-01-30T20:34:44.085Z"
   },
   {
    "duration": 87,
    "start_time": "2023-01-30T20:34:47.002Z"
   },
   {
    "duration": 459,
    "start_time": "2023-01-30T20:34:48.820Z"
   },
   {
    "duration": 262,
    "start_time": "2023-01-30T20:34:50.551Z"
   },
   {
    "duration": 254,
    "start_time": "2023-01-30T20:34:52.287Z"
   },
   {
    "duration": 216,
    "start_time": "2023-01-30T20:34:53.399Z"
   },
   {
    "duration": 272,
    "start_time": "2023-01-30T20:34:54.154Z"
   },
   {
    "duration": 148,
    "start_time": "2023-01-30T20:34:55.162Z"
   },
   {
    "duration": 360,
    "start_time": "2023-01-30T20:34:56.403Z"
   },
   {
    "duration": 194,
    "start_time": "2023-01-30T20:34:57.652Z"
   },
   {
    "duration": 130,
    "start_time": "2023-01-30T20:34:59.902Z"
   },
   {
    "duration": 195,
    "start_time": "2023-01-30T20:35:00.923Z"
   },
   {
    "duration": 254,
    "start_time": "2023-01-30T20:35:02.230Z"
   },
   {
    "duration": 266,
    "start_time": "2023-01-30T20:35:04.105Z"
   },
   {
    "duration": 187,
    "start_time": "2023-01-30T20:35:04.727Z"
   },
   {
    "duration": 125,
    "start_time": "2023-01-30T20:35:06.636Z"
   },
   {
    "duration": 240,
    "start_time": "2023-01-30T20:35:06.791Z"
   },
   {
    "duration": 445,
    "start_time": "2023-01-30T20:36:48.579Z"
   },
   {
    "duration": 2764,
    "start_time": "2023-01-30T20:36:49.026Z"
   },
   {
    "duration": 79,
    "start_time": "2023-01-30T20:36:51.792Z"
   },
   {
    "duration": 111,
    "start_time": "2023-01-30T20:36:51.873Z"
   },
   {
    "duration": 85,
    "start_time": "2023-01-30T20:36:51.986Z"
   },
   {
    "duration": 479,
    "start_time": "2023-01-30T20:36:52.086Z"
   },
   {
    "duration": 0,
    "start_time": "2023-01-30T20:36:52.569Z"
   },
   {
    "duration": 0,
    "start_time": "2023-01-30T20:36:52.570Z"
   },
   {
    "duration": 0,
    "start_time": "2023-01-30T20:36:52.572Z"
   },
   {
    "duration": 0,
    "start_time": "2023-01-30T20:36:52.585Z"
   },
   {
    "duration": 0,
    "start_time": "2023-01-30T20:36:52.586Z"
   },
   {
    "duration": 0,
    "start_time": "2023-01-30T20:36:52.587Z"
   },
   {
    "duration": 0,
    "start_time": "2023-01-30T20:36:52.589Z"
   },
   {
    "duration": 0,
    "start_time": "2023-01-30T20:36:52.591Z"
   },
   {
    "duration": 0,
    "start_time": "2023-01-30T20:36:52.592Z"
   },
   {
    "duration": 0,
    "start_time": "2023-01-30T20:36:52.594Z"
   },
   {
    "duration": 0,
    "start_time": "2023-01-30T20:36:52.595Z"
   },
   {
    "duration": 0,
    "start_time": "2023-01-30T20:36:52.597Z"
   },
   {
    "duration": 0,
    "start_time": "2023-01-30T20:36:52.598Z"
   },
   {
    "duration": 0,
    "start_time": "2023-01-30T20:36:52.600Z"
   },
   {
    "duration": 0,
    "start_time": "2023-01-30T20:36:52.602Z"
   },
   {
    "duration": 0,
    "start_time": "2023-01-30T20:36:52.603Z"
   },
   {
    "duration": 0,
    "start_time": "2023-01-30T20:36:52.605Z"
   },
   {
    "duration": 0,
    "start_time": "2023-01-30T20:36:52.606Z"
   },
   {
    "duration": 0,
    "start_time": "2023-01-30T20:36:52.608Z"
   },
   {
    "duration": 0,
    "start_time": "2023-01-30T20:36:52.609Z"
   },
   {
    "duration": 0,
    "start_time": "2023-01-30T20:36:52.611Z"
   },
   {
    "duration": 0,
    "start_time": "2023-01-30T20:36:52.612Z"
   },
   {
    "duration": 0,
    "start_time": "2023-01-30T20:36:52.613Z"
   },
   {
    "duration": 0,
    "start_time": "2023-01-30T20:36:52.614Z"
   },
   {
    "duration": 0,
    "start_time": "2023-01-30T20:36:52.615Z"
   },
   {
    "duration": 0,
    "start_time": "2023-01-30T20:36:52.616Z"
   },
   {
    "duration": 0,
    "start_time": "2023-01-30T20:36:52.617Z"
   },
   {
    "duration": 0,
    "start_time": "2023-01-30T20:36:52.618Z"
   },
   {
    "duration": 0,
    "start_time": "2023-01-30T20:36:52.619Z"
   },
   {
    "duration": 0,
    "start_time": "2023-01-30T20:36:52.620Z"
   },
   {
    "duration": 0,
    "start_time": "2023-01-30T20:36:52.621Z"
   },
   {
    "duration": 0,
    "start_time": "2023-01-30T20:36:52.622Z"
   },
   {
    "duration": 0,
    "start_time": "2023-01-30T20:36:52.623Z"
   },
   {
    "duration": 0,
    "start_time": "2023-01-30T20:36:52.624Z"
   },
   {
    "duration": 0,
    "start_time": "2023-01-30T20:36:52.684Z"
   },
   {
    "duration": 0,
    "start_time": "2023-01-30T20:36:52.685Z"
   },
   {
    "duration": 0,
    "start_time": "2023-01-30T20:36:52.687Z"
   },
   {
    "duration": 0,
    "start_time": "2023-01-30T20:36:52.688Z"
   },
   {
    "duration": 0,
    "start_time": "2023-01-30T20:36:52.689Z"
   },
   {
    "duration": 0,
    "start_time": "2023-01-30T20:36:52.690Z"
   },
   {
    "duration": 0,
    "start_time": "2023-01-30T20:36:52.691Z"
   },
   {
    "duration": 0,
    "start_time": "2023-01-30T20:36:52.692Z"
   },
   {
    "duration": 0,
    "start_time": "2023-01-30T20:36:52.693Z"
   },
   {
    "duration": 0,
    "start_time": "2023-01-30T20:36:52.694Z"
   },
   {
    "duration": 0,
    "start_time": "2023-01-30T20:36:52.695Z"
   },
   {
    "duration": 0,
    "start_time": "2023-01-30T20:36:52.696Z"
   },
   {
    "duration": 0,
    "start_time": "2023-01-30T20:36:52.698Z"
   },
   {
    "duration": 0,
    "start_time": "2023-01-30T20:36:52.699Z"
   },
   {
    "duration": 87,
    "start_time": "2023-01-30T20:38:19.934Z"
   },
   {
    "duration": 126,
    "start_time": "2023-01-30T20:38:40.761Z"
   },
   {
    "duration": 32,
    "start_time": "2023-01-30T20:39:07.242Z"
   },
   {
    "duration": 32,
    "start_time": "2023-01-30T20:39:13.150Z"
   },
   {
    "duration": 41,
    "start_time": "2023-01-30T20:39:21.496Z"
   },
   {
    "duration": 50,
    "start_time": "2023-01-30T20:39:40.454Z"
   },
   {
    "duration": 39,
    "start_time": "2023-01-30T20:39:59.881Z"
   },
   {
    "duration": 107,
    "start_time": "2023-01-30T20:40:35.037Z"
   },
   {
    "duration": 116,
    "start_time": "2023-01-30T20:40:40.146Z"
   },
   {
    "duration": 102,
    "start_time": "2023-01-30T20:40:50.678Z"
   },
   {
    "duration": 392,
    "start_time": "2023-01-30T20:41:24.343Z"
   },
   {
    "duration": 2709,
    "start_time": "2023-01-30T20:41:24.737Z"
   },
   {
    "duration": 93,
    "start_time": "2023-01-30T20:41:27.448Z"
   },
   {
    "duration": 8,
    "start_time": "2023-01-30T20:41:27.543Z"
   },
   {
    "duration": 167,
    "start_time": "2023-01-30T20:41:27.553Z"
   },
   {
    "duration": 88,
    "start_time": "2023-01-30T20:41:27.722Z"
   },
   {
    "duration": 500,
    "start_time": "2023-01-30T20:41:27.812Z"
   },
   {
    "duration": 0,
    "start_time": "2023-01-30T20:41:28.315Z"
   },
   {
    "duration": 0,
    "start_time": "2023-01-30T20:41:28.317Z"
   },
   {
    "duration": 0,
    "start_time": "2023-01-30T20:41:28.318Z"
   },
   {
    "duration": 0,
    "start_time": "2023-01-30T20:41:28.320Z"
   },
   {
    "duration": 0,
    "start_time": "2023-01-30T20:41:28.321Z"
   },
   {
    "duration": 0,
    "start_time": "2023-01-30T20:41:28.322Z"
   },
   {
    "duration": 0,
    "start_time": "2023-01-30T20:41:28.324Z"
   },
   {
    "duration": 0,
    "start_time": "2023-01-30T20:41:28.325Z"
   },
   {
    "duration": 0,
    "start_time": "2023-01-30T20:41:28.326Z"
   },
   {
    "duration": 0,
    "start_time": "2023-01-30T20:41:28.327Z"
   },
   {
    "duration": 0,
    "start_time": "2023-01-30T20:41:28.329Z"
   },
   {
    "duration": 0,
    "start_time": "2023-01-30T20:41:28.330Z"
   },
   {
    "duration": 0,
    "start_time": "2023-01-30T20:41:28.331Z"
   },
   {
    "duration": 0,
    "start_time": "2023-01-30T20:41:28.333Z"
   },
   {
    "duration": 0,
    "start_time": "2023-01-30T20:41:28.334Z"
   },
   {
    "duration": 0,
    "start_time": "2023-01-30T20:41:28.335Z"
   },
   {
    "duration": 0,
    "start_time": "2023-01-30T20:41:28.336Z"
   },
   {
    "duration": 0,
    "start_time": "2023-01-30T20:41:28.337Z"
   },
   {
    "duration": 0,
    "start_time": "2023-01-30T20:41:28.339Z"
   },
   {
    "duration": 0,
    "start_time": "2023-01-30T20:41:28.388Z"
   },
   {
    "duration": 0,
    "start_time": "2023-01-30T20:41:28.389Z"
   },
   {
    "duration": 0,
    "start_time": "2023-01-30T20:41:28.389Z"
   },
   {
    "duration": 0,
    "start_time": "2023-01-30T20:41:28.391Z"
   },
   {
    "duration": 0,
    "start_time": "2023-01-30T20:41:28.392Z"
   },
   {
    "duration": 0,
    "start_time": "2023-01-30T20:41:28.393Z"
   },
   {
    "duration": 0,
    "start_time": "2023-01-30T20:41:28.394Z"
   },
   {
    "duration": 0,
    "start_time": "2023-01-30T20:41:28.395Z"
   },
   {
    "duration": 0,
    "start_time": "2023-01-30T20:41:28.396Z"
   },
   {
    "duration": 0,
    "start_time": "2023-01-30T20:41:28.397Z"
   },
   {
    "duration": 0,
    "start_time": "2023-01-30T20:41:28.398Z"
   },
   {
    "duration": 0,
    "start_time": "2023-01-30T20:41:28.399Z"
   },
   {
    "duration": 0,
    "start_time": "2023-01-30T20:41:28.400Z"
   },
   {
    "duration": 0,
    "start_time": "2023-01-30T20:41:28.405Z"
   },
   {
    "duration": 0,
    "start_time": "2023-01-30T20:41:28.406Z"
   },
   {
    "duration": 0,
    "start_time": "2023-01-30T20:41:28.408Z"
   },
   {
    "duration": 0,
    "start_time": "2023-01-30T20:41:28.410Z"
   },
   {
    "duration": 0,
    "start_time": "2023-01-30T20:41:28.411Z"
   },
   {
    "duration": 0,
    "start_time": "2023-01-30T20:41:28.413Z"
   },
   {
    "duration": 0,
    "start_time": "2023-01-30T20:41:28.415Z"
   },
   {
    "duration": 0,
    "start_time": "2023-01-30T20:41:28.417Z"
   },
   {
    "duration": 0,
    "start_time": "2023-01-30T20:41:28.418Z"
   },
   {
    "duration": 0,
    "start_time": "2023-01-30T20:41:28.420Z"
   },
   {
    "duration": 0,
    "start_time": "2023-01-30T20:41:28.421Z"
   },
   {
    "duration": 0,
    "start_time": "2023-01-30T20:41:28.423Z"
   },
   {
    "duration": 0,
    "start_time": "2023-01-30T20:41:28.424Z"
   },
   {
    "duration": 0,
    "start_time": "2023-01-30T20:41:28.425Z"
   },
   {
    "duration": 0,
    "start_time": "2023-01-30T20:41:28.427Z"
   },
   {
    "duration": 0,
    "start_time": "2023-01-30T20:41:28.486Z"
   },
   {
    "duration": 7,
    "start_time": "2023-01-30T20:42:59.044Z"
   },
   {
    "duration": 464,
    "start_time": "2023-01-30T20:43:08.764Z"
   },
   {
    "duration": 2724,
    "start_time": "2023-01-30T20:43:09.230Z"
   },
   {
    "duration": 89,
    "start_time": "2023-01-30T20:43:11.955Z"
   },
   {
    "duration": 8,
    "start_time": "2023-01-30T20:43:12.047Z"
   },
   {
    "duration": 157,
    "start_time": "2023-01-30T20:43:12.057Z"
   },
   {
    "duration": 92,
    "start_time": "2023-01-30T20:43:12.216Z"
   },
   {
    "duration": 465,
    "start_time": "2023-01-30T20:43:12.309Z"
   },
   {
    "duration": 0,
    "start_time": "2023-01-30T20:43:12.784Z"
   },
   {
    "duration": 0,
    "start_time": "2023-01-30T20:43:12.785Z"
   },
   {
    "duration": 0,
    "start_time": "2023-01-30T20:43:12.785Z"
   },
   {
    "duration": 0,
    "start_time": "2023-01-30T20:43:12.787Z"
   },
   {
    "duration": 0,
    "start_time": "2023-01-30T20:43:12.789Z"
   },
   {
    "duration": 0,
    "start_time": "2023-01-30T20:43:12.790Z"
   },
   {
    "duration": 0,
    "start_time": "2023-01-30T20:43:12.792Z"
   },
   {
    "duration": 0,
    "start_time": "2023-01-30T20:43:12.794Z"
   },
   {
    "duration": 0,
    "start_time": "2023-01-30T20:43:12.795Z"
   },
   {
    "duration": 0,
    "start_time": "2023-01-30T20:43:12.795Z"
   },
   {
    "duration": 0,
    "start_time": "2023-01-30T20:43:12.796Z"
   },
   {
    "duration": 0,
    "start_time": "2023-01-30T20:43:12.797Z"
   },
   {
    "duration": 0,
    "start_time": "2023-01-30T20:43:12.798Z"
   },
   {
    "duration": 0,
    "start_time": "2023-01-30T20:43:12.800Z"
   },
   {
    "duration": 0,
    "start_time": "2023-01-30T20:43:12.801Z"
   },
   {
    "duration": 0,
    "start_time": "2023-01-30T20:43:12.802Z"
   },
   {
    "duration": 0,
    "start_time": "2023-01-30T20:43:12.804Z"
   },
   {
    "duration": 0,
    "start_time": "2023-01-30T20:43:12.805Z"
   },
   {
    "duration": 0,
    "start_time": "2023-01-30T20:43:12.806Z"
   },
   {
    "duration": 0,
    "start_time": "2023-01-30T20:43:12.808Z"
   },
   {
    "duration": 0,
    "start_time": "2023-01-30T20:43:12.808Z"
   },
   {
    "duration": 0,
    "start_time": "2023-01-30T20:43:12.810Z"
   },
   {
    "duration": 0,
    "start_time": "2023-01-30T20:43:12.811Z"
   },
   {
    "duration": 0,
    "start_time": "2023-01-30T20:43:12.812Z"
   },
   {
    "duration": 0,
    "start_time": "2023-01-30T20:43:12.813Z"
   },
   {
    "duration": 0,
    "start_time": "2023-01-30T20:43:12.814Z"
   },
   {
    "duration": 0,
    "start_time": "2023-01-30T20:43:12.815Z"
   },
   {
    "duration": 0,
    "start_time": "2023-01-30T20:43:12.817Z"
   },
   {
    "duration": 0,
    "start_time": "2023-01-30T20:43:12.818Z"
   },
   {
    "duration": 0,
    "start_time": "2023-01-30T20:43:12.819Z"
   },
   {
    "duration": 0,
    "start_time": "2023-01-30T20:43:12.820Z"
   },
   {
    "duration": 0,
    "start_time": "2023-01-30T20:43:12.821Z"
   },
   {
    "duration": 0,
    "start_time": "2023-01-30T20:43:12.822Z"
   },
   {
    "duration": 0,
    "start_time": "2023-01-30T20:43:12.823Z"
   },
   {
    "duration": 0,
    "start_time": "2023-01-30T20:43:12.825Z"
   },
   {
    "duration": 0,
    "start_time": "2023-01-30T20:43:12.826Z"
   },
   {
    "duration": 0,
    "start_time": "2023-01-30T20:43:12.828Z"
   },
   {
    "duration": 0,
    "start_time": "2023-01-30T20:43:12.830Z"
   },
   {
    "duration": 0,
    "start_time": "2023-01-30T20:43:12.831Z"
   },
   {
    "duration": 1,
    "start_time": "2023-01-30T20:43:12.831Z"
   },
   {
    "duration": 0,
    "start_time": "2023-01-30T20:43:12.886Z"
   },
   {
    "duration": 0,
    "start_time": "2023-01-30T20:43:12.887Z"
   },
   {
    "duration": 0,
    "start_time": "2023-01-30T20:43:12.887Z"
   },
   {
    "duration": 0,
    "start_time": "2023-01-30T20:43:12.888Z"
   },
   {
    "duration": 0,
    "start_time": "2023-01-30T20:43:12.889Z"
   },
   {
    "duration": 0,
    "start_time": "2023-01-30T20:43:12.889Z"
   },
   {
    "duration": 0,
    "start_time": "2023-01-30T20:43:12.890Z"
   },
   {
    "duration": 0,
    "start_time": "2023-01-30T20:43:12.891Z"
   },
   {
    "duration": 554,
    "start_time": "2023-01-30T20:54:51.036Z"
   },
   {
    "duration": 283,
    "start_time": "2023-01-30T20:54:53.982Z"
   },
   {
    "duration": 9,
    "start_time": "2023-01-30T20:55:44.184Z"
   },
   {
    "duration": 3,
    "start_time": "2023-01-30T20:56:35.737Z"
   },
   {
    "duration": 245,
    "start_time": "2023-01-30T21:20:58.647Z"
   },
   {
    "duration": 239,
    "start_time": "2023-01-30T21:21:01.672Z"
   },
   {
    "duration": 246,
    "start_time": "2023-01-30T21:21:04.766Z"
   },
   {
    "duration": 9,
    "start_time": "2023-01-30T21:21:29.028Z"
   },
   {
    "duration": 116,
    "start_time": "2023-01-30T21:21:33.803Z"
   },
   {
    "duration": 122,
    "start_time": "2023-01-30T21:21:37.134Z"
   },
   {
    "duration": 325,
    "start_time": "2023-01-30T21:21:43.071Z"
   },
   {
    "duration": 264,
    "start_time": "2023-01-30T21:24:40.852Z"
   },
   {
    "duration": 258,
    "start_time": "2023-01-30T21:25:36.880Z"
   },
   {
    "duration": 119,
    "start_time": "2023-01-30T21:26:00.154Z"
   },
   {
    "duration": 111,
    "start_time": "2023-01-30T21:26:05.242Z"
   },
   {
    "duration": 252,
    "start_time": "2023-01-30T21:26:07.986Z"
   },
   {
    "duration": 345,
    "start_time": "2023-01-30T21:26:11.264Z"
   },
   {
    "duration": 268,
    "start_time": "2023-01-30T21:27:02.561Z"
   },
   {
    "duration": 255,
    "start_time": "2023-01-30T21:27:14.674Z"
   },
   {
    "duration": 255,
    "start_time": "2023-01-30T21:27:26.858Z"
   },
   {
    "duration": 248,
    "start_time": "2023-01-30T21:27:34.654Z"
   },
   {
    "duration": 256,
    "start_time": "2023-01-30T21:28:08.597Z"
   },
   {
    "duration": 397,
    "start_time": "2023-01-30T21:28:24.887Z"
   },
   {
    "duration": 219,
    "start_time": "2023-01-30T21:28:37.882Z"
   },
   {
    "duration": 257,
    "start_time": "2023-01-30T21:28:56.155Z"
   },
   {
    "duration": 303,
    "start_time": "2023-01-30T21:29:01.256Z"
   },
   {
    "duration": 277,
    "start_time": "2023-01-30T21:29:06.913Z"
   },
   {
    "duration": 349,
    "start_time": "2023-01-30T21:29:20.902Z"
   },
   {
    "duration": 248,
    "start_time": "2023-01-30T21:29:26.687Z"
   },
   {
    "duration": 269,
    "start_time": "2023-01-30T21:29:30.467Z"
   },
   {
    "duration": 263,
    "start_time": "2023-01-30T21:29:34.270Z"
   },
   {
    "duration": 266,
    "start_time": "2023-01-30T21:29:42.692Z"
   },
   {
    "duration": 34,
    "start_time": "2023-01-30T21:30:48.862Z"
   },
   {
    "duration": 141,
    "start_time": "2023-01-30T21:31:03.885Z"
   },
   {
    "duration": 36,
    "start_time": "2023-01-30T21:31:13.221Z"
   },
   {
    "duration": 51,
    "start_time": "2023-01-30T21:31:19.598Z"
   },
   {
    "duration": 50,
    "start_time": "2023-01-30T21:31:24.931Z"
   },
   {
    "duration": 35,
    "start_time": "2023-01-30T21:31:34.038Z"
   },
   {
    "duration": 33,
    "start_time": "2023-01-30T21:31:41.487Z"
   },
   {
    "duration": 40,
    "start_time": "2023-01-30T21:31:45.473Z"
   },
   {
    "duration": 80,
    "start_time": "2023-01-30T21:32:31.234Z"
   },
   {
    "duration": 7,
    "start_time": "2023-01-30T21:32:42.241Z"
   },
   {
    "duration": 7,
    "start_time": "2023-01-30T21:32:47.084Z"
   },
   {
    "duration": 9,
    "start_time": "2023-01-30T21:32:52.257Z"
   },
   {
    "duration": 6,
    "start_time": "2023-01-30T21:33:09.053Z"
   },
   {
    "duration": 4,
    "start_time": "2023-01-30T21:33:11.318Z"
   },
   {
    "duration": 16,
    "start_time": "2023-01-30T21:33:16.894Z"
   },
   {
    "duration": 8,
    "start_time": "2023-01-30T21:33:20.557Z"
   },
   {
    "duration": 8,
    "start_time": "2023-01-30T21:33:25.118Z"
   },
   {
    "duration": 8,
    "start_time": "2023-01-30T21:33:27.456Z"
   },
   {
    "duration": 8,
    "start_time": "2023-01-30T21:33:29.847Z"
   },
   {
    "duration": 10,
    "start_time": "2023-01-30T21:33:32.430Z"
   },
   {
    "duration": 366,
    "start_time": "2023-01-30T21:36:23.369Z"
   },
   {
    "duration": 439,
    "start_time": "2023-01-30T21:36:24.829Z"
   },
   {
    "duration": 267,
    "start_time": "2023-01-30T21:36:28.957Z"
   },
   {
    "duration": 264,
    "start_time": "2023-01-30T21:36:30.261Z"
   },
   {
    "duration": 212,
    "start_time": "2023-01-30T21:36:33.312Z"
   },
   {
    "duration": 284,
    "start_time": "2023-01-30T21:36:39.100Z"
   },
   {
    "duration": 361,
    "start_time": "2023-01-30T21:36:43.973Z"
   },
   {
    "duration": 278,
    "start_time": "2023-01-30T21:36:48.665Z"
   },
   {
    "duration": 266,
    "start_time": "2023-01-30T21:36:54.767Z"
   },
   {
    "duration": 295,
    "start_time": "2023-01-30T21:36:58.061Z"
   },
   {
    "duration": 285,
    "start_time": "2023-01-30T21:37:01.348Z"
   },
   {
    "duration": 273,
    "start_time": "2023-01-30T21:37:05.926Z"
   },
   {
    "duration": 293,
    "start_time": "2023-01-30T21:37:08.575Z"
   },
   {
    "duration": 137,
    "start_time": "2023-01-30T21:37:14.362Z"
   },
   {
    "duration": 150,
    "start_time": "2023-01-30T21:37:19.293Z"
   },
   {
    "duration": 393,
    "start_time": "2023-01-30T21:39:59.991Z"
   },
   {
    "duration": 292,
    "start_time": "2023-01-30T21:40:05.461Z"
   },
   {
    "duration": 256,
    "start_time": "2023-01-30T21:40:06.616Z"
   },
   {
    "duration": 211,
    "start_time": "2023-01-30T21:40:07.302Z"
   },
   {
    "duration": 253,
    "start_time": "2023-01-30T21:40:27.526Z"
   },
   {
    "duration": 148,
    "start_time": "2023-01-30T21:40:35.135Z"
   },
   {
    "duration": 150,
    "start_time": "2023-01-30T21:40:49.198Z"
   },
   {
    "duration": 147,
    "start_time": "2023-01-30T21:41:05.566Z"
   },
   {
    "duration": 150,
    "start_time": "2023-01-30T21:41:14.285Z"
   },
   {
    "duration": 762,
    "start_time": "2023-01-30T21:41:21.150Z"
   },
   {
    "duration": 8,
    "start_time": "2023-01-30T21:43:06.426Z"
   },
   {
    "duration": 7,
    "start_time": "2023-01-30T21:43:20.674Z"
   },
   {
    "duration": 5,
    "start_time": "2023-01-30T21:43:35.940Z"
   },
   {
    "duration": 8,
    "start_time": "2023-01-30T21:43:41.402Z"
   },
   {
    "duration": 8,
    "start_time": "2023-01-30T21:43:44.681Z"
   },
   {
    "duration": 8,
    "start_time": "2023-01-30T21:43:49.133Z"
   },
   {
    "duration": 8,
    "start_time": "2023-01-30T21:43:54.058Z"
   },
   {
    "duration": 8,
    "start_time": "2023-01-30T21:43:56.460Z"
   },
   {
    "duration": 7,
    "start_time": "2023-01-30T21:43:59.920Z"
   },
   {
    "duration": 8,
    "start_time": "2023-01-30T21:44:19.842Z"
   },
   {
    "duration": 8,
    "start_time": "2023-01-30T21:44:22.298Z"
   },
   {
    "duration": 8,
    "start_time": "2023-01-30T21:44:26.387Z"
   },
   {
    "duration": 4,
    "start_time": "2023-01-30T21:44:55.954Z"
   },
   {
    "duration": 7,
    "start_time": "2023-01-30T21:45:03.660Z"
   },
   {
    "duration": 843,
    "start_time": "2023-01-30T21:45:41.341Z"
   },
   {
    "duration": 686,
    "start_time": "2023-01-30T21:45:50.852Z"
   },
   {
    "duration": 2221,
    "start_time": "2023-01-30T21:45:51.541Z"
   },
   {
    "duration": 86,
    "start_time": "2023-01-30T21:45:53.764Z"
   },
   {
    "duration": 7,
    "start_time": "2023-01-30T21:45:53.852Z"
   },
   {
    "duration": 118,
    "start_time": "2023-01-30T21:45:53.861Z"
   },
   {
    "duration": 78,
    "start_time": "2023-01-30T21:45:53.985Z"
   },
   {
    "duration": 395,
    "start_time": "2023-01-30T21:45:54.065Z"
   },
   {
    "duration": 280,
    "start_time": "2023-01-30T21:45:54.462Z"
   },
   {
    "duration": 359,
    "start_time": "2023-01-30T21:45:54.744Z"
   },
   {
    "duration": 215,
    "start_time": "2023-01-30T21:45:55.106Z"
   },
   {
    "duration": 753,
    "start_time": "2023-01-30T21:45:55.323Z"
   },
   {
    "duration": 171,
    "start_time": "2023-01-30T21:45:56.078Z"
   },
   {
    "duration": 362,
    "start_time": "2023-01-30T21:45:56.251Z"
   },
   {
    "duration": 201,
    "start_time": "2023-01-30T21:45:56.614Z"
   },
   {
    "duration": 139,
    "start_time": "2023-01-30T21:45:56.817Z"
   },
   {
    "duration": 195,
    "start_time": "2023-01-30T21:45:56.958Z"
   },
   {
    "duration": 248,
    "start_time": "2023-01-30T21:45:57.155Z"
   },
   {
    "duration": 244,
    "start_time": "2023-01-30T21:45:57.405Z"
   },
   {
    "duration": 189,
    "start_time": "2023-01-30T21:45:57.651Z"
   },
   {
    "duration": 132,
    "start_time": "2023-01-30T21:45:57.842Z"
   },
   {
    "duration": 233,
    "start_time": "2023-01-30T21:45:57.975Z"
   },
   {
    "duration": 397,
    "start_time": "2023-01-30T21:45:58.210Z"
   },
   {
    "duration": 597,
    "start_time": "2023-01-30T21:45:58.609Z"
   },
   {
    "duration": 786,
    "start_time": "2023-01-30T21:45:59.208Z"
   },
   {
    "duration": 278,
    "start_time": "2023-01-30T21:45:59.996Z"
   },
   {
    "duration": 269,
    "start_time": "2023-01-30T21:46:00.276Z"
   },
   {
    "duration": 263,
    "start_time": "2023-01-30T21:46:00.548Z"
   },
   {
    "duration": 275,
    "start_time": "2023-01-30T21:46:00.815Z"
   },
   {
    "duration": 273,
    "start_time": "2023-01-30T21:46:01.091Z"
   },
   {
    "duration": 379,
    "start_time": "2023-01-30T21:46:01.366Z"
   },
   {
    "duration": 270,
    "start_time": "2023-01-30T21:46:01.747Z"
   },
   {
    "duration": 324,
    "start_time": "2023-01-30T21:46:02.018Z"
   },
   {
    "duration": 253,
    "start_time": "2023-01-30T21:46:02.344Z"
   },
   {
    "duration": 272,
    "start_time": "2023-01-30T21:46:02.599Z"
   },
   {
    "duration": 391,
    "start_time": "2023-01-30T21:46:02.873Z"
   },
   {
    "duration": 268,
    "start_time": "2023-01-30T21:46:03.266Z"
   },
   {
    "duration": 262,
    "start_time": "2023-01-30T21:46:03.536Z"
   },
   {
    "duration": 260,
    "start_time": "2023-01-30T21:46:03.800Z"
   },
   {
    "duration": 271,
    "start_time": "2023-01-30T21:46:04.061Z"
   },
   {
    "duration": 253,
    "start_time": "2023-01-30T21:46:04.334Z"
   },
   {
    "duration": 258,
    "start_time": "2023-01-30T21:46:04.589Z"
   },
   {
    "duration": 413,
    "start_time": "2023-01-30T21:46:04.849Z"
   },
   {
    "duration": 265,
    "start_time": "2023-01-30T21:46:05.264Z"
   },
   {
    "duration": 253,
    "start_time": "2023-01-30T21:46:05.531Z"
   },
   {
    "duration": 267,
    "start_time": "2023-01-30T21:46:05.786Z"
   },
   {
    "duration": 258,
    "start_time": "2023-01-30T21:46:06.055Z"
   },
   {
    "duration": 4,
    "start_time": "2023-01-30T21:46:06.314Z"
   },
   {
    "duration": 226,
    "start_time": "2023-01-30T21:46:06.320Z"
   },
   {
    "duration": 227,
    "start_time": "2023-01-30T21:46:06.548Z"
   },
   {
    "duration": 193,
    "start_time": "2023-01-30T21:46:06.776Z"
   },
   {
    "duration": 211,
    "start_time": "2023-01-30T21:46:06.971Z"
   },
   {
    "duration": 206,
    "start_time": "2023-01-30T21:46:07.184Z"
   },
   {
    "duration": 214,
    "start_time": "2023-01-30T21:46:07.392Z"
   },
   {
    "duration": 47,
    "start_time": "2023-01-30T21:46:07.607Z"
   },
   {
    "duration": 50,
    "start_time": "2023-01-30T21:46:07.656Z"
   },
   {
    "duration": 2420,
    "start_time": "2023-01-30T21:46:41.034Z"
   },
   {
    "duration": 43,
    "start_time": "2023-01-30T21:46:57.053Z"
   },
   {
    "duration": 106,
    "start_time": "2023-01-30T21:47:02.571Z"
   },
   {
    "duration": 78,
    "start_time": "2023-01-30T21:47:09.317Z"
   },
   {
    "duration": 39,
    "start_time": "2023-01-30T21:47:50.625Z"
   },
   {
    "duration": 643,
    "start_time": "2023-01-30T21:48:25.816Z"
   },
   {
    "duration": 2209,
    "start_time": "2023-01-30T21:48:26.461Z"
   },
   {
    "duration": 81,
    "start_time": "2023-01-30T21:48:28.672Z"
   },
   {
    "duration": 7,
    "start_time": "2023-01-30T21:48:28.755Z"
   },
   {
    "duration": 128,
    "start_time": "2023-01-30T21:48:28.764Z"
   },
   {
    "duration": 98,
    "start_time": "2023-01-30T21:48:28.894Z"
   },
   {
    "duration": 407,
    "start_time": "2023-01-30T21:48:28.994Z"
   },
   {
    "duration": 315,
    "start_time": "2023-01-30T21:48:29.403Z"
   },
   {
    "duration": 407,
    "start_time": "2023-01-30T21:48:29.720Z"
   },
   {
    "duration": 227,
    "start_time": "2023-01-30T21:48:30.130Z"
   },
   {
    "duration": 820,
    "start_time": "2023-01-30T21:48:30.359Z"
   },
   {
    "duration": 155,
    "start_time": "2023-01-30T21:48:31.184Z"
   },
   {
    "duration": 412,
    "start_time": "2023-01-30T21:48:31.341Z"
   },
   {
    "duration": 204,
    "start_time": "2023-01-30T21:48:31.756Z"
   },
   {
    "duration": 152,
    "start_time": "2023-01-30T21:48:31.962Z"
   },
   {
    "duration": 207,
    "start_time": "2023-01-30T21:48:32.115Z"
   },
   {
    "duration": 270,
    "start_time": "2023-01-30T21:48:32.323Z"
   },
   {
    "duration": 253,
    "start_time": "2023-01-30T21:48:32.594Z"
   },
   {
    "duration": 199,
    "start_time": "2023-01-30T21:48:32.849Z"
   },
   {
    "duration": 144,
    "start_time": "2023-01-30T21:48:33.049Z"
   },
   {
    "duration": 232,
    "start_time": "2023-01-30T21:48:33.195Z"
   },
   {
    "duration": 420,
    "start_time": "2023-01-30T21:48:33.428Z"
   },
   {
    "duration": 627,
    "start_time": "2023-01-30T21:48:33.850Z"
   },
   {
    "duration": 742,
    "start_time": "2023-01-30T21:48:34.479Z"
   },
   {
    "duration": 286,
    "start_time": "2023-01-30T21:48:35.223Z"
   },
   {
    "duration": 267,
    "start_time": "2023-01-30T21:48:35.511Z"
   },
   {
    "duration": 251,
    "start_time": "2023-01-30T21:48:35.784Z"
   },
   {
    "duration": 268,
    "start_time": "2023-01-30T21:48:36.039Z"
   },
   {
    "duration": 265,
    "start_time": "2023-01-30T21:48:36.309Z"
   },
   {
    "duration": 377,
    "start_time": "2023-01-30T21:48:36.576Z"
   },
   {
    "duration": 281,
    "start_time": "2023-01-30T21:48:36.956Z"
   },
   {
    "duration": 273,
    "start_time": "2023-01-30T21:48:37.239Z"
   },
   {
    "duration": 258,
    "start_time": "2023-01-30T21:48:37.514Z"
   },
   {
    "duration": 270,
    "start_time": "2023-01-30T21:48:37.773Z"
   },
   {
    "duration": 419,
    "start_time": "2023-01-30T21:48:38.044Z"
   },
   {
    "duration": 268,
    "start_time": "2023-01-30T21:48:38.464Z"
   },
   {
    "duration": 270,
    "start_time": "2023-01-30T21:48:38.734Z"
   },
   {
    "duration": 264,
    "start_time": "2023-01-30T21:48:39.006Z"
   },
   {
    "duration": 270,
    "start_time": "2023-01-30T21:48:39.271Z"
   },
   {
    "duration": 341,
    "start_time": "2023-01-30T21:48:39.543Z"
   },
   {
    "duration": 283,
    "start_time": "2023-01-30T21:48:39.886Z"
   },
   {
    "duration": 439,
    "start_time": "2023-01-30T21:48:40.171Z"
   },
   {
    "duration": 272,
    "start_time": "2023-01-30T21:48:40.612Z"
   },
   {
    "duration": 265,
    "start_time": "2023-01-30T21:48:40.886Z"
   },
   {
    "duration": 304,
    "start_time": "2023-01-30T21:48:41.153Z"
   },
   {
    "duration": 282,
    "start_time": "2023-01-30T21:48:41.460Z"
   },
   {
    "duration": 5,
    "start_time": "2023-01-30T21:48:41.744Z"
   },
   {
    "duration": 242,
    "start_time": "2023-01-30T21:48:41.751Z"
   },
   {
    "duration": 220,
    "start_time": "2023-01-30T21:48:41.995Z"
   },
   {
    "duration": 198,
    "start_time": "2023-01-30T21:48:42.218Z"
   },
   {
    "duration": 211,
    "start_time": "2023-01-30T21:48:42.418Z"
   },
   {
    "duration": 210,
    "start_time": "2023-01-30T21:48:42.631Z"
   },
   {
    "duration": 210,
    "start_time": "2023-01-30T21:48:42.843Z"
   },
   {
    "duration": 54,
    "start_time": "2023-01-30T21:48:43.055Z"
   },
   {
    "duration": 41,
    "start_time": "2023-01-30T21:48:43.110Z"
   },
   {
    "duration": 1003,
    "start_time": "2023-01-30T21:49:02.121Z"
   },
   {
    "duration": 766,
    "start_time": "2023-01-30T21:49:10.453Z"
   },
   {
    "duration": 1064,
    "start_time": "2023-01-30T21:49:25.988Z"
   },
   {
    "duration": 800,
    "start_time": "2023-01-30T21:49:47.453Z"
   },
   {
    "duration": 71,
    "start_time": "2023-01-30T21:49:57.325Z"
   },
   {
    "duration": 827,
    "start_time": "2023-01-30T21:50:13.976Z"
   },
   {
    "duration": 1165,
    "start_time": "2023-01-30T21:50:19.656Z"
   },
   {
    "duration": 238,
    "start_time": "2023-01-30T21:50:25.200Z"
   },
   {
    "duration": 212,
    "start_time": "2023-01-30T21:50:30.314Z"
   },
   {
    "duration": 213,
    "start_time": "2023-01-30T21:50:34.488Z"
   },
   {
    "duration": 195,
    "start_time": "2023-01-30T21:50:38.821Z"
   },
   {
    "duration": 187,
    "start_time": "2023-01-30T21:51:16.720Z"
   },
   {
    "duration": 186,
    "start_time": "2023-01-30T21:51:38.810Z"
   },
   {
    "duration": 188,
    "start_time": "2023-01-30T21:51:55.940Z"
   },
   {
    "duration": 672,
    "start_time": "2023-01-30T21:52:02.598Z"
   },
   {
    "duration": 2221,
    "start_time": "2023-01-30T21:52:03.273Z"
   },
   {
    "duration": 81,
    "start_time": "2023-01-30T21:52:05.496Z"
   },
   {
    "duration": 8,
    "start_time": "2023-01-30T21:52:05.580Z"
   },
   {
    "duration": 146,
    "start_time": "2023-01-30T21:52:05.592Z"
   },
   {
    "duration": 101,
    "start_time": "2023-01-30T21:52:05.740Z"
   },
   {
    "duration": 404,
    "start_time": "2023-01-30T21:52:05.843Z"
   },
   {
    "duration": 280,
    "start_time": "2023-01-30T21:52:06.249Z"
   },
   {
    "duration": 383,
    "start_time": "2023-01-30T21:52:06.531Z"
   },
   {
    "duration": 215,
    "start_time": "2023-01-30T21:52:06.917Z"
   },
   {
    "duration": 208,
    "start_time": "2023-01-30T21:52:07.134Z"
   },
   {
    "duration": 174,
    "start_time": "2023-01-30T21:52:07.344Z"
   },
   {
    "duration": 289,
    "start_time": "2023-01-30T21:52:07.520Z"
   },
   {
    "duration": 215,
    "start_time": "2023-01-30T21:52:07.811Z"
   },
   {
    "duration": 141,
    "start_time": "2023-01-30T21:52:08.027Z"
   },
   {
    "duration": 285,
    "start_time": "2023-01-30T21:52:08.169Z"
   },
   {
    "duration": 254,
    "start_time": "2023-01-30T21:52:08.456Z"
   },
   {
    "duration": 251,
    "start_time": "2023-01-30T21:52:08.712Z"
   },
   {
    "duration": 199,
    "start_time": "2023-01-30T21:52:08.966Z"
   },
   {
    "duration": 151,
    "start_time": "2023-01-30T21:52:09.168Z"
   },
   {
    "duration": 148,
    "start_time": "2023-01-30T21:52:09.321Z"
   },
   {
    "duration": 516,
    "start_time": "2023-01-30T21:52:09.471Z"
   },
   {
    "duration": 739,
    "start_time": "2023-01-30T21:52:09.989Z"
   },
   {
    "duration": 644,
    "start_time": "2023-01-30T21:52:10.730Z"
   },
   {
    "duration": 290,
    "start_time": "2023-01-30T21:52:11.376Z"
   },
   {
    "duration": 384,
    "start_time": "2023-01-30T21:52:11.667Z"
   },
   {
    "duration": 274,
    "start_time": "2023-01-30T21:52:12.053Z"
   },
   {
    "duration": 260,
    "start_time": "2023-01-30T21:52:12.330Z"
   },
   {
    "duration": 274,
    "start_time": "2023-01-30T21:52:12.592Z"
   },
   {
    "duration": 262,
    "start_time": "2023-01-30T21:52:12.869Z"
   },
   {
    "duration": 284,
    "start_time": "2023-01-30T21:52:13.132Z"
   },
   {
    "duration": 433,
    "start_time": "2023-01-30T21:52:13.418Z"
   },
   {
    "duration": 273,
    "start_time": "2023-01-30T21:52:13.853Z"
   },
   {
    "duration": 282,
    "start_time": "2023-01-30T21:52:14.128Z"
   },
   {
    "duration": 342,
    "start_time": "2023-01-30T21:52:14.412Z"
   },
   {
    "duration": 360,
    "start_time": "2023-01-30T21:52:14.755Z"
   },
   {
    "duration": 303,
    "start_time": "2023-01-30T21:52:15.117Z"
   },
   {
    "duration": 437,
    "start_time": "2023-01-30T21:52:15.422Z"
   },
   {
    "duration": 266,
    "start_time": "2023-01-30T21:52:15.861Z"
   },
   {
    "duration": 257,
    "start_time": "2023-01-30T21:52:16.129Z"
   },
   {
    "duration": 274,
    "start_time": "2023-01-30T21:52:16.388Z"
   },
   {
    "duration": 252,
    "start_time": "2023-01-30T21:52:16.664Z"
   },
   {
    "duration": 259,
    "start_time": "2023-01-30T21:52:16.917Z"
   },
   {
    "duration": 261,
    "start_time": "2023-01-30T21:52:17.178Z"
   },
   {
    "duration": 481,
    "start_time": "2023-01-30T21:52:17.442Z"
   },
   {
    "duration": 291,
    "start_time": "2023-01-30T21:52:17.925Z"
   },
   {
    "duration": 4,
    "start_time": "2023-01-30T21:52:18.218Z"
   },
   {
    "duration": 213,
    "start_time": "2023-01-30T21:52:18.223Z"
   },
   {
    "duration": 201,
    "start_time": "2023-01-30T21:52:18.438Z"
   },
   {
    "duration": 199,
    "start_time": "2023-01-30T21:52:18.640Z"
   },
   {
    "duration": 219,
    "start_time": "2023-01-30T21:52:18.841Z"
   },
   {
    "duration": 204,
    "start_time": "2023-01-30T21:52:19.061Z"
   },
   {
    "duration": 201,
    "start_time": "2023-01-30T21:52:19.267Z"
   },
   {
    "duration": 54,
    "start_time": "2023-01-30T21:52:19.469Z"
   },
   {
    "duration": 32,
    "start_time": "2023-01-30T21:52:19.524Z"
   },
   {
    "duration": 219,
    "start_time": "2023-01-30T21:52:38.146Z"
   },
   {
    "duration": 189,
    "start_time": "2023-01-30T21:52:45.958Z"
   },
   {
    "duration": 199,
    "start_time": "2023-01-30T21:52:51.993Z"
   },
   {
    "duration": 200,
    "start_time": "2023-01-30T21:52:56.968Z"
   },
   {
    "duration": 201,
    "start_time": "2023-01-30T21:53:00.047Z"
   },
   {
    "duration": 184,
    "start_time": "2023-01-30T21:53:07.437Z"
   },
   {
    "duration": 642,
    "start_time": "2023-01-30T21:53:17.238Z"
   },
   {
    "duration": 2292,
    "start_time": "2023-01-30T21:53:17.882Z"
   },
   {
    "duration": 79,
    "start_time": "2023-01-30T21:53:20.176Z"
   },
   {
    "duration": 7,
    "start_time": "2023-01-30T21:53:20.257Z"
   },
   {
    "duration": 142,
    "start_time": "2023-01-30T21:53:20.266Z"
   },
   {
    "duration": 89,
    "start_time": "2023-01-30T21:53:20.410Z"
   },
   {
    "duration": 391,
    "start_time": "2023-01-30T21:53:20.500Z"
   },
   {
    "duration": 271,
    "start_time": "2023-01-30T21:53:20.893Z"
   },
   {
    "duration": 350,
    "start_time": "2023-01-30T21:53:21.166Z"
   },
   {
    "duration": 224,
    "start_time": "2023-01-30T21:53:21.519Z"
   },
   {
    "duration": 218,
    "start_time": "2023-01-30T21:53:21.745Z"
   },
   {
    "duration": 167,
    "start_time": "2023-01-30T21:53:21.964Z"
   },
   {
    "duration": 274,
    "start_time": "2023-01-30T21:53:22.133Z"
   },
   {
    "duration": 201,
    "start_time": "2023-01-30T21:53:22.409Z"
   },
   {
    "duration": 140,
    "start_time": "2023-01-30T21:53:22.612Z"
   },
   {
    "duration": 274,
    "start_time": "2023-01-30T21:53:22.754Z"
   },
   {
    "duration": 257,
    "start_time": "2023-01-30T21:53:23.029Z"
   },
   {
    "duration": 244,
    "start_time": "2023-01-30T21:53:23.288Z"
   },
   {
    "duration": 201,
    "start_time": "2023-01-30T21:53:23.534Z"
   },
   {
    "duration": 135,
    "start_time": "2023-01-30T21:53:23.737Z"
   },
   {
    "duration": 152,
    "start_time": "2023-01-30T21:53:23.874Z"
   },
   {
    "duration": 417,
    "start_time": "2023-01-30T21:53:24.028Z"
   },
   {
    "duration": 694,
    "start_time": "2023-01-30T21:53:24.447Z"
   },
   {
    "duration": 610,
    "start_time": "2023-01-30T21:53:25.143Z"
   },
   {
    "duration": 281,
    "start_time": "2023-01-30T21:53:25.754Z"
   },
   {
    "duration": 375,
    "start_time": "2023-01-30T21:53:26.037Z"
   },
   {
    "duration": 261,
    "start_time": "2023-01-30T21:53:26.414Z"
   },
   {
    "duration": 272,
    "start_time": "2023-01-30T21:53:26.679Z"
   },
   {
    "duration": 281,
    "start_time": "2023-01-30T21:53:26.953Z"
   },
   {
    "duration": 265,
    "start_time": "2023-01-30T21:53:27.235Z"
   },
   {
    "duration": 278,
    "start_time": "2023-01-30T21:53:27.502Z"
   },
   {
    "duration": 400,
    "start_time": "2023-01-30T21:53:27.784Z"
   },
   {
    "duration": 267,
    "start_time": "2023-01-30T21:53:28.185Z"
   },
   {
    "duration": 268,
    "start_time": "2023-01-30T21:53:28.454Z"
   },
   {
    "duration": 270,
    "start_time": "2023-01-30T21:53:28.724Z"
   },
   {
    "duration": 266,
    "start_time": "2023-01-30T21:53:28.996Z"
   },
   {
    "duration": 283,
    "start_time": "2023-01-30T21:53:29.264Z"
   },
   {
    "duration": 457,
    "start_time": "2023-01-30T21:53:29.549Z"
   },
   {
    "duration": 343,
    "start_time": "2023-01-30T21:53:30.008Z"
   },
   {
    "duration": 279,
    "start_time": "2023-01-30T21:53:30.353Z"
   },
   {
    "duration": 303,
    "start_time": "2023-01-30T21:53:30.634Z"
   },
   {
    "duration": 263,
    "start_time": "2023-01-30T21:53:30.939Z"
   },
   {
    "duration": 260,
    "start_time": "2023-01-30T21:53:31.204Z"
   },
   {
    "duration": 280,
    "start_time": "2023-01-30T21:53:31.466Z"
   },
   {
    "duration": 481,
    "start_time": "2023-01-30T21:53:31.748Z"
   },
   {
    "duration": 287,
    "start_time": "2023-01-30T21:53:32.230Z"
   },
   {
    "duration": 4,
    "start_time": "2023-01-30T21:53:32.519Z"
   },
   {
    "duration": 219,
    "start_time": "2023-01-30T21:53:32.525Z"
   },
   {
    "duration": 225,
    "start_time": "2023-01-30T21:53:32.746Z"
   },
   {
    "duration": 213,
    "start_time": "2023-01-30T21:53:32.973Z"
   },
   {
    "duration": 227,
    "start_time": "2023-01-30T21:53:33.188Z"
   },
   {
    "duration": 220,
    "start_time": "2023-01-30T21:53:33.416Z"
   },
   {
    "duration": 223,
    "start_time": "2023-01-30T21:53:33.637Z"
   },
   {
    "duration": 52,
    "start_time": "2023-01-30T21:53:33.862Z"
   },
   {
    "duration": 31,
    "start_time": "2023-01-30T21:53:33.916Z"
   },
   {
    "duration": 199,
    "start_time": "2023-01-30T21:53:43.756Z"
   },
   {
    "duration": 694,
    "start_time": "2023-01-30T21:54:15.091Z"
   },
   {
    "duration": 2307,
    "start_time": "2023-01-30T21:54:15.787Z"
   },
   {
    "duration": 84,
    "start_time": "2023-01-30T21:54:18.096Z"
   },
   {
    "duration": 8,
    "start_time": "2023-01-30T21:54:18.182Z"
   },
   {
    "duration": 117,
    "start_time": "2023-01-30T21:54:18.192Z"
   },
   {
    "duration": 92,
    "start_time": "2023-01-30T21:54:18.311Z"
   },
   {
    "duration": 389,
    "start_time": "2023-01-30T21:54:18.405Z"
   },
   {
    "duration": 286,
    "start_time": "2023-01-30T21:54:18.796Z"
   },
   {
    "duration": 380,
    "start_time": "2023-01-30T21:54:19.084Z"
   },
   {
    "duration": 252,
    "start_time": "2023-01-30T21:54:19.467Z"
   },
   {
    "duration": 10,
    "start_time": "2023-01-30T21:54:19.721Z"
   },
   {
    "duration": 233,
    "start_time": "2023-01-30T21:54:19.733Z"
   },
   {
    "duration": 162,
    "start_time": "2023-01-30T21:54:19.968Z"
   },
   {
    "duration": 270,
    "start_time": "2023-01-30T21:54:20.132Z"
   },
   {
    "duration": 225,
    "start_time": "2023-01-30T21:54:20.404Z"
   },
   {
    "duration": 143,
    "start_time": "2023-01-30T21:54:20.631Z"
   },
   {
    "duration": 289,
    "start_time": "2023-01-30T21:54:20.775Z"
   },
   {
    "duration": 275,
    "start_time": "2023-01-30T21:54:21.066Z"
   },
   {
    "duration": 266,
    "start_time": "2023-01-30T21:54:21.343Z"
   },
   {
    "duration": 222,
    "start_time": "2023-01-30T21:54:21.611Z"
   },
   {
    "duration": 152,
    "start_time": "2023-01-30T21:54:21.836Z"
   },
   {
    "duration": 156,
    "start_time": "2023-01-30T21:54:21.990Z"
   },
   {
    "duration": 403,
    "start_time": "2023-01-30T21:54:22.148Z"
   },
   {
    "duration": 706,
    "start_time": "2023-01-30T21:54:22.553Z"
   },
   {
    "duration": 638,
    "start_time": "2023-01-30T21:54:23.260Z"
   },
   {
    "duration": 280,
    "start_time": "2023-01-30T21:54:23.900Z"
   },
   {
    "duration": 377,
    "start_time": "2023-01-30T21:54:24.182Z"
   },
   {
    "duration": 262,
    "start_time": "2023-01-30T21:54:24.563Z"
   },
   {
    "duration": 275,
    "start_time": "2023-01-30T21:54:24.827Z"
   },
   {
    "duration": 282,
    "start_time": "2023-01-30T21:54:25.104Z"
   },
   {
    "duration": 249,
    "start_time": "2023-01-30T21:54:25.388Z"
   },
   {
    "duration": 273,
    "start_time": "2023-01-30T21:54:25.638Z"
   },
   {
    "duration": 403,
    "start_time": "2023-01-30T21:54:25.913Z"
   },
   {
    "duration": 263,
    "start_time": "2023-01-30T21:54:26.317Z"
   },
   {
    "duration": 283,
    "start_time": "2023-01-30T21:54:26.585Z"
   },
   {
    "duration": 266,
    "start_time": "2023-01-30T21:54:26.871Z"
   },
   {
    "duration": 258,
    "start_time": "2023-01-30T21:54:27.139Z"
   },
   {
    "duration": 264,
    "start_time": "2023-01-30T21:54:27.399Z"
   },
   {
    "duration": 426,
    "start_time": "2023-01-30T21:54:27.665Z"
   },
   {
    "duration": 280,
    "start_time": "2023-01-30T21:54:28.093Z"
   },
   {
    "duration": 270,
    "start_time": "2023-01-30T21:54:28.376Z"
   },
   {
    "duration": 287,
    "start_time": "2023-01-30T21:54:28.647Z"
   },
   {
    "duration": 257,
    "start_time": "2023-01-30T21:54:28.936Z"
   },
   {
    "duration": 273,
    "start_time": "2023-01-30T21:54:29.195Z"
   },
   {
    "duration": 321,
    "start_time": "2023-01-30T21:54:29.469Z"
   },
   {
    "duration": 458,
    "start_time": "2023-01-30T21:54:29.792Z"
   },
   {
    "duration": 284,
    "start_time": "2023-01-30T21:54:30.252Z"
   },
   {
    "duration": 5,
    "start_time": "2023-01-30T21:54:30.538Z"
   },
   {
    "duration": 280,
    "start_time": "2023-01-30T21:54:30.544Z"
   },
   {
    "duration": 227,
    "start_time": "2023-01-30T21:54:30.827Z"
   },
   {
    "duration": 209,
    "start_time": "2023-01-30T21:54:31.056Z"
   },
   {
    "duration": 226,
    "start_time": "2023-01-30T21:54:31.267Z"
   },
   {
    "duration": 215,
    "start_time": "2023-01-30T21:54:31.495Z"
   },
   {
    "duration": 239,
    "start_time": "2023-01-30T21:54:31.712Z"
   },
   {
    "duration": 54,
    "start_time": "2023-01-30T21:54:31.953Z"
   },
   {
    "duration": 40,
    "start_time": "2023-01-30T21:54:32.009Z"
   },
   {
    "duration": 195,
    "start_time": "2023-01-30T21:59:37.217Z"
   },
   {
    "duration": 192,
    "start_time": "2023-01-30T21:59:40.040Z"
   },
   {
    "duration": 197,
    "start_time": "2023-01-30T21:59:42.515Z"
   },
   {
    "duration": 193,
    "start_time": "2023-01-30T21:59:45.387Z"
   },
   {
    "duration": 2464,
    "start_time": "2023-01-30T21:59:49.059Z"
   },
   {
    "duration": 70,
    "start_time": "2023-01-30T21:59:58.792Z"
   },
   {
    "duration": 201,
    "start_time": "2023-01-30T22:00:03.115Z"
   },
   {
    "duration": 206,
    "start_time": "2023-01-30T22:00:12.225Z"
   },
   {
    "duration": 397,
    "start_time": "2023-01-30T22:00:20.021Z"
   },
   {
    "duration": 168,
    "start_time": "2023-01-30T22:00:26.302Z"
   },
   {
    "duration": 187,
    "start_time": "2023-01-30T22:00:33.578Z"
   },
   {
    "duration": 149,
    "start_time": "2023-01-30T22:00:38.463Z"
   },
   {
    "duration": 201,
    "start_time": "2023-01-30T22:01:07.977Z"
   },
   {
    "duration": 173,
    "start_time": "2023-01-30T22:01:17.195Z"
   },
   {
    "duration": 219,
    "start_time": "2023-01-30T22:01:21.564Z"
   },
   {
    "duration": 205,
    "start_time": "2023-01-30T22:01:30.059Z"
   },
   {
    "duration": 218,
    "start_time": "2023-01-30T22:01:40.481Z"
   },
   {
    "duration": 209,
    "start_time": "2023-01-30T22:02:00.636Z"
   },
   {
    "duration": 159,
    "start_time": "2023-01-30T22:03:45.176Z"
   },
   {
    "duration": 200,
    "start_time": "2023-01-30T22:03:58.765Z"
   },
   {
    "duration": 244,
    "start_time": "2023-01-30T22:04:02.066Z"
   },
   {
    "duration": 273,
    "start_time": "2023-01-30T22:04:27.229Z"
   },
   {
    "duration": 171,
    "start_time": "2023-01-30T22:04:35.097Z"
   },
   {
    "duration": 177,
    "start_time": "2023-01-30T22:04:49.363Z"
   },
   {
    "duration": 139,
    "start_time": "2023-01-30T22:06:28.982Z"
   },
   {
    "duration": 195,
    "start_time": "2023-01-30T22:06:52.630Z"
   },
   {
    "duration": 564,
    "start_time": "2023-01-30T22:07:39.535Z"
   },
   {
    "duration": 263,
    "start_time": "2023-01-30T22:08:28.889Z"
   },
   {
    "duration": 71,
    "start_time": "2023-01-30T22:10:20.723Z"
   },
   {
    "duration": 249,
    "start_time": "2023-01-30T22:11:37.510Z"
   },
   {
    "duration": 192,
    "start_time": "2023-01-30T22:13:25.877Z"
   },
   {
    "duration": 78,
    "start_time": "2023-01-30T22:13:58.176Z"
   },
   {
    "duration": 252,
    "start_time": "2023-01-30T22:14:59.587Z"
   },
   {
    "duration": 136,
    "start_time": "2023-01-30T22:15:35.931Z"
   },
   {
    "duration": 143,
    "start_time": "2023-01-30T22:15:59.174Z"
   },
   {
    "duration": 73,
    "start_time": "2023-01-30T22:17:40.466Z"
   },
   {
    "duration": 11396,
    "start_time": "2023-01-30T22:21:24.352Z"
   },
   {
    "duration": 105,
    "start_time": "2023-01-30T22:31:42.223Z"
   },
   {
    "duration": 10,
    "start_time": "2023-01-30T22:32:42.372Z"
   },
   {
    "duration": 676,
    "start_time": "2023-01-30T22:33:16.816Z"
   },
   {
    "duration": 2300,
    "start_time": "2023-01-30T22:33:17.494Z"
   },
   {
    "duration": 75,
    "start_time": "2023-01-30T22:33:19.796Z"
   },
   {
    "duration": 10,
    "start_time": "2023-01-30T22:33:19.874Z"
   },
   {
    "duration": 118,
    "start_time": "2023-01-30T22:33:19.886Z"
   },
   {
    "duration": 87,
    "start_time": "2023-01-30T22:33:20.006Z"
   },
   {
    "duration": 402,
    "start_time": "2023-01-30T22:33:20.095Z"
   },
   {
    "duration": 280,
    "start_time": "2023-01-30T22:33:20.499Z"
   },
   {
    "duration": 365,
    "start_time": "2023-01-30T22:33:20.781Z"
   },
   {
    "duration": 219,
    "start_time": "2023-01-30T22:33:21.148Z"
   },
   {
    "duration": 17,
    "start_time": "2023-01-30T22:33:21.368Z"
   },
   {
    "duration": 212,
    "start_time": "2023-01-30T22:33:21.387Z"
   },
   {
    "duration": 163,
    "start_time": "2023-01-30T22:33:21.601Z"
   },
   {
    "duration": 287,
    "start_time": "2023-01-30T22:33:21.765Z"
   },
   {
    "duration": 181,
    "start_time": "2023-01-30T22:33:22.054Z"
   },
   {
    "duration": 147,
    "start_time": "2023-01-30T22:33:22.237Z"
   },
   {
    "duration": 203,
    "start_time": "2023-01-30T22:33:22.386Z"
   },
   {
    "duration": 367,
    "start_time": "2023-01-30T22:33:22.590Z"
   },
   {
    "duration": 255,
    "start_time": "2023-01-30T22:33:22.959Z"
   },
   {
    "duration": 202,
    "start_time": "2023-01-30T22:33:23.216Z"
   },
   {
    "duration": 149,
    "start_time": "2023-01-30T22:33:23.419Z"
   },
   {
    "duration": 168,
    "start_time": "2023-01-30T22:33:23.570Z"
   },
   {
    "duration": 404,
    "start_time": "2023-01-30T22:33:23.739Z"
   },
   {
    "duration": 694,
    "start_time": "2023-01-30T22:33:24.145Z"
   },
   {
    "duration": 610,
    "start_time": "2023-01-30T22:33:24.841Z"
   },
   {
    "duration": 11753,
    "start_time": "2023-01-30T22:33:25.453Z"
   },
   {
    "duration": 115,
    "start_time": "2023-01-30T22:33:37.207Z"
   },
   {
    "duration": 0,
    "start_time": "2023-01-30T22:33:37.324Z"
   },
   {
    "duration": 0,
    "start_time": "2023-01-30T22:33:37.325Z"
   },
   {
    "duration": 0,
    "start_time": "2023-01-30T22:33:37.327Z"
   },
   {
    "duration": 0,
    "start_time": "2023-01-30T22:33:37.329Z"
   },
   {
    "duration": 0,
    "start_time": "2023-01-30T22:33:37.330Z"
   },
   {
    "duration": 0,
    "start_time": "2023-01-30T22:33:37.331Z"
   },
   {
    "duration": 0,
    "start_time": "2023-01-30T22:33:37.332Z"
   },
   {
    "duration": 0,
    "start_time": "2023-01-30T22:33:37.333Z"
   },
   {
    "duration": 0,
    "start_time": "2023-01-30T22:33:37.334Z"
   },
   {
    "duration": 0,
    "start_time": "2023-01-30T22:33:37.335Z"
   },
   {
    "duration": 0,
    "start_time": "2023-01-30T22:33:37.336Z"
   },
   {
    "duration": 0,
    "start_time": "2023-01-30T22:33:37.337Z"
   },
   {
    "duration": 0,
    "start_time": "2023-01-30T22:33:37.338Z"
   },
   {
    "duration": 0,
    "start_time": "2023-01-30T22:33:37.339Z"
   },
   {
    "duration": 0,
    "start_time": "2023-01-30T22:33:37.340Z"
   },
   {
    "duration": 0,
    "start_time": "2023-01-30T22:33:37.340Z"
   },
   {
    "duration": 0,
    "start_time": "2023-01-30T22:33:37.341Z"
   },
   {
    "duration": 0,
    "start_time": "2023-01-30T22:33:37.342Z"
   },
   {
    "duration": 0,
    "start_time": "2023-01-30T22:33:37.343Z"
   },
   {
    "duration": 0,
    "start_time": "2023-01-30T22:33:37.344Z"
   },
   {
    "duration": 0,
    "start_time": "2023-01-30T22:33:37.345Z"
   },
   {
    "duration": 0,
    "start_time": "2023-01-30T22:33:37.346Z"
   },
   {
    "duration": 0,
    "start_time": "2023-01-30T22:33:37.347Z"
   },
   {
    "duration": 0,
    "start_time": "2023-01-30T22:33:37.348Z"
   },
   {
    "duration": 0,
    "start_time": "2023-01-30T22:33:37.384Z"
   },
   {
    "duration": 0,
    "start_time": "2023-01-30T22:33:37.386Z"
   },
   {
    "duration": 0,
    "start_time": "2023-01-30T22:33:37.387Z"
   },
   {
    "duration": 0,
    "start_time": "2023-01-30T22:33:37.389Z"
   },
   {
    "duration": 0,
    "start_time": "2023-01-30T22:33:37.390Z"
   },
   {
    "duration": 0,
    "start_time": "2023-01-30T22:33:37.391Z"
   },
   {
    "duration": 0,
    "start_time": "2023-01-30T22:33:37.392Z"
   },
   {
    "duration": 702,
    "start_time": "2023-01-30T22:34:30.012Z"
   },
   {
    "duration": 2258,
    "start_time": "2023-01-30T22:34:30.716Z"
   },
   {
    "duration": 76,
    "start_time": "2023-01-30T22:34:32.976Z"
   },
   {
    "duration": 7,
    "start_time": "2023-01-30T22:34:33.054Z"
   },
   {
    "duration": 116,
    "start_time": "2023-01-30T22:34:33.063Z"
   },
   {
    "duration": 76,
    "start_time": "2023-01-30T22:34:33.181Z"
   },
   {
    "duration": 411,
    "start_time": "2023-01-30T22:34:33.259Z"
   },
   {
    "duration": 268,
    "start_time": "2023-01-30T22:34:33.672Z"
   },
   {
    "duration": 363,
    "start_time": "2023-01-30T22:34:33.942Z"
   },
   {
    "duration": 208,
    "start_time": "2023-01-30T22:34:34.308Z"
   },
   {
    "duration": 6,
    "start_time": "2023-01-30T22:34:34.518Z"
   },
   {
    "duration": 202,
    "start_time": "2023-01-30T22:34:34.526Z"
   },
   {
    "duration": 159,
    "start_time": "2023-01-30T22:34:34.730Z"
   },
   {
    "duration": 269,
    "start_time": "2023-01-30T22:34:34.891Z"
   },
   {
    "duration": 176,
    "start_time": "2023-01-30T22:34:35.162Z"
   },
   {
    "duration": 144,
    "start_time": "2023-01-30T22:34:35.340Z"
   },
   {
    "duration": 213,
    "start_time": "2023-01-30T22:34:35.485Z"
   },
   {
    "duration": 354,
    "start_time": "2023-01-30T22:34:35.700Z"
   },
   {
    "duration": 267,
    "start_time": "2023-01-30T22:34:36.055Z"
   },
   {
    "duration": 196,
    "start_time": "2023-01-30T22:34:36.323Z"
   },
   {
    "duration": 151,
    "start_time": "2023-01-30T22:34:36.521Z"
   },
   {
    "duration": 156,
    "start_time": "2023-01-30T22:34:36.674Z"
   },
   {
    "duration": 411,
    "start_time": "2023-01-30T22:34:36.832Z"
   },
   {
    "duration": 704,
    "start_time": "2023-01-30T22:34:37.245Z"
   },
   {
    "duration": 613,
    "start_time": "2023-01-30T22:34:37.951Z"
   },
   {
    "duration": 11687,
    "start_time": "2023-01-30T22:34:38.566Z"
   },
   {
    "duration": 287,
    "start_time": "2023-01-30T22:34:50.254Z"
   },
   {
    "duration": 299,
    "start_time": "2023-01-30T22:34:50.545Z"
   },
   {
    "duration": 265,
    "start_time": "2023-01-30T22:34:50.846Z"
   },
   {
    "duration": 264,
    "start_time": "2023-01-30T22:34:51.113Z"
   },
   {
    "duration": 595,
    "start_time": "2023-01-30T22:34:51.378Z"
   },
   {
    "duration": 272,
    "start_time": "2023-01-30T22:34:51.975Z"
   },
   {
    "duration": 270,
    "start_time": "2023-01-30T22:34:52.248Z"
   },
   {
    "duration": 273,
    "start_time": "2023-01-30T22:34:52.519Z"
   },
   {
    "duration": 260,
    "start_time": "2023-01-30T22:34:52.794Z"
   },
   {
    "duration": 278,
    "start_time": "2023-01-30T22:34:53.055Z"
   },
   {
    "duration": 266,
    "start_time": "2023-01-30T22:34:53.335Z"
   },
   {
    "duration": 267,
    "start_time": "2023-01-30T22:34:53.603Z"
   },
   {
    "duration": 266,
    "start_time": "2023-01-30T22:34:53.872Z"
   },
   {
    "duration": 257,
    "start_time": "2023-01-30T22:34:54.140Z"
   },
   {
    "duration": 259,
    "start_time": "2023-01-30T22:34:54.399Z"
   },
   {
    "duration": 254,
    "start_time": "2023-01-30T22:34:54.660Z"
   },
   {
    "duration": 272,
    "start_time": "2023-01-30T22:34:54.915Z"
   },
   {
    "duration": 252,
    "start_time": "2023-01-30T22:34:55.189Z"
   },
   {
    "duration": 626,
    "start_time": "2023-01-30T22:34:55.443Z"
   },
   {
    "duration": 256,
    "start_time": "2023-01-30T22:34:56.071Z"
   },
   {
    "duration": 257,
    "start_time": "2023-01-30T22:34:56.329Z"
   },
   {
    "duration": 278,
    "start_time": "2023-01-30T22:34:56.588Z"
   },
   {
    "duration": 3,
    "start_time": "2023-01-30T22:34:56.868Z"
   },
   {
    "duration": 211,
    "start_time": "2023-01-30T22:34:56.873Z"
   },
   {
    "duration": 192,
    "start_time": "2023-01-30T22:34:57.085Z"
   },
   {
    "duration": 196,
    "start_time": "2023-01-30T22:34:57.284Z"
   },
   {
    "duration": 210,
    "start_time": "2023-01-30T22:34:57.484Z"
   },
   {
    "duration": 217,
    "start_time": "2023-01-30T22:34:57.696Z"
   },
   {
    "duration": 206,
    "start_time": "2023-01-30T22:34:57.916Z"
   },
   {
    "duration": 46,
    "start_time": "2023-01-30T22:34:58.123Z"
   },
   {
    "duration": 44,
    "start_time": "2023-01-30T22:34:58.170Z"
   },
   {
    "duration": 314,
    "start_time": "2023-01-30T22:48:31.884Z"
   },
   {
    "duration": 381,
    "start_time": "2023-01-30T22:51:40.154Z"
   },
   {
    "duration": 529,
    "start_time": "2023-01-30T22:52:25.946Z"
   },
   {
    "duration": 372,
    "start_time": "2023-01-30T22:54:47.440Z"
   },
   {
    "duration": 422,
    "start_time": "2023-01-30T22:58:17.218Z"
   },
   {
    "duration": 300,
    "start_time": "2023-01-30T22:58:54.669Z"
   },
   {
    "duration": 293,
    "start_time": "2023-01-30T22:59:04.996Z"
   },
   {
    "duration": 387,
    "start_time": "2023-01-30T22:59:23.815Z"
   },
   {
    "duration": 519,
    "start_time": "2023-01-30T23:00:02.885Z"
   },
   {
    "duration": 180,
    "start_time": "2023-01-30T23:03:24.490Z"
   },
   {
    "duration": 50,
    "start_time": "2023-01-30T23:04:00.038Z"
   },
   {
    "duration": 147,
    "start_time": "2023-01-30T23:04:04.318Z"
   },
   {
    "duration": 39,
    "start_time": "2023-01-30T23:05:06.049Z"
   },
   {
    "duration": 107,
    "start_time": "2023-01-30T23:08:38.733Z"
   },
   {
    "duration": 16,
    "start_time": "2023-01-30T23:08:47.723Z"
   },
   {
    "duration": 154,
    "start_time": "2023-01-30T23:09:01.386Z"
   },
   {
    "duration": 375,
    "start_time": "2023-01-30T23:09:42.777Z"
   },
   {
    "duration": 164,
    "start_time": "2023-01-30T23:10:18.528Z"
   },
   {
    "duration": 316,
    "start_time": "2023-01-30T23:27:09.582Z"
   },
   {
    "duration": 272,
    "start_time": "2023-01-30T23:27:58.118Z"
   },
   {
    "duration": 243,
    "start_time": "2023-01-30T23:29:02.022Z"
   },
   {
    "duration": 270,
    "start_time": "2023-01-30T23:29:17.118Z"
   },
   {
    "duration": 59,
    "start_time": "2023-01-30T23:31:49.100Z"
   },
   {
    "duration": 261,
    "start_time": "2023-01-30T23:31:52.225Z"
   },
   {
    "duration": 230,
    "start_time": "2023-01-30T23:31:58.992Z"
   },
   {
    "duration": 288,
    "start_time": "2023-01-30T23:32:19.054Z"
   },
   {
    "duration": 274,
    "start_time": "2023-01-30T23:33:53.226Z"
   },
   {
    "duration": 711,
    "start_time": "2023-01-30T23:34:31.614Z"
   },
   {
    "duration": 73,
    "start_time": "2023-01-30T23:35:49.094Z"
   },
   {
    "duration": 674,
    "start_time": "2023-01-30T23:43:09.047Z"
   },
   {
    "duration": 2151,
    "start_time": "2023-01-30T23:43:09.723Z"
   },
   {
    "duration": 78,
    "start_time": "2023-01-30T23:43:11.876Z"
   },
   {
    "duration": 7,
    "start_time": "2023-01-30T23:43:11.956Z"
   },
   {
    "duration": 121,
    "start_time": "2023-01-30T23:43:11.965Z"
   },
   {
    "duration": 78,
    "start_time": "2023-01-30T23:43:12.088Z"
   },
   {
    "duration": 380,
    "start_time": "2023-01-30T23:43:12.184Z"
   },
   {
    "duration": 253,
    "start_time": "2023-01-30T23:43:12.565Z"
   },
   {
    "duration": 341,
    "start_time": "2023-01-30T23:43:12.819Z"
   },
   {
    "duration": 221,
    "start_time": "2023-01-30T23:43:13.163Z"
   },
   {
    "duration": 12,
    "start_time": "2023-01-30T23:43:13.386Z"
   },
   {
    "duration": 206,
    "start_time": "2023-01-30T23:43:13.399Z"
   },
   {
    "duration": 160,
    "start_time": "2023-01-30T23:43:13.607Z"
   },
   {
    "duration": 265,
    "start_time": "2023-01-30T23:43:13.769Z"
   },
   {
    "duration": 181,
    "start_time": "2023-01-30T23:43:14.036Z"
   },
   {
    "duration": 139,
    "start_time": "2023-01-30T23:43:14.220Z"
   },
   {
    "duration": 193,
    "start_time": "2023-01-30T23:43:14.360Z"
   },
   {
    "duration": 336,
    "start_time": "2023-01-30T23:43:14.554Z"
   },
   {
    "duration": 250,
    "start_time": "2023-01-30T23:43:14.891Z"
   },
   {
    "duration": 200,
    "start_time": "2023-01-30T23:43:15.143Z"
   },
   {
    "duration": 146,
    "start_time": "2023-01-30T23:43:15.344Z"
   },
   {
    "duration": 148,
    "start_time": "2023-01-30T23:43:15.491Z"
   },
   {
    "duration": 665,
    "start_time": "2023-01-30T23:43:16.066Z"
   },
   {
    "duration": 618,
    "start_time": "2023-01-30T23:43:16.732Z"
   },
   {
    "duration": 11132,
    "start_time": "2023-01-30T23:43:17.352Z"
   },
   {
    "duration": 306,
    "start_time": "2023-01-30T23:43:28.486Z"
   },
   {
    "duration": 386,
    "start_time": "2023-01-30T23:43:28.795Z"
   },
   {
    "duration": 548,
    "start_time": "2023-01-30T23:43:29.183Z"
   },
   {
    "duration": 4,
    "start_time": "2023-01-30T23:43:29.733Z"
   },
   {
    "duration": 372,
    "start_time": "2023-01-30T23:43:29.739Z"
   },
   {
    "duration": 256,
    "start_time": "2023-01-30T23:43:30.113Z"
   },
   {
    "duration": 39,
    "start_time": "2023-01-30T23:43:30.371Z"
   },
   {
    "duration": 166,
    "start_time": "2023-01-30T23:43:30.412Z"
   },
   {
    "duration": 827,
    "start_time": "2023-01-31T15:00:23.788Z"
   },
   {
    "duration": 1994,
    "start_time": "2023-01-31T15:00:24.618Z"
   },
   {
    "duration": 72,
    "start_time": "2023-01-31T15:00:26.614Z"
   },
   {
    "duration": 9,
    "start_time": "2023-01-31T15:00:26.687Z"
   },
   {
    "duration": 155,
    "start_time": "2023-01-31T15:00:26.709Z"
   },
   {
    "duration": 81,
    "start_time": "2023-01-31T15:00:26.867Z"
   },
   {
    "duration": 399,
    "start_time": "2023-01-31T15:00:26.950Z"
   },
   {
    "duration": 233,
    "start_time": "2023-01-31T15:00:27.350Z"
   },
   {
    "duration": 288,
    "start_time": "2023-01-31T15:00:27.585Z"
   },
   {
    "duration": 189,
    "start_time": "2023-01-31T15:00:27.874Z"
   },
   {
    "duration": 7,
    "start_time": "2023-01-31T15:00:28.064Z"
   },
   {
    "duration": 188,
    "start_time": "2023-01-31T15:00:28.072Z"
   },
   {
    "duration": 142,
    "start_time": "2023-01-31T15:00:28.262Z"
   },
   {
    "duration": 230,
    "start_time": "2023-01-31T15:00:28.411Z"
   },
   {
    "duration": 157,
    "start_time": "2023-01-31T15:00:28.643Z"
   },
   {
    "duration": 125,
    "start_time": "2023-01-31T15:00:28.809Z"
   },
   {
    "duration": 198,
    "start_time": "2023-01-31T15:00:28.936Z"
   },
   {
    "duration": 304,
    "start_time": "2023-01-31T15:00:29.136Z"
   },
   {
    "duration": 223,
    "start_time": "2023-01-31T15:00:29.442Z"
   },
   {
    "duration": 180,
    "start_time": "2023-01-31T15:00:29.667Z"
   },
   {
    "duration": 131,
    "start_time": "2023-01-31T15:00:29.849Z"
   },
   {
    "duration": 140,
    "start_time": "2023-01-31T15:00:29.982Z"
   },
   {
    "duration": 353,
    "start_time": "2023-01-31T15:00:30.124Z"
   },
   {
    "duration": 617,
    "start_time": "2023-01-31T15:00:30.479Z"
   },
   {
    "duration": 554,
    "start_time": "2023-01-31T15:00:31.098Z"
   },
   {
    "duration": 10023,
    "start_time": "2023-01-31T15:00:31.653Z"
   },
   {
    "duration": 292,
    "start_time": "2023-01-31T15:00:41.678Z"
   },
   {
    "duration": 377,
    "start_time": "2023-01-31T15:00:41.972Z"
   },
   {
    "duration": 475,
    "start_time": "2023-01-31T15:00:42.350Z"
   },
   {
    "duration": 3,
    "start_time": "2023-01-31T15:00:42.827Z"
   },
   {
    "duration": 378,
    "start_time": "2023-01-31T15:00:42.832Z"
   },
   {
    "duration": 254,
    "start_time": "2023-01-31T15:00:43.211Z"
   },
   {
    "duration": 43,
    "start_time": "2023-01-31T15:00:43.467Z"
   },
   {
    "duration": 166,
    "start_time": "2023-01-31T15:00:43.512Z"
   }
  ],
  "kernelspec": {
   "display_name": "Python 3",
   "language": "python",
   "name": "python3"
  },
  "language_info": {
   "codemirror_mode": {
    "name": "ipython",
    "version": 3
   },
   "file_extension": ".py",
   "mimetype": "text/x-python",
   "name": "python",
   "nbconvert_exporter": "python",
   "pygments_lexer": "ipython3",
   "version": "3.8.3"
  },
  "toc": {
   "base_numbering": 1,
   "nav_menu": {},
   "number_sections": true,
   "sideBar": true,
   "skip_h1_title": true,
   "title_cell": "Table of Contents",
   "title_sidebar": "Contents",
   "toc_cell": false,
   "toc_position": {},
   "toc_section_display": true,
   "toc_window_display": false
  }
 },
 "nbformat": 4,
 "nbformat_minor": 2
}
