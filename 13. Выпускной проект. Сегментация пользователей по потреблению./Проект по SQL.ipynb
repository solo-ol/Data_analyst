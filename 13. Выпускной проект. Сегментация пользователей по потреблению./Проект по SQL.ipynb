{
 "cells": [
  {
   "cell_type": "markdown",
   "metadata": {},
   "source": [
    "# Проект по SQL\n",
    "\n",
    "Ваша компания решила быть на волне и купила крупный сервис для чтения книг по подписке. Ваша первая задача как аналитика — проанализировать базу данных. В ней — информация о книгах, издательствах, авторах, а также пользовательские обзоры книг. Эти данные помогут сформулировать ценностное предложение для нового продукта.\n",
    "\n",
    "\n",
    "# Описание данных:\n",
    "\n",
    "Таблица `books`:\n",
    "\n",
    "    - book_id — идентификатор книги;\n",
    "    - author_id — идентификатор автора;\n",
    "    - title — название книги;\n",
    "    - num_pages — количество страниц;\n",
    "    - publication_date — дата публикации книги;\n",
    "    - publication_date — идентификатор издателя.\n",
    "    \n",
    "Таблица `authors`:\n",
    "    \n",
    "    - author_id — идентификатор автора;\n",
    "    - author — имя автора.\n",
    "    \n",
    "Таблица `publishers`:\n",
    "  \n",
    "    - publisher_id — идентификатор издательства;\n",
    "    - publisher — название издательства;\n",
    "    \n",
    "Таблица `ratings`:\n",
    "    \n",
    "    - rating_id — идентификатор оценки;\n",
    "    - book_id — идентификатор книги;\n",
    "    - username — имя пользователя, оставившего оценку;\n",
    "    - rating — оценка книги.\n",
    "    \n",
    "Таблица `reviews`:\n",
    "    \n",
    "    - review_id — идентификатор обзора;\n",
    "    - book_id — идентификатор книги;\n",
    "    - username — имя автора обзора;\n",
    "    - text — текст обзора.\n",
    "    \n",
    "# Ход исследования:\n",
    "\n",
    "1) Опишите цели исследования;\n",
    "\n",
    "2) Исследуйте таблицы — выведите первые строки;\n",
    "\n",
    "3) Сделайте по одному SQL-запросу для решения каждого задания;\n",
    "\n",
    "4) Выведите результаты каждого запроса в тетрадке;\n",
    "\n",
    "5) Опишите выводы по каждой из решённых задач."
   ]
  },
  {
   "cell_type": "code",
   "execution_count": 14,
   "metadata": {},
   "outputs": [],
   "source": [
    "import pandas as pd\n",
    "from sqlalchemy import text, create_engine"
   ]
  },
  {
   "cell_type": "code",
   "execution_count": 15,
   "metadata": {},
   "outputs": [],
   "source": [
    "db_config = {'user': 'praktikum_student', # имя пользователя\n",
    "'pwd': 'Sdf4$2;d-d30pp', # пароль\n",
    "'host': 'rc1b-wcoijxj3yxfsf3fs.mdb.yandexcloud.net',\n",
    "'port': 6432, # порт подключения\n",
    "'db': 'data-analyst-final-project-db'} # название базы данных\n",
    "connection_string = 'postgresql://{user}:{pwd}@{host}:{port}/{db}'.format(**db_config)"
   ]
  },
  {
   "cell_type": "code",
   "execution_count": 16,
   "metadata": {},
   "outputs": [],
   "source": [
    "engine = create_engine(connection_string, connect_args={'sslmode':'require'})"
   ]
  },
  {
   "cell_type": "markdown",
   "metadata": {},
   "source": [
    "# Исследование таблиц"
   ]
  },
  {
   "cell_type": "code",
   "execution_count": 17,
   "metadata": {},
   "outputs": [
    {
     "data": {
      "text/html": [
       "<div>\n",
       "<style scoped>\n",
       "    .dataframe tbody tr th:only-of-type {\n",
       "        vertical-align: middle;\n",
       "    }\n",
       "\n",
       "    .dataframe tbody tr th {\n",
       "        vertical-align: top;\n",
       "    }\n",
       "\n",
       "    .dataframe thead th {\n",
       "        text-align: right;\n",
       "    }\n",
       "</style>\n",
       "<table border=\"1\" class=\"dataframe\">\n",
       "  <thead>\n",
       "    <tr style=\"text-align: right;\">\n",
       "      <th></th>\n",
       "      <th>book_id</th>\n",
       "      <th>author_id</th>\n",
       "      <th>title</th>\n",
       "      <th>num_pages</th>\n",
       "      <th>publication_date</th>\n",
       "      <th>publisher_id</th>\n",
       "    </tr>\n",
       "  </thead>\n",
       "  <tbody>\n",
       "    <tr>\n",
       "      <th>0</th>\n",
       "      <td>1</td>\n",
       "      <td>546</td>\n",
       "      <td>'Salem's Lot</td>\n",
       "      <td>594</td>\n",
       "      <td>2005-11-01</td>\n",
       "      <td>93</td>\n",
       "    </tr>\n",
       "    <tr>\n",
       "      <th>1</th>\n",
       "      <td>2</td>\n",
       "      <td>465</td>\n",
       "      <td>1 000 Places to See Before You Die</td>\n",
       "      <td>992</td>\n",
       "      <td>2003-05-22</td>\n",
       "      <td>336</td>\n",
       "    </tr>\n",
       "    <tr>\n",
       "      <th>2</th>\n",
       "      <td>3</td>\n",
       "      <td>407</td>\n",
       "      <td>13 Little Blue Envelopes (Little Blue Envelope...</td>\n",
       "      <td>322</td>\n",
       "      <td>2010-12-21</td>\n",
       "      <td>135</td>\n",
       "    </tr>\n",
       "    <tr>\n",
       "      <th>3</th>\n",
       "      <td>4</td>\n",
       "      <td>82</td>\n",
       "      <td>1491: New Revelations of the Americas Before C...</td>\n",
       "      <td>541</td>\n",
       "      <td>2006-10-10</td>\n",
       "      <td>309</td>\n",
       "    </tr>\n",
       "    <tr>\n",
       "      <th>4</th>\n",
       "      <td>5</td>\n",
       "      <td>125</td>\n",
       "      <td>1776</td>\n",
       "      <td>386</td>\n",
       "      <td>2006-07-04</td>\n",
       "      <td>268</td>\n",
       "    </tr>\n",
       "  </tbody>\n",
       "</table>\n",
       "</div>"
      ],
      "text/plain": [
       "   book_id  author_id                                              title  \\\n",
       "0        1        546                                       'Salem's Lot   \n",
       "1        2        465                 1 000 Places to See Before You Die   \n",
       "2        3        407  13 Little Blue Envelopes (Little Blue Envelope...   \n",
       "3        4         82  1491: New Revelations of the Americas Before C...   \n",
       "4        5        125                                               1776   \n",
       "\n",
       "   num_pages publication_date  publisher_id  \n",
       "0        594       2005-11-01            93  \n",
       "1        992       2003-05-22           336  \n",
       "2        322       2010-12-21           135  \n",
       "3        541       2006-10-10           309  \n",
       "4        386       2006-07-04           268  "
      ]
     },
     "execution_count": 17,
     "metadata": {},
     "output_type": "execute_result"
    }
   ],
   "source": [
    "query = '''\n",
    "SELECT * FROM books\n",
    "LIMIT 5\n",
    "'''\n",
    "con=engine.connect()\n",
    "pd.io.sql.read_sql(sql=text(query), con = con)"
   ]
  },
  {
   "cell_type": "code",
   "execution_count": 18,
   "metadata": {},
   "outputs": [
    {
     "data": {
      "text/html": [
       "<div>\n",
       "<style scoped>\n",
       "    .dataframe tbody tr th:only-of-type {\n",
       "        vertical-align: middle;\n",
       "    }\n",
       "\n",
       "    .dataframe tbody tr th {\n",
       "        vertical-align: top;\n",
       "    }\n",
       "\n",
       "    .dataframe thead th {\n",
       "        text-align: right;\n",
       "    }\n",
       "</style>\n",
       "<table border=\"1\" class=\"dataframe\">\n",
       "  <thead>\n",
       "    <tr style=\"text-align: right;\">\n",
       "      <th></th>\n",
       "      <th>author_id</th>\n",
       "      <th>author</th>\n",
       "    </tr>\n",
       "  </thead>\n",
       "  <tbody>\n",
       "    <tr>\n",
       "      <th>0</th>\n",
       "      <td>1</td>\n",
       "      <td>A.S. Byatt</td>\n",
       "    </tr>\n",
       "    <tr>\n",
       "      <th>1</th>\n",
       "      <td>2</td>\n",
       "      <td>Aesop/Laura Harris/Laura Gibbs</td>\n",
       "    </tr>\n",
       "    <tr>\n",
       "      <th>2</th>\n",
       "      <td>3</td>\n",
       "      <td>Agatha Christie</td>\n",
       "    </tr>\n",
       "    <tr>\n",
       "      <th>3</th>\n",
       "      <td>4</td>\n",
       "      <td>Alan Brennert</td>\n",
       "    </tr>\n",
       "    <tr>\n",
       "      <th>4</th>\n",
       "      <td>5</td>\n",
       "      <td>Alan Moore/David   Lloyd</td>\n",
       "    </tr>\n",
       "  </tbody>\n",
       "</table>\n",
       "</div>"
      ],
      "text/plain": [
       "   author_id                          author\n",
       "0          1                      A.S. Byatt\n",
       "1          2  Aesop/Laura Harris/Laura Gibbs\n",
       "2          3                 Agatha Christie\n",
       "3          4                   Alan Brennert\n",
       "4          5        Alan Moore/David   Lloyd"
      ]
     },
     "execution_count": 18,
     "metadata": {},
     "output_type": "execute_result"
    }
   ],
   "source": [
    "query = '''\n",
    "SELECT * FROM authors\n",
    "LIMIT 5\n",
    "'''\n",
    "con=engine.connect()\n",
    "pd.io.sql.read_sql(sql=text(query), con = con)"
   ]
  },
  {
   "cell_type": "code",
   "execution_count": 19,
   "metadata": {},
   "outputs": [
    {
     "data": {
      "text/html": [
       "<div>\n",
       "<style scoped>\n",
       "    .dataframe tbody tr th:only-of-type {\n",
       "        vertical-align: middle;\n",
       "    }\n",
       "\n",
       "    .dataframe tbody tr th {\n",
       "        vertical-align: top;\n",
       "    }\n",
       "\n",
       "    .dataframe thead th {\n",
       "        text-align: right;\n",
       "    }\n",
       "</style>\n",
       "<table border=\"1\" class=\"dataframe\">\n",
       "  <thead>\n",
       "    <tr style=\"text-align: right;\">\n",
       "      <th></th>\n",
       "      <th>publisher_id</th>\n",
       "      <th>publisher</th>\n",
       "    </tr>\n",
       "  </thead>\n",
       "  <tbody>\n",
       "    <tr>\n",
       "      <th>0</th>\n",
       "      <td>1</td>\n",
       "      <td>Ace</td>\n",
       "    </tr>\n",
       "    <tr>\n",
       "      <th>1</th>\n",
       "      <td>2</td>\n",
       "      <td>Ace Book</td>\n",
       "    </tr>\n",
       "    <tr>\n",
       "      <th>2</th>\n",
       "      <td>3</td>\n",
       "      <td>Ace Books</td>\n",
       "    </tr>\n",
       "    <tr>\n",
       "      <th>3</th>\n",
       "      <td>4</td>\n",
       "      <td>Ace Hardcover</td>\n",
       "    </tr>\n",
       "    <tr>\n",
       "      <th>4</th>\n",
       "      <td>5</td>\n",
       "      <td>Addison Wesley Publishing Company</td>\n",
       "    </tr>\n",
       "  </tbody>\n",
       "</table>\n",
       "</div>"
      ],
      "text/plain": [
       "   publisher_id                          publisher\n",
       "0             1                                Ace\n",
       "1             2                           Ace Book\n",
       "2             3                          Ace Books\n",
       "3             4                      Ace Hardcover\n",
       "4             5  Addison Wesley Publishing Company"
      ]
     },
     "execution_count": 19,
     "metadata": {},
     "output_type": "execute_result"
    }
   ],
   "source": [
    "query = '''\n",
    "SELECT * FROM publishers\n",
    "LIMIT 5\n",
    "'''\n",
    "con=engine.connect()\n",
    "pd.io.sql.read_sql(sql=text(query), con = con)"
   ]
  },
  {
   "cell_type": "code",
   "execution_count": 20,
   "metadata": {},
   "outputs": [
    {
     "data": {
      "text/html": [
       "<div>\n",
       "<style scoped>\n",
       "    .dataframe tbody tr th:only-of-type {\n",
       "        vertical-align: middle;\n",
       "    }\n",
       "\n",
       "    .dataframe tbody tr th {\n",
       "        vertical-align: top;\n",
       "    }\n",
       "\n",
       "    .dataframe thead th {\n",
       "        text-align: right;\n",
       "    }\n",
       "</style>\n",
       "<table border=\"1\" class=\"dataframe\">\n",
       "  <thead>\n",
       "    <tr style=\"text-align: right;\">\n",
       "      <th></th>\n",
       "      <th>rating_id</th>\n",
       "      <th>book_id</th>\n",
       "      <th>username</th>\n",
       "      <th>rating</th>\n",
       "    </tr>\n",
       "  </thead>\n",
       "  <tbody>\n",
       "    <tr>\n",
       "      <th>0</th>\n",
       "      <td>1</td>\n",
       "      <td>1</td>\n",
       "      <td>ryanfranco</td>\n",
       "      <td>4</td>\n",
       "    </tr>\n",
       "    <tr>\n",
       "      <th>1</th>\n",
       "      <td>2</td>\n",
       "      <td>1</td>\n",
       "      <td>grantpatricia</td>\n",
       "      <td>2</td>\n",
       "    </tr>\n",
       "    <tr>\n",
       "      <th>2</th>\n",
       "      <td>3</td>\n",
       "      <td>1</td>\n",
       "      <td>brandtandrea</td>\n",
       "      <td>5</td>\n",
       "    </tr>\n",
       "    <tr>\n",
       "      <th>3</th>\n",
       "      <td>4</td>\n",
       "      <td>2</td>\n",
       "      <td>lorichen</td>\n",
       "      <td>3</td>\n",
       "    </tr>\n",
       "    <tr>\n",
       "      <th>4</th>\n",
       "      <td>5</td>\n",
       "      <td>2</td>\n",
       "      <td>mariokeller</td>\n",
       "      <td>2</td>\n",
       "    </tr>\n",
       "  </tbody>\n",
       "</table>\n",
       "</div>"
      ],
      "text/plain": [
       "   rating_id  book_id       username  rating\n",
       "0          1        1     ryanfranco       4\n",
       "1          2        1  grantpatricia       2\n",
       "2          3        1   brandtandrea       5\n",
       "3          4        2       lorichen       3\n",
       "4          5        2    mariokeller       2"
      ]
     },
     "execution_count": 20,
     "metadata": {},
     "output_type": "execute_result"
    }
   ],
   "source": [
    "query = '''\n",
    "SELECT * FROM ratings\n",
    "LIMIT 5\n",
    "'''\n",
    "con=engine.connect()\n",
    "pd.io.sql.read_sql(sql=text(query), con = con)"
   ]
  },
  {
   "cell_type": "code",
   "execution_count": 21,
   "metadata": {},
   "outputs": [
    {
     "data": {
      "text/html": [
       "<div>\n",
       "<style scoped>\n",
       "    .dataframe tbody tr th:only-of-type {\n",
       "        vertical-align: middle;\n",
       "    }\n",
       "\n",
       "    .dataframe tbody tr th {\n",
       "        vertical-align: top;\n",
       "    }\n",
       "\n",
       "    .dataframe thead th {\n",
       "        text-align: right;\n",
       "    }\n",
       "</style>\n",
       "<table border=\"1\" class=\"dataframe\">\n",
       "  <thead>\n",
       "    <tr style=\"text-align: right;\">\n",
       "      <th></th>\n",
       "      <th>review_id</th>\n",
       "      <th>book_id</th>\n",
       "      <th>username</th>\n",
       "      <th>text</th>\n",
       "    </tr>\n",
       "  </thead>\n",
       "  <tbody>\n",
       "    <tr>\n",
       "      <th>0</th>\n",
       "      <td>1</td>\n",
       "      <td>1</td>\n",
       "      <td>brandtandrea</td>\n",
       "      <td>Mention society tell send professor analysis. ...</td>\n",
       "    </tr>\n",
       "    <tr>\n",
       "      <th>1</th>\n",
       "      <td>2</td>\n",
       "      <td>1</td>\n",
       "      <td>ryanfranco</td>\n",
       "      <td>Foot glass pretty audience hit themselves. Amo...</td>\n",
       "    </tr>\n",
       "    <tr>\n",
       "      <th>2</th>\n",
       "      <td>3</td>\n",
       "      <td>2</td>\n",
       "      <td>lorichen</td>\n",
       "      <td>Listen treat keep worry. Miss husband tax but ...</td>\n",
       "    </tr>\n",
       "    <tr>\n",
       "      <th>3</th>\n",
       "      <td>4</td>\n",
       "      <td>3</td>\n",
       "      <td>johnsonamanda</td>\n",
       "      <td>Finally month interesting blue could nature cu...</td>\n",
       "    </tr>\n",
       "    <tr>\n",
       "      <th>4</th>\n",
       "      <td>5</td>\n",
       "      <td>3</td>\n",
       "      <td>scotttamara</td>\n",
       "      <td>Nation purpose heavy give wait song will. List...</td>\n",
       "    </tr>\n",
       "  </tbody>\n",
       "</table>\n",
       "</div>"
      ],
      "text/plain": [
       "   review_id  book_id       username  \\\n",
       "0          1        1   brandtandrea   \n",
       "1          2        1     ryanfranco   \n",
       "2          3        2       lorichen   \n",
       "3          4        3  johnsonamanda   \n",
       "4          5        3    scotttamara   \n",
       "\n",
       "                                                text  \n",
       "0  Mention society tell send professor analysis. ...  \n",
       "1  Foot glass pretty audience hit themselves. Amo...  \n",
       "2  Listen treat keep worry. Miss husband tax but ...  \n",
       "3  Finally month interesting blue could nature cu...  \n",
       "4  Nation purpose heavy give wait song will. List...  "
      ]
     },
     "execution_count": 21,
     "metadata": {},
     "output_type": "execute_result"
    }
   ],
   "source": [
    "query = '''\n",
    "SELECT * FROM reviews\n",
    "LIMIT 5\n",
    "'''\n",
    "con=engine.connect()\n",
    "pd.io.sql.read_sql(sql=text(query), con = con)"
   ]
  },
  {
   "cell_type": "markdown",
   "metadata": {},
   "source": [
    "**Комментарий**\n",
    "Во всех таблицах есть данные и названия столбцов совпадают с заданными."
   ]
  },
  {
   "cell_type": "markdown",
   "metadata": {},
   "source": [
    "# Решение заданий с выводами"
   ]
  },
  {
   "cell_type": "code",
   "execution_count": 22,
   "metadata": {},
   "outputs": [
    {
     "data": {
      "text/html": [
       "<div>\n",
       "<style scoped>\n",
       "    .dataframe tbody tr th:only-of-type {\n",
       "        vertical-align: middle;\n",
       "    }\n",
       "\n",
       "    .dataframe tbody tr th {\n",
       "        vertical-align: top;\n",
       "    }\n",
       "\n",
       "    .dataframe thead th {\n",
       "        text-align: right;\n",
       "    }\n",
       "</style>\n",
       "<table border=\"1\" class=\"dataframe\">\n",
       "  <thead>\n",
       "    <tr style=\"text-align: right;\">\n",
       "      <th></th>\n",
       "      <th>count</th>\n",
       "    </tr>\n",
       "  </thead>\n",
       "  <tbody>\n",
       "    <tr>\n",
       "      <th>0</th>\n",
       "      <td>819</td>\n",
       "    </tr>\n",
       "  </tbody>\n",
       "</table>\n",
       "</div>"
      ],
      "text/plain": [
       "   count\n",
       "0    819"
      ]
     },
     "execution_count": 22,
     "metadata": {},
     "output_type": "execute_result"
    }
   ],
   "source": [
    "#Посчитайте, сколько книг вышло после 1 января 2000 года;\n",
    "# Задача 1\n",
    "query = '''\n",
    "SELECT count(*) FROM books\n",
    "where publication_date > '2000-01-01'\n",
    "LIMIT 50\n",
    "'''\n",
    "con=engine.connect()\n",
    "pd.io.sql.read_sql(sql=text(query), con = con)"
   ]
  },
  {
   "cell_type": "markdown",
   "metadata": {},
   "source": [
    "**Вывод**\n",
    "\n",
    "Ограничил дату, искал книги, вышедшие после 1 января 2000 года - таких книг 819."
   ]
  },
  {
   "cell_type": "markdown",
   "metadata": {},
   "source": []
  },
  {
   "cell_type": "code",
   "execution_count": 23,
   "metadata": {},
   "outputs": [
    {
     "data": {
      "text/html": [
       "<div>\n",
       "<style scoped>\n",
       "    .dataframe tbody tr th:only-of-type {\n",
       "        vertical-align: middle;\n",
       "    }\n",
       "\n",
       "    .dataframe tbody tr th {\n",
       "        vertical-align: top;\n",
       "    }\n",
       "\n",
       "    .dataframe thead th {\n",
       "        text-align: right;\n",
       "    }\n",
       "</style>\n",
       "<table border=\"1\" class=\"dataframe\">\n",
       "  <thead>\n",
       "    <tr style=\"text-align: right;\">\n",
       "      <th></th>\n",
       "      <th>book_id</th>\n",
       "      <th>title</th>\n",
       "      <th>count_reviews</th>\n",
       "      <th>avg_rating</th>\n",
       "    </tr>\n",
       "  </thead>\n",
       "  <tbody>\n",
       "    <tr>\n",
       "      <th>0</th>\n",
       "      <td>1</td>\n",
       "      <td>'Salem's Lot</td>\n",
       "      <td>2</td>\n",
       "      <td>3.666667</td>\n",
       "    </tr>\n",
       "    <tr>\n",
       "      <th>1</th>\n",
       "      <td>2</td>\n",
       "      <td>1 000 Places to See Before You Die</td>\n",
       "      <td>1</td>\n",
       "      <td>2.500000</td>\n",
       "    </tr>\n",
       "    <tr>\n",
       "      <th>2</th>\n",
       "      <td>3</td>\n",
       "      <td>13 Little Blue Envelopes (Little Blue Envelope...</td>\n",
       "      <td>3</td>\n",
       "      <td>4.666667</td>\n",
       "    </tr>\n",
       "    <tr>\n",
       "      <th>3</th>\n",
       "      <td>4</td>\n",
       "      <td>1491: New Revelations of the Americas Before C...</td>\n",
       "      <td>2</td>\n",
       "      <td>4.500000</td>\n",
       "    </tr>\n",
       "    <tr>\n",
       "      <th>4</th>\n",
       "      <td>5</td>\n",
       "      <td>1776</td>\n",
       "      <td>4</td>\n",
       "      <td>4.000000</td>\n",
       "    </tr>\n",
       "    <tr>\n",
       "      <th>...</th>\n",
       "      <td>...</td>\n",
       "      <td>...</td>\n",
       "      <td>...</td>\n",
       "      <td>...</td>\n",
       "    </tr>\n",
       "    <tr>\n",
       "      <th>995</th>\n",
       "      <td>996</td>\n",
       "      <td>Wyrd Sisters (Discworld  #6; Witches #2)</td>\n",
       "      <td>3</td>\n",
       "      <td>3.666667</td>\n",
       "    </tr>\n",
       "    <tr>\n",
       "      <th>996</th>\n",
       "      <td>997</td>\n",
       "      <td>Xenocide (Ender's Saga  #3)</td>\n",
       "      <td>3</td>\n",
       "      <td>3.400000</td>\n",
       "    </tr>\n",
       "    <tr>\n",
       "      <th>997</th>\n",
       "      <td>998</td>\n",
       "      <td>Year of Wonders</td>\n",
       "      <td>4</td>\n",
       "      <td>3.200000</td>\n",
       "    </tr>\n",
       "    <tr>\n",
       "      <th>998</th>\n",
       "      <td>999</td>\n",
       "      <td>You Suck (A Love Story  #2)</td>\n",
       "      <td>2</td>\n",
       "      <td>4.500000</td>\n",
       "    </tr>\n",
       "    <tr>\n",
       "      <th>999</th>\n",
       "      <td>1000</td>\n",
       "      <td>Zen and the Art of Motorcycle Maintenance: An ...</td>\n",
       "      <td>4</td>\n",
       "      <td>3.833333</td>\n",
       "    </tr>\n",
       "  </tbody>\n",
       "</table>\n",
       "<p>1000 rows × 4 columns</p>\n",
       "</div>"
      ],
      "text/plain": [
       "     book_id                                              title  \\\n",
       "0          1                                       'Salem's Lot   \n",
       "1          2                 1 000 Places to See Before You Die   \n",
       "2          3  13 Little Blue Envelopes (Little Blue Envelope...   \n",
       "3          4  1491: New Revelations of the Americas Before C...   \n",
       "4          5                                               1776   \n",
       "..       ...                                                ...   \n",
       "995      996           Wyrd Sisters (Discworld  #6; Witches #2)   \n",
       "996      997                        Xenocide (Ender's Saga  #3)   \n",
       "997      998                                    Year of Wonders   \n",
       "998      999                        You Suck (A Love Story  #2)   \n",
       "999     1000  Zen and the Art of Motorcycle Maintenance: An ...   \n",
       "\n",
       "     count_reviews  avg_rating  \n",
       "0                2    3.666667  \n",
       "1                1    2.500000  \n",
       "2                3    4.666667  \n",
       "3                2    4.500000  \n",
       "4                4    4.000000  \n",
       "..             ...         ...  \n",
       "995              3    3.666667  \n",
       "996              3    3.400000  \n",
       "997              4    3.200000  \n",
       "998              2    4.500000  \n",
       "999              4    3.833333  \n",
       "\n",
       "[1000 rows x 4 columns]"
      ]
     },
     "execution_count": 23,
     "metadata": {},
     "output_type": "execute_result"
    }
   ],
   "source": [
    "#Для каждой книги посчитайте количество обзоров и среднюю оценку;\n",
    "# Задача 2\n",
    "query = '''\n",
    "SELECT b.book_id, b.title, count(distinct review_id) as count_reviews, avg(rating) as avg_rating FROM books as b\n",
    "left join reviews as r on b.book_id = r.book_id\n",
    "left join ratings as rat on b.book_id = rat.book_id\n",
    "group by b.book_id, b.title\n",
    "\n",
    "'''\n",
    "con=engine.connect()\n",
    "pd.io.sql.read_sql(sql=text(query), con = con)"
   ]
  },
  {
   "cell_type": "markdown",
   "metadata": {},
   "source": [
    "**Вывод**\n",
    "\n",
    "По условию задачи вывел название книги и его ид, количество обзоров на книгу и средняя оценка на книгу. Вывел путём присоединения таблиц книг, рейтинга и обзоров. Далее скриппировал таблицу по названию и ид книг и нашел количество отзывов и средний рейтинг книги."
   ]
  },
  {
   "cell_type": "code",
   "execution_count": 24,
   "metadata": {},
   "outputs": [
    {
     "data": {
      "text/html": [
       "<div>\n",
       "<style scoped>\n",
       "    .dataframe tbody tr th:only-of-type {\n",
       "        vertical-align: middle;\n",
       "    }\n",
       "\n",
       "    .dataframe tbody tr th {\n",
       "        vertical-align: top;\n",
       "    }\n",
       "\n",
       "    .dataframe thead th {\n",
       "        text-align: right;\n",
       "    }\n",
       "</style>\n",
       "<table border=\"1\" class=\"dataframe\">\n",
       "  <thead>\n",
       "    <tr style=\"text-align: right;\">\n",
       "      <th></th>\n",
       "      <th>publisher</th>\n",
       "      <th>publisher_id</th>\n",
       "      <th>count_book</th>\n",
       "    </tr>\n",
       "  </thead>\n",
       "  <tbody>\n",
       "    <tr>\n",
       "      <th>0</th>\n",
       "      <td>Penguin Books</td>\n",
       "      <td>212</td>\n",
       "      <td>42</td>\n",
       "    </tr>\n",
       "  </tbody>\n",
       "</table>\n",
       "</div>"
      ],
      "text/plain": [
       "       publisher  publisher_id  count_book\n",
       "0  Penguin Books           212          42"
      ]
     },
     "execution_count": 24,
     "metadata": {},
     "output_type": "execute_result"
    }
   ],
   "source": [
    "#Определите издательство, которое выпустило наибольшее число книг толще 50 страниц — так вы исключите из анализа брошюры;\n",
    "# Задача 3\n",
    "query = '''\n",
    "SELECT publisher, p.publisher_id, count(*) as count_book FROM books as b\n",
    "left join publishers as p on b.publisher_id = p.publisher_id\n",
    "where num_pages > 50\n",
    "group by p.publisher, p.publisher_id\n",
    "order by count_book desc\n",
    "LIMIT 1\n",
    "'''\n",
    "con=engine.connect()\n",
    "pd.io.sql.read_sql(sql=text(query), con = con)"
   ]
  },
  {
   "cell_type": "markdown",
   "metadata": {},
   "source": [
    "**Вывод**\n",
    "\n",
    "Определил издательство, которое выпустило больше всего книг толще 50 страниц.\n",
    "\n",
    "Выгрузил данные следующим способом - объединил таблицы книг и издательств, ограничил данные количеством страниц больше 50, сгрупиировал данные по издателю и его ид и стал искать издателей по убыванию количества изданных книг. Вывел 1 значение, чтобы указать издательство, которое выпустило наибольшее число книг."
   ]
  },
  {
   "cell_type": "code",
   "execution_count": 25,
   "metadata": {},
   "outputs": [
    {
     "data": {
      "text/html": [
       "<div>\n",
       "<style scoped>\n",
       "    .dataframe tbody tr th:only-of-type {\n",
       "        vertical-align: middle;\n",
       "    }\n",
       "\n",
       "    .dataframe tbody tr th {\n",
       "        vertical-align: top;\n",
       "    }\n",
       "\n",
       "    .dataframe thead th {\n",
       "        text-align: right;\n",
       "    }\n",
       "</style>\n",
       "<table border=\"1\" class=\"dataframe\">\n",
       "  <thead>\n",
       "    <tr style=\"text-align: right;\">\n",
       "      <th></th>\n",
       "      <th>author</th>\n",
       "      <th>count_rating</th>\n",
       "      <th>avg_rating</th>\n",
       "    </tr>\n",
       "  </thead>\n",
       "  <tbody>\n",
       "    <tr>\n",
       "      <th>0</th>\n",
       "      <td>J.K. Rowling/Mary GrandPré</td>\n",
       "      <td>312</td>\n",
       "      <td>4.288462</td>\n",
       "    </tr>\n",
       "    <tr>\n",
       "      <th>1</th>\n",
       "      <td>Agatha Christie</td>\n",
       "      <td>53</td>\n",
       "      <td>4.283019</td>\n",
       "    </tr>\n",
       "    <tr>\n",
       "      <th>2</th>\n",
       "      <td>Markus Zusak/Cao Xuân Việt Khương</td>\n",
       "      <td>53</td>\n",
       "      <td>4.264151</td>\n",
       "    </tr>\n",
       "    <tr>\n",
       "      <th>3</th>\n",
       "      <td>J.R.R. Tolkien</td>\n",
       "      <td>166</td>\n",
       "      <td>4.240964</td>\n",
       "    </tr>\n",
       "    <tr>\n",
       "      <th>4</th>\n",
       "      <td>Roald Dahl/Quentin Blake</td>\n",
       "      <td>62</td>\n",
       "      <td>4.209677</td>\n",
       "    </tr>\n",
       "    <tr>\n",
       "      <th>5</th>\n",
       "      <td>Louisa May Alcott</td>\n",
       "      <td>54</td>\n",
       "      <td>4.203704</td>\n",
       "    </tr>\n",
       "    <tr>\n",
       "      <th>6</th>\n",
       "      <td>Rick Riordan</td>\n",
       "      <td>84</td>\n",
       "      <td>4.130952</td>\n",
       "    </tr>\n",
       "    <tr>\n",
       "      <th>7</th>\n",
       "      <td>Arthur Golden</td>\n",
       "      <td>56</td>\n",
       "      <td>4.107143</td>\n",
       "    </tr>\n",
       "    <tr>\n",
       "      <th>8</th>\n",
       "      <td>Stephen King</td>\n",
       "      <td>106</td>\n",
       "      <td>4.009434</td>\n",
       "    </tr>\n",
       "    <tr>\n",
       "      <th>9</th>\n",
       "      <td>John Grisham</td>\n",
       "      <td>70</td>\n",
       "      <td>3.971429</td>\n",
       "    </tr>\n",
       "  </tbody>\n",
       "</table>\n",
       "</div>"
      ],
      "text/plain": [
       "                              author  count_rating  avg_rating\n",
       "0         J.K. Rowling/Mary GrandPré           312    4.288462\n",
       "1                    Agatha Christie            53    4.283019\n",
       "2  Markus Zusak/Cao Xuân Việt Khương            53    4.264151\n",
       "3                     J.R.R. Tolkien           166    4.240964\n",
       "4           Roald Dahl/Quentin Blake            62    4.209677\n",
       "5                  Louisa May Alcott            54    4.203704\n",
       "6                       Rick Riordan            84    4.130952\n",
       "7                      Arthur Golden            56    4.107143\n",
       "8                       Stephen King           106    4.009434\n",
       "9                       John Grisham            70    3.971429"
      ]
     },
     "execution_count": 25,
     "metadata": {},
     "output_type": "execute_result"
    }
   ],
   "source": [
    "#Определите автора с самой высокой средней оценкой книг — учитывайте только книги с 50 и более оценками;\n",
    "# Задача 4\n",
    "query = '''\n",
    "with t as (\n",
    "\n",
    "SELECT a.author, count(distinct r.rating_id) as count_rating, avg(r.rating) as avg_rating FROM books as b\n",
    "left join authors as a on b.author_id = a.author_id\n",
    "left join ratings as r on b.book_id = r.book_id \n",
    "group by a.author\n",
    "having count(distinct r.rating_id) > 50\n",
    "order by avg_rating desc\n",
    "LIMIT 10\n",
    ")\n",
    "\n",
    "select * from t\n",
    "'''\n",
    "con=engine.connect()\n",
    "pd.io.sql.read_sql(sql=text(query), con = con)"
   ]
  },
  {
   "cell_type": "code",
   "execution_count": 28,
   "metadata": {},
   "outputs": [
    {
     "data": {
      "text/html": [
       "<div>\n",
       "<style scoped>\n",
       "    .dataframe tbody tr th:only-of-type {\n",
       "        vertical-align: middle;\n",
       "    }\n",
       "\n",
       "    .dataframe tbody tr th {\n",
       "        vertical-align: top;\n",
       "    }\n",
       "\n",
       "    .dataframe thead th {\n",
       "        text-align: right;\n",
       "    }\n",
       "</style>\n",
       "<table border=\"1\" class=\"dataframe\">\n",
       "  <thead>\n",
       "    <tr style=\"text-align: right;\">\n",
       "      <th></th>\n",
       "      <th>author</th>\n",
       "      <th>rating_id</th>\n",
       "      <th>count_rating</th>\n",
       "      <th>avg_rating</th>\n",
       "    </tr>\n",
       "  </thead>\n",
       "  <tbody>\n",
       "  </tbody>\n",
       "</table>\n",
       "</div>"
      ],
      "text/plain": [
       "Empty DataFrame\n",
       "Columns: [author, rating_id, count_rating, avg_rating]\n",
       "Index: []"
      ]
     },
     "execution_count": 28,
     "metadata": {},
     "output_type": "execute_result"
    }
   ],
   "source": [
    "#Определите автора с самой высокой средней оценкой книг — учитывайте только книги с 50 и более оценками;\n",
    "# Задача 4\n",
    "query = '''\n",
    "--with t as (\n",
    "\n",
    "SELECT a.author, r.rating_id, count(distinct r.rating_id) as count_rating, avg(r.rating) as avg_rating FROM books as b\n",
    "left join authors as a on b.author_id = a.author_id\n",
    "left join ratings as r on b.book_id = r.book_id \n",
    "group by a.author\n",
    "having count(distinct r.rating_id) > 50\n",
    "order by avg_rating desc\n",
    "LIMIT 10\n",
    "--)\n",
    "\n",
    "--select * from t\n",
    "'''\n",
    "con=engine.connect()\n",
    "pd.io.sql.read_sql(sql=text(query), con = con)"
   ]
  },
  {
   "cell_type": "markdown",
   "metadata": {},
   "source": [
    "**Вывод**\n",
    "\n",
    "В данной задаче я вывел два поля - автора и средняя оценка книг автора.\n",
    "\n",
    "Для вывода этих данных было сделано следующее: обьединил три таблицы - книги, автор, рейтинг. Далее сгруппировал данные по автору, и ограничил количеством оценок больше 50. Далее вывел данные об средних оценках книг у автора по убыванию и вывел первую строчку, так как необходимо было указать автора с самой высокой средней оценкой книг."
   ]
  },
  {
   "cell_type": "code",
   "execution_count": 13,
   "metadata": {},
   "outputs": [
    {
     "data": {
      "text/html": [
       "<div>\n",
       "<style scoped>\n",
       "    .dataframe tbody tr th:only-of-type {\n",
       "        vertical-align: middle;\n",
       "    }\n",
       "\n",
       "    .dataframe tbody tr th {\n",
       "        vertical-align: top;\n",
       "    }\n",
       "\n",
       "    .dataframe thead th {\n",
       "        text-align: right;\n",
       "    }\n",
       "</style>\n",
       "<table border=\"1\" class=\"dataframe\">\n",
       "  <thead>\n",
       "    <tr style=\"text-align: right;\">\n",
       "      <th></th>\n",
       "      <th>avg</th>\n",
       "    </tr>\n",
       "  </thead>\n",
       "  <tbody>\n",
       "    <tr>\n",
       "      <th>0</th>\n",
       "      <td>24.0</td>\n",
       "    </tr>\n",
       "  </tbody>\n",
       "</table>\n",
       "</div>"
      ],
      "text/plain": [
       "    avg\n",
       "0  24.0"
      ]
     },
     "execution_count": 13,
     "metadata": {},
     "output_type": "execute_result"
    }
   ],
   "source": [
    "#Посчитайте среднее количество обзоров от пользователей, которые поставили больше 48 оценок.\n",
    "# Задача 5\n",
    "query = '''\n",
    "with tt as (\n",
    "select r.username, count(distinct r.review_id) as count_reviews FROM ratings as rat\n",
    "join reviews as r on rat.username = r.username\n",
    "where rat.username in (\n",
    "    select rat.username from ratings as rat\n",
    "    group by rat.username\n",
    "    having count(rat.rating_id) > 48\n",
    "    )\n",
    "group by r.username)\n",
    "\n",
    "select avg(count_reviews) from tt\n",
    "'''\n",
    "con=engine.connect()\n",
    "pd.io.sql.read_sql(sql=text(query), con = con)"
   ]
  },
  {
   "cell_type": "markdown",
   "metadata": {},
   "source": [
    "**Вывод**\n",
    "\n",
    "В данной задаче я посчитал среднее количество обзорово от пользователей, среди тех, кто поставил больше 48 оценок.\n",
    "\n",
    "Для этой задачи задействовались только таблицы рейтинга и обзоров. Для начала я нашел количество уникальных ид обзоров, а так же сделал вложенную таблицу с именами пользователей, у которых более 48 оценок. Сгруппировал данные по имени пользователя и вывел среднее количество обзоров от пользователей."
   ]
  }
 ],
 "metadata": {
  "ExecuteTimeLog": [
   {
    "duration": 526,
    "start_time": "2023-06-26T07:06:41.943Z"
   },
   {
    "duration": 5,
    "start_time": "2023-06-26T07:06:42.471Z"
   },
   {
    "duration": 9655,
    "start_time": "2023-06-26T07:06:42.739Z"
   },
   {
    "duration": 263,
    "start_time": "2023-06-26T07:06:52.395Z"
   },
   {
    "duration": 143,
    "start_time": "2023-06-26T07:07:20.616Z"
   },
   {
    "duration": 55,
    "start_time": "2023-06-26T07:07:55.274Z"
   },
   {
    "duration": 138,
    "start_time": "2023-06-26T07:08:10.283Z"
   },
   {
    "duration": 48,
    "start_time": "2023-06-26T07:08:18.549Z"
   },
   {
    "duration": 167,
    "start_time": "2023-06-26T07:08:50.235Z"
   },
   {
    "duration": 59,
    "start_time": "2023-06-26T07:10:19.119Z"
   },
   {
    "duration": 73,
    "start_time": "2023-06-26T07:11:10.800Z"
   },
   {
    "duration": 48,
    "start_time": "2023-06-26T07:11:16.395Z"
   },
   {
    "duration": 171,
    "start_time": "2023-06-26T07:11:25.121Z"
   },
   {
    "duration": 47,
    "start_time": "2023-06-26T07:11:43.309Z"
   },
   {
    "duration": 168,
    "start_time": "2023-06-26T07:12:05.232Z"
   },
   {
    "duration": 73,
    "start_time": "2023-06-26T07:12:54.185Z"
   },
   {
    "duration": 43,
    "start_time": "2023-06-26T07:13:11.209Z"
   },
   {
    "duration": 53,
    "start_time": "2023-06-26T07:13:16.499Z"
   },
   {
    "duration": 61,
    "start_time": "2023-06-26T07:15:12.891Z"
   },
   {
    "duration": 55,
    "start_time": "2023-06-26T07:15:18.659Z"
   },
   {
    "duration": 57,
    "start_time": "2023-06-26T07:16:36.503Z"
   },
   {
    "duration": 1351,
    "start_time": "2023-06-26T07:17:17.940Z"
   },
   {
    "duration": 56,
    "start_time": "2023-06-26T07:17:32.223Z"
   },
   {
    "duration": 54,
    "start_time": "2023-06-26T07:17:45.555Z"
   },
   {
    "duration": 149,
    "start_time": "2023-06-26T07:18:47.203Z"
   },
   {
    "duration": 65,
    "start_time": "2023-06-26T07:19:10.303Z"
   },
   {
    "duration": 56,
    "start_time": "2023-06-26T07:19:27.224Z"
   },
   {
    "duration": 56,
    "start_time": "2023-06-26T07:19:50.236Z"
   },
   {
    "duration": 55,
    "start_time": "2023-06-26T07:20:29.065Z"
   },
   {
    "duration": 73,
    "start_time": "2023-06-26T07:20:47.934Z"
   },
   {
    "duration": 46,
    "start_time": "2023-06-26T07:21:09.801Z"
   },
   {
    "duration": 181,
    "start_time": "2023-06-26T07:21:15.363Z"
   },
   {
    "duration": 55,
    "start_time": "2023-06-26T07:22:07.497Z"
   },
   {
    "duration": 94,
    "start_time": "2023-06-26T07:22:54.689Z"
   },
   {
    "duration": 94,
    "start_time": "2023-06-26T07:24:25.066Z"
   },
   {
    "duration": 215,
    "start_time": "2023-06-26T07:25:14.847Z"
   },
   {
    "duration": 56,
    "start_time": "2023-06-26T07:25:21.538Z"
   },
   {
    "duration": 75,
    "start_time": "2023-06-26T07:25:54.817Z"
   },
   {
    "duration": 46,
    "start_time": "2023-06-26T07:26:03.414Z"
   },
   {
    "duration": 72,
    "start_time": "2023-06-26T07:26:24.092Z"
   },
   {
    "duration": 45,
    "start_time": "2023-06-26T07:26:27.517Z"
   },
   {
    "duration": 79,
    "start_time": "2023-06-26T07:26:46.311Z"
   },
   {
    "duration": 45,
    "start_time": "2023-06-26T07:27:18.762Z"
   },
   {
    "duration": 54,
    "start_time": "2023-06-26T07:28:05.916Z"
   },
   {
    "duration": 81,
    "start_time": "2023-06-26T07:28:34.295Z"
   },
   {
    "duration": 55,
    "start_time": "2023-06-26T07:28:45.757Z"
   },
   {
    "duration": 56,
    "start_time": "2023-06-26T07:29:26.128Z"
   },
   {
    "duration": 85,
    "start_time": "2023-06-26T07:29:35.168Z"
   },
   {
    "duration": 44,
    "start_time": "2023-06-26T07:29:40.128Z"
   },
   {
    "duration": 57,
    "start_time": "2023-06-26T07:29:48.944Z"
   },
   {
    "duration": 71,
    "start_time": "2023-06-26T07:29:59.001Z"
   },
   {
    "duration": 75,
    "start_time": "2023-06-26T07:31:39.725Z"
   },
   {
    "duration": 69,
    "start_time": "2023-06-26T07:31:54.352Z"
   },
   {
    "duration": 74,
    "start_time": "2023-06-26T07:38:17.626Z"
   },
   {
    "duration": 66,
    "start_time": "2023-06-26T07:38:26.566Z"
   },
   {
    "duration": 155,
    "start_time": "2023-06-26T07:39:11.224Z"
   },
   {
    "duration": 46,
    "start_time": "2023-06-26T07:39:21.411Z"
   },
   {
    "duration": 75,
    "start_time": "2023-06-26T07:39:31.217Z"
   },
   {
    "duration": 46,
    "start_time": "2023-06-26T07:39:42.720Z"
   },
   {
    "duration": 167,
    "start_time": "2023-06-26T07:40:00.265Z"
   },
   {
    "duration": 49,
    "start_time": "2023-06-26T07:40:07.292Z"
   },
   {
    "duration": 216,
    "start_time": "2023-06-26T07:40:21.315Z"
   },
   {
    "duration": 78,
    "start_time": "2023-06-26T07:41:52.421Z"
   },
   {
    "duration": 49,
    "start_time": "2023-06-26T07:41:59.600Z"
   },
   {
    "duration": 103,
    "start_time": "2023-06-26T07:42:52.851Z"
   },
   {
    "duration": 110,
    "start_time": "2023-06-26T07:43:10.021Z"
   },
   {
    "duration": 62,
    "start_time": "2023-06-26T07:43:16.540Z"
   },
   {
    "duration": 56,
    "start_time": "2023-06-26T07:43:24.583Z"
   },
   {
    "duration": 60,
    "start_time": "2023-06-26T07:43:41.624Z"
   },
   {
    "duration": 57,
    "start_time": "2023-06-26T07:44:12.300Z"
   },
   {
    "duration": 58,
    "start_time": "2023-06-26T07:44:16.051Z"
   },
   {
    "duration": 57,
    "start_time": "2023-06-26T07:44:30.585Z"
   },
   {
    "duration": 60,
    "start_time": "2023-06-26T07:47:30.521Z"
   },
   {
    "duration": 88,
    "start_time": "2023-06-26T07:47:39.146Z"
   },
   {
    "duration": 93,
    "start_time": "2023-06-26T07:47:52.959Z"
   },
   {
    "duration": 535,
    "start_time": "2023-06-26T07:48:30.897Z"
   },
   {
    "duration": 4,
    "start_time": "2023-06-26T07:48:31.434Z"
   },
   {
    "duration": 37851,
    "start_time": "2023-06-26T07:48:31.439Z"
   },
   {
    "duration": 255,
    "start_time": "2023-06-26T07:49:09.293Z"
   },
   {
    "duration": 181,
    "start_time": "2023-06-26T07:49:09.550Z"
   },
   {
    "duration": 95,
    "start_time": "2023-06-26T07:51:07.322Z"
   },
   {
    "duration": 112,
    "start_time": "2023-06-26T07:52:51.040Z"
   },
   {
    "duration": 119,
    "start_time": "2023-06-26T07:53:12.017Z"
   },
   {
    "duration": 151,
    "start_time": "2023-06-26T07:54:32.424Z"
   },
   {
    "duration": 71,
    "start_time": "2023-06-26T07:55:17.856Z"
   },
   {
    "duration": 147,
    "start_time": "2023-06-26T07:55:26.091Z"
   },
   {
    "duration": 84,
    "start_time": "2023-06-26T07:55:42.043Z"
   },
   {
    "duration": 82,
    "start_time": "2023-06-26T07:55:51.156Z"
   },
   {
    "duration": 67,
    "start_time": "2023-06-26T07:58:27.659Z"
   },
   {
    "duration": 78,
    "start_time": "2023-06-26T07:59:38.858Z"
   },
   {
    "duration": 61,
    "start_time": "2023-06-26T07:59:46.700Z"
   },
   {
    "duration": 231,
    "start_time": "2023-06-26T07:59:51.071Z"
   },
   {
    "duration": 165,
    "start_time": "2023-06-26T07:59:56.847Z"
   },
   {
    "duration": 164,
    "start_time": "2023-06-26T08:00:14.739Z"
   },
   {
    "duration": 72,
    "start_time": "2023-06-26T08:00:29.112Z"
   },
   {
    "duration": 58,
    "start_time": "2023-06-26T08:00:54.238Z"
   },
   {
    "duration": 64,
    "start_time": "2023-06-26T08:01:00.671Z"
   },
   {
    "duration": 59,
    "start_time": "2023-06-26T08:01:02.671Z"
   },
   {
    "duration": 58,
    "start_time": "2023-06-26T08:01:18.704Z"
   },
   {
    "duration": 62,
    "start_time": "2023-06-26T08:01:32.533Z"
   },
   {
    "duration": 82,
    "start_time": "2023-06-26T08:02:22.007Z"
   },
   {
    "duration": 64,
    "start_time": "2023-06-26T08:02:31.312Z"
   },
   {
    "duration": 1291,
    "start_time": "2023-06-26T08:02:54.704Z"
   },
   {
    "duration": 67,
    "start_time": "2023-06-26T08:03:08.122Z"
   },
   {
    "duration": 58,
    "start_time": "2023-06-26T08:03:17.293Z"
   },
   {
    "duration": 57,
    "start_time": "2023-06-26T08:03:34.100Z"
   },
   {
    "duration": 66,
    "start_time": "2023-06-26T08:03:36.165Z"
   },
   {
    "duration": 57,
    "start_time": "2023-06-26T08:03:43.100Z"
   },
   {
    "duration": 73,
    "start_time": "2023-06-26T08:03:47.641Z"
   },
   {
    "duration": 57,
    "start_time": "2023-06-26T08:14:36.615Z"
   },
   {
    "duration": 57,
    "start_time": "2023-06-26T08:14:41.269Z"
   },
   {
    "duration": 58,
    "start_time": "2023-06-26T08:14:43.000Z"
   },
   {
    "duration": 81,
    "start_time": "2023-06-26T08:15:37.101Z"
   },
   {
    "duration": 47,
    "start_time": "2023-06-26T08:15:51.077Z"
   },
   {
    "duration": 66,
    "start_time": "2023-06-26T08:16:47.749Z"
   },
   {
    "duration": 75,
    "start_time": "2023-06-26T08:19:27.401Z"
   },
   {
    "duration": 63,
    "start_time": "2023-06-26T08:19:34.694Z"
   },
   {
    "duration": 159,
    "start_time": "2023-06-26T08:20:02.230Z"
   },
   {
    "duration": 138,
    "start_time": "2023-06-26T08:20:20.998Z"
   },
   {
    "duration": 75,
    "start_time": "2023-06-26T08:20:34.528Z"
   },
   {
    "duration": 50,
    "start_time": "2023-06-26T08:20:59.226Z"
   },
   {
    "duration": 68,
    "start_time": "2023-06-26T08:21:24.871Z"
   },
   {
    "duration": 74,
    "start_time": "2023-06-26T08:21:27.200Z"
   },
   {
    "duration": 62,
    "start_time": "2023-06-26T08:25:10.931Z"
   },
   {
    "duration": 118,
    "start_time": "2023-06-26T09:19:27.088Z"
   },
   {
    "duration": 63,
    "start_time": "2023-06-26T09:19:44.810Z"
   },
   {
    "duration": 70,
    "start_time": "2023-06-26T09:19:50.434Z"
   },
   {
    "duration": 65,
    "start_time": "2023-06-26T09:20:04.308Z"
   },
   {
    "duration": 58,
    "start_time": "2023-06-26T09:20:06.299Z"
   },
   {
    "duration": 70,
    "start_time": "2023-06-26T09:20:18.051Z"
   },
   {
    "duration": 78,
    "start_time": "2023-06-26T09:21:18.462Z"
   },
   {
    "duration": 67,
    "start_time": "2023-06-26T09:21:53.542Z"
   },
   {
    "duration": 67,
    "start_time": "2023-06-26T09:22:04.911Z"
   },
   {
    "duration": 65,
    "start_time": "2023-06-26T09:22:07.095Z"
   },
   {
    "duration": 71,
    "start_time": "2023-06-26T09:22:15.099Z"
   },
   {
    "duration": 62,
    "start_time": "2023-06-26T09:22:28.333Z"
   },
   {
    "duration": 63,
    "start_time": "2023-06-26T09:22:32.694Z"
   },
   {
    "duration": 70,
    "start_time": "2023-06-26T09:22:42.595Z"
   },
   {
    "duration": 83,
    "start_time": "2023-06-26T09:23:25.336Z"
   },
   {
    "duration": 63,
    "start_time": "2023-06-26T09:23:47.840Z"
   },
   {
    "duration": 72,
    "start_time": "2023-06-26T09:23:53.491Z"
   },
   {
    "duration": 76,
    "start_time": "2023-06-26T09:23:56.303Z"
   },
   {
    "duration": 73,
    "start_time": "2023-06-26T09:24:06.838Z"
   },
   {
    "duration": 73,
    "start_time": "2023-06-26T09:24:09.021Z"
   },
   {
    "duration": 73,
    "start_time": "2023-06-26T09:25:49.018Z"
   },
   {
    "duration": 77,
    "start_time": "2023-06-26T09:26:24.653Z"
   },
   {
    "duration": 89,
    "start_time": "2023-06-26T09:36:00.929Z"
   },
   {
    "duration": 73,
    "start_time": "2023-06-26T09:36:04.691Z"
   },
   {
    "duration": 73,
    "start_time": "2023-06-26T09:36:10.430Z"
   },
   {
    "duration": 75,
    "start_time": "2023-06-26T09:36:12.599Z"
   },
   {
    "duration": 78,
    "start_time": "2023-06-26T09:36:16.203Z"
   },
   {
    "duration": 70,
    "start_time": "2023-06-26T09:36:20.336Z"
   },
   {
    "duration": 71,
    "start_time": "2023-06-26T09:36:29.534Z"
   },
   {
    "duration": 74,
    "start_time": "2023-06-26T09:36:31.725Z"
   },
   {
    "duration": 69,
    "start_time": "2023-06-26T09:37:08.903Z"
   },
   {
    "duration": 70,
    "start_time": "2023-06-26T09:37:16.060Z"
   },
   {
    "duration": 63,
    "start_time": "2023-06-26T09:38:07.099Z"
   },
   {
    "duration": 79,
    "start_time": "2023-06-26T09:38:45.150Z"
   },
   {
    "duration": 145,
    "start_time": "2023-06-26T09:38:59.327Z"
   },
   {
    "duration": 80,
    "start_time": "2023-06-26T09:39:03.433Z"
   },
   {
    "duration": 85,
    "start_time": "2023-06-26T09:39:53.092Z"
   },
   {
    "duration": 83,
    "start_time": "2023-06-26T09:40:35.728Z"
   },
   {
    "duration": 83,
    "start_time": "2023-06-26T09:40:41.241Z"
   },
   {
    "duration": 71,
    "start_time": "2023-06-26T09:40:53.908Z"
   },
   {
    "duration": 81,
    "start_time": "2023-06-26T09:41:22.719Z"
   },
   {
    "duration": 95,
    "start_time": "2023-06-26T09:42:10.632Z"
   },
   {
    "duration": 67,
    "start_time": "2023-06-26T09:42:19.048Z"
   },
   {
    "duration": 213,
    "start_time": "2023-06-26T09:42:26.860Z"
   },
   {
    "duration": 200,
    "start_time": "2023-06-26T09:43:15.461Z"
   },
   {
    "duration": 109,
    "start_time": "2023-06-26T09:43:27.594Z"
   },
   {
    "duration": 84,
    "start_time": "2023-06-26T09:43:55.764Z"
   },
   {
    "duration": 93,
    "start_time": "2023-06-26T09:43:57.835Z"
   },
   {
    "duration": 82,
    "start_time": "2023-06-26T09:45:44.063Z"
   },
   {
    "duration": 64,
    "start_time": "2023-06-26T09:46:42.450Z"
   },
   {
    "duration": 62,
    "start_time": "2023-06-26T09:46:53.935Z"
   },
   {
    "duration": 178,
    "start_time": "2023-06-26T09:47:08.456Z"
   },
   {
    "duration": 195,
    "start_time": "2023-06-26T09:47:20.055Z"
   },
   {
    "duration": 53,
    "start_time": "2023-06-26T09:48:14.188Z"
   },
   {
    "duration": 63,
    "start_time": "2023-06-26T09:48:43.504Z"
   },
   {
    "duration": 61,
    "start_time": "2023-06-26T09:48:58.847Z"
   },
   {
    "duration": 70,
    "start_time": "2023-06-26T09:49:00.821Z"
   },
   {
    "duration": 497,
    "start_time": "2023-06-26T10:44:15.182Z"
   },
   {
    "duration": 3,
    "start_time": "2023-06-26T10:44:15.681Z"
   },
   {
    "duration": 13732,
    "start_time": "2023-06-26T10:44:15.686Z"
   },
   {
    "duration": 235,
    "start_time": "2023-06-26T10:44:29.419Z"
   },
   {
    "duration": 133,
    "start_time": "2023-06-26T10:44:29.656Z"
   },
   {
    "duration": 55,
    "start_time": "2023-06-26T10:44:29.790Z"
   },
   {
    "duration": 63,
    "start_time": "2023-06-26T10:44:29.846Z"
   },
   {
    "duration": 63,
    "start_time": "2023-06-26T10:44:29.911Z"
   },
   {
    "duration": 3,
    "start_time": "2023-06-26T10:44:29.976Z"
   },
   {
    "duration": 230,
    "start_time": "2023-06-26T10:44:31.935Z"
   },
   {
    "duration": 138,
    "start_time": "2023-06-26T10:44:33.005Z"
   },
   {
    "duration": 57,
    "start_time": "2023-06-26T10:44:33.505Z"
   },
   {
    "duration": 62,
    "start_time": "2023-06-26T10:44:34.226Z"
   },
   {
    "duration": 61,
    "start_time": "2023-06-26T10:44:34.883Z"
   },
   {
    "duration": 56,
    "start_time": "2023-06-26T10:45:18.593Z"
   },
   {
    "duration": 55,
    "start_time": "2023-06-26T10:45:54.006Z"
   },
   {
    "duration": 55,
    "start_time": "2023-06-26T10:45:54.346Z"
   },
   {
    "duration": 55,
    "start_time": "2023-06-26T10:45:54.726Z"
   },
   {
    "duration": 56,
    "start_time": "2023-06-26T10:45:55.205Z"
   },
   {
    "duration": 53,
    "start_time": "2023-06-26T10:47:11.224Z"
   },
   {
    "duration": 546,
    "start_time": "2023-06-26T13:04:51.769Z"
   },
   {
    "duration": 4,
    "start_time": "2023-06-26T13:04:52.317Z"
   },
   {
    "duration": 30186,
    "start_time": "2023-06-26T13:04:52.323Z"
   },
   {
    "duration": 269,
    "start_time": "2023-06-26T13:05:22.511Z"
   },
   {
    "duration": 134,
    "start_time": "2023-06-26T13:05:22.782Z"
   },
   {
    "duration": 66,
    "start_time": "2023-06-26T13:05:22.919Z"
   },
   {
    "duration": 55,
    "start_time": "2023-06-26T13:05:22.988Z"
   },
   {
    "duration": 55,
    "start_time": "2023-06-26T13:05:23.045Z"
   },
   {
    "duration": 61,
    "start_time": "2023-06-26T13:05:23.102Z"
   },
   {
    "duration": 58,
    "start_time": "2023-06-26T13:05:23.169Z"
   },
   {
    "duration": 61,
    "start_time": "2023-06-26T13:05:23.229Z"
   },
   {
    "duration": 60,
    "start_time": "2023-06-26T13:05:23.291Z"
   },
   {
    "duration": 68,
    "start_time": "2023-06-26T13:05:23.353Z"
   },
   {
    "duration": 83,
    "start_time": "2023-06-26T13:05:57.713Z"
   },
   {
    "duration": 496,
    "start_time": "2023-07-27T19:23:54.752Z"
   },
   {
    "duration": 2,
    "start_time": "2023-07-27T19:23:55.250Z"
   },
   {
    "duration": 12212,
    "start_time": "2023-07-27T19:23:55.253Z"
   },
   {
    "duration": 313,
    "start_time": "2023-07-27T19:24:07.467Z"
   },
   {
    "duration": 156,
    "start_time": "2023-07-27T19:24:07.782Z"
   },
   {
    "duration": 58,
    "start_time": "2023-07-27T19:24:07.940Z"
   },
   {
    "duration": 61,
    "start_time": "2023-07-27T19:24:08.000Z"
   },
   {
    "duration": 53,
    "start_time": "2023-07-27T19:24:08.062Z"
   },
   {
    "duration": 54,
    "start_time": "2023-07-27T19:24:08.117Z"
   },
   {
    "duration": 88,
    "start_time": "2023-07-27T19:24:08.172Z"
   },
   {
    "duration": 53,
    "start_time": "2023-07-27T19:24:08.262Z"
   },
   {
    "duration": 60,
    "start_time": "2023-07-27T19:24:08.317Z"
   },
   {
    "duration": 65,
    "start_time": "2023-07-27T19:24:08.378Z"
   },
   {
    "duration": 3,
    "start_time": "2023-07-27T19:24:11.059Z"
   },
   {
    "duration": 3,
    "start_time": "2023-07-27T19:24:11.355Z"
   },
   {
    "duration": 3,
    "start_time": "2023-07-27T19:24:11.771Z"
   },
   {
    "duration": 256,
    "start_time": "2023-07-27T19:24:12.514Z"
   },
   {
    "duration": 145,
    "start_time": "2023-07-27T19:24:12.811Z"
   },
   {
    "duration": 51,
    "start_time": "2023-07-27T19:24:13.847Z"
   },
   {
    "duration": 51,
    "start_time": "2023-07-27T19:24:14.347Z"
   },
   {
    "duration": 55,
    "start_time": "2023-07-27T19:24:14.818Z"
   },
   {
    "duration": 51,
    "start_time": "2023-07-27T19:24:16.094Z"
   },
   {
    "duration": 91,
    "start_time": "2023-07-27T19:24:16.875Z"
   },
   {
    "duration": 54,
    "start_time": "2023-07-27T19:24:17.751Z"
   },
   {
    "duration": 61,
    "start_time": "2023-07-27T19:33:21.156Z"
   },
   {
    "duration": 59,
    "start_time": "2023-07-27T19:33:49.209Z"
   },
   {
    "duration": 132,
    "start_time": "2023-07-27T19:34:06.399Z"
   },
   {
    "duration": 53,
    "start_time": "2023-07-27T19:34:13.687Z"
   }
  ],
  "kernelspec": {
   "display_name": "Python 3",
   "language": "python",
   "name": "python3"
  },
  "language_info": {
   "codemirror_mode": {
    "name": "ipython",
    "version": 3
   },
   "file_extension": ".py",
   "mimetype": "text/x-python",
   "name": "python",
   "nbconvert_exporter": "python",
   "pygments_lexer": "ipython3",
   "version": "3.8.3"
  },
  "toc": {
   "base_numbering": 1,
   "nav_menu": {},
   "number_sections": true,
   "sideBar": true,
   "skip_h1_title": true,
   "title_cell": "Table of Contents",
   "title_sidebar": "Contents",
   "toc_cell": false,
   "toc_position": {},
   "toc_section_display": true,
   "toc_window_display": true
  }
 },
 "nbformat": 4,
 "nbformat_minor": 2
}
