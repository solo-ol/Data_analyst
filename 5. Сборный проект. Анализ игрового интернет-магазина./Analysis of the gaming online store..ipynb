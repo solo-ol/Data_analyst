{
 "cells": [
  {
   "cell_type": "markdown",
   "metadata": {},
   "source": [
    "# Сборный проект\n",
    "\n",
    "Вы работаете в интернет-магазине «Стримчик», который продаёт по всему миру компьютерные игры. Из открытых источников доступны исторические данные о продажах игр, оценки пользователей и экспертов, жанры и платформы (например, Xbox или PlayStation). Вам нужно выявить определяющие успешность игры закономерности. Это позволит сделать ставку на потенциально популярный продукт и спланировать рекламные кампании.\n",
    "\n",
    "Перед вами данные до 2016 года. Представим, что сейчас декабрь 2016 г., и вы планируете кампанию на 2017-й. Нужно отработать принцип работы с данными. Неважно, прогнозируете ли вы продажи на 2017 год по данным 2016-го или же 2027-й — по данным 2026 года.\n",
    "\n",
    "В наборе данных попадается аббревиатура ESRB (Entertainment Software Rating Board) — это ассоциация, определяющая возрастной рейтинг компьютерных игр. ESRB оценивает игровой контент и присваивает ему подходящую возрастную категорию, например, «Для взрослых», «Для детей младшего возраста» или «Для подростков»."
   ]
  },
  {
   "cell_type": "code",
   "execution_count": 1,
   "metadata": {},
   "outputs": [],
   "source": [
    "import pandas as pd\n",
    "import numpy as np\n",
    "import seaborn as sns\n",
    "import matplotlib.pyplot as plt\n",
    "from scipy import stats as st"
   ]
  },
  {
   "cell_type": "code",
   "execution_count": 2,
   "metadata": {},
   "outputs": [],
   "source": [
    "data = pd.read_csv('/datasets/games.csv')"
   ]
  },
  {
   "cell_type": "code",
   "execution_count": 3,
   "metadata": {},
   "outputs": [
    {
     "name": "stdout",
     "output_type": "stream",
     "text": [
      "<class 'pandas.core.frame.DataFrame'>\n",
      "RangeIndex: 16715 entries, 0 to 16714\n",
      "Data columns (total 11 columns):\n",
      " #   Column           Non-Null Count  Dtype  \n",
      "---  ------           --------------  -----  \n",
      " 0   Name             16713 non-null  object \n",
      " 1   Platform         16715 non-null  object \n",
      " 2   Year_of_Release  16446 non-null  float64\n",
      " 3   Genre            16713 non-null  object \n",
      " 4   NA_sales         16715 non-null  float64\n",
      " 5   EU_sales         16715 non-null  float64\n",
      " 6   JP_sales         16715 non-null  float64\n",
      " 7   Other_sales      16715 non-null  float64\n",
      " 8   Critic_Score     8137 non-null   float64\n",
      " 9   User_Score       10014 non-null  object \n",
      " 10  Rating           9949 non-null   object \n",
      "dtypes: float64(6), object(5)\n",
      "memory usage: 1.4+ MB\n"
     ]
    },
    {
     "data": {
      "text/html": [
       "<div>\n",
       "<style scoped>\n",
       "    .dataframe tbody tr th:only-of-type {\n",
       "        vertical-align: middle;\n",
       "    }\n",
       "\n",
       "    .dataframe tbody tr th {\n",
       "        vertical-align: top;\n",
       "    }\n",
       "\n",
       "    .dataframe thead th {\n",
       "        text-align: right;\n",
       "    }\n",
       "</style>\n",
       "<table border=\"1\" class=\"dataframe\">\n",
       "  <thead>\n",
       "    <tr style=\"text-align: right;\">\n",
       "      <th></th>\n",
       "      <th>Name</th>\n",
       "      <th>Platform</th>\n",
       "      <th>Year_of_Release</th>\n",
       "      <th>Genre</th>\n",
       "      <th>NA_sales</th>\n",
       "      <th>EU_sales</th>\n",
       "      <th>JP_sales</th>\n",
       "      <th>Other_sales</th>\n",
       "      <th>Critic_Score</th>\n",
       "      <th>User_Score</th>\n",
       "      <th>Rating</th>\n",
       "    </tr>\n",
       "  </thead>\n",
       "  <tbody>\n",
       "    <tr>\n",
       "      <th>0</th>\n",
       "      <td>Wii Sports</td>\n",
       "      <td>Wii</td>\n",
       "      <td>2006.0</td>\n",
       "      <td>Sports</td>\n",
       "      <td>41.36</td>\n",
       "      <td>28.96</td>\n",
       "      <td>3.77</td>\n",
       "      <td>8.45</td>\n",
       "      <td>76.0</td>\n",
       "      <td>8</td>\n",
       "      <td>E</td>\n",
       "    </tr>\n",
       "    <tr>\n",
       "      <th>1</th>\n",
       "      <td>Super Mario Bros.</td>\n",
       "      <td>NES</td>\n",
       "      <td>1985.0</td>\n",
       "      <td>Platform</td>\n",
       "      <td>29.08</td>\n",
       "      <td>3.58</td>\n",
       "      <td>6.81</td>\n",
       "      <td>0.77</td>\n",
       "      <td>NaN</td>\n",
       "      <td>NaN</td>\n",
       "      <td>NaN</td>\n",
       "    </tr>\n",
       "    <tr>\n",
       "      <th>2</th>\n",
       "      <td>Mario Kart Wii</td>\n",
       "      <td>Wii</td>\n",
       "      <td>2008.0</td>\n",
       "      <td>Racing</td>\n",
       "      <td>15.68</td>\n",
       "      <td>12.76</td>\n",
       "      <td>3.79</td>\n",
       "      <td>3.29</td>\n",
       "      <td>82.0</td>\n",
       "      <td>8.3</td>\n",
       "      <td>E</td>\n",
       "    </tr>\n",
       "    <tr>\n",
       "      <th>3</th>\n",
       "      <td>Wii Sports Resort</td>\n",
       "      <td>Wii</td>\n",
       "      <td>2009.0</td>\n",
       "      <td>Sports</td>\n",
       "      <td>15.61</td>\n",
       "      <td>10.93</td>\n",
       "      <td>3.28</td>\n",
       "      <td>2.95</td>\n",
       "      <td>80.0</td>\n",
       "      <td>8</td>\n",
       "      <td>E</td>\n",
       "    </tr>\n",
       "    <tr>\n",
       "      <th>4</th>\n",
       "      <td>Pokemon Red/Pokemon Blue</td>\n",
       "      <td>GB</td>\n",
       "      <td>1996.0</td>\n",
       "      <td>Role-Playing</td>\n",
       "      <td>11.27</td>\n",
       "      <td>8.89</td>\n",
       "      <td>10.22</td>\n",
       "      <td>1.00</td>\n",
       "      <td>NaN</td>\n",
       "      <td>NaN</td>\n",
       "      <td>NaN</td>\n",
       "    </tr>\n",
       "    <tr>\n",
       "      <th>5</th>\n",
       "      <td>Tetris</td>\n",
       "      <td>GB</td>\n",
       "      <td>1989.0</td>\n",
       "      <td>Puzzle</td>\n",
       "      <td>23.20</td>\n",
       "      <td>2.26</td>\n",
       "      <td>4.22</td>\n",
       "      <td>0.58</td>\n",
       "      <td>NaN</td>\n",
       "      <td>NaN</td>\n",
       "      <td>NaN</td>\n",
       "    </tr>\n",
       "    <tr>\n",
       "      <th>6</th>\n",
       "      <td>New Super Mario Bros.</td>\n",
       "      <td>DS</td>\n",
       "      <td>2006.0</td>\n",
       "      <td>Platform</td>\n",
       "      <td>11.28</td>\n",
       "      <td>9.14</td>\n",
       "      <td>6.50</td>\n",
       "      <td>2.88</td>\n",
       "      <td>89.0</td>\n",
       "      <td>8.5</td>\n",
       "      <td>E</td>\n",
       "    </tr>\n",
       "    <tr>\n",
       "      <th>7</th>\n",
       "      <td>Wii Play</td>\n",
       "      <td>Wii</td>\n",
       "      <td>2006.0</td>\n",
       "      <td>Misc</td>\n",
       "      <td>13.96</td>\n",
       "      <td>9.18</td>\n",
       "      <td>2.93</td>\n",
       "      <td>2.84</td>\n",
       "      <td>58.0</td>\n",
       "      <td>6.6</td>\n",
       "      <td>E</td>\n",
       "    </tr>\n",
       "    <tr>\n",
       "      <th>8</th>\n",
       "      <td>New Super Mario Bros. Wii</td>\n",
       "      <td>Wii</td>\n",
       "      <td>2009.0</td>\n",
       "      <td>Platform</td>\n",
       "      <td>14.44</td>\n",
       "      <td>6.94</td>\n",
       "      <td>4.70</td>\n",
       "      <td>2.24</td>\n",
       "      <td>87.0</td>\n",
       "      <td>8.4</td>\n",
       "      <td>E</td>\n",
       "    </tr>\n",
       "    <tr>\n",
       "      <th>9</th>\n",
       "      <td>Duck Hunt</td>\n",
       "      <td>NES</td>\n",
       "      <td>1984.0</td>\n",
       "      <td>Shooter</td>\n",
       "      <td>26.93</td>\n",
       "      <td>0.63</td>\n",
       "      <td>0.28</td>\n",
       "      <td>0.47</td>\n",
       "      <td>NaN</td>\n",
       "      <td>NaN</td>\n",
       "      <td>NaN</td>\n",
       "    </tr>\n",
       "  </tbody>\n",
       "</table>\n",
       "</div>"
      ],
      "text/plain": [
       "                        Name Platform  Year_of_Release         Genre  \\\n",
       "0                 Wii Sports      Wii           2006.0        Sports   \n",
       "1          Super Mario Bros.      NES           1985.0      Platform   \n",
       "2             Mario Kart Wii      Wii           2008.0        Racing   \n",
       "3          Wii Sports Resort      Wii           2009.0        Sports   \n",
       "4   Pokemon Red/Pokemon Blue       GB           1996.0  Role-Playing   \n",
       "5                     Tetris       GB           1989.0        Puzzle   \n",
       "6      New Super Mario Bros.       DS           2006.0      Platform   \n",
       "7                   Wii Play      Wii           2006.0          Misc   \n",
       "8  New Super Mario Bros. Wii      Wii           2009.0      Platform   \n",
       "9                  Duck Hunt      NES           1984.0       Shooter   \n",
       "\n",
       "   NA_sales  EU_sales  JP_sales  Other_sales  Critic_Score User_Score Rating  \n",
       "0     41.36     28.96      3.77         8.45          76.0          8      E  \n",
       "1     29.08      3.58      6.81         0.77           NaN        NaN    NaN  \n",
       "2     15.68     12.76      3.79         3.29          82.0        8.3      E  \n",
       "3     15.61     10.93      3.28         2.95          80.0          8      E  \n",
       "4     11.27      8.89     10.22         1.00           NaN        NaN    NaN  \n",
       "5     23.20      2.26      4.22         0.58           NaN        NaN    NaN  \n",
       "6     11.28      9.14      6.50         2.88          89.0        8.5      E  \n",
       "7     13.96      9.18      2.93         2.84          58.0        6.6      E  \n",
       "8     14.44      6.94      4.70         2.24          87.0        8.4      E  \n",
       "9     26.93      0.63      0.28         0.47           NaN        NaN    NaN  "
      ]
     },
     "execution_count": 3,
     "metadata": {},
     "output_type": "execute_result"
    },
    {
     "data": {
      "image/png": "[encoded data removed]",
      "text/plain": [
       "<Figure size 1080x1440 with 6 Axes>"
      ]
     },
     "metadata": {
      "needs_background": "light"
     },
     "output_type": "display_data"
    }
   ],
   "source": [
    "data.info() #общая информация о датафрейме\n",
    "data.hist(figsize=(15,20)) # выводим гистограмы\n",
    "data.head(10)"
   ]
  },
  {
   "cell_type": "markdown",
   "metadata": {},
   "source": [
    "<p>\n",
    "<div class=\"alert-info\">\n",
    "\n",
    "Изучил основную информацию о данных в датафрейме.\n",
    "\n",
    "Из полученной информации можно увидеть множество пропусков, с которыми надо будет поработать. Так же в некоторых столбцах необходимо будет изменить тип данных.\n",
    "\n",
    "Название столбцов привести к нижнему регистру для удобства и меньшей вероятности ошибиться.\n",
    "\n",
    "Далее буду выяснять причины пропусков и каким образом стоит их заполнить.</div>"
   ]
  },
  {
   "cell_type": "code",
   "execution_count": 4,
   "metadata": {},
   "outputs": [
    {
     "data": {
      "text/html": [
       "<div>\n",
       "<style scoped>\n",
       "    .dataframe tbody tr th:only-of-type {\n",
       "        vertical-align: middle;\n",
       "    }\n",
       "\n",
       "    .dataframe tbody tr th {\n",
       "        vertical-align: top;\n",
       "    }\n",
       "\n",
       "    .dataframe thead th {\n",
       "        text-align: right;\n",
       "    }\n",
       "</style>\n",
       "<table border=\"1\" class=\"dataframe\">\n",
       "  <thead>\n",
       "    <tr style=\"text-align: right;\">\n",
       "      <th></th>\n",
       "      <th>name</th>\n",
       "      <th>platform</th>\n",
       "      <th>year_of_release</th>\n",
       "      <th>genre</th>\n",
       "      <th>na_sales</th>\n",
       "      <th>eu_sales</th>\n",
       "      <th>jp_sales</th>\n",
       "      <th>other_sales</th>\n",
       "      <th>critic_score</th>\n",
       "      <th>user_score</th>\n",
       "      <th>rating</th>\n",
       "    </tr>\n",
       "  </thead>\n",
       "  <tbody>\n",
       "    <tr>\n",
       "      <th>0</th>\n",
       "      <td>Wii Sports</td>\n",
       "      <td>Wii</td>\n",
       "      <td>2006.0</td>\n",
       "      <td>Sports</td>\n",
       "      <td>41.36</td>\n",
       "      <td>28.96</td>\n",
       "      <td>3.77</td>\n",
       "      <td>8.45</td>\n",
       "      <td>76.0</td>\n",
       "      <td>8</td>\n",
       "      <td>E</td>\n",
       "    </tr>\n",
       "    <tr>\n",
       "      <th>1</th>\n",
       "      <td>Super Mario Bros.</td>\n",
       "      <td>NES</td>\n",
       "      <td>1985.0</td>\n",
       "      <td>Platform</td>\n",
       "      <td>29.08</td>\n",
       "      <td>3.58</td>\n",
       "      <td>6.81</td>\n",
       "      <td>0.77</td>\n",
       "      <td>NaN</td>\n",
       "      <td>NaN</td>\n",
       "      <td>NaN</td>\n",
       "    </tr>\n",
       "    <tr>\n",
       "      <th>2</th>\n",
       "      <td>Mario Kart Wii</td>\n",
       "      <td>Wii</td>\n",
       "      <td>2008.0</td>\n",
       "      <td>Racing</td>\n",
       "      <td>15.68</td>\n",
       "      <td>12.76</td>\n",
       "      <td>3.79</td>\n",
       "      <td>3.29</td>\n",
       "      <td>82.0</td>\n",
       "      <td>8.3</td>\n",
       "      <td>E</td>\n",
       "    </tr>\n",
       "    <tr>\n",
       "      <th>3</th>\n",
       "      <td>Wii Sports Resort</td>\n",
       "      <td>Wii</td>\n",
       "      <td>2009.0</td>\n",
       "      <td>Sports</td>\n",
       "      <td>15.61</td>\n",
       "      <td>10.93</td>\n",
       "      <td>3.28</td>\n",
       "      <td>2.95</td>\n",
       "      <td>80.0</td>\n",
       "      <td>8</td>\n",
       "      <td>E</td>\n",
       "    </tr>\n",
       "    <tr>\n",
       "      <th>4</th>\n",
       "      <td>Pokemon Red/Pokemon Blue</td>\n",
       "      <td>GB</td>\n",
       "      <td>1996.0</td>\n",
       "      <td>Role-Playing</td>\n",
       "      <td>11.27</td>\n",
       "      <td>8.89</td>\n",
       "      <td>10.22</td>\n",
       "      <td>1.00</td>\n",
       "      <td>NaN</td>\n",
       "      <td>NaN</td>\n",
       "      <td>NaN</td>\n",
       "    </tr>\n",
       "    <tr>\n",
       "      <th>5</th>\n",
       "      <td>Tetris</td>\n",
       "      <td>GB</td>\n",
       "      <td>1989.0</td>\n",
       "      <td>Puzzle</td>\n",
       "      <td>23.20</td>\n",
       "      <td>2.26</td>\n",
       "      <td>4.22</td>\n",
       "      <td>0.58</td>\n",
       "      <td>NaN</td>\n",
       "      <td>NaN</td>\n",
       "      <td>NaN</td>\n",
       "    </tr>\n",
       "    <tr>\n",
       "      <th>6</th>\n",
       "      <td>New Super Mario Bros.</td>\n",
       "      <td>DS</td>\n",
       "      <td>2006.0</td>\n",
       "      <td>Platform</td>\n",
       "      <td>11.28</td>\n",
       "      <td>9.14</td>\n",
       "      <td>6.50</td>\n",
       "      <td>2.88</td>\n",
       "      <td>89.0</td>\n",
       "      <td>8.5</td>\n",
       "      <td>E</td>\n",
       "    </tr>\n",
       "    <tr>\n",
       "      <th>7</th>\n",
       "      <td>Wii Play</td>\n",
       "      <td>Wii</td>\n",
       "      <td>2006.0</td>\n",
       "      <td>Misc</td>\n",
       "      <td>13.96</td>\n",
       "      <td>9.18</td>\n",
       "      <td>2.93</td>\n",
       "      <td>2.84</td>\n",
       "      <td>58.0</td>\n",
       "      <td>6.6</td>\n",
       "      <td>E</td>\n",
       "    </tr>\n",
       "    <tr>\n",
       "      <th>8</th>\n",
       "      <td>New Super Mario Bros. Wii</td>\n",
       "      <td>Wii</td>\n",
       "      <td>2009.0</td>\n",
       "      <td>Platform</td>\n",
       "      <td>14.44</td>\n",
       "      <td>6.94</td>\n",
       "      <td>4.70</td>\n",
       "      <td>2.24</td>\n",
       "      <td>87.0</td>\n",
       "      <td>8.4</td>\n",
       "      <td>E</td>\n",
       "    </tr>\n",
       "    <tr>\n",
       "      <th>9</th>\n",
       "      <td>Duck Hunt</td>\n",
       "      <td>NES</td>\n",
       "      <td>1984.0</td>\n",
       "      <td>Shooter</td>\n",
       "      <td>26.93</td>\n",
       "      <td>0.63</td>\n",
       "      <td>0.28</td>\n",
       "      <td>0.47</td>\n",
       "      <td>NaN</td>\n",
       "      <td>NaN</td>\n",
       "      <td>NaN</td>\n",
       "    </tr>\n",
       "  </tbody>\n",
       "</table>\n",
       "</div>"
      ],
      "text/plain": [
       "                        name platform  year_of_release         genre  \\\n",
       "0                 Wii Sports      Wii           2006.0        Sports   \n",
       "1          Super Mario Bros.      NES           1985.0      Platform   \n",
       "2             Mario Kart Wii      Wii           2008.0        Racing   \n",
       "3          Wii Sports Resort      Wii           2009.0        Sports   \n",
       "4   Pokemon Red/Pokemon Blue       GB           1996.0  Role-Playing   \n",
       "5                     Tetris       GB           1989.0        Puzzle   \n",
       "6      New Super Mario Bros.       DS           2006.0      Platform   \n",
       "7                   Wii Play      Wii           2006.0          Misc   \n",
       "8  New Super Mario Bros. Wii      Wii           2009.0      Platform   \n",
       "9                  Duck Hunt      NES           1984.0       Shooter   \n",
       "\n",
       "   na_sales  eu_sales  jp_sales  other_sales  critic_score user_score rating  \n",
       "0     41.36     28.96      3.77         8.45          76.0          8      E  \n",
       "1     29.08      3.58      6.81         0.77           NaN        NaN    NaN  \n",
       "2     15.68     12.76      3.79         3.29          82.0        8.3      E  \n",
       "3     15.61     10.93      3.28         2.95          80.0          8      E  \n",
       "4     11.27      8.89     10.22         1.00           NaN        NaN    NaN  \n",
       "5     23.20      2.26      4.22         0.58           NaN        NaN    NaN  \n",
       "6     11.28      9.14      6.50         2.88          89.0        8.5      E  \n",
       "7     13.96      9.18      2.93         2.84          58.0        6.6      E  \n",
       "8     14.44      6.94      4.70         2.24          87.0        8.4      E  \n",
       "9     26.93      0.63      0.28         0.47           NaN        NaN    NaN  "
      ]
     },
     "execution_count": 4,
     "metadata": {},
     "output_type": "execute_result"
    }
   ],
   "source": [
    "data.columns = data.columns.str.lower()\n",
    "data.head(10)\n",
    "#data.rename(columns = {'Name':'name','Platform':'platform','Year_of_Release':'year_of_release','Genre':'genre','NA_sales':'na_sales','EU_sales':'eu_sales','JP_sales':'jp_sales','Other_sales':'other_sales','Critic_Score':'critic_score','User_Score':'user_score','Rating':'rating'}, inplace = True)\n",
    "#ручной вариант смены регистра"
   ]
  },
  {
   "cell_type": "markdown",
   "metadata": {},
   "source": [
    "<p>\n",
    "<div class=\"alert-info\">\n",
    "\n",
    "Изменил с помощью метода str.lower() названия столбцов в нижний регистр.</div>"
   ]
  },
  {
   "cell_type": "code",
   "execution_count": 5,
   "metadata": {},
   "outputs": [
    {
     "name": "stdout",
     "output_type": "stream",
     "text": [
      "<class 'pandas.core.frame.DataFrame'>\n",
      "RangeIndex: 16715 entries, 0 to 16714\n",
      "Data columns (total 11 columns):\n",
      " #   Column           Non-Null Count  Dtype  \n",
      "---  ------           --------------  -----  \n",
      " 0   name             16713 non-null  object \n",
      " 1   platform         16715 non-null  object \n",
      " 2   year_of_release  16446 non-null  Int32  \n",
      " 3   genre            16713 non-null  object \n",
      " 4   na_sales         16715 non-null  float64\n",
      " 5   eu_sales         16715 non-null  float64\n",
      " 6   jp_sales         16715 non-null  float64\n",
      " 7   other_sales      16715 non-null  float64\n",
      " 8   critic_score     8137 non-null   float64\n",
      " 9   user_score       7590 non-null   float64\n",
      " 10  rating           16715 non-null  object \n",
      "dtypes: Int32(1), float64(6), object(4)\n",
      "memory usage: 1.4+ MB\n"
     ]
    },
    {
     "data": {
      "text/html": [
       "<div>\n",
       "<style scoped>\n",
       "    .dataframe tbody tr th:only-of-type {\n",
       "        vertical-align: middle;\n",
       "    }\n",
       "\n",
       "    .dataframe tbody tr th {\n",
       "        vertical-align: top;\n",
       "    }\n",
       "\n",
       "    .dataframe thead th {\n",
       "        text-align: right;\n",
       "    }\n",
       "</style>\n",
       "<table border=\"1\" class=\"dataframe\">\n",
       "  <thead>\n",
       "    <tr style=\"text-align: right;\">\n",
       "      <th></th>\n",
       "      <th>name</th>\n",
       "      <th>platform</th>\n",
       "      <th>year_of_release</th>\n",
       "      <th>genre</th>\n",
       "      <th>na_sales</th>\n",
       "      <th>eu_sales</th>\n",
       "      <th>jp_sales</th>\n",
       "      <th>other_sales</th>\n",
       "      <th>critic_score</th>\n",
       "      <th>user_score</th>\n",
       "      <th>rating</th>\n",
       "    </tr>\n",
       "  </thead>\n",
       "  <tbody>\n",
       "    <tr>\n",
       "      <th>0</th>\n",
       "      <td>Wii Sports</td>\n",
       "      <td>Wii</td>\n",
       "      <td>2006</td>\n",
       "      <td>Sports</td>\n",
       "      <td>41.36</td>\n",
       "      <td>28.96</td>\n",
       "      <td>3.77</td>\n",
       "      <td>8.45</td>\n",
       "      <td>76.0</td>\n",
       "      <td>8.0</td>\n",
       "      <td>E</td>\n",
       "    </tr>\n",
       "    <tr>\n",
       "      <th>1</th>\n",
       "      <td>Super Mario Bros.</td>\n",
       "      <td>NES</td>\n",
       "      <td>1985</td>\n",
       "      <td>Platform</td>\n",
       "      <td>29.08</td>\n",
       "      <td>3.58</td>\n",
       "      <td>6.81</td>\n",
       "      <td>0.77</td>\n",
       "      <td>NaN</td>\n",
       "      <td>NaN</td>\n",
       "      <td>Other</td>\n",
       "    </tr>\n",
       "    <tr>\n",
       "      <th>2</th>\n",
       "      <td>Mario Kart Wii</td>\n",
       "      <td>Wii</td>\n",
       "      <td>2008</td>\n",
       "      <td>Racing</td>\n",
       "      <td>15.68</td>\n",
       "      <td>12.76</td>\n",
       "      <td>3.79</td>\n",
       "      <td>3.29</td>\n",
       "      <td>82.0</td>\n",
       "      <td>8.3</td>\n",
       "      <td>E</td>\n",
       "    </tr>\n",
       "    <tr>\n",
       "      <th>3</th>\n",
       "      <td>Wii Sports Resort</td>\n",
       "      <td>Wii</td>\n",
       "      <td>2009</td>\n",
       "      <td>Sports</td>\n",
       "      <td>15.61</td>\n",
       "      <td>10.93</td>\n",
       "      <td>3.28</td>\n",
       "      <td>2.95</td>\n",
       "      <td>80.0</td>\n",
       "      <td>8.0</td>\n",
       "      <td>E</td>\n",
       "    </tr>\n",
       "    <tr>\n",
       "      <th>4</th>\n",
       "      <td>Pokemon Red/Pokemon Blue</td>\n",
       "      <td>GB</td>\n",
       "      <td>1996</td>\n",
       "      <td>Role-Playing</td>\n",
       "      <td>11.27</td>\n",
       "      <td>8.89</td>\n",
       "      <td>10.22</td>\n",
       "      <td>1.00</td>\n",
       "      <td>NaN</td>\n",
       "      <td>NaN</td>\n",
       "      <td>Other</td>\n",
       "    </tr>\n",
       "    <tr>\n",
       "      <th>5</th>\n",
       "      <td>Tetris</td>\n",
       "      <td>GB</td>\n",
       "      <td>1989</td>\n",
       "      <td>Puzzle</td>\n",
       "      <td>23.20</td>\n",
       "      <td>2.26</td>\n",
       "      <td>4.22</td>\n",
       "      <td>0.58</td>\n",
       "      <td>NaN</td>\n",
       "      <td>NaN</td>\n",
       "      <td>Other</td>\n",
       "    </tr>\n",
       "    <tr>\n",
       "      <th>6</th>\n",
       "      <td>New Super Mario Bros.</td>\n",
       "      <td>DS</td>\n",
       "      <td>2006</td>\n",
       "      <td>Platform</td>\n",
       "      <td>11.28</td>\n",
       "      <td>9.14</td>\n",
       "      <td>6.50</td>\n",
       "      <td>2.88</td>\n",
       "      <td>89.0</td>\n",
       "      <td>8.5</td>\n",
       "      <td>E</td>\n",
       "    </tr>\n",
       "    <tr>\n",
       "      <th>7</th>\n",
       "      <td>Wii Play</td>\n",
       "      <td>Wii</td>\n",
       "      <td>2006</td>\n",
       "      <td>Misc</td>\n",
       "      <td>13.96</td>\n",
       "      <td>9.18</td>\n",
       "      <td>2.93</td>\n",
       "      <td>2.84</td>\n",
       "      <td>58.0</td>\n",
       "      <td>6.6</td>\n",
       "      <td>E</td>\n",
       "    </tr>\n",
       "    <tr>\n",
       "      <th>8</th>\n",
       "      <td>New Super Mario Bros. Wii</td>\n",
       "      <td>Wii</td>\n",
       "      <td>2009</td>\n",
       "      <td>Platform</td>\n",
       "      <td>14.44</td>\n",
       "      <td>6.94</td>\n",
       "      <td>4.70</td>\n",
       "      <td>2.24</td>\n",
       "      <td>87.0</td>\n",
       "      <td>8.4</td>\n",
       "      <td>E</td>\n",
       "    </tr>\n",
       "    <tr>\n",
       "      <th>9</th>\n",
       "      <td>Duck Hunt</td>\n",
       "      <td>NES</td>\n",
       "      <td>1984</td>\n",
       "      <td>Shooter</td>\n",
       "      <td>26.93</td>\n",
       "      <td>0.63</td>\n",
       "      <td>0.28</td>\n",
       "      <td>0.47</td>\n",
       "      <td>NaN</td>\n",
       "      <td>NaN</td>\n",
       "      <td>Other</td>\n",
       "    </tr>\n",
       "  </tbody>\n",
       "</table>\n",
       "</div>"
      ],
      "text/plain": [
       "                        name platform  year_of_release         genre  \\\n",
       "0                 Wii Sports      Wii             2006        Sports   \n",
       "1          Super Mario Bros.      NES             1985      Platform   \n",
       "2             Mario Kart Wii      Wii             2008        Racing   \n",
       "3          Wii Sports Resort      Wii             2009        Sports   \n",
       "4   Pokemon Red/Pokemon Blue       GB             1996  Role-Playing   \n",
       "5                     Tetris       GB             1989        Puzzle   \n",
       "6      New Super Mario Bros.       DS             2006      Platform   \n",
       "7                   Wii Play      Wii             2006          Misc   \n",
       "8  New Super Mario Bros. Wii      Wii             2009      Platform   \n",
       "9                  Duck Hunt      NES             1984       Shooter   \n",
       "\n",
       "   na_sales  eu_sales  jp_sales  other_sales  critic_score  user_score rating  \n",
       "0     41.36     28.96      3.77         8.45          76.0         8.0      E  \n",
       "1     29.08      3.58      6.81         0.77           NaN         NaN  Other  \n",
       "2     15.68     12.76      3.79         3.29          82.0         8.3      E  \n",
       "3     15.61     10.93      3.28         2.95          80.0         8.0      E  \n",
       "4     11.27      8.89     10.22         1.00           NaN         NaN  Other  \n",
       "5     23.20      2.26      4.22         0.58           NaN         NaN  Other  \n",
       "6     11.28      9.14      6.50         2.88          89.0         8.5      E  \n",
       "7     13.96      9.18      2.93         2.84          58.0         6.6      E  \n",
       "8     14.44      6.94      4.70         2.24          87.0         8.4      E  \n",
       "9     26.93      0.63      0.28         0.47           NaN         NaN  Other  "
      ]
     },
     "execution_count": 5,
     "metadata": {},
     "output_type": "execute_result"
    }
   ],
   "source": [
    "data['year_of_release'] = data['year_of_release'].astype('Int32', errors='ignore')\n",
    "data['user_score'] = data['user_score'].replace('tbd', np.NaN)\n",
    "data['user_score'] = data['user_score'].astype('float')\n",
    "data['rating'] = data['rating'].fillna('Other')\n",
    "\n",
    "data.info()\n",
    "data.head(10)\n",
    "#data['user_score'].value_counts().sort_values()"
   ]
  },
  {
   "cell_type": "markdown",
   "metadata": {},
   "source": [
    "<p>\n",
    "<div class=\"alert-info\">\n",
    "\n",
    "В столбце 'user_score' замечено много значений 'tbd', поискав в гугле выяснил, что так обозначаются игры, у которых недостаточно оценок пользователей для того, чтобы стояла оценка. \n",
    "\n",
    "Приравнял 'tbd' к значению 'NaN', так как по сути они являются одним и тем же. А затем изменил тип данных на float.\n",
    "\n",
    "В 'year_of_release' изменил типы данных на int, так как год релиза так же не может быть 2013.4 и так далее, сделал int, чтобы было только целое число.\n",
    "\n",
    "В 'critic_score' оставил тип float для дальнейшей работы и проведения корреляции.</div>"
   ]
  },
  {
   "cell_type": "code",
   "execution_count": 6,
   "metadata": {},
   "outputs": [
    {
     "data": {
      "text/html": [
       "<div>\n",
       "<style scoped>\n",
       "    .dataframe tbody tr th:only-of-type {\n",
       "        vertical-align: middle;\n",
       "    }\n",
       "\n",
       "    .dataframe tbody tr th {\n",
       "        vertical-align: top;\n",
       "    }\n",
       "\n",
       "    .dataframe thead th {\n",
       "        text-align: right;\n",
       "    }\n",
       "</style>\n",
       "<table border=\"1\" class=\"dataframe\">\n",
       "  <thead>\n",
       "    <tr style=\"text-align: right;\">\n",
       "      <th></th>\n",
       "      <th>name</th>\n",
       "      <th>platform</th>\n",
       "      <th>year_of_release</th>\n",
       "      <th>genre</th>\n",
       "      <th>na_sales</th>\n",
       "      <th>eu_sales</th>\n",
       "      <th>jp_sales</th>\n",
       "      <th>other_sales</th>\n",
       "      <th>critic_score</th>\n",
       "      <th>user_score</th>\n",
       "      <th>rating</th>\n",
       "    </tr>\n",
       "  </thead>\n",
       "  <tbody>\n",
       "    <tr>\n",
       "      <th>659</th>\n",
       "      <td>NaN</td>\n",
       "      <td>GEN</td>\n",
       "      <td>1993</td>\n",
       "      <td>NaN</td>\n",
       "      <td>1.78</td>\n",
       "      <td>0.53</td>\n",
       "      <td>0.00</td>\n",
       "      <td>0.08</td>\n",
       "      <td>NaN</td>\n",
       "      <td>NaN</td>\n",
       "      <td>Other</td>\n",
       "    </tr>\n",
       "    <tr>\n",
       "      <th>14244</th>\n",
       "      <td>NaN</td>\n",
       "      <td>GEN</td>\n",
       "      <td>1993</td>\n",
       "      <td>NaN</td>\n",
       "      <td>0.00</td>\n",
       "      <td>0.00</td>\n",
       "      <td>0.03</td>\n",
       "      <td>0.00</td>\n",
       "      <td>NaN</td>\n",
       "      <td>NaN</td>\n",
       "      <td>Other</td>\n",
       "    </tr>\n",
       "  </tbody>\n",
       "</table>\n",
       "</div>"
      ],
      "text/plain": [
       "      name platform  year_of_release genre  na_sales  eu_sales  jp_sales  \\\n",
       "659    NaN      GEN             1993   NaN      1.78      0.53      0.00   \n",
       "14244  NaN      GEN             1993   NaN      0.00      0.00      0.03   \n",
       "\n",
       "       other_sales  critic_score  user_score rating  \n",
       "659           0.08           NaN         NaN  Other  \n",
       "14244         0.00           NaN         NaN  Other  "
      ]
     },
     "execution_count": 6,
     "metadata": {},
     "output_type": "execute_result"
    }
   ],
   "source": [
    "data[data['name'].isna()]"
   ]
  },
  {
   "cell_type": "code",
   "execution_count": 7,
   "metadata": {},
   "outputs": [],
   "source": [
    "data = data.dropna(subset=['name'])\n",
    "data = data.dropna(subset=['year_of_release'])"
   ]
  },
  {
   "cell_type": "markdown",
   "metadata": {},
   "source": [
    "<p>\n",
    "<div class=\"alert-info\">\n",
    "\n",
    "Удалил две строки с играми о которых практически нет информации.\n",
    "\n",
    "Удалил так же строки с играми, у которых неизвестны даты релиза. Такие игры мешали бы анализу.\n",
    "    \n",
    "Остальные пропуски не трогал, так как их изменение может привести к неточным данным.</div>"
   ]
  },
  {
   "cell_type": "code",
   "execution_count": 8,
   "metadata": {
    "scrolled": true
   },
   "outputs": [
    {
     "name": "stdout",
     "output_type": "stream",
     "text": [
      "<class 'pandas.core.frame.DataFrame'>\n",
      "Int64Index: 16444 entries, 0 to 16714\n",
      "Data columns (total 11 columns):\n",
      " #   Column           Non-Null Count  Dtype  \n",
      "---  ------           --------------  -----  \n",
      " 0   name             16444 non-null  object \n",
      " 1   platform         16444 non-null  object \n",
      " 2   year_of_release  16444 non-null  Int32  \n",
      " 3   genre            16444 non-null  object \n",
      " 4   na_sales         16444 non-null  float64\n",
      " 5   eu_sales         16444 non-null  float64\n",
      " 6   jp_sales         16444 non-null  float64\n",
      " 7   other_sales      16444 non-null  float64\n",
      " 8   critic_score     7983 non-null   float64\n",
      " 9   user_score       7463 non-null   float64\n",
      " 10  rating           16444 non-null  object \n",
      "dtypes: Int32(1), float64(6), object(4)\n",
      "memory usage: 1.5+ MB\n"
     ]
    }
   ],
   "source": [
    "data.info()"
   ]
  },
  {
   "cell_type": "code",
   "execution_count": 9,
   "metadata": {},
   "outputs": [
    {
     "data": {
      "text/plain": [
       "0"
      ]
     },
     "metadata": {},
     "output_type": "display_data"
    },
    {
     "name": "stdout",
     "output_type": "stream",
     "text": [
      "<class 'pandas.core.frame.DataFrame'>\n",
      "Int64Index: 16444 entries, 0 to 16714\n",
      "Data columns (total 11 columns):\n",
      " #   Column           Non-Null Count  Dtype  \n",
      "---  ------           --------------  -----  \n",
      " 0   name             16444 non-null  object \n",
      " 1   platform         16444 non-null  object \n",
      " 2   year_of_release  16444 non-null  Int32  \n",
      " 3   genre            16444 non-null  object \n",
      " 4   na_sales         16444 non-null  float64\n",
      " 5   eu_sales         16444 non-null  float64\n",
      " 6   jp_sales         16444 non-null  float64\n",
      " 7   other_sales      16444 non-null  float64\n",
      " 8   critic_score     7983 non-null   float64\n",
      " 9   user_score       7463 non-null   float64\n",
      " 10  rating           16444 non-null  object \n",
      "dtypes: Int32(1), float64(6), object(4)\n",
      "memory usage: 1.5+ MB\n"
     ]
    }
   ],
   "source": [
    "data.drop_duplicates()\n",
    "display(data.duplicated().sum())\n",
    "data.info()"
   ]
  },
  {
   "cell_type": "markdown",
   "metadata": {},
   "source": [
    "<p>\n",
    "<div class=\"alert-info\">\n",
    "\n",
    "Провел проверку дубликатов. Как видно их не оказалось.</div>"
   ]
  },
  {
   "cell_type": "code",
   "execution_count": 10,
   "metadata": {},
   "outputs": [
    {
     "data": {
      "text/html": [
       "<div>\n",
       "<style scoped>\n",
       "    .dataframe tbody tr th:only-of-type {\n",
       "        vertical-align: middle;\n",
       "    }\n",
       "\n",
       "    .dataframe tbody tr th {\n",
       "        vertical-align: top;\n",
       "    }\n",
       "\n",
       "    .dataframe thead th {\n",
       "        text-align: right;\n",
       "    }\n",
       "</style>\n",
       "<table border=\"1\" class=\"dataframe\">\n",
       "  <thead>\n",
       "    <tr style=\"text-align: right;\">\n",
       "      <th></th>\n",
       "      <th>name</th>\n",
       "      <th>platform</th>\n",
       "      <th>year_of_release</th>\n",
       "      <th>genre</th>\n",
       "      <th>na_sales</th>\n",
       "      <th>eu_sales</th>\n",
       "      <th>jp_sales</th>\n",
       "      <th>other_sales</th>\n",
       "      <th>critic_score</th>\n",
       "      <th>user_score</th>\n",
       "      <th>rating</th>\n",
       "      <th>sum_sales</th>\n",
       "    </tr>\n",
       "  </thead>\n",
       "  <tbody>\n",
       "    <tr>\n",
       "      <th>0</th>\n",
       "      <td>Wii Sports</td>\n",
       "      <td>Wii</td>\n",
       "      <td>2006</td>\n",
       "      <td>Sports</td>\n",
       "      <td>41.36</td>\n",
       "      <td>28.96</td>\n",
       "      <td>3.77</td>\n",
       "      <td>8.45</td>\n",
       "      <td>76.0</td>\n",
       "      <td>8.0</td>\n",
       "      <td>E</td>\n",
       "      <td>82.54</td>\n",
       "    </tr>\n",
       "    <tr>\n",
       "      <th>1</th>\n",
       "      <td>Super Mario Bros.</td>\n",
       "      <td>NES</td>\n",
       "      <td>1985</td>\n",
       "      <td>Platform</td>\n",
       "      <td>29.08</td>\n",
       "      <td>3.58</td>\n",
       "      <td>6.81</td>\n",
       "      <td>0.77</td>\n",
       "      <td>NaN</td>\n",
       "      <td>NaN</td>\n",
       "      <td>Other</td>\n",
       "      <td>40.24</td>\n",
       "    </tr>\n",
       "    <tr>\n",
       "      <th>2</th>\n",
       "      <td>Mario Kart Wii</td>\n",
       "      <td>Wii</td>\n",
       "      <td>2008</td>\n",
       "      <td>Racing</td>\n",
       "      <td>15.68</td>\n",
       "      <td>12.76</td>\n",
       "      <td>3.79</td>\n",
       "      <td>3.29</td>\n",
       "      <td>82.0</td>\n",
       "      <td>8.3</td>\n",
       "      <td>E</td>\n",
       "      <td>35.52</td>\n",
       "    </tr>\n",
       "    <tr>\n",
       "      <th>3</th>\n",
       "      <td>Wii Sports Resort</td>\n",
       "      <td>Wii</td>\n",
       "      <td>2009</td>\n",
       "      <td>Sports</td>\n",
       "      <td>15.61</td>\n",
       "      <td>10.93</td>\n",
       "      <td>3.28</td>\n",
       "      <td>2.95</td>\n",
       "      <td>80.0</td>\n",
       "      <td>8.0</td>\n",
       "      <td>E</td>\n",
       "      <td>32.77</td>\n",
       "    </tr>\n",
       "    <tr>\n",
       "      <th>4</th>\n",
       "      <td>Pokemon Red/Pokemon Blue</td>\n",
       "      <td>GB</td>\n",
       "      <td>1996</td>\n",
       "      <td>Role-Playing</td>\n",
       "      <td>11.27</td>\n",
       "      <td>8.89</td>\n",
       "      <td>10.22</td>\n",
       "      <td>1.00</td>\n",
       "      <td>NaN</td>\n",
       "      <td>NaN</td>\n",
       "      <td>Other</td>\n",
       "      <td>31.38</td>\n",
       "    </tr>\n",
       "    <tr>\n",
       "      <th>5</th>\n",
       "      <td>Tetris</td>\n",
       "      <td>GB</td>\n",
       "      <td>1989</td>\n",
       "      <td>Puzzle</td>\n",
       "      <td>23.20</td>\n",
       "      <td>2.26</td>\n",
       "      <td>4.22</td>\n",
       "      <td>0.58</td>\n",
       "      <td>NaN</td>\n",
       "      <td>NaN</td>\n",
       "      <td>Other</td>\n",
       "      <td>30.26</td>\n",
       "    </tr>\n",
       "    <tr>\n",
       "      <th>6</th>\n",
       "      <td>New Super Mario Bros.</td>\n",
       "      <td>DS</td>\n",
       "      <td>2006</td>\n",
       "      <td>Platform</td>\n",
       "      <td>11.28</td>\n",
       "      <td>9.14</td>\n",
       "      <td>6.50</td>\n",
       "      <td>2.88</td>\n",
       "      <td>89.0</td>\n",
       "      <td>8.5</td>\n",
       "      <td>E</td>\n",
       "      <td>29.80</td>\n",
       "    </tr>\n",
       "    <tr>\n",
       "      <th>7</th>\n",
       "      <td>Wii Play</td>\n",
       "      <td>Wii</td>\n",
       "      <td>2006</td>\n",
       "      <td>Misc</td>\n",
       "      <td>13.96</td>\n",
       "      <td>9.18</td>\n",
       "      <td>2.93</td>\n",
       "      <td>2.84</td>\n",
       "      <td>58.0</td>\n",
       "      <td>6.6</td>\n",
       "      <td>E</td>\n",
       "      <td>28.91</td>\n",
       "    </tr>\n",
       "    <tr>\n",
       "      <th>8</th>\n",
       "      <td>New Super Mario Bros. Wii</td>\n",
       "      <td>Wii</td>\n",
       "      <td>2009</td>\n",
       "      <td>Platform</td>\n",
       "      <td>14.44</td>\n",
       "      <td>6.94</td>\n",
       "      <td>4.70</td>\n",
       "      <td>2.24</td>\n",
       "      <td>87.0</td>\n",
       "      <td>8.4</td>\n",
       "      <td>E</td>\n",
       "      <td>28.32</td>\n",
       "    </tr>\n",
       "    <tr>\n",
       "      <th>9</th>\n",
       "      <td>Duck Hunt</td>\n",
       "      <td>NES</td>\n",
       "      <td>1984</td>\n",
       "      <td>Shooter</td>\n",
       "      <td>26.93</td>\n",
       "      <td>0.63</td>\n",
       "      <td>0.28</td>\n",
       "      <td>0.47</td>\n",
       "      <td>NaN</td>\n",
       "      <td>NaN</td>\n",
       "      <td>Other</td>\n",
       "      <td>28.31</td>\n",
       "    </tr>\n",
       "  </tbody>\n",
       "</table>\n",
       "</div>"
      ],
      "text/plain": [
       "                        name platform  year_of_release         genre  \\\n",
       "0                 Wii Sports      Wii             2006        Sports   \n",
       "1          Super Mario Bros.      NES             1985      Platform   \n",
       "2             Mario Kart Wii      Wii             2008        Racing   \n",
       "3          Wii Sports Resort      Wii             2009        Sports   \n",
       "4   Pokemon Red/Pokemon Blue       GB             1996  Role-Playing   \n",
       "5                     Tetris       GB             1989        Puzzle   \n",
       "6      New Super Mario Bros.       DS             2006      Platform   \n",
       "7                   Wii Play      Wii             2006          Misc   \n",
       "8  New Super Mario Bros. Wii      Wii             2009      Platform   \n",
       "9                  Duck Hunt      NES             1984       Shooter   \n",
       "\n",
       "   na_sales  eu_sales  jp_sales  other_sales  critic_score  user_score rating  \\\n",
       "0     41.36     28.96      3.77         8.45          76.0         8.0      E   \n",
       "1     29.08      3.58      6.81         0.77           NaN         NaN  Other   \n",
       "2     15.68     12.76      3.79         3.29          82.0         8.3      E   \n",
       "3     15.61     10.93      3.28         2.95          80.0         8.0      E   \n",
       "4     11.27      8.89     10.22         1.00           NaN         NaN  Other   \n",
       "5     23.20      2.26      4.22         0.58           NaN         NaN  Other   \n",
       "6     11.28      9.14      6.50         2.88          89.0         8.5      E   \n",
       "7     13.96      9.18      2.93         2.84          58.0         6.6      E   \n",
       "8     14.44      6.94      4.70         2.24          87.0         8.4      E   \n",
       "9     26.93      0.63      0.28         0.47           NaN         NaN  Other   \n",
       "\n",
       "   sum_sales  \n",
       "0      82.54  \n",
       "1      40.24  \n",
       "2      35.52  \n",
       "3      32.77  \n",
       "4      31.38  \n",
       "5      30.26  \n",
       "6      29.80  \n",
       "7      28.91  \n",
       "8      28.32  \n",
       "9      28.31  "
      ]
     },
     "execution_count": 10,
     "metadata": {},
     "output_type": "execute_result"
    }
   ],
   "source": [
    "data['sum_sales'] = data['na_sales'] + data['eu_sales'] + data['jp_sales'] + data['other_sales']\n",
    "data.head(10)"
   ]
  },
  {
   "cell_type": "markdown",
   "metadata": {},
   "source": [
    "<p>\n",
    "<div class=\"alert-info\">\n",
    "\n",
    "Создал новый столбец с суммой продаж во всех регионах.</div>"
   ]
  },
  {
   "cell_type": "markdown",
   "metadata": {},
   "source": [
    "### Исследовательский анализ данных"
   ]
  },
  {
   "cell_type": "code",
   "execution_count": 11,
   "metadata": {
    "scrolled": false
   },
   "outputs": [
    {
     "data": {
      "text/html": [
       "<div>\n",
       "<style scoped>\n",
       "    .dataframe tbody tr th:only-of-type {\n",
       "        vertical-align: middle;\n",
       "    }\n",
       "\n",
       "    .dataframe tbody tr th {\n",
       "        vertical-align: top;\n",
       "    }\n",
       "\n",
       "    .dataframe thead th {\n",
       "        text-align: right;\n",
       "    }\n",
       "</style>\n",
       "<table border=\"1\" class=\"dataframe\">\n",
       "  <thead>\n",
       "    <tr style=\"text-align: right;\">\n",
       "      <th></th>\n",
       "      <th>name</th>\n",
       "    </tr>\n",
       "    <tr>\n",
       "      <th>year_of_release</th>\n",
       "      <th></th>\n",
       "    </tr>\n",
       "  </thead>\n",
       "  <tbody>\n",
       "    <tr>\n",
       "      <th>1980</th>\n",
       "      <td>9</td>\n",
       "    </tr>\n",
       "    <tr>\n",
       "      <th>1981</th>\n",
       "      <td>46</td>\n",
       "    </tr>\n",
       "    <tr>\n",
       "      <th>1982</th>\n",
       "      <td>36</td>\n",
       "    </tr>\n",
       "    <tr>\n",
       "      <th>1983</th>\n",
       "      <td>17</td>\n",
       "    </tr>\n",
       "    <tr>\n",
       "      <th>1984</th>\n",
       "      <td>14</td>\n",
       "    </tr>\n",
       "    <tr>\n",
       "      <th>1985</th>\n",
       "      <td>14</td>\n",
       "    </tr>\n",
       "    <tr>\n",
       "      <th>1986</th>\n",
       "      <td>21</td>\n",
       "    </tr>\n",
       "    <tr>\n",
       "      <th>1987</th>\n",
       "      <td>16</td>\n",
       "    </tr>\n",
       "    <tr>\n",
       "      <th>1988</th>\n",
       "      <td>15</td>\n",
       "    </tr>\n",
       "    <tr>\n",
       "      <th>1989</th>\n",
       "      <td>17</td>\n",
       "    </tr>\n",
       "    <tr>\n",
       "      <th>1990</th>\n",
       "      <td>16</td>\n",
       "    </tr>\n",
       "    <tr>\n",
       "      <th>1991</th>\n",
       "      <td>41</td>\n",
       "    </tr>\n",
       "    <tr>\n",
       "      <th>1992</th>\n",
       "      <td>43</td>\n",
       "    </tr>\n",
       "    <tr>\n",
       "      <th>1993</th>\n",
       "      <td>60</td>\n",
       "    </tr>\n",
       "    <tr>\n",
       "      <th>1994</th>\n",
       "      <td>121</td>\n",
       "    </tr>\n",
       "    <tr>\n",
       "      <th>1995</th>\n",
       "      <td>219</td>\n",
       "    </tr>\n",
       "    <tr>\n",
       "      <th>1996</th>\n",
       "      <td>263</td>\n",
       "    </tr>\n",
       "    <tr>\n",
       "      <th>1997</th>\n",
       "      <td>289</td>\n",
       "    </tr>\n",
       "    <tr>\n",
       "      <th>1998</th>\n",
       "      <td>379</td>\n",
       "    </tr>\n",
       "    <tr>\n",
       "      <th>1999</th>\n",
       "      <td>338</td>\n",
       "    </tr>\n",
       "    <tr>\n",
       "      <th>2000</th>\n",
       "      <td>350</td>\n",
       "    </tr>\n",
       "    <tr>\n",
       "      <th>2001</th>\n",
       "      <td>482</td>\n",
       "    </tr>\n",
       "    <tr>\n",
       "      <th>2002</th>\n",
       "      <td>829</td>\n",
       "    </tr>\n",
       "    <tr>\n",
       "      <th>2003</th>\n",
       "      <td>775</td>\n",
       "    </tr>\n",
       "    <tr>\n",
       "      <th>2004</th>\n",
       "      <td>762</td>\n",
       "    </tr>\n",
       "    <tr>\n",
       "      <th>2005</th>\n",
       "      <td>939</td>\n",
       "    </tr>\n",
       "    <tr>\n",
       "      <th>2006</th>\n",
       "      <td>1006</td>\n",
       "    </tr>\n",
       "    <tr>\n",
       "      <th>2007</th>\n",
       "      <td>1197</td>\n",
       "    </tr>\n",
       "    <tr>\n",
       "      <th>2008</th>\n",
       "      <td>1427</td>\n",
       "    </tr>\n",
       "    <tr>\n",
       "      <th>2009</th>\n",
       "      <td>1426</td>\n",
       "    </tr>\n",
       "    <tr>\n",
       "      <th>2010</th>\n",
       "      <td>1255</td>\n",
       "    </tr>\n",
       "    <tr>\n",
       "      <th>2011</th>\n",
       "      <td>1136</td>\n",
       "    </tr>\n",
       "    <tr>\n",
       "      <th>2012</th>\n",
       "      <td>653</td>\n",
       "    </tr>\n",
       "    <tr>\n",
       "      <th>2013</th>\n",
       "      <td>544</td>\n",
       "    </tr>\n",
       "    <tr>\n",
       "      <th>2014</th>\n",
       "      <td>581</td>\n",
       "    </tr>\n",
       "    <tr>\n",
       "      <th>2015</th>\n",
       "      <td>606</td>\n",
       "    </tr>\n",
       "    <tr>\n",
       "      <th>2016</th>\n",
       "      <td>502</td>\n",
       "    </tr>\n",
       "  </tbody>\n",
       "</table>\n",
       "</div>"
      ],
      "text/plain": [
       "                 name\n",
       "year_of_release      \n",
       "1980                9\n",
       "1981               46\n",
       "1982               36\n",
       "1983               17\n",
       "1984               14\n",
       "1985               14\n",
       "1986               21\n",
       "1987               16\n",
       "1988               15\n",
       "1989               17\n",
       "1990               16\n",
       "1991               41\n",
       "1992               43\n",
       "1993               60\n",
       "1994              121\n",
       "1995              219\n",
       "1996              263\n",
       "1997              289\n",
       "1998              379\n",
       "1999              338\n",
       "2000              350\n",
       "2001              482\n",
       "2002              829\n",
       "2003              775\n",
       "2004              762\n",
       "2005              939\n",
       "2006             1006\n",
       "2007             1197\n",
       "2008             1427\n",
       "2009             1426\n",
       "2010             1255\n",
       "2011             1136\n",
       "2012              653\n",
       "2013              544\n",
       "2014              581\n",
       "2015              606\n",
       "2016              502"
      ]
     },
     "metadata": {},
     "output_type": "display_data"
    },
    {
     "data": {
      "image/png": "[encoded data removed]",
      "text/plain": [
       "<Figure size 432x288 with 1 Axes>"
      ]
     },
     "metadata": {
      "needs_background": "light"
     },
     "output_type": "display_data"
    }
   ],
   "source": [
    "games_years = data.pivot_table(index='year_of_release', values='name', aggfunc = 'count')\n",
    "display(games_years)\n",
    "games_years.plot(kind='bar')\n",
    "plt.title('Cколько игр выпускалось в разные годы')\n",
    "plt.xlabel('Год выпуска')\n",
    "plt.ylabel('Количество игр')\n",
    "plt.show()"
   ]
  },
  {
   "cell_type": "markdown",
   "metadata": {},
   "source": [
    "<p>\n",
    "<div class=\"alert-info\">\n",
    "\n",
    "Построил сводную таблицу и по ней график для просмотра сколько игр выпускалось в разные годы.\n",
    "\n",
    "Как видно из таблицы и графика, основной пик на выпуск большого количества игр приходился на 2008 и 2009 годы. Далее количество выпускаемых игр пошло на спад.\n",
    "\n",
    "Видно что до 1994 года продаж игр было совсем минимально количество. Посмотрев в интернете увидел, что в 1994 году вышла приставка PlayStation 1, Судя по всему с неё и начался скачок на обильное создание игр.\n",
    "\n",
    "Падение количества выпускаемых игр после 2009 можно охарактеризовать тем, что интернет стал доступен большинству пользователей и он забирал на себя больше внимания пользователей, поэтому спрос на игры сократился. Так же наверняка в это же время стали выпускать множество онлайн игр или браузерных онлайн игр, что так же могло повлиять на спад.\n",
    "\n",
    "Не все данные из периода важны, я бы предпочел работать либо с данными 1994-2016, так как в этот период произошел большой скачок на игры и затем падение. Либо с данными 2012-2016, так как после спада выпускаемости игр в этот период пришла стабильность по выпускаемым играм из года в год.</div>"
   ]
  },
  {
   "cell_type": "code",
   "execution_count": 12,
   "metadata": {
    "scrolled": true
   },
   "outputs": [
    {
     "data": {
      "text/html": [
       "<div>\n",
       "<style scoped>\n",
       "    .dataframe tbody tr th:only-of-type {\n",
       "        vertical-align: middle;\n",
       "    }\n",
       "\n",
       "    .dataframe tbody tr th {\n",
       "        vertical-align: top;\n",
       "    }\n",
       "\n",
       "    .dataframe thead th {\n",
       "        text-align: right;\n",
       "    }\n",
       "</style>\n",
       "<table border=\"1\" class=\"dataframe\">\n",
       "  <thead>\n",
       "    <tr style=\"text-align: right;\">\n",
       "      <th></th>\n",
       "      <th>sum_sales</th>\n",
       "    </tr>\n",
       "    <tr>\n",
       "      <th>platform</th>\n",
       "      <th></th>\n",
       "    </tr>\n",
       "  </thead>\n",
       "  <tbody>\n",
       "    <tr>\n",
       "      <th>PS2</th>\n",
       "      <td>1233.56</td>\n",
       "    </tr>\n",
       "    <tr>\n",
       "      <th>X360</th>\n",
       "      <td>961.24</td>\n",
       "    </tr>\n",
       "    <tr>\n",
       "      <th>PS3</th>\n",
       "      <td>931.34</td>\n",
       "    </tr>\n",
       "    <tr>\n",
       "      <th>Wii</th>\n",
       "      <td>891.18</td>\n",
       "    </tr>\n",
       "    <tr>\n",
       "      <th>DS</th>\n",
       "      <td>802.78</td>\n",
       "    </tr>\n",
       "    <tr>\n",
       "      <th>PS</th>\n",
       "      <td>727.58</td>\n",
       "    </tr>\n",
       "    <tr>\n",
       "      <th>PS4</th>\n",
       "      <td>314.14</td>\n",
       "    </tr>\n",
       "    <tr>\n",
       "      <th>GBA</th>\n",
       "      <td>312.88</td>\n",
       "    </tr>\n",
       "    <tr>\n",
       "      <th>PSP</th>\n",
       "      <td>289.53</td>\n",
       "    </tr>\n",
       "    <tr>\n",
       "      <th>3DS</th>\n",
       "      <td>257.81</td>\n",
       "    </tr>\n",
       "    <tr>\n",
       "      <th>PC</th>\n",
       "      <td>255.76</td>\n",
       "    </tr>\n",
       "    <tr>\n",
       "      <th>GB</th>\n",
       "      <td>254.43</td>\n",
       "    </tr>\n",
       "    <tr>\n",
       "      <th>XB</th>\n",
       "      <td>251.57</td>\n",
       "    </tr>\n",
       "    <tr>\n",
       "      <th>NES</th>\n",
       "      <td>251.05</td>\n",
       "    </tr>\n",
       "    <tr>\n",
       "      <th>N64</th>\n",
       "      <td>218.01</td>\n",
       "    </tr>\n",
       "    <tr>\n",
       "      <th>SNES</th>\n",
       "      <td>200.04</td>\n",
       "    </tr>\n",
       "    <tr>\n",
       "      <th>GC</th>\n",
       "      <td>196.73</td>\n",
       "    </tr>\n",
       "    <tr>\n",
       "      <th>XOne</th>\n",
       "      <td>159.32</td>\n",
       "    </tr>\n",
       "    <tr>\n",
       "      <th>2600</th>\n",
       "      <td>86.48</td>\n",
       "    </tr>\n",
       "    <tr>\n",
       "      <th>WiiU</th>\n",
       "      <td>82.19</td>\n",
       "    </tr>\n",
       "    <tr>\n",
       "      <th>PSV</th>\n",
       "      <td>53.81</td>\n",
       "    </tr>\n",
       "    <tr>\n",
       "      <th>SAT</th>\n",
       "      <td>33.59</td>\n",
       "    </tr>\n",
       "    <tr>\n",
       "      <th>GEN</th>\n",
       "      <td>28.35</td>\n",
       "    </tr>\n",
       "    <tr>\n",
       "      <th>DC</th>\n",
       "      <td>15.95</td>\n",
       "    </tr>\n",
       "    <tr>\n",
       "      <th>SCD</th>\n",
       "      <td>1.86</td>\n",
       "    </tr>\n",
       "    <tr>\n",
       "      <th>NG</th>\n",
       "      <td>1.44</td>\n",
       "    </tr>\n",
       "    <tr>\n",
       "      <th>WS</th>\n",
       "      <td>1.42</td>\n",
       "    </tr>\n",
       "    <tr>\n",
       "      <th>TG16</th>\n",
       "      <td>0.16</td>\n",
       "    </tr>\n",
       "    <tr>\n",
       "      <th>3DO</th>\n",
       "      <td>0.10</td>\n",
       "    </tr>\n",
       "    <tr>\n",
       "      <th>GG</th>\n",
       "      <td>0.04</td>\n",
       "    </tr>\n",
       "    <tr>\n",
       "      <th>PCFX</th>\n",
       "      <td>0.03</td>\n",
       "    </tr>\n",
       "  </tbody>\n",
       "</table>\n",
       "</div>"
      ],
      "text/plain": [
       "          sum_sales\n",
       "platform           \n",
       "PS2         1233.56\n",
       "X360         961.24\n",
       "PS3          931.34\n",
       "Wii          891.18\n",
       "DS           802.78\n",
       "PS           727.58\n",
       "PS4          314.14\n",
       "GBA          312.88\n",
       "PSP          289.53\n",
       "3DS          257.81\n",
       "PC           255.76\n",
       "GB           254.43\n",
       "XB           251.57\n",
       "NES          251.05\n",
       "N64          218.01\n",
       "SNES         200.04\n",
       "GC           196.73\n",
       "XOne         159.32\n",
       "2600          86.48\n",
       "WiiU          82.19\n",
       "PSV           53.81\n",
       "SAT           33.59\n",
       "GEN           28.35\n",
       "DC            15.95\n",
       "SCD            1.86\n",
       "NG             1.44\n",
       "WS             1.42\n",
       "TG16           0.16\n",
       "3DO            0.10\n",
       "GG             0.04\n",
       "PCFX           0.03"
      ]
     },
     "metadata": {},
     "output_type": "display_data"
    },
    {
     "data": {
      "image/png": "[encoded data removed]",
      "text/plain": [
       "<Figure size 432x288 with 1 Axes>"
      ]
     },
     "metadata": {
      "needs_background": "light"
     },
     "output_type": "display_data"
    }
   ],
   "source": [
    "platform_sales = data.pivot_table(index='platform', values='sum_sales', aggfunc = 'sum')\n",
    "platform_sales = platform_sales.sort_values(by = 'sum_sales', ascending = False)\n",
    "display(platform_sales)\n",
    "platform_sales.plot(kind='bar')\n",
    "plt.title('Продажи по платформам')\n",
    "plt.xlabel('Платформа')\n",
    "plt.ylabel('Сумма продаж')\n",
    "plt.show()"
   ]
  },
  {
   "cell_type": "markdown",
   "metadata": {},
   "source": [
    "<p>\n",
    "<div class=\"alert-info\">\n",
    "\n",
    "\n",
    "Как можно увидеть из сводной таблицы и графика выше - больше всего продаж у 6 платформ, их и будем рассматривать, как платформы с наибольшими суммарными продажами.</div>"
   ]
  },
  {
   "cell_type": "code",
   "execution_count": 13,
   "metadata": {},
   "outputs": [
    {
     "data": {
      "text/plain": [
       "<AxesSubplot:xlabel='year_of_release'>"
      ]
     },
     "execution_count": 13,
     "metadata": {},
     "output_type": "execute_result"
    },
    {
     "data": {
      "image/png": "[encoded data removed]",
      "text/plain": [
       "<Figure size 432x288 with 1 Axes>"
      ]
     },
     "metadata": {
      "needs_background": "light"
     },
     "output_type": "display_data"
    }
   ],
   "source": [
    "best_platform = platform_sales.index[:6].tolist()\n",
    "data.query('platform in @best_platform').pivot_table(index = 'year_of_release', columns = 'platform', values = 'sum_sales', aggfunc = 'sum').plot()"
   ]
  },
  {
   "cell_type": "code",
   "execution_count": 14,
   "metadata": {},
   "outputs": [
    {
     "data": {
      "image/png": "[encoded data removed]",
      "text/plain": [
       "<Figure size 432x288 with 1 Axes>"
      ]
     },
     "metadata": {
      "needs_background": "light"
     },
     "output_type": "display_data"
    }
   ],
   "source": [
    "data[data['platform'] == 'PS2']['year_of_release'].hist(bins=30)\n",
    "plt.title('Продажи PS2 за каждый год')\n",
    "plt.xlabel('Год')\n",
    "plt.ylabel('Суммарные продажи')\n",
    "plt.show()"
   ]
  },
  {
   "cell_type": "code",
   "execution_count": 15,
   "metadata": {},
   "outputs": [
    {
     "data": {
      "image/png": "[encoded data removed]",
      "text/plain": [
       "<Figure size 432x288 with 1 Axes>"
      ]
     },
     "metadata": {
      "needs_background": "light"
     },
     "output_type": "display_data"
    }
   ],
   "source": [
    "data[data['platform'] == 'X360']['year_of_release'].hist(bins=30)\n",
    "plt.title('Продажи X360 за каждый год')\n",
    "plt.xlabel('Год')\n",
    "plt.ylabel('Суммарные продажи')\n",
    "plt.show()"
   ]
  },
  {
   "cell_type": "code",
   "execution_count": 16,
   "metadata": {},
   "outputs": [
    {
     "data": {
      "image/png": "[encoded data removed]",
      "text/plain": [
       "<Figure size 432x288 with 1 Axes>"
      ]
     },
     "metadata": {
      "needs_background": "light"
     },
     "output_type": "display_data"
    }
   ],
   "source": [
    "data[data['platform'] == 'PS3']['year_of_release'].hist(bins=30)\n",
    "plt.title('Продажи PS3 за каждый год')\n",
    "plt.xlabel('Год')\n",
    "plt.ylabel('Суммарные продажи')\n",
    "plt.show()"
   ]
  },
  {
   "cell_type": "code",
   "execution_count": 17,
   "metadata": {},
   "outputs": [
    {
     "data": {
      "image/png": "[encoded data removed]",
      "text/plain": [
       "<Figure size 432x288 with 1 Axes>"
      ]
     },
     "metadata": {
      "needs_background": "light"
     },
     "output_type": "display_data"
    }
   ],
   "source": [
    "data[data['platform'] == 'Wii']['year_of_release'].hist(bins=30)\n",
    "plt.title('Продажи Wii за каждый год')\n",
    "plt.xlabel('Год')\n",
    "plt.ylabel('Суммарные продажи')\n",
    "plt.show()"
   ]
  },
  {
   "cell_type": "code",
   "execution_count": 18,
   "metadata": {},
   "outputs": [
    {
     "data": {
      "image/png": "[encoded data removed]",
      "text/plain": [
       "<Figure size 432x288 with 1 Axes>"
      ]
     },
     "metadata": {
      "needs_background": "light"
     },
     "output_type": "display_data"
    }
   ],
   "source": [
    "data[data['platform'] == 'DS']['year_of_release'].hist(bins=50)\n",
    "plt.title('Продажи DS за каждый год')\n",
    "plt.xlabel('Год')\n",
    "plt.ylabel('Суммарные продажи')\n",
    "plt.show()"
   ]
  },
  {
   "cell_type": "code",
   "execution_count": 19,
   "metadata": {},
   "outputs": [
    {
     "data": {
      "image/png": "[encoded data removed]",
      "text/plain": [
       "<Figure size 432x288 with 1 Axes>"
      ]
     },
     "metadata": {
      "needs_background": "light"
     },
     "output_type": "display_data"
    }
   ],
   "source": [
    "data[data['platform'] == 'PS']['year_of_release'].hist(bins=30)\n",
    "plt.title('Продажи PS за каждый год')\n",
    "plt.xlabel('Год')\n",
    "plt.ylabel('Суммарные продажи')\n",
    "plt.show()"
   ]
  },
  {
   "cell_type": "markdown",
   "metadata": {},
   "source": [
    "<p>\n",
    "<div class=\"alert-info\">\n",
    "\n",
    "Вывел общий график по топ-6 платформам с наибольшими продажами ежегодно и отдельные подробные графики соотношения продаж и года.\n",
    "\n",
    "Как видно из графиков, платформы обычно актуальны от 6 до 10 лет. Самое наименьшее количество лет актуальности замечено у Wii, а больше всего актуальной оставалась ps2 и ps3. Но даже учитывая что у PS2 больше всего продаж, её пик популярности упал и она уже не актуальна, при это большее предпоочтение я бы отдал PS3, так как её продажи ещё не упали и она актуальная платформа на 2016 год, а значит вполне может побить рекорд актуальности остальных платформ.\n",
    "\n",
    "На тех же PS, PS2, PS3 отчетливо видно на первом графике как одно поколение сменяется другим. PS перестает быть актуальной примерно в 2001 году, PS 2 как раз набирает популярность с 2002 года.</div>"
   ]
  },
  {
   "cell_type": "code",
   "execution_count": 20,
   "metadata": {},
   "outputs": [
    {
     "name": "stdout",
     "output_type": "stream",
     "text": [
      "<class 'pandas.core.frame.DataFrame'>\n",
      "Int64Index: 2886 entries, 16 to 16714\n",
      "Data columns (total 12 columns):\n",
      " #   Column           Non-Null Count  Dtype  \n",
      "---  ------           --------------  -----  \n",
      " 0   name             2886 non-null   object \n",
      " 1   platform         2886 non-null   object \n",
      " 2   year_of_release  2886 non-null   Int32  \n",
      " 3   genre            2886 non-null   object \n",
      " 4   na_sales         2886 non-null   float64\n",
      " 5   eu_sales         2886 non-null   float64\n",
      " 6   jp_sales         2886 non-null   float64\n",
      " 7   other_sales      2886 non-null   float64\n",
      " 8   critic_score     1312 non-null   float64\n",
      " 9   user_score       1531 non-null   float64\n",
      " 10  rating           2886 non-null   object \n",
      " 11  sum_sales        2886 non-null   float64\n",
      "dtypes: Int32(1), float64(7), object(4)\n",
      "memory usage: 284.7+ KB\n"
     ]
    }
   ],
   "source": [
    "actual_period = data.query('year_of_release >= 2012')\n",
    "actual_period.info()"
   ]
  },
  {
   "cell_type": "markdown",
   "metadata": {},
   "source": [
    "<p>\n",
    "<div class=\"alert-info\">\n",
    "\n",
    "Смотря на график по выпущенным играм в разные годы, я считаю что актуальный период будет 2012-2016, так как мы прогнозируем данные на 2017 год. Более старые данные будут не актуальны, так как сначала был подъём по выпущенным играм, а затем резкое падение, с 2012 года график более-менее стабилен.\n",
    "\n",
    "Так же с 2012 по 2016 большинство платформ актуальны на 2017 год, что так же поможет спрогнозировать данные.\n",
    "\n",
    "В новой переменной не учитываются данные за прошлые периоды. Это так же можно увидеть по выведенной информаци, данных стало намного меньше.</div>"
   ]
  },
  {
   "cell_type": "code",
   "execution_count": 21,
   "metadata": {},
   "outputs": [
    {
     "data": {
      "text/html": [
       "<div>\n",
       "<style scoped>\n",
       "    .dataframe tbody tr th:only-of-type {\n",
       "        vertical-align: middle;\n",
       "    }\n",
       "\n",
       "    .dataframe tbody tr th {\n",
       "        vertical-align: top;\n",
       "    }\n",
       "\n",
       "    .dataframe thead th {\n",
       "        text-align: right;\n",
       "    }\n",
       "</style>\n",
       "<table border=\"1\" class=\"dataframe\">\n",
       "  <thead>\n",
       "    <tr style=\"text-align: right;\">\n",
       "      <th></th>\n",
       "      <th>sum_sales</th>\n",
       "    </tr>\n",
       "    <tr>\n",
       "      <th>platform</th>\n",
       "      <th></th>\n",
       "    </tr>\n",
       "  </thead>\n",
       "  <tbody>\n",
       "    <tr>\n",
       "      <th>PS4</th>\n",
       "      <td>314.14</td>\n",
       "    </tr>\n",
       "    <tr>\n",
       "      <th>PS3</th>\n",
       "      <td>288.79</td>\n",
       "    </tr>\n",
       "    <tr>\n",
       "      <th>X360</th>\n",
       "      <td>236.54</td>\n",
       "    </tr>\n",
       "    <tr>\n",
       "      <th>3DS</th>\n",
       "      <td>194.61</td>\n",
       "    </tr>\n",
       "    <tr>\n",
       "      <th>XOne</th>\n",
       "      <td>159.32</td>\n",
       "    </tr>\n",
       "    <tr>\n",
       "      <th>WiiU</th>\n",
       "      <td>82.19</td>\n",
       "    </tr>\n",
       "    <tr>\n",
       "      <th>PC</th>\n",
       "      <td>62.65</td>\n",
       "    </tr>\n",
       "    <tr>\n",
       "      <th>PSV</th>\n",
       "      <td>49.18</td>\n",
       "    </tr>\n",
       "    <tr>\n",
       "      <th>Wii</th>\n",
       "      <td>35.37</td>\n",
       "    </tr>\n",
       "    <tr>\n",
       "      <th>DS</th>\n",
       "      <td>12.55</td>\n",
       "    </tr>\n",
       "    <tr>\n",
       "      <th>PSP</th>\n",
       "      <td>11.19</td>\n",
       "    </tr>\n",
       "  </tbody>\n",
       "</table>\n",
       "</div>"
      ],
      "text/plain": [
       "          sum_sales\n",
       "platform           \n",
       "PS4          314.14\n",
       "PS3          288.79\n",
       "X360         236.54\n",
       "3DS          194.61\n",
       "XOne         159.32\n",
       "WiiU          82.19\n",
       "PC            62.65\n",
       "PSV           49.18\n",
       "Wii           35.37\n",
       "DS            12.55\n",
       "PSP           11.19"
      ]
     },
     "metadata": {},
     "output_type": "display_data"
    },
    {
     "data": {
      "image/png": "[encoded data removed]",
      "text/plain": [
       "<Figure size 432x288 with 1 Axes>"
      ]
     },
     "metadata": {
      "needs_background": "light"
     },
     "output_type": "display_data"
    }
   ],
   "source": [
    "actual_platform_sales = actual_period.pivot_table(index='platform', values='sum_sales', aggfunc = 'sum')\n",
    "actual_platform_sales = actual_platform_sales.sort_values(by = 'sum_sales', ascending = False)\n",
    "display(actual_platform_sales)\n",
    "actual_platform_sales.plot(kind='bar')\n",
    "plt.title('Продажи по платформам 2012-2016')\n",
    "plt.xlabel('Платформа')\n",
    "plt.ylabel('Сумма продаж')\n",
    "plt.show()"
   ]
  },
  {
   "cell_type": "code",
   "execution_count": 22,
   "metadata": {},
   "outputs": [
    {
     "data": {
      "text/plain": [
       "<AxesSubplot:xlabel='year_of_release'>"
      ]
     },
     "execution_count": 22,
     "metadata": {},
     "output_type": "execute_result"
    },
    {
     "data": {
      "image/png": "[encoded data removed]",
      "text/plain": [
       "<Figure size 432x288 with 1 Axes>"
      ]
     },
     "metadata": {
      "needs_background": "light"
     },
     "output_type": "display_data"
    }
   ],
   "source": [
    "best_platform_actual = actual_platform_sales.index[:5].tolist()\n",
    "data.query('platform in @best_platform_actual').pivot_table(index = 'year_of_release', columns = 'platform', values = 'sum_sales', aggfunc = 'sum').plot()"
   ]
  },
  {
   "cell_type": "markdown",
   "metadata": {},
   "source": [
    "<p>\n",
    "<div class=\"alert-info\">\n",
    "\n",
    "Здесь можно выделить топ-5 платформ с самыми большими суммарными продажами. Это PS4, PS3, X360, 3DS, XOne.\n",
    "    \n",
    "По графику можно увидеть что по продажам растут игры для PS4 и для XOne, так как это платформы нового поколения, и соответвтенно видно как падают продажи PS3 и X360, поэтому PS4 и XOne можно назвать потенциально прибыльными платформами. Помимо этого видно что уже менее актуальна WiiU и падают продажи 3DS.\n",
    "    \n",
    "Такие приставки как PSP или DS уже совсем потеряли свою актуальность, но в то же время стал набирать обороты популярности PC.</div>"
   ]
  },
  {
   "cell_type": "code",
   "execution_count": 23,
   "metadata": {},
   "outputs": [
    {
     "data": {
      "image/png": "[encoded data removed]",
      "text/plain": [
       "<Figure size 432x288 with 1 Axes>"
      ]
     },
     "metadata": {
      "needs_background": "light"
     },
     "output_type": "display_data"
    }
   ],
   "source": [
    "boxplot = sns.boxplot(data = actual_period, x='platform', y='sum_sales').set_ylim(0,2)"
   ]
  },
  {
   "cell_type": "markdown",
   "metadata": {},
   "source": [
    "<p>\n",
    "<div class=\"alert-info\">\n",
    "\n",
    "Из диаграмм можно выделить следующее:\n",
    "\n",
    "Самая большая граница предела, за которой появляются аномалии у X360 - около 1.9 млн.\n",
    "Самая маленькая у PSP - около 0.20 млн.\n",
    "\n",
    "У остальных же платформ верхняя граница на уровне 1.20 - 1.75 млн.\n",
    "\n",
    "У самых топовых платформ медиана примерно на уровне 0.20-0.25 млн.\n",
    "\n",
    "Самая маленькая медиана у PSP, которая близка к 0, у DS и PSV, которые около 0.05 млн.</div>"
   ]
  },
  {
   "cell_type": "code",
   "execution_count": 24,
   "metadata": {},
   "outputs": [
    {
     "data": {
      "text/plain": [
       "<AxesSubplot:xlabel='platform', ylabel='sum_sales'>"
      ]
     },
     "execution_count": 24,
     "metadata": {},
     "output_type": "execute_result"
    },
    {
     "data": {
      "image/png": "[encoded data removed]",
      "text/plain": [
       "<Figure size 432x288 with 1 Axes>"
      ]
     },
     "metadata": {
      "needs_background": "light"
     },
     "output_type": "display_data"
    }
   ],
   "source": [
    "sns.boxplot(data = actual_period, x='platform', y='sum_sales')"
   ]
  },
  {
   "cell_type": "markdown",
   "metadata": {},
   "source": [
    "<p>\n",
    "<div class=\"alert-info\">\n",
    "\n",
    "А здесь уже видим более общую картину, куда уходят аномальные значения.</div>"
   ]
  },
  {
   "cell_type": "code",
   "execution_count": 25,
   "metadata": {},
   "outputs": [
    {
     "data": {
      "text/plain": [
       "['PS4', 'PS3', 'X360', '3DS', 'XOne']"
      ]
     },
     "execution_count": 25,
     "metadata": {},
     "output_type": "execute_result"
    }
   ],
   "source": [
    "best_platform_actual"
   ]
  },
  {
   "cell_type": "code",
   "execution_count": 26,
   "metadata": {},
   "outputs": [
    {
     "data": {
      "text/plain": [
       "(0.0, 2.0)"
      ]
     },
     "execution_count": 26,
     "metadata": {},
     "output_type": "execute_result"
    },
    {
     "data": {
      "image/png": "[encoded data removed]",
      "text/plain": [
       "<Figure size 432x288 with 1 Axes>"
      ]
     },
     "metadata": {
      "needs_background": "light"
     },
     "output_type": "display_data"
    }
   ],
   "source": [
    "top5_actual = actual_period.query('platform in @best_platform_actual')\n",
    "top5_actual\n",
    "sns.boxplot(data = top5_actual, x='platform', y='sum_sales').set_ylim(0,2)"
   ]
  },
  {
   "cell_type": "markdown",
   "metadata": {},
   "source": [
    "<p>\n",
    "<div class=\"alert-info\">\n",
    "    \n",
    "Здесь я выделил в отдельные диаграммы топ-5 платформ, о которых шла речь ранее.\n",
    "\n",
    "Можно так же отдельно выделить что у топ-5 платформ медиана около 0.15 - 0.35 млн.\n",
    "\n",
    "А верхняя граница предела от 0.75 до 1.9 млн.</div>"
   ]
  },
  {
   "cell_type": "code",
   "execution_count": 27,
   "metadata": {},
   "outputs": [
    {
     "data": {
      "text/plain": [
       "<seaborn.axisgrid.PairGrid at 0x7f6eb9331b20>"
      ]
     },
     "execution_count": 27,
     "metadata": {},
     "output_type": "execute_result"
    },
    {
     "data": {
      "image/png": "[encoded data removed]",
      "text/plain": [
       "<Figure size 540x540 with 12 Axes>"
      ]
     },
     "metadata": {
      "needs_background": "light"
     },
     "output_type": "display_data"
    }
   ],
   "source": [
    "actual_period_PS4 = actual_period.query('platform == \"PS4\"')\n",
    "sns.pairplot(actual_period_PS4[['critic_score', 'user_score', 'sum_sales']])"
   ]
  },
  {
   "cell_type": "markdown",
   "metadata": {},
   "source": [
    "<p>\n",
    "<div class=\"alert-info\">\n",
    "    \n",
    "Провел исследование, взяв одну популярную платформу - PS4 и проверил, как влияют на продажи оценки критиков и пользователей.\n",
    "\n",
    "Как видно из графика - чем выше средняя оценка, тем больше продаж игр для платформы.\n",
    "\n",
    "Видно так же, что оценки критиков чуть больше имеют влияния на суммарные продажи игр для платформы.\n",
    "\n",
    "Из этого графика можно сделать вывод, что оценки как критиков, так и пользователей вполне могут влиять на продажи. Чем выше средняя оценка за игру, тем больше продаж будет на платформе.</div>"
   ]
  },
  {
   "cell_type": "code",
   "execution_count": 28,
   "metadata": {},
   "outputs": [
    {
     "data": {
      "text/plain": [
       "-0.031957110204556376"
      ]
     },
     "execution_count": 28,
     "metadata": {},
     "output_type": "execute_result"
    }
   ],
   "source": [
    "actual_period_PS4['user_score'].corr(actual_period_PS4['sum_sales'])"
   ]
  },
  {
   "cell_type": "code",
   "execution_count": 29,
   "metadata": {},
   "outputs": [
    {
     "data": {
      "text/plain": [
       "0.40656790206178095"
      ]
     },
     "execution_count": 29,
     "metadata": {},
     "output_type": "execute_result"
    }
   ],
   "source": [
    "actual_period_PS4['critic_score'].corr(actual_period_PS4['sum_sales'])"
   ]
  },
  {
   "cell_type": "markdown",
   "metadata": {},
   "source": [
    "<p>\n",
    "<div class=\"alert-info\">\n",
    "\n",
    "Посчитав корреляции, можно сделать следующие выводы:\n",
    "\n",
    "1) Корреляция между оценками пользователей и общими продажами - отрицательна, но при это практически равна нулю. Это значит что оценка пользователей не так сильно влияет на продажи.\n",
    "    \n",
    "2) Однако видя корреляцию оценок критиков и общих продаж - видим положительную, умеренную корреляцию, что может значить лишь то, что чем выше оценка критика, тем больше продаж.\n",
    "</div>"
   ]
  },
  {
   "cell_type": "markdown",
   "metadata": {},
   "source": [
    "<p>\n",
    "<div class=\"alert-info\">\n",
    "\n",
    "Проверим аналогично диаграммой рассеяния и корреляцией данные по остальным платформам нашего топ-5 платформ.</div>"
   ]
  },
  {
   "cell_type": "code",
   "execution_count": 30,
   "metadata": {},
   "outputs": [
    {
     "data": {
      "text/plain": [
       "<seaborn.axisgrid.PairGrid at 0x7f6eb929e580>"
      ]
     },
     "execution_count": 30,
     "metadata": {},
     "output_type": "execute_result"
    },
    {
     "data": {
      "image/png": "[encoded data removed]",
      "text/plain": [
       "<Figure size 540x540 with 12 Axes>"
      ]
     },
     "metadata": {
      "needs_background": "light"
     },
     "output_type": "display_data"
    }
   ],
   "source": [
    "actual_period_PS3 = actual_period.query('platform == \"PS3\"')\n",
    "sns.pairplot(actual_period_PS3[['critic_score', 'user_score', 'sum_sales']])"
   ]
  },
  {
   "cell_type": "code",
   "execution_count": 31,
   "metadata": {},
   "outputs": [
    {
     "data": {
      "text/plain": [
       "-0.005143522887113828"
      ]
     },
     "execution_count": 31,
     "metadata": {},
     "output_type": "execute_result"
    }
   ],
   "source": [
    "actual_period_PS3['user_score'].corr(actual_period_PS3['sum_sales'])"
   ]
  },
  {
   "cell_type": "code",
   "execution_count": 32,
   "metadata": {},
   "outputs": [
    {
     "data": {
      "text/plain": [
       "0.3314972592629587"
      ]
     },
     "execution_count": 32,
     "metadata": {},
     "output_type": "execute_result"
    }
   ],
   "source": [
    "actual_period_PS3['critic_score'].corr(actual_period_PS3['sum_sales'])"
   ]
  },
  {
   "cell_type": "code",
   "execution_count": 33,
   "metadata": {},
   "outputs": [
    {
     "data": {
      "text/plain": [
       "<seaborn.axisgrid.PairGrid at 0x7f6eb8607220>"
      ]
     },
     "execution_count": 33,
     "metadata": {},
     "output_type": "execute_result"
    },
    {
     "data": {
      "image/png": "[encoded data removed]",
      "text/plain": [
       "<Figure size 540x540 with 12 Axes>"
      ]
     },
     "metadata": {
      "needs_background": "light"
     },
     "output_type": "display_data"
    }
   ],
   "source": [
    "actual_period_X360 = actual_period.query('platform == \"X360\"')\n",
    "sns.pairplot(actual_period_X360[['critic_score', 'user_score', 'sum_sales']])"
   ]
  },
  {
   "cell_type": "code",
   "execution_count": 34,
   "metadata": {},
   "outputs": [
    {
     "data": {
      "text/plain": [
       "0.006163978646213326"
      ]
     },
     "execution_count": 34,
     "metadata": {},
     "output_type": "execute_result"
    }
   ],
   "source": [
    "actual_period_X360['user_score'].corr(actual_period_X360['sum_sales'])"
   ]
  },
  {
   "cell_type": "code",
   "execution_count": 35,
   "metadata": {},
   "outputs": [
    {
     "data": {
      "text/plain": [
       "0.3605734888507336"
      ]
     },
     "execution_count": 35,
     "metadata": {},
     "output_type": "execute_result"
    }
   ],
   "source": [
    "actual_period_X360['critic_score'].corr(actual_period_X360['sum_sales'])"
   ]
  },
  {
   "cell_type": "code",
   "execution_count": 36,
   "metadata": {},
   "outputs": [
    {
     "data": {
      "text/plain": [
       "<seaborn.axisgrid.PairGrid at 0x7f6eb9316a00>"
      ]
     },
     "execution_count": 36,
     "metadata": {},
     "output_type": "execute_result"
    },
    {
     "data": {
      "image/png": "[encoded data removed]",
      "text/plain": [
       "<Figure size 540x540 with 12 Axes>"
      ]
     },
     "metadata": {
      "needs_background": "light"
     },
     "output_type": "display_data"
    }
   ],
   "source": [
    "actual_period_3DS = actual_period.query('platform == \"3DS\"')\n",
    "sns.pairplot(actual_period_3DS[['critic_score', 'user_score', 'sum_sales']])"
   ]
  },
  {
   "cell_type": "code",
   "execution_count": 37,
   "metadata": {},
   "outputs": [
    {
     "data": {
      "text/plain": [
       "0.19758263411038599"
      ]
     },
     "execution_count": 37,
     "metadata": {},
     "output_type": "execute_result"
    }
   ],
   "source": [
    "actual_period_3DS['user_score'].corr(actual_period_3DS['sum_sales'])"
   ]
  },
  {
   "cell_type": "code",
   "execution_count": 38,
   "metadata": {},
   "outputs": [
    {
     "data": {
      "text/plain": [
       "0.3208028695360785"
      ]
     },
     "execution_count": 38,
     "metadata": {},
     "output_type": "execute_result"
    }
   ],
   "source": [
    "actual_period_3DS['critic_score'].corr(actual_period_3DS['sum_sales'])"
   ]
  },
  {
   "cell_type": "code",
   "execution_count": 39,
   "metadata": {},
   "outputs": [
    {
     "data": {
      "text/plain": [
       "<seaborn.axisgrid.PairGrid at 0x7f6eb6381c70>"
      ]
     },
     "execution_count": 39,
     "metadata": {},
     "output_type": "execute_result"
    },
    {
     "data": {
      "image/png": "[encoded data removed]",
      "text/plain": [
       "<Figure size 540x540 with 12 Axes>"
      ]
     },
     "metadata": {
      "needs_background": "light"
     },
     "output_type": "display_data"
    }
   ],
   "source": [
    "actual_period_XOne = actual_period.query('platform == \"XOne\"')\n",
    "sns.pairplot(actual_period_XOne[['critic_score', 'user_score', 'sum_sales']])"
   ]
  },
  {
   "cell_type": "code",
   "execution_count": 40,
   "metadata": {},
   "outputs": [
    {
     "data": {
      "text/plain": [
       "-0.06892505328279414"
      ]
     },
     "execution_count": 40,
     "metadata": {},
     "output_type": "execute_result"
    }
   ],
   "source": [
    "actual_period_XOne['user_score'].corr(actual_period_XOne['sum_sales'])"
   ]
  },
  {
   "cell_type": "code",
   "execution_count": 41,
   "metadata": {},
   "outputs": [
    {
     "data": {
      "text/plain": [
       "0.4169983280084017"
      ]
     },
     "execution_count": 41,
     "metadata": {},
     "output_type": "execute_result"
    }
   ],
   "source": [
    "actual_period_XOne['critic_score'].corr(actual_period_XOne['sum_sales'])"
   ]
  },
  {
   "cell_type": "markdown",
   "metadata": {},
   "source": [
    "<p>\n",
    "<div class=\"alert-info\">\n",
    "    \n",
    "Проверив остальные платформы, можно заметить, что у всех данные в целом очень схожи. Единственное, можно отметить данные 3DS, так как её корреляция с оценками пользователей выделяется от других платформ, а то есть, здесь уже видно, что чем выше оценка пользователя - тем выше продажи.\n",
    "\n",
    "Это можно связать с тем, что на данную платформу приходится мало критиков, потому пользовательские оценки так же ценятся. Так же возможно на платформу просто напросто мало игр, и оценок пользователей намного больше и они пересиливают оценки критиков. Либо платформа популярна в основном среди пользователей, поэтому люди больше ориентируются на пользовательские оценки, чем на оценки критиков.</div>"
   ]
  },
  {
   "cell_type": "code",
   "execution_count": 42,
   "metadata": {},
   "outputs": [
    {
     "data": {
      "text/html": [
       "<div>\n",
       "<style scoped>\n",
       "    .dataframe tbody tr th:only-of-type {\n",
       "        vertical-align: middle;\n",
       "    }\n",
       "\n",
       "    .dataframe tbody tr th {\n",
       "        vertical-align: top;\n",
       "    }\n",
       "\n",
       "    .dataframe thead th {\n",
       "        text-align: right;\n",
       "    }\n",
       "</style>\n",
       "<table border=\"1\" class=\"dataframe\">\n",
       "  <thead>\n",
       "    <tr style=\"text-align: right;\">\n",
       "      <th></th>\n",
       "      <th>sum_sales</th>\n",
       "    </tr>\n",
       "    <tr>\n",
       "      <th>genre</th>\n",
       "      <th></th>\n",
       "    </tr>\n",
       "  </thead>\n",
       "  <tbody>\n",
       "    <tr>\n",
       "      <th>Shooter</th>\n",
       "      <td>1.296723</td>\n",
       "    </tr>\n",
       "    <tr>\n",
       "      <th>Platform</th>\n",
       "      <td>0.717647</td>\n",
       "    </tr>\n",
       "    <tr>\n",
       "      <th>Sports</th>\n",
       "      <td>0.675634</td>\n",
       "    </tr>\n",
       "    <tr>\n",
       "      <th>Role-Playing</th>\n",
       "      <td>0.521081</td>\n",
       "    </tr>\n",
       "    <tr>\n",
       "      <th>Racing</th>\n",
       "      <td>0.465217</td>\n",
       "    </tr>\n",
       "    <tr>\n",
       "      <th>Misc</th>\n",
       "      <td>0.442917</td>\n",
       "    </tr>\n",
       "    <tr>\n",
       "      <th>Simulation</th>\n",
       "      <td>0.439000</td>\n",
       "    </tr>\n",
       "    <tr>\n",
       "      <th>Action</th>\n",
       "      <td>0.427856</td>\n",
       "    </tr>\n",
       "    <tr>\n",
       "      <th>Fighting</th>\n",
       "      <td>0.408165</td>\n",
       "    </tr>\n",
       "    <tr>\n",
       "      <th>Strategy</th>\n",
       "      <td>0.187887</td>\n",
       "    </tr>\n",
       "    <tr>\n",
       "      <th>Puzzle</th>\n",
       "      <td>0.174643</td>\n",
       "    </tr>\n",
       "    <tr>\n",
       "      <th>Adventure</th>\n",
       "      <td>0.097450</td>\n",
       "    </tr>\n",
       "  </tbody>\n",
       "</table>\n",
       "</div>"
      ],
      "text/plain": [
       "              sum_sales\n",
       "genre                  \n",
       "Shooter        1.296723\n",
       "Platform       0.717647\n",
       "Sports         0.675634\n",
       "Role-Playing   0.521081\n",
       "Racing         0.465217\n",
       "Misc           0.442917\n",
       "Simulation     0.439000\n",
       "Action         0.427856\n",
       "Fighting       0.408165\n",
       "Strategy       0.187887\n",
       "Puzzle         0.174643\n",
       "Adventure      0.097450"
      ]
     },
     "metadata": {},
     "output_type": "display_data"
    },
    {
     "data": {
      "image/png": "[encoded data removed]",
      "text/plain": [
       "<Figure size 432x288 with 1 Axes>"
      ]
     },
     "metadata": {
      "needs_background": "light"
     },
     "output_type": "display_data"
    }
   ],
   "source": [
    "actual_period_genre = actual_period.pivot_table(index = 'genre', values = 'sum_sales').sort_values(by = 'sum_sales', ascending = False)\n",
    "display(actual_period_genre)\n",
    "actual_period_genre.plot(kind='bar')\n",
    "plt.title('Продажи по жанрам')\n",
    "plt.xlabel('Жанр')\n",
    "plt.ylabel('Сумма продаж')\n",
    "plt.show()"
   ]
  },
  {
   "cell_type": "markdown",
   "metadata": {},
   "source": [
    "<p>\n",
    "<div class=\"alert-info\">\n",
    "\n",
    "Просмотрел на общее распределение игр по жанрам и их общую сумму продаж. Самыми прибыльными жанрами периода 2012-2016 являются шутеры, платформеры, спортивные игры, рпг и гонки. \n",
    "\n",
    "В данных выделяется большое количество продаж игр жанра шутер. Такое количество продаж шутеров может быть связано с большим количеством выхода новинок шутеров в эти годы.\n",
    "    \n",
    "А так же в данных выделяются 3 жанра с наименьшими продажами - стретигии, пазлы и приключения.\n",
    "\n",
    "Хоть и крайне странно видеть приключенческие игры с наименьшим количеством продаж, но изучив данные стало ясно, как шутеры попали в топ по продажам, за счёт серии игр 'Call of Duty', которая в свою очередь является как одиночной игрой, так и мультиплеерной, большинству игроков такие игры нравятся больше всего исходя из данных.    \n",
    "</div>"
   ]
  },
  {
   "cell_type": "markdown",
   "metadata": {},
   "source": [
    "### Составьте портрет пользователя каждого региона"
   ]
  },
  {
   "cell_type": "code",
   "execution_count": 43,
   "metadata": {},
   "outputs": [
    {
     "data": {
      "text/html": [
       "<div>\n",
       "<style scoped>\n",
       "    .dataframe tbody tr th:only-of-type {\n",
       "        vertical-align: middle;\n",
       "    }\n",
       "\n",
       "    .dataframe tbody tr th {\n",
       "        vertical-align: top;\n",
       "    }\n",
       "\n",
       "    .dataframe thead th {\n",
       "        text-align: right;\n",
       "    }\n",
       "</style>\n",
       "<table border=\"1\" class=\"dataframe\">\n",
       "  <thead>\n",
       "    <tr style=\"text-align: right;\">\n",
       "      <th></th>\n",
       "      <th>na_sales</th>\n",
       "    </tr>\n",
       "    <tr>\n",
       "      <th>platform</th>\n",
       "      <th></th>\n",
       "    </tr>\n",
       "  </thead>\n",
       "  <tbody>\n",
       "    <tr>\n",
       "      <th>X360</th>\n",
       "      <td>140.05</td>\n",
       "    </tr>\n",
       "    <tr>\n",
       "      <th>PS4</th>\n",
       "      <td>108.74</td>\n",
       "    </tr>\n",
       "    <tr>\n",
       "      <th>PS3</th>\n",
       "      <td>103.38</td>\n",
       "    </tr>\n",
       "    <tr>\n",
       "      <th>XOne</th>\n",
       "      <td>93.12</td>\n",
       "    </tr>\n",
       "    <tr>\n",
       "      <th>3DS</th>\n",
       "      <td>55.31</td>\n",
       "    </tr>\n",
       "  </tbody>\n",
       "</table>\n",
       "</div>"
      ],
      "text/plain": [
       "          na_sales\n",
       "platform          \n",
       "X360        140.05\n",
       "PS4         108.74\n",
       "PS3         103.38\n",
       "XOne         93.12\n",
       "3DS          55.31"
      ]
     },
     "metadata": {},
     "output_type": "display_data"
    },
    {
     "data": {
      "image/png": "[encoded data removed]",
      "text/plain": [
       "<Figure size 432x432 with 1 Axes>"
      ]
     },
     "metadata": {},
     "output_type": "display_data"
    }
   ],
   "source": [
    "na_platform_sale = actual_period.pivot_table(index='platform', values='na_sales',\n",
    "                                        aggfunc='sum').sort_values('na_sales', ascending=False).head(5)\n",
    "display(na_platform_sale)\n",
    "na_platform_sale.plot(kind='pie', autopct='%.2f%%', figsize=(6, 6), legend=False, subplots=True)\n",
    "plt.show()"
   ]
  },
  {
   "cell_type": "code",
   "execution_count": 44,
   "metadata": {},
   "outputs": [
    {
     "data": {
      "text/html": [
       "<div>\n",
       "<style scoped>\n",
       "    .dataframe tbody tr th:only-of-type {\n",
       "        vertical-align: middle;\n",
       "    }\n",
       "\n",
       "    .dataframe tbody tr th {\n",
       "        vertical-align: top;\n",
       "    }\n",
       "\n",
       "    .dataframe thead th {\n",
       "        text-align: right;\n",
       "    }\n",
       "</style>\n",
       "<table border=\"1\" class=\"dataframe\">\n",
       "  <thead>\n",
       "    <tr style=\"text-align: right;\">\n",
       "      <th></th>\n",
       "      <th>eu_sales</th>\n",
       "    </tr>\n",
       "    <tr>\n",
       "      <th>platform</th>\n",
       "      <th></th>\n",
       "    </tr>\n",
       "  </thead>\n",
       "  <tbody>\n",
       "    <tr>\n",
       "      <th>PS4</th>\n",
       "      <td>141.09</td>\n",
       "    </tr>\n",
       "    <tr>\n",
       "      <th>PS3</th>\n",
       "      <td>106.86</td>\n",
       "    </tr>\n",
       "    <tr>\n",
       "      <th>X360</th>\n",
       "      <td>74.52</td>\n",
       "    </tr>\n",
       "    <tr>\n",
       "      <th>XOne</th>\n",
       "      <td>51.59</td>\n",
       "    </tr>\n",
       "    <tr>\n",
       "      <th>3DS</th>\n",
       "      <td>42.64</td>\n",
       "    </tr>\n",
       "  </tbody>\n",
       "</table>\n",
       "</div>"
      ],
      "text/plain": [
       "          eu_sales\n",
       "platform          \n",
       "PS4         141.09\n",
       "PS3         106.86\n",
       "X360         74.52\n",
       "XOne         51.59\n",
       "3DS          42.64"
      ]
     },
     "metadata": {},
     "output_type": "display_data"
    },
    {
     "data": {
      "image/png": "[encoded data removed]",
      "text/plain": [
       "<Figure size 432x432 with 1 Axes>"
      ]
     },
     "metadata": {},
     "output_type": "display_data"
    }
   ],
   "source": [
    "eu_platform_sale = actual_period.pivot_table(index='platform', values='eu_sales',\n",
    "                                        aggfunc='sum').sort_values('eu_sales', ascending=False).head(5)\n",
    "display(eu_platform_sale)\n",
    "eu_platform_sale.plot(kind='pie', autopct='%.2f%%', figsize=(6, 6), legend=False, subplots=True)\n",
    "plt.show()"
   ]
  },
  {
   "cell_type": "code",
   "execution_count": 45,
   "metadata": {
    "scrolled": true
   },
   "outputs": [
    {
     "data": {
      "text/html": [
       "<div>\n",
       "<style scoped>\n",
       "    .dataframe tbody tr th:only-of-type {\n",
       "        vertical-align: middle;\n",
       "    }\n",
       "\n",
       "    .dataframe tbody tr th {\n",
       "        vertical-align: top;\n",
       "    }\n",
       "\n",
       "    .dataframe thead th {\n",
       "        text-align: right;\n",
       "    }\n",
       "</style>\n",
       "<table border=\"1\" class=\"dataframe\">\n",
       "  <thead>\n",
       "    <tr style=\"text-align: right;\">\n",
       "      <th></th>\n",
       "      <th>jp_sales</th>\n",
       "    </tr>\n",
       "    <tr>\n",
       "      <th>platform</th>\n",
       "      <th></th>\n",
       "    </tr>\n",
       "  </thead>\n",
       "  <tbody>\n",
       "    <tr>\n",
       "      <th>3DS</th>\n",
       "      <td>87.79</td>\n",
       "    </tr>\n",
       "    <tr>\n",
       "      <th>PS3</th>\n",
       "      <td>35.29</td>\n",
       "    </tr>\n",
       "    <tr>\n",
       "      <th>PSV</th>\n",
       "      <td>21.04</td>\n",
       "    </tr>\n",
       "    <tr>\n",
       "      <th>PS4</th>\n",
       "      <td>15.96</td>\n",
       "    </tr>\n",
       "    <tr>\n",
       "      <th>WiiU</th>\n",
       "      <td>13.01</td>\n",
       "    </tr>\n",
       "  </tbody>\n",
       "</table>\n",
       "</div>"
      ],
      "text/plain": [
       "          jp_sales\n",
       "platform          \n",
       "3DS          87.79\n",
       "PS3          35.29\n",
       "PSV          21.04\n",
       "PS4          15.96\n",
       "WiiU         13.01"
      ]
     },
     "metadata": {},
     "output_type": "display_data"
    },
    {
     "data": {
      "image/png": "[encoded data removed]",
      "text/plain": [
       "<Figure size 432x432 with 1 Axes>"
      ]
     },
     "metadata": {},
     "output_type": "display_data"
    }
   ],
   "source": [
    "jp_platform_sale = actual_period.pivot_table(index='platform', values='jp_sales',\n",
    "                                        aggfunc='sum').sort_values('jp_sales', ascending=False).head(5)\n",
    "display(jp_platform_sale)\n",
    "jp_platform_sale.plot(kind='pie', autopct='%.2f%%', figsize=(6, 6), legend=False, subplots=True)\n",
    "plt.show()"
   ]
  },
  {
   "cell_type": "markdown",
   "metadata": {},
   "source": [
    "<p>\n",
    "<div class=\"alert-info\">\n",
    "\n",
    "Определил топ-5 платформ по общим продажам в каждом регионе:\n",
    "1. Северная Америка - X360, PS4, PS3, XOne, 3DS\n",
    "2. Европа - PS4, PS3, X360, XOne, 3DS\n",
    "3. Япония - 3DS, PS3, PSV, PS4, WiiU\n",
    "    \n",
    "В Северной Америке самая большая доля продаж приходится на X360, которая заменяется на новое поколение XOne. Охарактеризовать данную долю можно тем, что данная платформа в Северной Америке наиболее актуальна, так как множество сервисов доступных на платформе работают только в Северной Америке. Так же X360 и XOne являются платформами компании Microsoft, которая региональна для Северной Америки.\n",
    "    \n",
    "Следующий специфичный регион это Япония, самая большая доля продаж приходится на платформу 3DS, так как эта приставка популярна именно в этом регионе, большинство пользователей региона предпочитают данную платформу. 3DS принадлежит компании Nintendo, которая так же региональна для Японии. Игры для приставки так же создают в этом регионе. Далее в топе идут такие платформы как PS, которые принадлежат компании Sony, которая так же является региональной. В прочем весь топ-5 платформ в Японии является региональным. Поэтому можно сделать вывод что пользователи в Японии больше предпочитают региональный продукт.\n",
    "    \n",
    "В Европе же нет своих региональных компаний, которые создают платформы, поэтому у них спрос на самые популярные платформы Северной Америки и Японии.\n",
    "</div>"
   ]
  },
  {
   "cell_type": "code",
   "execution_count": 46,
   "metadata": {},
   "outputs": [
    {
     "data": {
      "text/html": [
       "<div>\n",
       "<style scoped>\n",
       "    .dataframe tbody tr th:only-of-type {\n",
       "        vertical-align: middle;\n",
       "    }\n",
       "\n",
       "    .dataframe tbody tr th {\n",
       "        vertical-align: top;\n",
       "    }\n",
       "\n",
       "    .dataframe thead th {\n",
       "        text-align: right;\n",
       "    }\n",
       "</style>\n",
       "<table border=\"1\" class=\"dataframe\">\n",
       "  <thead>\n",
       "    <tr style=\"text-align: right;\">\n",
       "      <th></th>\n",
       "      <th>na_sales</th>\n",
       "    </tr>\n",
       "    <tr>\n",
       "      <th>genre</th>\n",
       "      <th></th>\n",
       "    </tr>\n",
       "  </thead>\n",
       "  <tbody>\n",
       "    <tr>\n",
       "      <th>Action</th>\n",
       "      <td>177.84</td>\n",
       "    </tr>\n",
       "    <tr>\n",
       "      <th>Shooter</th>\n",
       "      <td>144.77</td>\n",
       "    </tr>\n",
       "    <tr>\n",
       "      <th>Sports</th>\n",
       "      <td>81.53</td>\n",
       "    </tr>\n",
       "    <tr>\n",
       "      <th>Role-Playing</th>\n",
       "      <td>64.00</td>\n",
       "    </tr>\n",
       "    <tr>\n",
       "      <th>Misc</th>\n",
       "      <td>38.19</td>\n",
       "    </tr>\n",
       "  </tbody>\n",
       "</table>\n",
       "</div>"
      ],
      "text/plain": [
       "              na_sales\n",
       "genre                 \n",
       "Action          177.84\n",
       "Shooter         144.77\n",
       "Sports           81.53\n",
       "Role-Playing     64.00\n",
       "Misc             38.19"
      ]
     },
     "metadata": {},
     "output_type": "display_data"
    },
    {
     "data": {
      "image/png": "[encoded data removed]",
      "text/plain": [
       "<Figure size 432x432 with 1 Axes>"
      ]
     },
     "metadata": {},
     "output_type": "display_data"
    }
   ],
   "source": [
    "na_genre_sale = actual_period.pivot_table(index='genre', values='na_sales',\n",
    "                                        aggfunc='sum').sort_values('na_sales', ascending=False).head(5)\n",
    "display(na_genre_sale)\n",
    "na_genre_sale.plot(kind='pie', autopct='%.2f%%', figsize=(6, 6), legend=False, subplots=True)\n",
    "plt.show()"
   ]
  },
  {
   "cell_type": "code",
   "execution_count": 47,
   "metadata": {},
   "outputs": [
    {
     "data": {
      "text/html": [
       "<div>\n",
       "<style scoped>\n",
       "    .dataframe tbody tr th:only-of-type {\n",
       "        vertical-align: middle;\n",
       "    }\n",
       "\n",
       "    .dataframe tbody tr th {\n",
       "        vertical-align: top;\n",
       "    }\n",
       "\n",
       "    .dataframe thead th {\n",
       "        text-align: right;\n",
       "    }\n",
       "</style>\n",
       "<table border=\"1\" class=\"dataframe\">\n",
       "  <thead>\n",
       "    <tr style=\"text-align: right;\">\n",
       "      <th></th>\n",
       "      <th>eu_sales</th>\n",
       "    </tr>\n",
       "    <tr>\n",
       "      <th>genre</th>\n",
       "      <th></th>\n",
       "    </tr>\n",
       "  </thead>\n",
       "  <tbody>\n",
       "    <tr>\n",
       "      <th>Action</th>\n",
       "      <td>159.34</td>\n",
       "    </tr>\n",
       "    <tr>\n",
       "      <th>Shooter</th>\n",
       "      <td>113.47</td>\n",
       "    </tr>\n",
       "    <tr>\n",
       "      <th>Sports</th>\n",
       "      <td>69.09</td>\n",
       "    </tr>\n",
       "    <tr>\n",
       "      <th>Role-Playing</th>\n",
       "      <td>48.53</td>\n",
       "    </tr>\n",
       "    <tr>\n",
       "      <th>Racing</th>\n",
       "      <td>27.29</td>\n",
       "    </tr>\n",
       "  </tbody>\n",
       "</table>\n",
       "</div>"
      ],
      "text/plain": [
       "              eu_sales\n",
       "genre                 \n",
       "Action          159.34\n",
       "Shooter         113.47\n",
       "Sports           69.09\n",
       "Role-Playing     48.53\n",
       "Racing           27.29"
      ]
     },
     "metadata": {},
     "output_type": "display_data"
    },
    {
     "data": {
      "image/png": "[encoded data removed]",
      "text/plain": [
       "<Figure size 432x432 with 1 Axes>"
      ]
     },
     "metadata": {},
     "output_type": "display_data"
    }
   ],
   "source": [
    "eu_genre_sale = actual_period.pivot_table(index='genre', values='eu_sales',\n",
    "                                        aggfunc='sum').sort_values('eu_sales', ascending=False).head(5)\n",
    "display(eu_genre_sale)\n",
    "eu_genre_sale.plot(kind='pie', autopct='%.2f%%', figsize=(6, 6), legend=False, subplots=True)\n",
    "plt.show()"
   ]
  },
  {
   "cell_type": "code",
   "execution_count": 48,
   "metadata": {
    "scrolled": true
   },
   "outputs": [
    {
     "data": {
      "text/html": [
       "<div>\n",
       "<style scoped>\n",
       "    .dataframe tbody tr th:only-of-type {\n",
       "        vertical-align: middle;\n",
       "    }\n",
       "\n",
       "    .dataframe tbody tr th {\n",
       "        vertical-align: top;\n",
       "    }\n",
       "\n",
       "    .dataframe thead th {\n",
       "        text-align: right;\n",
       "    }\n",
       "</style>\n",
       "<table border=\"1\" class=\"dataframe\">\n",
       "  <thead>\n",
       "    <tr style=\"text-align: right;\">\n",
       "      <th></th>\n",
       "      <th>jp_sales</th>\n",
       "    </tr>\n",
       "    <tr>\n",
       "      <th>genre</th>\n",
       "      <th></th>\n",
       "    </tr>\n",
       "  </thead>\n",
       "  <tbody>\n",
       "    <tr>\n",
       "      <th>Role-Playing</th>\n",
       "      <td>65.44</td>\n",
       "    </tr>\n",
       "    <tr>\n",
       "      <th>Action</th>\n",
       "      <td>52.80</td>\n",
       "    </tr>\n",
       "    <tr>\n",
       "      <th>Misc</th>\n",
       "      <td>12.86</td>\n",
       "    </tr>\n",
       "    <tr>\n",
       "      <th>Simulation</th>\n",
       "      <td>10.41</td>\n",
       "    </tr>\n",
       "    <tr>\n",
       "      <th>Fighting</th>\n",
       "      <td>9.44</td>\n",
       "    </tr>\n",
       "  </tbody>\n",
       "</table>\n",
       "</div>"
      ],
      "text/plain": [
       "              jp_sales\n",
       "genre                 \n",
       "Role-Playing     65.44\n",
       "Action           52.80\n",
       "Misc             12.86\n",
       "Simulation       10.41\n",
       "Fighting          9.44"
      ]
     },
     "metadata": {},
     "output_type": "display_data"
    },
    {
     "data": {
      "image/png": "[encoded data removed]",
      "text/plain": [
       "<Figure size 432x432 with 1 Axes>"
      ]
     },
     "metadata": {},
     "output_type": "display_data"
    }
   ],
   "source": [
    "jp_genre_sale = actual_period.pivot_table(index='genre', values='jp_sales',\n",
    "                                        aggfunc='sum').sort_values('jp_sales', ascending=False).head(5)\n",
    "display(jp_genre_sale)\n",
    "jp_genre_sale.plot(kind='pie', autopct='%.2f%%', figsize=(6, 6), legend=False, subplots=True)\n",
    "plt.show()"
   ]
  },
  {
   "cell_type": "markdown",
   "metadata": {},
   "source": [
    "<p>\n",
    "<div class=\"alert-info\">\n",
    "\n",
    "Определил топ-5 жанров по общим продажам в каждом регионе:\n",
    "1. Северная Америка - Action, Shooter, Sports, Role-Playing, Misc\n",
    "2. Европа - Action, Shooter, Sports, Role-Playing, Racing\n",
    "3. Япония - Role-Playing, Action, Misc, Simulation, Fighting\n",
    "    \n",
    "По данной статистике можно сразу соотнести схожесть в интересах жанров у Северной Америки и Европы, а то есть у обоих регионов в топе жанры Action, Shooter, Sports.\n",
    "\n",
    "В Японии же вновь есть отличия по предпочитаемым жанрам. Самые предпочитаемые жанры в Японии -  Role-Playing, Action, Misc.\n",
    "    \n",
    "Из этих данных видно, что в Японии больше любят игры с головоломками и РПГ. В Северной Америке и Европе больше любят шутеры и экшн.\n",
    "    \n",
    "В данных так же можно увидеть что общие жанры в топ-5 у всех регионов - Action, так как это один из самых популярных жанров. Отдельно можно ещё отметить жанр - Shooter.\n",
    "\n",
    "</div>"
   ]
  },
  {
   "cell_type": "code",
   "execution_count": 49,
   "metadata": {},
   "outputs": [
    {
     "data": {
      "text/html": [
       "<div>\n",
       "<style scoped>\n",
       "    .dataframe tbody tr th:only-of-type {\n",
       "        vertical-align: middle;\n",
       "    }\n",
       "\n",
       "    .dataframe tbody tr th {\n",
       "        vertical-align: top;\n",
       "    }\n",
       "\n",
       "    .dataframe thead th {\n",
       "        text-align: right;\n",
       "    }\n",
       "</style>\n",
       "<table border=\"1\" class=\"dataframe\">\n",
       "  <thead>\n",
       "    <tr style=\"text-align: right;\">\n",
       "      <th></th>\n",
       "      <th>na_sales</th>\n",
       "    </tr>\n",
       "    <tr>\n",
       "      <th>rating</th>\n",
       "      <th></th>\n",
       "    </tr>\n",
       "  </thead>\n",
       "  <tbody>\n",
       "    <tr>\n",
       "      <th>M</th>\n",
       "      <td>231.57</td>\n",
       "    </tr>\n",
       "    <tr>\n",
       "      <th>E</th>\n",
       "      <td>114.37</td>\n",
       "    </tr>\n",
       "    <tr>\n",
       "      <th>Other</th>\n",
       "      <td>103.31</td>\n",
       "    </tr>\n",
       "    <tr>\n",
       "      <th>E10+</th>\n",
       "      <td>75.70</td>\n",
       "    </tr>\n",
       "    <tr>\n",
       "      <th>T</th>\n",
       "      <td>66.02</td>\n",
       "    </tr>\n",
       "  </tbody>\n",
       "</table>\n",
       "</div>"
      ],
      "text/plain": [
       "        na_sales\n",
       "rating          \n",
       "M         231.57\n",
       "E         114.37\n",
       "Other     103.31\n",
       "E10+       75.70\n",
       "T          66.02"
      ]
     },
     "metadata": {},
     "output_type": "display_data"
    },
    {
     "data": {
      "image/png": "[encoded data removed]",
      "text/plain": [
       "<Figure size 432x432 with 1 Axes>"
      ]
     },
     "metadata": {},
     "output_type": "display_data"
    }
   ],
   "source": [
    "na_rating_sale = actual_period.pivot_table(index='rating', values='na_sales',\n",
    "                                        aggfunc='sum').sort_values('na_sales', ascending=False).head(5)\n",
    "display(na_rating_sale)\n",
    "na_rating_sale.plot(kind='pie', autopct='%.2f%%', figsize=(6, 6), legend=False, subplots=True)\n",
    "plt.show()"
   ]
  },
  {
   "cell_type": "code",
   "execution_count": 50,
   "metadata": {},
   "outputs": [
    {
     "data": {
      "text/html": [
       "<div>\n",
       "<style scoped>\n",
       "    .dataframe tbody tr th:only-of-type {\n",
       "        vertical-align: middle;\n",
       "    }\n",
       "\n",
       "    .dataframe tbody tr th {\n",
       "        vertical-align: top;\n",
       "    }\n",
       "\n",
       "    .dataframe thead th {\n",
       "        text-align: right;\n",
       "    }\n",
       "</style>\n",
       "<table border=\"1\" class=\"dataframe\">\n",
       "  <thead>\n",
       "    <tr style=\"text-align: right;\">\n",
       "      <th></th>\n",
       "      <th>eu_sales</th>\n",
       "    </tr>\n",
       "    <tr>\n",
       "      <th>rating</th>\n",
       "      <th></th>\n",
       "    </tr>\n",
       "  </thead>\n",
       "  <tbody>\n",
       "    <tr>\n",
       "      <th>M</th>\n",
       "      <td>193.96</td>\n",
       "    </tr>\n",
       "    <tr>\n",
       "      <th>E</th>\n",
       "      <td>113.03</td>\n",
       "    </tr>\n",
       "    <tr>\n",
       "      <th>Other</th>\n",
       "      <td>91.50</td>\n",
       "    </tr>\n",
       "    <tr>\n",
       "      <th>E10+</th>\n",
       "      <td>55.37</td>\n",
       "    </tr>\n",
       "    <tr>\n",
       "      <th>T</th>\n",
       "      <td>52.96</td>\n",
       "    </tr>\n",
       "  </tbody>\n",
       "</table>\n",
       "</div>"
      ],
      "text/plain": [
       "        eu_sales\n",
       "rating          \n",
       "M         193.96\n",
       "E         113.03\n",
       "Other      91.50\n",
       "E10+       55.37\n",
       "T          52.96"
      ]
     },
     "metadata": {},
     "output_type": "display_data"
    },
    {
     "data": {
      "image/png": "[encoded data removed]",
      "text/plain": [
       "<Figure size 432x432 with 1 Axes>"
      ]
     },
     "metadata": {},
     "output_type": "display_data"
    }
   ],
   "source": [
    "eu_rating_sale = actual_period.pivot_table(index='rating', values='eu_sales',\n",
    "                                        aggfunc='sum').sort_values('eu_sales', ascending=False).head(5)\n",
    "display(eu_rating_sale)\n",
    "eu_rating_sale.plot(kind='pie', autopct='%.2f%%', figsize=(6, 6), legend=False, subplots=True)\n",
    "plt.show()"
   ]
  },
  {
   "cell_type": "code",
   "execution_count": 51,
   "metadata": {},
   "outputs": [
    {
     "data": {
      "text/html": [
       "<div>\n",
       "<style scoped>\n",
       "    .dataframe tbody tr th:only-of-type {\n",
       "        vertical-align: middle;\n",
       "    }\n",
       "\n",
       "    .dataframe tbody tr th {\n",
       "        vertical-align: top;\n",
       "    }\n",
       "\n",
       "    .dataframe thead th {\n",
       "        text-align: right;\n",
       "    }\n",
       "</style>\n",
       "<table border=\"1\" class=\"dataframe\">\n",
       "  <thead>\n",
       "    <tr style=\"text-align: right;\">\n",
       "      <th></th>\n",
       "      <th>jp_sales</th>\n",
       "    </tr>\n",
       "    <tr>\n",
       "      <th>rating</th>\n",
       "      <th></th>\n",
       "    </tr>\n",
       "  </thead>\n",
       "  <tbody>\n",
       "    <tr>\n",
       "      <th>Other</th>\n",
       "      <td>108.84</td>\n",
       "    </tr>\n",
       "    <tr>\n",
       "      <th>E</th>\n",
       "      <td>28.33</td>\n",
       "    </tr>\n",
       "    <tr>\n",
       "      <th>T</th>\n",
       "      <td>26.02</td>\n",
       "    </tr>\n",
       "    <tr>\n",
       "      <th>M</th>\n",
       "      <td>21.20</td>\n",
       "    </tr>\n",
       "    <tr>\n",
       "      <th>E10+</th>\n",
       "      <td>8.19</td>\n",
       "    </tr>\n",
       "  </tbody>\n",
       "</table>\n",
       "</div>"
      ],
      "text/plain": [
       "        jp_sales\n",
       "rating          \n",
       "Other     108.84\n",
       "E          28.33\n",
       "T          26.02\n",
       "M          21.20\n",
       "E10+        8.19"
      ]
     },
     "metadata": {},
     "output_type": "display_data"
    },
    {
     "data": {
      "image/png": "[encoded data removed]",
      "text/plain": [
       "<Figure size 432x432 with 1 Axes>"
      ]
     },
     "metadata": {},
     "output_type": "display_data"
    }
   ],
   "source": [
    "jp_rating_sale = actual_period.pivot_table(index='rating', values='jp_sales',\n",
    "                                        aggfunc='sum').sort_values('jp_sales', ascending=False).head(5)\n",
    "display(jp_rating_sale)\n",
    "jp_rating_sale.plot(kind='pie', autopct='%.2f%%', figsize=(6, 6), legend=False, subplots=True)\n",
    "plt.show()"
   ]
  },
  {
   "cell_type": "markdown",
   "metadata": {},
   "source": [
    "<p>\n",
    "<div class=\"alert-info\">\n",
    "\n",
    "\n",
    "Для ознакомления напишу расшифровку каждого рейтинга:    \n",
    "    \n",
    "E - Подходит для всех возрастов.\n",
    "\n",
    "E10+ - Для всех от 10 лет и старше. \n",
    "\n",
    "T - Игра подходит для лиц от 13 лет\n",
    "\n",
    "M - Материалы игры не подходят для лиц младше 17 лет\n",
    "</div>"
   ]
  },
  {
   "cell_type": "markdown",
   "metadata": {},
   "source": [
    "<p>\n",
    "<div class=\"alert-info\">\n",
    "\n",
    "\n",
    "Теперь перейдём к анализу влияния рейтинга ESRB на продажи в каждом регионе.\n",
    "    \n",
    "Определил топ рейтинга ESRB по общим продажам в каждом регионе:\n",
    "1. Северная Америка - M, E, Other, E10+, T\n",
    "2. Европа - M, E, Other, E10+, T\n",
    "3. Япония - Other, E, T, M, E10+\n",
    "    \n",
    "Да, рейтинг ESRB влияет на продажи в каждом регионе, объясню почему.\n",
    "    \n",
    "Как видно из графиков, у нас вновь очень похожи интересы Северной Америки и Европы, топ спроса игр по рейтингу одинаков. Северная Америка и Европа больше предпочитают игры рейтинга для взрослых, от 17 и старше. Данные регионы сконцетрировались на продажах игр в основном для взрослого поколения.\n",
    "    \n",
    "В Японии же видим другую ситуацию, первое место рейтингов занимает Other - это значит что игры без чёткого рейтинга, и мы точно не можем сказать какой тут рейтинг. Но по чётким показателям первое место занимает рейтинг E - то есть игры для всех возрастов. Данный регион сконцетрировался на всех поколениях.\n",
    "</div>"
   ]
  },
  {
   "cell_type": "markdown",
   "metadata": {},
   "source": [
    "### Проверьте гипотезы"
   ]
  },
  {
   "cell_type": "markdown",
   "metadata": {},
   "source": [
    "**5.1 Средние пользовательские рейтинги платформ Xbox One и PC одинаковые**"
   ]
  },
  {
   "cell_type": "markdown",
   "metadata": {},
   "source": [
    "<p>\n",
    "<div class=\"alert-info\">\n",
    "\n",
    "H_0: Средние пользовательские рейтинги платформ XOne и PC равны.\n",
    "\n",
    "H_1: Средние пользовательские рейтинги платформ XOne и PC не равны.\n",
    "</div>"
   ]
  },
  {
   "cell_type": "code",
   "execution_count": 52,
   "metadata": {},
   "outputs": [],
   "source": [
    "rating_xbox = actual_period[(actual_period['platform'] == 'XOne') & (actual_period['user_score'] > 0)]['user_score']\n",
    "rating_pc = actual_period[(actual_period['platform'] == 'PC') & (actual_period['user_score'] > 0)]['user_score']"
   ]
  },
  {
   "cell_type": "code",
   "execution_count": 53,
   "metadata": {
    "scrolled": true
   },
   "outputs": [
    {
     "name": "stdout",
     "output_type": "stream",
     "text": [
      "p-значение: 0.5535080500643661\n",
      "Не получилось отвергнуть нулевую гипотезу\n"
     ]
    }
   ],
   "source": [
    "\n",
    "alpha = 0.05\n",
    "\n",
    "results = st.ttest_ind(rating_xbox, rating_pc)\n",
    "\n",
    "print('p-значение:', results.pvalue)\n",
    "\n",
    "if results.pvalue < alpha:\n",
    "    print('Отвергаем нулевую гипотезу')\n",
    "else:\n",
    "    print('Не получилось отвергнуть нулевую гипотезу') "
   ]
  },
  {
   "cell_type": "markdown",
   "metadata": {},
   "source": [
    "<p>\n",
    "<div class=\"alert-info\">\n",
    "\n",
    "\n",
    "Гипотеза принята, средние пользовательские рейтинги платформ Xbox One и PC одинаковые.\n",
    "</div>"
   ]
  },
  {
   "cell_type": "markdown",
   "metadata": {},
   "source": [
    "**5.2 Средние пользовательские рейтинги жанров Action и Sports разные**"
   ]
  },
  {
   "cell_type": "markdown",
   "metadata": {},
   "source": [
    "<p>\n",
    "<div class=\"alert-info\">\n",
    "\n",
    "\n",
    "H_0: Средние пользовательские рейтинги жанров Action и Sports равны.\n",
    "\n",
    "H_1: Средние пользовательские рейтинги жанров Action и Sports не равны.\n",
    "</div>"
   ]
  },
  {
   "cell_type": "code",
   "execution_count": 54,
   "metadata": {},
   "outputs": [],
   "source": [
    "rating_action = actual_period[(actual_period['genre'] == 'Action') & (actual_period['user_score'] > 0)]['user_score']\n",
    "rating_sports = actual_period[(actual_period['genre'] == 'Sports') & (actual_period['user_score'] > 0)]['user_score']"
   ]
  },
  {
   "cell_type": "code",
   "execution_count": 55,
   "metadata": {},
   "outputs": [
    {
     "name": "stdout",
     "output_type": "stream",
     "text": [
      "p-значение: 3.7163089460934874e-26\n",
      "Отвергаем нулевую гипотезу\n"
     ]
    }
   ],
   "source": [
    "alpha = 0.05\n",
    "\n",
    "results = st.ttest_ind(rating_action, rating_sports)\n",
    "\n",
    "print('p-значение:', results.pvalue)\n",
    "\n",
    "if results.pvalue < alpha:\n",
    "    print('Отвергаем нулевую гипотезу')\n",
    "else:\n",
    "    print('Не получилось отвергнуть нулевую гипотезу') "
   ]
  },
  {
   "cell_type": "markdown",
   "metadata": {},
   "source": [
    "<p>\n",
    "<div class=\"alert-info\">\n",
    "\n",
    "\n",
    "Гипотеза принята, средние пользовательские рейтинги жанров Action и Sports разные.\n",
    "</div>"
   ]
  },
  {
   "cell_type": "markdown",
   "metadata": {},
   "source": [
    "### Общий вывод"
   ]
  },
  {
   "cell_type": "markdown",
   "metadata": {},
   "source": [
    "<p>\n",
    "<div class=\"alert-info\">\n",
    "\n",
    "    \n",
    "В данных изначально было замечено много пропусков, которые в дальнейшем я проработал. Проверил так же данные на дубликаты и таковых не было замечено.\n",
    "    \n",
    "**Итоговый вывод**\n",
    "\n",
    "1. Актуальными данными для прогнозирования продаж на 2017 год являлись продажи за 2012-2016 год.\n",
    "    \n",
    "2. Выяснил что платформы обычно актуальны 6-10 лет, так как PS3 и X360 начали идти на спад и им пришли на замену PS4 и XOne, то именно в их сторону надо прогнозировать продажи. Так же актуальной является платформа 3DS.\n",
    "    \n",
    "3. Пик по выпуску игр был в 2008 и 2009 годах, с 2010 года выпуск игр пошел на спад, предположительно из-за доступности интернета, онлайн игр, социальных сетей. Но с 2012 года количество выпускаемых игр стабилизировалось.\n",
    "    \n",
    "4. Больше всего продаж за всё время было на платформах PS2 и X360.\n",
    "    \n",
    "5. В Северной Америке и в Европе чаще играют в Action и в Shooter. В Японии сильно отдичается игровая идустрия, в основном играют в Role-Playing.\n",
    "\n",
    "6. В Северной Америке чаще используют платформы своего регионального производства, в Японии используют платформы своего регионалного производства, а в Европе используют платформы обоих регионов.\n",
    "    \n",
    "7. В Северной Америке и Европе зачастую берут игры для аудитории старше 17 лет, в Японии для любой аудитории.\n",
    "    \n",
    "8. В целом есть все основания полагать что рынок игр будет продолжать падать.\n",
    "    \n",
    "Рекомендации и прогноз на 2017 год:\n",
    "\n",
    "Стоит акцентировать внимание на игры для платформ PS4, XOne, 3DS. Сфокусироваться на жанрах Action, Shooter и Role-Playing. Чаще подбирать игры для аудитории старше 17 лет. В Японии быть готовым работать по региональным предпочтениям.\n",
    "    \n",
    "</div>"
   ]
  },
  {
   "cell_type": "code",
   "execution_count": null,
   "metadata": {},
   "outputs": [],
   "source": []
  }
 ],
 "metadata": {
  "ExecuteTimeLog": [
   {
    "duration": 413,
    "start_time": "2023-02-16T20:53:52.428Z"
   },
   {
    "duration": 99,
    "start_time": "2023-02-16T20:54:38.310Z"
   },
   {
    "duration": 205,
    "start_time": "2023-02-16T20:54:41.971Z"
   },
   {
    "duration": 20,
    "start_time": "2023-02-16T20:54:56.324Z"
   },
   {
    "duration": 35,
    "start_time": "2023-02-16T20:55:12.628Z"
   },
   {
    "duration": 1081,
    "start_time": "2023-02-16T20:56:06.384Z"
   },
   {
    "duration": 725,
    "start_time": "2023-02-16T20:56:39.867Z"
   },
   {
    "duration": 103,
    "start_time": "2023-02-21T22:33:06.816Z"
   },
   {
    "duration": 1128,
    "start_time": "2023-02-21T22:33:20.582Z"
   },
   {
    "duration": 48,
    "start_time": "2023-02-21T22:33:24.963Z"
   },
   {
    "duration": 792,
    "start_time": "2023-02-21T22:33:30.605Z"
   },
   {
    "duration": 3,
    "start_time": "2023-02-21T22:33:54.946Z"
   },
   {
    "duration": 17,
    "start_time": "2023-02-21T22:34:20.137Z"
   },
   {
    "duration": 33,
    "start_time": "2023-02-21T22:34:51.665Z"
   },
   {
    "duration": 14,
    "start_time": "2023-02-21T22:35:04.887Z"
   },
   {
    "duration": 17,
    "start_time": "2023-02-21T22:35:10.344Z"
   },
   {
    "duration": 12,
    "start_time": "2023-02-21T22:35:22.761Z"
   },
   {
    "duration": 20,
    "start_time": "2023-02-21T22:35:28.227Z"
   },
   {
    "duration": 311,
    "start_time": "2023-02-21T22:35:49.132Z"
   },
   {
    "duration": 281,
    "start_time": "2023-02-21T22:36:02.452Z"
   },
   {
    "duration": 217,
    "start_time": "2023-02-21T22:36:17.122Z"
   },
   {
    "duration": 224,
    "start_time": "2023-02-21T22:36:48.260Z"
   },
   {
    "duration": 159,
    "start_time": "2023-02-21T22:36:53.867Z"
   },
   {
    "duration": 154,
    "start_time": "2023-02-21T22:36:59.420Z"
   },
   {
    "duration": 160,
    "start_time": "2023-02-21T22:37:04.360Z"
   },
   {
    "duration": 176,
    "start_time": "2023-02-21T22:37:10.462Z"
   },
   {
    "duration": 165,
    "start_time": "2023-02-21T22:37:17.259Z"
   },
   {
    "duration": 15,
    "start_time": "2023-02-21T22:37:28.863Z"
   },
   {
    "duration": 204,
    "start_time": "2023-02-21T22:37:53.125Z"
   },
   {
    "duration": 192,
    "start_time": "2023-02-21T22:37:59.234Z"
   },
   {
    "duration": 237,
    "start_time": "2023-02-21T22:38:20.281Z"
   },
   {
    "duration": 335,
    "start_time": "2023-02-21T22:38:33.862Z"
   },
   {
    "duration": 4,
    "start_time": "2023-02-21T22:38:45.369Z"
   },
   {
    "duration": 182,
    "start_time": "2023-02-21T22:38:50.200Z"
   },
   {
    "duration": 1485,
    "start_time": "2023-02-21T22:39:02.471Z"
   },
   {
    "duration": 5,
    "start_time": "2023-02-21T22:39:19.315Z"
   },
   {
    "duration": 5,
    "start_time": "2023-02-21T22:39:25.652Z"
   },
   {
    "duration": 1664,
    "start_time": "2023-02-21T22:39:48.085Z"
   },
   {
    "duration": 5,
    "start_time": "2023-02-21T22:39:53.096Z"
   },
   {
    "duration": 6,
    "start_time": "2023-02-21T22:39:57.303Z"
   },
   {
    "duration": 1580,
    "start_time": "2023-02-21T22:40:00.844Z"
   },
   {
    "duration": 5,
    "start_time": "2023-02-21T22:40:04.903Z"
   },
   {
    "duration": 5,
    "start_time": "2023-02-21T22:40:09.871Z"
   },
   {
    "duration": 1667,
    "start_time": "2023-02-21T22:40:13.714Z"
   },
   {
    "duration": 5,
    "start_time": "2023-02-21T22:40:18.445Z"
   },
   {
    "duration": 5,
    "start_time": "2023-02-21T22:40:21.085Z"
   },
   {
    "duration": 1455,
    "start_time": "2023-02-21T22:40:24.590Z"
   },
   {
    "duration": 4,
    "start_time": "2023-02-21T22:40:29.885Z"
   },
   {
    "duration": 4,
    "start_time": "2023-02-21T22:40:33.963Z"
   },
   {
    "duration": 180,
    "start_time": "2023-02-21T22:40:43.556Z"
   },
   {
    "duration": 112,
    "start_time": "2023-02-21T22:41:08.907Z"
   },
   {
    "duration": 251,
    "start_time": "2023-02-21T22:41:15.009Z"
   },
   {
    "duration": 119,
    "start_time": "2023-02-21T22:41:18.628Z"
   },
   {
    "duration": 1150,
    "start_time": "2023-02-21T22:41:37.775Z"
   },
   {
    "duration": 47,
    "start_time": "2023-02-21T22:41:38.927Z"
   },
   {
    "duration": 749,
    "start_time": "2023-02-21T22:41:38.977Z"
   },
   {
    "duration": 17,
    "start_time": "2023-02-21T22:41:39.727Z"
   },
   {
    "duration": 34,
    "start_time": "2023-02-21T22:41:39.746Z"
   },
   {
    "duration": 34,
    "start_time": "2023-02-21T22:41:39.781Z"
   },
   {
    "duration": 11,
    "start_time": "2023-02-21T22:41:39.817Z"
   },
   {
    "duration": 13,
    "start_time": "2023-02-21T22:41:39.830Z"
   },
   {
    "duration": 20,
    "start_time": "2023-02-21T22:41:39.845Z"
   },
   {
    "duration": 352,
    "start_time": "2023-02-21T22:41:39.867Z"
   },
   {
    "duration": 287,
    "start_time": "2023-02-21T22:41:40.221Z"
   },
   {
    "duration": 195,
    "start_time": "2023-02-21T22:41:40.510Z"
   },
   {
    "duration": 236,
    "start_time": "2023-02-21T22:41:40.707Z"
   },
   {
    "duration": 171,
    "start_time": "2023-02-21T22:41:40.946Z"
   },
   {
    "duration": 167,
    "start_time": "2023-02-21T22:41:41.118Z"
   },
   {
    "duration": 169,
    "start_time": "2023-02-21T22:41:41.287Z"
   },
   {
    "duration": 179,
    "start_time": "2023-02-21T22:41:41.457Z"
   },
   {
    "duration": 148,
    "start_time": "2023-02-21T22:41:41.638Z"
   },
   {
    "duration": 22,
    "start_time": "2023-02-21T22:41:41.787Z"
   },
   {
    "duration": 177,
    "start_time": "2023-02-21T22:41:41.810Z"
   },
   {
    "duration": 190,
    "start_time": "2023-02-21T22:41:41.989Z"
   },
   {
    "duration": 240,
    "start_time": "2023-02-21T22:41:42.181Z"
   },
   {
    "duration": 324,
    "start_time": "2023-02-21T22:41:42.423Z"
   },
   {
    "duration": 4,
    "start_time": "2023-02-21T22:41:42.749Z"
   },
   {
    "duration": 175,
    "start_time": "2023-02-21T22:41:42.755Z"
   },
   {
    "duration": 1553,
    "start_time": "2023-02-21T22:41:42.932Z"
   },
   {
    "duration": 5,
    "start_time": "2023-02-21T22:41:44.487Z"
   },
   {
    "duration": 7,
    "start_time": "2023-02-21T22:41:44.494Z"
   },
   {
    "duration": 3129,
    "start_time": "2023-02-21T22:41:44.503Z"
   },
   {
    "duration": 6,
    "start_time": "2023-02-21T22:41:47.634Z"
   },
   {
    "duration": 66,
    "start_time": "2023-02-21T22:41:47.641Z"
   },
   {
    "duration": 2937,
    "start_time": "2023-02-21T22:41:47.709Z"
   },
   {
    "duration": 7,
    "start_time": "2023-02-21T22:41:50.702Z"
   },
   {
    "duration": 14,
    "start_time": "2023-02-21T22:41:50.710Z"
   },
   {
    "duration": 3597,
    "start_time": "2023-02-21T22:41:50.726Z"
   },
   {
    "duration": 4,
    "start_time": "2023-02-21T22:41:54.325Z"
   },
   {
    "duration": 7,
    "start_time": "2023-02-21T22:41:54.331Z"
   },
   {
    "duration": 2976,
    "start_time": "2023-02-21T22:41:54.340Z"
   },
   {
    "duration": 6,
    "start_time": "2023-02-21T22:41:57.318Z"
   },
   {
    "duration": 12,
    "start_time": "2023-02-21T22:41:57.327Z"
   },
   {
    "duration": 404,
    "start_time": "2023-02-21T22:41:57.402Z"
   },
   {
    "duration": 340,
    "start_time": "2023-02-21T22:41:57.808Z"
   },
   {
    "duration": 266,
    "start_time": "2023-02-21T22:41:58.150Z"
   },
   {
    "duration": 507,
    "start_time": "2023-02-21T22:41:58.418Z"
   },
   {
    "duration": 106,
    "start_time": "2023-02-21T22:43:31.519Z"
   },
   {
    "duration": 119,
    "start_time": "2023-02-21T22:43:48.019Z"
   },
   {
    "duration": 106,
    "start_time": "2023-02-21T22:43:53.259Z"
   },
   {
    "duration": 109,
    "start_time": "2023-02-21T22:44:46.082Z"
   },
   {
    "duration": 112,
    "start_time": "2023-02-21T22:44:51.812Z"
   },
   {
    "duration": 110,
    "start_time": "2023-02-21T22:44:57.943Z"
   },
   {
    "duration": 111,
    "start_time": "2023-02-21T22:45:00.517Z"
   },
   {
    "duration": 117,
    "start_time": "2023-02-21T22:55:21.696Z"
   },
   {
    "duration": 121,
    "start_time": "2023-02-21T22:55:35.722Z"
   },
   {
    "duration": 113,
    "start_time": "2023-02-21T22:55:44.730Z"
   },
   {
    "duration": 106,
    "start_time": "2023-02-21T22:56:58.640Z"
   },
   {
    "duration": 114,
    "start_time": "2023-02-21T22:56:58.906Z"
   },
   {
    "duration": 119,
    "start_time": "2023-02-21T22:56:59.351Z"
   },
   {
    "duration": 1093,
    "start_time": "2023-02-21T22:57:11.945Z"
   },
   {
    "duration": 48,
    "start_time": "2023-02-21T22:57:13.040Z"
   },
   {
    "duration": 746,
    "start_time": "2023-02-21T22:57:13.090Z"
   },
   {
    "duration": 17,
    "start_time": "2023-02-21T22:57:13.838Z"
   },
   {
    "duration": 48,
    "start_time": "2023-02-21T22:57:13.858Z"
   },
   {
    "duration": 15,
    "start_time": "2023-02-21T22:57:13.908Z"
   },
   {
    "duration": 13,
    "start_time": "2023-02-21T22:57:13.926Z"
   },
   {
    "duration": 15,
    "start_time": "2023-02-21T22:57:13.941Z"
   },
   {
    "duration": 55,
    "start_time": "2023-02-21T22:57:13.958Z"
   },
   {
    "duration": 356,
    "start_time": "2023-02-21T22:57:14.016Z"
   },
   {
    "duration": 283,
    "start_time": "2023-02-21T22:57:14.374Z"
   },
   {
    "duration": 196,
    "start_time": "2023-02-21T22:57:14.658Z"
   },
   {
    "duration": 243,
    "start_time": "2023-02-21T22:57:14.855Z"
   },
   {
    "duration": 172,
    "start_time": "2023-02-21T22:57:15.102Z"
   },
   {
    "duration": 156,
    "start_time": "2023-02-21T22:57:15.276Z"
   },
   {
    "duration": 158,
    "start_time": "2023-02-21T22:57:15.433Z"
   },
   {
    "duration": 183,
    "start_time": "2023-02-21T22:57:15.592Z"
   },
   {
    "duration": 161,
    "start_time": "2023-02-21T22:57:15.776Z"
   },
   {
    "duration": 14,
    "start_time": "2023-02-21T22:57:15.938Z"
   },
   {
    "duration": 180,
    "start_time": "2023-02-21T22:57:15.953Z"
   },
   {
    "duration": 185,
    "start_time": "2023-02-21T22:57:16.134Z"
   },
   {
    "duration": 239,
    "start_time": "2023-02-21T22:57:16.320Z"
   },
   {
    "duration": 319,
    "start_time": "2023-02-21T22:57:16.561Z"
   },
   {
    "duration": 4,
    "start_time": "2023-02-21T22:57:16.881Z"
   },
   {
    "duration": 173,
    "start_time": "2023-02-21T22:57:16.886Z"
   },
   {
    "duration": 1432,
    "start_time": "2023-02-21T22:57:17.060Z"
   },
   {
    "duration": 5,
    "start_time": "2023-02-21T22:57:18.494Z"
   },
   {
    "duration": 7,
    "start_time": "2023-02-21T22:57:18.500Z"
   },
   {
    "duration": 1515,
    "start_time": "2023-02-21T22:57:18.508Z"
   },
   {
    "duration": 5,
    "start_time": "2023-02-21T22:57:20.025Z"
   },
   {
    "duration": 13,
    "start_time": "2023-02-21T22:57:20.032Z"
   },
   {
    "duration": 1416,
    "start_time": "2023-02-21T22:57:20.047Z"
   },
   {
    "duration": 5,
    "start_time": "2023-02-21T22:57:21.465Z"
   },
   {
    "duration": 8,
    "start_time": "2023-02-21T22:57:21.471Z"
   },
   {
    "duration": 1704,
    "start_time": "2023-02-21T22:57:21.481Z"
   },
   {
    "duration": 4,
    "start_time": "2023-02-21T22:57:23.187Z"
   },
   {
    "duration": 8,
    "start_time": "2023-02-21T22:57:23.203Z"
   },
   {
    "duration": 1430,
    "start_time": "2023-02-21T22:57:23.212Z"
   },
   {
    "duration": 5,
    "start_time": "2023-02-21T22:57:24.643Z"
   },
   {
    "duration": 9,
    "start_time": "2023-02-21T22:57:24.650Z"
   },
   {
    "duration": 198,
    "start_time": "2023-02-21T22:57:24.662Z"
   },
   {
    "duration": 120,
    "start_time": "2023-02-21T22:57:24.861Z"
   },
   {
    "duration": 257,
    "start_time": "2023-02-21T22:57:24.982Z"
   },
   {
    "duration": 143,
    "start_time": "2023-02-21T22:57:25.241Z"
   },
   {
    "duration": 118,
    "start_time": "2023-02-21T22:57:25.386Z"
   },
   {
    "duration": 127,
    "start_time": "2023-02-21T22:57:25.506Z"
   },
   {
    "duration": 138,
    "start_time": "2023-02-21T22:57:25.634Z"
   },
   {
    "duration": 115,
    "start_time": "2023-02-21T22:57:25.774Z"
   },
   {
    "duration": 118,
    "start_time": "2023-02-21T22:57:25.891Z"
   },
   {
    "duration": 117,
    "start_time": "2023-02-21T22:57:26.010Z"
   },
   {
    "duration": 1115,
    "start_time": "2023-02-21T22:58:33.857Z"
   },
   {
    "duration": 47,
    "start_time": "2023-02-21T22:58:34.974Z"
   },
   {
    "duration": 785,
    "start_time": "2023-02-21T22:58:35.025Z"
   },
   {
    "duration": 16,
    "start_time": "2023-02-21T22:58:35.812Z"
   },
   {
    "duration": 33,
    "start_time": "2023-02-21T22:58:35.830Z"
   },
   {
    "duration": 14,
    "start_time": "2023-02-21T22:58:35.864Z"
   },
   {
    "duration": 33,
    "start_time": "2023-02-21T22:58:35.879Z"
   },
   {
    "duration": 11,
    "start_time": "2023-02-21T22:58:35.913Z"
   },
   {
    "duration": 18,
    "start_time": "2023-02-21T22:58:35.926Z"
   },
   {
    "duration": 338,
    "start_time": "2023-02-21T22:58:35.946Z"
   },
   {
    "duration": 298,
    "start_time": "2023-02-21T22:58:36.286Z"
   },
   {
    "duration": 201,
    "start_time": "2023-02-21T22:58:36.586Z"
   },
   {
    "duration": 240,
    "start_time": "2023-02-21T22:58:36.791Z"
   },
   {
    "duration": 179,
    "start_time": "2023-02-21T22:58:37.033Z"
   },
   {
    "duration": 165,
    "start_time": "2023-02-21T22:58:37.214Z"
   },
   {
    "duration": 171,
    "start_time": "2023-02-21T22:58:37.381Z"
   },
   {
    "duration": 175,
    "start_time": "2023-02-21T22:58:37.554Z"
   },
   {
    "duration": 156,
    "start_time": "2023-02-21T22:58:37.731Z"
   },
   {
    "duration": 20,
    "start_time": "2023-02-21T22:58:37.889Z"
   },
   {
    "duration": 175,
    "start_time": "2023-02-21T22:58:37.911Z"
   },
   {
    "duration": 192,
    "start_time": "2023-02-21T22:58:38.087Z"
   },
   {
    "duration": 226,
    "start_time": "2023-02-21T22:58:38.281Z"
   },
   {
    "duration": 315,
    "start_time": "2023-02-21T22:58:38.508Z"
   },
   {
    "duration": 4,
    "start_time": "2023-02-21T22:58:38.824Z"
   },
   {
    "duration": 168,
    "start_time": "2023-02-21T22:58:38.829Z"
   },
   {
    "duration": 1414,
    "start_time": "2023-02-21T22:58:39.002Z"
   },
   {
    "duration": 5,
    "start_time": "2023-02-21T22:58:40.418Z"
   },
   {
    "duration": 6,
    "start_time": "2023-02-21T22:58:40.424Z"
   },
   {
    "duration": 1552,
    "start_time": "2023-02-21T22:58:40.432Z"
   },
   {
    "duration": 5,
    "start_time": "2023-02-21T22:58:41.986Z"
   },
   {
    "duration": 5,
    "start_time": "2023-02-21T22:58:42.003Z"
   },
   {
    "duration": 1363,
    "start_time": "2023-02-21T22:58:42.009Z"
   },
   {
    "duration": 6,
    "start_time": "2023-02-21T22:58:43.373Z"
   },
   {
    "duration": 24,
    "start_time": "2023-02-21T22:58:43.380Z"
   },
   {
    "duration": 1735,
    "start_time": "2023-02-21T22:58:43.406Z"
   },
   {
    "duration": 5,
    "start_time": "2023-02-21T22:58:45.143Z"
   },
   {
    "duration": 7,
    "start_time": "2023-02-21T22:58:45.149Z"
   },
   {
    "duration": 1457,
    "start_time": "2023-02-21T22:58:45.158Z"
   },
   {
    "duration": 5,
    "start_time": "2023-02-21T22:58:46.616Z"
   },
   {
    "duration": 7,
    "start_time": "2023-02-21T22:58:46.625Z"
   },
   {
    "duration": 203,
    "start_time": "2023-02-21T22:58:46.633Z"
   },
   {
    "duration": 128,
    "start_time": "2023-02-21T22:58:46.837Z"
   },
   {
    "duration": 272,
    "start_time": "2023-02-21T22:58:46.966Z"
   },
   {
    "duration": 120,
    "start_time": "2023-02-21T22:58:47.240Z"
   },
   {
    "duration": 141,
    "start_time": "2023-02-21T22:58:47.362Z"
   },
   {
    "duration": 125,
    "start_time": "2023-02-21T22:58:47.504Z"
   },
   {
    "duration": 118,
    "start_time": "2023-02-21T22:58:47.631Z"
   },
   {
    "duration": 121,
    "start_time": "2023-02-21T22:58:47.750Z"
   },
   {
    "duration": 109,
    "start_time": "2023-02-21T22:58:47.873Z"
   },
   {
    "duration": 128,
    "start_time": "2023-02-21T22:58:47.983Z"
   },
   {
    "duration": 83,
    "start_time": "2023-02-21T23:37:27.417Z"
   },
   {
    "duration": 23,
    "start_time": "2023-02-21T23:37:53.993Z"
   },
   {
    "duration": 4,
    "start_time": "2023-02-21T23:39:37.578Z"
   },
   {
    "duration": 98,
    "start_time": "2023-02-21T23:41:28.424Z"
   },
   {
    "duration": 14,
    "start_time": "2023-02-21T23:41:51.655Z"
   },
   {
    "duration": 1127,
    "start_time": "2023-02-21T23:42:13.104Z"
   },
   {
    "duration": 47,
    "start_time": "2023-02-21T23:42:14.233Z"
   },
   {
    "duration": 718,
    "start_time": "2023-02-21T23:42:14.281Z"
   },
   {
    "duration": 16,
    "start_time": "2023-02-21T23:42:15.001Z"
   },
   {
    "duration": 43,
    "start_time": "2023-02-21T23:42:15.019Z"
   },
   {
    "duration": 14,
    "start_time": "2023-02-21T23:42:15.064Z"
   },
   {
    "duration": 24,
    "start_time": "2023-02-21T23:42:15.080Z"
   },
   {
    "duration": 12,
    "start_time": "2023-02-21T23:42:15.106Z"
   },
   {
    "duration": 17,
    "start_time": "2023-02-21T23:42:15.120Z"
   },
   {
    "duration": 335,
    "start_time": "2023-02-21T23:42:15.138Z"
   },
   {
    "duration": 297,
    "start_time": "2023-02-21T23:42:15.474Z"
   },
   {
    "duration": 203,
    "start_time": "2023-02-21T23:42:15.772Z"
   },
   {
    "duration": 244,
    "start_time": "2023-02-21T23:42:15.977Z"
   },
   {
    "duration": 162,
    "start_time": "2023-02-21T23:42:16.225Z"
   },
   {
    "duration": 156,
    "start_time": "2023-02-21T23:42:16.389Z"
   },
   {
    "duration": 181,
    "start_time": "2023-02-21T23:42:16.546Z"
   },
   {
    "duration": 221,
    "start_time": "2023-02-21T23:42:16.729Z"
   },
   {
    "duration": 149,
    "start_time": "2023-02-21T23:42:16.952Z"
   },
   {
    "duration": 12,
    "start_time": "2023-02-21T23:42:17.103Z"
   },
   {
    "duration": 206,
    "start_time": "2023-02-21T23:42:17.116Z"
   },
   {
    "duration": 193,
    "start_time": "2023-02-21T23:42:17.324Z"
   },
   {
    "duration": 238,
    "start_time": "2023-02-21T23:42:17.519Z"
   },
   {
    "duration": 336,
    "start_time": "2023-02-21T23:42:17.759Z"
   },
   {
    "duration": 7,
    "start_time": "2023-02-21T23:42:18.096Z"
   },
   {
    "duration": 168,
    "start_time": "2023-02-21T23:42:18.105Z"
   },
   {
    "duration": 1418,
    "start_time": "2023-02-21T23:42:18.274Z"
   },
   {
    "duration": 5,
    "start_time": "2023-02-21T23:42:19.694Z"
   },
   {
    "duration": 6,
    "start_time": "2023-02-21T23:42:19.700Z"
   },
   {
    "duration": 1523,
    "start_time": "2023-02-21T23:42:19.707Z"
   },
   {
    "duration": 5,
    "start_time": "2023-02-21T23:42:21.232Z"
   },
   {
    "duration": 8,
    "start_time": "2023-02-21T23:42:21.239Z"
   },
   {
    "duration": 1358,
    "start_time": "2023-02-21T23:42:21.248Z"
   },
   {
    "duration": 5,
    "start_time": "2023-02-21T23:42:22.608Z"
   },
   {
    "duration": 12,
    "start_time": "2023-02-21T23:42:22.615Z"
   },
   {
    "duration": 1652,
    "start_time": "2023-02-21T23:42:22.629Z"
   },
   {
    "duration": 5,
    "start_time": "2023-02-21T23:42:24.283Z"
   },
   {
    "duration": 5,
    "start_time": "2023-02-21T23:42:24.303Z"
   },
   {
    "duration": 1301,
    "start_time": "2023-02-21T23:42:24.309Z"
   },
   {
    "duration": 5,
    "start_time": "2023-02-21T23:42:25.612Z"
   },
   {
    "duration": 10,
    "start_time": "2023-02-21T23:42:25.618Z"
   },
   {
    "duration": 196,
    "start_time": "2023-02-21T23:42:25.631Z"
   },
   {
    "duration": 108,
    "start_time": "2023-02-21T23:42:25.828Z"
   },
   {
    "duration": 238,
    "start_time": "2023-02-21T23:42:25.937Z"
   },
   {
    "duration": 109,
    "start_time": "2023-02-21T23:42:26.176Z"
   },
   {
    "duration": 108,
    "start_time": "2023-02-21T23:42:26.287Z"
   },
   {
    "duration": 113,
    "start_time": "2023-02-21T23:42:26.403Z"
   },
   {
    "duration": 127,
    "start_time": "2023-02-21T23:42:26.518Z"
   },
   {
    "duration": 116,
    "start_time": "2023-02-21T23:42:26.647Z"
   },
   {
    "duration": 123,
    "start_time": "2023-02-21T23:42:26.765Z"
   },
   {
    "duration": 134,
    "start_time": "2023-02-21T23:42:26.890Z"
   },
   {
    "duration": 12,
    "start_time": "2023-02-21T23:42:27.026Z"
   },
   {
    "duration": 1105,
    "start_time": "2023-02-21T23:43:54.217Z"
   },
   {
    "duration": 47,
    "start_time": "2023-02-21T23:43:55.324Z"
   },
   {
    "duration": 718,
    "start_time": "2023-02-21T23:43:55.373Z"
   },
   {
    "duration": 22,
    "start_time": "2023-02-21T23:43:56.094Z"
   },
   {
    "duration": 32,
    "start_time": "2023-02-21T23:43:56.118Z"
   },
   {
    "duration": 15,
    "start_time": "2023-02-21T23:43:56.152Z"
   },
   {
    "duration": 11,
    "start_time": "2023-02-21T23:43:56.168Z"
   },
   {
    "duration": 14,
    "start_time": "2023-02-21T23:43:56.202Z"
   },
   {
    "duration": 18,
    "start_time": "2023-02-21T23:43:56.217Z"
   },
   {
    "duration": 314,
    "start_time": "2023-02-21T23:43:56.239Z"
   },
   {
    "duration": 273,
    "start_time": "2023-02-21T23:43:56.556Z"
   },
   {
    "duration": 199,
    "start_time": "2023-02-21T23:43:56.831Z"
   },
   {
    "duration": 278,
    "start_time": "2023-02-21T23:43:57.032Z"
   },
   {
    "duration": 166,
    "start_time": "2023-02-21T23:43:57.311Z"
   },
   {
    "duration": 153,
    "start_time": "2023-02-21T23:43:57.478Z"
   },
   {
    "duration": 163,
    "start_time": "2023-02-21T23:43:57.632Z"
   },
   {
    "duration": 179,
    "start_time": "2023-02-21T23:43:57.796Z"
   },
   {
    "duration": 157,
    "start_time": "2023-02-21T23:43:57.977Z"
   },
   {
    "duration": 13,
    "start_time": "2023-02-21T23:43:58.135Z"
   },
   {
    "duration": 173,
    "start_time": "2023-02-21T23:43:58.149Z"
   },
   {
    "duration": 181,
    "start_time": "2023-02-21T23:43:58.324Z"
   },
   {
    "duration": 220,
    "start_time": "2023-02-21T23:43:58.506Z"
   },
   {
    "duration": 305,
    "start_time": "2023-02-21T23:43:58.727Z"
   },
   {
    "duration": 4,
    "start_time": "2023-02-21T23:43:59.033Z"
   },
   {
    "duration": 168,
    "start_time": "2023-02-21T23:43:59.038Z"
   },
   {
    "duration": 1381,
    "start_time": "2023-02-21T23:43:59.208Z"
   },
   {
    "duration": 5,
    "start_time": "2023-02-21T23:44:00.590Z"
   },
   {
    "duration": 13,
    "start_time": "2023-02-21T23:44:00.599Z"
   },
   {
    "duration": 1534,
    "start_time": "2023-02-21T23:44:00.614Z"
   },
   {
    "duration": 6,
    "start_time": "2023-02-21T23:44:02.150Z"
   },
   {
    "duration": 6,
    "start_time": "2023-02-21T23:44:02.157Z"
   },
   {
    "duration": 1355,
    "start_time": "2023-02-21T23:44:02.165Z"
   },
   {
    "duration": 5,
    "start_time": "2023-02-21T23:44:03.522Z"
   },
   {
    "duration": 6,
    "start_time": "2023-02-21T23:44:03.529Z"
   },
   {
    "duration": 1600,
    "start_time": "2023-02-21T23:44:03.536Z"
   },
   {
    "duration": 6,
    "start_time": "2023-02-21T23:44:05.137Z"
   },
   {
    "duration": 10,
    "start_time": "2023-02-21T23:44:05.144Z"
   },
   {
    "duration": 1388,
    "start_time": "2023-02-21T23:44:05.156Z"
   },
   {
    "duration": 5,
    "start_time": "2023-02-21T23:44:06.545Z"
   },
   {
    "duration": 21,
    "start_time": "2023-02-21T23:44:06.551Z"
   },
   {
    "duration": 184,
    "start_time": "2023-02-21T23:44:06.574Z"
   },
   {
    "duration": 123,
    "start_time": "2023-02-21T23:44:06.760Z"
   },
   {
    "duration": 120,
    "start_time": "2023-02-21T23:44:06.885Z"
   },
   {
    "duration": 267,
    "start_time": "2023-02-21T23:44:07.006Z"
   },
   {
    "duration": 117,
    "start_time": "2023-02-21T23:44:07.274Z"
   },
   {
    "duration": 129,
    "start_time": "2023-02-21T23:44:07.393Z"
   },
   {
    "duration": 118,
    "start_time": "2023-02-21T23:44:07.524Z"
   },
   {
    "duration": 115,
    "start_time": "2023-02-21T23:44:07.644Z"
   },
   {
    "duration": 116,
    "start_time": "2023-02-21T23:44:07.760Z"
   },
   {
    "duration": 115,
    "start_time": "2023-02-21T23:44:07.878Z"
   },
   {
    "duration": 9,
    "start_time": "2023-02-21T23:44:07.995Z"
   },
   {
    "duration": 9,
    "start_time": "2023-02-21T23:44:08.005Z"
   },
   {
    "duration": 8,
    "start_time": "2023-02-21T23:44:08.015Z"
   },
   {
    "duration": 7,
    "start_time": "2023-02-21T23:45:17.330Z"
   },
   {
    "duration": 4,
    "start_time": "2023-02-21T23:45:17.686Z"
   },
   {
    "duration": 68,
    "start_time": "2023-02-21T23:46:46.498Z"
   },
   {
    "duration": 923,
    "start_time": "2023-02-21T23:55:18.465Z"
   },
   {
    "duration": 5,
    "start_time": "2023-02-21T23:55:28.281Z"
   },
   {
    "duration": 870,
    "start_time": "2023-02-21T23:56:10.368Z"
   },
   {
    "duration": 1096,
    "start_time": "2023-02-22T00:00:04.016Z"
   },
   {
    "duration": 48,
    "start_time": "2023-02-22T00:00:05.114Z"
   },
   {
    "duration": 734,
    "start_time": "2023-02-22T00:00:05.164Z"
   },
   {
    "duration": 16,
    "start_time": "2023-02-22T00:00:05.902Z"
   },
   {
    "duration": 31,
    "start_time": "2023-02-22T00:00:05.921Z"
   },
   {
    "duration": 13,
    "start_time": "2023-02-22T00:00:05.953Z"
   },
   {
    "duration": 39,
    "start_time": "2023-02-22T00:00:05.967Z"
   },
   {
    "duration": 11,
    "start_time": "2023-02-22T00:00:06.008Z"
   },
   {
    "duration": 18,
    "start_time": "2023-02-22T00:00:06.020Z"
   },
   {
    "duration": 316,
    "start_time": "2023-02-22T00:00:06.039Z"
   },
   {
    "duration": 275,
    "start_time": "2023-02-22T00:00:06.356Z"
   },
   {
    "duration": 183,
    "start_time": "2023-02-22T00:00:06.632Z"
   },
   {
    "duration": 237,
    "start_time": "2023-02-22T00:00:06.817Z"
   },
   {
    "duration": 188,
    "start_time": "2023-02-22T00:00:07.057Z"
   },
   {
    "duration": 165,
    "start_time": "2023-02-22T00:00:07.246Z"
   },
   {
    "duration": 165,
    "start_time": "2023-02-22T00:00:07.413Z"
   },
   {
    "duration": 188,
    "start_time": "2023-02-22T00:00:07.579Z"
   },
   {
    "duration": 162,
    "start_time": "2023-02-22T00:00:07.769Z"
   },
   {
    "duration": 14,
    "start_time": "2023-02-22T00:00:07.933Z"
   },
   {
    "duration": 185,
    "start_time": "2023-02-22T00:00:07.949Z"
   },
   {
    "duration": 189,
    "start_time": "2023-02-22T00:00:08.135Z"
   },
   {
    "duration": 230,
    "start_time": "2023-02-22T00:00:08.325Z"
   },
   {
    "duration": 304,
    "start_time": "2023-02-22T00:00:08.557Z"
   },
   {
    "duration": 3,
    "start_time": "2023-02-22T00:00:08.862Z"
   },
   {
    "duration": 158,
    "start_time": "2023-02-22T00:00:08.867Z"
   },
   {
    "duration": 1370,
    "start_time": "2023-02-22T00:00:09.027Z"
   },
   {
    "duration": 5,
    "start_time": "2023-02-22T00:00:10.398Z"
   },
   {
    "duration": 9,
    "start_time": "2023-02-22T00:00:10.405Z"
   },
   {
    "duration": 1508,
    "start_time": "2023-02-22T00:00:10.416Z"
   },
   {
    "duration": 5,
    "start_time": "2023-02-22T00:00:11.925Z"
   },
   {
    "duration": 7,
    "start_time": "2023-02-22T00:00:11.931Z"
   },
   {
    "duration": 1367,
    "start_time": "2023-02-22T00:00:11.939Z"
   },
   {
    "duration": 5,
    "start_time": "2023-02-22T00:00:13.308Z"
   },
   {
    "duration": 15,
    "start_time": "2023-02-22T00:00:13.314Z"
   },
   {
    "duration": 1595,
    "start_time": "2023-02-22T00:00:13.331Z"
   },
   {
    "duration": 4,
    "start_time": "2023-02-22T00:00:14.928Z"
   },
   {
    "duration": 6,
    "start_time": "2023-02-22T00:00:14.934Z"
   },
   {
    "duration": 1422,
    "start_time": "2023-02-22T00:00:14.941Z"
   },
   {
    "duration": 5,
    "start_time": "2023-02-22T00:00:16.365Z"
   },
   {
    "duration": 8,
    "start_time": "2023-02-22T00:00:16.372Z"
   },
   {
    "duration": 189,
    "start_time": "2023-02-22T00:00:16.384Z"
   },
   {
    "duration": 144,
    "start_time": "2023-02-22T00:00:16.574Z"
   },
   {
    "duration": 292,
    "start_time": "2023-02-22T00:00:16.720Z"
   },
   {
    "duration": 124,
    "start_time": "2023-02-22T00:00:17.013Z"
   },
   {
    "duration": 145,
    "start_time": "2023-02-22T00:00:17.138Z"
   },
   {
    "duration": 123,
    "start_time": "2023-02-22T00:00:17.285Z"
   },
   {
    "duration": 127,
    "start_time": "2023-02-22T00:00:17.409Z"
   },
   {
    "duration": 110,
    "start_time": "2023-02-22T00:00:17.538Z"
   },
   {
    "duration": 112,
    "start_time": "2023-02-22T00:00:17.650Z"
   },
   {
    "duration": 117,
    "start_time": "2023-02-22T00:00:17.764Z"
   },
   {
    "duration": 7,
    "start_time": "2023-02-22T00:00:17.882Z"
   },
   {
    "duration": 15,
    "start_time": "2023-02-22T00:00:17.890Z"
   },
   {
    "duration": 6,
    "start_time": "2023-02-22T00:06:26.310Z"
   },
   {
    "duration": 5,
    "start_time": "2023-02-22T00:06:31.769Z"
   },
   {
    "duration": 5,
    "start_time": "2023-02-22T00:06:36.928Z"
   },
   {
    "duration": 5,
    "start_time": "2023-02-22T00:06:44.729Z"
   },
   {
    "duration": 5,
    "start_time": "2023-02-22T00:06:47.963Z"
   },
   {
    "duration": 4,
    "start_time": "2023-02-22T00:08:00.478Z"
   },
   {
    "duration": 6,
    "start_time": "2023-02-22T00:08:23.796Z"
   },
   {
    "duration": 5,
    "start_time": "2023-02-22T00:08:24.343Z"
   },
   {
    "duration": 4,
    "start_time": "2023-02-22T00:08:50.286Z"
   },
   {
    "duration": 4,
    "start_time": "2023-02-22T00:09:03.896Z"
   },
   {
    "duration": 5,
    "start_time": "2023-02-22T00:09:08.586Z"
   },
   {
    "duration": 1115,
    "start_time": "2023-02-22T00:32:17.922Z"
   },
   {
    "duration": 50,
    "start_time": "2023-02-22T00:32:19.039Z"
   },
   {
    "duration": 765,
    "start_time": "2023-02-22T00:32:19.091Z"
   },
   {
    "duration": 17,
    "start_time": "2023-02-22T00:32:19.858Z"
   },
   {
    "duration": 46,
    "start_time": "2023-02-22T00:32:19.877Z"
   },
   {
    "duration": 13,
    "start_time": "2023-02-22T00:32:19.925Z"
   },
   {
    "duration": 11,
    "start_time": "2023-02-22T00:32:19.940Z"
   },
   {
    "duration": 12,
    "start_time": "2023-02-22T00:32:19.952Z"
   },
   {
    "duration": 46,
    "start_time": "2023-02-22T00:32:19.966Z"
   },
   {
    "duration": 345,
    "start_time": "2023-02-22T00:32:20.014Z"
   },
   {
    "duration": 277,
    "start_time": "2023-02-22T00:32:20.361Z"
   },
   {
    "duration": 193,
    "start_time": "2023-02-22T00:32:20.640Z"
   },
   {
    "duration": 249,
    "start_time": "2023-02-22T00:32:20.835Z"
   },
   {
    "duration": 185,
    "start_time": "2023-02-22T00:32:21.086Z"
   },
   {
    "duration": 159,
    "start_time": "2023-02-22T00:32:21.273Z"
   },
   {
    "duration": 163,
    "start_time": "2023-02-22T00:32:21.434Z"
   },
   {
    "duration": 183,
    "start_time": "2023-02-22T00:32:21.602Z"
   },
   {
    "duration": 160,
    "start_time": "2023-02-22T00:32:21.787Z"
   },
   {
    "duration": 15,
    "start_time": "2023-02-22T00:32:21.948Z"
   },
   {
    "duration": 187,
    "start_time": "2023-02-22T00:32:21.964Z"
   },
   {
    "duration": 203,
    "start_time": "2023-02-22T00:32:22.153Z"
   },
   {
    "duration": 232,
    "start_time": "2023-02-22T00:32:22.357Z"
   },
   {
    "duration": 323,
    "start_time": "2023-02-22T00:32:22.591Z"
   },
   {
    "duration": 4,
    "start_time": "2023-02-22T00:32:22.916Z"
   },
   {
    "duration": 191,
    "start_time": "2023-02-22T00:32:22.921Z"
   },
   {
    "duration": 1463,
    "start_time": "2023-02-22T00:32:23.114Z"
   },
   {
    "duration": 5,
    "start_time": "2023-02-22T00:32:24.578Z"
   },
   {
    "duration": 8,
    "start_time": "2023-02-22T00:32:24.585Z"
   },
   {
    "duration": 1512,
    "start_time": "2023-02-22T00:32:24.594Z"
   },
   {
    "duration": 4,
    "start_time": "2023-02-22T00:32:26.108Z"
   },
   {
    "duration": 9,
    "start_time": "2023-02-22T00:32:26.113Z"
   },
   {
    "duration": 1395,
    "start_time": "2023-02-22T00:32:26.123Z"
   },
   {
    "duration": 6,
    "start_time": "2023-02-22T00:32:27.519Z"
   },
   {
    "duration": 7,
    "start_time": "2023-02-22T00:32:27.527Z"
   },
   {
    "duration": 1610,
    "start_time": "2023-02-22T00:32:27.536Z"
   },
   {
    "duration": 5,
    "start_time": "2023-02-22T00:32:29.148Z"
   },
   {
    "duration": 7,
    "start_time": "2023-02-22T00:32:29.154Z"
   },
   {
    "duration": 1385,
    "start_time": "2023-02-22T00:32:29.163Z"
   },
   {
    "duration": 5,
    "start_time": "2023-02-22T00:32:30.549Z"
   },
   {
    "duration": 32,
    "start_time": "2023-02-22T00:32:30.555Z"
   },
   {
    "duration": 196,
    "start_time": "2023-02-22T00:32:30.590Z"
   },
   {
    "duration": 117,
    "start_time": "2023-02-22T00:32:30.788Z"
   },
   {
    "duration": 250,
    "start_time": "2023-02-22T00:32:30.907Z"
   },
   {
    "duration": 119,
    "start_time": "2023-02-22T00:32:31.159Z"
   },
   {
    "duration": 117,
    "start_time": "2023-02-22T00:32:31.279Z"
   },
   {
    "duration": 126,
    "start_time": "2023-02-22T00:32:31.397Z"
   },
   {
    "duration": 117,
    "start_time": "2023-02-22T00:32:31.524Z"
   },
   {
    "duration": 112,
    "start_time": "2023-02-22T00:32:31.642Z"
   },
   {
    "duration": 110,
    "start_time": "2023-02-22T00:32:31.755Z"
   },
   {
    "duration": 110,
    "start_time": "2023-02-22T00:32:31.867Z"
   },
   {
    "duration": 6,
    "start_time": "2023-02-22T00:32:31.979Z"
   },
   {
    "duration": 18,
    "start_time": "2023-02-22T00:32:31.987Z"
   },
   {
    "duration": 18,
    "start_time": "2023-02-22T00:32:32.007Z"
   },
   {
    "duration": 6,
    "start_time": "2023-02-22T00:32:32.027Z"
   },
   {
    "duration": 1203,
    "start_time": "2023-02-22T17:25:41.270Z"
   },
   {
    "duration": 53,
    "start_time": "2023-02-22T17:25:42.476Z"
   },
   {
    "duration": 840,
    "start_time": "2023-02-22T17:25:42.531Z"
   },
   {
    "duration": 18,
    "start_time": "2023-02-22T17:25:43.374Z"
   },
   {
    "duration": 81,
    "start_time": "2023-02-22T17:25:43.394Z"
   },
   {
    "duration": 19,
    "start_time": "2023-02-22T17:25:43.477Z"
   },
   {
    "duration": 13,
    "start_time": "2023-02-22T17:25:43.498Z"
   },
   {
    "duration": 33,
    "start_time": "2023-02-22T17:25:43.513Z"
   },
   {
    "duration": 19,
    "start_time": "2023-02-22T17:25:43.548Z"
   },
   {
    "duration": 384,
    "start_time": "2023-02-22T17:25:43.570Z"
   },
   {
    "duration": 315,
    "start_time": "2023-02-22T17:25:43.956Z"
   },
   {
    "duration": 227,
    "start_time": "2023-02-22T17:25:44.273Z"
   },
   {
    "duration": 272,
    "start_time": "2023-02-22T17:25:44.502Z"
   },
   {
    "duration": 186,
    "start_time": "2023-02-22T17:25:44.775Z"
   },
   {
    "duration": 168,
    "start_time": "2023-02-22T17:25:44.963Z"
   },
   {
    "duration": 191,
    "start_time": "2023-02-22T17:25:45.133Z"
   },
   {
    "duration": 216,
    "start_time": "2023-02-22T17:25:45.326Z"
   },
   {
    "duration": 175,
    "start_time": "2023-02-22T17:25:45.544Z"
   },
   {
    "duration": 21,
    "start_time": "2023-02-22T17:25:45.721Z"
   },
   {
    "duration": 195,
    "start_time": "2023-02-22T17:25:45.744Z"
   },
   {
    "duration": 218,
    "start_time": "2023-02-22T17:25:45.940Z"
   },
   {
    "duration": 265,
    "start_time": "2023-02-22T17:25:46.159Z"
   },
   {
    "duration": 356,
    "start_time": "2023-02-22T17:25:46.426Z"
   },
   {
    "duration": 5,
    "start_time": "2023-02-22T17:25:46.784Z"
   },
   {
    "duration": 200,
    "start_time": "2023-02-22T17:25:46.791Z"
   },
   {
    "duration": 1339,
    "start_time": "2023-02-22T21:39:44.758Z"
   },
   {
    "duration": 90,
    "start_time": "2023-02-22T21:39:46.099Z"
   },
   {
    "duration": 838,
    "start_time": "2023-02-22T21:39:46.191Z"
   },
   {
    "duration": 16,
    "start_time": "2023-02-22T21:39:47.031Z"
   },
   {
    "duration": 53,
    "start_time": "2023-02-22T21:39:47.048Z"
   },
   {
    "duration": 17,
    "start_time": "2023-02-22T21:39:47.109Z"
   },
   {
    "duration": 17,
    "start_time": "2023-02-22T21:39:47.128Z"
   },
   {
    "duration": 12,
    "start_time": "2023-02-22T21:39:47.146Z"
   },
   {
    "duration": 18,
    "start_time": "2023-02-22T21:39:47.159Z"
   },
   {
    "duration": 359,
    "start_time": "2023-02-22T21:39:47.179Z"
   },
   {
    "duration": 291,
    "start_time": "2023-02-22T21:39:47.540Z"
   },
   {
    "duration": 205,
    "start_time": "2023-02-22T21:39:47.833Z"
   },
   {
    "duration": 229,
    "start_time": "2023-02-22T21:39:48.040Z"
   },
   {
    "duration": 172,
    "start_time": "2023-02-22T21:39:48.270Z"
   },
   {
    "duration": 151,
    "start_time": "2023-02-22T21:39:48.443Z"
   },
   {
    "duration": 163,
    "start_time": "2023-02-22T21:39:48.596Z"
   },
   {
    "duration": 183,
    "start_time": "2023-02-22T21:39:48.761Z"
   },
   {
    "duration": 150,
    "start_time": "2023-02-22T21:39:48.946Z"
   },
   {
    "duration": 21,
    "start_time": "2023-02-22T21:39:49.097Z"
   },
   {
    "duration": 193,
    "start_time": "2023-02-22T21:39:49.120Z"
   },
   {
    "duration": 190,
    "start_time": "2023-02-22T21:39:49.314Z"
   },
   {
    "duration": 238,
    "start_time": "2023-02-22T21:39:49.506Z"
   },
   {
    "duration": 296,
    "start_time": "2023-02-22T21:39:49.746Z"
   },
   {
    "duration": 4,
    "start_time": "2023-02-22T21:39:50.043Z"
   },
   {
    "duration": 181,
    "start_time": "2023-02-22T21:39:50.049Z"
   },
   {
    "duration": 1516,
    "start_time": "2023-02-22T21:39:50.232Z"
   },
   {
    "duration": 5,
    "start_time": "2023-02-22T21:39:51.751Z"
   },
   {
    "duration": 6,
    "start_time": "2023-02-22T21:39:51.760Z"
   },
   {
    "duration": 1611,
    "start_time": "2023-02-22T21:39:51.768Z"
   },
   {
    "duration": 5,
    "start_time": "2023-02-22T21:39:53.380Z"
   },
   {
    "duration": 7,
    "start_time": "2023-02-22T21:39:53.386Z"
   },
   {
    "duration": 1380,
    "start_time": "2023-02-22T21:39:53.395Z"
   },
   {
    "duration": 5,
    "start_time": "2023-02-22T21:39:54.777Z"
   },
   {
    "duration": 15,
    "start_time": "2023-02-22T21:39:54.783Z"
   },
   {
    "duration": 1595,
    "start_time": "2023-02-22T21:39:54.799Z"
   },
   {
    "duration": 6,
    "start_time": "2023-02-22T21:39:56.396Z"
   },
   {
    "duration": 5,
    "start_time": "2023-02-22T21:39:56.409Z"
   },
   {
    "duration": 1403,
    "start_time": "2023-02-22T21:39:56.416Z"
   },
   {
    "duration": 5,
    "start_time": "2023-02-22T21:39:57.821Z"
   },
   {
    "duration": 7,
    "start_time": "2023-02-22T21:39:57.828Z"
   },
   {
    "duration": 209,
    "start_time": "2023-02-22T21:39:57.836Z"
   },
   {
    "duration": 118,
    "start_time": "2023-02-22T21:39:58.046Z"
   },
   {
    "duration": 119,
    "start_time": "2023-02-22T21:39:58.166Z"
   },
   {
    "duration": 225,
    "start_time": "2023-02-22T21:39:58.287Z"
   },
   {
    "duration": 126,
    "start_time": "2023-02-22T21:39:58.514Z"
   },
   {
    "duration": 120,
    "start_time": "2023-02-22T21:39:58.641Z"
   },
   {
    "duration": 122,
    "start_time": "2023-02-22T21:39:58.763Z"
   },
   {
    "duration": 113,
    "start_time": "2023-02-22T21:39:58.886Z"
   },
   {
    "duration": 124,
    "start_time": "2023-02-22T21:39:59.010Z"
   },
   {
    "duration": 112,
    "start_time": "2023-02-22T21:39:59.136Z"
   },
   {
    "duration": 6,
    "start_time": "2023-02-22T21:39:59.249Z"
   },
   {
    "duration": 5,
    "start_time": "2023-02-22T21:39:59.257Z"
   },
   {
    "duration": 6,
    "start_time": "2023-02-22T21:39:59.264Z"
   },
   {
    "duration": 14,
    "start_time": "2023-02-22T21:39:59.272Z"
   },
   {
    "duration": 91,
    "start_time": "2023-02-22T21:52:05.383Z"
   },
   {
    "duration": 30,
    "start_time": "2023-02-22T21:53:26.831Z"
   },
   {
    "duration": 34,
    "start_time": "2023-02-22T21:55:48.486Z"
   },
   {
    "duration": 32,
    "start_time": "2023-02-22T21:55:58.313Z"
   },
   {
    "duration": 33,
    "start_time": "2023-02-22T21:58:02.921Z"
   },
   {
    "duration": 74,
    "start_time": "2023-02-22T22:05:44.141Z"
   },
   {
    "duration": 67,
    "start_time": "2023-02-22T22:05:51.015Z"
   },
   {
    "duration": 1130,
    "start_time": "2023-02-22T22:11:10.655Z"
   },
   {
    "duration": 49,
    "start_time": "2023-02-22T22:11:11.787Z"
   },
   {
    "duration": 761,
    "start_time": "2023-02-22T22:11:11.838Z"
   },
   {
    "duration": 19,
    "start_time": "2023-02-22T22:11:12.601Z"
   },
   {
    "duration": 36,
    "start_time": "2023-02-22T22:11:12.621Z"
   },
   {
    "duration": 14,
    "start_time": "2023-02-22T22:11:12.658Z"
   },
   {
    "duration": 11,
    "start_time": "2023-02-22T22:11:12.674Z"
   },
   {
    "duration": 35,
    "start_time": "2023-02-22T22:11:12.686Z"
   },
   {
    "duration": 33,
    "start_time": "2023-02-22T22:11:12.722Z"
   },
   {
    "duration": 18,
    "start_time": "2023-02-22T22:11:12.757Z"
   },
   {
    "duration": 354,
    "start_time": "2023-02-22T22:11:12.776Z"
   },
   {
    "duration": 288,
    "start_time": "2023-02-22T22:11:13.132Z"
   },
   {
    "duration": 191,
    "start_time": "2023-02-22T22:11:13.421Z"
   },
   {
    "duration": 218,
    "start_time": "2023-02-22T22:11:13.614Z"
   },
   {
    "duration": 163,
    "start_time": "2023-02-22T22:11:13.834Z"
   },
   {
    "duration": 146,
    "start_time": "2023-02-22T22:11:14.000Z"
   },
   {
    "duration": 158,
    "start_time": "2023-02-22T22:11:14.147Z"
   },
   {
    "duration": 175,
    "start_time": "2023-02-22T22:11:14.310Z"
   },
   {
    "duration": 147,
    "start_time": "2023-02-22T22:11:14.487Z"
   },
   {
    "duration": 13,
    "start_time": "2023-02-22T22:11:14.636Z"
   },
   {
    "duration": 178,
    "start_time": "2023-02-22T22:11:14.650Z"
   },
   {
    "duration": 194,
    "start_time": "2023-02-22T22:11:14.830Z"
   },
   {
    "duration": 236,
    "start_time": "2023-02-22T22:11:15.025Z"
   },
   {
    "duration": 309,
    "start_time": "2023-02-22T22:11:15.262Z"
   },
   {
    "duration": 4,
    "start_time": "2023-02-22T22:11:15.572Z"
   },
   {
    "duration": 171,
    "start_time": "2023-02-22T22:11:15.578Z"
   },
   {
    "duration": 1442,
    "start_time": "2023-02-22T22:11:15.750Z"
   },
   {
    "duration": 5,
    "start_time": "2023-02-22T22:11:17.198Z"
   },
   {
    "duration": 6,
    "start_time": "2023-02-22T22:11:17.205Z"
   },
   {
    "duration": 1483,
    "start_time": "2023-02-22T22:11:17.213Z"
   },
   {
    "duration": 14,
    "start_time": "2023-02-22T22:11:18.698Z"
   },
   {
    "duration": 6,
    "start_time": "2023-02-22T22:11:18.714Z"
   },
   {
    "duration": 1304,
    "start_time": "2023-02-22T22:11:18.721Z"
   },
   {
    "duration": 5,
    "start_time": "2023-02-22T22:11:20.027Z"
   },
   {
    "duration": 15,
    "start_time": "2023-02-22T22:11:20.034Z"
   },
   {
    "duration": 1554,
    "start_time": "2023-02-22T22:11:20.050Z"
   },
   {
    "duration": 6,
    "start_time": "2023-02-22T22:11:21.606Z"
   },
   {
    "duration": 8,
    "start_time": "2023-02-22T22:11:21.614Z"
   },
   {
    "duration": 1337,
    "start_time": "2023-02-22T22:11:21.623Z"
   },
   {
    "duration": 5,
    "start_time": "2023-02-22T22:11:22.962Z"
   },
   {
    "duration": 17,
    "start_time": "2023-02-22T22:11:22.969Z"
   },
   {
    "duration": 213,
    "start_time": "2023-02-22T22:11:22.987Z"
   },
   {
    "duration": 128,
    "start_time": "2023-02-22T22:11:23.202Z"
   },
   {
    "duration": 114,
    "start_time": "2023-02-22T22:11:23.332Z"
   },
   {
    "duration": 242,
    "start_time": "2023-02-22T22:11:23.448Z"
   },
   {
    "duration": 120,
    "start_time": "2023-02-22T22:11:23.692Z"
   },
   {
    "duration": 121,
    "start_time": "2023-02-22T22:11:23.813Z"
   },
   {
    "duration": 122,
    "start_time": "2023-02-22T22:11:23.936Z"
   },
   {
    "duration": 120,
    "start_time": "2023-02-22T22:11:24.059Z"
   },
   {
    "duration": 119,
    "start_time": "2023-02-22T22:11:24.180Z"
   },
   {
    "duration": 119,
    "start_time": "2023-02-22T22:11:24.301Z"
   },
   {
    "duration": 7,
    "start_time": "2023-02-22T22:11:24.421Z"
   },
   {
    "duration": 10,
    "start_time": "2023-02-22T22:11:24.429Z"
   },
   {
    "duration": 8,
    "start_time": "2023-02-22T22:11:24.440Z"
   },
   {
    "duration": 5,
    "start_time": "2023-02-22T22:11:24.450Z"
   }
  ],
  "kernelspec": {
   "display_name": "Python 3",
   "language": "python",
   "name": "python3"
  },
  "language_info": {
   "codemirror_mode": {
    "name": "ipython",
    "version": 3
   },
   "file_extension": ".py",
   "mimetype": "text/x-python",
   "name": "python",
   "nbconvert_exporter": "python",
   "pygments_lexer": "ipython3",
   "version": "3.8.3"
  },
  "toc": {
   "base_numbering": 1,
   "nav_menu": {},
   "number_sections": true,
   "sideBar": true,
   "skip_h1_title": true,
   "title_cell": "Table of Contents",
   "title_sidebar": "Contents",
   "toc_cell": false,
   "toc_position": {},
   "toc_section_display": true,
   "toc_window_display": false
  }
 },
 "nbformat": 4,
 "nbformat_minor": 2
}
