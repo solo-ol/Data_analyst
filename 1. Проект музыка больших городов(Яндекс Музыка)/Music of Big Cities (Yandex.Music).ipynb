{
 "cells": [
  {
   "cell_type": "markdown",
   "metadata": {
    "deletable": false,
    "editable": false,
    "id": "E0vqbgi9ay0H"
   },
   "source": [
    "# Яндекс Музыка"
   ]
  },
  {
   "cell_type": "markdown",
   "metadata": {
    "deletable": false,
    "editable": false,
    "id": "VUC88oWjTJw2"
   },
   "source": [
    "Сравнение Москвы и Петербурга окружено мифами. Например:\n",
    " * Москва — мегаполис, подчинённый жёсткому ритму рабочей недели;\n",
    " * Петербург — культурная столица, со своими вкусами.\n",
    "\n",
    "На данных Яндекс Музыки вы сравните поведение пользователей двух столиц.\n",
    "\n",
    "**Цель исследования** — проверьте три гипотезы:\n",
    "1. Активность пользователей зависит от дня недели. Причём в Москве и Петербурге это проявляется по-разному.\n",
    "2. В понедельник утром в Москве преобладают одни жанры, а в Петербурге — другие. Так же и вечером пятницы преобладают разные жанры — в зависимости от города. \n",
    "3. Москва и Петербург предпочитают разные жанры музыки. В Москве чаще слушают поп-музыку, в Петербурге — русский рэп.\n",
    "\n",
    "**Ход исследования**\n",
    "\n",
    "Данные о поведении пользователей вы получите из файла `yandex_music_project.csv`. О качестве данных ничего не известно. Поэтому перед проверкой гипотез понадобится обзор данных. \n",
    "\n",
    "Вы проверите данные на ошибки и оцените их влияние на исследование. Затем, на этапе предобработки вы поищете возможность исправить самые критичные ошибки данных.\n",
    " \n",
    "Таким образом, исследование пройдёт в три этапа:\n",
    " 1. Обзор данных.\n",
    " 2. Предобработка данных.\n",
    " 3. Проверка гипотез.\n",
    "\n"
   ]
  },
  {
   "cell_type": "markdown",
   "metadata": {
    "deletable": false,
    "id": "Ml1hmfXC_Zcs"
   },
   "source": [
    "## Обзор данных"
   ]
  },
  {
   "cell_type": "code",
   "execution_count": 1,
   "metadata": {
    "deletable": false,
    "id": "AXN7PHPN_Zcs"
   },
   "outputs": [],
   "source": [
    "import pandas as pd"
   ]
  },
  {
   "cell_type": "code",
   "execution_count": 2,
   "metadata": {
    "deletable": false,
    "id": "fFVu7vqh_Zct"
   },
   "outputs": [],
   "source": [
    "df = pd.read_csv('/datasets/yandex_music_project.csv')"
   ]
  },
  {
   "cell_type": "code",
   "execution_count": 3,
   "metadata": {
    "deletable": false,
    "id": "oWTVX3gW_Zct"
   },
   "outputs": [
    {
     "data": {
      "text/html": [
       "<div>\n",
       "<style scoped>\n",
       "    .dataframe tbody tr th:only-of-type {\n",
       "        vertical-align: middle;\n",
       "    }\n",
       "\n",
       "    .dataframe tbody tr th {\n",
       "        vertical-align: top;\n",
       "    }\n",
       "\n",
       "    .dataframe thead th {\n",
       "        text-align: right;\n",
       "    }\n",
       "</style>\n",
       "<table border=\"1\" class=\"dataframe\">\n",
       "  <thead>\n",
       "    <tr style=\"text-align: right;\">\n",
       "      <th></th>\n",
       "      <th>userID</th>\n",
       "      <th>Track</th>\n",
       "      <th>artist</th>\n",
       "      <th>genre</th>\n",
       "      <th>City</th>\n",
       "      <th>time</th>\n",
       "      <th>Day</th>\n",
       "    </tr>\n",
       "  </thead>\n",
       "  <tbody>\n",
       "    <tr>\n",
       "      <th>0</th>\n",
       "      <td>FFB692EC</td>\n",
       "      <td>Kamigata To Boots</td>\n",
       "      <td>The Mass Missile</td>\n",
       "      <td>rock</td>\n",
       "      <td>Saint-Petersburg</td>\n",
       "      <td>20:28:33</td>\n",
       "      <td>Wednesday</td>\n",
       "    </tr>\n",
       "    <tr>\n",
       "      <th>1</th>\n",
       "      <td>55204538</td>\n",
       "      <td>Delayed Because of Accident</td>\n",
       "      <td>Andreas Rönnberg</td>\n",
       "      <td>rock</td>\n",
       "      <td>Moscow</td>\n",
       "      <td>14:07:09</td>\n",
       "      <td>Friday</td>\n",
       "    </tr>\n",
       "    <tr>\n",
       "      <th>2</th>\n",
       "      <td>20EC38</td>\n",
       "      <td>Funiculì funiculà</td>\n",
       "      <td>Mario Lanza</td>\n",
       "      <td>pop</td>\n",
       "      <td>Saint-Petersburg</td>\n",
       "      <td>20:58:07</td>\n",
       "      <td>Wednesday</td>\n",
       "    </tr>\n",
       "    <tr>\n",
       "      <th>3</th>\n",
       "      <td>A3DD03C9</td>\n",
       "      <td>Dragons in the Sunset</td>\n",
       "      <td>Fire + Ice</td>\n",
       "      <td>folk</td>\n",
       "      <td>Saint-Petersburg</td>\n",
       "      <td>08:37:09</td>\n",
       "      <td>Monday</td>\n",
       "    </tr>\n",
       "    <tr>\n",
       "      <th>4</th>\n",
       "      <td>E2DC1FAE</td>\n",
       "      <td>Soul People</td>\n",
       "      <td>Space Echo</td>\n",
       "      <td>dance</td>\n",
       "      <td>Moscow</td>\n",
       "      <td>08:34:34</td>\n",
       "      <td>Monday</td>\n",
       "    </tr>\n",
       "    <tr>\n",
       "      <th>5</th>\n",
       "      <td>842029A1</td>\n",
       "      <td>Преданная</td>\n",
       "      <td>IMPERVTOR</td>\n",
       "      <td>rusrap</td>\n",
       "      <td>Saint-Petersburg</td>\n",
       "      <td>13:09:41</td>\n",
       "      <td>Friday</td>\n",
       "    </tr>\n",
       "    <tr>\n",
       "      <th>6</th>\n",
       "      <td>4CB90AA5</td>\n",
       "      <td>True</td>\n",
       "      <td>Roman Messer</td>\n",
       "      <td>dance</td>\n",
       "      <td>Moscow</td>\n",
       "      <td>13:00:07</td>\n",
       "      <td>Wednesday</td>\n",
       "    </tr>\n",
       "    <tr>\n",
       "      <th>7</th>\n",
       "      <td>F03E1C1F</td>\n",
       "      <td>Feeling This Way</td>\n",
       "      <td>Polina Griffith</td>\n",
       "      <td>dance</td>\n",
       "      <td>Moscow</td>\n",
       "      <td>20:47:49</td>\n",
       "      <td>Wednesday</td>\n",
       "    </tr>\n",
       "    <tr>\n",
       "      <th>8</th>\n",
       "      <td>8FA1D3BE</td>\n",
       "      <td>И вновь продолжается бой</td>\n",
       "      <td>NaN</td>\n",
       "      <td>ruspop</td>\n",
       "      <td>Moscow</td>\n",
       "      <td>09:17:40</td>\n",
       "      <td>Friday</td>\n",
       "    </tr>\n",
       "    <tr>\n",
       "      <th>9</th>\n",
       "      <td>E772D5C0</td>\n",
       "      <td>Pessimist</td>\n",
       "      <td>NaN</td>\n",
       "      <td>dance</td>\n",
       "      <td>Saint-Petersburg</td>\n",
       "      <td>21:20:49</td>\n",
       "      <td>Wednesday</td>\n",
       "    </tr>\n",
       "  </tbody>\n",
       "</table>\n",
       "</div>"
      ],
      "text/plain": [
       "     userID                        Track            artist   genre  \\\n",
       "0  FFB692EC            Kamigata To Boots  The Mass Missile    rock   \n",
       "1  55204538  Delayed Because of Accident  Andreas Rönnberg    rock   \n",
       "2    20EC38            Funiculì funiculà       Mario Lanza     pop   \n",
       "3  A3DD03C9        Dragons in the Sunset        Fire + Ice    folk   \n",
       "4  E2DC1FAE                  Soul People        Space Echo   dance   \n",
       "5  842029A1                    Преданная         IMPERVTOR  rusrap   \n",
       "6  4CB90AA5                         True      Roman Messer   dance   \n",
       "7  F03E1C1F             Feeling This Way   Polina Griffith   dance   \n",
       "8  8FA1D3BE     И вновь продолжается бой               NaN  ruspop   \n",
       "9  E772D5C0                    Pessimist               NaN   dance   \n",
       "\n",
       "             City        time        Day  \n",
       "0  Saint-Petersburg  20:28:33  Wednesday  \n",
       "1            Moscow  14:07:09     Friday  \n",
       "2  Saint-Petersburg  20:58:07  Wednesday  \n",
       "3  Saint-Petersburg  08:37:09     Monday  \n",
       "4            Moscow  08:34:34     Monday  \n",
       "5  Saint-Petersburg  13:09:41     Friday  \n",
       "6            Moscow  13:00:07  Wednesday  \n",
       "7            Moscow  20:47:49  Wednesday  \n",
       "8            Moscow  09:17:40     Friday  \n",
       "9  Saint-Petersburg  21:20:49  Wednesday  "
      ]
     },
     "execution_count": 3,
     "metadata": {},
     "output_type": "execute_result"
    }
   ],
   "source": [
    "df.head(10)"
   ]
  },
  {
   "cell_type": "code",
   "execution_count": 4,
   "metadata": {
    "deletable": false,
    "id": "DSf2kIb-_Zct"
   },
   "outputs": [
    {
     "name": "stdout",
     "output_type": "stream",
     "text": [
      "<class 'pandas.core.frame.DataFrame'>\n",
      "RangeIndex: 65079 entries, 0 to 65078\n",
      "Data columns (total 7 columns):\n",
      " #   Column    Non-Null Count  Dtype \n",
      "---  ------    --------------  ----- \n",
      " 0     userID  65079 non-null  object\n",
      " 1   Track     63848 non-null  object\n",
      " 2   artist    57876 non-null  object\n",
      " 3   genre     63881 non-null  object\n",
      " 4     City    65079 non-null  object\n",
      " 5   time      65079 non-null  object\n",
      " 6   Day       65079 non-null  object\n",
      "dtypes: object(7)\n",
      "memory usage: 3.5+ MB\n"
     ]
    }
   ],
   "source": [
    "df.info()"
   ]
  },
  {
   "cell_type": "markdown",
   "metadata": {
    "deletable": false,
    "editable": false,
    "id": "TaQ2Iwbr_Zct"
   },
   "source": [
    "Итак, в таблице семь столбцов. Тип данных во всех столбцах — `object`.\n",
    "\n",
    "Согласно документации к данным:\n",
    "* `userID` — идентификатор пользователя;\n",
    "* `Track` — название трека;  \n",
    "* `artist` — имя исполнителя;\n",
    "* `genre` — название жанра;\n",
    "* `City` — город пользователя;\n",
    "* `time` — время начала прослушивания;\n",
    "* `Day` — день недели.\n",
    "\n",
    "Количество значений в столбцах различается. Значит, в данных есть пропущенные значения."
   ]
  },
  {
   "cell_type": "markdown",
   "metadata": {
    "deletable": false,
    "id": "SjYF6Ub9_Zct"
   },
   "source": [
    "## Предобработка данных"
   ]
  },
  {
   "cell_type": "code",
   "execution_count": 6,
   "metadata": {
    "deletable": false,
    "id": "oKOTdF_Q_Zct"
   },
   "outputs": [
    {
     "data": {
      "text/plain": [
       "Index(['  userID', 'Track', 'artist', 'genre', '  City  ', 'time', 'Day'], dtype='object')"
      ]
     },
     "execution_count": 6,
     "metadata": {},
     "output_type": "execute_result"
    }
   ],
   "source": [
    "df.columns"
   ]
  },
  {
   "cell_type": "code",
   "execution_count": 7,
   "metadata": {
    "deletable": false,
    "id": "ISlFqs5y_Zct"
   },
   "outputs": [],
   "source": [
    "df = df.rename(columns = {'  userID': 'user_id', 'Track': 'track', '  City  ': 'city', 'Day': 'day'})"
   ]
  },
  {
   "cell_type": "code",
   "execution_count": 8,
   "metadata": {
    "deletable": false,
    "id": "d4NOAmTW_Zct"
   },
   "outputs": [
    {
     "data": {
      "text/plain": [
       "Index(['user_id', 'track', 'artist', 'genre', 'city', 'time', 'day'], dtype='object')"
      ]
     },
     "execution_count": 8,
     "metadata": {},
     "output_type": "execute_result"
    }
   ],
   "source": [
    "df.columns"
   ]
  },
  {
   "cell_type": "code",
   "execution_count": 9,
   "metadata": {
    "deletable": false,
    "id": "RskX29qr_Zct"
   },
   "outputs": [
    {
     "data": {
      "text/plain": [
       "user_id       0\n",
       "track      1231\n",
       "artist     7203\n",
       "genre      1198\n",
       "city          0\n",
       "time          0\n",
       "day           0\n",
       "dtype: int64"
      ]
     },
     "execution_count": 9,
     "metadata": {},
     "output_type": "execute_result"
    }
   ],
   "source": [
    "df.isna().sum()"
   ]
  },
  {
   "cell_type": "code",
   "execution_count": 10,
   "metadata": {
    "deletable": false,
    "id": "KplB5qWs_Zct"
   },
   "outputs": [],
   "source": [
    "columns_to_replace = ['track', 'artist', 'genre']\n",
    "\n",
    "for column in columns_to_replace:\n",
    "    df[column] = df[column].fillna('unknown')\n",
    "\n",
    "#df['track'] = df['track'].fillna('unknown')\n",
    "#df['artist'] = df['artist'].fillna('unknown')\n",
    "#df['genre'] = df['genre'].fillna('unknown')"
   ]
  },
  {
   "cell_type": "code",
   "execution_count": 11,
   "metadata": {
    "deletable": false,
    "id": "Tq4nYRX4_Zct"
   },
   "outputs": [
    {
     "data": {
      "text/plain": [
       "user_id    0\n",
       "track      0\n",
       "artist     0\n",
       "genre      0\n",
       "city       0\n",
       "time       0\n",
       "day        0\n",
       "dtype: int64"
      ]
     },
     "execution_count": 11,
     "metadata": {},
     "output_type": "execute_result"
    }
   ],
   "source": [
    "df.isna().sum()"
   ]
  },
  {
   "cell_type": "markdown",
   "metadata": {
    "deletable": false,
    "id": "BWKRtBJ3_Zct",
    "tags": [
     "start_task"
    ]
   },
   "source": [
    "### Дубликаты"
   ]
  },
  {
   "cell_type": "code",
   "execution_count": 12,
   "metadata": {
    "deletable": false,
    "id": "36eES_S0_Zct"
   },
   "outputs": [
    {
     "data": {
      "text/plain": [
       "3826"
      ]
     },
     "execution_count": 12,
     "metadata": {},
     "output_type": "execute_result"
    }
   ],
   "source": [
    "df.duplicated().sum()"
   ]
  },
  {
   "cell_type": "code",
   "execution_count": 13,
   "metadata": {
    "deletable": false,
    "id": "exFHq6tt_Zct"
   },
   "outputs": [],
   "source": [
    "df = df.drop_duplicates().reset_index(drop=True)"
   ]
  },
  {
   "cell_type": "code",
   "execution_count": 14,
   "metadata": {
    "deletable": false,
    "id": "-8PuNWQ0_Zct"
   },
   "outputs": [
    {
     "data": {
      "text/plain": [
       "0"
      ]
     },
     "execution_count": 14,
     "metadata": {},
     "output_type": "execute_result"
    }
   ],
   "source": [
    "df.duplicated().sum()"
   ]
  },
  {
   "cell_type": "code",
   "execution_count": 15,
   "metadata": {
    "deletable": false,
    "id": "JIUcqzZN_Zct"
   },
   "outputs": [
    {
     "data": {
      "text/plain": [
       "array(['acid', 'acoustic', 'action', 'adult', 'africa', 'afrikaans',\n",
       "       'alternative', 'alternativepunk', 'ambient', 'americana',\n",
       "       'animated', 'anime', 'arabesk', 'arabic', 'arena',\n",
       "       'argentinetango', 'art', 'audiobook', 'author', 'avantgarde',\n",
       "       'axé', 'baile', 'balkan', 'beats', 'bigroom', 'black', 'bluegrass',\n",
       "       'blues', 'bollywood', 'bossa', 'brazilian', 'breakbeat', 'breaks',\n",
       "       'broadway', 'cantautori', 'cantopop', 'canzone', 'caribbean',\n",
       "       'caucasian', 'celtic', 'chamber', 'chanson', 'children', 'chill',\n",
       "       'chinese', 'choral', 'christian', 'christmas', 'classical',\n",
       "       'classicmetal', 'club', 'colombian', 'comedy', 'conjazz',\n",
       "       'contemporary', 'country', 'cuban', 'dance', 'dancehall',\n",
       "       'dancepop', 'dark', 'death', 'deep', 'deutschrock', 'deutschspr',\n",
       "       'dirty', 'disco', 'dnb', 'documentary', 'downbeat', 'downtempo',\n",
       "       'drum', 'dub', 'dubstep', 'eastern', 'easy', 'electronic',\n",
       "       'electropop', 'emo', 'entehno', 'epicmetal', 'estrada', 'ethnic',\n",
       "       'eurofolk', 'european', 'experimental', 'extrememetal', 'fado',\n",
       "       'fairytail', 'film', 'fitness', 'flamenco', 'folk', 'folklore',\n",
       "       'folkmetal', 'folkrock', 'folktronica', 'forró', 'frankreich',\n",
       "       'französisch', 'french', 'funk', 'future', 'gangsta', 'garage',\n",
       "       'german', 'ghazal', 'gitarre', 'glitch', 'gospel', 'gothic',\n",
       "       'grime', 'grunge', 'gypsy', 'handsup', \"hard'n'heavy\", 'hardcore',\n",
       "       'hardstyle', 'hardtechno', 'hip', 'hip-hop', 'hiphop',\n",
       "       'historisch', 'holiday', 'hop', 'horror', 'house', 'hymn', 'idm',\n",
       "       'independent', 'indian', 'indie', 'indipop', 'industrial',\n",
       "       'inspirational', 'instrumental', 'international', 'irish', 'jam',\n",
       "       'japanese', 'jazz', 'jewish', 'jpop', 'jungle', 'k-pop',\n",
       "       'karadeniz', 'karaoke', 'kayokyoku', 'korean', 'laiko', 'latin',\n",
       "       'latino', 'leftfield', 'local', 'lounge', 'loungeelectronic',\n",
       "       'lovers', 'malaysian', 'mandopop', 'marschmusik', 'meditative',\n",
       "       'mediterranean', 'melodic', 'metal', 'metalcore', 'mexican',\n",
       "       'middle', 'minimal', 'miscellaneous', 'modern', 'mood', 'mpb',\n",
       "       'muslim', 'native', 'neoklassik', 'neue', 'new', 'newage',\n",
       "       'newwave', 'nu', 'nujazz', 'numetal', 'oceania', 'old', 'opera',\n",
       "       'orchestral', 'other', 'piano', 'podcasts', 'pop', 'popdance',\n",
       "       'popelectronic', 'popeurodance', 'poprussian', 'post',\n",
       "       'posthardcore', 'postrock', 'power', 'progmetal', 'progressive',\n",
       "       'psychedelic', 'punjabi', 'punk', 'quebecois', 'ragga', 'ram',\n",
       "       'rancheras', 'rap', 'rave', 'reggae', 'reggaeton', 'regional',\n",
       "       'relax', 'religious', 'retro', 'rhythm', 'rnb', 'rnr', 'rock',\n",
       "       'rockabilly', 'rockalternative', 'rockindie', 'rockother',\n",
       "       'romance', 'roots', 'ruspop', 'rusrap', 'rusrock', 'russian',\n",
       "       'salsa', 'samba', 'scenic', 'schlager', 'self', 'sertanejo',\n",
       "       'shanson', 'shoegazing', 'showtunes', 'singer', 'ska', 'skarock',\n",
       "       'slow', 'smooth', 'soft', 'soul', 'soulful', 'sound', 'soundtrack',\n",
       "       'southern', 'specialty', 'speech', 'spiritual', 'sport',\n",
       "       'stonerrock', 'surf', 'swing', 'synthpop', 'synthrock',\n",
       "       'sängerportrait', 'tango', 'tanzorchester', 'taraftar', 'tatar',\n",
       "       'tech', 'techno', 'teen', 'thrash', 'top', 'traditional',\n",
       "       'tradjazz', 'trance', 'tribal', 'trip', 'triphop', 'tropical',\n",
       "       'türk', 'türkçe', 'ukrrock', 'unknown', 'urban', 'uzbek',\n",
       "       'variété', 'vi', 'videogame', 'vocal', 'western', 'world',\n",
       "       'worldbeat', 'ïîï', 'электроника'], dtype=object)"
      ]
     },
     "execution_count": 15,
     "metadata": {},
     "output_type": "execute_result"
    }
   ],
   "source": [
    "df['genre'] #Нужный столбец из датафрейма\n",
    "df = df.sort_values(by = 'genre') #Сортировка по возрастанию по столбцу 'Жанр'\n",
    "df['genre'].unique() #Поиск неявных дубликатов"
   ]
  },
  {
   "cell_type": "code",
   "execution_count": 16,
   "metadata": {
    "deletable": false,
    "id": "ErNDkmns_Zct"
   },
   "outputs": [],
   "source": [
    "df['genre'] = df['genre'].replace('hip', 'hiphop')\n",
    "df['genre'] = df['genre'].replace('hop', 'hiphop')\n",
    "df['genre'] = df['genre'].replace('hip-hop', 'hiphop')"
   ]
  },
  {
   "cell_type": "code",
   "execution_count": 17,
   "metadata": {
    "deletable": false,
    "id": "wvixALnFG15m"
   },
   "outputs": [
    {
     "data": {
      "text/plain": [
       "array(['acid', 'acoustic', 'action', 'adult', 'africa', 'afrikaans',\n",
       "       'alternative', 'alternativepunk', 'ambient', 'americana',\n",
       "       'animated', 'anime', 'arabesk', 'arabic', 'arena',\n",
       "       'argentinetango', 'art', 'audiobook', 'author', 'avantgarde',\n",
       "       'axé', 'baile', 'balkan', 'beats', 'bigroom', 'black', 'bluegrass',\n",
       "       'blues', 'bollywood', 'bossa', 'brazilian', 'breakbeat', 'breaks',\n",
       "       'broadway', 'cantautori', 'cantopop', 'canzone', 'caribbean',\n",
       "       'caucasian', 'celtic', 'chamber', 'chanson', 'children', 'chill',\n",
       "       'chinese', 'choral', 'christian', 'christmas', 'classical',\n",
       "       'classicmetal', 'club', 'colombian', 'comedy', 'conjazz',\n",
       "       'contemporary', 'country', 'cuban', 'dance', 'dancehall',\n",
       "       'dancepop', 'dark', 'death', 'deep', 'deutschrock', 'deutschspr',\n",
       "       'dirty', 'disco', 'dnb', 'documentary', 'downbeat', 'downtempo',\n",
       "       'drum', 'dub', 'dubstep', 'eastern', 'easy', 'electronic',\n",
       "       'electropop', 'emo', 'entehno', 'epicmetal', 'estrada', 'ethnic',\n",
       "       'eurofolk', 'european', 'experimental', 'extrememetal', 'fado',\n",
       "       'fairytail', 'film', 'fitness', 'flamenco', 'folk', 'folklore',\n",
       "       'folkmetal', 'folkrock', 'folktronica', 'forró', 'frankreich',\n",
       "       'französisch', 'french', 'funk', 'future', 'gangsta', 'garage',\n",
       "       'german', 'ghazal', 'gitarre', 'glitch', 'gospel', 'gothic',\n",
       "       'grime', 'grunge', 'gypsy', 'handsup', \"hard'n'heavy\", 'hardcore',\n",
       "       'hardstyle', 'hardtechno', 'hiphop', 'historisch', 'holiday',\n",
       "       'horror', 'house', 'hymn', 'idm', 'independent', 'indian', 'indie',\n",
       "       'indipop', 'industrial', 'inspirational', 'instrumental',\n",
       "       'international', 'irish', 'jam', 'japanese', 'jazz', 'jewish',\n",
       "       'jpop', 'jungle', 'k-pop', 'karadeniz', 'karaoke', 'kayokyoku',\n",
       "       'korean', 'laiko', 'latin', 'latino', 'leftfield', 'local',\n",
       "       'lounge', 'loungeelectronic', 'lovers', 'malaysian', 'mandopop',\n",
       "       'marschmusik', 'meditative', 'mediterranean', 'melodic', 'metal',\n",
       "       'metalcore', 'mexican', 'middle', 'minimal', 'miscellaneous',\n",
       "       'modern', 'mood', 'mpb', 'muslim', 'native', 'neoklassik', 'neue',\n",
       "       'new', 'newage', 'newwave', 'nu', 'nujazz', 'numetal', 'oceania',\n",
       "       'old', 'opera', 'orchestral', 'other', 'piano', 'podcasts', 'pop',\n",
       "       'popdance', 'popelectronic', 'popeurodance', 'poprussian', 'post',\n",
       "       'posthardcore', 'postrock', 'power', 'progmetal', 'progressive',\n",
       "       'psychedelic', 'punjabi', 'punk', 'quebecois', 'ragga', 'ram',\n",
       "       'rancheras', 'rap', 'rave', 'reggae', 'reggaeton', 'regional',\n",
       "       'relax', 'religious', 'retro', 'rhythm', 'rnb', 'rnr', 'rock',\n",
       "       'rockabilly', 'rockalternative', 'rockindie', 'rockother',\n",
       "       'romance', 'roots', 'ruspop', 'rusrap', 'rusrock', 'russian',\n",
       "       'salsa', 'samba', 'scenic', 'schlager', 'self', 'sertanejo',\n",
       "       'shanson', 'shoegazing', 'showtunes', 'singer', 'ska', 'skarock',\n",
       "       'slow', 'smooth', 'soft', 'soul', 'soulful', 'sound', 'soundtrack',\n",
       "       'southern', 'specialty', 'speech', 'spiritual', 'sport',\n",
       "       'stonerrock', 'surf', 'swing', 'synthpop', 'synthrock',\n",
       "       'sängerportrait', 'tango', 'tanzorchester', 'taraftar', 'tatar',\n",
       "       'tech', 'techno', 'teen', 'thrash', 'top', 'traditional',\n",
       "       'tradjazz', 'trance', 'tribal', 'trip', 'triphop', 'tropical',\n",
       "       'türk', 'türkçe', 'ukrrock', 'unknown', 'urban', 'uzbek',\n",
       "       'variété', 'vi', 'videogame', 'vocal', 'western', 'world',\n",
       "       'worldbeat', 'ïîï', 'электроника'], dtype=object)"
      ]
     },
     "execution_count": 17,
     "metadata": {},
     "output_type": "execute_result"
    }
   ],
   "source": [
    "df['genre'].unique()"
   ]
  },
  {
   "cell_type": "markdown",
   "metadata": {
    "deletable": false,
    "editable": false,
    "id": "jz6a9-7HQUDd"
   },
   "source": [
    "**Выводы**\n",
    "\n",
    "Предобработка обнаружила три проблемы в данных:\n",
    "\n",
    "- нарушения в стиле заголовков,\n",
    "- пропущенные значения,\n",
    "- дубликаты — явные и неявные.\n",
    "\n",
    "Вы исправили заголовки, чтобы упростить работу с таблицей. Без дубликатов исследование станет более точным.\n",
    "\n",
    "Пропущенные значения вы заменили на `'unknown'`. Ещё предстоит увидеть, не повредят ли исследованию пропуски в колонке `genre`.\n",
    "\n",
    "Теперь можно перейти к проверке гипотез. "
   ]
  },
  {
   "cell_type": "markdown",
   "metadata": {
    "deletable": false,
    "editable": false,
    "id": "WttZHXH0SqKk"
   },
   "source": [
    "## Проверка гипотез"
   ]
  },
  {
   "cell_type": "markdown",
   "metadata": {
    "deletable": false,
    "editable": false,
    "id": "Im936VVi_Zcu"
   },
   "source": [
    "### Сравнение поведения пользователей двух столиц"
   ]
  },
  {
   "cell_type": "markdown",
   "metadata": {
    "deletable": false,
    "id": "nwt_MuaL_Zcu"
   },
   "source": [
    "Первая гипотеза утверждает, что пользователи по-разному слушают музыку в Москве и Санкт-Петербурге. Проверьте это предположение по данным о трёх днях недели — понедельнике, среде и пятнице. Для этого:\n",
    "\n",
    "* Разделить пользователей Москвы и Санкт-Петербурга.\n",
    "* Сравнить, сколько треков послушала каждая группа пользователей в понедельник, среду и пятницу.\n"
   ]
  },
  {
   "cell_type": "code",
   "execution_count": 18,
   "metadata": {
    "deletable": false,
    "id": "0_Qs96oh_Zcu"
   },
   "outputs": [
    {
     "data": {
      "text/plain": [
       "city\n",
       "Moscow              42741\n",
       "Saint-Petersburg    18512\n",
       "Name: genre, dtype: int64"
      ]
     },
     "execution_count": 18,
     "metadata": {},
     "output_type": "execute_result"
    }
   ],
   "source": [
    "df.groupby('city')['genre'].count()"
   ]
  },
  {
   "cell_type": "markdown",
   "metadata": {
    "deletable": false,
    "id": "dzli3w8o_Zcu",
    "tags": [
     "start_task"
    ]
   },
   "source": [
    "В Москве прослушиваний больше, чем в Петербурге. Из этого не следует, что московские пользователи чаще слушают музыку. Просто самих пользователей в Москве больше."
   ]
  },
  {
   "cell_type": "code",
   "execution_count": 19,
   "metadata": {
    "deletable": false,
    "id": "uZMKjiJz_Zcu"
   },
   "outputs": [
    {
     "data": {
      "text/plain": [
       "day\n",
       "Friday       21840\n",
       "Monday       21354\n",
       "Wednesday    18059\n",
       "Name: city, dtype: int64"
      ]
     },
     "execution_count": 19,
     "metadata": {},
     "output_type": "execute_result"
    }
   ],
   "source": [
    "df.groupby('day')['city'].count()"
   ]
  },
  {
   "cell_type": "markdown",
   "metadata": {
    "deletable": false,
    "editable": false,
    "id": "cC2tNrlL_Zcu"
   },
   "source": [
    "В среднем пользователи из двух городов менее активны по средам. Но картина может измениться, если рассмотреть каждый город в отдельности."
   ]
  },
  {
   "cell_type": "code",
   "execution_count": 3,
   "metadata": {
    "deletable": false,
    "id": "Nz3GdQB1_Zcu"
   },
   "outputs": [],
   "source": [
    "def number_tracks(day, city): # <создание функции number_tracks()>\n",
    "    track_list = df[df['day'] == day]\n",
    "    track_list = track_list[track_list['city'] == city]\n",
    "    track_list_count = track_list['user_id'].count()   #число значений user_id\n",
    "    return track_list_count    #возврат количества"
   ]
  },
  {
   "cell_type": "code",
   "execution_count": 21,
   "metadata": {
    "deletable": false,
    "id": "rJcRATNQ_Zcu"
   },
   "outputs": [
    {
     "data": {
      "text/plain": [
       "15740"
      ]
     },
     "execution_count": 21,
     "metadata": {},
     "output_type": "execute_result"
    }
   ],
   "source": [
    "number_tracks('Monday', 'Moscow')  # количество прослушиваний в Москве по понедельникам"
   ]
  },
  {
   "cell_type": "code",
   "execution_count": 22,
   "metadata": {
    "deletable": false,
    "id": "hq_ncZ5T_Zcu"
   },
   "outputs": [
    {
     "data": {
      "text/plain": [
       "5614"
      ]
     },
     "execution_count": 22,
     "metadata": {},
     "output_type": "execute_result"
    }
   ],
   "source": [
    "number_tracks('Monday', 'Saint-Petersburg')  # количество прослушиваний в Санкт-Петербурге по понедельникам"
   ]
  },
  {
   "cell_type": "code",
   "execution_count": 23,
   "metadata": {
    "deletable": false,
    "id": "_NTy2VPU_Zcu"
   },
   "outputs": [
    {
     "data": {
      "text/plain": [
       "11056"
      ]
     },
     "execution_count": 23,
     "metadata": {},
     "output_type": "execute_result"
    }
   ],
   "source": [
    "number_tracks('Wednesday', 'Moscow') # количество прослушиваний в Москве по средам"
   ]
  },
  {
   "cell_type": "code",
   "execution_count": 24,
   "metadata": {
    "deletable": false,
    "id": "j2y3TAwo_Zcu"
   },
   "outputs": [
    {
     "data": {
      "text/plain": [
       "7003"
      ]
     },
     "execution_count": 24,
     "metadata": {},
     "output_type": "execute_result"
    }
   ],
   "source": [
    "number_tracks('Wednesday', 'Saint-Petersburg') # количество прослушиваний в Санкт-Петербурге по средам"
   ]
  },
  {
   "cell_type": "code",
   "execution_count": 25,
   "metadata": {
    "deletable": false,
    "id": "vYDw5u_K_Zcu"
   },
   "outputs": [
    {
     "data": {
      "text/plain": [
       "15945"
      ]
     },
     "execution_count": 25,
     "metadata": {},
     "output_type": "execute_result"
    }
   ],
   "source": [
    "number_tracks('Friday', 'Moscow') # количество прослушиваний в Москве по пятницам"
   ]
  },
  {
   "cell_type": "code",
   "execution_count": 26,
   "metadata": {
    "deletable": false,
    "id": "8_yzFtW3_Zcu"
   },
   "outputs": [
    {
     "data": {
      "text/plain": [
       "5895"
      ]
     },
     "execution_count": 26,
     "metadata": {},
     "output_type": "execute_result"
    }
   ],
   "source": [
    "number_tracks('Friday', 'Saint-Petersburg') # количество прослушиваний в Санкт-Петербурге по пятницам"
   ]
  },
  {
   "cell_type": "code",
   "execution_count": 27,
   "metadata": {
    "deletable": false,
    "id": "APAcLpOr_Zcu"
   },
   "outputs": [
    {
     "data": {
      "text/html": [
       "<div>\n",
       "<style scoped>\n",
       "    .dataframe tbody tr th:only-of-type {\n",
       "        vertical-align: middle;\n",
       "    }\n",
       "\n",
       "    .dataframe tbody tr th {\n",
       "        vertical-align: top;\n",
       "    }\n",
       "\n",
       "    .dataframe thead th {\n",
       "        text-align: right;\n",
       "    }\n",
       "</style>\n",
       "<table border=\"1\" class=\"dataframe\">\n",
       "  <thead>\n",
       "    <tr style=\"text-align: right;\">\n",
       "      <th></th>\n",
       "      <th>city</th>\n",
       "      <th>monday</th>\n",
       "      <th>wednesday</th>\n",
       "      <th>friday</th>\n",
       "    </tr>\n",
       "  </thead>\n",
       "  <tbody>\n",
       "    <tr>\n",
       "      <th>0</th>\n",
       "      <td>Moscow</td>\n",
       "      <td>15740</td>\n",
       "      <td>11056</td>\n",
       "      <td>15945</td>\n",
       "    </tr>\n",
       "    <tr>\n",
       "      <th>1</th>\n",
       "      <td>Saint-Petersburg</td>\n",
       "      <td>5614</td>\n",
       "      <td>7003</td>\n",
       "      <td>5895</td>\n",
       "    </tr>\n",
       "  </tbody>\n",
       "</table>\n",
       "</div>"
      ],
      "text/plain": [
       "               city monday wednesday friday\n",
       "0            Moscow  15740     11056  15945\n",
       "1  Saint-Petersburg   5614      7003   5895"
      ]
     },
     "execution_count": 27,
     "metadata": {},
     "output_type": "execute_result"
    }
   ],
   "source": [
    "# Таблица с результатами\n",
    "data = [\n",
    "    ['Moscow', '15740', '11056', '15945'],\n",
    "    ['Saint-Petersburg', '5614', '7003', '5895']\n",
    "]\n",
    "columns = ['city', 'monday', 'wednesday', 'friday']\n",
    "info = pd.DataFrame(data = data, columns = columns)\n",
    "info"
   ]
  },
  {
   "cell_type": "markdown",
   "metadata": {
    "deletable": false,
    "editable": false,
    "id": "-EgPIHYu_Zcu"
   },
   "source": [
    "**Выводы**\n",
    "\n",
    "Данные показывают разницу поведения пользователей:\n",
    "\n",
    "- В Москве пик прослушиваний приходится на понедельник и пятницу, а в среду заметен спад.\n",
    "- В Петербурге, наоборот, больше слушают музыку по средам. Активность в понедельник и пятницу здесь почти в равной мере уступает среде.\n",
    "\n",
    "Значит, данные говорят в пользу первой гипотезы."
   ]
  },
  {
   "cell_type": "markdown",
   "metadata": {
    "deletable": false,
    "editable": false,
    "id": "atZAxtq4_Zcu"
   },
   "source": [
    "### Музыка в начале и в конце недели"
   ]
  },
  {
   "cell_type": "markdown",
   "metadata": {
    "deletable": false,
    "editable": false,
    "id": "eXrQqXFH_Zcu"
   },
   "source": [
    "Согласно второй гипотезе, утром в понедельник в Москве преобладают одни жанры, а в Петербурге — другие. Так же и вечером пятницы преобладают разные жанры — в зависимости от города."
   ]
  },
  {
   "cell_type": "code",
   "execution_count": 28,
   "metadata": {
    "deletable": false,
    "id": "qeaFfM_P_Zcu"
   },
   "outputs": [],
   "source": [
    "moscow_general = df[df['city'] == 'Moscow']\n",
    "\n",
    "# получение таблицы moscow_general из тех строк таблицы df, \n",
    "# для которых значение в столбце 'city' равно 'Moscow'\n"
   ]
  },
  {
   "cell_type": "code",
   "execution_count": 29,
   "metadata": {
    "deletable": false,
    "id": "ORaVRKto_Zcu"
   },
   "outputs": [],
   "source": [
    "spb_general = df[df['city'] == 'Saint-Petersburg']\n",
    "\n",
    "# получение таблицы spb_general из тех строк таблицы df,\n",
    "# для которых значение в столбце 'city' равно 'Saint-Petersburg'\n"
   ]
  },
  {
   "cell_type": "code",
   "execution_count": 4,
   "metadata": {
    "deletable": false,
    "id": "laJT9BYl_Zcu"
   },
   "outputs": [],
   "source": [
    "def genre_weekday(df, day, time1, time2):\n",
    "    # последовательная фильтрация\n",
    "    # оставляем в genre_df только те строки df, у которых день равен day\n",
    "    genre_df = df[df['day'] == day] # ваш код здесь\n",
    "    # оставляем в genre_df только те строки genre_df, у которых время меньше time2\n",
    "    genre_df = genre_df[genre_df['time'] < time2] # ваш код здесь\n",
    "    # оставляем в genre_df только те строки genre_df, у которых время больше time1\n",
    "    genre_df = genre_df[genre_df['time'] > time1] # ваш код здесь\n",
    "    # сгруппируем отфильтрованный датафрейм по столбцу с названиями жанров, возьмём столбец genre и посчитаем кол-во строк для каждого жанра методом count()\n",
    "    genre_df_grouped = genre_df.groupby('genre')['genre'].count() # ваш код здесь\n",
    "    # отсортируем результат по убыванию (чтобы в начале Series оказались самые популярные жанры)\n",
    "    genre_df_sorted = genre_df_grouped.sort_values(ascending=False) # ваш код здесь\n",
    "    # вернём Series с 10 самыми популярными жанрами в указанный отрезок времени заданного дня\n",
    "    return genre_df_sorted[:10]\n"
   ]
  },
  {
   "cell_type": "code",
   "execution_count": 31,
   "metadata": {
    "deletable": false,
    "id": "yz7itPUQ_Zcu"
   },
   "outputs": [
    {
     "data": {
      "text/plain": [
       "genre\n",
       "pop            781\n",
       "dance          549\n",
       "electronic     480\n",
       "rock           474\n",
       "hiphop         286\n",
       "ruspop         186\n",
       "world          181\n",
       "rusrap         175\n",
       "alternative    164\n",
       "unknown        161\n",
       "Name: genre, dtype: int64"
      ]
     },
     "execution_count": 31,
     "metadata": {},
     "output_type": "execute_result"
    }
   ],
   "source": [
    "genre_weekday(moscow_general, 'Monday', '07:00', '11:00')\n"
   ]
  },
  {
   "cell_type": "code",
   "execution_count": 32,
   "metadata": {
    "deletable": false,
    "id": "kwUcHPdy_Zcu"
   },
   "outputs": [
    {
     "data": {
      "text/plain": [
       "genre\n",
       "pop            218\n",
       "dance          182\n",
       "rock           162\n",
       "electronic     147\n",
       "hiphop          80\n",
       "ruspop          64\n",
       "alternative     58\n",
       "rusrap          55\n",
       "jazz            44\n",
       "classical       40\n",
       "Name: genre, dtype: int64"
      ]
     },
     "execution_count": 32,
     "metadata": {},
     "output_type": "execute_result"
    }
   ],
   "source": [
    "genre_weekday(spb_general, 'Monday', '07:00', '11:00')\n",
    "# вызов функции для утра понедельника в Петербурге (вместо df — таблица spb_general)"
   ]
  },
  {
   "cell_type": "code",
   "execution_count": 33,
   "metadata": {
    "deletable": false,
    "id": "EzXVRE1o_Zcu"
   },
   "outputs": [
    {
     "data": {
      "text/plain": [
       "genre\n",
       "pop            713\n",
       "rock           517\n",
       "dance          495\n",
       "electronic     482\n",
       "hiphop         273\n",
       "world          208\n",
       "ruspop         170\n",
       "alternative    163\n",
       "classical      163\n",
       "rusrap         142\n",
       "Name: genre, dtype: int64"
      ]
     },
     "execution_count": 33,
     "metadata": {},
     "output_type": "execute_result"
    }
   ],
   "source": [
    "genre_weekday(moscow_general, 'Friday', '17:00', '23:00')# вызов функции для вечера пятницы в Москве"
   ]
  },
  {
   "cell_type": "markdown",
   "metadata": {
    "deletable": false,
    "id": "JZaEKu5v_Zcu"
   },
   "source": [
    "genre_weekday(spb_general, 'Friday', '17:00', '23:00')# вызов функции для вечера пятницы в Петербурге"
   ]
  },
  {
   "cell_type": "markdown",
   "metadata": {
    "deletable": false,
    "editable": false,
    "id": "wrCe4MNX_Zcu"
   },
   "source": [
    "**Выводы**\n",
    "\n",
    "Если сравнить топ-10 жанров в понедельник утром, можно сделать такие выводы:\n",
    "\n",
    "1. В Москве и Петербурге слушают похожую музыку. Единственное отличие — в московский рейтинг вошёл жанр “world”, а в петербургский — джаз и классика.\n",
    "\n",
    "2. В Москве пропущенных значений оказалось так много, что значение `'unknown'` заняло десятое место среди самых популярных жанров. Значит, пропущенные значения занимают существенную долю в данных и угрожают достоверности исследования.\n",
    "\n",
    "Вечер пятницы не меняет эту картину. Некоторые жанры поднимаются немного выше, другие спускаются, но в целом топ-10 остаётся тем же самым.\n",
    "\n",
    "Таким образом, вторая гипотеза подтвердилась лишь частично:\n",
    "* Пользователи слушают похожую музыку в начале недели и в конце.\n",
    "* Разница между Москвой и Петербургом не слишком выражена. В Москве чаще слушают русскую популярную музыку, в Петербурге — джаз.\n",
    "\n",
    "Однако пропуски в данных ставят под сомнение этот результат. В Москве их так много, что рейтинг топ-10 мог бы выглядеть иначе, если бы не утерянные  данные о жанрах."
   ]
  },
  {
   "cell_type": "markdown",
   "metadata": {
    "deletable": false,
    "editable": false,
    "id": "JolODAqr_Zcu"
   },
   "source": [
    "### Жанровые предпочтения в Москве и Петербурге\n",
    "\n",
    "Гипотеза: Петербург — столица рэпа, музыку этого жанра там слушают чаще, чем в Москве.  А Москва — город контрастов, в котором, тем не менее, преобладает поп-музыка."
   ]
  },
  {
   "cell_type": "code",
   "execution_count": 35,
   "metadata": {
    "deletable": false,
    "id": "r19lIPke_Zcu"
   },
   "outputs": [],
   "source": [
    "moscow_genres = moscow_general.groupby(by='genre')['genre'].count().sort_values(ascending=False)"
   ]
  },
  {
   "cell_type": "code",
   "execution_count": 36,
   "metadata": {
    "deletable": false,
    "id": "WhCSooF8_Zcv"
   },
   "outputs": [
    {
     "data": {
      "text/plain": [
       "genre\n",
       "pop            5892\n",
       "dance          4435\n",
       "rock           3965\n",
       "electronic     3786\n",
       "hiphop         2096\n",
       "classical      1616\n",
       "world          1432\n",
       "alternative    1379\n",
       "ruspop         1372\n",
       "rusrap         1161\n",
       "Name: genre, dtype: int64"
      ]
     },
     "execution_count": 36,
     "metadata": {},
     "output_type": "execute_result"
    }
   ],
   "source": [
    "moscow_genres.head(10)"
   ]
  },
  {
   "cell_type": "code",
   "execution_count": 37,
   "metadata": {
    "deletable": false,
    "id": "gluLIpE7_Zcv"
   },
   "outputs": [],
   "source": [
    "spb_genres = spb_general.groupby(by='genre')['genre'].count().sort_values(ascending=False)"
   ]
  },
  {
   "cell_type": "code",
   "execution_count": 38,
   "metadata": {
    "deletable": false,
    "id": "uaGJHjVU_Zcv"
   },
   "outputs": [
    {
     "data": {
      "text/plain": [
       "genre\n",
       "pop            2431\n",
       "dance          1932\n",
       "rock           1879\n",
       "electronic     1736\n",
       "hiphop          960\n",
       "alternative     649\n",
       "classical       646\n",
       "rusrap          564\n",
       "ruspop          538\n",
       "world           515\n",
       "Name: genre, dtype: int64"
      ]
     },
     "execution_count": 38,
     "metadata": {},
     "output_type": "execute_result"
    }
   ],
   "source": [
    "spb_genres.head(10)"
   ]
  },
  {
   "cell_type": "markdown",
   "metadata": {
    "deletable": false,
    "editable": false,
    "id": "RY51YJYu_Zcv"
   },
   "source": [
    "**Выводы**"
   ]
  },
  {
   "cell_type": "markdown",
   "metadata": {
    "deletable": false,
    "editable": false,
    "id": "nVhnJEm__Zcv"
   },
   "source": [
    "Гипотеза частично подтвердилась:\n",
    "* Поп-музыка — самый популярный жанр в Москве, как и предполагала гипотеза. Более того, в топ-10 жанров встречается близкий жанр — русская популярная музыка.\n",
    "* Вопреки ожиданиям, рэп одинаково популярен в Москве и Петербурге. \n"
   ]
  },
  {
   "cell_type": "markdown",
   "metadata": {
    "deletable": false,
    "editable": false,
    "id": "ykKQ0N65_Zcv"
   },
   "source": [
    "## Итоги исследования"
   ]
  },
  {
   "cell_type": "markdown",
   "metadata": {
    "deletable": false,
    "id": "tjUwbHb3_Zcv"
   },
   "source": [
    "Проверено три гипотезы и установлно:\n",
    "\n",
    "1. День недели по-разному влияет на активность пользователей в Москве и Петербурге. \n",
    "\n",
    "Первая гипотеза полностью подтвердилась.\n",
    "\n",
    "2. Музыкальные предпочтения не сильно меняются в течение недели — будь то Москва или Петербург. Небольшие различия заметны в начале недели, по понедельникам:\n",
    "* в Москве слушают музыку жанра “world”,\n",
    "* в Петербурге — джаз и классику.\n",
    "\n",
    "Таким образом, вторая гипотеза подтвердилась лишь отчасти. Этот результат мог оказаться иным, если бы не пропуски в данных.\n",
    "\n",
    "3. Во вкусах пользователей Москвы и Петербурга больше общего чем различий. Вопреки ожиданиям, предпочтения жанров в Петербурге напоминают московские.\n",
    "\n",
    "Третья гипотеза не подтвердилась. Если различия в предпочтениях и существуют, на основной массе пользователей они незаметны.\n",
    "\n",
    "**На практике исследования содержат проверки статистических гипотез.**\n",
    "Из данных одного сервиса не всегда можно сделать вывод о всех жителях города.\n",
    "Проверки статистических гипотез покажут, насколько они достоверны, исходя из имеющихся данных. \n",
    "С методами проверок гипотез вы ещё познакомитесь в следующих темах."
   ]
  },
  {
   "cell_type": "code",
   "execution_count": null,
   "metadata": {},
   "outputs": [],
   "source": []
  }
 ],
 "metadata": {
  "ExecuteTimeLog": [
   {
    "duration": 412,
    "start_time": "2022-11-08T19:49:20.804Z"
   },
   {
    "duration": 73,
    "start_time": "2022-11-08T19:50:57.956Z"
   },
   {
    "duration": 202,
    "start_time": "2022-11-08T19:51:18.050Z"
   },
   {
    "duration": 17,
    "start_time": "2022-11-08T19:51:49.246Z"
   },
   {
    "duration": 37,
    "start_time": "2022-11-08T19:54:04.460Z"
   },
   {
    "duration": 2,
    "start_time": "2022-11-08T20:06:51.071Z"
   },
   {
    "duration": 8,
    "start_time": "2022-11-08T20:10:49.666Z"
   },
   {
    "duration": 7,
    "start_time": "2022-11-08T20:11:08.008Z"
   },
   {
    "duration": 10,
    "start_time": "2022-11-08T20:11:17.850Z"
   },
   {
    "duration": 11,
    "start_time": "2022-11-08T20:11:25.352Z"
   },
   {
    "duration": 5,
    "start_time": "2022-11-08T20:11:34.996Z"
   },
   {
    "duration": 72,
    "start_time": "2022-11-08T20:19:54.276Z"
   },
   {
    "duration": 10,
    "start_time": "2022-11-08T20:20:03.444Z"
   },
   {
    "duration": 4,
    "start_time": "2022-11-08T20:20:33.281Z"
   },
   {
    "duration": 12,
    "start_time": "2022-11-08T20:21:08.890Z"
   },
   {
    "duration": 11,
    "start_time": "2022-11-08T20:21:18.736Z"
   },
   {
    "duration": 3,
    "start_time": "2022-11-08T20:21:41.881Z"
   },
   {
    "duration": 22,
    "start_time": "2022-11-08T20:24:02.200Z"
   },
   {
    "duration": 1056,
    "start_time": "2022-11-08T20:27:42.806Z"
   },
   {
    "duration": 7,
    "start_time": "2022-11-08T20:27:59.125Z"
   },
   {
    "duration": 7,
    "start_time": "2022-11-08T20:28:38.429Z"
   },
   {
    "duration": 1124,
    "start_time": "2022-11-08T20:29:33.624Z"
   },
   {
    "duration": 10,
    "start_time": "2022-11-08T20:29:42.995Z"
   },
   {
    "duration": 9,
    "start_time": "2022-11-08T20:29:59.126Z"
   },
   {
    "duration": 10,
    "start_time": "2022-11-08T20:30:11.579Z"
   },
   {
    "duration": 17,
    "start_time": "2022-11-08T20:30:49.422Z"
   },
   {
    "duration": 15,
    "start_time": "2022-11-08T20:36:42.046Z"
   },
   {
    "duration": 26,
    "start_time": "2022-11-08T20:38:45.720Z"
   },
   {
    "duration": 3,
    "start_time": "2022-11-08T20:40:04.852Z"
   },
   {
    "duration": 145,
    "start_time": "2022-11-08T20:40:07.021Z"
   },
   {
    "duration": 9,
    "start_time": "2022-11-08T20:40:09.537Z"
   },
   {
    "duration": 23,
    "start_time": "2022-11-08T20:40:43.673Z"
   },
   {
    "duration": 2,
    "start_time": "2022-11-08T20:40:47.960Z"
   },
   {
    "duration": 4,
    "start_time": "2022-11-08T20:40:50.180Z"
   },
   {
    "duration": 7,
    "start_time": "2022-11-08T20:40:55.360Z"
   },
   {
    "duration": 4,
    "start_time": "2022-11-08T20:40:58.161Z"
   },
   {
    "duration": 22,
    "start_time": "2022-11-08T20:41:00.634Z"
   },
   {
    "duration": 15,
    "start_time": "2022-11-08T20:41:03.194Z"
   },
   {
    "duration": 22,
    "start_time": "2022-11-08T20:41:05.791Z"
   },
   {
    "duration": 12,
    "start_time": "2022-11-08T20:41:27.390Z"
   },
   {
    "duration": 22,
    "start_time": "2022-11-08T20:41:45.643Z"
   },
   {
    "duration": 21,
    "start_time": "2022-11-08T20:41:47.586Z"
   },
   {
    "duration": 60,
    "start_time": "2022-11-08T20:48:22.249Z"
   },
   {
    "duration": 52,
    "start_time": "2022-11-08T20:48:48.258Z"
   },
   {
    "duration": 75,
    "start_time": "2022-11-08T20:52:00.791Z"
   },
   {
    "duration": 63,
    "start_time": "2022-11-08T20:52:09.452Z"
   },
   {
    "duration": 51,
    "start_time": "2022-11-08T20:55:26.653Z"
   },
   {
    "duration": 53,
    "start_time": "2022-11-08T20:55:31.505Z"
   },
   {
    "duration": 5,
    "start_time": "2022-11-08T21:01:04.301Z"
   },
   {
    "duration": 48,
    "start_time": "2022-11-08T21:03:57.279Z"
   },
   {
    "duration": 46,
    "start_time": "2022-11-08T21:04:06.553Z"
   },
   {
    "duration": 5,
    "start_time": "2022-11-08T21:04:36.548Z"
   },
   {
    "duration": 43,
    "start_time": "2022-11-08T21:05:34.478Z"
   },
   {
    "duration": 49,
    "start_time": "2022-11-08T21:05:55.761Z"
   },
   {
    "duration": 40,
    "start_time": "2022-11-08T21:06:05.032Z"
   },
   {
    "duration": 43,
    "start_time": "2022-11-08T21:06:20.454Z"
   },
   {
    "duration": 35,
    "start_time": "2022-11-08T21:06:25.687Z"
   },
   {
    "duration": 36,
    "start_time": "2022-11-08T21:07:57.687Z"
   },
   {
    "duration": 37,
    "start_time": "2022-11-08T21:08:27.166Z"
   },
   {
    "duration": 71,
    "start_time": "2022-11-08T21:13:47.125Z"
   },
   {
    "duration": 87,
    "start_time": "2022-11-08T21:13:53.989Z"
   },
   {
    "duration": 10,
    "start_time": "2022-11-08T21:14:58.143Z"
   },
   {
    "duration": 8,
    "start_time": "2022-11-08T21:15:33.402Z"
   },
   {
    "duration": 9,
    "start_time": "2022-11-08T21:15:57.177Z"
   },
   {
    "duration": 7,
    "start_time": "2022-11-08T21:16:02.537Z"
   },
   {
    "duration": 7,
    "start_time": "2022-11-08T21:33:56.608Z"
   },
   {
    "duration": 4674,
    "start_time": "2022-11-08T21:34:11.261Z"
   },
   {
    "duration": 43,
    "start_time": "2022-11-08T21:34:30.526Z"
   },
   {
    "duration": 4,
    "start_time": "2022-11-08T21:35:06.028Z"
   },
   {
    "duration": 41,
    "start_time": "2022-11-08T21:35:12.685Z"
   },
   {
    "duration": 7,
    "start_time": "2022-11-08T21:35:20.087Z"
   },
   {
    "duration": 7,
    "start_time": "2022-11-08T21:35:25.939Z"
   },
   {
    "duration": 55,
    "start_time": "2022-11-08T21:35:31.437Z"
   },
   {
    "duration": 11,
    "start_time": "2022-11-08T21:38:34.423Z"
   },
   {
    "duration": 42,
    "start_time": "2022-11-08T21:43:52.770Z"
   },
   {
    "duration": 10,
    "start_time": "2022-11-08T21:44:20.540Z"
   },
   {
    "duration": 3,
    "start_time": "2022-11-08T21:59:41.702Z"
   },
   {
    "duration": 4,
    "start_time": "2022-11-08T21:59:54.045Z"
   },
   {
    "duration": 9,
    "start_time": "2022-11-08T22:00:03.190Z"
   },
   {
    "duration": 5,
    "start_time": "2022-11-08T22:00:11.220Z"
   },
   {
    "duration": 14,
    "start_time": "2022-11-08T22:00:17.612Z"
   },
   {
    "duration": 73,
    "start_time": "2022-11-08T22:03:06.916Z"
   },
   {
    "duration": 74,
    "start_time": "2022-11-08T22:05:43.305Z"
   },
   {
    "duration": 3,
    "start_time": "2022-11-08T22:05:58.299Z"
   },
   {
    "duration": 90,
    "start_time": "2022-11-08T22:06:22.405Z"
   },
   {
    "duration": 74,
    "start_time": "2022-11-08T22:06:25.778Z"
   },
   {
    "duration": 5,
    "start_time": "2022-11-08T22:06:34.872Z"
   },
   {
    "duration": 3,
    "start_time": "2022-11-08T22:07:04.245Z"
   },
   {
    "duration": 8,
    "start_time": "2022-11-08T22:07:13.061Z"
   },
   {
    "duration": 4,
    "start_time": "2022-11-08T22:07:16.025Z"
   },
   {
    "duration": 16,
    "start_time": "2022-11-08T22:10:01.073Z"
   },
   {
    "duration": 16,
    "start_time": "2022-11-08T22:18:01.107Z"
   },
   {
    "duration": 15,
    "start_time": "2022-11-08T22:18:13.311Z"
   },
   {
    "duration": 16,
    "start_time": "2022-11-08T22:18:34.429Z"
   },
   {
    "duration": 18,
    "start_time": "2022-11-08T22:18:35.070Z"
   },
   {
    "duration": 15,
    "start_time": "2022-11-08T22:18:44.359Z"
   },
   {
    "duration": 7,
    "start_time": "2022-11-08T22:23:18.331Z"
   },
   {
    "duration": 8,
    "start_time": "2022-11-08T22:23:38.948Z"
   },
   {
    "duration": 8,
    "start_time": "2022-11-08T22:26:29.989Z"
   },
   {
    "duration": 8,
    "start_time": "2022-11-08T22:26:57.331Z"
   },
   {
    "duration": 8,
    "start_time": "2022-11-08T22:27:18.183Z"
   },
   {
    "duration": 9,
    "start_time": "2022-11-08T22:27:31.678Z"
   },
   {
    "duration": 8,
    "start_time": "2022-11-08T22:27:35.884Z"
   },
   {
    "duration": 10,
    "start_time": "2022-11-08T22:31:26.076Z"
   },
   {
    "duration": 10,
    "start_time": "2022-11-08T22:34:15.156Z"
   },
   {
    "duration": 47,
    "start_time": "2022-11-09T17:46:13.502Z"
   },
   {
    "duration": 86,
    "start_time": "2022-11-09T17:53:55.560Z"
   },
   {
    "duration": 6,
    "start_time": "2022-11-09T18:11:27.228Z"
   },
   {
    "duration": 398,
    "start_time": "2022-11-09T18:14:44.543Z"
   },
   {
    "duration": 210,
    "start_time": "2022-11-09T18:14:47.074Z"
   },
   {
    "duration": 19,
    "start_time": "2022-11-09T18:14:49.475Z"
   },
   {
    "duration": 33,
    "start_time": "2022-11-09T18:14:53.921Z"
   },
   {
    "duration": 3,
    "start_time": "2022-11-09T18:14:57.682Z"
   },
   {
    "duration": 5,
    "start_time": "2022-11-09T18:15:01.589Z"
   },
   {
    "duration": 462,
    "start_time": "2022-11-09T23:43:43.861Z"
   },
   {
    "duration": 528,
    "start_time": "2022-11-09T23:43:46.615Z"
   },
   {
    "duration": 19,
    "start_time": "2022-11-09T23:43:49.745Z"
   },
   {
    "duration": 33,
    "start_time": "2022-11-09T23:43:51.360Z"
   },
   {
    "duration": 3,
    "start_time": "2022-11-09T23:43:53.502Z"
   },
   {
    "duration": 7,
    "start_time": "2022-11-09T23:43:55.159Z"
   },
   {
    "duration": 12,
    "start_time": "2022-11-09T23:43:56.856Z"
   },
   {
    "duration": 3,
    "start_time": "2022-11-09T23:43:57.776Z"
   },
   {
    "duration": 27,
    "start_time": "2022-11-09T23:43:59.011Z"
   },
   {
    "duration": 23,
    "start_time": "2022-11-09T23:44:00.535Z"
   },
   {
    "duration": 27,
    "start_time": "2022-11-09T23:44:02.027Z"
   },
   {
    "duration": 75,
    "start_time": "2022-11-09T23:44:03.513Z"
   },
   {
    "duration": 76,
    "start_time": "2022-11-09T23:44:04.811Z"
   },
   {
    "duration": 62,
    "start_time": "2022-11-09T23:44:05.702Z"
   },
   {
    "duration": 51,
    "start_time": "2022-11-09T23:44:08.992Z"
   },
   {
    "duration": 11,
    "start_time": "2022-11-09T23:44:11.801Z"
   },
   {
    "duration": 7,
    "start_time": "2022-11-09T23:44:13.556Z"
   },
   {
    "duration": 11,
    "start_time": "2022-11-09T23:44:17.079Z"
   },
   {
    "duration": 11,
    "start_time": "2022-11-09T23:44:18.298Z"
   },
   {
    "duration": 6,
    "start_time": "2022-11-09T23:44:20.179Z"
   },
   {
    "duration": 19,
    "start_time": "2022-11-09T23:44:21.857Z"
   },
   {
    "duration": 25,
    "start_time": "2022-11-09T23:44:22.989Z"
   },
   {
    "duration": 17,
    "start_time": "2022-11-09T23:44:23.992Z"
   },
   {
    "duration": 18,
    "start_time": "2022-11-09T23:44:24.944Z"
   },
   {
    "duration": 18,
    "start_time": "2022-11-09T23:44:29.790Z"
   },
   {
    "duration": 18,
    "start_time": "2022-11-09T23:44:30.672Z"
   },
   {
    "duration": 10,
    "start_time": "2022-11-09T23:44:33.094Z"
   },
   {
    "duration": 13,
    "start_time": "2022-11-09T23:44:36.203Z"
   },
   {
    "duration": 10,
    "start_time": "2022-11-09T23:44:37.904Z"
   },
   {
    "duration": 26,
    "start_time": "2022-11-09T23:44:43.365Z"
   },
   {
    "duration": 12,
    "start_time": "2022-11-09T23:46:45.525Z"
   },
   {
    "duration": 11,
    "start_time": "2022-11-09T23:46:46.851Z"
   },
   {
    "duration": 369,
    "start_time": "2022-11-10T23:07:37.030Z"
   },
   {
    "duration": 218,
    "start_time": "2022-11-10T23:07:38.279Z"
   },
   {
    "duration": 16,
    "start_time": "2022-11-10T23:07:39.801Z"
   },
   {
    "duration": 25,
    "start_time": "2022-11-10T23:07:42.170Z"
   },
   {
    "duration": 3,
    "start_time": "2022-11-10T23:07:44.686Z"
   },
   {
    "duration": 4,
    "start_time": "2022-11-10T23:07:48.960Z"
   },
   {
    "duration": 10,
    "start_time": "2022-11-10T23:07:53.110Z"
   },
   {
    "duration": 4,
    "start_time": "2022-11-10T23:07:54.440Z"
   },
   {
    "duration": 23,
    "start_time": "2022-11-10T23:07:57.955Z"
   },
   {
    "duration": 23,
    "start_time": "2022-11-10T23:08:00.285Z"
   },
   {
    "duration": 20,
    "start_time": "2022-11-10T23:08:02.250Z"
   },
   {
    "duration": 72,
    "start_time": "2022-11-10T23:08:03.990Z"
   },
   {
    "duration": 103,
    "start_time": "2022-11-10T23:08:05.732Z"
   },
   {
    "duration": 55,
    "start_time": "2022-11-10T23:08:07.360Z"
   },
   {
    "duration": 50,
    "start_time": "2022-11-10T23:08:09.625Z"
   },
   {
    "duration": 12,
    "start_time": "2022-11-10T23:08:15.081Z"
   },
   {
    "duration": 6,
    "start_time": "2022-11-10T23:08:17.465Z"
   },
   {
    "duration": 10,
    "start_time": "2022-11-10T23:08:21.735Z"
   },
   {
    "duration": 11,
    "start_time": "2022-11-10T23:08:23.815Z"
   },
   {
    "duration": 3,
    "start_time": "2022-11-10T23:08:26.796Z"
   },
   {
    "duration": 17,
    "start_time": "2022-11-10T23:08:28.956Z"
   },
   {
    "duration": 16,
    "start_time": "2022-11-10T23:08:29.885Z"
   },
   {
    "duration": 19,
    "start_time": "2022-11-10T23:08:30.466Z"
   },
   {
    "duration": 14,
    "start_time": "2022-11-10T23:08:31.081Z"
   },
   {
    "duration": 17,
    "start_time": "2022-11-10T23:08:31.826Z"
   },
   {
    "duration": 16,
    "start_time": "2022-11-10T23:08:33.341Z"
   },
   {
    "duration": 9,
    "start_time": "2022-11-10T23:08:36.540Z"
   },
   {
    "duration": 14,
    "start_time": "2022-11-10T23:08:40.195Z"
   },
   {
    "duration": 9,
    "start_time": "2022-11-10T23:08:41.001Z"
   },
   {
    "duration": 69,
    "start_time": "2022-11-10T23:11:45.981Z"
   },
   {
    "duration": 3,
    "start_time": "2022-11-10T23:11:57.570Z"
   },
   {
    "duration": 4,
    "start_time": "2022-11-10T23:15:18.676Z"
   },
   {
    "duration": 5,
    "start_time": "2022-11-10T23:16:09.286Z"
   },
   {
    "duration": 5,
    "start_time": "2022-11-10T23:16:16.916Z"
   },
   {
    "duration": 105,
    "start_time": "2022-11-10T23:16:25.351Z"
   },
   {
    "duration": 7,
    "start_time": "2022-11-10T23:17:03.511Z"
   },
   {
    "duration": 4,
    "start_time": "2022-11-10T23:18:43.041Z"
   },
   {
    "duration": 4,
    "start_time": "2022-11-10T23:18:54.300Z"
   },
   {
    "duration": 4,
    "start_time": "2022-11-10T23:23:25.049Z"
   },
   {
    "duration": 4,
    "start_time": "2022-11-10T23:23:34.115Z"
   },
   {
    "duration": 4,
    "start_time": "2022-11-10T23:25:24.269Z"
   },
   {
    "duration": 4,
    "start_time": "2022-11-10T23:26:57.120Z"
   },
   {
    "duration": 4,
    "start_time": "2022-11-10T23:28:26.279Z"
   },
   {
    "duration": 6,
    "start_time": "2022-11-10T23:30:23.959Z"
   },
   {
    "duration": 4,
    "start_time": "2022-11-10T23:32:00.759Z"
   },
   {
    "duration": 6,
    "start_time": "2022-11-10T23:35:27.039Z"
   },
   {
    "duration": 12,
    "start_time": "2022-11-10T23:36:06.069Z"
   },
   {
    "duration": 8,
    "start_time": "2022-11-10T23:36:17.464Z"
   },
   {
    "duration": 8,
    "start_time": "2022-11-10T23:36:27.720Z"
   },
   {
    "duration": 37,
    "start_time": "2022-11-10T23:41:08.423Z"
   },
   {
    "duration": 9,
    "start_time": "2022-11-10T23:42:16.815Z"
   },
   {
    "duration": 16,
    "start_time": "2022-11-10T23:42:37.339Z"
   },
   {
    "duration": 17,
    "start_time": "2022-11-10T23:43:20.043Z"
   },
   {
    "duration": 22,
    "start_time": "2022-11-10T23:45:04.916Z"
   },
   {
    "duration": 11,
    "start_time": "2022-11-10T23:45:06.443Z"
   },
   {
    "duration": 18,
    "start_time": "2022-11-10T23:45:26.469Z"
   },
   {
    "duration": 13,
    "start_time": "2022-11-10T23:45:28.762Z"
   },
   {
    "duration": 8,
    "start_time": "2022-11-10T23:50:39.039Z"
   },
   {
    "duration": 14,
    "start_time": "2022-11-10T23:51:14.593Z"
   },
   {
    "duration": 11,
    "start_time": "2022-11-10T23:51:39.378Z"
   },
   {
    "duration": 7,
    "start_time": "2022-11-10T23:52:19.213Z"
   },
   {
    "duration": 4,
    "start_time": "2022-11-10T23:52:32.774Z"
   },
   {
    "duration": 9,
    "start_time": "2022-11-10T23:54:34.669Z"
   },
   {
    "duration": 4,
    "start_time": "2022-11-10T23:55:07.624Z"
   },
   {
    "duration": 8,
    "start_time": "2022-11-10T23:55:58.504Z"
   },
   {
    "duration": 7,
    "start_time": "2022-11-10T23:57:53.679Z"
   },
   {
    "duration": 7,
    "start_time": "2022-11-10T23:59:02.185Z"
   },
   {
    "duration": 367,
    "start_time": "2022-11-11T23:36:56.781Z"
   },
   {
    "duration": 484,
    "start_time": "2022-11-11T23:36:58.605Z"
   },
   {
    "duration": 26,
    "start_time": "2022-11-11T23:37:00.259Z"
   },
   {
    "duration": 35,
    "start_time": "2022-11-11T23:37:02.179Z"
   },
   {
    "duration": 3,
    "start_time": "2022-11-11T23:37:05.210Z"
   },
   {
    "duration": 4,
    "start_time": "2022-11-11T23:37:07.006Z"
   },
   {
    "duration": 10,
    "start_time": "2022-11-11T23:37:08.841Z"
   },
   {
    "duration": 5,
    "start_time": "2022-11-11T23:37:09.858Z"
   },
   {
    "duration": 27,
    "start_time": "2022-11-11T23:37:11.403Z"
   },
   {
    "duration": 19,
    "start_time": "2022-11-11T23:37:14.489Z"
   },
   {
    "duration": 25,
    "start_time": "2022-11-11T23:37:16.834Z"
   },
   {
    "duration": 61,
    "start_time": "2022-11-11T23:37:18.450Z"
   },
   {
    "duration": 77,
    "start_time": "2022-11-11T23:37:19.778Z"
   },
   {
    "duration": 57,
    "start_time": "2022-11-11T23:37:20.909Z"
   },
   {
    "duration": 50,
    "start_time": "2022-11-11T23:37:22.931Z"
   },
   {
    "duration": 10,
    "start_time": "2022-11-11T23:37:26.250Z"
   },
   {
    "duration": 7,
    "start_time": "2022-11-11T23:37:27.730Z"
   },
   {
    "duration": 11,
    "start_time": "2022-11-11T23:37:32.041Z"
   },
   {
    "duration": 11,
    "start_time": "2022-11-11T23:37:33.779Z"
   },
   {
    "duration": 4,
    "start_time": "2022-11-11T23:37:36.750Z"
   },
   {
    "duration": 26,
    "start_time": "2022-11-11T23:37:38.511Z"
   },
   {
    "duration": 19,
    "start_time": "2022-11-11T23:37:39.172Z"
   },
   {
    "duration": 16,
    "start_time": "2022-11-11T23:37:39.751Z"
   },
   {
    "duration": 15,
    "start_time": "2022-11-11T23:37:40.351Z"
   },
   {
    "duration": 17,
    "start_time": "2022-11-11T23:37:41.439Z"
   },
   {
    "duration": 21,
    "start_time": "2022-11-11T23:37:42.121Z"
   },
   {
    "duration": 8,
    "start_time": "2022-11-11T23:37:43.561Z"
   },
   {
    "duration": 17,
    "start_time": "2022-11-11T23:37:46.512Z"
   },
   {
    "duration": 14,
    "start_time": "2022-11-11T23:37:47.011Z"
   },
   {
    "duration": 5,
    "start_time": "2022-11-11T23:37:48.860Z"
   },
   {
    "duration": 16,
    "start_time": "2022-11-11T23:37:51.050Z"
   },
   {
    "duration": 15,
    "start_time": "2022-11-11T23:37:53.621Z"
   },
   {
    "duration": 19,
    "start_time": "2022-11-11T23:37:56.521Z"
   },
   {
    "duration": 12,
    "start_time": "2022-11-11T23:38:00.508Z"
   },
   {
    "duration": 10,
    "start_time": "2022-11-11T23:39:05.006Z"
   },
   {
    "duration": 82,
    "start_time": "2022-11-11T23:40:23.182Z"
   },
   {
    "duration": 8,
    "start_time": "2022-11-11T23:40:54.479Z"
   },
   {
    "duration": 8,
    "start_time": "2022-11-11T23:41:23.242Z"
   },
   {
    "duration": 7,
    "start_time": "2022-11-11T23:41:56.306Z"
   },
   {
    "duration": 4,
    "start_time": "2022-11-11T23:44:18.979Z"
   },
   {
    "duration": 8,
    "start_time": "2022-11-11T23:45:07.972Z"
   },
   {
    "duration": 9,
    "start_time": "2022-11-11T23:45:32.418Z"
   },
   {
    "duration": 2,
    "start_time": "2022-11-11T23:45:40.108Z"
   },
   {
    "duration": 161,
    "start_time": "2022-11-11T23:45:41.511Z"
   },
   {
    "duration": 10,
    "start_time": "2022-11-11T23:45:42.739Z"
   },
   {
    "duration": 28,
    "start_time": "2022-11-11T23:45:44.739Z"
   },
   {
    "duration": 2,
    "start_time": "2022-11-11T23:45:46.903Z"
   },
   {
    "duration": 3,
    "start_time": "2022-11-11T23:45:53.111Z"
   },
   {
    "duration": 7,
    "start_time": "2022-11-11T23:45:57.671Z"
   },
   {
    "duration": 3,
    "start_time": "2022-11-11T23:45:59.139Z"
   },
   {
    "duration": 23,
    "start_time": "2022-11-11T23:46:00.142Z"
   },
   {
    "duration": 19,
    "start_time": "2022-11-11T23:46:02.121Z"
   },
   {
    "duration": 28,
    "start_time": "2022-11-11T23:46:03.779Z"
   },
   {
    "duration": 72,
    "start_time": "2022-11-11T23:46:05.182Z"
   },
   {
    "duration": 60,
    "start_time": "2022-11-11T23:46:06.457Z"
   },
   {
    "duration": 55,
    "start_time": "2022-11-11T23:46:07.312Z"
   },
   {
    "duration": 45,
    "start_time": "2022-11-11T23:46:09.226Z"
   },
   {
    "duration": 9,
    "start_time": "2022-11-11T23:46:11.949Z"
   },
   {
    "duration": 7,
    "start_time": "2022-11-11T23:46:13.050Z"
   },
   {
    "duration": 10,
    "start_time": "2022-11-11T23:46:16.395Z"
   },
   {
    "duration": 10,
    "start_time": "2022-11-11T23:46:18.275Z"
   },
   {
    "duration": 3,
    "start_time": "2022-11-11T23:46:20.951Z"
   },
   {
    "duration": 17,
    "start_time": "2022-11-11T23:46:22.348Z"
   },
   {
    "duration": 15,
    "start_time": "2022-11-11T23:46:22.814Z"
   },
   {
    "duration": 15,
    "start_time": "2022-11-11T23:46:23.251Z"
   },
   {
    "duration": 15,
    "start_time": "2022-11-11T23:46:24.405Z"
   },
   {
    "duration": 17,
    "start_time": "2022-11-11T23:46:25.012Z"
   },
   {
    "duration": 15,
    "start_time": "2022-11-11T23:46:25.571Z"
   },
   {
    "duration": 8,
    "start_time": "2022-11-11T23:46:26.910Z"
   },
   {
    "duration": 12,
    "start_time": "2022-11-11T23:46:30.060Z"
   },
   {
    "duration": 10,
    "start_time": "2022-11-11T23:46:30.571Z"
   },
   {
    "duration": 5,
    "start_time": "2022-11-11T23:46:32.272Z"
   },
   {
    "duration": 15,
    "start_time": "2022-11-11T23:46:33.632Z"
   },
   {
    "duration": 11,
    "start_time": "2022-11-11T23:46:35.825Z"
   },
   {
    "duration": 18,
    "start_time": "2022-11-11T23:46:37.709Z"
   },
   {
    "duration": 17,
    "start_time": "2022-11-11T23:46:39.026Z"
   },
   {
    "duration": 15,
    "start_time": "2022-11-11T23:46:42.859Z"
   },
   {
    "duration": 14,
    "start_time": "2022-11-11T23:46:54.360Z"
   },
   {
    "duration": 8,
    "start_time": "2022-11-11T23:47:07.261Z"
   },
   {
    "duration": 9,
    "start_time": "2022-11-11T23:48:44.841Z"
   },
   {
    "duration": 4,
    "start_time": "2022-11-11T23:49:19.822Z"
   },
   {
    "duration": 5,
    "start_time": "2022-11-11T23:49:32.111Z"
   },
   {
    "duration": 3,
    "start_time": "2022-11-11T23:49:50.556Z"
   },
   {
    "duration": 4,
    "start_time": "2022-11-11T23:50:50.258Z"
   },
   {
    "duration": 9,
    "start_time": "2022-11-11T23:51:05.398Z"
   },
   {
    "duration": 2,
    "start_time": "2022-11-11T23:51:32.826Z"
   },
   {
    "duration": 3,
    "start_time": "2022-11-11T23:51:35.421Z"
   },
   {
    "duration": 8,
    "start_time": "2022-11-11T23:51:49.079Z"
   },
   {
    "duration": 7,
    "start_time": "2022-11-11T23:52:06.114Z"
   },
   {
    "duration": 6,
    "start_time": "2022-11-11T23:52:34.447Z"
   },
   {
    "duration": 8,
    "start_time": "2022-11-11T23:56:16.781Z"
   },
   {
    "duration": 8,
    "start_time": "2022-11-11T23:56:26.706Z"
   },
   {
    "duration": 4,
    "start_time": "2022-11-11T23:56:38.208Z"
   },
   {
    "duration": 152,
    "start_time": "2022-11-11T23:56:39.395Z"
   },
   {
    "duration": 11,
    "start_time": "2022-11-11T23:56:40.031Z"
   },
   {
    "duration": 29,
    "start_time": "2022-11-11T23:56:40.104Z"
   },
   {
    "duration": 3,
    "start_time": "2022-11-11T23:56:40.209Z"
   },
   {
    "duration": 4,
    "start_time": "2022-11-11T23:56:40.339Z"
   },
   {
    "duration": 5,
    "start_time": "2022-11-11T23:56:40.371Z"
   },
   {
    "duration": 4,
    "start_time": "2022-11-11T23:56:40.441Z"
   },
   {
    "duration": 25,
    "start_time": "2022-11-11T23:56:40.509Z"
   },
   {
    "duration": 17,
    "start_time": "2022-11-11T23:56:40.600Z"
   },
   {
    "duration": 24,
    "start_time": "2022-11-11T23:56:40.663Z"
   },
   {
    "duration": 57,
    "start_time": "2022-11-11T23:56:40.738Z"
   },
   {
    "duration": 61,
    "start_time": "2022-11-11T23:56:40.810Z"
   },
   {
    "duration": 51,
    "start_time": "2022-11-11T23:56:40.873Z"
   },
   {
    "duration": 46,
    "start_time": "2022-11-11T23:56:40.979Z"
   },
   {
    "duration": 9,
    "start_time": "2022-11-11T23:56:41.027Z"
   },
   {
    "duration": 7,
    "start_time": "2022-11-11T23:56:41.068Z"
   },
   {
    "duration": 12,
    "start_time": "2022-11-11T23:56:41.247Z"
   },
   {
    "duration": 10,
    "start_time": "2022-11-11T23:56:41.318Z"
   },
   {
    "duration": 4,
    "start_time": "2022-11-11T23:56:41.428Z"
   },
   {
    "duration": 18,
    "start_time": "2022-11-11T23:56:41.506Z"
   },
   {
    "duration": 16,
    "start_time": "2022-11-11T23:56:41.526Z"
   },
   {
    "duration": 14,
    "start_time": "2022-11-11T23:56:41.547Z"
   },
   {
    "duration": 14,
    "start_time": "2022-11-11T23:56:41.627Z"
   },
   {
    "duration": 15,
    "start_time": "2022-11-11T23:56:41.644Z"
   },
   {
    "duration": 12,
    "start_time": "2022-11-11T23:56:41.663Z"
   },
   {
    "duration": 8,
    "start_time": "2022-11-11T23:56:41.727Z"
   },
   {
    "duration": 11,
    "start_time": "2022-11-11T23:56:41.867Z"
   },
   {
    "duration": 10,
    "start_time": "2022-11-11T23:56:41.905Z"
   },
   {
    "duration": 4,
    "start_time": "2022-11-11T23:56:41.952Z"
   },
   {
    "duration": 16,
    "start_time": "2022-11-11T23:56:42.018Z"
   },
   {
    "duration": 10,
    "start_time": "2022-11-11T23:56:42.040Z"
   },
   {
    "duration": 16,
    "start_time": "2022-11-11T23:56:42.066Z"
   },
   {
    "duration": 11,
    "start_time": "2022-11-11T23:56:42.109Z"
   },
   {
    "duration": 8,
    "start_time": "2022-11-11T23:56:43.110Z"
   },
   {
    "duration": 4,
    "start_time": "2022-11-11T23:56:44.214Z"
   },
   {
    "duration": 2,
    "start_time": "2022-11-11T23:56:44.691Z"
   },
   {
    "duration": 2,
    "start_time": "2022-11-11T23:56:45.059Z"
   },
   {
    "duration": 7,
    "start_time": "2022-11-11T23:57:38.532Z"
   },
   {
    "duration": 5,
    "start_time": "2022-11-11T23:58:04.627Z"
   },
   {
    "duration": 435,
    "start_time": "2022-11-18T20:28:52.700Z"
   },
   {
    "duration": 476,
    "start_time": "2022-11-18T20:28:53.137Z"
   },
   {
    "duration": 19,
    "start_time": "2022-11-18T20:28:53.615Z"
   },
   {
    "duration": 29,
    "start_time": "2022-11-18T20:28:53.636Z"
   },
   {
    "duration": 3,
    "start_time": "2022-11-18T20:28:53.667Z"
   },
   {
    "duration": 4,
    "start_time": "2022-11-18T20:28:53.677Z"
   },
   {
    "duration": 13,
    "start_time": "2022-11-18T20:28:53.683Z"
   },
   {
    "duration": 7,
    "start_time": "2022-11-18T20:28:53.698Z"
   },
   {
    "duration": 27,
    "start_time": "2022-11-18T20:28:53.707Z"
   },
   {
    "duration": 46,
    "start_time": "2022-11-18T20:28:53.736Z"
   },
   {
    "duration": 26,
    "start_time": "2022-11-18T20:28:53.784Z"
   },
   {
    "duration": 96,
    "start_time": "2022-11-18T20:28:53.812Z"
   },
   {
    "duration": 108,
    "start_time": "2022-11-18T20:28:53.910Z"
   },
   {
    "duration": 90,
    "start_time": "2022-11-18T20:28:54.020Z"
   },
   {
    "duration": 71,
    "start_time": "2022-11-18T20:28:54.112Z"
   },
   {
    "duration": 13,
    "start_time": "2022-11-18T20:28:54.185Z"
   },
   {
    "duration": 14,
    "start_time": "2022-11-18T20:28:54.200Z"
   },
   {
    "duration": 20,
    "start_time": "2022-11-18T20:28:54.217Z"
   },
   {
    "duration": 49,
    "start_time": "2022-11-18T20:28:54.238Z"
   },
   {
    "duration": 4,
    "start_time": "2022-11-18T20:28:55.191Z"
   },
   {
    "duration": 20,
    "start_time": "2022-11-18T20:28:55.487Z"
   },
   {
    "duration": 17,
    "start_time": "2022-11-18T20:28:55.638Z"
   },
   {
    "duration": 16,
    "start_time": "2022-11-18T20:28:55.767Z"
   },
   {
    "duration": 15,
    "start_time": "2022-11-18T20:28:55.912Z"
   },
   {
    "duration": 17,
    "start_time": "2022-11-18T20:28:56.054Z"
   },
   {
    "duration": 16,
    "start_time": "2022-11-18T20:28:56.199Z"
   },
   {
    "duration": 9,
    "start_time": "2022-11-18T20:28:56.493Z"
   },
   {
    "duration": 14,
    "start_time": "2022-11-18T20:28:57.219Z"
   },
   {
    "duration": 15,
    "start_time": "2022-11-18T20:28:57.360Z"
   },
   {
    "duration": 5,
    "start_time": "2022-11-18T20:28:57.658Z"
   },
   {
    "duration": 18,
    "start_time": "2022-11-18T20:28:57.960Z"
   },
   {
    "duration": 12,
    "start_time": "2022-11-18T20:28:58.102Z"
   },
   {
    "duration": 29,
    "start_time": "2022-11-18T20:28:58.406Z"
   },
   {
    "duration": 18,
    "start_time": "2022-11-18T20:28:58.563Z"
   },
   {
    "duration": 8,
    "start_time": "2022-11-18T20:28:59.190Z"
   },
   {
    "duration": 5,
    "start_time": "2022-11-18T20:28:59.499Z"
   },
   {
    "duration": 7,
    "start_time": "2022-11-18T20:28:59.801Z"
   },
   {
    "duration": 5,
    "start_time": "2022-11-18T20:29:00.108Z"
   }
  ],
  "colab": {
   "collapsed_sections": [
    "E0vqbgi9ay0H",
    "VUC88oWjTJw2"
   ],
   "name": "automatization_template_upd4.ipynb",
   "provenance": []
  },
  "kernelspec": {
   "display_name": "Python 3",
   "language": "python",
   "name": "python3"
  },
  "language_info": {
   "codemirror_mode": {
    "name": "ipython",
    "version": 3
   },
   "file_extension": ".py",
   "mimetype": "text/x-python",
   "name": "python",
   "nbconvert_exporter": "python",
   "pygments_lexer": "ipython3",
   "version": "3.8.3"
  },
  "toc": {
   "base_numbering": 1,
   "nav_menu": {
    "height": "215px",
    "width": "403px"
   },
   "number_sections": true,
   "sideBar": true,
   "skip_h1_title": true,
   "title_cell": "Table of Contents",
   "title_sidebar": "Contents",
   "toc_cell": true,
   "toc_position": {
    "height": "calc(100% - 180px)",
    "left": "10px",
    "top": "150px",
    "width": "285.825px"
   },
   "toc_section_display": true,
   "toc_window_display": true
  }
 },
 "nbformat": 4,
 "nbformat_minor": 1
}
