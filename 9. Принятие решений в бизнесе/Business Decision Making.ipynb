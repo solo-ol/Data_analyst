{
 "cells": [
  {
   "cell_type": "markdown",
   "metadata": {},
   "source": [
    "\n",
    "    \n",
    "# Принятие решений в бизнесе\n",
    "\n",
    "Вы — аналитик крупного интернет-магазина. Вместе с отделом маркетинга вы подготовили список гипотез для увеличения выручки.\n",
    "\n",
    "Приоритизируйте гипотезы, запустите A/B-тест и проанализируйте результаты. \n",
    "\n",
    "# Цель исследования:\n",
    "\n",
    "1. Приоритизировать гипотезы использовав фреймворки\n",
    "2. Анализ A/B-теста\n",
    "    \n",
    "    # Ход исследования:\n",
    "    Данные для анализа я получу из следующих файлов:\n",
    "    - /datasets/hypothesis.csv\n",
    "    - /datasets/orders.csv\n",
    "    - /datasets/visitors.csv\n",
    "    \n",
    "    Для начала я проведу обзор данных и их предобработку. Так же изменю типы данных, если это будет необходимо.\n",
    "        \n",
    "    После предобработки данных я начну работу с гипотезами и принятием решений в бизнесе.\n",
    "    \n",
    "    Мое исследование пройдёт по следующим этапам:\n",
    "    - Обзор данных;\n",
    "    - Предобработка данных;\n",
    "    - Приоритезация гипотиз с помощью фреймворков ICE и RICE;\n",
    "    - Анализ A/B-теста;\n",
    "    - Общие выводы.\n"
   ]
  },
  {
   "cell_type": "markdown",
   "metadata": {},
   "source": [
    "# Часть 1. Приоритизация гипотез.\n",
    "\n",
    "В файле `/datasets/hypothesis.csv` 9 гипотез по увеличению выручки интернет-магазина с указанными параметрами `Reach`, `Impact`, `Confidence`, `Effort`.\n",
    "\n",
    "# Задача\n",
    "\n",
    "- Примените фреймворк ICE для приоритизации гипотез. Отсортируйте их по убыванию приоритета.\n",
    "- Примените фреймворк RICE для приоритизации гипотез. Отсортируйте их по убыванию приоритета.\n",
    "- Укажите, как изменилась приоритизация гипотез при применении RICE вместо ICE. Объясните, почему так произошло."
   ]
  },
  {
   "cell_type": "code",
   "execution_count": 1,
   "metadata": {},
   "outputs": [],
   "source": [
    "import pandas as pd\n",
    "import numpy as np\n",
    "import seaborn as sns\n",
    "import matplotlib.pyplot as plt\n",
    "from scipy import stats as st\n",
    "from datetime import datetime, timedelta"
   ]
  },
  {
   "cell_type": "code",
   "execution_count": 2,
   "metadata": {},
   "outputs": [],
   "source": [
    "hypothesis = pd.read_csv('/datasets/hypothesis.csv')\n",
    "orders = pd.read_csv('/datasets/orders.csv')\n",
    "visitors = pd.read_csv('/datasets/visitors.csv')"
   ]
  },
  {
   "cell_type": "code",
   "execution_count": 3,
   "metadata": {},
   "outputs": [
    {
     "name": "stdout",
     "output_type": "stream",
     "text": [
      "<class 'pandas.core.frame.DataFrame'>\n",
      "RangeIndex: 9 entries, 0 to 8\n",
      "Data columns (total 5 columns):\n",
      " #   Column      Non-Null Count  Dtype \n",
      "---  ------      --------------  ----- \n",
      " 0   Hypothesis  9 non-null      object\n",
      " 1   Reach       9 non-null      int64 \n",
      " 2   Impact      9 non-null      int64 \n",
      " 3   Confidence  9 non-null      int64 \n",
      " 4   Efforts     9 non-null      int64 \n",
      "dtypes: int64(4), object(1)\n",
      "memory usage: 488.0+ bytes\n"
     ]
    },
    {
     "data": {
      "text/html": [
       "<div>\n",
       "<style scoped>\n",
       "    .dataframe tbody tr th:only-of-type {\n",
       "        vertical-align: middle;\n",
       "    }\n",
       "\n",
       "    .dataframe tbody tr th {\n",
       "        vertical-align: top;\n",
       "    }\n",
       "\n",
       "    .dataframe thead th {\n",
       "        text-align: right;\n",
       "    }\n",
       "</style>\n",
       "<table border=\"1\" class=\"dataframe\">\n",
       "  <thead>\n",
       "    <tr style=\"text-align: right;\">\n",
       "      <th></th>\n",
       "      <th>Hypothesis</th>\n",
       "      <th>Reach</th>\n",
       "      <th>Impact</th>\n",
       "      <th>Confidence</th>\n",
       "      <th>Efforts</th>\n",
       "    </tr>\n",
       "  </thead>\n",
       "  <tbody>\n",
       "    <tr>\n",
       "      <th>0</th>\n",
       "      <td>Добавить два новых канала привлечения трафика,...</td>\n",
       "      <td>3</td>\n",
       "      <td>10</td>\n",
       "      <td>8</td>\n",
       "      <td>6</td>\n",
       "    </tr>\n",
       "    <tr>\n",
       "      <th>1</th>\n",
       "      <td>Запустить собственную службу доставки, что сок...</td>\n",
       "      <td>2</td>\n",
       "      <td>5</td>\n",
       "      <td>4</td>\n",
       "      <td>10</td>\n",
       "    </tr>\n",
       "    <tr>\n",
       "      <th>2</th>\n",
       "      <td>Добавить блоки рекомендаций товаров на сайт ин...</td>\n",
       "      <td>8</td>\n",
       "      <td>3</td>\n",
       "      <td>7</td>\n",
       "      <td>3</td>\n",
       "    </tr>\n",
       "    <tr>\n",
       "      <th>3</th>\n",
       "      <td>Изменить структура категорий, что увеличит кон...</td>\n",
       "      <td>8</td>\n",
       "      <td>3</td>\n",
       "      <td>3</td>\n",
       "      <td>8</td>\n",
       "    </tr>\n",
       "    <tr>\n",
       "      <th>4</th>\n",
       "      <td>Изменить цвет фона главной страницы, чтобы уве...</td>\n",
       "      <td>3</td>\n",
       "      <td>1</td>\n",
       "      <td>1</td>\n",
       "      <td>1</td>\n",
       "    </tr>\n",
       "    <tr>\n",
       "      <th>5</th>\n",
       "      <td>Добавить страницу отзывов клиентов о магазине,...</td>\n",
       "      <td>3</td>\n",
       "      <td>2</td>\n",
       "      <td>2</td>\n",
       "      <td>3</td>\n",
       "    </tr>\n",
       "    <tr>\n",
       "      <th>6</th>\n",
       "      <td>Показать на главной странице баннеры с актуаль...</td>\n",
       "      <td>5</td>\n",
       "      <td>3</td>\n",
       "      <td>8</td>\n",
       "      <td>3</td>\n",
       "    </tr>\n",
       "    <tr>\n",
       "      <th>7</th>\n",
       "      <td>Добавить форму подписки на все основные страни...</td>\n",
       "      <td>10</td>\n",
       "      <td>7</td>\n",
       "      <td>8</td>\n",
       "      <td>5</td>\n",
       "    </tr>\n",
       "    <tr>\n",
       "      <th>8</th>\n",
       "      <td>Запустить акцию, дающую скидку на товар в день...</td>\n",
       "      <td>1</td>\n",
       "      <td>9</td>\n",
       "      <td>9</td>\n",
       "      <td>5</td>\n",
       "    </tr>\n",
       "  </tbody>\n",
       "</table>\n",
       "</div>"
      ],
      "text/plain": [
       "                                          Hypothesis  Reach  Impact  \\\n",
       "0  Добавить два новых канала привлечения трафика,...      3      10   \n",
       "1  Запустить собственную службу доставки, что сок...      2       5   \n",
       "2  Добавить блоки рекомендаций товаров на сайт ин...      8       3   \n",
       "3  Изменить структура категорий, что увеличит кон...      8       3   \n",
       "4  Изменить цвет фона главной страницы, чтобы уве...      3       1   \n",
       "5  Добавить страницу отзывов клиентов о магазине,...      3       2   \n",
       "6  Показать на главной странице баннеры с актуаль...      5       3   \n",
       "7  Добавить форму подписки на все основные страни...     10       7   \n",
       "8  Запустить акцию, дающую скидку на товар в день...      1       9   \n",
       "\n",
       "   Confidence  Efforts  \n",
       "0           8        6  \n",
       "1           4       10  \n",
       "2           7        3  \n",
       "3           3        8  \n",
       "4           1        1  \n",
       "5           2        3  \n",
       "6           8        3  \n",
       "7           8        5  \n",
       "8           9        5  "
      ]
     },
     "execution_count": 3,
     "metadata": {},
     "output_type": "execute_result"
    }
   ],
   "source": [
    "hypothesis.info() #общая информация о датафрейме\n",
    "hypothesis.head(10)"
   ]
  },
  {
   "cell_type": "code",
   "execution_count": 4,
   "metadata": {},
   "outputs": [
    {
     "name": "stdout",
     "output_type": "stream",
     "text": [
      "<class 'pandas.core.frame.DataFrame'>\n",
      "RangeIndex: 1197 entries, 0 to 1196\n",
      "Data columns (total 5 columns):\n",
      " #   Column         Non-Null Count  Dtype \n",
      "---  ------         --------------  ----- \n",
      " 0   transactionId  1197 non-null   int64 \n",
      " 1   visitorId      1197 non-null   int64 \n",
      " 2   date           1197 non-null   object\n",
      " 3   revenue        1197 non-null   int64 \n",
      " 4   group          1197 non-null   object\n",
      "dtypes: int64(3), object(2)\n",
      "memory usage: 46.9+ KB\n"
     ]
    },
    {
     "data": {
      "text/html": [
       "<div>\n",
       "<style scoped>\n",
       "    .dataframe tbody tr th:only-of-type {\n",
       "        vertical-align: middle;\n",
       "    }\n",
       "\n",
       "    .dataframe tbody tr th {\n",
       "        vertical-align: top;\n",
       "    }\n",
       "\n",
       "    .dataframe thead th {\n",
       "        text-align: right;\n",
       "    }\n",
       "</style>\n",
       "<table border=\"1\" class=\"dataframe\">\n",
       "  <thead>\n",
       "    <tr style=\"text-align: right;\">\n",
       "      <th></th>\n",
       "      <th>transactionId</th>\n",
       "      <th>visitorId</th>\n",
       "      <th>date</th>\n",
       "      <th>revenue</th>\n",
       "      <th>group</th>\n",
       "    </tr>\n",
       "  </thead>\n",
       "  <tbody>\n",
       "    <tr>\n",
       "      <th>0</th>\n",
       "      <td>3667963787</td>\n",
       "      <td>3312258926</td>\n",
       "      <td>2019-08-15</td>\n",
       "      <td>1650</td>\n",
       "      <td>B</td>\n",
       "    </tr>\n",
       "    <tr>\n",
       "      <th>1</th>\n",
       "      <td>2804400009</td>\n",
       "      <td>3642806036</td>\n",
       "      <td>2019-08-15</td>\n",
       "      <td>730</td>\n",
       "      <td>B</td>\n",
       "    </tr>\n",
       "    <tr>\n",
       "      <th>2</th>\n",
       "      <td>2961555356</td>\n",
       "      <td>4069496402</td>\n",
       "      <td>2019-08-15</td>\n",
       "      <td>400</td>\n",
       "      <td>A</td>\n",
       "    </tr>\n",
       "    <tr>\n",
       "      <th>3</th>\n",
       "      <td>3797467345</td>\n",
       "      <td>1196621759</td>\n",
       "      <td>2019-08-15</td>\n",
       "      <td>9759</td>\n",
       "      <td>B</td>\n",
       "    </tr>\n",
       "    <tr>\n",
       "      <th>4</th>\n",
       "      <td>2282983706</td>\n",
       "      <td>2322279887</td>\n",
       "      <td>2019-08-15</td>\n",
       "      <td>2308</td>\n",
       "      <td>B</td>\n",
       "    </tr>\n",
       "    <tr>\n",
       "      <th>5</th>\n",
       "      <td>182168103</td>\n",
       "      <td>935554773</td>\n",
       "      <td>2019-08-15</td>\n",
       "      <td>2210</td>\n",
       "      <td>B</td>\n",
       "    </tr>\n",
       "    <tr>\n",
       "      <th>6</th>\n",
       "      <td>398296753</td>\n",
       "      <td>2900797465</td>\n",
       "      <td>2019-08-15</td>\n",
       "      <td>1860</td>\n",
       "      <td>B</td>\n",
       "    </tr>\n",
       "    <tr>\n",
       "      <th>7</th>\n",
       "      <td>2626614568</td>\n",
       "      <td>78758296</td>\n",
       "      <td>2019-08-15</td>\n",
       "      <td>1044</td>\n",
       "      <td>A</td>\n",
       "    </tr>\n",
       "    <tr>\n",
       "      <th>8</th>\n",
       "      <td>1576988021</td>\n",
       "      <td>295230930</td>\n",
       "      <td>2019-08-15</td>\n",
       "      <td>13710</td>\n",
       "      <td>A</td>\n",
       "    </tr>\n",
       "    <tr>\n",
       "      <th>9</th>\n",
       "      <td>1506739906</td>\n",
       "      <td>1882260405</td>\n",
       "      <td>2019-08-15</td>\n",
       "      <td>1855</td>\n",
       "      <td>B</td>\n",
       "    </tr>\n",
       "  </tbody>\n",
       "</table>\n",
       "</div>"
      ],
      "text/plain": [
       "   transactionId   visitorId        date  revenue group\n",
       "0     3667963787  3312258926  2019-08-15     1650     B\n",
       "1     2804400009  3642806036  2019-08-15      730     B\n",
       "2     2961555356  4069496402  2019-08-15      400     A\n",
       "3     3797467345  1196621759  2019-08-15     9759     B\n",
       "4     2282983706  2322279887  2019-08-15     2308     B\n",
       "5      182168103   935554773  2019-08-15     2210     B\n",
       "6      398296753  2900797465  2019-08-15     1860     B\n",
       "7     2626614568    78758296  2019-08-15     1044     A\n",
       "8     1576988021   295230930  2019-08-15    13710     A\n",
       "9     1506739906  1882260405  2019-08-15     1855     B"
      ]
     },
     "execution_count": 4,
     "metadata": {},
     "output_type": "execute_result"
    }
   ],
   "source": [
    "orders.info() #общая информация о датафрейме\n",
    "orders.head(10)"
   ]
  },
  {
   "cell_type": "code",
   "execution_count": 5,
   "metadata": {},
   "outputs": [
    {
     "name": "stdout",
     "output_type": "stream",
     "text": [
      "<class 'pandas.core.frame.DataFrame'>\n",
      "RangeIndex: 62 entries, 0 to 61\n",
      "Data columns (total 3 columns):\n",
      " #   Column    Non-Null Count  Dtype \n",
      "---  ------    --------------  ----- \n",
      " 0   date      62 non-null     object\n",
      " 1   group     62 non-null     object\n",
      " 2   visitors  62 non-null     int64 \n",
      "dtypes: int64(1), object(2)\n",
      "memory usage: 1.6+ KB\n"
     ]
    },
    {
     "data": {
      "text/html": [
       "<div>\n",
       "<style scoped>\n",
       "    .dataframe tbody tr th:only-of-type {\n",
       "        vertical-align: middle;\n",
       "    }\n",
       "\n",
       "    .dataframe tbody tr th {\n",
       "        vertical-align: top;\n",
       "    }\n",
       "\n",
       "    .dataframe thead th {\n",
       "        text-align: right;\n",
       "    }\n",
       "</style>\n",
       "<table border=\"1\" class=\"dataframe\">\n",
       "  <thead>\n",
       "    <tr style=\"text-align: right;\">\n",
       "      <th></th>\n",
       "      <th>date</th>\n",
       "      <th>group</th>\n",
       "      <th>visitors</th>\n",
       "    </tr>\n",
       "  </thead>\n",
       "  <tbody>\n",
       "    <tr>\n",
       "      <th>0</th>\n",
       "      <td>2019-08-01</td>\n",
       "      <td>A</td>\n",
       "      <td>719</td>\n",
       "    </tr>\n",
       "    <tr>\n",
       "      <th>1</th>\n",
       "      <td>2019-08-02</td>\n",
       "      <td>A</td>\n",
       "      <td>619</td>\n",
       "    </tr>\n",
       "    <tr>\n",
       "      <th>2</th>\n",
       "      <td>2019-08-03</td>\n",
       "      <td>A</td>\n",
       "      <td>507</td>\n",
       "    </tr>\n",
       "    <tr>\n",
       "      <th>3</th>\n",
       "      <td>2019-08-04</td>\n",
       "      <td>A</td>\n",
       "      <td>717</td>\n",
       "    </tr>\n",
       "    <tr>\n",
       "      <th>4</th>\n",
       "      <td>2019-08-05</td>\n",
       "      <td>A</td>\n",
       "      <td>756</td>\n",
       "    </tr>\n",
       "    <tr>\n",
       "      <th>5</th>\n",
       "      <td>2019-08-06</td>\n",
       "      <td>A</td>\n",
       "      <td>667</td>\n",
       "    </tr>\n",
       "    <tr>\n",
       "      <th>6</th>\n",
       "      <td>2019-08-07</td>\n",
       "      <td>A</td>\n",
       "      <td>644</td>\n",
       "    </tr>\n",
       "    <tr>\n",
       "      <th>7</th>\n",
       "      <td>2019-08-08</td>\n",
       "      <td>A</td>\n",
       "      <td>610</td>\n",
       "    </tr>\n",
       "    <tr>\n",
       "      <th>8</th>\n",
       "      <td>2019-08-09</td>\n",
       "      <td>A</td>\n",
       "      <td>617</td>\n",
       "    </tr>\n",
       "    <tr>\n",
       "      <th>9</th>\n",
       "      <td>2019-08-10</td>\n",
       "      <td>A</td>\n",
       "      <td>406</td>\n",
       "    </tr>\n",
       "  </tbody>\n",
       "</table>\n",
       "</div>"
      ],
      "text/plain": [
       "         date group  visitors\n",
       "0  2019-08-01     A       719\n",
       "1  2019-08-02     A       619\n",
       "2  2019-08-03     A       507\n",
       "3  2019-08-04     A       717\n",
       "4  2019-08-05     A       756\n",
       "5  2019-08-06     A       667\n",
       "6  2019-08-07     A       644\n",
       "7  2019-08-08     A       610\n",
       "8  2019-08-09     A       617\n",
       "9  2019-08-10     A       406"
      ]
     },
     "execution_count": 5,
     "metadata": {},
     "output_type": "execute_result"
    }
   ],
   "source": [
    "visitors.info() #общая информация о датафрейме\n",
    "visitors.head(10)"
   ]
  },
  {
   "cell_type": "markdown",
   "metadata": {},
   "source": [
    "<p>\n",
    "<div class=\"alert-info\">\n",
    "<b>Комментарий студента</b>\n",
    "\n",
    "Изучил основную информацию о данных в датафрейме.\n",
    "    \n",
    "Так же предварительно посмотрев, можно сделать вывод, что данные без пропусков. В каждом столбце одинаковое количество строк данных.\n",
    "    \n",
    "В глаза ещё бросилось то, что дата имеет тип данных - object. Сменю тип данных столбцов.\n",
    "    \n",
    "Название столбцов приведу к нижнему регистру для удобства и меньшей вероятности ошибиться.\n",
    "</div>"
   ]
  },
  {
   "cell_type": "code",
   "execution_count": 6,
   "metadata": {},
   "outputs": [],
   "source": [
    "hypothesis.columns = hypothesis.columns.str.lower()\n",
    "orders.columns = orders.columns.str.lower()\n",
    "visitors.columns = visitors.columns.str.lower()"
   ]
  },
  {
   "cell_type": "markdown",
   "metadata": {},
   "source": [
    "<p>\n",
    "<div class=\"alert-info\">\n",
    "<b>Комментарий студента</b>\n",
    "\n",
    "Привел столбцы к нижнему регистру.\n",
    "</div>"
   ]
  },
  {
   "cell_type": "code",
   "execution_count": 7,
   "metadata": {},
   "outputs": [
    {
     "data": {
      "text/html": [
       "<div>\n",
       "<style scoped>\n",
       "    .dataframe tbody tr th:only-of-type {\n",
       "        vertical-align: middle;\n",
       "    }\n",
       "\n",
       "    .dataframe tbody tr th {\n",
       "        vertical-align: top;\n",
       "    }\n",
       "\n",
       "    .dataframe thead th {\n",
       "        text-align: right;\n",
       "    }\n",
       "</style>\n",
       "<table border=\"1\" class=\"dataframe\">\n",
       "  <thead>\n",
       "    <tr style=\"text-align: right;\">\n",
       "      <th></th>\n",
       "      <th>hypothesis</th>\n",
       "      <th>reach</th>\n",
       "      <th>impact</th>\n",
       "      <th>confidence</th>\n",
       "      <th>efforts</th>\n",
       "    </tr>\n",
       "  </thead>\n",
       "  <tbody>\n",
       "    <tr>\n",
       "      <th>0</th>\n",
       "      <td>Добавить два новых канала привлечения трафика,...</td>\n",
       "      <td>3</td>\n",
       "      <td>10</td>\n",
       "      <td>8</td>\n",
       "      <td>6</td>\n",
       "    </tr>\n",
       "    <tr>\n",
       "      <th>1</th>\n",
       "      <td>Запустить собственную службу доставки, что сок...</td>\n",
       "      <td>2</td>\n",
       "      <td>5</td>\n",
       "      <td>4</td>\n",
       "      <td>10</td>\n",
       "    </tr>\n",
       "    <tr>\n",
       "      <th>2</th>\n",
       "      <td>Добавить блоки рекомендаций товаров на сайт ин...</td>\n",
       "      <td>8</td>\n",
       "      <td>3</td>\n",
       "      <td>7</td>\n",
       "      <td>3</td>\n",
       "    </tr>\n",
       "    <tr>\n",
       "      <th>3</th>\n",
       "      <td>Изменить структура категорий, что увеличит кон...</td>\n",
       "      <td>8</td>\n",
       "      <td>3</td>\n",
       "      <td>3</td>\n",
       "      <td>8</td>\n",
       "    </tr>\n",
       "    <tr>\n",
       "      <th>4</th>\n",
       "      <td>Изменить цвет фона главной страницы, чтобы уве...</td>\n",
       "      <td>3</td>\n",
       "      <td>1</td>\n",
       "      <td>1</td>\n",
       "      <td>1</td>\n",
       "    </tr>\n",
       "    <tr>\n",
       "      <th>5</th>\n",
       "      <td>Добавить страницу отзывов клиентов о магазине,...</td>\n",
       "      <td>3</td>\n",
       "      <td>2</td>\n",
       "      <td>2</td>\n",
       "      <td>3</td>\n",
       "    </tr>\n",
       "    <tr>\n",
       "      <th>6</th>\n",
       "      <td>Показать на главной странице баннеры с актуаль...</td>\n",
       "      <td>5</td>\n",
       "      <td>3</td>\n",
       "      <td>8</td>\n",
       "      <td>3</td>\n",
       "    </tr>\n",
       "    <tr>\n",
       "      <th>7</th>\n",
       "      <td>Добавить форму подписки на все основные страни...</td>\n",
       "      <td>10</td>\n",
       "      <td>7</td>\n",
       "      <td>8</td>\n",
       "      <td>5</td>\n",
       "    </tr>\n",
       "    <tr>\n",
       "      <th>8</th>\n",
       "      <td>Запустить акцию, дающую скидку на товар в день...</td>\n",
       "      <td>1</td>\n",
       "      <td>9</td>\n",
       "      <td>9</td>\n",
       "      <td>5</td>\n",
       "    </tr>\n",
       "  </tbody>\n",
       "</table>\n",
       "</div>"
      ],
      "text/plain": [
       "                                          hypothesis  reach  impact  \\\n",
       "0  Добавить два новых канала привлечения трафика,...      3      10   \n",
       "1  Запустить собственную службу доставки, что сок...      2       5   \n",
       "2  Добавить блоки рекомендаций товаров на сайт ин...      8       3   \n",
       "3  Изменить структура категорий, что увеличит кон...      8       3   \n",
       "4  Изменить цвет фона главной страницы, чтобы уве...      3       1   \n",
       "5  Добавить страницу отзывов клиентов о магазине,...      3       2   \n",
       "6  Показать на главной странице баннеры с актуаль...      5       3   \n",
       "7  Добавить форму подписки на все основные страни...     10       7   \n",
       "8  Запустить акцию, дающую скидку на товар в день...      1       9   \n",
       "\n",
       "   confidence  efforts  \n",
       "0           8        6  \n",
       "1           4       10  \n",
       "2           7        3  \n",
       "3           3        8  \n",
       "4           1        1  \n",
       "5           2        3  \n",
       "6           8        3  \n",
       "7           8        5  \n",
       "8           9        5  "
      ]
     },
     "metadata": {},
     "output_type": "display_data"
    },
    {
     "data": {
      "text/html": [
       "<div>\n",
       "<style scoped>\n",
       "    .dataframe tbody tr th:only-of-type {\n",
       "        vertical-align: middle;\n",
       "    }\n",
       "\n",
       "    .dataframe tbody tr th {\n",
       "        vertical-align: top;\n",
       "    }\n",
       "\n",
       "    .dataframe thead th {\n",
       "        text-align: right;\n",
       "    }\n",
       "</style>\n",
       "<table border=\"1\" class=\"dataframe\">\n",
       "  <thead>\n",
       "    <tr style=\"text-align: right;\">\n",
       "      <th></th>\n",
       "      <th>transactionid</th>\n",
       "      <th>visitorid</th>\n",
       "      <th>date</th>\n",
       "      <th>revenue</th>\n",
       "      <th>group</th>\n",
       "    </tr>\n",
       "  </thead>\n",
       "  <tbody>\n",
       "    <tr>\n",
       "      <th>0</th>\n",
       "      <td>3667963787</td>\n",
       "      <td>3312258926</td>\n",
       "      <td>2019-08-15</td>\n",
       "      <td>1650</td>\n",
       "      <td>B</td>\n",
       "    </tr>\n",
       "    <tr>\n",
       "      <th>1</th>\n",
       "      <td>2804400009</td>\n",
       "      <td>3642806036</td>\n",
       "      <td>2019-08-15</td>\n",
       "      <td>730</td>\n",
       "      <td>B</td>\n",
       "    </tr>\n",
       "    <tr>\n",
       "      <th>2</th>\n",
       "      <td>2961555356</td>\n",
       "      <td>4069496402</td>\n",
       "      <td>2019-08-15</td>\n",
       "      <td>400</td>\n",
       "      <td>A</td>\n",
       "    </tr>\n",
       "    <tr>\n",
       "      <th>3</th>\n",
       "      <td>3797467345</td>\n",
       "      <td>1196621759</td>\n",
       "      <td>2019-08-15</td>\n",
       "      <td>9759</td>\n",
       "      <td>B</td>\n",
       "    </tr>\n",
       "    <tr>\n",
       "      <th>4</th>\n",
       "      <td>2282983706</td>\n",
       "      <td>2322279887</td>\n",
       "      <td>2019-08-15</td>\n",
       "      <td>2308</td>\n",
       "      <td>B</td>\n",
       "    </tr>\n",
       "    <tr>\n",
       "      <th>5</th>\n",
       "      <td>182168103</td>\n",
       "      <td>935554773</td>\n",
       "      <td>2019-08-15</td>\n",
       "      <td>2210</td>\n",
       "      <td>B</td>\n",
       "    </tr>\n",
       "    <tr>\n",
       "      <th>6</th>\n",
       "      <td>398296753</td>\n",
       "      <td>2900797465</td>\n",
       "      <td>2019-08-15</td>\n",
       "      <td>1860</td>\n",
       "      <td>B</td>\n",
       "    </tr>\n",
       "    <tr>\n",
       "      <th>7</th>\n",
       "      <td>2626614568</td>\n",
       "      <td>78758296</td>\n",
       "      <td>2019-08-15</td>\n",
       "      <td>1044</td>\n",
       "      <td>A</td>\n",
       "    </tr>\n",
       "    <tr>\n",
       "      <th>8</th>\n",
       "      <td>1576988021</td>\n",
       "      <td>295230930</td>\n",
       "      <td>2019-08-15</td>\n",
       "      <td>13710</td>\n",
       "      <td>A</td>\n",
       "    </tr>\n",
       "    <tr>\n",
       "      <th>9</th>\n",
       "      <td>1506739906</td>\n",
       "      <td>1882260405</td>\n",
       "      <td>2019-08-15</td>\n",
       "      <td>1855</td>\n",
       "      <td>B</td>\n",
       "    </tr>\n",
       "  </tbody>\n",
       "</table>\n",
       "</div>"
      ],
      "text/plain": [
       "   transactionid   visitorid        date  revenue group\n",
       "0     3667963787  3312258926  2019-08-15     1650     B\n",
       "1     2804400009  3642806036  2019-08-15      730     B\n",
       "2     2961555356  4069496402  2019-08-15      400     A\n",
       "3     3797467345  1196621759  2019-08-15     9759     B\n",
       "4     2282983706  2322279887  2019-08-15     2308     B\n",
       "5      182168103   935554773  2019-08-15     2210     B\n",
       "6      398296753  2900797465  2019-08-15     1860     B\n",
       "7     2626614568    78758296  2019-08-15     1044     A\n",
       "8     1576988021   295230930  2019-08-15    13710     A\n",
       "9     1506739906  1882260405  2019-08-15     1855     B"
      ]
     },
     "metadata": {},
     "output_type": "display_data"
    },
    {
     "data": {
      "text/html": [
       "<div>\n",
       "<style scoped>\n",
       "    .dataframe tbody tr th:only-of-type {\n",
       "        vertical-align: middle;\n",
       "    }\n",
       "\n",
       "    .dataframe tbody tr th {\n",
       "        vertical-align: top;\n",
       "    }\n",
       "\n",
       "    .dataframe thead th {\n",
       "        text-align: right;\n",
       "    }\n",
       "</style>\n",
       "<table border=\"1\" class=\"dataframe\">\n",
       "  <thead>\n",
       "    <tr style=\"text-align: right;\">\n",
       "      <th></th>\n",
       "      <th>date</th>\n",
       "      <th>group</th>\n",
       "      <th>visitors</th>\n",
       "    </tr>\n",
       "  </thead>\n",
       "  <tbody>\n",
       "    <tr>\n",
       "      <th>0</th>\n",
       "      <td>2019-08-01</td>\n",
       "      <td>A</td>\n",
       "      <td>719</td>\n",
       "    </tr>\n",
       "    <tr>\n",
       "      <th>1</th>\n",
       "      <td>2019-08-02</td>\n",
       "      <td>A</td>\n",
       "      <td>619</td>\n",
       "    </tr>\n",
       "    <tr>\n",
       "      <th>2</th>\n",
       "      <td>2019-08-03</td>\n",
       "      <td>A</td>\n",
       "      <td>507</td>\n",
       "    </tr>\n",
       "    <tr>\n",
       "      <th>3</th>\n",
       "      <td>2019-08-04</td>\n",
       "      <td>A</td>\n",
       "      <td>717</td>\n",
       "    </tr>\n",
       "    <tr>\n",
       "      <th>4</th>\n",
       "      <td>2019-08-05</td>\n",
       "      <td>A</td>\n",
       "      <td>756</td>\n",
       "    </tr>\n",
       "    <tr>\n",
       "      <th>5</th>\n",
       "      <td>2019-08-06</td>\n",
       "      <td>A</td>\n",
       "      <td>667</td>\n",
       "    </tr>\n",
       "    <tr>\n",
       "      <th>6</th>\n",
       "      <td>2019-08-07</td>\n",
       "      <td>A</td>\n",
       "      <td>644</td>\n",
       "    </tr>\n",
       "    <tr>\n",
       "      <th>7</th>\n",
       "      <td>2019-08-08</td>\n",
       "      <td>A</td>\n",
       "      <td>610</td>\n",
       "    </tr>\n",
       "    <tr>\n",
       "      <th>8</th>\n",
       "      <td>2019-08-09</td>\n",
       "      <td>A</td>\n",
       "      <td>617</td>\n",
       "    </tr>\n",
       "    <tr>\n",
       "      <th>9</th>\n",
       "      <td>2019-08-10</td>\n",
       "      <td>A</td>\n",
       "      <td>406</td>\n",
       "    </tr>\n",
       "  </tbody>\n",
       "</table>\n",
       "</div>"
      ],
      "text/plain": [
       "         date group  visitors\n",
       "0  2019-08-01     A       719\n",
       "1  2019-08-02     A       619\n",
       "2  2019-08-03     A       507\n",
       "3  2019-08-04     A       717\n",
       "4  2019-08-05     A       756\n",
       "5  2019-08-06     A       667\n",
       "6  2019-08-07     A       644\n",
       "7  2019-08-08     A       610\n",
       "8  2019-08-09     A       617\n",
       "9  2019-08-10     A       406"
      ]
     },
     "metadata": {},
     "output_type": "display_data"
    }
   ],
   "source": [
    "display(hypothesis.head(10))\n",
    "display(orders.head(10))\n",
    "display(visitors.head(10))"
   ]
  },
  {
   "cell_type": "code",
   "execution_count": 8,
   "metadata": {},
   "outputs": [
    {
     "data": {
      "text/plain": [
       "0"
      ]
     },
     "metadata": {},
     "output_type": "display_data"
    },
    {
     "name": "stdout",
     "output_type": "stream",
     "text": [
      "<class 'pandas.core.frame.DataFrame'>\n",
      "RangeIndex: 9 entries, 0 to 8\n",
      "Data columns (total 5 columns):\n",
      " #   Column      Non-Null Count  Dtype \n",
      "---  ------      --------------  ----- \n",
      " 0   hypothesis  9 non-null      object\n",
      " 1   reach       9 non-null      int64 \n",
      " 2   impact      9 non-null      int64 \n",
      " 3   confidence  9 non-null      int64 \n",
      " 4   efforts     9 non-null      int64 \n",
      "dtypes: int64(4), object(1)\n",
      "memory usage: 488.0+ bytes\n"
     ]
    },
    {
     "data": {
      "text/plain": [
       "0"
      ]
     },
     "metadata": {},
     "output_type": "display_data"
    },
    {
     "name": "stdout",
     "output_type": "stream",
     "text": [
      "<class 'pandas.core.frame.DataFrame'>\n",
      "RangeIndex: 1197 entries, 0 to 1196\n",
      "Data columns (total 5 columns):\n",
      " #   Column         Non-Null Count  Dtype \n",
      "---  ------         --------------  ----- \n",
      " 0   transactionid  1197 non-null   int64 \n",
      " 1   visitorid      1197 non-null   int64 \n",
      " 2   date           1197 non-null   object\n",
      " 3   revenue        1197 non-null   int64 \n",
      " 4   group          1197 non-null   object\n",
      "dtypes: int64(3), object(2)\n",
      "memory usage: 46.9+ KB\n"
     ]
    },
    {
     "data": {
      "text/plain": [
       "0"
      ]
     },
     "metadata": {},
     "output_type": "display_data"
    },
    {
     "name": "stdout",
     "output_type": "stream",
     "text": [
      "<class 'pandas.core.frame.DataFrame'>\n",
      "RangeIndex: 62 entries, 0 to 61\n",
      "Data columns (total 3 columns):\n",
      " #   Column    Non-Null Count  Dtype \n",
      "---  ------    --------------  ----- \n",
      " 0   date      62 non-null     object\n",
      " 1   group     62 non-null     object\n",
      " 2   visitors  62 non-null     int64 \n",
      "dtypes: int64(1), object(2)\n",
      "memory usage: 1.6+ KB\n"
     ]
    }
   ],
   "source": [
    "hypothesis.drop_duplicates()\n",
    "display(hypothesis.duplicated().sum())\n",
    "hypothesis.info()\n",
    "orders.drop_duplicates()\n",
    "display(orders.duplicated().sum())\n",
    "orders.info()\n",
    "visitors.drop_duplicates()\n",
    "display(visitors.duplicated().sum())\n",
    "visitors.info()"
   ]
  },
  {
   "cell_type": "markdown",
   "metadata": {},
   "source": [
    "<p>\n",
    "<div class=\"alert-info\">\n",
    "<b>Комментарий студента</b>\n",
    "\n",
    "Провел проверку дубликатов. Как видно их не оказалось.\n",
    "</div>"
   ]
  },
  {
   "cell_type": "code",
   "execution_count": 9,
   "metadata": {},
   "outputs": [],
   "source": [
    "orders['date'] = pd.to_datetime(orders['date'])\n",
    "visitors['date'] = pd.to_datetime(visitors['date'])"
   ]
  },
  {
   "cell_type": "code",
   "execution_count": 10,
   "metadata": {},
   "outputs": [
    {
     "name": "stdout",
     "output_type": "stream",
     "text": [
      "<class 'pandas.core.frame.DataFrame'>\n",
      "RangeIndex: 9 entries, 0 to 8\n",
      "Data columns (total 5 columns):\n",
      " #   Column      Non-Null Count  Dtype \n",
      "---  ------      --------------  ----- \n",
      " 0   hypothesis  9 non-null      object\n",
      " 1   reach       9 non-null      int64 \n",
      " 2   impact      9 non-null      int64 \n",
      " 3   confidence  9 non-null      int64 \n",
      " 4   efforts     9 non-null      int64 \n",
      "dtypes: int64(4), object(1)\n",
      "memory usage: 488.0+ bytes\n",
      "<class 'pandas.core.frame.DataFrame'>\n",
      "RangeIndex: 1197 entries, 0 to 1196\n",
      "Data columns (total 5 columns):\n",
      " #   Column         Non-Null Count  Dtype         \n",
      "---  ------         --------------  -----         \n",
      " 0   transactionid  1197 non-null   int64         \n",
      " 1   visitorid      1197 non-null   int64         \n",
      " 2   date           1197 non-null   datetime64[ns]\n",
      " 3   revenue        1197 non-null   int64         \n",
      " 4   group          1197 non-null   object        \n",
      "dtypes: datetime64[ns](1), int64(3), object(1)\n",
      "memory usage: 46.9+ KB\n",
      "<class 'pandas.core.frame.DataFrame'>\n",
      "RangeIndex: 62 entries, 0 to 61\n",
      "Data columns (total 3 columns):\n",
      " #   Column    Non-Null Count  Dtype         \n",
      "---  ------    --------------  -----         \n",
      " 0   date      62 non-null     datetime64[ns]\n",
      " 1   group     62 non-null     object        \n",
      " 2   visitors  62 non-null     int64         \n",
      "dtypes: datetime64[ns](1), int64(1), object(1)\n",
      "memory usage: 1.6+ KB\n"
     ]
    }
   ],
   "source": [
    "hypothesis.info()\n",
    "orders.info()\n",
    "visitors.info()"
   ]
  },
  {
   "cell_type": "markdown",
   "metadata": {},
   "source": [
    "<p>\n",
    "<div class=\"alert-info\">\n",
    "<b>Комментарий студента</b>\n",
    "\n",
    "Изменил типы данных. Изменил только даты, остальные типы данных корректные.\n",
    "    \n",
    "На этом завершаю предобработку данных.\n",
    "</div>"
   ]
  },
  {
   "cell_type": "code",
   "execution_count": 11,
   "metadata": {},
   "outputs": [
    {
     "data": {
      "text/html": [
       "<div>\n",
       "<style scoped>\n",
       "    .dataframe tbody tr th:only-of-type {\n",
       "        vertical-align: middle;\n",
       "    }\n",
       "\n",
       "    .dataframe tbody tr th {\n",
       "        vertical-align: top;\n",
       "    }\n",
       "\n",
       "    .dataframe thead th {\n",
       "        text-align: right;\n",
       "    }\n",
       "</style>\n",
       "<table border=\"1\" class=\"dataframe\">\n",
       "  <thead>\n",
       "    <tr style=\"text-align: right;\">\n",
       "      <th></th>\n",
       "      <th>hypothesis</th>\n",
       "      <th>reach</th>\n",
       "      <th>impact</th>\n",
       "      <th>confidence</th>\n",
       "      <th>efforts</th>\n",
       "    </tr>\n",
       "  </thead>\n",
       "  <tbody>\n",
       "    <tr>\n",
       "      <th>0</th>\n",
       "      <td>Добавить два новых канала привлечения трафика,...</td>\n",
       "      <td>3</td>\n",
       "      <td>10</td>\n",
       "      <td>8</td>\n",
       "      <td>6</td>\n",
       "    </tr>\n",
       "    <tr>\n",
       "      <th>1</th>\n",
       "      <td>Запустить собственную службу доставки, что сок...</td>\n",
       "      <td>2</td>\n",
       "      <td>5</td>\n",
       "      <td>4</td>\n",
       "      <td>10</td>\n",
       "    </tr>\n",
       "    <tr>\n",
       "      <th>2</th>\n",
       "      <td>Добавить блоки рекомендаций товаров на сайт ин...</td>\n",
       "      <td>8</td>\n",
       "      <td>3</td>\n",
       "      <td>7</td>\n",
       "      <td>3</td>\n",
       "    </tr>\n",
       "    <tr>\n",
       "      <th>3</th>\n",
       "      <td>Изменить структура категорий, что увеличит кон...</td>\n",
       "      <td>8</td>\n",
       "      <td>3</td>\n",
       "      <td>3</td>\n",
       "      <td>8</td>\n",
       "    </tr>\n",
       "    <tr>\n",
       "      <th>4</th>\n",
       "      <td>Изменить цвет фона главной страницы, чтобы уве...</td>\n",
       "      <td>3</td>\n",
       "      <td>1</td>\n",
       "      <td>1</td>\n",
       "      <td>1</td>\n",
       "    </tr>\n",
       "    <tr>\n",
       "      <th>5</th>\n",
       "      <td>Добавить страницу отзывов клиентов о магазине,...</td>\n",
       "      <td>3</td>\n",
       "      <td>2</td>\n",
       "      <td>2</td>\n",
       "      <td>3</td>\n",
       "    </tr>\n",
       "    <tr>\n",
       "      <th>6</th>\n",
       "      <td>Показать на главной странице баннеры с актуаль...</td>\n",
       "      <td>5</td>\n",
       "      <td>3</td>\n",
       "      <td>8</td>\n",
       "      <td>3</td>\n",
       "    </tr>\n",
       "    <tr>\n",
       "      <th>7</th>\n",
       "      <td>Добавить форму подписки на все основные страни...</td>\n",
       "      <td>10</td>\n",
       "      <td>7</td>\n",
       "      <td>8</td>\n",
       "      <td>5</td>\n",
       "    </tr>\n",
       "    <tr>\n",
       "      <th>8</th>\n",
       "      <td>Запустить акцию, дающую скидку на товар в день...</td>\n",
       "      <td>1</td>\n",
       "      <td>9</td>\n",
       "      <td>9</td>\n",
       "      <td>5</td>\n",
       "    </tr>\n",
       "  </tbody>\n",
       "</table>\n",
       "</div>"
      ],
      "text/plain": [
       "                                          hypothesis  reach  impact  \\\n",
       "0  Добавить два новых канала привлечения трафика,...      3      10   \n",
       "1  Запустить собственную службу доставки, что сок...      2       5   \n",
       "2  Добавить блоки рекомендаций товаров на сайт ин...      8       3   \n",
       "3  Изменить структура категорий, что увеличит кон...      8       3   \n",
       "4  Изменить цвет фона главной страницы, чтобы уве...      3       1   \n",
       "5  Добавить страницу отзывов клиентов о магазине,...      3       2   \n",
       "6  Показать на главной странице баннеры с актуаль...      5       3   \n",
       "7  Добавить форму подписки на все основные страни...     10       7   \n",
       "8  Запустить акцию, дающую скидку на товар в день...      1       9   \n",
       "\n",
       "   confidence  efforts  \n",
       "0           8        6  \n",
       "1           4       10  \n",
       "2           7        3  \n",
       "3           3        8  \n",
       "4           1        1  \n",
       "5           2        3  \n",
       "6           8        3  \n",
       "7           8        5  \n",
       "8           9        5  "
      ]
     },
     "execution_count": 11,
     "metadata": {},
     "output_type": "execute_result"
    }
   ],
   "source": [
    "hypothesis.head(10)"
   ]
  },
  {
   "cell_type": "markdown",
   "metadata": {},
   "source": [
    "# Применение фреймворка ICE"
   ]
  },
  {
   "cell_type": "code",
   "execution_count": 12,
   "metadata": {},
   "outputs": [
    {
     "data": {
      "text/html": [
       "<div>\n",
       "<style scoped>\n",
       "    .dataframe tbody tr th:only-of-type {\n",
       "        vertical-align: middle;\n",
       "    }\n",
       "\n",
       "    .dataframe tbody tr th {\n",
       "        vertical-align: top;\n",
       "    }\n",
       "\n",
       "    .dataframe thead th {\n",
       "        text-align: right;\n",
       "    }\n",
       "</style>\n",
       "<table border=\"1\" class=\"dataframe\">\n",
       "  <thead>\n",
       "    <tr style=\"text-align: right;\">\n",
       "      <th></th>\n",
       "      <th>hypothesis</th>\n",
       "      <th>ICE</th>\n",
       "    </tr>\n",
       "  </thead>\n",
       "  <tbody>\n",
       "    <tr>\n",
       "      <th>8</th>\n",
       "      <td>Запустить акцию, дающую скидку на товар в день...</td>\n",
       "      <td>16.20</td>\n",
       "    </tr>\n",
       "    <tr>\n",
       "      <th>0</th>\n",
       "      <td>Добавить два новых канала привлечения трафика,...</td>\n",
       "      <td>13.33</td>\n",
       "    </tr>\n",
       "    <tr>\n",
       "      <th>7</th>\n",
       "      <td>Добавить форму подписки на все основные страни...</td>\n",
       "      <td>11.20</td>\n",
       "    </tr>\n",
       "    <tr>\n",
       "      <th>6</th>\n",
       "      <td>Показать на главной странице баннеры с актуаль...</td>\n",
       "      <td>8.00</td>\n",
       "    </tr>\n",
       "    <tr>\n",
       "      <th>2</th>\n",
       "      <td>Добавить блоки рекомендаций товаров на сайт ин...</td>\n",
       "      <td>7.00</td>\n",
       "    </tr>\n",
       "    <tr>\n",
       "      <th>1</th>\n",
       "      <td>Запустить собственную службу доставки, что сок...</td>\n",
       "      <td>2.00</td>\n",
       "    </tr>\n",
       "    <tr>\n",
       "      <th>5</th>\n",
       "      <td>Добавить страницу отзывов клиентов о магазине,...</td>\n",
       "      <td>1.33</td>\n",
       "    </tr>\n",
       "    <tr>\n",
       "      <th>3</th>\n",
       "      <td>Изменить структура категорий, что увеличит кон...</td>\n",
       "      <td>1.12</td>\n",
       "    </tr>\n",
       "    <tr>\n",
       "      <th>4</th>\n",
       "      <td>Изменить цвет фона главной страницы, чтобы уве...</td>\n",
       "      <td>1.00</td>\n",
       "    </tr>\n",
       "  </tbody>\n",
       "</table>\n",
       "</div>"
      ],
      "text/plain": [
       "                                          hypothesis    ICE\n",
       "8  Запустить акцию, дающую скидку на товар в день...  16.20\n",
       "0  Добавить два новых канала привлечения трафика,...  13.33\n",
       "7  Добавить форму подписки на все основные страни...  11.20\n",
       "6  Показать на главной странице баннеры с актуаль...   8.00\n",
       "2  Добавить блоки рекомендаций товаров на сайт ин...   7.00\n",
       "1  Запустить собственную службу доставки, что сок...   2.00\n",
       "5  Добавить страницу отзывов клиентов о магазине,...   1.33\n",
       "3  Изменить структура категорий, что увеличит кон...   1.12\n",
       "4  Изменить цвет фона главной страницы, чтобы уве...   1.00"
      ]
     },
     "execution_count": 12,
     "metadata": {},
     "output_type": "execute_result"
    }
   ],
   "source": [
    "hypothesis['ICE'] = (hypothesis['impact'] * hypothesis['confidence']) / hypothesis['efforts']\n",
    "\n",
    "hypothesis[['hypothesis', 'ICE']].sort_values(by = 'ICE', ascending = False).round(2)"
   ]
  },
  {
   "cell_type": "markdown",
   "metadata": {},
   "source": [
    "# Применение фреймворка RICE"
   ]
  },
  {
   "cell_type": "code",
   "execution_count": 13,
   "metadata": {},
   "outputs": [
    {
     "data": {
      "text/html": [
       "<div>\n",
       "<style scoped>\n",
       "    .dataframe tbody tr th:only-of-type {\n",
       "        vertical-align: middle;\n",
       "    }\n",
       "\n",
       "    .dataframe tbody tr th {\n",
       "        vertical-align: top;\n",
       "    }\n",
       "\n",
       "    .dataframe thead th {\n",
       "        text-align: right;\n",
       "    }\n",
       "</style>\n",
       "<table border=\"1\" class=\"dataframe\">\n",
       "  <thead>\n",
       "    <tr style=\"text-align: right;\">\n",
       "      <th></th>\n",
       "      <th>hypothesis</th>\n",
       "      <th>RICE</th>\n",
       "    </tr>\n",
       "  </thead>\n",
       "  <tbody>\n",
       "    <tr>\n",
       "      <th>7</th>\n",
       "      <td>Добавить форму подписки на все основные страни...</td>\n",
       "      <td>112.0</td>\n",
       "    </tr>\n",
       "    <tr>\n",
       "      <th>2</th>\n",
       "      <td>Добавить блоки рекомендаций товаров на сайт ин...</td>\n",
       "      <td>56.0</td>\n",
       "    </tr>\n",
       "    <tr>\n",
       "      <th>0</th>\n",
       "      <td>Добавить два новых канала привлечения трафика,...</td>\n",
       "      <td>40.0</td>\n",
       "    </tr>\n",
       "    <tr>\n",
       "      <th>6</th>\n",
       "      <td>Показать на главной странице баннеры с актуаль...</td>\n",
       "      <td>40.0</td>\n",
       "    </tr>\n",
       "    <tr>\n",
       "      <th>8</th>\n",
       "      <td>Запустить акцию, дающую скидку на товар в день...</td>\n",
       "      <td>16.2</td>\n",
       "    </tr>\n",
       "    <tr>\n",
       "      <th>3</th>\n",
       "      <td>Изменить структура категорий, что увеличит кон...</td>\n",
       "      <td>9.0</td>\n",
       "    </tr>\n",
       "    <tr>\n",
       "      <th>1</th>\n",
       "      <td>Запустить собственную службу доставки, что сок...</td>\n",
       "      <td>4.0</td>\n",
       "    </tr>\n",
       "    <tr>\n",
       "      <th>5</th>\n",
       "      <td>Добавить страницу отзывов клиентов о магазине,...</td>\n",
       "      <td>4.0</td>\n",
       "    </tr>\n",
       "    <tr>\n",
       "      <th>4</th>\n",
       "      <td>Изменить цвет фона главной страницы, чтобы уве...</td>\n",
       "      <td>3.0</td>\n",
       "    </tr>\n",
       "  </tbody>\n",
       "</table>\n",
       "</div>"
      ],
      "text/plain": [
       "                                          hypothesis   RICE\n",
       "7  Добавить форму подписки на все основные страни...  112.0\n",
       "2  Добавить блоки рекомендаций товаров на сайт ин...   56.0\n",
       "0  Добавить два новых канала привлечения трафика,...   40.0\n",
       "6  Показать на главной странице баннеры с актуаль...   40.0\n",
       "8  Запустить акцию, дающую скидку на товар в день...   16.2\n",
       "3  Изменить структура категорий, что увеличит кон...    9.0\n",
       "1  Запустить собственную службу доставки, что сок...    4.0\n",
       "5  Добавить страницу отзывов клиентов о магазине,...    4.0\n",
       "4  Изменить цвет фона главной страницы, чтобы уве...    3.0"
      ]
     },
     "execution_count": 13,
     "metadata": {},
     "output_type": "execute_result"
    }
   ],
   "source": [
    "hypothesis['RICE'] = (hypothesis['reach'] * hypothesis['impact'] * hypothesis['confidence']) / hypothesis['efforts']\n",
    "\n",
    "hypothesis[['hypothesis', 'RICE']].sort_values(by = 'RICE', ascending = False)"
   ]
  },
  {
   "cell_type": "code",
   "execution_count": 14,
   "metadata": {},
   "outputs": [
    {
     "data": {
      "text/html": [
       "<div>\n",
       "<style scoped>\n",
       "    .dataframe tbody tr th:only-of-type {\n",
       "        vertical-align: middle;\n",
       "    }\n",
       "\n",
       "    .dataframe tbody tr th {\n",
       "        vertical-align: top;\n",
       "    }\n",
       "\n",
       "    .dataframe thead th {\n",
       "        text-align: right;\n",
       "    }\n",
       "</style>\n",
       "<table border=\"1\" class=\"dataframe\">\n",
       "  <thead>\n",
       "    <tr style=\"text-align: right;\">\n",
       "      <th></th>\n",
       "      <th>hypothesis</th>\n",
       "      <th>ICE</th>\n",
       "      <th>RICE</th>\n",
       "    </tr>\n",
       "  </thead>\n",
       "  <tbody>\n",
       "    <tr>\n",
       "      <th>7</th>\n",
       "      <td>Добавить форму подписки на все основные страни...</td>\n",
       "      <td>11.200000</td>\n",
       "      <td>112.0</td>\n",
       "    </tr>\n",
       "    <tr>\n",
       "      <th>2</th>\n",
       "      <td>Добавить блоки рекомендаций товаров на сайт ин...</td>\n",
       "      <td>7.000000</td>\n",
       "      <td>56.0</td>\n",
       "    </tr>\n",
       "    <tr>\n",
       "      <th>0</th>\n",
       "      <td>Добавить два новых канала привлечения трафика,...</td>\n",
       "      <td>13.333333</td>\n",
       "      <td>40.0</td>\n",
       "    </tr>\n",
       "    <tr>\n",
       "      <th>6</th>\n",
       "      <td>Показать на главной странице баннеры с актуаль...</td>\n",
       "      <td>8.000000</td>\n",
       "      <td>40.0</td>\n",
       "    </tr>\n",
       "    <tr>\n",
       "      <th>8</th>\n",
       "      <td>Запустить акцию, дающую скидку на товар в день...</td>\n",
       "      <td>16.200000</td>\n",
       "      <td>16.2</td>\n",
       "    </tr>\n",
       "  </tbody>\n",
       "</table>\n",
       "</div>"
      ],
      "text/plain": [
       "                                          hypothesis        ICE   RICE\n",
       "7  Добавить форму подписки на все основные страни...  11.200000  112.0\n",
       "2  Добавить блоки рекомендаций товаров на сайт ин...   7.000000   56.0\n",
       "0  Добавить два новых канала привлечения трафика,...  13.333333   40.0\n",
       "6  Показать на главной странице баннеры с актуаль...   8.000000   40.0\n",
       "8  Запустить акцию, дающую скидку на товар в день...  16.200000   16.2"
      ]
     },
     "execution_count": 14,
     "metadata": {},
     "output_type": "execute_result"
    }
   ],
   "source": [
    "hypothesis[['hypothesis','ICE', 'RICE']].sort_values(by='RICE', ascending=False).head(5)"
   ]
  },
  {
   "cell_type": "markdown",
   "metadata": {},
   "source": [
    "<div class=\"alert-info\">\n",
    "    \n",
    "# Вывод\n",
    "\n",
    "При применении RICE изменился приоритет гипотез. Это случилось в связи с тем, что у RICE есть показатель `Reach`, который отвечает за то, скольких пользователей затронет данная гипотеза.\n",
    "\n",
    "Учитывая что у 7 гипотезы больших охват затронутых пользователей - данная гипотеза будет приоритетнее остальных и в данном случае фреймворк RICE так же является наиболее подходящим.\n",
    "</div>"
   ]
  },
  {
   "cell_type": "markdown",
   "metadata": {},
   "source": [
    "# Часть 2. Анализ A/B-теста.\n",
    "\n",
    "Вы провели A/B-тест и получили результаты, которые описаны в файлах `/datasets/orders.csv` и `/datasets/visitors.csv`."
   ]
  },
  {
   "cell_type": "markdown",
   "metadata": {},
   "source": [
    "# 1. Постройте график кумулятивной выручки по группам. Сделайте выводы и предположения."
   ]
  },
  {
   "cell_type": "code",
   "execution_count": 15,
   "metadata": {},
   "outputs": [
    {
     "name": "stdout",
     "output_type": "stream",
     "text": [
      "Количество пользователей в двух группах: 58\n",
      "Всего пользователей в тесте: 1031\n"
     ]
    }
   ],
   "source": [
    "# проверим группы на совпадения пользователей\n",
    "\n",
    "vis_group_a = orders[orders['group'] == 'A']['visitorid']\n",
    "\n",
    "vis_group_b = orders[orders['group'] == 'B']['visitorid']\n",
    "\n",
    "orders_ab_group = orders.query('visitorid in @vis_group_a and visitorid in @vis_group_b')\n",
    "\n",
    "print('Количество пользователей в двух группах:', orders_ab_group['visitorid'].nunique())\n",
    "\n",
    "print('Всего пользователей в тесте:', orders['visitorid'].nunique())\n",
    "\n"
   ]
  },
  {
   "cell_type": "markdown",
   "metadata": {},
   "source": [
    "<p>\n",
    "<div class=\"alert-info\">\n",
    "<b>Комментарий студента 2</b>\n",
    "    \n",
    "Да, пересечение есть, 58 пользователей оказались в обеих группах.\n",
    "\n",
    "Можно их как убрать из анализа теста, так и оставить, так как увидим поведение этих же пользователей и в одной и в другой группе, их изменение.\n",
    "</div>"
   ]
  },
  {
   "cell_type": "code",
   "execution_count": 16,
   "metadata": {},
   "outputs": [
    {
     "data": {
      "text/html": [
       "<div>\n",
       "<style scoped>\n",
       "    .dataframe tbody tr th:only-of-type {\n",
       "        vertical-align: middle;\n",
       "    }\n",
       "\n",
       "    .dataframe tbody tr th {\n",
       "        vertical-align: top;\n",
       "    }\n",
       "\n",
       "    .dataframe thead th {\n",
       "        text-align: right;\n",
       "    }\n",
       "</style>\n",
       "<table border=\"1\" class=\"dataframe\">\n",
       "  <thead>\n",
       "    <tr style=\"text-align: right;\">\n",
       "      <th></th>\n",
       "      <th>transactionid</th>\n",
       "      <th>visitorid</th>\n",
       "      <th>date</th>\n",
       "      <th>revenue</th>\n",
       "      <th>group</th>\n",
       "    </tr>\n",
       "  </thead>\n",
       "  <tbody>\n",
       "    <tr>\n",
       "      <th>0</th>\n",
       "      <td>3667963787</td>\n",
       "      <td>3312258926</td>\n",
       "      <td>2019-08-15</td>\n",
       "      <td>1650</td>\n",
       "      <td>B</td>\n",
       "    </tr>\n",
       "    <tr>\n",
       "      <th>1</th>\n",
       "      <td>2804400009</td>\n",
       "      <td>3642806036</td>\n",
       "      <td>2019-08-15</td>\n",
       "      <td>730</td>\n",
       "      <td>B</td>\n",
       "    </tr>\n",
       "    <tr>\n",
       "      <th>2</th>\n",
       "      <td>2961555356</td>\n",
       "      <td>4069496402</td>\n",
       "      <td>2019-08-15</td>\n",
       "      <td>400</td>\n",
       "      <td>A</td>\n",
       "    </tr>\n",
       "    <tr>\n",
       "      <th>3</th>\n",
       "      <td>3797467345</td>\n",
       "      <td>1196621759</td>\n",
       "      <td>2019-08-15</td>\n",
       "      <td>9759</td>\n",
       "      <td>B</td>\n",
       "    </tr>\n",
       "    <tr>\n",
       "      <th>4</th>\n",
       "      <td>2282983706</td>\n",
       "      <td>2322279887</td>\n",
       "      <td>2019-08-15</td>\n",
       "      <td>2308</td>\n",
       "      <td>B</td>\n",
       "    </tr>\n",
       "    <tr>\n",
       "      <th>5</th>\n",
       "      <td>182168103</td>\n",
       "      <td>935554773</td>\n",
       "      <td>2019-08-15</td>\n",
       "      <td>2210</td>\n",
       "      <td>B</td>\n",
       "    </tr>\n",
       "    <tr>\n",
       "      <th>6</th>\n",
       "      <td>398296753</td>\n",
       "      <td>2900797465</td>\n",
       "      <td>2019-08-15</td>\n",
       "      <td>1860</td>\n",
       "      <td>B</td>\n",
       "    </tr>\n",
       "    <tr>\n",
       "      <th>7</th>\n",
       "      <td>2626614568</td>\n",
       "      <td>78758296</td>\n",
       "      <td>2019-08-15</td>\n",
       "      <td>1044</td>\n",
       "      <td>A</td>\n",
       "    </tr>\n",
       "    <tr>\n",
       "      <th>8</th>\n",
       "      <td>1576988021</td>\n",
       "      <td>295230930</td>\n",
       "      <td>2019-08-15</td>\n",
       "      <td>13710</td>\n",
       "      <td>A</td>\n",
       "    </tr>\n",
       "    <tr>\n",
       "      <th>9</th>\n",
       "      <td>1506739906</td>\n",
       "      <td>1882260405</td>\n",
       "      <td>2019-08-15</td>\n",
       "      <td>1855</td>\n",
       "      <td>B</td>\n",
       "    </tr>\n",
       "  </tbody>\n",
       "</table>\n",
       "</div>"
      ],
      "text/plain": [
       "   transactionid   visitorid       date  revenue group\n",
       "0     3667963787  3312258926 2019-08-15     1650     B\n",
       "1     2804400009  3642806036 2019-08-15      730     B\n",
       "2     2961555356  4069496402 2019-08-15      400     A\n",
       "3     3797467345  1196621759 2019-08-15     9759     B\n",
       "4     2282983706  2322279887 2019-08-15     2308     B\n",
       "5      182168103   935554773 2019-08-15     2210     B\n",
       "6      398296753  2900797465 2019-08-15     1860     B\n",
       "7     2626614568    78758296 2019-08-15     1044     A\n",
       "8     1576988021   295230930 2019-08-15    13710     A\n",
       "9     1506739906  1882260405 2019-08-15     1855     B"
      ]
     },
     "metadata": {},
     "output_type": "display_data"
    },
    {
     "data": {
      "text/html": [
       "<div>\n",
       "<style scoped>\n",
       "    .dataframe tbody tr th:only-of-type {\n",
       "        vertical-align: middle;\n",
       "    }\n",
       "\n",
       "    .dataframe tbody tr th {\n",
       "        vertical-align: top;\n",
       "    }\n",
       "\n",
       "    .dataframe thead th {\n",
       "        text-align: right;\n",
       "    }\n",
       "</style>\n",
       "<table border=\"1\" class=\"dataframe\">\n",
       "  <thead>\n",
       "    <tr style=\"text-align: right;\">\n",
       "      <th></th>\n",
       "      <th>date</th>\n",
       "      <th>group</th>\n",
       "      <th>visitors</th>\n",
       "    </tr>\n",
       "  </thead>\n",
       "  <tbody>\n",
       "    <tr>\n",
       "      <th>0</th>\n",
       "      <td>2019-08-01</td>\n",
       "      <td>A</td>\n",
       "      <td>719</td>\n",
       "    </tr>\n",
       "    <tr>\n",
       "      <th>1</th>\n",
       "      <td>2019-08-02</td>\n",
       "      <td>A</td>\n",
       "      <td>619</td>\n",
       "    </tr>\n",
       "    <tr>\n",
       "      <th>2</th>\n",
       "      <td>2019-08-03</td>\n",
       "      <td>A</td>\n",
       "      <td>507</td>\n",
       "    </tr>\n",
       "    <tr>\n",
       "      <th>3</th>\n",
       "      <td>2019-08-04</td>\n",
       "      <td>A</td>\n",
       "      <td>717</td>\n",
       "    </tr>\n",
       "    <tr>\n",
       "      <th>4</th>\n",
       "      <td>2019-08-05</td>\n",
       "      <td>A</td>\n",
       "      <td>756</td>\n",
       "    </tr>\n",
       "    <tr>\n",
       "      <th>5</th>\n",
       "      <td>2019-08-06</td>\n",
       "      <td>A</td>\n",
       "      <td>667</td>\n",
       "    </tr>\n",
       "    <tr>\n",
       "      <th>6</th>\n",
       "      <td>2019-08-07</td>\n",
       "      <td>A</td>\n",
       "      <td>644</td>\n",
       "    </tr>\n",
       "    <tr>\n",
       "      <th>7</th>\n",
       "      <td>2019-08-08</td>\n",
       "      <td>A</td>\n",
       "      <td>610</td>\n",
       "    </tr>\n",
       "    <tr>\n",
       "      <th>8</th>\n",
       "      <td>2019-08-09</td>\n",
       "      <td>A</td>\n",
       "      <td>617</td>\n",
       "    </tr>\n",
       "    <tr>\n",
       "      <th>9</th>\n",
       "      <td>2019-08-10</td>\n",
       "      <td>A</td>\n",
       "      <td>406</td>\n",
       "    </tr>\n",
       "  </tbody>\n",
       "</table>\n",
       "</div>"
      ],
      "text/plain": [
       "        date group  visitors\n",
       "0 2019-08-01     A       719\n",
       "1 2019-08-02     A       619\n",
       "2 2019-08-03     A       507\n",
       "3 2019-08-04     A       717\n",
       "4 2019-08-05     A       756\n",
       "5 2019-08-06     A       667\n",
       "6 2019-08-07     A       644\n",
       "7 2019-08-08     A       610\n",
       "8 2019-08-09     A       617\n",
       "9 2019-08-10     A       406"
      ]
     },
     "metadata": {},
     "output_type": "display_data"
    }
   ],
   "source": [
    "display(orders.head(10))\n",
    "display(visitors.head(10))"
   ]
  },
  {
   "cell_type": "code",
   "execution_count": 17,
   "metadata": {},
   "outputs": [],
   "source": [
    "# создаем массив уникальных пар значений дат и групп теста\n",
    "datesGroups = orders[['date','group']].drop_duplicates() "
   ]
  },
  {
   "cell_type": "code",
   "execution_count": 18,
   "metadata": {},
   "outputs": [
    {
     "data": {
      "text/html": [
       "<div>\n",
       "<style scoped>\n",
       "    .dataframe tbody tr th:only-of-type {\n",
       "        vertical-align: middle;\n",
       "    }\n",
       "\n",
       "    .dataframe tbody tr th {\n",
       "        vertical-align: top;\n",
       "    }\n",
       "\n",
       "    .dataframe thead th {\n",
       "        text-align: right;\n",
       "    }\n",
       "</style>\n",
       "<table border=\"1\" class=\"dataframe\">\n",
       "  <thead>\n",
       "    <tr style=\"text-align: right;\">\n",
       "      <th></th>\n",
       "      <th>date</th>\n",
       "      <th>group</th>\n",
       "      <th>orders</th>\n",
       "      <th>buyers</th>\n",
       "      <th>revenue</th>\n",
       "      <th>visitors</th>\n",
       "    </tr>\n",
       "  </thead>\n",
       "  <tbody>\n",
       "    <tr>\n",
       "      <th>0</th>\n",
       "      <td>2019-08-01</td>\n",
       "      <td>A</td>\n",
       "      <td>24</td>\n",
       "      <td>20</td>\n",
       "      <td>148579</td>\n",
       "      <td>719</td>\n",
       "    </tr>\n",
       "    <tr>\n",
       "      <th>1</th>\n",
       "      <td>2019-08-01</td>\n",
       "      <td>B</td>\n",
       "      <td>21</td>\n",
       "      <td>20</td>\n",
       "      <td>101217</td>\n",
       "      <td>713</td>\n",
       "    </tr>\n",
       "    <tr>\n",
       "      <th>2</th>\n",
       "      <td>2019-08-02</td>\n",
       "      <td>A</td>\n",
       "      <td>44</td>\n",
       "      <td>38</td>\n",
       "      <td>242401</td>\n",
       "      <td>1338</td>\n",
       "    </tr>\n",
       "    <tr>\n",
       "      <th>3</th>\n",
       "      <td>2019-08-02</td>\n",
       "      <td>B</td>\n",
       "      <td>45</td>\n",
       "      <td>43</td>\n",
       "      <td>266748</td>\n",
       "      <td>1294</td>\n",
       "    </tr>\n",
       "    <tr>\n",
       "      <th>4</th>\n",
       "      <td>2019-08-03</td>\n",
       "      <td>A</td>\n",
       "      <td>68</td>\n",
       "      <td>62</td>\n",
       "      <td>354874</td>\n",
       "      <td>1845</td>\n",
       "    </tr>\n",
       "  </tbody>\n",
       "</table>\n",
       "</div>"
      ],
      "text/plain": [
       "        date group  orders  buyers  revenue  visitors\n",
       "0 2019-08-01     A      24      20   148579       719\n",
       "1 2019-08-01     B      21      20   101217       713\n",
       "2 2019-08-02     A      44      38   242401      1338\n",
       "3 2019-08-02     B      45      43   266748      1294\n",
       "4 2019-08-03     A      68      62   354874      1845"
      ]
     },
     "execution_count": 18,
     "metadata": {},
     "output_type": "execute_result"
    }
   ],
   "source": [
    "# получаем агрегированные кумулятивные по дням данные о заказах \n",
    "ordersAggregated = datesGroups.apply(\n",
    "    lambda x: orders[\n",
    "        np.logical_and(\n",
    "            orders['date'] <= x['date'], orders['group'] == x['group']\n",
    "        )\n",
    "    ].agg(\n",
    "        {'date' : 'max', 'group' : 'max', 'transactionid' : 'nunique', 'visitorid' : 'nunique', 'revenue' : 'sum'}\n",
    "    ), \n",
    "    axis=1\n",
    ").sort_values(by=['date','group'])\n",
    "\n",
    "# получаем агрегированные кумулятивные по дням данные о посетителях\n",
    "visitorsAggregated = datesGroups.apply(\n",
    "    lambda x: visitors[\n",
    "        np.logical_and(\n",
    "            visitors['date'] <= x['date'], visitors['group'] == x['group']\n",
    "        )\n",
    "    ].agg(\n",
    "        {'date' : 'max', 'group' : 'max', 'visitors' : 'sum'}\n",
    "    ),\n",
    "    axis=1\n",
    ").sort_values(by=['date','group'])\n",
    "\n",
    "# объединяем кумулятивные данные в одной таблице и присваиваем ее столбцам понятные названия\n",
    "cumulativeData  = ordersAggregated.merge(visitorsAggregated, left_on = ['date', 'group'], right_on = ['date', 'group'])\n",
    "cumulativeData.columns = ['date', 'group', 'orders', 'buyers', 'revenue', 'visitors']\n",
    "\n",
    "cumulativeData.head(5)"
   ]
  },
  {
   "cell_type": "code",
   "execution_count": 19,
   "metadata": {},
   "outputs": [
    {
     "data": {
      "text/plain": [
       "<matplotlib.legend.Legend at 0x7f5d288f7610>"
      ]
     },
     "execution_count": 19,
     "metadata": {},
     "output_type": "execute_result"
    },
    {
     "data": {
      "image/png": "[encoded data removed]",
      "text/plain": [
       "<Figure size 432x288 with 1 Axes>"
      ]
     },
     "metadata": {
      "needs_background": "light"
     },
     "output_type": "display_data"
    }
   ],
   "source": [
    "# датафрейм с кумулятивным количеством заказов и кумулятивной выручкой по дням в группе А\n",
    "cumulativeRevenueA = cumulativeData[cumulativeData['group']=='A'][['date','revenue', 'orders']]\n",
    "\n",
    "# датафрейм с кумулятивным количеством заказов и кумулятивной выручкой по дням в группе B\n",
    "cumulativeRevenueB = cumulativeData[cumulativeData['group']=='B'][['date','revenue', 'orders']]\n",
    "\n",
    "# Строим график выручки группы А\n",
    "plt.plot(cumulativeRevenueA['date'], cumulativeRevenueA['revenue'], label='A')\n",
    "\n",
    "# Строим график выручки группы B\n",
    "plt.plot(cumulativeRevenueB['date'], cumulativeRevenueB['revenue'], label='B')\n",
    "\n",
    "plt.title('График кумулятивной выручки по группам')\n",
    "plt.xlabel('Дата')\n",
    "plt.xticks(rotation=50)\n",
    "plt.legend() "
   ]
  },
  {
   "cell_type": "markdown",
   "metadata": {},
   "source": [
    "<p>\n",
    "<div class=\"alert-info\">\n",
    "<b>Комментарий студента</b>\n",
    "    \n",
    "Выручка почти равномерно увеличивается в течение части теста. График группы B немного лидировал.\n",
    "    \n",
    "    \n",
    "Однако график группы B примерно 18 августа резко вырос. Это может значить что либо появились очень дорогие заказы в данной группе, либо заказов стало очень много.\n",
    "    \n",
    "    \n",
    "В то же время график группы A равномерно увеличивается без резких скачков.\n",
    "</div>"
   ]
  },
  {
   "cell_type": "markdown",
   "metadata": {},
   "source": [
    "# 2. Постройте график кумулятивного среднего чека по группам. Сделайте выводы и предположения.\n"
   ]
  },
  {
   "cell_type": "code",
   "execution_count": 20,
   "metadata": {},
   "outputs": [
    {
     "data": {
      "text/plain": [
       "<matplotlib.legend.Legend at 0x7f5d2052f400>"
      ]
     },
     "execution_count": 20,
     "metadata": {},
     "output_type": "execute_result"
    },
    {
     "data": {
      "image/png": "[encoded data removed]",
      "text/plain": [
       "<Figure size 432x288 with 1 Axes>"
      ]
     },
     "metadata": {
      "needs_background": "light"
     },
     "output_type": "display_data"
    }
   ],
   "source": [
    "plt.plot(cumulativeRevenueA['date'], cumulativeRevenueA['revenue']/cumulativeRevenueA['orders'], label='A')\n",
    "plt.plot(cumulativeRevenueB['date'], cumulativeRevenueB['revenue']/cumulativeRevenueB['orders'], label='B')\n",
    "plt.title('График кумулятивного среднего чека по группам')\n",
    "plt.xlabel('Дата')\n",
    "plt.xticks(rotation=50)\n",
    "plt.legend() "
   ]
  },
  {
   "cell_type": "markdown",
   "metadata": {},
   "source": [
    "<p>\n",
    "<div class=\"alert-info\">\n",
    "<b>Комментарий студента</b>\n",
    "    \n",
    "Из графика можно увидеть рост среднего чека в обеих группах, однако для группы A этот рост закончился 13 августа и пошел на небольшой спад, далее в этой группе был равномерный график среднего чека.\n",
    "    \n",
    "В группе B видно как 18 августа средний чек очень сильно вырос. Предположительно что всё же график у группы B так сильно растёт из-за очень дорогих заказов.\n",
    "</div>"
   ]
  },
  {
   "cell_type": "markdown",
   "metadata": {},
   "source": [
    "# 3. Постройте график относительного изменения кумулятивного среднего чека группы B к группе A. Сделайте выводы и предположения.\n"
   ]
  },
  {
   "cell_type": "code",
   "execution_count": 21,
   "metadata": {},
   "outputs": [
    {
     "data": {
      "text/plain": [
       "(array([18109., 18113., 18117., 18121., 18125., 18129., 18133., 18137.,\n",
       "        18140.]),\n",
       " [Text(0, 0, ''),\n",
       "  Text(0, 0, ''),\n",
       "  Text(0, 0, ''),\n",
       "  Text(0, 0, ''),\n",
       "  Text(0, 0, ''),\n",
       "  Text(0, 0, ''),\n",
       "  Text(0, 0, ''),\n",
       "  Text(0, 0, ''),\n",
       "  Text(0, 0, '')])"
      ]
     },
     "execution_count": 21,
     "metadata": {},
     "output_type": "execute_result"
    },
    {
     "data": {
      "image/png": "[encoded data removed]",
      "text/plain": [
       "<Figure size 432x288 with 1 Axes>"
      ]
     },
     "metadata": {
      "needs_background": "light"
     },
     "output_type": "display_data"
    }
   ],
   "source": [
    "# собираем данные в одном датафрейме\n",
    "mergedCumulativeRevenue = cumulativeRevenueA.merge(\n",
    "    cumulativeRevenueB, \n",
    "    left_on='date', \n",
    "    right_on='date', \n",
    "    how='left', \n",
    "    suffixes=['A', 'B'])\n",
    "\n",
    "# cтроим отношение средних чеков\n",
    "plt.plot(mergedCumulativeRevenue['date']\n",
    "         , (mergedCumulativeRevenue['revenueB']/mergedCumulativeRevenue['ordersB'])\n",
    "         /(mergedCumulativeRevenue['revenueA']/mergedCumulativeRevenue['ordersA'])-1)\n",
    "\n",
    "# добавляем ось X\n",
    "plt.axhline(y=0, color='black', linestyle='--') \n",
    "plt.title('График относительного изменения кумулятивного среднего чека группы B к группе A')\n",
    "plt.xlabel('Дата')\n",
    "plt.xticks(rotation=50)"
   ]
  },
  {
   "cell_type": "markdown",
   "metadata": {},
   "source": [
    "<p>\n",
    "<div class=\"alert-info\">\n",
    "<b>Комментарий студента</b>\n",
    "    \n",
    "Видно как несколько раз график сильно подскочил  вверх, судя по всему в этот момент в группе B и были совершены крупные заказы.\n",
    "</div>"
   ]
  },
  {
   "cell_type": "markdown",
   "metadata": {},
   "source": [
    "# 4. Постройте график кумулятивного среднего количества заказов на посетителя по группам. Сделайте выводы и предположения.\n"
   ]
  },
  {
   "cell_type": "code",
   "execution_count": 22,
   "metadata": {},
   "outputs": [
    {
     "data": {
      "text/plain": [
       "<matplotlib.legend.Legend at 0x7f5d20420bb0>"
      ]
     },
     "execution_count": 22,
     "metadata": {},
     "output_type": "execute_result"
    },
    {
     "data": {
      "image/png": "[encoded data removed]",
      "text/plain": [
       "<Figure size 432x288 with 1 Axes>"
      ]
     },
     "metadata": {
      "needs_background": "light"
     },
     "output_type": "display_data"
    }
   ],
   "source": [
    "# считаем кумулятивную конверсию\n",
    "cumulativeData['conversion'] = cumulativeData['orders']/cumulativeData['visitors']\n",
    "\n",
    "# отделяем данные по группе A\n",
    "cumulativeDataA = cumulativeData[cumulativeData['group']=='A']\n",
    "\n",
    "# отделяем данные по группе B\n",
    "cumulativeDataB = cumulativeData[cumulativeData['group']=='B']\n",
    "\n",
    "# строим графики\n",
    "plt.plot(cumulativeDataA['date'], cumulativeDataA['conversion'], label='A')\n",
    "plt.plot(cumulativeDataB['date'], cumulativeDataB['conversion'], label='B')\n",
    "plt.title('График кумулятивного среднего количества заказов на посетителя по группам')\n",
    "plt.xlabel('Дата')\n",
    "plt.xticks(rotation=50)\n",
    "plt.legend()\n"
   ]
  },
  {
   "cell_type": "markdown",
   "metadata": {},
   "source": [
    "<p>\n",
    "<div class=\"alert-info\">\n",
    "<b>Комментарий студента</b>\n",
    "\n",
    "На графике можно увидеть что значения группы B сначала упали, а затем значительно поднялись и зафиксировались на одном значении. Аналогично у группы A, значения значала были высокими, а затем упали и зафиксировались на одном уровне.\n",
    "    \n",
    "Конверсия больше и лучше у группы B, чем у группы A.\n",
    "</div>"
   ]
  },
  {
   "cell_type": "markdown",
   "metadata": {},
   "source": [
    "# 5. Постройте график относительного изменения кумулятивного среднего количества заказов на посетителя группы B к группе A. Сделайте выводы и предположения.\n"
   ]
  },
  {
   "cell_type": "code",
   "execution_count": 23,
   "metadata": {},
   "outputs": [
    {
     "data": {
      "text/plain": [
       "<matplotlib.legend.Legend at 0x7f5d203b9bb0>"
      ]
     },
     "execution_count": 23,
     "metadata": {},
     "output_type": "execute_result"
    },
    {
     "data": {
      "image/png": "[encoded data removed]",
      "text/plain": [
       "<Figure size 432x288 with 1 Axes>"
      ]
     },
     "metadata": {
      "needs_background": "light"
     },
     "output_type": "display_data"
    }
   ],
   "source": [
    "mergedCumulativeConversions = cumulativeDataA[['date','conversion']].merge(cumulativeDataB[['date','conversion']],\n",
    "                                                                           left_on='date', \n",
    "                                                                           right_on='date', \n",
    "                                                                           how='left', \n",
    "                                                                           suffixes=['A', 'B'])\n",
    "\n",
    "\n",
    "plt.plot(mergedCumulativeConversions['date'], mergedCumulativeConversions['conversionB']/mergedCumulativeConversions['conversionA']-1,\n",
    "         label=\"Относительный прирост конверсии группы B относительно группы A\")\n",
    "plt.legend()\n",
    "\n",
    "plt.axhline(y=0, color='black', linestyle='--')\n",
    "plt.axhline(y=0.20, color='grey', linestyle='--')\n",
    "plt.title('График относительного изменения кумулятивного среднего количества заказов на посетителя группы B к группе A')\n",
    "plt.xlabel('Дата')\n",
    "plt.xticks(rotation=50)\n",
    "plt.legend()"
   ]
  },
  {
   "cell_type": "markdown",
   "metadata": {},
   "source": [
    "<p>\n",
    "<div class=\"alert-info\">\n",
    "<b>Комментарий студента</b>\n",
    "\n",
    "Группа B вначале теста проседала по сравнению с группой B и проигрывала ей по показателям. Однако начиная с 5 августа у группы B начался большой подъём и её конверсия росла.\n",
    "\n",
    "Из этих данных пока можно рассуждать о том, что группа B опережает группу A. Но на такие показатели так же могли влиять аномально большие заказы.\n",
    "</div>"
   ]
  },
  {
   "cell_type": "markdown",
   "metadata": {},
   "source": [
    "# 6. Постройте точечный график количества заказов по пользователям. Сделайте выводы и предположения.\n"
   ]
  },
  {
   "cell_type": "code",
   "execution_count": 24,
   "metadata": {},
   "outputs": [
    {
     "data": {
      "text/plain": [
       "Text(0, 0.5, 'Количество заказов')"
      ]
     },
     "execution_count": 24,
     "metadata": {},
     "output_type": "execute_result"
    },
    {
     "data": {
      "image/png": "[encoded data removed]",
      "text/plain": [
       "<Figure size 432x288 with 1 Axes>"
      ]
     },
     "metadata": {
      "needs_background": "light"
     },
     "output_type": "display_data"
    }
   ],
   "source": [
    "# одсчитаем количество заказов по пользователям\n",
    "ordersByUsers = (\n",
    "    orders.groupby('visitorid', as_index=False)\n",
    "    .agg({'transactionid': 'nunique'})\n",
    ")\n",
    "\n",
    "ordersByUsers.columns = ['visitorid', 'orders']\n",
    "\n",
    "x_values = pd.Series(range(0,len(ordersByUsers)))\n",
    "\n",
    "plt.scatter(x_values, ordersByUsers['orders']) \n",
    "plt.title('Точечный график количества заказов по пользователям')\n",
    "plt.ylabel('Количество заказов')"
   ]
  },
  {
   "cell_type": "markdown",
   "metadata": {},
   "source": [
    "<p>\n",
    "<div class=\"alert-info\">\n",
    "<b>Комментарий студента</b>\n",
    "\n",
    "Из точечного графика видно, что есть заказы превышающие 10. Видно что есть большая доля пользователей сделавших 2 заказа. Более двух заказов сделано крайне мало.\n",
    "    \n",
    "Для более точного анализа в долях по количеству заказов будет видно в следующем коде, где я проведу подсчёт перцентилей.\n",
    "</div>"
   ]
  },
  {
   "cell_type": "markdown",
   "metadata": {},
   "source": [
    "# 7. Посчитайте 95-й и 99-й перцентили количества заказов на пользователя. Выберите границу для определения аномальных пользователей.\n"
   ]
  },
  {
   "cell_type": "code",
   "execution_count": 25,
   "metadata": {},
   "outputs": [
    {
     "data": {
      "text/plain": [
       "array([2., 4.])"
      ]
     },
     "execution_count": 25,
     "metadata": {},
     "output_type": "execute_result"
    }
   ],
   "source": [
    "np.percentile(ordersByUsers['orders'], [95, 99])"
   ]
  },
  {
   "cell_type": "markdown",
   "metadata": {},
   "source": [
    "<p>\n",
    "<div class=\"alert-info\">\n",
    "<b>Комментарий студента</b>\n",
    "    \n",
    "Из полученных данных делаем вывод:\n",
    "\n",
    "- Не больше, чем 5% пользователей делали больше двух заказов.\n",
    "- Не больше, чем 1% пользователей делали больше четырёх заказов.\n",
    "    \n",
    "Разумно было бы выбрать 2 заказа на одного пользователя за верхнюю границу числа заказов и уже по ней отсеять аномальных пользователей.\n",
    "</div>"
   ]
  },
  {
   "cell_type": "markdown",
   "metadata": {},
   "source": [
    "# 8. Постройте точечный график стоимостей заказов. Сделайте выводы и предположения.\n"
   ]
  },
  {
   "cell_type": "code",
   "execution_count": 26,
   "metadata": {},
   "outputs": [
    {
     "data": {
      "text/plain": [
       "Text(0, 0.5, 'Стоимость заказов в млн.')"
      ]
     },
     "execution_count": 26,
     "metadata": {},
     "output_type": "execute_result"
    },
    {
     "data": {
      "image/png": "[encoded data removed]",
      "text/plain": [
       "<Figure size 432x288 with 1 Axes>"
      ]
     },
     "metadata": {
      "needs_background": "light"
     },
     "output_type": "display_data"
    }
   ],
   "source": [
    "x_values = pd.Series(range(0,len(orders['revenue'])))\n",
    "plt.scatter(x_values, orders['revenue']) \n",
    "plt.title('Точечный график стоимостей заказов')\n",
    "plt.ylabel('Стоимость заказов в млн.')"
   ]
  },
  {
   "cell_type": "markdown",
   "metadata": {},
   "source": [
    "<p>\n",
    "<div class=\"alert-info\">\n",
    "<b>Комментарий студента</b>\n",
    "\n",
    "В данном графике видно два аномально больших заказа, причем один даже очень большой и его стоимость выше 1 млн. Данный заказявляется более чем аномальным.\n",
    "</div>"
   ]
  },
  {
   "cell_type": "code",
   "execution_count": 27,
   "metadata": {},
   "outputs": [
    {
     "data": {
      "text/plain": [
       "(0.0, 220000.0)"
      ]
     },
     "execution_count": 27,
     "metadata": {},
     "output_type": "execute_result"
    },
    {
     "data": {
      "image/png": "[encoded data removed]",
      "text/plain": [
       "<Figure size 432x288 with 1 Axes>"
      ]
     },
     "metadata": {
      "needs_background": "light"
     },
     "output_type": "display_data"
    }
   ],
   "source": [
    "x_values = pd.Series(range(0,len(orders['revenue'])))\n",
    "plt.scatter(x_values, orders['revenue']) \n",
    "plt.title('Точечный график стоимостей заказов')\n",
    "plt.ylabel('Стоимость заказов в млн.')\n",
    "plt.ylim(0, 220000)"
   ]
  },
  {
   "cell_type": "markdown",
   "metadata": {},
   "source": [
    "<p>\n",
    "<div class=\"alert-info\">\n",
    "<b>Комментарий студента</b>\n",
    "\n",
    "Решил сделать немного более подробный график, ограничив его первым большим аномальным заказом в примерно 210000.\n",
    "    \n",
    "Из этого гграфика можно сделать дополнительные выводы, например что основная часть заказов по стоимости не превышает 25000, остальные заказы уже выглядят более аномальными.\n",
    "</div>"
   ]
  },
  {
   "cell_type": "markdown",
   "metadata": {},
   "source": [
    "# 9. Посчитайте 95-й и 99-й перцентили стоимости заказов. Выберите границу для определения аномальных заказов.\n"
   ]
  },
  {
   "cell_type": "code",
   "execution_count": 28,
   "metadata": {},
   "outputs": [
    {
     "data": {
      "text/plain": [
       "array([28000. , 58233.2])"
      ]
     },
     "execution_count": 28,
     "metadata": {},
     "output_type": "execute_result"
    }
   ],
   "source": [
    "np.percentile(orders['revenue'], [95, 99])"
   ]
  },
  {
   "cell_type": "markdown",
   "metadata": {},
   "source": [
    "<p>\n",
    "<div class=\"alert-info\">\n",
    "<b>Комментарий студента</b>\n",
    "\n",
    "Собственно, как я и приводил выше предположение, что основная часть заказов не превышает стоимостью 25000 имеет место быть.\n",
    "    \n",
    "Из анализа перцентелей можно сделать следующие выводы:\n",
    "- Не больше, чем 5% пользователей делали заказ дороже, чем 28000.\n",
    "- Не больше, чем 1% пользователей делали заказ дороже, чем 58233.\n",
    "    \n",
    "За верхнюю границу я бы предпочел взять 28000, так как всё что ниже 28000 тысяч выглядит как основная масса, а всё что выше, как аномалии.\n",
    "</div>"
   ]
  },
  {
   "cell_type": "markdown",
   "metadata": {},
   "source": [
    "# 10. Посчитайте статистическую значимость различий в среднем количестве заказов на посетителя между группами по «сырым» данным. Сделайте выводы и предположения.\n"
   ]
  },
  {
   "cell_type": "markdown",
   "metadata": {},
   "source": [
    "<p>\n",
    "<div class=\"alert-info\">\n",
    "<b>Комментарий студента</b>\n",
    "\n",
    "Ранее я определил следующее:\n",
    "- Оценил результаты A/B-теста визуально и выяснил, что в данных, скорее всего, есть выбросы\n",
    "- Увидел выбросы и нашёл границу для их определения.\n",
    "    \n",
    "Так же сразу сформулирую гипотезы:\n",
    "    \n",
    "- **Нулевая**: различий в среднем количестве заказов на посетителя между группами нет. \n",
    "- **Альтернативная**: различия в среднем количестве заказов на посетителя между группами есть.\n",
    "</div>"
   ]
  },
  {
   "cell_type": "code",
   "execution_count": 29,
   "metadata": {},
   "outputs": [
    {
     "data": {
      "text/html": [
       "<div>\n",
       "<style scoped>\n",
       "    .dataframe tbody tr th:only-of-type {\n",
       "        vertical-align: middle;\n",
       "    }\n",
       "\n",
       "    .dataframe tbody tr th {\n",
       "        vertical-align: top;\n",
       "    }\n",
       "\n",
       "    .dataframe thead th {\n",
       "        text-align: right;\n",
       "    }\n",
       "</style>\n",
       "<table border=\"1\" class=\"dataframe\">\n",
       "  <thead>\n",
       "    <tr style=\"text-align: right;\">\n",
       "      <th></th>\n",
       "      <th>date</th>\n",
       "      <th>ordersPerDateA</th>\n",
       "      <th>revenuePerDateA</th>\n",
       "      <th>ordersPerDateB</th>\n",
       "      <th>revenuePerDateB</th>\n",
       "      <th>ordersCummulativeA</th>\n",
       "      <th>revenueCummulativeA</th>\n",
       "      <th>ordersCummulativeB</th>\n",
       "      <th>revenueCummulativeB</th>\n",
       "      <th>visitorsPerDateA</th>\n",
       "      <th>visitorsPerDateB</th>\n",
       "      <th>visitorsCummulativeA</th>\n",
       "      <th>visitorsCummulativeB</th>\n",
       "    </tr>\n",
       "  </thead>\n",
       "  <tbody>\n",
       "    <tr>\n",
       "      <th>0</th>\n",
       "      <td>2019-08-01</td>\n",
       "      <td>24</td>\n",
       "      <td>148579</td>\n",
       "      <td>21</td>\n",
       "      <td>101217</td>\n",
       "      <td>24</td>\n",
       "      <td>148579</td>\n",
       "      <td>21</td>\n",
       "      <td>101217</td>\n",
       "      <td>719</td>\n",
       "      <td>713</td>\n",
       "      <td>719</td>\n",
       "      <td>713</td>\n",
       "    </tr>\n",
       "    <tr>\n",
       "      <th>1</th>\n",
       "      <td>2019-08-02</td>\n",
       "      <td>20</td>\n",
       "      <td>93822</td>\n",
       "      <td>24</td>\n",
       "      <td>165531</td>\n",
       "      <td>44</td>\n",
       "      <td>242401</td>\n",
       "      <td>45</td>\n",
       "      <td>266748</td>\n",
       "      <td>619</td>\n",
       "      <td>581</td>\n",
       "      <td>1338</td>\n",
       "      <td>1294</td>\n",
       "    </tr>\n",
       "    <tr>\n",
       "      <th>2</th>\n",
       "      <td>2019-08-03</td>\n",
       "      <td>24</td>\n",
       "      <td>112473</td>\n",
       "      <td>16</td>\n",
       "      <td>114248</td>\n",
       "      <td>68</td>\n",
       "      <td>354874</td>\n",
       "      <td>61</td>\n",
       "      <td>380996</td>\n",
       "      <td>507</td>\n",
       "      <td>509</td>\n",
       "      <td>1845</td>\n",
       "      <td>1803</td>\n",
       "    </tr>\n",
       "    <tr>\n",
       "      <th>3</th>\n",
       "      <td>2019-08-04</td>\n",
       "      <td>16</td>\n",
       "      <td>70825</td>\n",
       "      <td>17</td>\n",
       "      <td>108571</td>\n",
       "      <td>84</td>\n",
       "      <td>425699</td>\n",
       "      <td>78</td>\n",
       "      <td>489567</td>\n",
       "      <td>717</td>\n",
       "      <td>770</td>\n",
       "      <td>2562</td>\n",
       "      <td>2573</td>\n",
       "    </tr>\n",
       "    <tr>\n",
       "      <th>4</th>\n",
       "      <td>2019-08-05</td>\n",
       "      <td>25</td>\n",
       "      <td>124218</td>\n",
       "      <td>23</td>\n",
       "      <td>92428</td>\n",
       "      <td>109</td>\n",
       "      <td>549917</td>\n",
       "      <td>101</td>\n",
       "      <td>581995</td>\n",
       "      <td>756</td>\n",
       "      <td>707</td>\n",
       "      <td>3318</td>\n",
       "      <td>3280</td>\n",
       "    </tr>\n",
       "  </tbody>\n",
       "</table>\n",
       "</div>"
      ],
      "text/plain": [
       "        date  ordersPerDateA  revenuePerDateA  ordersPerDateB  \\\n",
       "0 2019-08-01              24           148579              21   \n",
       "1 2019-08-02              20            93822              24   \n",
       "2 2019-08-03              24           112473              16   \n",
       "3 2019-08-04              16            70825              17   \n",
       "4 2019-08-05              25           124218              23   \n",
       "\n",
       "   revenuePerDateB  ordersCummulativeA  revenueCummulativeA  \\\n",
       "0           101217                  24               148579   \n",
       "1           165531                  44               242401   \n",
       "2           114248                  68               354874   \n",
       "3           108571                  84               425699   \n",
       "4            92428                 109               549917   \n",
       "\n",
       "   ordersCummulativeB  revenueCummulativeB  visitorsPerDateA  \\\n",
       "0                  21               101217               719   \n",
       "1                  45               266748               619   \n",
       "2                  61               380996               507   \n",
       "3                  78               489567               717   \n",
       "4                 101               581995               756   \n",
       "\n",
       "   visitorsPerDateB  visitorsCummulativeA  visitorsCummulativeB  \n",
       "0               713                   719                   713  \n",
       "1               581                  1338                  1294  \n",
       "2               509                  1845                  1803  \n",
       "3               770                  2562                  2573  \n",
       "4               707                  3318                  3280  "
      ]
     },
     "execution_count": 29,
     "metadata": {},
     "output_type": "execute_result"
    }
   ],
   "source": [
    "# Подготовка данных\n",
    "\n",
    "visitorsADaily = visitors[visitors['group'] == 'A'][['date', 'visitors']]\n",
    "visitorsADaily.columns = ['date', 'visitorsPerDateA']\n",
    "\n",
    "visitorsACummulative = visitorsADaily.apply(\n",
    "    lambda x: visitorsADaily[visitorsADaily['date'] <= x['date']].agg(\n",
    "        {'date': 'max', 'visitorsPerDateA': 'sum'}\n",
    "    ),\n",
    "    axis=1,\n",
    ")\n",
    "visitorsACummulative.columns = ['date', 'visitorsCummulativeA']\n",
    "\n",
    "visitorsBDaily = visitors[visitors['group'] == 'B'][['date', 'visitors']]\n",
    "visitorsBDaily.columns = ['date', 'visitorsPerDateB']\n",
    "\n",
    "visitorsBCummulative = visitorsBDaily.apply(\n",
    "    lambda x: visitorsBDaily[visitorsBDaily['date'] <= x['date']].agg(\n",
    "        {'date': 'max', 'visitorsPerDateB': 'sum'}\n",
    "    ),\n",
    "    axis=1,\n",
    ")\n",
    "visitorsBCummulative.columns = ['date', 'visitorsCummulativeB']\n",
    "\n",
    "ordersADaily = (\n",
    "    orders[orders['group'] == 'A'][['date', 'transactionid', 'visitorid', 'revenue']]\n",
    "    .groupby('date', as_index=False)\n",
    "    .agg({'transactionid': pd.Series.nunique, 'revenue': 'sum'})\n",
    ")\n",
    "ordersADaily.columns = ['date', 'ordersPerDateA', 'revenuePerDateA']\n",
    "\n",
    "ordersACummulative = ordersADaily.apply(\n",
    "    lambda x: ordersADaily[ordersADaily['date'] <= x['date']].agg(\n",
    "        {'date': 'max', 'ordersPerDateA': 'sum', 'revenuePerDateA': 'sum'}\n",
    "    ),\n",
    "    axis=1,\n",
    ").sort_values(by=['date'])\n",
    "ordersACummulative.columns = [\n",
    "    'date',\n",
    "    'ordersCummulativeA',\n",
    "    'revenueCummulativeA',\n",
    "]\n",
    "\n",
    "ordersBDaily = (\n",
    "    orders[orders['group'] == 'B'][['date', 'transactionid', 'visitorid', 'revenue']]\n",
    "    .groupby('date', as_index=False)\n",
    "    .agg({'transactionid': pd.Series.nunique, 'revenue': 'sum'})\n",
    ")\n",
    "ordersBDaily.columns = ['date', 'ordersPerDateB', 'revenuePerDateB']\n",
    "\n",
    "ordersBCummulative = ordersBDaily.apply(\n",
    "    lambda x: ordersBDaily[ordersBDaily['date'] <= x['date']].agg(\n",
    "        {'date': 'max', 'ordersPerDateB': 'sum', 'revenuePerDateB': 'sum'}\n",
    "    ),\n",
    "    axis=1,\n",
    ").sort_values(by=['date'])\n",
    "ordersBCummulative.columns = [\n",
    "    'date',\n",
    "    'ordersCummulativeB',\n",
    "    'revenueCummulativeB',\n",
    "]\n",
    "\n",
    "data = (\n",
    "    ordersADaily.merge(\n",
    "        ordersBDaily, left_on='date', right_on='date', how='left'\n",
    "    )\n",
    "    .merge(ordersACummulative, left_on='date', right_on='date', how='left')\n",
    "    .merge(ordersBCummulative, left_on='date', right_on='date', how='left')\n",
    "    .merge(visitorsADaily, left_on='date', right_on='date', how='left')\n",
    "    .merge(visitorsBDaily, left_on='date', right_on='date', how='left')\n",
    "    .merge(visitorsACummulative, left_on='date', right_on='date', how='left')\n",
    "    .merge(visitorsBCummulative, left_on='date', right_on='date', how='left')\n",
    ")\n",
    "\n",
    "data.head(5)"
   ]
  },
  {
   "cell_type": "markdown",
   "metadata": {},
   "source": [
    "<p>\n",
    "<div class=\"alert-info\">\n",
    "<b>Комментарий студента</b>\n",
    "\n",
    "Создам переменные `ordersByUsersA` и `ordersByUsersB` со столбцами ['userId', 'orders']. В них для пользователей, которые заказывали хотя бы 1 раз, укажем число совершённых заказов. \n",
    "</div>\n",
    "\n"
   ]
  },
  {
   "cell_type": "code",
   "execution_count": 30,
   "metadata": {},
   "outputs": [],
   "source": [
    "ordersByUsersA = (\n",
    "    orders[orders['group'] == 'A']\n",
    "    .groupby('visitorid', as_index=False)\n",
    "    .agg({'transactionid': pd.Series.nunique})\n",
    ")\n",
    "ordersByUsersA.columns = ['userId', 'orders']\n",
    "\n",
    "ordersByUsersB = (\n",
    "    orders[orders['group'] == 'B']\n",
    "    .groupby('visitorid', as_index=False)\n",
    "    .agg({'transactionid': pd.Series.nunique})\n",
    ")\n",
    "ordersByUsersB.columns = ['userId', 'orders'] "
   ]
  },
  {
   "cell_type": "markdown",
   "metadata": {},
   "source": [
    "<p>\n",
    "<div class=\"alert-info\">\n",
    "<b>Комментарий студента</b>\n",
    "\n",
    "Объявим переменные `sampleA` и `sampleB`, в которых пользователям из разных групп будет соответствовать количество заказов. Тем, кто ничего не заказал, будут соответствовать нули. Это нужно, чтобы подготовить выборки к проверке критерием Манна-Уитни.\n",
    "</div>"
   ]
  },
  {
   "cell_type": "code",
   "execution_count": 31,
   "metadata": {},
   "outputs": [],
   "source": [
    "sampleA = pd.concat([ordersByUsersA['orders'],pd.Series(0, index=np.arange(data['visitorsPerDateA'].sum() - len(ordersByUsersA['orders'])), name='orders')],axis=0)\n",
    "\n",
    "sampleB = pd.concat([ordersByUsersB['orders'],pd.Series(0, index=np.arange(data['visitorsPerDateB'].sum() - len(ordersByUsersB['orders'])), name='orders')],axis=0)"
   ]
  },
  {
   "cell_type": "code",
   "execution_count": 32,
   "metadata": {},
   "outputs": [
    {
     "name": "stdout",
     "output_type": "stream",
     "text": [
      "0.017\n",
      "0.138\n"
     ]
    }
   ],
   "source": [
    "# Выведем относительный прирост среднего числа заказов группы B: среднее число заказов группы B / среднее число заказов группы A - 1.  Округлим до трёх знаков после запятой.\n",
    "\n",
    "print(\"{0:.3f}\".format(st.mannwhitneyu(sampleA, sampleB)[1]))\n",
    "\n",
    "print(\"{0:.3f}\".format(sampleB.mean() / sampleA.mean() - 1))\n",
    "\n",
    "\n"
   ]
  },
  {
   "cell_type": "markdown",
   "metadata": {},
   "source": [
    "<p>\n",
    "<div class=\"alert-info\">\n",
    "<b>Комментарий студента</b>\n",
    "\n",
    "Первое получившиеся число это p-value и оно равно 0.017, что значительно меньше чем 0.05.\n",
    "\n",
    "В таком случае нулевую гипотезу о том, что различий в среднем количестве заказов на посетителя между группами нет - отвергаем.\n",
    "    \n",
    "Второе число - относительный прирост группы B к группе A и он равен 13.8%\n",
    "</div>"
   ]
  },
  {
   "cell_type": "code",
   "execution_count": 33,
   "metadata": {},
   "outputs": [
    {
     "name": "stdout",
     "output_type": "stream",
     "text": [
      "Относительно изменение конверсии: 13.8%\n"
     ]
    }
   ],
   "source": [
    "#CODE REVIEW\n",
    "print(f\"Относительно изменение конверсии: {sampleB.mean() / sampleA.mean() - 1:.1%}\")\n"
   ]
  },
  {
   "cell_type": "code",
   "execution_count": 34,
   "metadata": {},
   "outputs": [
    {
     "name": "stdout",
     "output_type": "stream",
     "text": [
      "P-value: 0.017\n",
      "Относительно изменение конверсии: 13.8%\n"
     ]
    }
   ],
   "source": [
    "print(f\"P-value: {st.mannwhitneyu(sampleA, sampleB)[1]:.2}\")\n",
    "print(f\"Относительно изменение конверсии: {sampleB.mean() / sampleA.mean() - 1:.1%}\")"
   ]
  },
  {
   "cell_type": "markdown",
   "metadata": {},
   "source": [
    "<hr style=\"border: 2px solid orange;\" />"
   ]
  },
  {
   "cell_type": "markdown",
   "metadata": {},
   "source": [
    "# 11. Посчитайте статистическую значимость различий в среднем чеке заказа между группами по «сырым» данным. Сделайте выводы и предположения.\n"
   ]
  },
  {
   "cell_type": "markdown",
   "metadata": {},
   "source": [
    "<p>\n",
    "<div class=\"alert-info\">\n",
    "<b>Комментарий студента</b>\n",
    "\n",
    "Сразу сформулирую гипотезы:\n",
    "    \n",
    "- **Нулевая**: различий в среднем чеке заказа между группами нет. \n",
    "- **Альтернативная**: различия в среднем чеке заказа между группами есть.\n",
    "</div>"
   ]
  },
  {
   "cell_type": "markdown",
   "metadata": {},
   "source": [
    "<div style=\"border-radius: 15px; box-shadow: 4px 4px 4px; border: solid green 2px; padding: 20px\"> <b>Отличная работа</b><br>\n",
    "Гипотезы сформулированы верно ✅</div> <br>"
   ]
  },
  {
   "cell_type": "code",
   "execution_count": 35,
   "metadata": {},
   "outputs": [
    {
     "name": "stdout",
     "output_type": "stream",
     "text": [
      "0.729\n",
      "0.259\n"
     ]
    }
   ],
   "source": [
    "print('{0:.3f}'.format(st.mannwhitneyu(orders[orders['group']=='A']['revenue'], orders[orders['group']=='B']['revenue'])[1]))\n",
    "print('{0:.3f}'.format(orders[orders['group']=='B']['revenue'].mean()/orders[orders['group']=='A']['revenue'].mean()-1)) "
   ]
  },
  {
   "cell_type": "markdown",
   "metadata": {},
   "source": [
    "<p>\n",
    "<div class=\"alert-info\">\n",
    "<b>Комментарий студента</b>\n",
    " \n",
    "P-value равно 0.729 и значительно больше 0.05. Значит, причин отвергать нулевую гипотезу и считать, что в среднем чеке есть различия, нет. \n",
    "    \n",
    "Второе число - относительный прирост группы B к группе A и он равен 25.9%\n",
    "</div>\n",
    "\n"
   ]
  },
  {
   "cell_type": "code",
   "execution_count": 36,
   "metadata": {},
   "outputs": [
    {
     "name": "stdout",
     "output_type": "stream",
     "text": [
      "P-value: 0.729\n",
      "Относительно изменение конверсии: 25.9%\n"
     ]
    }
   ],
   "source": [
    "print(f\"P-value: {st.mannwhitneyu(orders[orders['group']=='A']['revenue'], orders[orders['group']=='B']['revenue'])[1]:.3}\")\n",
    "print(f\"Относительно изменение конверсии: {orders[orders['group']=='B']['revenue'].mean()/orders[orders['group']=='A']['revenue'].mean()-1:.1%}\")"
   ]
  },
  {
   "cell_type": "markdown",
   "metadata": {},
   "source": [
    "# 12. Посчитайте статистическую значимость различий в среднем количестве заказов на посетителя между группами по «очищенным» данным. Сделайте выводы и предположения.\n"
   ]
  },
  {
   "cell_type": "code",
   "execution_count": 37,
   "metadata": {},
   "outputs": [
    {
     "name": "stdout",
     "output_type": "stream",
     "text": [
      "1099    148427295\n",
      "18      199603092\n",
      "928     204675465\n",
      "23      237748145\n",
      "37      249864742\n",
      "dtype: int64\n",
      "74\n"
     ]
    }
   ],
   "source": [
    "# Узнаем, сколько всего аномальных пользователей атрибутом shape.\n",
    "\n",
    "usersWithManyOrders = pd.concat(\n",
    "    [\n",
    "        ordersByUsersA[ordersByUsersA['orders'] > 2]['userId'],\n",
    "        ordersByUsersB[ordersByUsersB['orders'] > 2]['userId'],\n",
    "    ],\n",
    "    axis=0,\n",
    ")\n",
    "usersWithExpensiveOrders = orders[orders['revenue'] > 28000]['visitorid']\n",
    "abnormalUsers = (\n",
    "    pd.concat([usersWithManyOrders, usersWithExpensiveOrders], axis=0)\n",
    "    .drop_duplicates()\n",
    "    .sort_values()\n",
    ")\n",
    "print(abnormalUsers.head(5))\n",
    "print(abnormalUsers.shape[0]) "
   ]
  },
  {
   "cell_type": "markdown",
   "metadata": {},
   "source": [
    "<p>\n",
    "<div class=\"alert-info\">\n",
    "<b>Комментарий студента</b>\n",
    " \n",
    "Всего 74 аномальных пользователя. \n",
    "\n",
    "Узнаем, как их действия повлияли на результаты теста. Посчитаем статистическую значимость различий в среднем количестве заказов между группами теста по очищенным данным. Сначала подготовим выборки количества заказов по пользователям по группам теста.\n",
    "</div>\n",
    "\n"
   ]
  },
  {
   "cell_type": "code",
   "execution_count": 39,
   "metadata": {},
   "outputs": [],
   "source": [
    "sampleAFiltered = pd.concat(\n",
    "    [\n",
    "        ordersByUsersA[\n",
    "            np.logical_not(ordersByUsersA['userId'].isin(abnormalUsers))\n",
    "        ]['orders'],\n",
    "        pd.Series(\n",
    "            0,\n",
    "            index=np.arange(\n",
    "                data['visitorsPerDateA'].sum() - len(ordersByUsersA['orders'])\n",
    "            ),\n",
    "            name='orders',\n",
    "        ),\n",
    "    ],\n",
    "    axis=0,\n",
    ")\n",
    "\n",
    "sampleBFiltered = pd.concat(\n",
    "    [\n",
    "        ordersByUsersB[\n",
    "            np.logical_not(ordersByUsersB['userId'].isin(abnormalUsers))\n",
    "        ]['orders'],\n",
    "        pd.Series(\n",
    "            0,\n",
    "            index=np.arange(\n",
    "                data['visitorsPerDateB'].sum() - len(ordersByUsersB['orders'])\n",
    "            ),\n",
    "            name='orders',\n",
    "        ),\n",
    "    ],\n",
    "    axis=0,\n",
    ") "
   ]
  },
  {
   "cell_type": "code",
   "execution_count": 40,
   "metadata": {},
   "outputs": [
    {
     "name": "stdout",
     "output_type": "stream",
     "text": [
      "0.013\n",
      "0.173\n"
     ]
    }
   ],
   "source": [
    "print('{0:.3f}'.format(st.mannwhitneyu(sampleAFiltered, sampleBFiltered)[1]))\n",
    "print('{0:.3f}'.format(sampleBFiltered.mean()/sampleAFiltered.mean()-1)) "
   ]
  },
  {
   "cell_type": "markdown",
   "metadata": {},
   "source": [
    "<p>\n",
    "<div class=\"alert-info\">\n",
    "<b>Комментарий студента</b>\n",
    " \n",
    "Сделав анализ с чистыми данными получил следующие данные.\n",
    "    \n",
    "P-value равен 0.013 и меньше чем 0.05, а значит нулевая гипотеза отвергнута.\n",
    "    \n",
    "У группы B в очередной раз показатели лучше, на этот раз прирост на 17.3%\n",
    "</div>\n",
    "\n"
   ]
  },
  {
   "cell_type": "code",
   "execution_count": 41,
   "metadata": {},
   "outputs": [
    {
     "name": "stdout",
     "output_type": "stream",
     "text": [
      "P-value: 0.013\n",
      "Относительно изменение конверсии: 17.3%\n"
     ]
    }
   ],
   "source": [
    "print(f\"P-value: {st.mannwhitneyu(sampleAFiltered, sampleBFiltered)[1]:.3}\")\n",
    "print(f\"Относительно изменение конверсии: {sampleBFiltered.mean()/sampleAFiltered.mean()-1:.1%}\")"
   ]
  },
  {
   "cell_type": "markdown",
   "metadata": {},
   "source": [
    "# 13. Посчитайте статистическую значимость различий в среднем чеке заказа между группами по «очищенным» данным. Сделайте выводы и предположения.\n"
   ]
  },
  {
   "cell_type": "code",
   "execution_count": 42,
   "metadata": {},
   "outputs": [
    {
     "name": "stdout",
     "output_type": "stream",
     "text": [
      "0.738\n",
      "-0.020\n"
     ]
    }
   ],
   "source": [
    "print(\n",
    "    '{0:.3f}'.format(\n",
    "        st.mannwhitneyu(\n",
    "            orders[\n",
    "                np.logical_and(\n",
    "                    orders['group'] == 'A',\n",
    "                    np.logical_not(orders['visitorid'].isin(abnormalUsers)),\n",
    "                )\n",
    "            ]['revenue'],\n",
    "            orders[\n",
    "                np.logical_and(\n",
    "                    orders['group'] == 'B',\n",
    "                    np.logical_not(orders['visitorid'].isin(abnormalUsers)),\n",
    "                )\n",
    "            ]['revenue'],\n",
    "        )[1]\n",
    "    )\n",
    ")\n",
    "\n",
    "print(\n",
    "    \"{0:.3f}\".format(\n",
    "        orders[\n",
    "            np.logical_and(\n",
    "                orders['group'] == 'B',\n",
    "                np.logical_not(orders['visitorid'].isin(abnormalUsers)),\n",
    "            )\n",
    "        ]['revenue'].mean()\n",
    "        / orders[\n",
    "            np.logical_and(\n",
    "                orders['group'] == 'A',\n",
    "                np.logical_not(orders['visitorid'].isin(abnormalUsers)),\n",
    "            )\n",
    "        ]['revenue'].mean()\n",
    "        - 1\n",
    "    )\n",
    ") "
   ]
  },
  {
   "cell_type": "markdown",
   "metadata": {},
   "source": [
    "<p>\n",
    "<div class=\"alert-info\">\n",
    "<b>Комментарий студента</b>\n",
    " \n",
    "Сделав анализ с чистыми данными в среднем чеке получил следующие данные.\n",
    "    \n",
    "P-value равен 0.738, на 0.009 выше чем с данными без очистки, поэтому различие не особо большое.\n",
    "    \n",
    "P-value больше чем 0.05, а значит нулевую гипотезу отвергнуть не можем.\n",
    "    \n",
    "После очистки данных от аномальных значений можно увидеть, что в результате анализа показатель у группы B в среднем чеке стал впервые ниже, чем у группы A на 2%. Нельзя сказать что он критически низок, скорее у обеих групп показатели стали почти равны.\n",
    "</div>\n",
    "\n"
   ]
  },
  {
   "cell_type": "markdown",
   "metadata": {},
   "source": [
    "# 14. Примите решение по результатам теста и объясните его.\n",
    "# Вывод.\n"
   ]
  },
  {
   "cell_type": "markdown",
   "metadata": {},
   "source": [
    "<p>\n",
    "<div class=\"alert-info\">\n",
    "<b>Комментарий студента</b>\n",
    "\n",
    "Проведя данный тест я пришел с нескольким выводам.\n",
    "\n",
    "В первой части я выбрал гипотезу исходя из того, что у RICE есть показатель Reach, который отвечает за то, скольких пользователей затронет данная гипотеза. В нашем случае гипотеза №7 оказалась приоритетнее остальных.\n",
    "    \n",
    "Во второй части был уже более глубокий анализ и тест, на нём остановлюсь поподробнее.\n",
    "    \n",
    "График различий в среднем количестве заказов на посетителя между группами стабильно указывал на превосходство группы B перед группой A. Но при этом график так же имеет большие скачки, что навело на мысли об аномалиях в группе.\n",
    "    \n",
    "Собсвтенно проведя анализ эти аномалии были найдены, две особо крупные аномалии у группы B были заказы с примерной стоимостью 200000 и больше чем 1 млн.\n",
    "    \n",
    "К концу теста проверил статистическую значимость различий как в среднем количестве заказов на посетителя между группами, так и по среднему чеку. Проводил данный тест с сырыми данными и с очищенными данными.\n",
    "    \n",
    "Каждый раз при любом раскладе группа B всегда являлась лидером с приростом  по отношению к группе A. Но лишь единожды по статистической значимости различий в среднем чеке заказа между группами по «очищенным» данным у группы B показатели оказались хуже на 2%, чем у группы A, что не является особо критичным показателем, так как группы можно скзаать сравнялись.\n",
    "    \n",
    "Как итог из всего анализа могу подвести к следующему:\n",
    "    \n",
    "Необходимо выбрать первый вариант решения из предложенных, а то есть 'Остановить тест, зафиксировать победу одной из групп'.\n",
    "    \n",
    "В данном тесте исходя из полученных результато фиксирую победу группы B, так как она каждый раз имела лучшие результаты, нежели группа A до и после очистки данных.\n",
    "</div>\n",
    "\n"
   ]
  },
  {
   "cell_type": "code",
   "execution_count": null,
   "metadata": {},
   "outputs": [],
   "source": []
  }
 ],
 "metadata": {
  "ExecuteTimeLog": [
   {
    "duration": 1266,
    "start_time": "2023-04-19T22:04:32.957Z"
   },
   {
    "duration": 66,
    "start_time": "2023-04-19T22:07:40.996Z"
   },
   {
    "duration": 262,
    "start_time": "2023-04-19T22:08:31.633Z"
   },
   {
    "duration": 19,
    "start_time": "2023-04-19T22:09:37.510Z"
   },
   {
    "duration": 15,
    "start_time": "2023-04-19T22:10:32.126Z"
   },
   {
    "duration": 15,
    "start_time": "2023-04-19T22:10:32.807Z"
   },
   {
    "duration": 120,
    "start_time": "2023-04-19T22:14:33.016Z"
   },
   {
    "duration": 4,
    "start_time": "2023-04-19T22:14:57.862Z"
   },
   {
    "duration": 24,
    "start_time": "2023-04-19T22:15:30.614Z"
   },
   {
    "duration": 4,
    "start_time": "2023-04-19T22:15:33.311Z"
   },
   {
    "duration": 69,
    "start_time": "2023-04-19T22:16:29.553Z"
   },
   {
    "duration": 10,
    "start_time": "2023-04-19T22:17:44.716Z"
   },
   {
    "duration": 41,
    "start_time": "2023-04-19T22:18:03.768Z"
   },
   {
    "duration": 9,
    "start_time": "2023-04-19T22:20:35.834Z"
   },
   {
    "duration": 9,
    "start_time": "2023-04-19T22:21:48.848Z"
   },
   {
    "duration": 10,
    "start_time": "2023-04-19T22:21:53.737Z"
   },
   {
    "duration": 114,
    "start_time": "2023-04-19T22:22:58.719Z"
   },
   {
    "duration": 91,
    "start_time": "2023-04-19T22:23:02.942Z"
   },
   {
    "duration": 95,
    "start_time": "2023-04-19T22:23:15.236Z"
   },
   {
    "duration": 21,
    "start_time": "2023-04-19T22:23:53.669Z"
   },
   {
    "duration": 17,
    "start_time": "2023-04-19T22:26:16.400Z"
   },
   {
    "duration": 29,
    "start_time": "2023-04-19T22:34:05.108Z"
   },
   {
    "duration": 42,
    "start_time": "2023-04-19T22:41:17.736Z"
   },
   {
    "duration": 6,
    "start_time": "2023-04-19T22:45:15.817Z"
   },
   {
    "duration": 1173,
    "start_time": "2023-04-19T22:45:23.458Z"
   },
   {
    "duration": 106,
    "start_time": "2023-04-19T22:45:24.634Z"
   },
   {
    "duration": 28,
    "start_time": "2023-04-19T22:45:24.743Z"
   },
   {
    "duration": 53,
    "start_time": "2023-04-19T22:45:24.779Z"
   },
   {
    "duration": 15,
    "start_time": "2023-04-19T22:45:24.834Z"
   },
   {
    "duration": 11,
    "start_time": "2023-04-19T22:45:24.850Z"
   },
   {
    "duration": 30,
    "start_time": "2023-04-19T22:45:24.863Z"
   },
   {
    "duration": 107,
    "start_time": "2023-04-19T22:45:24.895Z"
   },
   {
    "duration": 7,
    "start_time": "2023-04-19T22:45:25.004Z"
   },
   {
    "duration": 33,
    "start_time": "2023-04-19T22:45:25.013Z"
   },
   {
    "duration": 8,
    "start_time": "2023-04-19T22:45:25.048Z"
   },
   {
    "duration": 55,
    "start_time": "2023-04-19T22:45:25.058Z"
   },
   {
    "duration": 24,
    "start_time": "2023-04-19T22:45:25.115Z"
   },
   {
    "duration": 26,
    "start_time": "2023-04-19T22:45:25.141Z"
   },
   {
    "duration": 54,
    "start_time": "2023-04-19T22:45:25.168Z"
   },
   {
    "duration": 7,
    "start_time": "2023-04-19T22:45:25.224Z"
   },
   {
    "duration": 89,
    "start_time": "2023-04-19T22:49:11.763Z"
   },
   {
    "duration": 219,
    "start_time": "2023-04-19T22:49:19.222Z"
   },
   {
    "duration": 111,
    "start_time": "2023-04-19T22:49:35.849Z"
   },
   {
    "duration": 202,
    "start_time": "2023-04-19T22:53:31.719Z"
   },
   {
    "duration": 401,
    "start_time": "2023-04-19T22:55:12.661Z"
   },
   {
    "duration": 436,
    "start_time": "2023-04-19T22:55:43.567Z"
   },
   {
    "duration": 445,
    "start_time": "2023-04-19T22:58:06.816Z"
   },
   {
    "duration": 382,
    "start_time": "2023-04-19T22:59:00.123Z"
   },
   {
    "duration": 243,
    "start_time": "2023-04-19T23:01:56.518Z"
   },
   {
    "duration": 304,
    "start_time": "2023-04-19T23:02:20.264Z"
   },
   {
    "duration": 196,
    "start_time": "2023-04-19T23:02:24.438Z"
   },
   {
    "duration": 236,
    "start_time": "2023-04-19T23:02:32.849Z"
   },
   {
    "duration": 542,
    "start_time": "2023-04-19T23:03:15.715Z"
   },
   {
    "duration": 263,
    "start_time": "2023-04-19T23:03:26.720Z"
   },
   {
    "duration": 362,
    "start_time": "2023-04-19T23:03:41.447Z"
   },
   {
    "duration": 261,
    "start_time": "2023-04-19T23:03:50.636Z"
   },
   {
    "duration": 268,
    "start_time": "2023-04-19T23:04:52.045Z"
   },
   {
    "duration": 223,
    "start_time": "2023-04-19T23:04:57.453Z"
   },
   {
    "duration": 261,
    "start_time": "2023-04-19T23:05:03.035Z"
   },
   {
    "duration": 292,
    "start_time": "2023-04-19T23:10:51.944Z"
   },
   {
    "duration": 274,
    "start_time": "2023-04-19T23:11:03.735Z"
   },
   {
    "duration": 304,
    "start_time": "2023-04-19T23:11:22.749Z"
   },
   {
    "duration": 1404,
    "start_time": "2023-04-20T21:19:12.454Z"
   },
   {
    "duration": 207,
    "start_time": "2023-04-20T21:19:13.860Z"
   },
   {
    "duration": 28,
    "start_time": "2023-04-20T21:19:14.071Z"
   },
   {
    "duration": 17,
    "start_time": "2023-04-20T21:19:14.102Z"
   },
   {
    "duration": 18,
    "start_time": "2023-04-20T21:19:14.121Z"
   },
   {
    "duration": 4,
    "start_time": "2023-04-20T21:19:14.140Z"
   },
   {
    "duration": 53,
    "start_time": "2023-04-20T21:19:14.146Z"
   },
   {
    "duration": 39,
    "start_time": "2023-04-20T21:19:14.201Z"
   },
   {
    "duration": 6,
    "start_time": "2023-04-20T21:19:14.242Z"
   },
   {
    "duration": 59,
    "start_time": "2023-04-20T21:19:14.250Z"
   },
   {
    "duration": 9,
    "start_time": "2023-04-20T21:19:14.311Z"
   },
   {
    "duration": 14,
    "start_time": "2023-04-20T21:19:14.322Z"
   },
   {
    "duration": 13,
    "start_time": "2023-04-20T21:19:14.338Z"
   },
   {
    "duration": 11,
    "start_time": "2023-04-20T21:19:14.389Z"
   },
   {
    "duration": 20,
    "start_time": "2023-04-20T21:19:14.402Z"
   },
   {
    "duration": 9,
    "start_time": "2023-04-20T21:19:14.424Z"
   },
   {
    "duration": 345,
    "start_time": "2023-04-20T21:19:14.435Z"
   },
   {
    "duration": 311,
    "start_time": "2023-04-20T21:19:14.782Z"
   },
   {
    "duration": 210,
    "start_time": "2023-04-20T21:19:15.095Z"
   },
   {
    "duration": 305,
    "start_time": "2023-04-20T21:24:15.118Z"
   },
   {
    "duration": 333,
    "start_time": "2023-04-20T21:24:35.179Z"
   },
   {
    "duration": 316,
    "start_time": "2023-04-20T21:24:50.917Z"
   },
   {
    "duration": 335,
    "start_time": "2023-04-20T21:24:56.787Z"
   },
   {
    "duration": 400,
    "start_time": "2023-04-20T21:38:50.092Z"
   },
   {
    "duration": 241,
    "start_time": "2023-04-20T21:39:25.634Z"
   },
   {
    "duration": 301,
    "start_time": "2023-04-20T21:39:57.888Z"
   },
   {
    "duration": 243,
    "start_time": "2023-04-20T21:40:13.499Z"
   },
   {
    "duration": 262,
    "start_time": "2023-04-20T21:40:28.501Z"
   },
   {
    "duration": 229,
    "start_time": "2023-04-20T21:40:46.852Z"
   },
   {
    "duration": 379,
    "start_time": "2023-04-20T21:55:16.979Z"
   },
   {
    "duration": 388,
    "start_time": "2023-04-20T21:55:28.754Z"
   },
   {
    "duration": 392,
    "start_time": "2023-04-20T21:55:54.058Z"
   },
   {
    "duration": 396,
    "start_time": "2023-04-20T21:56:06.067Z"
   },
   {
    "duration": 385,
    "start_time": "2023-04-20T21:56:09.201Z"
   },
   {
    "duration": 341,
    "start_time": "2023-04-20T21:56:21.722Z"
   },
   {
    "duration": 415,
    "start_time": "2023-04-20T21:56:24.644Z"
   },
   {
    "duration": 359,
    "start_time": "2023-04-20T21:57:39.589Z"
   },
   {
    "duration": 433,
    "start_time": "2023-04-20T21:57:49.651Z"
   },
   {
    "duration": 316,
    "start_time": "2023-04-20T21:57:54.326Z"
   },
   {
    "duration": 355,
    "start_time": "2023-04-20T21:58:18.545Z"
   },
   {
    "duration": 391,
    "start_time": "2023-04-20T21:58:22.165Z"
   },
   {
    "duration": 378,
    "start_time": "2023-04-20T22:00:52.504Z"
   },
   {
    "duration": 411,
    "start_time": "2023-04-20T22:01:01.250Z"
   },
   {
    "duration": 364,
    "start_time": "2023-04-20T22:01:19.180Z"
   },
   {
    "duration": 436,
    "start_time": "2023-04-20T22:01:30.276Z"
   },
   {
    "duration": 345,
    "start_time": "2023-04-20T22:02:04.721Z"
   },
   {
    "duration": 72,
    "start_time": "2023-04-20T22:02:12.474Z"
   },
   {
    "duration": 354,
    "start_time": "2023-04-20T22:02:39.577Z"
   },
   {
    "duration": 362,
    "start_time": "2023-04-20T22:02:54.300Z"
   },
   {
    "duration": 342,
    "start_time": "2023-04-20T22:02:57.723Z"
   },
   {
    "duration": 11,
    "start_time": "2023-04-20T22:10:22.921Z"
   },
   {
    "duration": 11,
    "start_time": "2023-04-20T22:10:45.430Z"
   },
   {
    "duration": 15,
    "start_time": "2023-04-20T22:11:26.759Z"
   },
   {
    "duration": 133,
    "start_time": "2023-04-20T22:12:59.731Z"
   },
   {
    "duration": 145,
    "start_time": "2023-04-20T22:14:32.437Z"
   },
   {
    "duration": 5,
    "start_time": "2023-04-20T22:23:32.941Z"
   },
   {
    "duration": 155,
    "start_time": "2023-04-20T22:31:53.181Z"
   },
   {
    "duration": 172,
    "start_time": "2023-04-20T22:32:40.963Z"
   },
   {
    "duration": 265,
    "start_time": "2023-04-20T22:33:19.260Z"
   },
   {
    "duration": 162,
    "start_time": "2023-04-20T22:34:15.824Z"
   },
   {
    "duration": 168,
    "start_time": "2023-04-20T22:34:22.594Z"
   },
   {
    "duration": 164,
    "start_time": "2023-04-20T22:34:29.626Z"
   },
   {
    "duration": 145,
    "start_time": "2023-04-20T22:34:42.015Z"
   },
   {
    "duration": 163,
    "start_time": "2023-04-20T22:34:47.010Z"
   },
   {
    "duration": 5,
    "start_time": "2023-04-20T22:42:17.796Z"
   },
   {
    "duration": 111,
    "start_time": "2023-04-20T22:57:18.014Z"
   },
   {
    "duration": 118,
    "start_time": "2023-04-20T22:59:57.318Z"
   },
   {
    "duration": 247,
    "start_time": "2023-04-20T23:01:00.448Z"
   },
   {
    "duration": 232,
    "start_time": "2023-04-20T23:01:32.442Z"
   },
   {
    "duration": 134,
    "start_time": "2023-04-20T23:04:14.006Z"
   },
   {
    "duration": 1134,
    "start_time": "2023-04-20T23:06:07.097Z"
   },
   {
    "duration": 1228,
    "start_time": "2023-04-20T23:06:55.743Z"
   },
   {
    "duration": 73,
    "start_time": "2023-04-20T23:06:56.973Z"
   },
   {
    "duration": 22,
    "start_time": "2023-04-20T23:06:57.048Z"
   },
   {
    "duration": 19,
    "start_time": "2023-04-20T23:06:57.072Z"
   },
   {
    "duration": 18,
    "start_time": "2023-04-20T23:06:57.093Z"
   },
   {
    "duration": 7,
    "start_time": "2023-04-20T23:06:57.113Z"
   },
   {
    "duration": 22,
    "start_time": "2023-04-20T23:06:57.122Z"
   },
   {
    "duration": 71,
    "start_time": "2023-04-20T23:06:57.145Z"
   },
   {
    "duration": 8,
    "start_time": "2023-04-20T23:06:57.218Z"
   },
   {
    "duration": 25,
    "start_time": "2023-04-20T23:06:57.229Z"
   },
   {
    "duration": 39,
    "start_time": "2023-04-20T23:06:57.257Z"
   },
   {
    "duration": 28,
    "start_time": "2023-04-20T23:06:57.297Z"
   },
   {
    "duration": 16,
    "start_time": "2023-04-20T23:06:57.327Z"
   },
   {
    "duration": 11,
    "start_time": "2023-04-20T23:06:57.345Z"
   },
   {
    "duration": 44,
    "start_time": "2023-04-20T23:06:57.358Z"
   },
   {
    "duration": 7,
    "start_time": "2023-04-20T23:06:57.404Z"
   },
   {
    "duration": 327,
    "start_time": "2023-04-20T23:06:57.413Z"
   },
   {
    "duration": 324,
    "start_time": "2023-04-20T23:06:57.743Z"
   },
   {
    "duration": 236,
    "start_time": "2023-04-20T23:06:58.069Z"
   },
   {
    "duration": 322,
    "start_time": "2023-04-20T23:06:58.307Z"
   },
   {
    "duration": 243,
    "start_time": "2023-04-20T23:06:58.631Z"
   },
   {
    "duration": 370,
    "start_time": "2023-04-20T23:06:58.876Z"
   },
   {
    "duration": 150,
    "start_time": "2023-04-20T23:06:59.248Z"
   },
   {
    "duration": 5,
    "start_time": "2023-04-20T23:06:59.400Z"
   },
   {
    "duration": 169,
    "start_time": "2023-04-20T23:06:59.407Z"
   },
   {
    "duration": 176,
    "start_time": "2023-04-20T23:06:59.578Z"
   },
   {
    "duration": 5,
    "start_time": "2023-04-20T23:06:59.756Z"
   },
   {
    "duration": 347,
    "start_time": "2023-04-20T23:06:59.764Z"
   },
   {
    "duration": 166,
    "start_time": "2023-04-20T23:07:00.113Z"
   },
   {
    "duration": 1416,
    "start_time": "2023-04-20T23:07:00.281Z"
   },
   {
    "duration": 151,
    "start_time": "2023-04-20T23:07:09.087Z"
   },
   {
    "duration": 1153,
    "start_time": "2023-04-20T23:07:10.176Z"
   },
   {
    "duration": 154,
    "start_time": "2023-04-20T23:08:15.541Z"
   },
   {
    "duration": 1245,
    "start_time": "2023-04-20T23:08:16.421Z"
   },
   {
    "duration": 1223,
    "start_time": "2023-04-20T23:08:47.819Z"
   },
   {
    "duration": 1157,
    "start_time": "2023-04-20T23:09:34.777Z"
   },
   {
    "duration": 146,
    "start_time": "2023-04-20T23:09:45.712Z"
   },
   {
    "duration": 1163,
    "start_time": "2023-04-20T23:09:46.584Z"
   },
   {
    "duration": 1146,
    "start_time": "2023-04-20T23:09:54.531Z"
   },
   {
    "duration": 1195,
    "start_time": "2023-04-20T23:10:42.711Z"
   },
   {
    "duration": 72,
    "start_time": "2023-04-20T23:10:43.908Z"
   },
   {
    "duration": 23,
    "start_time": "2023-04-20T23:10:43.982Z"
   },
   {
    "duration": 18,
    "start_time": "2023-04-20T23:10:44.007Z"
   },
   {
    "duration": 16,
    "start_time": "2023-04-20T23:10:44.027Z"
   },
   {
    "duration": 5,
    "start_time": "2023-04-20T23:10:44.045Z"
   },
   {
    "duration": 52,
    "start_time": "2023-04-20T23:10:44.051Z"
   },
   {
    "duration": 39,
    "start_time": "2023-04-20T23:10:44.105Z"
   },
   {
    "duration": 7,
    "start_time": "2023-04-20T23:10:44.146Z"
   },
   {
    "duration": 59,
    "start_time": "2023-04-20T23:10:44.154Z"
   },
   {
    "duration": 9,
    "start_time": "2023-04-20T23:10:44.215Z"
   },
   {
    "duration": 16,
    "start_time": "2023-04-20T23:10:44.226Z"
   },
   {
    "duration": 12,
    "start_time": "2023-04-20T23:10:44.244Z"
   },
   {
    "duration": 11,
    "start_time": "2023-04-20T23:10:44.291Z"
   },
   {
    "duration": 16,
    "start_time": "2023-04-20T23:10:44.304Z"
   },
   {
    "duration": 7,
    "start_time": "2023-04-20T23:10:44.321Z"
   },
   {
    "duration": 345,
    "start_time": "2023-04-20T23:10:44.329Z"
   },
   {
    "duration": 308,
    "start_time": "2023-04-20T23:10:44.676Z"
   },
   {
    "duration": 212,
    "start_time": "2023-04-20T23:10:44.989Z"
   },
   {
    "duration": 323,
    "start_time": "2023-04-20T23:10:45.203Z"
   },
   {
    "duration": 242,
    "start_time": "2023-04-20T23:10:45.528Z"
   },
   {
    "duration": 402,
    "start_time": "2023-04-20T23:10:45.771Z"
   },
   {
    "duration": 148,
    "start_time": "2023-04-20T23:10:46.175Z"
   },
   {
    "duration": 5,
    "start_time": "2023-04-20T23:10:46.325Z"
   },
   {
    "duration": 165,
    "start_time": "2023-04-20T23:10:46.332Z"
   },
   {
    "duration": 180,
    "start_time": "2023-04-20T23:10:46.499Z"
   },
   {
    "duration": 8,
    "start_time": "2023-04-20T23:10:46.681Z"
   },
   {
    "duration": 331,
    "start_time": "2023-04-20T23:10:46.691Z"
   },
   {
    "duration": 170,
    "start_time": "2023-04-20T23:10:47.023Z"
   },
   {
    "duration": 6,
    "start_time": "2023-04-20T23:10:47.195Z"
   },
   {
    "duration": 106,
    "start_time": "2023-04-20T23:12:16.304Z"
   },
   {
    "duration": 1197,
    "start_time": "2023-04-20T23:13:12.494Z"
   },
   {
    "duration": 72,
    "start_time": "2023-04-20T23:13:13.693Z"
   },
   {
    "duration": 22,
    "start_time": "2023-04-20T23:13:13.767Z"
   },
   {
    "duration": 17,
    "start_time": "2023-04-20T23:13:13.790Z"
   },
   {
    "duration": 17,
    "start_time": "2023-04-20T23:13:13.809Z"
   },
   {
    "duration": 4,
    "start_time": "2023-04-20T23:13:13.828Z"
   },
   {
    "duration": 22,
    "start_time": "2023-04-20T23:13:13.833Z"
   },
   {
    "duration": 70,
    "start_time": "2023-04-20T23:13:13.857Z"
   },
   {
    "duration": 6,
    "start_time": "2023-04-20T23:13:13.929Z"
   },
   {
    "duration": 54,
    "start_time": "2023-04-20T23:13:13.937Z"
   },
   {
    "duration": 9,
    "start_time": "2023-04-20T23:13:13.993Z"
   },
   {
    "duration": 15,
    "start_time": "2023-04-20T23:13:14.004Z"
   },
   {
    "duration": 12,
    "start_time": "2023-04-20T23:13:14.021Z"
   },
   {
    "duration": 11,
    "start_time": "2023-04-20T23:13:14.038Z"
   },
   {
    "duration": 52,
    "start_time": "2023-04-20T23:13:14.051Z"
   },
   {
    "duration": 6,
    "start_time": "2023-04-20T23:13:14.105Z"
   },
   {
    "duration": 332,
    "start_time": "2023-04-20T23:13:14.113Z"
   },
   {
    "duration": 303,
    "start_time": "2023-04-20T23:13:14.446Z"
   },
   {
    "duration": 217,
    "start_time": "2023-04-20T23:13:14.751Z"
   },
   {
    "duration": 334,
    "start_time": "2023-04-20T23:13:14.970Z"
   },
   {
    "duration": 253,
    "start_time": "2023-04-20T23:13:15.306Z"
   },
   {
    "duration": 386,
    "start_time": "2023-04-20T23:13:15.561Z"
   },
   {
    "duration": 154,
    "start_time": "2023-04-20T23:13:15.949Z"
   },
   {
    "duration": 6,
    "start_time": "2023-04-20T23:13:16.105Z"
   },
   {
    "duration": 165,
    "start_time": "2023-04-20T23:13:16.113Z"
   },
   {
    "duration": 168,
    "start_time": "2023-04-20T23:13:16.280Z"
   },
   {
    "duration": 5,
    "start_time": "2023-04-20T23:13:16.450Z"
   },
   {
    "duration": 343,
    "start_time": "2023-04-20T23:13:16.457Z"
   },
   {
    "duration": 157,
    "start_time": "2023-04-20T23:13:16.801Z"
   },
   {
    "duration": 6,
    "start_time": "2023-04-20T23:13:16.960Z"
   },
   {
    "duration": 118,
    "start_time": "2023-04-20T23:13:16.968Z"
   },
   {
    "duration": 14,
    "start_time": "2023-04-20T23:13:31.449Z"
   },
   {
    "duration": 18,
    "start_time": "2023-04-20T23:13:47.241Z"
   },
   {
    "duration": 5,
    "start_time": "2023-04-20T23:14:37.189Z"
   },
   {
    "duration": 25,
    "start_time": "2023-04-20T23:14:41.590Z"
   },
   {
    "duration": 15,
    "start_time": "2023-04-20T23:22:51.571Z"
   },
   {
    "duration": 10,
    "start_time": "2023-04-20T23:31:52.854Z"
   },
   {
    "duration": 1176,
    "start_time": "2023-04-20T23:32:23.072Z"
   },
   {
    "duration": 1196,
    "start_time": "2023-04-20T23:32:33.626Z"
   },
   {
    "duration": 10,
    "start_time": "2023-04-20T23:32:39.762Z"
   },
   {
    "duration": 9,
    "start_time": "2023-04-20T23:33:25.363Z"
   },
   {
    "duration": 11,
    "start_time": "2023-04-20T23:33:31.650Z"
   },
   {
    "duration": 10,
    "start_time": "2023-04-20T23:34:47.971Z"
   },
   {
    "duration": 21,
    "start_time": "2023-04-20T23:35:25.641Z"
   },
   {
    "duration": 12,
    "start_time": "2023-04-20T23:40:06.923Z"
   },
   {
    "duration": 2183,
    "start_time": "2023-04-20T23:40:15.576Z"
   },
   {
    "duration": 15,
    "start_time": "2023-04-20T23:41:13.325Z"
   },
   {
    "duration": 1164,
    "start_time": "2023-04-21T00:02:10.207Z"
   },
   {
    "duration": 72,
    "start_time": "2023-04-21T00:02:11.373Z"
   },
   {
    "duration": 22,
    "start_time": "2023-04-21T00:02:11.447Z"
   },
   {
    "duration": 21,
    "start_time": "2023-04-21T00:02:11.471Z"
   },
   {
    "duration": 18,
    "start_time": "2023-04-21T00:02:11.495Z"
   },
   {
    "duration": 8,
    "start_time": "2023-04-21T00:02:11.515Z"
   },
   {
    "duration": 24,
    "start_time": "2023-04-21T00:02:11.525Z"
   },
   {
    "duration": 63,
    "start_time": "2023-04-21T00:02:11.551Z"
   },
   {
    "duration": 8,
    "start_time": "2023-04-21T00:02:11.616Z"
   },
   {
    "duration": 34,
    "start_time": "2023-04-21T00:02:11.626Z"
   },
   {
    "duration": 29,
    "start_time": "2023-04-21T00:02:11.662Z"
   },
   {
    "duration": 14,
    "start_time": "2023-04-21T00:02:11.693Z"
   },
   {
    "duration": 11,
    "start_time": "2023-04-21T00:02:11.709Z"
   },
   {
    "duration": 13,
    "start_time": "2023-04-21T00:02:11.723Z"
   },
   {
    "duration": 18,
    "start_time": "2023-04-21T00:02:11.737Z"
   },
   {
    "duration": 36,
    "start_time": "2023-04-21T00:02:11.756Z"
   },
   {
    "duration": 337,
    "start_time": "2023-04-21T00:02:11.793Z"
   },
   {
    "duration": 299,
    "start_time": "2023-04-21T00:02:12.132Z"
   },
   {
    "duration": 208,
    "start_time": "2023-04-21T00:02:12.433Z"
   },
   {
    "duration": 295,
    "start_time": "2023-04-21T00:02:12.643Z"
   },
   {
    "duration": 231,
    "start_time": "2023-04-21T00:02:12.940Z"
   },
   {
    "duration": 375,
    "start_time": "2023-04-21T00:02:13.173Z"
   },
   {
    "duration": 152,
    "start_time": "2023-04-21T00:02:13.550Z"
   },
   {
    "duration": 4,
    "start_time": "2023-04-21T00:02:13.704Z"
   },
   {
    "duration": 164,
    "start_time": "2023-04-21T00:02:13.710Z"
   },
   {
    "duration": 171,
    "start_time": "2023-04-21T00:02:13.875Z"
   },
   {
    "duration": 5,
    "start_time": "2023-04-21T00:02:14.048Z"
   },
   {
    "duration": 328,
    "start_time": "2023-04-21T00:02:14.054Z"
   },
   {
    "duration": 161,
    "start_time": "2023-04-21T00:02:14.388Z"
   },
   {
    "duration": 6,
    "start_time": "2023-04-21T00:02:14.551Z"
   },
   {
    "duration": 36,
    "start_time": "2023-04-21T00:02:14.559Z"
   },
   {
    "duration": 12,
    "start_time": "2023-04-21T00:02:14.598Z"
   },
   {
    "duration": 10,
    "start_time": "2023-04-21T00:02:14.612Z"
   },
   {
    "duration": 9,
    "start_time": "2023-04-21T00:02:14.624Z"
   },
   {
    "duration": 22,
    "start_time": "2023-04-21T00:02:14.635Z"
   },
   {
    "duration": 44,
    "start_time": "2023-04-21T00:02:14.658Z"
   },
   {
    "duration": 1311,
    "start_time": "2023-04-21T09:15:37.370Z"
   },
   {
    "duration": 219,
    "start_time": "2023-04-21T09:15:38.683Z"
   },
   {
    "duration": 21,
    "start_time": "2023-04-21T09:15:38.904Z"
   },
   {
    "duration": 39,
    "start_time": "2023-04-21T09:15:38.926Z"
   },
   {
    "duration": 53,
    "start_time": "2023-04-21T09:15:38.967Z"
   },
   {
    "duration": 33,
    "start_time": "2023-04-21T09:15:39.022Z"
   },
   {
    "duration": 78,
    "start_time": "2023-04-21T09:15:39.057Z"
   },
   {
    "duration": 67,
    "start_time": "2023-04-21T09:15:39.136Z"
   },
   {
    "duration": 34,
    "start_time": "2023-04-21T09:15:39.205Z"
   },
   {
    "duration": 70,
    "start_time": "2023-04-21T09:15:39.241Z"
   },
   {
    "duration": 35,
    "start_time": "2023-04-21T09:15:39.312Z"
   },
   {
    "duration": 58,
    "start_time": "2023-04-21T09:15:39.348Z"
   },
   {
    "duration": 37,
    "start_time": "2023-04-21T09:15:39.408Z"
   },
   {
    "duration": 60,
    "start_time": "2023-04-21T09:15:39.449Z"
   },
   {
    "duration": 33,
    "start_time": "2023-04-21T09:15:39.512Z"
   },
   {
    "duration": 36,
    "start_time": "2023-04-21T09:15:39.547Z"
   },
   {
    "duration": 356,
    "start_time": "2023-04-21T09:15:39.585Z"
   },
   {
    "duration": 321,
    "start_time": "2023-04-21T09:15:39.943Z"
   },
   {
    "duration": 262,
    "start_time": "2023-04-21T09:15:40.266Z"
   },
   {
    "duration": 360,
    "start_time": "2023-04-21T09:15:40.533Z"
   },
   {
    "duration": 236,
    "start_time": "2023-04-21T09:15:40.904Z"
   },
   {
    "duration": 395,
    "start_time": "2023-04-21T09:15:41.142Z"
   },
   {
    "duration": 164,
    "start_time": "2023-04-21T09:15:41.539Z"
   },
   {
    "duration": 6,
    "start_time": "2023-04-21T09:15:41.705Z"
   },
   {
    "duration": 192,
    "start_time": "2023-04-21T09:15:41.712Z"
   },
   {
    "duration": 175,
    "start_time": "2023-04-21T09:15:41.907Z"
   },
   {
    "duration": 19,
    "start_time": "2023-04-21T09:15:42.084Z"
   },
   {
    "duration": 359,
    "start_time": "2023-04-21T09:15:42.105Z"
   },
   {
    "duration": 159,
    "start_time": "2023-04-21T09:15:42.465Z"
   },
   {
    "duration": 6,
    "start_time": "2023-04-21T09:15:42.626Z"
   },
   {
    "duration": 37,
    "start_time": "2023-04-21T09:15:42.634Z"
   },
   {
    "duration": 17,
    "start_time": "2023-04-21T09:15:42.673Z"
   },
   {
    "duration": 51,
    "start_time": "2023-04-21T09:15:42.691Z"
   },
   {
    "duration": 16,
    "start_time": "2023-04-21T09:15:42.744Z"
   },
   {
    "duration": 74,
    "start_time": "2023-04-21T09:15:42.762Z"
   },
   {
    "duration": 14,
    "start_time": "2023-04-21T09:15:42.837Z"
   },
   {
    "duration": 5,
    "start_time": "2023-04-21T09:22:43.848Z"
   },
   {
    "duration": 56,
    "start_time": "2023-04-21T09:52:52.971Z"
   },
   {
    "duration": 1377,
    "start_time": "2023-04-21T09:53:08.572Z"
   },
   {
    "duration": 185,
    "start_time": "2023-04-21T09:53:09.951Z"
   },
   {
    "duration": 21,
    "start_time": "2023-04-21T09:53:10.138Z"
   },
   {
    "duration": 16,
    "start_time": "2023-04-21T09:53:10.161Z"
   },
   {
    "duration": 16,
    "start_time": "2023-04-21T09:53:10.180Z"
   },
   {
    "duration": 13,
    "start_time": "2023-04-21T09:53:10.198Z"
   },
   {
    "duration": 38,
    "start_time": "2023-04-21T09:53:10.213Z"
   },
   {
    "duration": 43,
    "start_time": "2023-04-21T09:53:10.253Z"
   },
   {
    "duration": 6,
    "start_time": "2023-04-21T09:53:10.298Z"
   },
   {
    "duration": 39,
    "start_time": "2023-04-21T09:53:10.306Z"
   },
   {
    "duration": 9,
    "start_time": "2023-04-21T09:53:10.347Z"
   },
   {
    "duration": 35,
    "start_time": "2023-04-21T09:53:10.358Z"
   },
   {
    "duration": 14,
    "start_time": "2023-04-21T09:53:10.395Z"
   },
   {
    "duration": 29,
    "start_time": "2023-04-21T09:53:10.413Z"
   },
   {
    "duration": 14,
    "start_time": "2023-04-21T09:53:10.446Z"
   },
   {
    "duration": 13,
    "start_time": "2023-04-21T09:53:10.461Z"
   },
   {
    "duration": 295,
    "start_time": "2023-04-21T09:53:10.475Z"
   },
   {
    "duration": 299,
    "start_time": "2023-04-21T09:53:10.772Z"
   },
   {
    "duration": 198,
    "start_time": "2023-04-21T09:53:11.073Z"
   },
   {
    "duration": 364,
    "start_time": "2023-04-21T09:53:11.272Z"
   },
   {
    "duration": 259,
    "start_time": "2023-04-21T09:53:11.638Z"
   },
   {
    "duration": 361,
    "start_time": "2023-04-21T09:53:11.900Z"
   },
   {
    "duration": 153,
    "start_time": "2023-04-21T09:53:12.262Z"
   },
   {
    "duration": 6,
    "start_time": "2023-04-21T09:53:12.416Z"
   },
   {
    "duration": 181,
    "start_time": "2023-04-21T09:53:12.423Z"
   },
   {
    "duration": 175,
    "start_time": "2023-04-21T09:53:12.606Z"
   },
   {
    "duration": 7,
    "start_time": "2023-04-21T09:53:12.791Z"
   },
   {
    "duration": 341,
    "start_time": "2023-04-21T09:53:12.800Z"
   },
   {
    "duration": 148,
    "start_time": "2023-04-21T09:53:13.142Z"
   },
   {
    "duration": 9,
    "start_time": "2023-04-21T09:53:13.292Z"
   },
   {
    "duration": 147,
    "start_time": "2023-04-21T09:53:13.303Z"
   },
   {
    "duration": 0,
    "start_time": "2023-04-21T09:53:13.451Z"
   },
   {
    "duration": 0,
    "start_time": "2023-04-21T09:53:13.453Z"
   },
   {
    "duration": 0,
    "start_time": "2023-04-21T09:53:13.454Z"
   },
   {
    "duration": 0,
    "start_time": "2023-04-21T09:53:13.455Z"
   },
   {
    "duration": 0,
    "start_time": "2023-04-21T09:53:13.456Z"
   },
   {
    "duration": 0,
    "start_time": "2023-04-21T09:53:13.458Z"
   },
   {
    "duration": 4,
    "start_time": "2023-04-21T09:53:35.327Z"
   },
   {
    "duration": 27,
    "start_time": "2023-04-21T09:53:48.716Z"
   },
   {
    "duration": 41,
    "start_time": "2023-04-21T09:54:41.117Z"
   },
   {
    "duration": 44,
    "start_time": "2023-04-21T09:54:55.133Z"
   },
   {
    "duration": 47,
    "start_time": "2023-04-21T09:55:00.093Z"
   },
   {
    "duration": 43,
    "start_time": "2023-04-21T09:55:14.508Z"
   },
   {
    "duration": 4,
    "start_time": "2023-04-21T09:55:26.871Z"
   },
   {
    "duration": 23,
    "start_time": "2023-04-21T09:55:35.906Z"
   },
   {
    "duration": 12,
    "start_time": "2023-04-21T09:56:47.274Z"
   },
   {
    "duration": 29,
    "start_time": "2023-04-21T09:56:51.071Z"
   },
   {
    "duration": 25,
    "start_time": "2023-04-21T09:57:17.906Z"
   },
   {
    "duration": 11,
    "start_time": "2023-04-21T09:57:39.614Z"
   },
   {
    "duration": 10,
    "start_time": "2023-04-21T09:57:45.358Z"
   },
   {
    "duration": 10,
    "start_time": "2023-04-21T09:58:18.734Z"
   },
   {
    "duration": 9,
    "start_time": "2023-04-21T09:59:17.870Z"
   },
   {
    "duration": 1280,
    "start_time": "2023-04-21T09:59:26.524Z"
   },
   {
    "duration": 73,
    "start_time": "2023-04-21T09:59:27.809Z"
   },
   {
    "duration": 37,
    "start_time": "2023-04-21T09:59:27.884Z"
   },
   {
    "duration": 16,
    "start_time": "2023-04-21T09:59:27.922Z"
   },
   {
    "duration": 15,
    "start_time": "2023-04-21T09:59:27.940Z"
   },
   {
    "duration": 30,
    "start_time": "2023-04-21T09:59:27.956Z"
   },
   {
    "duration": 36,
    "start_time": "2023-04-21T09:59:27.989Z"
   },
   {
    "duration": 34,
    "start_time": "2023-04-21T09:59:28.027Z"
   },
   {
    "duration": 10,
    "start_time": "2023-04-21T09:59:28.085Z"
   },
   {
    "duration": 29,
    "start_time": "2023-04-21T09:59:28.097Z"
   },
   {
    "duration": 8,
    "start_time": "2023-04-21T09:59:28.127Z"
   },
   {
    "duration": 17,
    "start_time": "2023-04-21T09:59:28.137Z"
   },
   {
    "duration": 42,
    "start_time": "2023-04-21T09:59:28.156Z"
   },
   {
    "duration": 16,
    "start_time": "2023-04-21T09:59:28.203Z"
   },
   {
    "duration": 14,
    "start_time": "2023-04-21T09:59:28.221Z"
   },
   {
    "duration": 5,
    "start_time": "2023-04-21T09:59:28.237Z"
   },
   {
    "duration": 366,
    "start_time": "2023-04-21T09:59:28.243Z"
   },
   {
    "duration": 319,
    "start_time": "2023-04-21T09:59:28.612Z"
   },
   {
    "duration": 222,
    "start_time": "2023-04-21T09:59:28.933Z"
   },
   {
    "duration": 351,
    "start_time": "2023-04-21T09:59:29.157Z"
   },
   {
    "duration": 249,
    "start_time": "2023-04-21T09:59:29.510Z"
   },
   {
    "duration": 401,
    "start_time": "2023-04-21T09:59:29.761Z"
   },
   {
    "duration": 154,
    "start_time": "2023-04-21T09:59:30.164Z"
   },
   {
    "duration": 5,
    "start_time": "2023-04-21T09:59:30.320Z"
   },
   {
    "duration": 192,
    "start_time": "2023-04-21T09:59:30.326Z"
   },
   {
    "duration": 184,
    "start_time": "2023-04-21T09:59:30.521Z"
   },
   {
    "duration": 11,
    "start_time": "2023-04-21T09:59:30.708Z"
   },
   {
    "duration": 353,
    "start_time": "2023-04-21T09:59:30.721Z"
   },
   {
    "duration": 218,
    "start_time": "2023-04-21T09:59:31.076Z"
   },
   {
    "duration": 10,
    "start_time": "2023-04-21T09:59:31.298Z"
   },
   {
    "duration": 52,
    "start_time": "2023-04-21T09:59:31.310Z"
   },
   {
    "duration": 6,
    "start_time": "2023-04-21T09:59:31.363Z"
   },
   {
    "duration": 61,
    "start_time": "2023-04-21T09:59:31.370Z"
   },
   {
    "duration": 14,
    "start_time": "2023-04-21T09:59:31.433Z"
   },
   {
    "duration": 25,
    "start_time": "2023-04-21T09:59:31.449Z"
   },
   {
    "duration": 42,
    "start_time": "2023-04-21T09:59:31.476Z"
   },
   {
    "duration": 45,
    "start_time": "2023-04-21T09:59:31.520Z"
   },
   {
    "duration": 63,
    "start_time": "2023-04-21T09:59:31.567Z"
   },
   {
    "duration": 38,
    "start_time": "2023-04-21T09:59:31.632Z"
   },
   {
    "duration": 25,
    "start_time": "2023-04-21T10:00:13.757Z"
   },
   {
    "duration": 79,
    "start_time": "2023-04-21T10:01:25.609Z"
   },
   {
    "duration": 79,
    "start_time": "2023-04-21T10:01:55.304Z"
   },
   {
    "duration": 123,
    "start_time": "2023-04-21T10:02:00.057Z"
   },
   {
    "duration": 99,
    "start_time": "2023-04-21T10:04:34.310Z"
   },
   {
    "duration": 7,
    "start_time": "2023-04-21T10:04:44.380Z"
   },
   {
    "duration": 5,
    "start_time": "2023-04-21T10:05:08.510Z"
   },
   {
    "duration": 1425,
    "start_time": "2023-04-21T10:05:57.785Z"
   },
   {
    "duration": 17,
    "start_time": "2023-04-21T10:06:27.627Z"
   },
   {
    "duration": 5,
    "start_time": "2023-04-21T10:06:49.409Z"
   },
   {
    "duration": 102,
    "start_time": "2023-04-21T10:08:12.072Z"
   },
   {
    "duration": 23,
    "start_time": "2023-04-21T10:10:38.906Z"
   },
   {
    "duration": 13,
    "start_time": "2023-04-21T10:23:54.910Z"
   },
   {
    "duration": 10,
    "start_time": "2023-04-21T10:24:02.727Z"
   },
   {
    "duration": 10,
    "start_time": "2023-04-21T10:26:54.723Z"
   },
   {
    "duration": 19,
    "start_time": "2023-04-21T10:27:08.011Z"
   },
   {
    "duration": 9,
    "start_time": "2023-04-21T10:29:10.750Z"
   },
   {
    "duration": 13,
    "start_time": "2023-04-21T10:29:36.017Z"
   },
   {
    "duration": 12,
    "start_time": "2023-04-21T10:29:45.630Z"
   },
   {
    "duration": 9,
    "start_time": "2023-04-21T10:36:14.165Z"
   },
   {
    "duration": 15,
    "start_time": "2023-04-21T10:36:18.851Z"
   },
   {
    "duration": 16,
    "start_time": "2023-04-21T10:36:44.348Z"
   },
   {
    "duration": 10,
    "start_time": "2023-04-21T10:37:02.556Z"
   },
   {
    "duration": 1132,
    "start_time": "2023-04-21T10:41:22.802Z"
   },
   {
    "duration": 73,
    "start_time": "2023-04-21T10:41:23.936Z"
   },
   {
    "duration": 24,
    "start_time": "2023-04-21T10:41:24.012Z"
   },
   {
    "duration": 20,
    "start_time": "2023-04-21T10:41:24.038Z"
   },
   {
    "duration": 32,
    "start_time": "2023-04-21T10:41:24.062Z"
   },
   {
    "duration": 7,
    "start_time": "2023-04-21T10:41:24.096Z"
   },
   {
    "duration": 21,
    "start_time": "2023-04-21T10:41:24.105Z"
   },
   {
    "duration": 69,
    "start_time": "2023-04-21T10:41:24.128Z"
   },
   {
    "duration": 6,
    "start_time": "2023-04-21T10:41:24.200Z"
   },
   {
    "duration": 32,
    "start_time": "2023-04-21T10:41:24.208Z"
   },
   {
    "duration": 8,
    "start_time": "2023-04-21T10:41:24.242Z"
   },
   {
    "duration": 44,
    "start_time": "2023-04-21T10:41:24.252Z"
   },
   {
    "duration": 11,
    "start_time": "2023-04-21T10:41:24.298Z"
   },
   {
    "duration": 10,
    "start_time": "2023-04-21T10:41:24.312Z"
   },
   {
    "duration": 15,
    "start_time": "2023-04-21T10:41:24.323Z"
   },
   {
    "duration": 5,
    "start_time": "2023-04-21T10:41:24.339Z"
   },
   {
    "duration": 323,
    "start_time": "2023-04-21T10:41:24.346Z"
   },
   {
    "duration": 275,
    "start_time": "2023-04-21T10:41:24.671Z"
   },
   {
    "duration": 188,
    "start_time": "2023-04-21T10:41:24.948Z"
   },
   {
    "duration": 276,
    "start_time": "2023-04-21T10:41:25.138Z"
   },
   {
    "duration": 212,
    "start_time": "2023-04-21T10:41:25.416Z"
   },
   {
    "duration": 298,
    "start_time": "2023-04-21T10:41:25.630Z"
   },
   {
    "duration": 128,
    "start_time": "2023-04-21T10:41:25.930Z"
   },
   {
    "duration": 5,
    "start_time": "2023-04-21T10:41:26.060Z"
   },
   {
    "duration": 152,
    "start_time": "2023-04-21T10:41:26.066Z"
   },
   {
    "duration": 153,
    "start_time": "2023-04-21T10:41:26.220Z"
   },
   {
    "duration": 5,
    "start_time": "2023-04-21T10:41:26.374Z"
   },
   {
    "duration": 307,
    "start_time": "2023-04-21T10:41:26.386Z"
   },
   {
    "duration": 156,
    "start_time": "2023-04-21T10:41:26.695Z"
   },
   {
    "duration": 6,
    "start_time": "2023-04-21T10:41:26.853Z"
   },
   {
    "duration": 43,
    "start_time": "2023-04-21T10:41:26.861Z"
   },
   {
    "duration": 4,
    "start_time": "2023-04-21T10:41:26.905Z"
   },
   {
    "duration": 42,
    "start_time": "2023-04-21T10:41:26.911Z"
   },
   {
    "duration": 10,
    "start_time": "2023-04-21T10:41:26.955Z"
   },
   {
    "duration": 24,
    "start_time": "2023-04-21T10:41:26.967Z"
   },
   {
    "duration": 19,
    "start_time": "2023-04-21T10:41:26.992Z"
   },
   {
    "duration": 7,
    "start_time": "2023-04-21T10:41:27.013Z"
   },
   {
    "duration": 18,
    "start_time": "2023-04-21T10:41:27.022Z"
   },
   {
    "duration": 33,
    "start_time": "2023-04-21T10:41:27.042Z"
   },
   {
    "duration": 25,
    "start_time": "2023-04-21T10:41:27.077Z"
   },
   {
    "duration": 15,
    "start_time": "2023-04-21T10:41:27.106Z"
   },
   {
    "duration": 1223,
    "start_time": "2023-04-21T10:44:10.443Z"
   },
   {
    "duration": 35,
    "start_time": "2023-04-21T10:44:29.182Z"
   },
   {
    "duration": 10,
    "start_time": "2023-04-21T10:44:56.325Z"
   },
   {
    "duration": 10,
    "start_time": "2023-04-21T10:46:14.421Z"
   },
   {
    "duration": 1152,
    "start_time": "2023-04-21T10:49:56.697Z"
   },
   {
    "duration": 72,
    "start_time": "2023-04-21T10:49:57.851Z"
   },
   {
    "duration": 19,
    "start_time": "2023-04-21T10:49:57.925Z"
   },
   {
    "duration": 15,
    "start_time": "2023-04-21T10:49:57.947Z"
   },
   {
    "duration": 17,
    "start_time": "2023-04-21T10:49:57.963Z"
   },
   {
    "duration": 4,
    "start_time": "2023-04-21T10:49:57.982Z"
   },
   {
    "duration": 25,
    "start_time": "2023-04-21T10:49:57.987Z"
   },
   {
    "duration": 45,
    "start_time": "2023-04-21T10:49:58.014Z"
   },
   {
    "duration": 6,
    "start_time": "2023-04-21T10:49:58.061Z"
   },
   {
    "duration": 21,
    "start_time": "2023-04-21T10:49:58.085Z"
   },
   {
    "duration": 8,
    "start_time": "2023-04-21T10:49:58.108Z"
   },
   {
    "duration": 14,
    "start_time": "2023-04-21T10:49:58.117Z"
   },
   {
    "duration": 10,
    "start_time": "2023-04-21T10:49:58.133Z"
   },
   {
    "duration": 16,
    "start_time": "2023-04-21T10:49:58.145Z"
   },
   {
    "duration": 33,
    "start_time": "2023-04-21T10:49:58.162Z"
   },
   {
    "duration": 15,
    "start_time": "2023-04-21T10:49:58.197Z"
   },
   {
    "duration": 5,
    "start_time": "2023-04-21T10:49:58.213Z"
   },
   {
    "duration": 307,
    "start_time": "2023-04-21T10:49:58.220Z"
   },
   {
    "duration": 290,
    "start_time": "2023-04-21T10:49:58.529Z"
   },
   {
    "duration": 195,
    "start_time": "2023-04-21T10:49:58.821Z"
   },
   {
    "duration": 289,
    "start_time": "2023-04-21T10:49:59.018Z"
   },
   {
    "duration": 236,
    "start_time": "2023-04-21T10:49:59.309Z"
   },
   {
    "duration": 372,
    "start_time": "2023-04-21T10:49:59.547Z"
   },
   {
    "duration": 145,
    "start_time": "2023-04-21T10:49:59.921Z"
   },
   {
    "duration": 4,
    "start_time": "2023-04-21T10:50:00.068Z"
   },
   {
    "duration": 156,
    "start_time": "2023-04-21T10:50:00.074Z"
   },
   {
    "duration": 159,
    "start_time": "2023-04-21T10:50:00.231Z"
   },
   {
    "duration": 4,
    "start_time": "2023-04-21T10:50:00.394Z"
   },
   {
    "duration": 327,
    "start_time": "2023-04-21T10:50:00.400Z"
   },
   {
    "duration": 162,
    "start_time": "2023-04-21T10:50:00.729Z"
   },
   {
    "duration": 6,
    "start_time": "2023-04-21T10:50:00.893Z"
   },
   {
    "duration": 78,
    "start_time": "2023-04-21T10:50:00.903Z"
   },
   {
    "duration": 24,
    "start_time": "2023-04-21T10:50:00.983Z"
   },
   {
    "duration": 75,
    "start_time": "2023-04-21T10:50:01.009Z"
   },
   {
    "duration": 42,
    "start_time": "2023-04-21T10:50:01.086Z"
   },
   {
    "duration": 52,
    "start_time": "2023-04-21T10:50:01.130Z"
   },
   {
    "duration": 51,
    "start_time": "2023-04-21T10:50:01.184Z"
   },
   {
    "duration": 36,
    "start_time": "2023-04-21T10:50:01.236Z"
   },
   {
    "duration": 64,
    "start_time": "2023-04-21T10:50:01.274Z"
   },
   {
    "duration": 81,
    "start_time": "2023-04-21T10:50:01.340Z"
   },
   {
    "duration": 82,
    "start_time": "2023-04-21T10:50:01.422Z"
   },
   {
    "duration": 64,
    "start_time": "2023-04-21T10:50:01.506Z"
   },
   {
    "duration": 1261,
    "start_time": "2023-04-22T04:06:41.945Z"
   },
   {
    "duration": 203,
    "start_time": "2023-04-22T04:06:43.208Z"
   },
   {
    "duration": 22,
    "start_time": "2023-04-22T04:06:43.413Z"
   },
   {
    "duration": 17,
    "start_time": "2023-04-22T04:06:43.438Z"
   },
   {
    "duration": 17,
    "start_time": "2023-04-22T04:06:43.457Z"
   },
   {
    "duration": 25,
    "start_time": "2023-04-22T04:06:43.476Z"
   },
   {
    "duration": 26,
    "start_time": "2023-04-22T04:06:43.503Z"
   },
   {
    "duration": 38,
    "start_time": "2023-04-22T04:06:43.531Z"
   },
   {
    "duration": 30,
    "start_time": "2023-04-22T04:06:43.571Z"
   },
   {
    "duration": 46,
    "start_time": "2023-04-22T04:06:43.605Z"
   },
   {
    "duration": 11,
    "start_time": "2023-04-22T04:06:43.653Z"
   },
   {
    "duration": 33,
    "start_time": "2023-04-22T04:06:43.666Z"
   },
   {
    "duration": 11,
    "start_time": "2023-04-22T04:06:43.701Z"
   },
   {
    "duration": 18,
    "start_time": "2023-04-22T04:06:43.713Z"
   },
   {
    "duration": 12,
    "start_time": "2023-04-22T04:06:43.732Z"
   },
   {
    "duration": 14,
    "start_time": "2023-04-22T04:06:43.746Z"
   },
   {
    "duration": 9,
    "start_time": "2023-04-22T04:06:43.761Z"
   },
   {
    "duration": 330,
    "start_time": "2023-04-22T04:06:43.771Z"
   },
   {
    "duration": 318,
    "start_time": "2023-04-22T04:06:44.103Z"
   },
   {
    "duration": 219,
    "start_time": "2023-04-22T04:06:44.423Z"
   },
   {
    "duration": 318,
    "start_time": "2023-04-22T04:06:44.643Z"
   },
   {
    "duration": 260,
    "start_time": "2023-04-22T04:06:44.963Z"
   },
   {
    "duration": 350,
    "start_time": "2023-04-22T04:06:45.225Z"
   },
   {
    "duration": 146,
    "start_time": "2023-04-22T04:06:45.577Z"
   },
   {
    "duration": 6,
    "start_time": "2023-04-22T04:06:45.725Z"
   },
   {
    "duration": 181,
    "start_time": "2023-04-22T04:06:45.734Z"
   },
   {
    "duration": 184,
    "start_time": "2023-04-22T04:06:45.917Z"
   },
   {
    "duration": 6,
    "start_time": "2023-04-22T04:06:46.104Z"
   },
   {
    "duration": 356,
    "start_time": "2023-04-22T04:06:46.111Z"
   },
   {
    "duration": 164,
    "start_time": "2023-04-22T04:06:46.469Z"
   },
   {
    "duration": 6,
    "start_time": "2023-04-22T04:06:46.635Z"
   },
   {
    "duration": 27,
    "start_time": "2023-04-22T04:06:46.643Z"
   },
   {
    "duration": 22,
    "start_time": "2023-04-22T04:06:46.672Z"
   },
   {
    "duration": 28,
    "start_time": "2023-04-22T04:06:46.698Z"
   },
   {
    "duration": 13,
    "start_time": "2023-04-22T04:06:46.729Z"
   },
   {
    "duration": 13,
    "start_time": "2023-04-22T04:06:46.743Z"
   },
   {
    "duration": 37,
    "start_time": "2023-04-22T04:06:46.757Z"
   },
   {
    "duration": 14,
    "start_time": "2023-04-22T04:06:46.796Z"
   },
   {
    "duration": 23,
    "start_time": "2023-04-22T04:06:46.812Z"
   },
   {
    "duration": 35,
    "start_time": "2023-04-22T04:06:46.837Z"
   },
   {
    "duration": 31,
    "start_time": "2023-04-22T04:06:46.874Z"
   },
   {
    "duration": 13,
    "start_time": "2023-04-22T04:06:46.907Z"
   }
  ],
  "kernelspec": {
   "display_name": "Python 3",
   "language": "python",
   "name": "python3"
  },
  "language_info": {
   "codemirror_mode": {
    "name": "ipython",
    "version": 3
   },
   "file_extension": ".py",
   "mimetype": "text/x-python",
   "name": "python",
   "nbconvert_exporter": "python",
   "pygments_lexer": "ipython3",
   "version": "3.8.3"
  },
  "toc": {
   "base_numbering": 1,
   "nav_menu": {},
   "number_sections": true,
   "sideBar": true,
   "skip_h1_title": true,
   "title_cell": "Table of Contents",
   "title_sidebar": "Contents",
   "toc_cell": false,
   "toc_position": {},
   "toc_section_display": true,
   "toc_window_display": false
  }
 },
 "nbformat": 4,
 "nbformat_minor": 2
}
